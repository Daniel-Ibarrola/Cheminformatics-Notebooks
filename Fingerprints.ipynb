{
 "cells": [
  {
   "cell_type": "code",
   "execution_count": 17,
   "id": "d44d8d6f-85db-40d8-9dfa-1bbe6cb00f4a",
   "metadata": {},
   "outputs": [],
   "source": [
    "from rdkit import Chem, DataStructs\n",
    "from rdkit.Chem.Pharm2D import Gobbi_Pharm2D\n",
    "from rdkit.Chem.Pharm2D.Generate import Gen2DFingerprint\n",
    "\n",
    "import numpy as np"
   ]
  },
  {
   "cell_type": "code",
   "execution_count": 6,
   "id": "96ee87db-c01b-4c96-af60-4cb05434dea8",
   "metadata": {},
   "outputs": [
    {
     "name": "stdout",
     "output_type": "stream",
     "text": [
      "5 molecules\n"
     ]
    }
   ],
   "source": [
    "molecules = Chem.SmilesMolSupplier('./data/molecules.smi',delimiter='\\t',titleLine=False)\n",
    "print(f\"{len(molecules)} molecules\")"
   ]
  },
  {
   "cell_type": "code",
   "execution_count": 18,
   "id": "ebb20bb1-776c-4846-bf1b-1c0102ad3c1b",
   "metadata": {},
   "outputs": [
    {
     "name": "stderr",
     "output_type": "stream",
     "text": [
      "RDKit WARNING: [16:58:37] WARNING: no name column found on line 0\n",
      "[16:58:37] WARNING: no name column found on line 0\n",
      "RDKit WARNING: [16:58:37] WARNING: no name column found on line 1\n",
      "[16:58:37] WARNING: no name column found on line 1\n",
      "RDKit WARNING: [16:58:37] WARNING: no name column found on line 2\n",
      "[16:58:37] WARNING: no name column found on line 2\n",
      "RDKit WARNING: [16:58:37] WARNING: no name column found on line 3\n",
      "[16:58:37] WARNING: no name column found on line 3\n",
      "RDKit WARNING: [16:58:37] WARNING: no name column found on line 4\n",
      "[16:58:37] WARNING: no name column found on line 4\n"
     ]
    }
   ],
   "source": [
    "factory = Gobbi_Pharm2D.factory\n",
    "fps = [Gen2DFingerprint(mol, factory) for mol in molecules]"
   ]
  },
  {
   "cell_type": "code",
   "execution_count": 21,
   "id": "a31472dc-55de-40a1-b311-a97fd03dfb44",
   "metadata": {},
   "outputs": [
    {
     "data": {
      "text/plain": [
       "0.8178571428571428"
      ]
     },
     "execution_count": 21,
     "metadata": {},
     "output_type": "execute_result"
    }
   ],
   "source": [
    "DataStructs.TanimotoSimilarity(fps[0], fps[1])"
   ]
  },
  {
   "cell_type": "code",
   "execution_count": 23,
   "id": "d1a0b967-05f5-4dfa-8655-9b77edd0702e",
   "metadata": {},
   "outputs": [
    {
     "name": "stdout",
     "output_type": "stream",
     "text": [
      "[0.8178571428571428, 0.8178571428571428, 0.7607142857142857, 0.6839285714285714]\n",
      "[0.899803536345776, 0.899803536345776, 0.8640973630831643, 0.8123011664899258]\n"
     ]
    }
   ],
   "source": [
    "# Compare figerprint for first molcule agains the other fingerpritns\n",
    "query = fps[0]\n",
    "\n",
    "print(DataStructs.BulkTanimotoSimilarity(query, fps[1:]))\n",
    "print(DataStructs.BulkDiceSimilarity(query, fps[1:]))"
   ]
  }
 ],
 "metadata": {
  "kernelspec": {
   "display_name": "Python 3 (ipykernel)",
   "language": "python",
   "name": "python3"
  },
  "language_info": {
   "codemirror_mode": {
    "name": "ipython",
    "version": 3
   },
   "file_extension": ".py",
   "mimetype": "text/x-python",
   "name": "python",
   "nbconvert_exporter": "python",
   "pygments_lexer": "ipython3",
   "version": "3.7.10"
  }
 },
 "nbformat": 4,
 "nbformat_minor": 5
}
