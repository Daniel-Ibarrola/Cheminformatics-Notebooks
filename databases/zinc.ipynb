{
 "cells": [
  {
   "cell_type": "code",
   "execution_count": 1,
   "id": "535f9f28-ae1a-415b-9f27-2aa749543735",
   "metadata": {},
   "outputs": [],
   "source": [
    "import requests\n",
    "import string\n",
    "import os"
   ]
  },
  {
   "cell_type": "code",
   "execution_count": 2,
   "id": "d2b11d8f-1e14-4db2-b7b8-a2a764994614",
   "metadata": {},
   "outputs": [
    {
     "name": "stdout",
     "output_type": "stream",
     "text": [
      "{'200': 'A', '250': 'B', '300': 'C', '325': 'D', '350': 'E', '375': 'F', '400': 'G', '425': 'H', '450': 'I', '500': 'J', '>500': 'K'}\n",
      "{'-1': 'A', '0': 'B', '1': 'C', '2': 'D', '2.5': 'E', '3': 'F', '3.5': 'G', '4': 'H', '4.5': 'I', '5': 'J', '>5': 'K'}\n"
     ]
    }
   ],
   "source": [
    "#Download ZINC 2D \n",
    "\n",
    "mw_values = [\"200\", \"250\", \"300\", \"325\", \"350\", \"375\", \"400\", \"425\", \"450\", \"500\", \">500\"]\n",
    "mw_cols = list(string.ascii_uppercase[:11])\n",
    "\n",
    "molecular_weight = dict(zip(mw_values, mw_cols))\n",
    "print(molecular_weight)\n",
    "\n",
    "logp_values = [\"-1\", \"0\", \"1\", \"2\", \"2.5\", \"3\", \"3.5\", \"4\", \"4.5\", \"5\", \">5\"]\n",
    "logp_rows = mw_cols\n",
    "\n",
    "logp = dict(zip(logp_values, logp_rows))\n",
    "print(logp)"
   ]
  },
  {
   "cell_type": "code",
   "execution_count": 7,
   "id": "e4d0fd44-5cab-43e6-aacb-9d240b3d78b1",
   "metadata": {},
   "outputs": [],
   "source": [
    "# Download Smiles\n",
    "def fetch_zinc2D_smiles(mol_weight_range, logp_range, download_path, subset=None):\n",
    "    \n",
    "    if (mol_weight_range is None or logp_range is None) and subset is None:\n",
    "        raise ValueError(\"Missing parameters\")\n",
    "    \n",
    "    # Subsets defined by ZINC\n",
    "    subsets = {\n",
    "        # First tuple is start and end columns, second tuple is start and end rows\n",
    "        \"Drug-Like\": [(1, 9), (0, 9)],\n",
    "        \"Lead-Like\": [(2, 4), (0, 7)],\n",
    "        \"Lugs\": [(4, 8), (0, 7)],\n",
    "        \"Goldilocks\": [(2, 4), (3, 5)],\n",
    "        \"Fragments\": [(0, 1), (0, 6)],\n",
    "        \"Flagments\": [(1, 3), (0, 6)],\n",
    "        \"Big-n-Greasy\": [(9, 10), (8, 10)],\n",
    "        \"Shards\": [(0, 0), [0, 10]]\n",
    "    }\n",
    "\n",
    "    # This are the values that ZINC accepts\n",
    "    mw_values = [200, 250, 300, 325, 350, 375, 400, 425, 450, 500, 550]\n",
    "    logp_values = [-1, 0, 1, 2, 2.5, 3, 3.5, 4, 4.5, 5, 6]\n",
    "    # ZINC molecular weight is categorized in columns from A to K\n",
    "    mw_cols = list(string.ascii_uppercase[:11])\n",
    "    # LogP is categorized in rows from A to K\n",
    "    logp_rows = mw_cols\n",
    "    \n",
    "    molecular_weight = dict(zip(mw_values, mw_cols))\n",
    "    logp = dict(zip(logp_values, logp_rows))\n",
    "    \n",
    "    if subset is None:\n",
    "        mw_lower_bound, mw_upper_bound = mol_weight_range\n",
    "        logp_lower_bound, logp_upper_bound = logp_range\n",
    "        \n",
    "        # Discretize mol weight and logp values:\n",
    "        mw_lower_bound = discretize_values(mw_lower_bound, mw_values, \"Molecular weight\")\n",
    "        mw_upper_bound = discretize_values(mw_upper_bound, mw_values, \"Molecular weight\", lower=False)\n",
    "        logp_lower_bound = discretize_values(logp_lower_bound, logp_values, \"LogP\")\n",
    "        logp_upper_bound = discretize_values(logp_upper_bound, logp_values, \"LogP\", lower=False)\n",
    "\n",
    "        start_col = mw_cols.index(molecular_weight[mw_lower_bound])\n",
    "        end_col = mw_cols.index(molecular_weight[mw_upper_bound]) \n",
    "       \n",
    "        start_row = logp_rows.index(logp[logp_lower_bound])\n",
    "        end_row = logp_rows.index(logp[logp_upper_bound])\n",
    "    else:\n",
    "        start_col, end_col = subsets[subset][0]\n",
    "        start_row, end_row = subsets[subset][1]\n",
    "    \n",
    "    col_list = mw_cols[start_col:end_col + 1]\n",
    "    row_list = logp_rows[start_row:end_row + 1]\n",
    "    \n",
    "    base_url = \"http://files.docking.org/2D/\"\n",
    "    # Get urls and download files\n",
    "    for col in col_list:\n",
    "        for row in row_list:\n",
    "            tranch = col + row\n",
    "            url = base_url + tranch + \"/\" + tranch\n",
    "            # Each tranch is divided into various files from A to E\n",
    "            for f in [\"A\", \"B\", \"C\", \"E\"]:\n",
    "                for j in [\"A\", \"B\"]:\n",
    "                    url_download = url + f + j + \".smi\"\n",
    "                    try:\n",
    "                        r = requests.get(url_download, allow_redirects=True)\n",
    "                    except:\n",
    "                        print(\"Could not download file from {}\".format(url_download))\n",
    "                    \n",
    "                    file_name = tranch + f + j + \".smi\"\n",
    "                    file_path = os.path.join(download_path, file_name)\n",
    "                    with open(file_path, \"wb\") as file:\n",
    "                        file.write(r.content)\n",
    "                "
   ]
  },
  {
   "cell_type": "code",
   "execution_count": 9,
   "id": "a87dac15-a104-4bcd-8d30-974c496b6cbf",
   "metadata": {},
   "outputs": [],
   "source": [
    "path = \"./zinc\"\n",
    "fetch_zinc2D_smiles(mol_weight_range=(300, 350), logp_range=(2, 3), download_path=path, subset=\"Goldilocks\")"
   ]
  },
  {
   "cell_type": "code",
   "execution_count": 75,
   "id": "85ecd6ed-6851-4a6c-998d-12ba27a56036",
   "metadata": {},
   "outputs": [
    {
     "name": "stdout",
     "output_type": "stream",
     "text": [
      "200\n",
      "350\n",
      "1\n",
      "4\n"
     ]
    }
   ],
   "source": [
    "def ZINC(download_path, subset=\"Lead-Like\", mol_weight_range=None, logp_range=None):\n",
    "    \n",
    "    if (mol_weight_range is None or logp_range is None) and subset is None:\n",
    "        raise ValueError(\"Missing parameters\")\n",
    "\n",
    "    if len(mol_weight_range) > 2 or len(logp_range) > 2:\n",
    "        raise ValueError(\"Range only takes two numbers\")\n",
    "    \n",
    "    mw_lower_bound, mw_upper_bound = mol_weight_range\n",
    "    logp_lower_bound, logp_upper_bound = logp_range\n",
    "    \n",
    "    mw_values = [200, 250, 300, 325, 350, 375, 400, 425, 450, 500, 550]\n",
    "    logp_values = [-1, 0, 1, 2, 2.5, 3, 3.5, 4, 4.5, 5, 6]\n",
    "    \n",
    "    # Discretize mol weight and logp values:\n",
    "    mw_lower_bound = discretize_values(mw_lower_bound, mw_values, \"Molecular weight\")\n",
    "    mw_upper_bound = discretize_values(mw_upper_bound, mw_values, \"Molecular weight\", lower=False)\n",
    "    logp_lower_bound = discretize_values(logp_lower_bound, logp_values, \"LogP\")\n",
    "    logp_upper_bound = discretize_values(logp_upper_bound, logp_values, \"LogP\", lower=False)\n",
    "    \n",
    "    print(mw_lower_bound)\n",
    "    print(mw_upper_bound)\n",
    "    print(logp_lower_bound)\n",
    "    print(logp_upper_bound)\n",
    "    \n",
    "ZINC(download_path=\"./\", subset=None, mol_weight_range=(215, 334), logp_range=(1.25, 3.75))"
   ]
  },
  {
   "cell_type": "code",
   "execution_count": 74,
   "id": "2e807a91-a6c2-4be6-b8bf-7b0736b2ebc0",
   "metadata": {},
   "outputs": [],
   "source": [
    "def discretize_values(value, bins, name, lower=True):\n",
    "    \n",
    "    for i in range(len(bins) - 1):\n",
    "        if value < bins[0]:\n",
    "            raise ValueError(\"{} must be at least {}\".format(name, bins[0]))\n",
    "        elif value >= bins[-1]:\n",
    "            value = bins[-1]\n",
    "        if value > bins[i] and value < bins[i + 1]:\n",
    "            if lower:\n",
    "                value = bins[i]\n",
    "            else:\n",
    "                value = bins[i + 1]\n",
    "\n",
    "    return value"
   ]
  },
  {
   "cell_type": "code",
   "execution_count": 80,
   "id": "9a8369fc-c25f-4289-b1e6-a4cacfa4561c",
   "metadata": {},
   "outputs": [
    {
     "name": "stdout",
     "output_type": "stream",
     "text": [
      "total 96\n",
      "-rw-rw-r-- 1 daniel daniel  6712 sep  7 18:55 chembl.ipynb\n",
      "-rw-rw-r-- 1 daniel daniel  2880 sep  8 09:47 goldilocks_inStock.uri\n",
      "-rw-rw-r-- 1 daniel daniel 58866 sep  8 08:35 mols.smi\n",
      "-rw-rw-r-- 1 daniel daniel    72 sep  7 17:29 pubchem.ipynb\n",
      "drwxrwxr-x 3 daniel daniel  4096 sep  8 09:37 zinc\n",
      "-rw-rw-r-- 1 daniel daniel  2880 sep  7 19:27 ZINC-downloader-2D-smi.uri\n",
      "-rw-rw-r-- 1 daniel daniel  8649 sep  8 11:18 zinc.ipynb\n"
     ]
    }
   ],
   "source": [
    "!ls -l "
   ]
  },
  {
   "cell_type": "code",
   "execution_count": 89,
   "id": "5a77d36c-ba6d-4baf-af86-efb63474aaf2",
   "metadata": {},
   "outputs": [
    {
     "data": {
      "text/plain": [
       "True"
      ]
     },
     "execution_count": 89,
     "metadata": {},
     "output_type": "execute_result"
    }
   ],
   "source": [
    "file_wait_ok = \"./ZINC-downloader-2D-smi.uri\"\n",
    "file_in_stock = \"./goldilocks_inStock.uri\"\n",
    "\n",
    "with open(file_wait_ok, \"r\") as f:\n",
    "    urls_ok = f.read()\n",
    "\n",
    "with open(file_in_stock, \"r\") as f:\n",
    "    urls_stock = f.read()\n",
    "    \n",
    "urls_ok == urls_stock"
   ]
  },
  {
   "cell_type": "code",
   "execution_count": 90,
   "id": "0d4f5bd5-a02c-4e9d-b4c5-ac08fbb259e7",
   "metadata": {},
   "outputs": [
    {
     "data": {
      "text/plain": [
       "True"
      ]
     },
     "execution_count": 90,
     "metadata": {},
     "output_type": "execute_result"
    }
   ],
   "source": [
    "smi_wait_ok = \"./wait_ok.smi\"\n",
    "smi_in_stock = \"./in_stock.smi\"\n",
    "\n",
    "with open(smi_wait_ok, \"r\") as f:\n",
    "    smi_ok = f.readlines()\n",
    "\n",
    "with open(smi_in_stock, \"r\") as f:\n",
    "    smi_stock = f.readlines()\n",
    "    \n",
    "len(smi_ok) == len(smi_stock)"
   ]
  }
 ],
 "metadata": {
  "kernelspec": {
   "display_name": "Python 3 (ipykernel)",
   "language": "python",
   "name": "python3"
  },
  "language_info": {
   "codemirror_mode": {
    "name": "ipython",
    "version": 3
   },
   "file_extension": ".py",
   "mimetype": "text/x-python",
   "name": "python",
   "nbconvert_exporter": "python",
   "pygments_lexer": "ipython3",
   "version": "3.7.10"
  }
 },
 "nbformat": 4,
 "nbformat_minor": 5
}
