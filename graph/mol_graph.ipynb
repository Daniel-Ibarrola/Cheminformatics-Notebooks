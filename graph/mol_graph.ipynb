{
 "cells": [
  {
   "cell_type": "code",
   "execution_count": 1,
   "id": "ef50eff3-e658-4117-9b97-e20c7774ca68",
   "metadata": {},
   "outputs": [
    {
     "data": {
      "application/vnd.jupyter.widget-view+json": {
       "model_id": "943bada57baf4875b98b3121e412d911",
       "version_major": 2,
       "version_minor": 0
      },
      "text/plain": []
     },
     "metadata": {},
     "output_type": "display_data"
    }
   ],
   "source": [
    "%matplotlib inline\n",
    "import molsysmt as msm\n",
    "import networkx as nx\n",
    "import numpy as np\n",
    "import numpy.linalg as LA\n",
    "from numpy import copy\n",
    "import matplotlib.pyplot as plt \n",
    "import pandas as pd\n",
    "from pylab import *"
   ]
  },
  {
   "cell_type": "markdown",
   "id": "5e9b7aa9-a0ec-4edc-bb24-16f0900a8a4e",
   "metadata": {},
   "source": [
    "### Loading and preprocessing the molecular system"
   ]
  },
  {
   "cell_type": "code",
   "execution_count": 2,
   "id": "8c39085d-05d1-4763-ab0e-80233ad179c0",
   "metadata": {},
   "outputs": [
    {
     "name": "stderr",
     "output_type": "stream",
     "text": [
      "/Users/danielibarrola/Documents/molsys/MolSys_v0.1/MolSysMT/molsysmt/native/io/topology/classes/mmtf_MMTFDecoder.py:43: UserWarning: The structure in the PDB has biological assemblies. There are geometrical transformations proposed in the structure. See the following issue in the source code repository: https://github.com/uibcdf/MolSysMT/issues/33\n",
      "  warnings.warn(warning_message)\n"
     ]
    },
    {
     "data": {
      "text/html": [
       "<style  type=\"text/css\" >\n",
       "</style><table id=\"T_8ab9d_\" ><thead>    <tr>        <th class=\"col_heading level0 col0\" >index</th>        <th class=\"col_heading level0 col1\" >n atoms</th>        <th class=\"col_heading level0 col2\" >n groups</th>        <th class=\"col_heading level0 col3\" >chain index</th>        <th class=\"col_heading level0 col4\" >molecule index</th>        <th class=\"col_heading level0 col5\" >molecule type</th>        <th class=\"col_heading level0 col6\" >entity index</th>        <th class=\"col_heading level0 col7\" >entity name</th>    </tr></thead><tbody>\n",
       "                <tr>\n",
       "                                <td id=\"T_8ab9d_row0_col0\" class=\"data row0 col0\" >0</td>\n",
       "                        <td id=\"T_8ab9d_row0_col1\" class=\"data row0 col1\" >3848</td>\n",
       "                        <td id=\"T_8ab9d_row0_col2\" class=\"data row0 col2\" >248</td>\n",
       "                        <td id=\"T_8ab9d_row0_col3\" class=\"data row0 col3\" >0</td>\n",
       "                        <td id=\"T_8ab9d_row0_col4\" class=\"data row0 col4\" >0</td>\n",
       "                        <td id=\"T_8ab9d_row0_col5\" class=\"data row0 col5\" >protein</td>\n",
       "                        <td id=\"T_8ab9d_row0_col6\" class=\"data row0 col6\" >0</td>\n",
       "                        <td id=\"T_8ab9d_row0_col7\" class=\"data row0 col7\" >Protein_0</td>\n",
       "            </tr>\n",
       "            <tr>\n",
       "                                <td id=\"T_8ab9d_row1_col0\" class=\"data row1 col0\" >1</td>\n",
       "                        <td id=\"T_8ab9d_row1_col1\" class=\"data row1 col1\" >3859</td>\n",
       "                        <td id=\"T_8ab9d_row1_col2\" class=\"data row1 col2\" >249</td>\n",
       "                        <td id=\"T_8ab9d_row1_col3\" class=\"data row1 col3\" >1</td>\n",
       "                        <td id=\"T_8ab9d_row1_col4\" class=\"data row1 col4\" >1</td>\n",
       "                        <td id=\"T_8ab9d_row1_col5\" class=\"data row1 col5\" >protein</td>\n",
       "                        <td id=\"T_8ab9d_row1_col6\" class=\"data row1 col6\" >1</td>\n",
       "                        <td id=\"T_8ab9d_row1_col7\" class=\"data row1 col7\" >Protein_1</td>\n",
       "            </tr>\n",
       "    </tbody></table>"
      ],
      "text/plain": [
       "<pandas.io.formats.style.Styler at 0x7ffea433ee90>"
      ]
     },
     "execution_count": 2,
     "metadata": {},
     "output_type": "execute_result"
    }
   ],
   "source": [
    "mol_system = msm.convert(\"1TCD\", \"molsysmt.MolSys\")\n",
    "mol_system = msm.remove_solvent(mol_system, water=True, ions=True)\n",
    "mol_system = msm.add_missing_hydrogens(mol_system, pH=7.4)\n",
    "msm.info(mol_system, target=\"component\")"
   ]
  },
  {
   "cell_type": "markdown",
   "id": "8e0c655e-f111-47fc-8c0c-85a3a1397725",
   "metadata": {},
   "source": [
    "### Creating a multigraph for the molecular system\n",
    "The graph includes atom names as node data, and distances and angles as edge data"
   ]
  },
  {
   "cell_type": "code",
   "execution_count": 3,
   "id": "d71f6b91-fea9-4c4d-a70d-a07b2bde2004",
   "metadata": {},
   "outputs": [],
   "source": [
    "def get_bond_lenght(bonded_atoms, coordinates, indices, cero_indx=True):\n",
    "    \"\"\"Computes ths distance between bonded atoms\"\"\"\n",
    "    distance = np.zeros(bonded_atoms.shape[0]) # initialize distance array\n",
    "    coordinates = np.array(coordinates[0,:,:]) # convert to array to avoid error in numpy norm function\n",
    "    \n",
    "    bonded_atoms_copy = copy(bonded_atoms) # create a coppy of the array so it's not modified\n",
    "    \n",
    "    if not cero_indx:\n",
    "       \n",
    "        indx_dict = {value:index for index,value in enumerate(indices)} # dictionary with keys as the array value and values as the array index\n",
    "        for k, v in indx_dict.items(): bonded_atoms_copy[bonded_atoms==k] = v\n",
    "    \n",
    "    coords_between_bonded_atoms = coordinates[bonded_atoms_copy] #matrix with pairs of coordiantes between bonded atoms\n",
    "    bond_vectors = np.diff(coords_between_bonded_atoms, axis=1) #compute vectors for each pair of coordinates\n",
    "\n",
    "    distance = LA.norm(bond_vectors, axis=-1)\n",
    "    \n",
    "    return distance\n"
   ]
  },
  {
   "cell_type": "code",
   "execution_count": 4,
   "id": "dfedee93-bfa3-45d1-9db9-e8f159aa9b01",
   "metadata": {},
   "outputs": [],
   "source": [
    "def molecular_graph(molecular_system, selection='all'):\n",
    "    \"\"\"\n",
    "       Transform a molecular system to a Networkx multigraph.\n",
    "       Nodes are named by atom indices and they contain atom names as data.\n",
    "       Edges represent bonds and they contain bond lenght and bond angle.\n",
    "    \"\"\"\n",
    "    Graph = nx.MultiGraph()\n",
    "\n",
    "    indices, types, names, bonded_atoms, coords = msm.get(molecular_system, selection=selection, target=\"atom\", \n",
    "                                           atom_index=True, atom_type=True, name=True, inner_bonded_atoms=True, coordinates=True)\n",
    "    cero_indx = True\n",
    "    if not selection == 'all' or not selection == 'molecule_index==0':\n",
    "        cero_indx = False #If selection isn't 'all' the indices array will not start at 0, causing an error in the distance function\n",
    "    \n",
    "    distances = get_bond_lenght(bonded_atoms, coords, indices, cero_indx=cero_indx)\n",
    "    \n",
    "    # print(coords.shape)\n",
    "    \n",
    "    for i in range(len(indices)):\n",
    "        Graph.add_node(indices[i], atom_name=names[i], atom_type=types[i], coordinates=coords[0, i, :])\n",
    "        Graph.add_edge(bonded_atoms[i,0], bonded_atoms[i,1], distance=distances[i][0])\n",
    "    \n",
    "    return Graph\n",
    " "
   ]
  },
  {
   "cell_type": "code",
   "execution_count": 5,
   "id": "9649e411-10b7-4211-b8df-d160c28185b7",
   "metadata": {},
   "outputs": [
    {
     "name": "stderr",
     "output_type": "stream",
     "text": [
      "/Users/danielibarrola/miniconda3/envs/openpharmacophore/lib/python3.7/site-packages/ipykernel_launcher.py:4: UnitStrippedWarning: The unit of the quantity is stripped when downcasting to ndarray.\n",
      "  after removing the cwd from sys.path.\n"
     ]
    }
   ],
   "source": [
    "graph = molecular_graph(mol_system, selection='molecule_index==0')"
   ]
  },
  {
   "cell_type": "code",
   "execution_count": 6,
   "id": "2acaca2e-788c-46d8-b64e-f48a221feebf",
   "metadata": {},
   "outputs": [
    {
     "name": "stdout",
     "output_type": "stream",
     "text": [
      "Number of nodes: 3848\n",
      "Number of edges: 3848\n",
      "{'atom_name': 'N', 'atom_type': 'N', 'coordinates': <Quantity([1.84669995 2.76379991 8.36610031], 'nanometer')>}\n",
      "{'atom_name': 'H', 'atom_type': 'H', 'coordinates': <Quantity([1.93230224 2.77239203 8.44974422], 'nanometer')>}\n",
      "{'distance': 0.11999116567518396}\n"
     ]
    }
   ],
   "source": [
    "print(\"Number of nodes: {}\".format(len(graph.nodes())))\n",
    "print(\"Number of edges: {}\".format(len(graph.edges())))\n",
    "# Print a sample of the nodes and edges\n",
    "print(graph.nodes[0])\n",
    "print(graph.nodes[1])\n",
    "print(graph[1][0][0])"
   ]
  },
  {
   "cell_type": "markdown",
   "id": "0c2eb91c-3393-4952-a23e-4f76b8a49ecd",
   "metadata": {},
   "source": [
    "## Graph of a smaller molecule"
   ]
  },
  {
   "cell_type": "code",
   "execution_count": 7,
   "id": "16361d80-e50a-4359-9768-4fc4bb0253b1",
   "metadata": {},
   "outputs": [
    {
     "name": "stderr",
     "output_type": "stream",
     "text": [
      "/Users/danielibarrola/Documents/molsys/MolSys_v0.1/MolSysMT/molsysmt/native/io/topology/classes/mmtf_MMTFDecoder.py:43: UserWarning: The structure in the PDB has biological assemblies. There are geometrical transformations proposed in the structure. See the following issue in the source code repository: https://github.com/uibcdf/MolSysMT/issues/33\n",
      "  warnings.warn(warning_message)\n"
     ]
    },
    {
     "data": {
      "text/html": [
       "<style  type=\"text/css\" >\n",
       "</style><table id=\"T_079a1_\" ><thead>    <tr>        <th class=\"col_heading level0 col0\" >index</th>        <th class=\"col_heading level0 col1\" >n atoms</th>        <th class=\"col_heading level0 col2\" >n groups</th>        <th class=\"col_heading level0 col3\" >chain index</th>        <th class=\"col_heading level0 col4\" >molecule index</th>        <th class=\"col_heading level0 col5\" >molecule type</th>        <th class=\"col_heading level0 col6\" >entity index</th>        <th class=\"col_heading level0 col7\" >entity name</th>    </tr></thead><tbody>\n",
       "                <tr>\n",
       "                                <td id=\"T_079a1_row0_col0\" class=\"data row0 col0\" >0</td>\n",
       "                        <td id=\"T_079a1_row0_col1\" class=\"data row0 col1\" >4489</td>\n",
       "                        <td id=\"T_079a1_row0_col2\" class=\"data row0 col2\" >285</td>\n",
       "                        <td id=\"T_079a1_row0_col3\" class=\"data row0 col3\" >0</td>\n",
       "                        <td id=\"T_079a1_row0_col4\" class=\"data row0 col4\" >0</td>\n",
       "                        <td id=\"T_079a1_row0_col5\" class=\"data row0 col5\" >protein</td>\n",
       "                        <td id=\"T_079a1_row0_col6\" class=\"data row0 col6\" >0</td>\n",
       "                        <td id=\"T_079a1_row0_col7\" class=\"data row0 col7\" >Protein_0</td>\n",
       "            </tr>\n",
       "            <tr>\n",
       "                                <td id=\"T_079a1_row1_col0\" class=\"data row1 col0\" >1</td>\n",
       "                        <td id=\"T_079a1_row1_col1\" class=\"data row1 col1\" >7571</td>\n",
       "                        <td id=\"T_079a1_row1_col2\" class=\"data row1 col2\" >490</td>\n",
       "                        <td id=\"T_079a1_row1_col3\" class=\"data row1 col3\" >1</td>\n",
       "                        <td id=\"T_079a1_row1_col4\" class=\"data row1 col4\" >1</td>\n",
       "                        <td id=\"T_079a1_row1_col5\" class=\"data row1 col5\" >protein</td>\n",
       "                        <td id=\"T_079a1_row1_col6\" class=\"data row1 col6\" >1</td>\n",
       "                        <td id=\"T_079a1_row1_col7\" class=\"data row1 col7\" >Protein_1</td>\n",
       "            </tr>\n",
       "            <tr>\n",
       "                                <td id=\"T_079a1_row2_col0\" class=\"data row2 col0\" >2</td>\n",
       "                        <td id=\"T_079a1_row2_col1\" class=\"data row2 col1\" >104</td>\n",
       "                        <td id=\"T_079a1_row2_col2\" class=\"data row2 col2\" >7</td>\n",
       "                        <td id=\"T_079a1_row2_col3\" class=\"data row2 col3\" >3</td>\n",
       "                        <td id=\"T_079a1_row2_col4\" class=\"data row2 col4\" >2</td>\n",
       "                        <td id=\"T_079a1_row2_col5\" class=\"data row2 col5\" >peptide</td>\n",
       "                        <td id=\"T_079a1_row2_col6\" class=\"data row2 col6\" >2</td>\n",
       "                        <td id=\"T_079a1_row2_col7\" class=\"data row2 col7\" >Peptide_0</td>\n",
       "            </tr>\n",
       "            <tr>\n",
       "                                <td id=\"T_079a1_row3_col0\" class=\"data row3 col0\" >3</td>\n",
       "                        <td id=\"T_079a1_row3_col1\" class=\"data row3 col1\" >332</td>\n",
       "                        <td id=\"T_079a1_row3_col2\" class=\"data row3 col2\" >22</td>\n",
       "                        <td id=\"T_079a1_row3_col3\" class=\"data row3 col3\" >3</td>\n",
       "                        <td id=\"T_079a1_row3_col4\" class=\"data row3 col4\" >3</td>\n",
       "                        <td id=\"T_079a1_row3_col5\" class=\"data row3 col5\" >peptide</td>\n",
       "                        <td id=\"T_079a1_row3_col6\" class=\"data row3 col6\" >3</td>\n",
       "                        <td id=\"T_079a1_row3_col7\" class=\"data row3 col7\" >Peptide_1</td>\n",
       "            </tr>\n",
       "            <tr>\n",
       "                                <td id=\"T_079a1_row4_col0\" class=\"data row4 col0\" >4</td>\n",
       "                        <td id=\"T_079a1_row4_col1\" class=\"data row4 col1\" >27</td>\n",
       "                        <td id=\"T_079a1_row4_col2\" class=\"data row4 col2\" >1</td>\n",
       "                        <td id=\"T_079a1_row4_col3\" class=\"data row4 col3\" >4</td>\n",
       "                        <td id=\"T_079a1_row4_col4\" class=\"data row4 col4\" >4</td>\n",
       "                        <td id=\"T_079a1_row4_col5\" class=\"data row4 col5\" >small molecule</td>\n",
       "                        <td id=\"T_079a1_row4_col6\" class=\"data row4 col6\" >4</td>\n",
       "                        <td id=\"T_079a1_row4_col7\" class=\"data row4 col7\" >W11</td>\n",
       "            </tr>\n",
       "            <tr>\n",
       "                                <td id=\"T_079a1_row5_col0\" class=\"data row5 col0\" >5</td>\n",
       "                        <td id=\"T_079a1_row5_col1\" class=\"data row5 col1\" >15</td>\n",
       "                        <td id=\"T_079a1_row5_col2\" class=\"data row5 col2\" >1</td>\n",
       "                        <td id=\"T_079a1_row5_col3\" class=\"data row5 col3\" >5</td>\n",
       "                        <td id=\"T_079a1_row5_col4\" class=\"data row5 col4\" >5</td>\n",
       "                        <td id=\"T_079a1_row5_col5\" class=\"data row5 col5\" >small molecule</td>\n",
       "                        <td id=\"T_079a1_row5_col6\" class=\"data row5 col6\" >5</td>\n",
       "                        <td id=\"T_079a1_row5_col7\" class=\"data row5 col7\" >MYR</td>\n",
       "            </tr>\n",
       "    </tbody></table>"
      ],
      "text/plain": [
       "<pandas.io.formats.style.Styler at 0x7ffea727cf90>"
      ]
     },
     "execution_count": 7,
     "metadata": {},
     "output_type": "execute_result"
    }
   ],
   "source": [
    "molecular_system_2 = msm.convert('1NCR', 'molsysmt.MolSys')\n",
    "molecular_system_2 = msm.remove_solvent(molecular_system_2, water=True, ions=True)\n",
    "molecular_system_2 = msm.add_missing_hydrogens(molecular_system_2, pH=7.4)\n",
    "msm.info(molecular_system_2, target='component')"
   ]
  },
  {
   "cell_type": "code",
   "execution_count": 41,
   "id": "d75b2f5d-a408-4bc4-8b36-4fcc821eb24c",
   "metadata": {},
   "outputs": [
    {
     "name": "stderr",
     "output_type": "stream",
     "text": [
      "/Users/danielibarrola/miniconda3/envs/openpharmacophore/lib/python3.7/site-packages/ipykernel_launcher.py:4: UnitStrippedWarning: The unit of the quantity is stripped when downcasting to ndarray.\n",
      "  after removing the cwd from sys.path.\n"
     ]
    }
   ],
   "source": [
    "mol_graph = molecular_graph(molecular_system_2, selection='entity_name==\"W11\"')"
   ]
  },
  {
   "cell_type": "code",
   "execution_count": 42,
   "id": "d0b837c0-69ee-4129-885b-89a5cc173629",
   "metadata": {},
   "outputs": [
    {
     "data": {
      "text/plain": [
       "NodeDataView({12496: {'atom_name': 'O1', 'atom_type': 'O', 'coordinates': <Quantity([ 3.88779998  0.39070001 12.4467001 ], 'nanometer')>}, 12497: {'atom_name': 'N2', 'atom_type': 'N', 'coordinates': <Quantity([ 3.77029991  0.47659999 12.48340034], 'nanometer')>}, 12498: {'atom_name': 'C3', 'atom_type': 'C', 'coordinates': <Quantity([ 3.70569992  0.50120002 12.37040043], 'nanometer')>}, 12499: {'atom_name': 'CM3', 'atom_type': 'C', 'coordinates': <Quantity([ 3.58270001  0.58609998 12.38150024], 'nanometer')>}, 12500: {'atom_name': 'C4', 'atom_type': 'C', 'coordinates': <Quantity([ 3.76990008  0.4393     12.26089954], 'nanometer')>}, 12501: {'atom_name': 'C5', 'atom_type': 'C', 'coordinates': <Quantity([ 3.88089991  0.37189999 12.30770016], 'nanometer')>}, 12502: {'atom_name': 'C1C', 'atom_type': 'C', 'coordinates': <Quantity([ 3.98880005  0.28819999 12.24479961], 'nanometer')>}, 12503: {'atom_name': 'C2C', 'atom_type': 'C', 'coordinates': <Quantity([ 4.12060022  0.33829999 12.29880047], 'nanometer')>}, 12504: {'atom_name': 'C3C', 'atom_type': 'C', 'coordinates': <Quantity([ 4.23260021  0.2622     12.23830032], 'nanometer')>}, 12505: {'atom_name': 'O1B', 'atom_type': 'O', 'coordinates': <Quantity([ 4.26800013  0.1753     12.34449959], 'nanometer')>}, 12506: {'atom_name': 'C1B', 'atom_type': 'C', 'coordinates': <Quantity([ 4.3435998   0.0585     12.30790043], 'nanometer')>}, 12507: {'atom_name': 'C2B', 'atom_type': 'C', 'coordinates': <Quantity([ 4.48780012  0.0704     12.30500031], 'nanometer')>}, 12508: {'atom_name': 'CM2', 'atom_type': 'C', 'coordinates': <Quantity([ 4.546       0.2006     12.34210014], 'nanometer')>}, 12509: {'atom_name': 'C3B', 'atom_type': 'C', 'coordinates': <Quantity([ 4.57719994 -0.0312     12.26889992], 'nanometer')>}, 12510: {'atom_name': 'C4B', 'atom_type': 'C', 'coordinates': <Quantity([ 4.51940012 -0.1564     12.23270035], 'nanometer')>}, 12511: {'atom_name': 'C5B', 'atom_type': 'C', 'coordinates': <Quantity([ 4.3755002  -0.18359999 12.23270035], 'nanometer')>}, 12512: {'atom_name': 'C6B', 'atom_type': 'C', 'coordinates': <Quantity([ 4.28679991 -0.0745     12.27120018], 'nanometer')>}, 12513: {'atom_name': 'CM6', 'atom_type': 'C', 'coordinates': <Quantity([ 4.13700008 -0.111      12.26809978], 'nanometer')>}, 12514: {'atom_name': 'C2A', 'atom_type': 'C', 'coordinates': <Quantity([ 4.61170006 -0.26199999 12.19069958], 'nanometer')>}, 12515: {'atom_name': 'N1A', 'atom_type': 'N', 'coordinates': <Quantity([ 4.57980013 -0.36500001 12.09939957], 'nanometer')>}, 12516: {'atom_name': 'N3A', 'atom_type': 'N', 'coordinates': <Quantity([ 4.74510002 -0.2683     12.23830032], 'nanometer')>}, 12517: {'atom_name': 'C3A', 'atom_type': 'C', 'coordinates': <Quantity([ 4.79540014 -0.38240001 12.17090034], 'nanometer')>}, 12518: {'atom_name': 'CM4', 'atom_type': 'C', 'coordinates': <Quantity([ 4.93540001 -0.4307     12.1885004 ], 'nanometer')>}, 12519: {'atom_name': 'O1A', 'atom_type': 'O', 'coordinates': <Quantity([ 4.70959997 -0.45109999 12.08469963], 'nanometer')>}, 12520: {'atom_name': 'F1', 'atom_type': 'F', 'coordinates': <Quantity([ 4.97380018 -0.33050001 12.27929974], 'nanometer')>}, 12521: {'atom_name': 'F2', 'atom_type': 'F', 'coordinates': <Quantity([ 5.0236001  -0.43169999 12.08759975], 'nanometer')>}, 12522: {'atom_name': 'F3', 'atom_type': 'F', 'coordinates': <Quantity([ 4.92810011 -0.55180001 12.24629974], 'nanometer')>}})"
      ]
     },
     "execution_count": 42,
     "metadata": {},
     "output_type": "execute_result"
    }
   ],
   "source": [
    "mol_graph.nodes(data=True)"
   ]
  },
  {
   "cell_type": "code",
   "execution_count": 43,
   "id": "c7b90415-d755-47e7-9bb3-d01cefe1f4ec",
   "metadata": {},
   "outputs": [
    {
     "data": {
      "text/plain": [
       "MultiEdgeDataView([(12496, 12497, {'distance': 0.15010656319710355}), (12496, 12501, {'distance': 0.14043516221864846}), (12497, 12498, {'distance': 0.13246622692921933}), (12498, 12499, {'distance': 0.14986722940284633}), (12498, 12500, {'distance': 0.14122222617155478}), (12500, 12501, {'distance': 0.13803629658011365}), (12501, 12502, {'distance': 0.1503482934128357}), (12502, 12503, {'distance': 0.15098803996110333}), (12503, 12504, {'distance': 0.14830871089804298}), (12504, 12505, {'distance': 0.14171466738779773}), (12505, 12506, {'distance': 0.14386469082622197}), (12506, 12507, {'distance': 0.14471957178289618}), (12506, 12512, {'distance': 0.14920501315636975}), (12507, 12508, {'distance': 0.1473623559884321}), (12507, 12509, {'distance': 0.14006471570304158}), (12509, 12510, {'distance': 0.14257021629211808}), (12510, 12511, {'distance': 0.14644803243576446}), (12510, 12514, {'distance': 0.14640595342950616}), (12511, 12512, {'distance': 0.1457833580717006}), (12512, 12513, {'distance': 0.15421364923402484}), (12514, 12515, {'distance': 0.1412880055693163}), (12514, 12516, {'distance': 0.1417782468978431}), (12515, 12519, {'distance': 0.15645221079026148}), (12516, 12517, {'distance': 0.14174509312146624}), (12517, 12518, {'distance': 0.14913958066810637}), (12517, 12519, {'distance': 0.13968507608378636}), (12518, 12520, {'distance': 0.1405671775899869})])"
      ]
     },
     "execution_count": 43,
     "metadata": {},
     "output_type": "execute_result"
    }
   ],
   "source": [
    "mol_graph.edges(data=True)"
   ]
  },
  {
   "cell_type": "code",
   "execution_count": 44,
   "id": "7c56cf51-1030-4d23-b26c-6fca184a0b48",
   "metadata": {},
   "outputs": [
    {
     "name": "stdout",
     "output_type": "stream",
     "text": [
      "Number of nodes: 27\n",
      "Number of edges: 27\n"
     ]
    }
   ],
   "source": [
    "print(\"Number of nodes: {}\".format(len(mol_graph.nodes())))\n",
    "print(\"Number of edges: {}\".format(len(mol_graph.edges())))"
   ]
  },
  {
   "cell_type": "code",
   "execution_count": 45,
   "id": "e66efb23-4d54-446c-a265-593b768ea87f",
   "metadata": {},
   "outputs": [
    {
     "name": "stdout",
     "output_type": "stream",
     "text": [
      "{'atom_name': 'F1', 'atom_type': 'F', 'coordinates': <Quantity([ 4.97380018 -0.33050001 12.27929974], 'nanometer')>}\n",
      "{'atom_name': 'F2', 'atom_type': 'F', 'coordinates': <Quantity([ 5.0236001  -0.43169999 12.08759975], 'nanometer')>}\n",
      "{'atom_name': 'F3', 'atom_type': 'F', 'coordinates': <Quantity([ 4.92810011 -0.55180001 12.24629974], 'nanometer')>}\n"
     ]
    }
   ],
   "source": [
    "print(mol_graph.nodes[12520])\n",
    "# Two of the fluorine atoms are not bonded\n",
    "print(mol_graph.nodes[12521])\n",
    "print(mol_graph.nodes[12522])"
   ]
  },
  {
   "cell_type": "code",
   "execution_count": 46,
   "id": "6184bf1b-eb86-46e3-bb87-bda8c4fc8c7c",
   "metadata": {},
   "outputs": [
    {
     "data": {
      "image/png": "[encoded data removed]",
      "text/plain": [
       "<Figure size 1080x720 with 1 Axes>"
      ]
     },
     "metadata": {},
     "output_type": "display_data"
    }
   ],
   "source": [
    "# Add the missing bonds\n",
    "mol_graph.add_edge(12521, 12518)\n",
    "mol_graph.add_edge(12522, 12518)\n",
    "\n",
    "fig, ax = plt.subplots(figsize=(15,10))\n",
    "nx.draw(mol_graph, with_labels=True, ax=ax)\n",
    "show()"
   ]
  },
  {
   "cell_type": "code",
   "execution_count": 47,
   "id": "1bfc32cb-db24-4e71-a494-ed938975f156",
   "metadata": {},
   "outputs": [
    {
     "data": {
      "text/plain": [
       "MultiDegreeView({12496: 2, 12497: 2, 12498: 3, 12499: 1, 12500: 2, 12501: 3, 12502: 2, 12503: 2, 12504: 2, 12505: 2, 12506: 3, 12507: 3, 12508: 1, 12509: 2, 12510: 3, 12511: 2, 12512: 3, 12513: 1, 12514: 3, 12515: 2, 12516: 2, 12517: 3, 12518: 4, 12519: 2, 12520: 1, 12521: 1, 12522: 1})"
      ]
     },
     "execution_count": 47,
     "metadata": {},
     "output_type": "execute_result"
    }
   ],
   "source": [
    "# Degree is the number of edges adjacent to a node\n",
    "mol_graph.degree()"
   ]
  },
  {
   "cell_type": "markdown",
   "id": "e0707758-5209-46ae-ac72-5678fa689b48",
   "metadata": {},
   "source": [
    "## Calculating bond angles "
   ]
  },
  {
   "cell_type": "code",
   "execution_count": 18,
   "id": "e6821fd4-288d-465c-824f-19b8e11df682",
   "metadata": {},
   "outputs": [],
   "source": [
    "def nCr(n,r):\n",
    "    \"\"\"Compute number of combinations\"\"\"\n",
    "    f = math.factorial\n",
    "    return f(n) // f(r) // f(n-r)\n",
    "\n",
    "def get_bond_angles(centroid, vertices, atom_names=[], verbose=False):\n",
    "    \n",
    "    \"\"\"Compute bond angle between a central atom and two adjacent atoms\n",
    "        Bond angles are calculated for each combination of central atom and adjacent atoms\n",
    "    \"\"\"\n",
    "    \n",
    "    bond_vectors = vertices - centroid\n",
    "    bond_lenght = LA.norm(bond_vectors, axis=-1)\n",
    "\n",
    "    # print(bond_vectors, '\\n')\n",
    "\n",
    "    ii = bond_vectors.shape[0]\n",
    "    \n",
    "    m = nCr(ii, 2)\n",
    "    angles = np.zeros((m,1))\n",
    "    \n",
    "    k = 0\n",
    "    # Calculate angle between each different pair of vectors\n",
    "    for i in range(ii - 1):\n",
    "        for j in range(i + 1, ii):\n",
    "            angle = np.degrees(np.arccos(np.dot(bond_vectors[i, :], bond_vectors[j, :]) / (bond_lenght[i] * bond_lenght[j])))\n",
    "            angles[k] = angle\n",
    "            k += 1\n",
    "            if verbose and len(atom_names) > 0:\n",
    "                print(\"Angle between atom {}, atom {} and atom {} is: {:.2f}\".format(atom_names[i+1],\n",
    "                                                             atom_names[0],\n",
    "                                                             atom_names[j+1],              \n",
    "                                                             angle))\n",
    "    k += 1\n",
    "    \n",
    "    return angles"
   ]
  },
  {
   "cell_type": "code",
   "execution_count": 30,
   "id": "ff643dfd-a888-4c3e-9779-c72bfe45dacf",
   "metadata": {},
   "outputs": [],
   "source": [
    "def count_atoms_with_n_bonds(n, mol_graph):\n",
    "    \"\"\"Count atoms with more than n bonds\"\"\"\n",
    "    count = 0\n",
    "    for atom, n_bonds in mol_graph.degree():\n",
    "        if n_bonds > n:\n",
    "            count += 1\n",
    "        else:\n",
    "            continue\n",
    "    return count"
   ]
  },
  {
   "cell_type": "code",
   "execution_count": 33,
   "id": "87f4b91e-8630-4c70-ac8a-480c940681f6",
   "metadata": {},
   "outputs": [],
   "source": [
    "def mean_bond_angles(mol_graph, verbose=False):\n",
    "    \n",
    "    \"\"\"Compute mean bond angle for each central atom\"\"\"\n",
    "    \n",
    "    n_centroid_atoms = count_atoms_with_n_bonds(1, mol_graph) # Count number of central atoms\n",
    "    centroid_mean_angle = np.zeros((n_centroid_atoms,2)) # Initialize array\n",
    "\n",
    "    i = 0\n",
    "    for atom, neighbors in mol_graph.adjacency(): #adjacency returns an iterator for the neighbors\n",
    "\n",
    "        atom_names = [mol_graph.nodes[atom]['atom_name']]  # List with atom names\n",
    "        centroid = np.array(mol_graph.nodes[atom]['coordinates'])\n",
    "        n_neighbors = len(list(neighbors))\n",
    "\n",
    "        if n_neighbors > 1:\n",
    "\n",
    "            vertices = np.zeros((n_neighbors, 3))\n",
    "            for j, nbr_atom in enumerate(list(neighbors)):\n",
    "                vertices[j, :] = np.array(mol_graph.nodes[nbr_atom]['coordinates'])\n",
    "                atom_names.append(mol_graph.nodes[nbr_atom]['atom_name'])\n",
    "\n",
    "            angles = get_bond_angles(centroid, vertices, atom_names, verbose=verbose)\n",
    "            centroid_mean_angle[i, 0] = atom\n",
    "            centroid_mean_angle[i, 1] = np.mean(angles)\n",
    "\n",
    "        else:\n",
    "            continue\n",
    "\n",
    "        i += 1\n",
    "        \n",
    "    return centroid_mean_angle"
   ]
  },
  {
   "cell_type": "code",
   "execution_count": 49,
   "id": "30e646f9-bf92-4f4f-8be4-6ef24a331577",
   "metadata": {},
   "outputs": [
    {
     "name": "stdout",
     "output_type": "stream",
     "text": [
      "Angle between atom N2, atom O1 and atom C5 is: 106.27\n",
      "Angle between atom O1, atom N2 and atom C3 is: 106.23\n",
      "Angle between atom N2, atom C3 and atom CM3 is: 116.25\n",
      "Angle between atom N2, atom C3 and atom C4 is: 111.00\n",
      "Angle between atom CM3, atom C3 and atom C4 is: 132.75\n",
      "Angle between atom C3, atom C4 and atom C5 is: 108.46\n",
      "Angle between atom O1, atom C5 and atom C4 is: 108.04\n",
      "Angle between atom O1, atom C5 and atom C1C is: 116.96\n",
      "Angle between atom C4, atom C5 and atom C1C is: 135.00\n",
      "Angle between atom C5, atom C1C and atom C2C is: 106.98\n",
      "Angle between atom C1C, atom C2C and atom C3C is: 110.06\n",
      "Angle between atom C2C, atom C3C and atom O1B is: 101.40\n",
      "Angle between atom C3C, atom O1B and atom C1B is: 116.01\n",
      "Angle between atom O1B, atom C1B and atom C2B is: 117.51\n",
      "Angle between atom O1B, atom C1B and atom C6B is: 125.89\n",
      "Angle between atom C2B, atom C1B and atom C6B is: 116.60\n",
      "Angle between atom C1B, atom C2B and atom CM2 is: 117.46\n",
      "Angle between atom C1B, atom C2B and atom C3B is: 125.56\n",
      "Angle between atom CM2, atom C2B and atom C3B is: 116.98\n",
      "Angle between atom C2B, atom C3B and atom C4B is: 116.34\n",
      "Angle between atom C3B, atom C4B and atom C5B is: 124.16\n",
      "Angle between atom C3B, atom C4B and atom C2A is: 116.79\n",
      "Angle between atom C5B, atom C4B and atom C2A is: 119.05\n",
      "Angle between atom C4B, atom C5B and atom C6B is: 117.31\n",
      "Angle between atom C1B, atom C6B and atom C5B is: 120.03\n",
      "Angle between atom C1B, atom C6B and atom CM6 is: 125.85\n",
      "Angle between atom C5B, atom C6B and atom CM6 is: 114.12\n",
      "Angle between atom C4B, atom C2A and atom N1A is: 124.67\n",
      "Angle between atom C4B, atom C2A and atom N3A is: 121.93\n",
      "Angle between atom N1A, atom C2A and atom N3A is: 113.39\n",
      "Angle between atom C2A, atom N1A and atom O1A is: 105.94\n",
      "Angle between atom C2A, atom N3A and atom C3A is: 102.12\n",
      "Angle between atom N3A, atom C3A and atom CM4 is: 122.53\n",
      "Angle between atom N3A, atom C3A and atom O1A is: 118.12\n",
      "Angle between atom CM4, atom C3A and atom O1A is: 119.35\n",
      "Angle between atom C3A, atom CM4 and atom F1 is: 95.84\n",
      "Angle between atom C3A, atom CM4 and atom F2 is: 122.10\n",
      "Angle between atom C3A, atom CM4 and atom F3 is: 106.95\n",
      "Angle between atom F1, atom CM4 and atom F2 is: 108.17\n",
      "Angle between atom F1, atom CM4 and atom F3 is: 112.29\n",
      "Angle between atom F2, atom CM4 and atom F3 is: 110.66\n",
      "Angle between atom N1A, atom O1A and atom C3A is: 100.43\n"
     ]
    },
    {
     "name": "stderr",
     "output_type": "stream",
     "text": [
      "/Users/danielibarrola/miniconda3/envs/openpharmacophore/lib/python3.7/site-packages/ipykernel_launcher.py:12: UnitStrippedWarning: The unit of the quantity is stripped when downcasting to ndarray.\n",
      "  if sys.path[0] == '':\n",
      "/Users/danielibarrola/miniconda3/envs/openpharmacophore/lib/python3.7/site-packages/ipykernel_launcher.py:19: UnitStrippedWarning: The unit of the quantity is stripped when downcasting to ndarray.\n"
     ]
    }
   ],
   "source": [
    "centroid_mean_angle = mean_bond_angles(mol_graph, verbose=True)"
   ]
  },
  {
   "cell_type": "markdown",
   "id": "0996de47-44a6-4171-897f-9130835413e9",
   "metadata": {},
   "source": [
    "## Analyzing bond angles and deducing hybridization"
   ]
  },
  {
   "cell_type": "code",
   "execution_count": 50,
   "id": "6b4c45d9-19a0-4dc3-ac42-0959f2eaefb6",
   "metadata": {},
   "outputs": [
    {
     "data": {
      "text/html": [
       "<div>\n",
       "<style scoped>\n",
       "    .dataframe tbody tr th:only-of-type {\n",
       "        vertical-align: middle;\n",
       "    }\n",
       "\n",
       "    .dataframe tbody tr th {\n",
       "        vertical-align: top;\n",
       "    }\n",
       "\n",
       "    .dataframe thead th {\n",
       "        text-align: right;\n",
       "    }\n",
       "</style>\n",
       "<table border=\"1\" class=\"dataframe\">\n",
       "  <thead>\n",
       "    <tr style=\"text-align: right;\">\n",
       "      <th></th>\n",
       "      <th>Atom_index</th>\n",
       "      <th>Bond_angles</th>\n",
       "      <th>Atom_name</th>\n",
       "    </tr>\n",
       "  </thead>\n",
       "  <tbody>\n",
       "    <tr>\n",
       "      <th>0</th>\n",
       "      <td>12496.0</td>\n",
       "      <td>106.268777</td>\n",
       "      <td>O1</td>\n",
       "    </tr>\n",
       "    <tr>\n",
       "      <th>1</th>\n",
       "      <td>12497.0</td>\n",
       "      <td>106.227149</td>\n",
       "      <td>N2</td>\n",
       "    </tr>\n",
       "    <tr>\n",
       "      <th>2</th>\n",
       "      <td>12498.0</td>\n",
       "      <td>119.999992</td>\n",
       "      <td>C3</td>\n",
       "    </tr>\n",
       "    <tr>\n",
       "      <th>3</th>\n",
       "      <td>12500.0</td>\n",
       "      <td>108.463087</td>\n",
       "      <td>C4</td>\n",
       "    </tr>\n",
       "    <tr>\n",
       "      <th>4</th>\n",
       "      <td>12501.0</td>\n",
       "      <td>119.999993</td>\n",
       "      <td>C5</td>\n",
       "    </tr>\n",
       "    <tr>\n",
       "      <th>5</th>\n",
       "      <td>12502.0</td>\n",
       "      <td>106.984521</td>\n",
       "      <td>C1C</td>\n",
       "    </tr>\n",
       "    <tr>\n",
       "      <th>6</th>\n",
       "      <td>12503.0</td>\n",
       "      <td>110.063037</td>\n",
       "      <td>C2C</td>\n",
       "    </tr>\n",
       "    <tr>\n",
       "      <th>7</th>\n",
       "      <td>12504.0</td>\n",
       "      <td>101.395943</td>\n",
       "      <td>C3C</td>\n",
       "    </tr>\n",
       "    <tr>\n",
       "      <th>8</th>\n",
       "      <td>12505.0</td>\n",
       "      <td>116.006073</td>\n",
       "      <td>O1B</td>\n",
       "    </tr>\n",
       "    <tr>\n",
       "      <th>9</th>\n",
       "      <td>12506.0</td>\n",
       "      <td>119.999230</td>\n",
       "      <td>C1B</td>\n",
       "    </tr>\n",
       "    <tr>\n",
       "      <th>10</th>\n",
       "      <td>12507.0</td>\n",
       "      <td>119.999408</td>\n",
       "      <td>C2B</td>\n",
       "    </tr>\n",
       "    <tr>\n",
       "      <th>11</th>\n",
       "      <td>12509.0</td>\n",
       "      <td>116.338833</td>\n",
       "      <td>C3B</td>\n",
       "    </tr>\n",
       "    <tr>\n",
       "      <th>12</th>\n",
       "      <td>12510.0</td>\n",
       "      <td>119.996090</td>\n",
       "      <td>C4B</td>\n",
       "    </tr>\n",
       "    <tr>\n",
       "      <th>13</th>\n",
       "      <td>12511.0</td>\n",
       "      <td>117.313354</td>\n",
       "      <td>C5B</td>\n",
       "    </tr>\n",
       "    <tr>\n",
       "      <th>14</th>\n",
       "      <td>12512.0</td>\n",
       "      <td>119.999211</td>\n",
       "      <td>C6B</td>\n",
       "    </tr>\n",
       "    <tr>\n",
       "      <th>15</th>\n",
       "      <td>12514.0</td>\n",
       "      <td>119.997921</td>\n",
       "      <td>C2A</td>\n",
       "    </tr>\n",
       "    <tr>\n",
       "      <th>16</th>\n",
       "      <td>12515.0</td>\n",
       "      <td>105.937677</td>\n",
       "      <td>N1A</td>\n",
       "    </tr>\n",
       "    <tr>\n",
       "      <th>17</th>\n",
       "      <td>12516.0</td>\n",
       "      <td>102.123336</td>\n",
       "      <td>N3A</td>\n",
       "    </tr>\n",
       "    <tr>\n",
       "      <th>18</th>\n",
       "      <td>12517.0</td>\n",
       "      <td>119.999921</td>\n",
       "      <td>C3A</td>\n",
       "    </tr>\n",
       "    <tr>\n",
       "      <th>19</th>\n",
       "      <td>12518.0</td>\n",
       "      <td>109.337003</td>\n",
       "      <td>CM4</td>\n",
       "    </tr>\n",
       "    <tr>\n",
       "      <th>20</th>\n",
       "      <td>12519.0</td>\n",
       "      <td>100.425494</td>\n",
       "      <td>O1A</td>\n",
       "    </tr>\n",
       "  </tbody>\n",
       "</table>\n",
       "</div>"
      ],
      "text/plain": [
       "    Atom_index  Bond_angles Atom_name\n",
       "0      12496.0   106.268777        O1\n",
       "1      12497.0   106.227149        N2\n",
       "2      12498.0   119.999992        C3\n",
       "3      12500.0   108.463087        C4\n",
       "4      12501.0   119.999993        C5\n",
       "5      12502.0   106.984521       C1C\n",
       "6      12503.0   110.063037       C2C\n",
       "7      12504.0   101.395943       C3C\n",
       "8      12505.0   116.006073       O1B\n",
       "9      12506.0   119.999230       C1B\n",
       "10     12507.0   119.999408       C2B\n",
       "11     12509.0   116.338833       C3B\n",
       "12     12510.0   119.996090       C4B\n",
       "13     12511.0   117.313354       C5B\n",
       "14     12512.0   119.999211       C6B\n",
       "15     12514.0   119.997921       C2A\n",
       "16     12515.0   105.937677       N1A\n",
       "17     12516.0   102.123336       N3A\n",
       "18     12517.0   119.999921       C3A\n",
       "19     12518.0   109.337003       CM4\n",
       "20     12519.0   100.425494       O1A"
      ]
     },
     "execution_count": 50,
     "metadata": {},
     "output_type": "execute_result"
    }
   ],
   "source": [
    "bonds = pd.DataFrame({'Atom_index': centroid_mean_angle[:,0], 'Bond_angles': centroid_mean_angle[:,1]})\n",
    "atom_names_list = []\n",
    "for i in range(bonds.shape[0]):\n",
    "    atom_names_list.append(mol_graph.nodes[bonds.iloc[i,0]]['atom_name'])\n",
    "\n",
    "bonds['Atom_name'] = atom_names_list\n",
    "bonds"
   ]
  },
  {
   "cell_type": "code",
   "execution_count": 51,
   "id": "e4368895-e2ed-40c6-88f5-8d103fe41e1c",
   "metadata": {},
   "outputs": [
    {
     "name": "stderr",
     "output_type": "stream",
     "text": [
      "/Users/danielibarrola/miniconda3/envs/openpharmacophore/lib/python3.7/site-packages/ipykernel_launcher.py:13: SettingWithCopyWarning: \n",
      "A value is trying to be set on a copy of a slice from a DataFrame.\n",
      "Try using .loc[row_indexer,col_indexer] = value instead\n",
      "\n",
      "See the caveats in the documentation: https://pandas.pydata.org/pandas-docs/stable/user_guide/indexing.html#returning-a-view-versus-a-copy\n",
      "  del sys.path[0]\n"
     ]
    },
    {
     "data": {
      "text/html": [
       "<div>\n",
       "<style scoped>\n",
       "    .dataframe tbody tr th:only-of-type {\n",
       "        vertical-align: middle;\n",
       "    }\n",
       "\n",
       "    .dataframe tbody tr th {\n",
       "        vertical-align: top;\n",
       "    }\n",
       "\n",
       "    .dataframe thead th {\n",
       "        text-align: right;\n",
       "    }\n",
       "</style>\n",
       "<table border=\"1\" class=\"dataframe\">\n",
       "  <thead>\n",
       "    <tr style=\"text-align: right;\">\n",
       "      <th></th>\n",
       "      <th>Atom_index</th>\n",
       "      <th>Atom_name</th>\n",
       "      <th>Bond_angles</th>\n",
       "      <th>Hybridization</th>\n",
       "    </tr>\n",
       "  </thead>\n",
       "  <tbody>\n",
       "    <tr>\n",
       "      <th>0</th>\n",
       "      <td>12496.0</td>\n",
       "      <td>O1</td>\n",
       "      <td>106.268777</td>\n",
       "      <td>sp3</td>\n",
       "    </tr>\n",
       "    <tr>\n",
       "      <th>1</th>\n",
       "      <td>12497.0</td>\n",
       "      <td>N2</td>\n",
       "      <td>106.227149</td>\n",
       "      <td>sp3</td>\n",
       "    </tr>\n",
       "    <tr>\n",
       "      <th>2</th>\n",
       "      <td>12498.0</td>\n",
       "      <td>C3</td>\n",
       "      <td>119.999992</td>\n",
       "      <td>sp2</td>\n",
       "    </tr>\n",
       "    <tr>\n",
       "      <th>3</th>\n",
       "      <td>12500.0</td>\n",
       "      <td>C4</td>\n",
       "      <td>108.463087</td>\n",
       "      <td>sp3</td>\n",
       "    </tr>\n",
       "    <tr>\n",
       "      <th>4</th>\n",
       "      <td>12501.0</td>\n",
       "      <td>C5</td>\n",
       "      <td>119.999993</td>\n",
       "      <td>sp2</td>\n",
       "    </tr>\n",
       "    <tr>\n",
       "      <th>5</th>\n",
       "      <td>12502.0</td>\n",
       "      <td>C1C</td>\n",
       "      <td>106.984521</td>\n",
       "      <td>sp3</td>\n",
       "    </tr>\n",
       "    <tr>\n",
       "      <th>6</th>\n",
       "      <td>12503.0</td>\n",
       "      <td>C2C</td>\n",
       "      <td>110.063037</td>\n",
       "      <td>sp2</td>\n",
       "    </tr>\n",
       "    <tr>\n",
       "      <th>7</th>\n",
       "      <td>12504.0</td>\n",
       "      <td>C3C</td>\n",
       "      <td>101.395943</td>\n",
       "      <td>sp3</td>\n",
       "    </tr>\n",
       "    <tr>\n",
       "      <th>8</th>\n",
       "      <td>12505.0</td>\n",
       "      <td>O1B</td>\n",
       "      <td>116.006073</td>\n",
       "      <td>sp2</td>\n",
       "    </tr>\n",
       "    <tr>\n",
       "      <th>9</th>\n",
       "      <td>12506.0</td>\n",
       "      <td>C1B</td>\n",
       "      <td>119.999230</td>\n",
       "      <td>sp2</td>\n",
       "    </tr>\n",
       "    <tr>\n",
       "      <th>10</th>\n",
       "      <td>12507.0</td>\n",
       "      <td>C2B</td>\n",
       "      <td>119.999408</td>\n",
       "      <td>sp2</td>\n",
       "    </tr>\n",
       "    <tr>\n",
       "      <th>11</th>\n",
       "      <td>12509.0</td>\n",
       "      <td>C3B</td>\n",
       "      <td>116.338833</td>\n",
       "      <td>sp2</td>\n",
       "    </tr>\n",
       "    <tr>\n",
       "      <th>12</th>\n",
       "      <td>12510.0</td>\n",
       "      <td>C4B</td>\n",
       "      <td>119.996090</td>\n",
       "      <td>sp2</td>\n",
       "    </tr>\n",
       "    <tr>\n",
       "      <th>13</th>\n",
       "      <td>12511.0</td>\n",
       "      <td>C5B</td>\n",
       "      <td>117.313354</td>\n",
       "      <td>sp2</td>\n",
       "    </tr>\n",
       "    <tr>\n",
       "      <th>14</th>\n",
       "      <td>12512.0</td>\n",
       "      <td>C6B</td>\n",
       "      <td>119.999211</td>\n",
       "      <td>sp2</td>\n",
       "    </tr>\n",
       "    <tr>\n",
       "      <th>15</th>\n",
       "      <td>12514.0</td>\n",
       "      <td>C2A</td>\n",
       "      <td>119.997921</td>\n",
       "      <td>sp2</td>\n",
       "    </tr>\n",
       "    <tr>\n",
       "      <th>16</th>\n",
       "      <td>12515.0</td>\n",
       "      <td>N1A</td>\n",
       "      <td>105.937677</td>\n",
       "      <td>sp3</td>\n",
       "    </tr>\n",
       "    <tr>\n",
       "      <th>17</th>\n",
       "      <td>12516.0</td>\n",
       "      <td>N3A</td>\n",
       "      <td>102.123336</td>\n",
       "      <td>sp3</td>\n",
       "    </tr>\n",
       "    <tr>\n",
       "      <th>18</th>\n",
       "      <td>12517.0</td>\n",
       "      <td>C3A</td>\n",
       "      <td>119.999921</td>\n",
       "      <td>sp2</td>\n",
       "    </tr>\n",
       "    <tr>\n",
       "      <th>19</th>\n",
       "      <td>12518.0</td>\n",
       "      <td>CM4</td>\n",
       "      <td>109.337003</td>\n",
       "      <td>sp3</td>\n",
       "    </tr>\n",
       "    <tr>\n",
       "      <th>20</th>\n",
       "      <td>12519.0</td>\n",
       "      <td>O1A</td>\n",
       "      <td>100.425494</td>\n",
       "      <td>sp3</td>\n",
       "    </tr>\n",
       "  </tbody>\n",
       "</table>\n",
       "</div>"
      ],
      "text/plain": [
       "    Atom_index Atom_name  Bond_angles Hybridization\n",
       "0      12496.0        O1   106.268777           sp3\n",
       "1      12497.0        N2   106.227149           sp3\n",
       "2      12498.0        C3   119.999992           sp2\n",
       "3      12500.0        C4   108.463087           sp3\n",
       "4      12501.0        C5   119.999993           sp2\n",
       "5      12502.0       C1C   106.984521           sp3\n",
       "6      12503.0       C2C   110.063037           sp2\n",
       "7      12504.0       C3C   101.395943           sp3\n",
       "8      12505.0       O1B   116.006073           sp2\n",
       "9      12506.0       C1B   119.999230           sp2\n",
       "10     12507.0       C2B   119.999408           sp2\n",
       "11     12509.0       C3B   116.338833           sp2\n",
       "12     12510.0       C4B   119.996090           sp2\n",
       "13     12511.0       C5B   117.313354           sp2\n",
       "14     12512.0       C6B   119.999211           sp2\n",
       "15     12514.0       C2A   119.997921           sp2\n",
       "16     12515.0       N1A   105.937677           sp3\n",
       "17     12516.0       N3A   102.123336           sp3\n",
       "18     12517.0       C3A   119.999921           sp2\n",
       "19     12518.0       CM4   109.337003           sp3\n",
       "20     12519.0       O1A   100.425494           sp3"
      ]
     },
     "execution_count": 51,
     "metadata": {},
     "output_type": "execute_result"
    }
   ],
   "source": [
    "def hybridization(angle):\n",
    "    # Get hybridization state of atom from it's bond angles\n",
    "    if angle >= 100 and angle <= 110:\n",
    "        return 'sp3'\n",
    "    elif angle > 110 and angle <= 120:\n",
    "        return 'sp2'\n",
    "    elif angle >= 170:\n",
    "        return 'sp'\n",
    "    else:\n",
    "        return np.nan\n",
    "\n",
    "bonds = bonds[['Atom_index', 'Atom_name', 'Bond_angles']]\n",
    "bonds['Hybridization'] = bonds.apply(lambda x: hybridization(x['Bond_angles']), axis=1)\n",
    "bonds"
   ]
  },
  {
   "cell_type": "markdown",
   "id": "7d250b99-54a6-4c6e-a407-c327c3a7341b",
   "metadata": {},
   "source": [
    "We can see in the dataframe that some of the bond angles deviate significantly from the ideal ones, giving wrong hybridization states. This is the case for C4, N2, etc."
   ]
  }
 ],
 "metadata": {
  "kernelspec": {
   "display_name": "Python 3",
   "language": "python",
   "name": "python3"
  },
  "language_info": {
   "codemirror_mode": {
    "name": "ipython",
    "version": 3
   },
   "file_extension": ".py",
   "mimetype": "text/x-python",
   "name": "python",
   "nbconvert_exporter": "python",
   "pygments_lexer": "ipython3",
   "version": "3.7.10"
  }
 },
 "nbformat": 4,
 "nbformat_minor": 5
}
