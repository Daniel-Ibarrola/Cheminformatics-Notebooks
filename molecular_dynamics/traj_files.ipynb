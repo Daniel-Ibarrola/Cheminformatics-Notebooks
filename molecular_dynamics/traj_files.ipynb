{
 "cells": [
  {
   "cell_type": "code",
   "execution_count": 1,
   "id": "eb9e3939-b4eb-4064-ad92-f77d2f5cf1c6",
   "metadata": {},
   "outputs": [
    {
     "name": "stderr",
     "output_type": "stream",
     "text": [
      "Warning: importing 'simtk.openmm' is deprecated.  Import 'openmm' instead.\n"
     ]
    },
    {
     "data": {
      "application/vnd.jupyter.widget-view+json": {
       "model_id": "adc2900748f44a028afaac4d6d5a109a",
       "version_major": 2,
       "version_minor": 0
      },
      "text/plain": []
     },
     "metadata": {},
     "output_type": "display_data"
    }
   ],
   "source": [
    "import mdtraj as mdt\n",
    "import MDAnalysis as mda\n",
    "from MDAnalysis.lib.util import NamedStream\n",
    "from io import StringIO\n",
    "\n",
    "from openpharmacophore.structured_based import StructuredBasedPharmacophore"
   ]
  },
  {
   "cell_type": "markdown",
   "id": "126d2289-5db1-47e9-b6c7-42d25ccdd16b",
   "metadata": {},
   "source": [
    "## Load a trajectory in h5 format"
   ]
  },
  {
   "cell_type": "code",
   "execution_count": 2,
   "id": "cff4ef50-32ac-4b20-972b-304aff99515d",
   "metadata": {},
   "outputs": [
    {
     "name": "stdout",
     "output_type": "stream",
     "text": [
      "<mdtraj.Trajectory with 1000 frames, 27425 atoms, 8028 residues, and unitcells>\n",
      "<mdtraj.Topology with 4 chains, 8028 residues, 27425 atoms, 19689 bonds>\n"
     ]
    }
   ],
   "source": [
    "traj_file = \"../data/trajectories/ERalpha.h5\"\n",
    "traj = mdt.load(traj_file)\n",
    "print(traj)\n",
    "print(traj.topology)"
   ]
  },
  {
   "cell_type": "code",
   "execution_count": 12,
   "id": "7f5990b1-e219-4e5b-a867-fd0f3cc4e842",
   "metadata": {},
   "outputs": [
    {
     "data": {
      "text/plain": [
       "mdtraj.core.trajectory.Trajectory"
      ]
     },
     "execution_count": 12,
     "metadata": {},
     "output_type": "execute_result"
    }
   ],
   "source": [
    "type(traj)"
   ]
  },
  {
   "cell_type": "code",
   "execution_count": 3,
   "id": "1f5ae93d-b2e4-4473-849f-9db987140114",
   "metadata": {},
   "outputs": [],
   "source": [
    "traj.save_xyz(\"traj.xyz\")"
   ]
  },
  {
   "cell_type": "markdown",
   "id": "e64d6475-f616-45b0-a241-9ad663e985cd",
   "metadata": {},
   "source": [
    "## Load trajectory with MDAnalysis"
   ]
  },
  {
   "cell_type": "code",
   "execution_count": 3,
   "id": "1c2ca2ef-4736-4ebf-95a1-a51b93fbed39",
   "metadata": {},
   "outputs": [
    {
     "name": "stderr",
     "output_type": "stream",
     "text": [
      "/home/daniel/miniconda3/envs/cheminformatics/lib/python3.7/site-packages/MDAnalysis/coordinates/base.py:892: UserWarning: Reader has no dt information, set to 1.0 ps\n",
      "  warnings.warn(\"Reader has no dt information, set to 1.0 ps\")\n"
     ]
    },
    {
     "data": {
      "text/plain": [
       "<Universe with 27425 atoms>"
      ]
     },
     "execution_count": 3,
     "metadata": {},
     "output_type": "execute_result"
    }
   ],
   "source": [
    "universe = mda.Universe(\"initial.pdb\", \"./traj.xyz\", in_memory=True)\n",
    "universe"
   ]
  },
  {
   "cell_type": "code",
   "execution_count": 13,
   "id": "c4b3bd12-7f7a-4019-b8af-9f835941e84d",
   "metadata": {},
   "outputs": [
    {
     "data": {
      "text/plain": [
       "MDAnalysis.core.universe.Universe"
      ]
     },
     "execution_count": 13,
     "metadata": {},
     "output_type": "execute_result"
    }
   ],
   "source": [
    "type(universe)"
   ]
  },
  {
   "cell_type": "code",
   "execution_count": 4,
   "id": "afd99201-d17d-4a99-be8d-a925b5183f8f",
   "metadata": {},
   "outputs": [
    {
     "data": {
      "text/plain": [
       "1000"
      ]
     },
     "execution_count": 4,
     "metadata": {},
     "output_type": "execute_result"
    }
   ],
   "source": [
    "universe.trajectory.n_frames"
   ]
  },
  {
   "cell_type": "markdown",
   "id": "c13033c2-35e5-494e-ba6b-21f5ed9fd3f1",
   "metadata": {},
   "source": [
    "### Write a frame to a stream object and derive a pharmacophore"
   ]
  },
  {
   "cell_type": "code",
   "execution_count": 18,
   "id": "3ab8f628-141c-4407-be17-a7e149ee25e1",
   "metadata": {},
   "outputs": [],
   "source": [
    "stream = StringIO()\n",
    "pdb_stream = NamedStream(stream, \"output.pdb\")"
   ]
  },
  {
   "cell_type": "code",
   "execution_count": 7,
   "id": "46d5a4b8-f0ea-449b-869e-c72af291495a",
   "metadata": {},
   "outputs": [
    {
     "name": "stderr",
     "output_type": "stream",
     "text": [
      "/home/daniel/miniconda3/envs/cheminformatics/lib/python3.7/site-packages/MDAnalysis/coordinates/PDB.py:747: UserWarning: Unit cell dimensions not found. CRYST1 record set to unitary values.\n",
      "  warnings.warn(\"Unit cell dimensions not found. \"\n"
     ]
    }
   ],
   "source": [
    "atoms = universe.select_atoms(\"all\")\n",
    "atoms.write(pdb_stream, frames=universe.trajectory[[0]])"
   ]
  },
  {
   "cell_type": "code",
   "execution_count": 8,
   "id": "eb1262c7-45cb-4b15-a878-f47bac9f4381",
   "metadata": {},
   "outputs": [
    {
     "data": {
      "text/plain": [
       "StructuredBasedPharmacophore(n_elements: 9)"
      ]
     },
     "execution_count": 8,
     "metadata": {},
     "output_type": "execute_result"
    }
   ],
   "source": [
    "pharmacophore = StructuredBasedPharmacophore().from_pdb(pdb_stream, \n",
    "                                                        radius=1.0, \n",
    "                                                        ligand_id=None, \n",
    "                                                        hydrophobics=\"plip\",\n",
    "                                                        load_mol_system=True,\n",
    "                                                        load_ligand=True)\n",
    "pharmacophore"
   ]
  },
  {
   "cell_type": "code",
   "execution_count": 9,
   "id": "48c7eb3d-893f-4bdb-a476-58a31088d075",
   "metadata": {},
   "outputs": [
    {
     "data": {
      "application/vnd.jupyter.widget-view+json": {
       "model_id": "da3a1cb94a2742dd91be1298027eacc1",
       "version_major": 2,
       "version_minor": 0
      },
      "text/plain": [
       "NGLWidget()"
      ]
     },
     "metadata": {},
     "output_type": "display_data"
    }
   ],
   "source": [
    "pharmacophore.show()"
   ]
  },
  {
   "cell_type": "markdown",
   "id": "f42d9faf-1df4-4d87-b53b-cf479fc86e2e",
   "metadata": {},
   "source": [
    "## Get pharmacophore for each frame in a trajectory"
   ]
  },
  {
   "cell_type": "code",
   "execution_count": 10,
   "id": "6d4b95e5-61ac-409f-872f-ed18f5832850",
   "metadata": {},
   "outputs": [
    {
     "name": "stdout",
     "output_type": "stream",
     "text": [
      "--- 3354.852271795273 seconds ---\n"
     ]
    }
   ],
   "source": [
    "import time\n",
    "start_time = time.time()\n",
    "\n",
    "pharmacophores = []\n",
    "n_frames = universe.trajectory.n_frames\n",
    "atoms = universe.select_atoms(\"all\")\n",
    "for i in range(n_frames):\n",
    "    stream = StringIO()\n",
    "    pdb_stream = NamedStream(stream, \"output.pdb\")\n",
    "    atoms.write(pdb_stream, frames=universe.trajectory[[i]])\n",
    "    pharmacophore = StructuredBasedPharmacophore().from_pdb(pdb_stream, \n",
    "                                                        radius=1.0, \n",
    "                                                        ligand_id=None, \n",
    "                                                        hydrophobics=\"plip\",\n",
    "                                                        load_mol_system=False,\n",
    "                                                        load_ligand=False)\n",
    "print(\"--- %s seconds ---\" % (time.time() - start_time))"
   ]
  },
  {
   "cell_type": "code",
   "execution_count": 11,
   "id": "3f5c5d94-2503-4b89-9f47-75457a0c0f91",
   "metadata": {},
   "outputs": [
    {
     "name": "stdout",
     "output_type": "stream",
     "text": [
      "Number of pharmacophores: 0\n"
     ]
    },
    {
     "data": {
      "text/plain": [
       "[]"
      ]
     },
     "execution_count": 11,
     "metadata": {},
     "output_type": "execute_result"
    }
   ],
   "source": [
    "print(\"Number of pharmacophores: {}\".format(len(pharmacophores)))\n",
    "pharmacophores[0:5]"
   ]
  }
 ],
 "metadata": {
  "kernelspec": {
   "display_name": "Python 3 (ipykernel)",
   "language": "python",
   "name": "python3"
  },
  "language_info": {
   "codemirror_mode": {
    "name": "ipython",
    "version": 3
   },
   "file_extension": ".py",
   "mimetype": "text/x-python",
   "name": "python",
   "nbconvert_exporter": "python",
   "pygments_lexer": "ipython3",
   "version": "3.7.10"
  }
 },
 "nbformat": 4,
 "nbformat_minor": 5
}
