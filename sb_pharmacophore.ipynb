{
 "cells": [
  {
   "cell_type": "code",
   "execution_count": 1,
   "id": "159dc4ae-335d-41c0-b93e-a380d0e9d21c",
   "metadata": {},
   "outputs": [],
   "source": [
    "%load_ext autoreload\n",
    "%autoreload 2"
   ]
  },
  {
   "cell_type": "code",
   "execution_count": 6,
   "id": "65ada95b-ef8b-49b3-80af-0921851563f5",
   "metadata": {},
   "outputs": [
    {
     "data": {
      "application/vnd.jupyter.widget-view+json": {
       "model_id": "9e9247095c574d60816092834571b714",
       "version_major": 2,
       "version_minor": 0
      },
      "text/plain": []
     },
     "metadata": {},
     "output_type": "display_data"
    }
   ],
   "source": [
    "from openpharmacophore.utils.sb_features import protein_ligand_interactions, sb_pharmacophore_points\n",
    "import os\n",
    "import pyunitwizard as puw"
   ]
  },
  {
   "cell_type": "code",
   "execution_count": 7,
   "id": "402ebdc3-c82e-4855-a64a-6664a1afc85b",
   "metadata": {},
   "outputs": [],
   "source": [
    "pdbs_path = './data/pdbs/'\n",
    "pdbs = [\"1ncr\", \"2hz1\", \"2hzi\"]\n",
    "pdbs = [p_id + \".pdb\" for p_id in pdbs]\n",
    "\n",
    "file_name = os.path.join(pdbs_path, pdbs[0])\n",
    "all_interactions = protein_ligand_interactions(file_name)"
   ]
  },
  {
   "cell_type": "code",
   "execution_count": 8,
   "id": "41684beb-937f-4422-96f6-ad1de8fed04d",
   "metadata": {},
   "outputs": [
    {
     "data": {
      "text/plain": [
       "{'W11:A:7001': <plip.structure.preparation.PLInteraction at 0x7fe13a0fde90>,\n",
       " 'MYR:D:4000': <plip.structure.preparation.PLInteraction at 0x7fe13a126b90>}"
      ]
     },
     "execution_count": 8,
     "metadata": {},
     "output_type": "execute_result"
    }
   ],
   "source": [
    "all_interactions"
   ]
  },
  {
   "cell_type": "code",
   "execution_count": 9,
   "id": "7e998387-2782-4778-9b50-39b194d9ad42",
   "metadata": {},
   "outputs": [
    {
     "data": {
      "text/plain": [
       "[AromaticRingSphereAndVector(center: [ 38.03   4.36 123.74]; radius: 1.0; direction: [-0.67 -0.05 -0.74]),\n",
       " HydrophobicSphere(center: [ 42.87  -0.74 122.71]; radius: 1.0),\n",
       " HydrophobicSphere(center: [ 37.7    4.39 122.61]; radius: 1.0),\n",
       " HydrophobicSphere(center: [ 43.76  -1.84 122.33]; radius: 1.0),\n",
       " HydrophobicSphere(center: [ 41.37  -1.11 122.68]; radius: 1.0),\n",
       " HydrophobicSphere(center: [ 35.83   5.86 123.82]; radius: 1.0),\n",
       " HydrophobicSphere(center: [ 45.46   2.01 123.42]; radius: 1.0)]"
      ]
     },
     "execution_count": 9,
     "metadata": {},
     "output_type": "execute_result"
    }
   ],
   "source": [
    "interactions = all_interactions[\"W11:A:7001\"]\n",
    "points = sb_pharmacophore_points(interactions, radius=1.0)\n",
    "points"
   ]
  },
  {
   "cell_type": "code",
   "execution_count": 10,
   "id": "43adc120-0e85-45a2-bdd8-48101bc4322e",
   "metadata": {},
   "outputs": [
    {
     "data": {
      "text/plain": [
       "{'HEM:A:125': <plip.structure.preparation.PLInteraction at 0x7fe139e0ed10>}"
      ]
     },
     "execution_count": 10,
     "metadata": {},
     "output_type": "execute_result"
    }
   ],
   "source": [
    "file_name = os.path.join(pdbs_path, pdbs[1])\n",
    "all_interactions = protein_ligand_interactions(file_name)\n",
    "all_interactions"
   ]
  },
  {
   "cell_type": "code",
   "execution_count": 11,
   "id": "2d7eadb1-b742-4546-8dab-6be3de2f4f81",
   "metadata": {},
   "outputs": [
    {
     "data": {
      "text/plain": [
       "<plip.structure.preparation.PLInteraction at 0x7fe139e0ed10>"
      ]
     },
     "execution_count": 11,
     "metadata": {},
     "output_type": "execute_result"
    }
   ],
   "source": [
    "list(all_interactions.values())[0]"
   ]
  },
  {
   "cell_type": "code",
   "execution_count": 12,
   "id": "89459192-7df6-4ca1-b33a-c5fb9dcaffa3",
   "metadata": {},
   "outputs": [
    {
     "data": {
      "text/plain": [
       "[NegativeChargeSphere(center: [2.28 2.66 3.25]; radius: 1.0),\n",
       " NegativeChargeSphere(center: [1.07 4.82 7.32]; radius: 1.0),\n",
       " HBAcceptorSphereAndVector(center: [2.33 3.57 2.63]; radius: 1.0; direction: [-0.88  0.27  0.38]),\n",
       " HydrophobicSphere(center: [ 4.47 11.92 12.06]; radius: 1.0),\n",
       " HydrophobicSphere(center: [0.4  6.79 7.37]; radius: 1.0),\n",
       " HydrophobicSphere(center: [11.72  5.7   7.23]; radius: 1.0),\n",
       " HydrophobicSphere(center: [13.02  7.29  9.76]; radius: 1.0),\n",
       " HydrophobicSphere(center: [7.62 3.6  4.39]; radius: 1.0),\n",
       " HydrophobicSphere(center: [ 5.8  12.03 11.57]; radius: 1.0),\n",
       " HydrophobicSphere(center: [ 8.73 11.74 11.5 ]; radius: 1.0),\n",
       " HydrophobicSphere(center: [11.98  8.17  9.26]; radius: 1.0),\n",
       " HydrophobicSphere(center: [1.57 9.83 8.91]; radius: 1.0)]"
      ]
     },
     "execution_count": 12,
     "metadata": {},
     "output_type": "execute_result"
    }
   ],
   "source": [
    "interactions = all_interactions[\"HEM:A:125\"]\n",
    "points = sb_pharmacophore_points(interactions, radius=1.0)\n",
    "points"
   ]
  },
  {
   "cell_type": "code",
   "execution_count": 13,
   "id": "5ec17f94-b00f-436a-9f6e-a105605e6c02",
   "metadata": {},
   "outputs": [
    {
     "data": {
      "text/plain": [
       "{'JIN:A:600': <plip.structure.preparation.PLInteraction at 0x7fe139a6e990>,\n",
       " 'JIN:B:600': <plip.structure.preparation.PLInteraction at 0x7fe13994fe90>}"
      ]
     },
     "execution_count": 13,
     "metadata": {},
     "output_type": "execute_result"
    }
   ],
   "source": [
    "file_name = os.path.join(pdbs_path, pdbs[2])\n",
    "all_interactions = protein_ligand_interactions(file_name)\n",
    "all_interactions"
   ]
  },
  {
   "cell_type": "code",
   "execution_count": 14,
   "id": "54adc86f-9a00-4822-9458-7a731ff833b9",
   "metadata": {},
   "outputs": [
    {
     "data": {
      "text/plain": [
       "[HBAcceptorSphereAndVector(center: [16.16 12.13  2.52]; radius: 1.0; direction: [-0.1   0.91  0.4 ]),\n",
       " HBDonorSphereAndVector(center: [13.99 12.05  2.87]; radius: 1.0; direction: [-0.12 -0.94 -0.31]),\n",
       " HydrophobicSphere(center: [10.34 12.15  2.69]; radius: 1.0),\n",
       " HydrophobicSphere(center: [21.71 18.02  3.71]; radius: 1.0),\n",
       " HydrophobicSphere(center: [22.05 16.87  5.86]; radius: 1.0),\n",
       " HydrophobicSphere(center: [11.69 11.79  2.49]; radius: 1.0),\n",
       " HydrophobicSphere(center: [ 9.22 11.46  1.95]; radius: 1.0),\n",
       " HydrophobicSphere(center: [17.51 13.85  3.41]; radius: 1.0)]"
      ]
     },
     "execution_count": 14,
     "metadata": {},
     "output_type": "execute_result"
    }
   ],
   "source": [
    "interactions = all_interactions[\"JIN:A:600\"]\n",
    "points = sb_pharmacophore_points(interactions, radius=1.0)\n",
    "points"
   ]
  },
  {
   "cell_type": "code",
   "execution_count": 15,
   "id": "bd31ef84-3f5c-48c7-9819-b9b31772e930",
   "metadata": {},
   "outputs": [
    {
     "data": {
      "text/plain": [
       "plip.structure.preparation.PLInteraction"
      ]
     },
     "execution_count": 15,
     "metadata": {},
     "output_type": "execute_result"
    }
   ],
   "source": [
    "type(interactions)"
   ]
  },
  {
   "cell_type": "code",
   "execution_count": 20,
   "id": "32934c1e-0178-446f-9d4d-c118e36a7b11",
   "metadata": {},
   "outputs": [
    {
     "data": {
      "text/plain": [
       "8"
      ]
     },
     "execution_count": 20,
     "metadata": {},
     "output_type": "execute_result"
    }
   ],
   "source": [
    "len(points)"
   ]
  }
 ],
 "metadata": {
  "kernelspec": {
   "display_name": "Python 3 (ipykernel)",
   "language": "python",
   "name": "python3"
  },
  "language_info": {
   "codemirror_mode": {
    "name": "ipython",
    "version": 3
   },
   "file_extension": ".py",
   "mimetype": "text/x-python",
   "name": "python",
   "nbconvert_exporter": "python",
   "pygments_lexer": "ipython3",
   "version": "3.7.10"
  }
 },
 "nbformat": 4,
 "nbformat_minor": 5
}
