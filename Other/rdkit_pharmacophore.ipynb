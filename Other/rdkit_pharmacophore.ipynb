{
 "cells": [
  {
   "cell_type": "code",
   "execution_count": 1,
   "id": "c3274312-7c7b-44f2-9f83-c56b4188afaf",
   "metadata": {},
   "outputs": [],
   "source": [
    "from rdkit import Geometry\n",
    "from rdkit.Chem import ChemicalFeatures\n",
    "from rdkit.Chem.Pharm3D import Pharmacophore"
   ]
  },
  {
   "cell_type": "code",
   "execution_count": 3,
   "id": "71cdf04c-dd38-454c-a8ce-16e5e5384efd",
   "metadata": {},
   "outputs": [
    {
     "data": {
      "text/plain": [
       "<rdkit.Chem.Pharm3D.Pharmacophore.Pharmacophore at 0x7fdaa9164c90>"
      ]
     },
     "execution_count": 3,
     "metadata": {},
     "output_type": "execute_result"
    }
   ],
   "source": [
    "pharma = Pharmacophore.Pharmacophore([\n",
    "    ChemicalFeatures.FreeChemicalFeature(\"Donor\", Geometry.Point3D(1, 1, 1)),\n",
    "    ChemicalFeatures.FreeChemicalFeature(\"Acceptor\", Geometry.Point3D(-1, 0, -1)),\n",
    "])\n",
    "\n",
    "pharma"
   ]
  },
  {
   "cell_type": "code",
   "execution_count": 6,
   "id": "c1ead5e1-fed0-4838-976c-def0d4066e37",
   "metadata": {},
   "outputs": [
    {
     "data": {
      "text/plain": [
       "[<rdkit.Chem.rdChemicalFeatures.FreeChemicalFeature at 0x7fdaa9164cb0>,\n",
       " <rdkit.Chem.rdChemicalFeatures.FreeChemicalFeature at 0x7fdaa9164d70>]"
      ]
     },
     "execution_count": 6,
     "metadata": {},
     "output_type": "execute_result"
    }
   ],
   "source": [
    "pharma.getFeatures()"
   ]
  },
  {
   "cell_type": "code",
   "execution_count": 23,
   "id": "53f9ecad-428e-48a3-9505-00966f1cac4f",
   "metadata": {},
   "outputs": [
    {
     "name": "stdout",
     "output_type": "stream",
     "text": [
      "Donor\n",
      "Coords are (1.0, 1.0, 1.0)\n"
     ]
    }
   ],
   "source": [
    "myFeat = ChemicalFeatures.FreeChemicalFeature(\"Donor\", Geometry.Point3D(1, 1, 1))\n",
    "print(myFeat.GetFamily())\n",
    "print(\"Coords are ({}, {}, {})\".format(myFeat.GetPos().x, myFeat.GetPos().y, myFeat.GetPos().z))"
   ]
  },
  {
   "cell_type": "code",
   "execution_count": 21,
   "id": "dc43bcbf-cc53-4da7-8cb6-1c25e1285c2f",
   "metadata": {},
   "outputs": [
    {
     "name": "stdout",
     "output_type": "stream",
     "text": [
      "1.0\n",
      "1.0\n",
      "1.0\n"
     ]
    }
   ],
   "source": [
    "point1 = Geometry.Point3D(1, 1, 1)\n",
    "point2 = Geometry.Point3D(1, 1, 1)\n",
    "print(point1.x)\n",
    "print(point1.y)\n",
    "print(point1.z)"
   ]
  },
  {
   "cell_type": "code",
   "execution_count": 25,
   "id": "4e4fa963-b322-4fea-b8db-c8a0d8783f97",
   "metadata": {},
   "outputs": [
    {
     "data": {
      "text/plain": [
       "True"
      ]
     },
     "execution_count": 25,
     "metadata": {},
     "output_type": "execute_result"
    }
   ],
   "source": [
    "import numpy as np\n",
    "\n",
    "myArray = [0.99999, 0.99999]\n",
    "myOtherArray = [1.0, 1.0]\n",
    "\n",
    "np.allclose(myArray, myOtherArray)"
   ]
  },
  {
   "cell_type": "code",
   "execution_count": 24,
   "id": "28efb263-4eee-4dad-b922-1b759c6c4aa8",
   "metadata": {},
   "outputs": [],
   "source": [
    "#help(Geometry.Point3D)"
   ]
  },
  {
   "cell_type": "code",
   "execution_count": 17,
   "id": "ada128e9-ab18-403d-872f-db65db6c0cca",
   "metadata": {},
   "outputs": [],
   "source": [
    "#help(Pharmacophore.Pharmacophore)"
   ]
  },
  {
   "cell_type": "code",
   "execution_count": 18,
   "id": "fcbec15e-6ea6-432f-b7b8-028b616cf74c",
   "metadata": {},
   "outputs": [],
   "source": [
    "#help(ChemicalFeatures.FreeChemicalFeature)"
   ]
  }
 ],
 "metadata": {
  "kernelspec": {
   "display_name": "Python 3 (ipykernel)",
   "language": "python",
   "name": "python3"
  },
  "language_info": {
   "codemirror_mode": {
    "name": "ipython",
    "version": 3
   },
   "file_extension": ".py",
   "mimetype": "text/x-python",
   "name": "python",
   "nbconvert_exporter": "python",
   "pygments_lexer": "ipython3",
   "version": "3.7.10"
  }
 },
 "nbformat": 4,
 "nbformat_minor": 5
}
