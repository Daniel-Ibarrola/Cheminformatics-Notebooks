{
 "cells": [
  {
   "cell_type": "code",
   "execution_count": 10,
   "id": "fe4f73af-5baf-42c5-8ac5-61f196c33f8e",
   "metadata": {},
   "outputs": [],
   "source": [
    "from openpharmacophore.screening.alignment import *\n",
    "from openpharmacophore.pharmacophore import Pharmacophore\n",
    "from openpharmacophore import pharmacophoric_elements\n",
    "import pyunitwizard as puw\n",
    "\n",
    "from rdkit import Chem, RDLogger, RDConfig\n",
    "from rdkit.Chem import ChemicalFeatures, rdDistGeom\n",
    "from rdkit.Chem.Pharm3D import EmbedLib\n",
    "RDLogger.DisableLog('rdApp.*')\n",
    "\n",
    "import bisect\n",
    "from operator import itemgetter\n",
    "import os"
   ]
  },
  {
   "cell_type": "code",
   "execution_count": 16,
   "id": "17ad7bfb-fb8b-4223-a973-97365e098452",
   "metadata": {},
   "outputs": [],
   "source": [
    "def align_molecules(pharmacophore, molecules, verbose=0):\n",
    "    \"\"\" Align a list of molecules to a given pharmacophore.\n",
    "\n",
    "    Parameters\n",
    "    ----------\n",
    "    molecules: list of rdkit.Chem.mol\n",
    "        List of molecules to align.\n",
    "\n",
    "    verbose: int\n",
    "        Level of verbosity\n",
    "\n",
    "\n",
    "    \"\"\"\n",
    "    n_molecules = len(molecules)\n",
    "    n_matches = 0\n",
    "    n_fails = 0\n",
    "    aligned_mols = []\n",
    "    \n",
    "    rdkit_pharmacophore, radii = pharmacophore.to_rdkit()\n",
    "    apply_radii_to_bounds(radii, rdkit_pharmacophore)\n",
    "\n",
    "    fdef = os.path.join(RDConfig.RDDataDir,'BaseFeatures.fdef')\n",
    "    featFactory = ChemicalFeatures.BuildFeatureFactory(fdef)\n",
    "\n",
    "    for i, mol in enumerate(molecules):\n",
    "\n",
    "        if verbose == 1 and i % 100 == 0 and i != 0:\n",
    "            print(f\"Screened {i} molecules. Number of matches: {n_matches}; Number of fails: {n_fails}\")\n",
    "\n",
    "        bounds_matrix = rdDistGeom.GetMoleculeBoundsMatrix(mol)\n",
    "        # Check if the molecule features can match with the pharmacophore.\n",
    "        can_match, all_matches = EmbedLib.MatchPharmacophoreToMol(mol, featFactory, rdkit_pharmacophore)\n",
    "        # all_matches is a list of tuples where each tuple contains the chemical features\n",
    "        if can_match:\n",
    "            # Match the molecule to the pharmacophore without aligning it\n",
    "            failed, bounds_matrix_matched, matched_mols, match_details = EmbedLib.MatchPharmacophore(all_matches, \n",
    "                                                                                            bounds_matrix,\n",
    "                                                                                            rdkit_pharmacophore, \n",
    "                                                                                            useDownsampling=True)\n",
    "            if failed:\n",
    "                if verbose == 2:\n",
    "                    print(f\"Couldn't embed molecule {i}\")\n",
    "                n_fails += 1\n",
    "                continue\n",
    "        else:\n",
    "            if verbose == 2:\n",
    "                print(f\"Couldn't match molecule {i}\")\n",
    "            n_fails += 1\n",
    "            continue\n",
    "        atom_match = [list(x.GetAtomIds()) for x in matched_mols]\n",
    "        try:\n",
    "            mol_H = Chem.AddHs(mol)\n",
    "            # Embed molecule onto the pharmacophore\n",
    "            # embeddings is a list of molecules with a single conformer\n",
    "            b_matrix, embeddings, num_fail = EmbedLib.EmbedPharmacophore(mol_H, atom_match, rdkit_pharmacophore, count=10)\n",
    "        except Exception as e:\n",
    "            if verbose == 2:\n",
    "                print(e)\n",
    "                print (f\"Bounds smoothing failed for molecule {i}\")\n",
    "            n_fails += 1\n",
    "            continue\n",
    "        # Align embeddings to the pharmacophore \n",
    "        SSDs = transform_embeddings(rdkit_pharmacophore, embeddings, atom_match) \n",
    "        best_fit_index = min(enumerate(SSDs), key=itemgetter(1))[0]\n",
    "        \n",
    "        try:\n",
    "            mol_id = mol.GetProp(\"_Name\")\n",
    "        except:\n",
    "            mol_id = None\n",
    "        matched_mol = (SSDs[best_fit_index], mol_id, embeddings[best_fit_index])\n",
    "        # Append to list in ordered manner\n",
    "        try:\n",
    "            bisect.insort(aligned_mols, matched_mol) \n",
    "            n_matches += 1\n",
    "        except:\n",
    "            # Case when a molecule is repeated. It will throw an error since bisect\n",
    "            # cannot compare molecules.\n",
    "            n_molecules -= 1\n",
    "            continue\n",
    "        \n",
    "    return aligned_mols, n_matches, n_fails, n_molecules"
   ]
  },
  {
   "cell_type": "code",
   "execution_count": 3,
   "id": "b4b9a5bf-1f0e-4b19-be74-9a473100538f",
   "metadata": {},
   "outputs": [
    {
     "data": {
      "text/plain": [
       "Pharmacophore(n_elements: 4)"
      ]
     },
     "execution_count": 3,
     "metadata": {},
     "output_type": "execute_result"
    }
   ],
   "source": [
    "elements = [\n",
    "    pharmacophoric_elements.HBAcceptorSphere(center=puw.quantity([3.877, 7.014, 1.448], \"angstroms\"),\n",
    "                                             radius=puw.quantity(1.0, \"angstroms\")),\n",
    "    pharmacophoric_elements.HBAcceptorSphere(center=puw.quantity([7.22, 11.077, 5.625], \"angstroms\"),\n",
    "                                             radius=puw.quantity(1.0, \"angstroms\")),\n",
    "    pharmacophoric_elements.HBDonorSphere(center=puw.quantity([4.778, 8.432, 7.805], \"angstroms\"),\n",
    "                                         radius=puw.quantity(1.0, \"angstroms\")),\n",
    "    pharmacophoric_elements.AromaticRingSphere(center=puw.quantity([1.56433333333334, 7.06399999999999, 3.135], \"angstroms\"),\n",
    "                                              radius=puw.quantity(1.0, \"angstroms\"))\n",
    "]\n",
    "\n",
    "pharmacophore = Pharmacophore(elements)\n",
    "pharmacophore"
   ]
  },
  {
   "cell_type": "code",
   "execution_count": 4,
   "id": "b4c3609c-7b7b-407b-bff8-dc5280fa0d91",
   "metadata": {},
   "outputs": [],
   "source": [
    "mols = ['Cc1cccc(c2n[nH]cc2c3ccc4ncccc4n3)n1',\n",
    "      'Cc1cccnc1c2nc(N)sc2c3nc4cccnc4cc3',\n",
    "      'Cc1cccc(c2[nH]c(CNc5cc(C(=O)N)ccc5)nc2c3ccc4nccnc4c3)n1',\n",
    "      'Clc1cccc(c2nc(N)sc2c3ccc4ncccc4n3)c1',\n",
    "      'n1ccccc1c2nn3CCCc3c2c4ccnc5cc(NC(=O)NCCN(C)C)ccc45']\n",
    "\n",
    "mols = [Chem.MolFromSmiles(mol) for mol in mols]"
   ]
  },
  {
   "cell_type": "code",
   "execution_count": 17,
   "id": "452fe23c-63b3-44c2-9b69-1158d01748a8",
   "metadata": {},
   "outputs": [
    {
     "name": "stdout",
     "output_type": "stream",
     "text": [
      "Couldn't embed molecule 3\n"
     ]
    }
   ],
   "source": [
    "aligned_mols, n_matches, n_fails, n_molecules = align_molecules(pharmacophore, mols, verbose=2)"
   ]
  },
  {
   "cell_type": "code",
   "execution_count": 18,
   "id": "38fd5227-e841-4c9b-8dfc-a617f8b07c30",
   "metadata": {},
   "outputs": [
    {
     "name": "stdout",
     "output_type": "stream",
     "text": [
      "5 molecules in total\n",
      "4 matches\n",
      "1 fails\n"
     ]
    }
   ],
   "source": [
    "print(f\"{n_molecules} molecules in total\")\n",
    "print(f\"{n_matches} matches\")\n",
    "print(f\"{n_fails} fails\")"
   ]
  },
  {
   "cell_type": "code",
   "execution_count": 19,
   "id": "846cd02c-c637-4f30-ad6e-a5af5409135e",
   "metadata": {},
   "outputs": [
    {
     "data": {
      "text/plain": [
       "[(4.70411856635215, None, <rdkit.Chem.rdchem.Mol at 0x7f1c9922ec70>),\n",
       " (5.368822003302398, None, <rdkit.Chem.rdchem.Mol at 0x7f1c991a31f0>),\n",
       " (5.890963357713666, None, <rdkit.Chem.rdchem.Mol at 0x7f1c991a3c30>),\n",
       " (6.35723689660432, None, <rdkit.Chem.rdchem.Mol at 0x7f1c991a3770>)]"
      ]
     },
     "execution_count": 19,
     "metadata": {},
     "output_type": "execute_result"
    }
   ],
   "source": [
    "aligned_mols"
   ]
  },
  {
   "cell_type": "code",
   "execution_count": 33,
   "id": "eba9231c-aab7-4352-8d61-72ac733b0308",
   "metadata": {},
   "outputs": [],
   "source": [
    "def align_single_molecule(pharmacophore, mol, verbose=0):\n",
    "    \"\"\" Align a list of molecules to a given pharmacophore.\n",
    "\n",
    "    Parameters\n",
    "    ----------\n",
    "    molecules: list of rdkit.Chem.mol\n",
    "        List of molecules to align.\n",
    "\n",
    "    verbose: int\n",
    "        Level of verbosity\n",
    "\n",
    "\n",
    "    \"\"\"\n",
    "    rdkit_pharmacophore, radii = pharmacophore.to_rdkit()\n",
    "    apply_radii_to_bounds(radii, rdkit_pharmacophore)\n",
    "\n",
    "    fdef = os.path.join(RDConfig.RDDataDir,'BaseFeatures.fdef')\n",
    "    featFactory = ChemicalFeatures.BuildFeatureFactory(fdef)\n",
    "\n",
    "    bounds_matrix = rdDistGeom.GetMoleculeBoundsMatrix(mol)\n",
    "    # Check if the molecule features can match with the pharmacophore.\n",
    "    can_match, all_matches = EmbedLib.MatchPharmacophoreToMol(mol, featFactory, rdkit_pharmacophore)\n",
    "    # all_matches is a list of tuples where each tuple contains the chemical features\n",
    "    print(\"All matches \", all_matches)\n",
    "    failed, bounds_matrix_matched, matched_mols, match_details = EmbedLib.MatchPharmacophore(all_matches, \n",
    "                                                                                    bounds_matrix,\n",
    "                                                                                    rdkit_pharmacophore, \n",
    "                                                                                    useDownsampling=True)\n",
    "    print(\"\\n\\nMatched mols \", matched_mols)\n",
    "    atom_match = [list(x.GetAtomIds()) for x in matched_mols]\n",
    "    mol_H = Chem.AddHs(mol)\n",
    "    b_matrix, embeddings, num_fail = EmbedLib.EmbedPharmacophore(mol_H, atom_match, rdkit_pharmacophore, count=10)\n",
    "    # Align embeddings to the pharmacophore \n",
    "    SSDs = transform_embeddings(rdkit_pharmacophore, embeddings, atom_match) \n",
    "    best_fit_index = min(enumerate(SSDs), key=itemgetter(1))[0]\n",
    "\n",
    "    matched_mol = (SSDs[best_fit_index], embeddings[best_fit_index])\n",
    "    \n",
    "    return matched_mol"
   ]
  },
  {
   "cell_type": "code",
   "execution_count": 34,
   "id": "b38ac70e-74cd-4f72-8221-8bdf8918e935",
   "metadata": {},
   "outputs": [
    {
     "name": "stdout",
     "output_type": "stream",
     "text": [
      "All matches  [(<rdkit.Chem.rdMolChemicalFeatures.MolChemicalFeature object at 0x7f1c98eea1b0>, <rdkit.Chem.rdMolChemicalFeatures.MolChemicalFeature object at 0x7f1c98eea2d0>, <rdkit.Chem.rdMolChemicalFeatures.MolChemicalFeature object at 0x7f1c98eea3f0>, <rdkit.Chem.rdMolChemicalFeatures.MolChemicalFeature object at 0x7f1c98eea510>, <rdkit.Chem.rdMolChemicalFeatures.MolChemicalFeature object at 0x7f1c98eea630>), (<rdkit.Chem.rdMolChemicalFeatures.MolChemicalFeature object at 0x7f1c98eea1b0>, <rdkit.Chem.rdMolChemicalFeatures.MolChemicalFeature object at 0x7f1c98eea2d0>, <rdkit.Chem.rdMolChemicalFeatures.MolChemicalFeature object at 0x7f1c98eea3f0>, <rdkit.Chem.rdMolChemicalFeatures.MolChemicalFeature object at 0x7f1c98eea510>, <rdkit.Chem.rdMolChemicalFeatures.MolChemicalFeature object at 0x7f1c98eea630>), (<rdkit.Chem.rdMolChemicalFeatures.MolChemicalFeature object at 0x7f1c98eea750>, <rdkit.Chem.rdMolChemicalFeatures.MolChemicalFeature object at 0x7f1c98eea870>, <rdkit.Chem.rdMolChemicalFeatures.MolChemicalFeature object at 0x7f1c98eea990>, <rdkit.Chem.rdMolChemicalFeatures.MolChemicalFeature object at 0x7f1c98eeaab0>), (<rdkit.Chem.rdMolChemicalFeatures.MolChemicalFeature object at 0x7f1c98eeabd0>, <rdkit.Chem.rdMolChemicalFeatures.MolChemicalFeature object at 0x7f1c98eeacf0>, <rdkit.Chem.rdMolChemicalFeatures.MolChemicalFeature object at 0x7f1c98eeae10>, <rdkit.Chem.rdMolChemicalFeatures.MolChemicalFeature object at 0x7f1c98eeaf30>, <rdkit.Chem.rdMolChemicalFeatures.MolChemicalFeature object at 0x7f1c98ee3090>)]\n",
      "\n",
      "\n",
      "Matched mols  [<rdkit.Chem.rdMolChemicalFeatures.MolChemicalFeature object at 0x7f1c98eea1b0>, <rdkit.Chem.rdMolChemicalFeatures.MolChemicalFeature object at 0x7f1c98eea2d0>, <rdkit.Chem.rdMolChemicalFeatures.MolChemicalFeature object at 0x7f1c98eea750>, <rdkit.Chem.rdMolChemicalFeatures.MolChemicalFeature object at 0x7f1c98eeae10>]\n"
     ]
    },
    {
     "data": {
      "text/plain": [
       "(5.368822003302398, <rdkit.Chem.rdchem.Mol at 0x7f1c98ee2570>)"
      ]
     },
     "execution_count": 34,
     "metadata": {},
     "output_type": "execute_result"
    }
   ],
   "source": [
    "align_single_molecule(pharmacophore, mols[2], verbose=0)"
   ]
  }
 ],
 "metadata": {
  "kernelspec": {
   "display_name": "Python 3 (ipykernel)",
   "language": "python",
   "name": "python3"
  },
  "language_info": {
   "codemirror_mode": {
    "name": "ipython",
    "version": 3
   },
   "file_extension": ".py",
   "mimetype": "text/x-python",
   "name": "python",
   "nbconvert_exporter": "python",
   "pygments_lexer": "ipython3",
   "version": "3.7.10"
  }
 },
 "nbformat": 4,
 "nbformat_minor": 5
}
