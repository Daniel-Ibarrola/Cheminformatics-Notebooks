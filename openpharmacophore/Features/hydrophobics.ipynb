{
 "cells": [
  {
   "cell_type": "code",
   "execution_count": 10,
   "id": "68e3f500-1007-43fa-b88b-eb978c33ac1d",
   "metadata": {},
   "outputs": [],
   "source": [
    "from openpharmacophore.utils import ligand_features, conformers\n",
    "from openpharmacophore.pharmacophore import Pharmacophore\n",
    "from rdkit import Chem"
   ]
  },
  {
   "cell_type": "code",
   "execution_count": 4,
   "id": "4decbd1a-eaa5-41f5-a120-f9b7fe3dc7b0",
   "metadata": {},
   "outputs": [
    {
     "data": {
      "image/png": "[encoded data removed]",
      "text/plain": [
       "<rdkit.Chem.rdchem.Mol at 0x7fb45cad9440>"
      ]
     },
     "execution_count": 4,
     "metadata": {},
     "output_type": "execute_result"
    }
   ],
   "source": [
    "mol = Chem.MolFromSmiles(\"CC1=CC(=CC(=C1OCCCC2=CC(=NO2)C)C)C3=NOC(=N3)C(F)(F)F\")\n",
    "mol"
   ]
  },
  {
   "cell_type": "code",
   "execution_count": 15,
   "id": "799fc03c-ddf8-41cd-ab4a-003423a05cb0",
   "metadata": {},
   "outputs": [],
   "source": [
    "hydrophobic_smarts = [\n",
    "        \"[$([CH3X4,CH2X3,CH1X2,F,Cl,Br,I])&!$(**[CH3X4,CH2X3,CH1X2,F,Cl,Br,I])]\",\n",
    "        \"[$(*([CH3X4,CH2X3,CH1X2,F,Cl,Br,I])[CH3X4,CH2X3,CH1X2,F,Cl,Br,I])&!$(*([CH3X4,CH2X3,CH1X2,F,Cl,Br,I])([CH3X4,CH2X3,CH1X2,F,Cl,Br,I])[CH3X4,CH2X3,CH1X2,F,Cl,Br,I])]([CH3X4,CH2X3,CH1X2,F,Cl,Br,I])[CH3X4,CH2X3,CH1X2,F,Cl,Br,I]\",\n",
    "        \"[C&r3]1~[C&r3]~[C&r3]1\",\n",
    "        \"[C&r4]1~[C&r4]~[C&r4]~[C&r4]1\",\n",
    "        \"[C&r5]1~[C&r5]~[C&r5]~[C&r5]~[C&r5]1\",\n",
    "        \"[C&r6]1~[C&r6]~[C&r6]~[C&r6]~[C&r6]~[C&r6]1\",\n",
    "        \"[C&r7]1~[C&r7]~[C&r7]~[C&r7]~[C&r7]~[C&r7]~[C&r7]1\",\n",
    "        \"[C&r8]1~[C&r8]~[C&r8]~[C&r8]~[C&r8]~[C&r8]~[C&r8]~[C&r8]1\",\n",
    "        \"[CH2X4,CH1X3,CH0X2]~[CH3X4,CH2X3,CH1X2,F,Cl,Br,I]\",\n",
    "        \"[$([CH2X4,CH1X3,CH0X2]~[$([!#1]);!$([CH2X4,CH1X3,CH0X2])])]~[CH2X4,CH1X3,CH0X2]~[CH2X4,CH1X3,CH0X2]\",\n",
    "        \"[$([CH2X4,CH1X3,CH0X2]~[CH2X4,CH1X3,CH0X2]~[$([CH2X4,CH1X3,CH0X2]~[$([!#1]);!$([CH2X4,CH1X3,CH0X2])])])]~[CH2X4,CH1X3,CH0X2]~[CH2X4,CH1X3,CH0X2]~[CH2X4,CH1X3,CH0X2]\",\n",
    "        \"[$([S]~[#6])&!$(S~[!#6])]\",\n",
    "        ]\n",
    "\n",
    "smarts_dict = {smarts : \"Hydrophobe\" for smarts in hydrophobic_smarts}\n",
    "\n",
    "mol = conformers.generate_conformers(mol, 1, 1)\n",
    "points = ligand_features.ligands_pharmacophoric_points(mol, 1.0, feat_def=smarts_dict)"
   ]
  },
  {
   "cell_type": "code",
   "execution_count": 16,
   "id": "853350a3-2549-4d79-98df-0a2332378d34",
   "metadata": {},
   "outputs": [
    {
     "data": {
      "text/plain": [
       "{'ligand_0': {'conformer_0': [HydrophobicSphere(center: (1.4268, -1.9841, -1.4186); radius: 1.0),\n",
       "   HydrophobicSphere(center: (-2.1301, -0.5416, -0.4795); radius: 1.0)]}}"
      ]
     },
     "execution_count": 16,
     "metadata": {},
     "output_type": "execute_result"
    }
   ],
   "source": [
    "points"
   ]
  },
  {
   "cell_type": "code",
   "execution_count": 11,
   "id": "ecddfa8c-eb52-4d38-972d-9fabd1dd6b90",
   "metadata": {},
   "outputs": [
    {
     "data": {
      "text/plain": [
       "Pharmacophore(n_elements: 2)"
      ]
     },
     "execution_count": 11,
     "metadata": {},
     "output_type": "execute_result"
    }
   ],
   "source": [
    "ph4 = Pharmacophore(\n",
    "    elements=points[\"ligand_0\"][\"conformer_0\"])\n",
    "ph4"
   ]
  },
  {
   "cell_type": "code",
   "execution_count": 12,
   "id": "4e227994-dad9-4b81-8d94-8888942e2c75",
   "metadata": {},
   "outputs": [
    {
     "data": {
      "application/vnd.jupyter.widget-view+json": {
       "model_id": "18810700591142dd970fe61a3a4ab4ff",
       "version_major": 2,
       "version_minor": 0
      },
      "text/plain": [
       "NGLWidget()"
      ]
     },
     "metadata": {},
     "output_type": "display_data"
    }
   ],
   "source": [
    "import nglview as nv\n",
    "\n",
    "view = nv.NGLWidget()\n",
    "view.add_component(mol)\n",
    "ph4.add_to_NGLView(view)\n",
    "view"
   ]
  }
 ],
 "metadata": {
  "kernelspec": {
   "display_name": "Python 3 (ipykernel)",
   "language": "python",
   "name": "python3"
  },
  "language_info": {
   "codemirror_mode": {
    "name": "ipython",
    "version": 3
   },
   "file_extension": ".py",
   "mimetype": "text/x-python",
   "name": "python",
   "nbconvert_exporter": "python",
   "pygments_lexer": "ipython3",
   "version": "3.7.10"
  }
 },
 "nbformat": 4,
 "nbformat_minor": 5
}
