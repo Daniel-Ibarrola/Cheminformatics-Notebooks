{
 "cells": [
  {
   "cell_type": "markdown",
   "id": "5cdf03e4-08bd-4f53-a512-7ca54ee91d6d",
   "metadata": {},
   "source": [
    "## Chemical Features of acetic acid"
   ]
  },
  {
   "cell_type": "code",
   "execution_count": 1,
   "id": "066294ef-2ed0-4ade-ac32-738e0add82cc",
   "metadata": {},
   "outputs": [],
   "source": [
    "%load_ext autoreload\n",
    "%autoreload 2"
   ]
  },
  {
   "cell_type": "code",
   "execution_count": 2,
   "id": "0fdafbcb-123f-4cef-9e3e-10856525eeb4",
   "metadata": {},
   "outputs": [
    {
     "data": {
      "application/vnd.jupyter.widget-view+json": {
       "model_id": "5343c0929dd94d0d84ba1ef66bcbc788",
       "version_major": 2,
       "version_minor": 0
      },
      "text/plain": []
     },
     "metadata": {},
     "output_type": "display_data"
    }
   ],
   "source": [
    "from rdkit import Chem, RDConfig\n",
    "from rdkit.Chem import AllChem, ChemicalFeatures\n",
    "from rdkit import RDLogger \n",
    "RDLogger.DisableLog('rdApp.*')\n",
    "\n",
    "from openpharmacophore.ligand_based import LigandBasedPharmacophore\n",
    "from openpharmacophore.utils.ligand_features import ligands_pharmacophoric_points\n",
    "from openpharmacophore.utils.rdkit_to_point import rdkit_to_point\n",
    "from openpharmacophore.utils.conformers import generate_conformers\n",
    "from openpharmacophore.utils.load_custom_feats import load_smarts_fdef\n",
    "from openpharmacophore import pharmacophoric_elements\n",
    "from openpharmacophore.visualization.view_ligands import view_ligands\n",
    "\n",
    "import os\n",
    "import numpy as np\n",
    "import pyunitwizard as puw\n",
    "import nglview as nv"
   ]
  },
  {
   "cell_type": "code",
   "execution_count": 3,
   "id": "f5566c68-f887-4364-a2e6-f9b677f66d69",
   "metadata": {},
   "outputs": [
    {
     "data": {
      "image/png": "[encoded data removed]",
      "text/plain": [
       "<rdkit.Chem.rdchem.Mol at 0x7f8a32e61580>"
      ]
     },
     "execution_count": 3,
     "metadata": {},
     "output_type": "execute_result"
    }
   ],
   "source": [
    "acetic_acid = Chem.MolFromSmiles(\"CC(=O)O\")\n",
    "acetic_acid"
   ]
  },
  {
   "cell_type": "markdown",
   "id": "bb854b79-a381-4b4f-b61d-af86a6be5053",
   "metadata": {},
   "source": [
    "### Get Chemical features using rdkit's definition"
   ]
  },
  {
   "cell_type": "code",
   "execution_count": 4,
   "id": "51b3ac01-c252-4efc-b5a4-2e3bb81cba4b",
   "metadata": {},
   "outputs": [
    {
     "name": "stdout",
     "output_type": "stream",
     "text": [
      "Donor, atoms: (3,)\n",
      "Acceptor, atoms: (2,)\n",
      "Acceptor, atoms: (3,)\n",
      "NegIonizable, atoms: (1, 2, 3)\n",
      "Hydrophobe, atoms: (0,)\n"
     ]
    }
   ],
   "source": [
    "acetic_acid = generate_conformers(acetic_acid, 1, random_seed=1, alignment=False)\n",
    "\n",
    "# Get features for acetic acid\n",
    "# RDKIT DEFINITION\n",
    "fdefName = os.path.join(RDConfig.RDDataDir,'BaseFeatures.fdef')\n",
    "factory = ChemicalFeatures.BuildFeatureFactory(fdefName)\n",
    "feats = factory.GetFeaturesForMol(acetic_acid)\n",
    "feat_list = ['Acceptor', 'Aromatic', 'Donor', 'Hydrophobe', 'PosIonizable', 'NegIonizable']\n",
    "for f in feats:\n",
    "        feat_name = f.GetFamily()\n",
    "        if feat_name not in feat_list:\n",
    "            continue\n",
    "        atom_idxs = f.GetAtomIds()\n",
    "        print(f\"{feat_name}, atoms: {atom_idxs}\")"
   ]
  },
  {
   "cell_type": "code",
   "execution_count": 5,
   "id": "4ef1e606-9a2d-4d89-8ac8-962665e17caa",
   "metadata": {},
   "outputs": [
    {
     "data": {
      "text/plain": [
       "[<openpharmacophore.pharmacophoric_elements.hb_donor.HBDonorSphereAndVector at 0x7f8a2e870390>,\n",
       " <openpharmacophore.pharmacophoric_elements.hb_acceptor.HBAcceptorSphereAndVector at 0x7f8a2cd87b50>,\n",
       " <openpharmacophore.pharmacophoric_elements.hb_acceptor.HBAcceptorSphereAndVector at 0x7f8a32e751d0>,\n",
       " NegativeChargeSphere(center: [0.08966065176585349 0.03784658233931392 -0.01482808230401158] nanometer; radius: 0.049999999999999996 nanometer),\n",
       " HydrophobicSphere(center: [-0.09784806639803127 -0.007748464893933106 0.002340867834109689] nanometer; radius: 0.049999999999999996 nanometer)]"
      ]
     },
     "execution_count": 5,
     "metadata": {},
     "output_type": "execute_result"
    }
   ],
   "source": [
    "# Get openpharmacophore points\n",
    "# Spheres point type\n",
    "points = ligands_pharmacophoric_points(acetic_acid, feat_list=None, feat_def=None, \n",
    "                               point_type=\"spheres_vectors\", radius=0.5)\n",
    "points = points[\"ligand_0\"][\"conformer_0\"]\n",
    "points"
   ]
  },
  {
   "cell_type": "code",
   "execution_count": 6,
   "id": "89509be0-5b4d-494d-a0b8-55c66f602676",
   "metadata": {},
   "outputs": [
    {
     "data": {
      "application/vnd.jupyter.widget-view+json": {
       "model_id": "8bae27ececc24da589233ed2f9a5ed41",
       "version_major": 2,
       "version_minor": 0
      },
      "text/plain": [
       "NGLWidget()"
      ]
     },
     "metadata": {},
     "output_type": "display_data"
    }
   ],
   "source": [
    "pharmacophore = LigandBasedPharmacophore(elements=points, molecular_system=acetic_acid)\n",
    "pharmacophore.show()"
   ]
  },
  {
   "cell_type": "markdown",
   "id": "a65c0ec5-064c-4571-af25-abde70bc3110",
   "metadata": {},
   "source": [
    "### Load a custom features definition and get acetic acid's chemical features"
   ]
  },
  {
   "cell_type": "code",
   "execution_count": 7,
   "id": "fe7d0f2d-824a-4d8a-b23c-e60a43706bb5",
   "metadata": {},
   "outputs": [],
   "source": [
    "custom_feat_def = load_smarts_fdef(\"../data/feat_defs/smarts_features.txt\")\n",
    "# custom_feat_def"
   ]
  },
  {
   "cell_type": "code",
   "execution_count": 8,
   "id": "893a3b33-886b-4f23-88ea-7c5e2df28f63",
   "metadata": {},
   "outputs": [
    {
     "name": "stdout",
     "output_type": "stream",
     "text": [
      "Acceptor, atoms: (2,)\n",
      "NegIonizable, atoms: (1, 2, 3)\n",
      "Hydrophobe, atoms: (0,)\n"
     ]
    }
   ],
   "source": [
    "# Get features for acetic acid\n",
    "# Custom DEFINITION\n",
    "feat_list = ['Acceptor', 'Aromatic', 'Donor', 'Hydrophobe', 'PosIonizable', 'NegIonizable']\n",
    "        \n",
    "for feat, feat_name in custom_feat_def.items():\n",
    "            if feat_name not in feat_list:\n",
    "                continue\n",
    "            pattern = Chem.MolFromSmarts(feat)  \n",
    "            atom_idxs = acetic_acid.GetSubstructMatch(pattern)\n",
    "            if len(atom_idxs) == 0:\n",
    "                continue\n",
    "            print(f\"{feat_name}, atoms: {atom_idxs}\")"
   ]
  },
  {
   "cell_type": "code",
   "execution_count": 9,
   "id": "3d4f0a4b-ca4a-40a4-bca6-0725bea8eb26",
   "metadata": {},
   "outputs": [
    {
     "data": {
      "text/plain": [
       "[HBAcceptorSphere(center: [0.07903459193908467 0.1487388014682705 0.002355596284157232] nanometer; radius: 0.09999999999999999 nanometer),\n",
       " NegativeChargeSphere(center: [0.08966065176585349 0.03784658233931392 -0.01482808230401158] nanometer; radius: 0.09999999999999999 nanometer),\n",
       " HydrophobicSphere(center: [-0.09784806639803127 -0.007748464893933106 0.002340867834109689] nanometer; radius: 0.09999999999999999 nanometer)]"
      ]
     },
     "execution_count": 9,
     "metadata": {},
     "output_type": "execute_result"
    }
   ],
   "source": [
    "# Get openpharmacophore points\n",
    "acetic_acid = generate_conformers(acetic_acid, 1, random_seed=1, alignment=False)\n",
    "points = ligands_pharmacophoric_points(acetic_acid, feat_list=None, feat_def=custom_feat_def, \n",
    "                               point_type=\"spheres\", radius=1)\n",
    "points = points[\"ligand_0\"][\"conformer_0\"]\n",
    "points"
   ]
  },
  {
   "cell_type": "code",
   "execution_count": 10,
   "id": "d85a3ae3-653c-47ad-8cf7-8be69c7d55a2",
   "metadata": {},
   "outputs": [
    {
     "name": "stdout",
     "output_type": "stream",
     "text": [
      "Center = [0.07903459193908467 0.1487388014682705 0.002355596284157232] nanometer\n",
      "Radius = 0.09999999999999999 nanometer\n",
      "Center = [0.08966065176585349 0.03784658233931392 -0.01482808230401158] nanometer\n",
      "Radius = 0.09999999999999999 nanometer\n",
      "Center = [-0.09784806639803127 -0.007748464893933106 0.002340867834109689] nanometer\n",
      "Radius = 0.09999999999999999 nanometer\n"
     ]
    }
   ],
   "source": [
    "for point in points:\n",
    "    print(f\"Center = {point.center}\")\n",
    "    print(f\"Radius = {point.radius}\")"
   ]
  },
  {
   "cell_type": "markdown",
   "id": "85bc3027-6929-4bd8-bc98-fa2e8a991303",
   "metadata": {},
   "source": [
    "## Benzoic acid"
   ]
  },
  {
   "cell_type": "code",
   "execution_count": 11,
   "id": "e4d76d98-0140-4bf0-ab71-e534f551286a",
   "metadata": {},
   "outputs": [
    {
     "data": {
      "image/png": "[encoded data removed]",
      "text/plain": [
       "<rdkit.Chem.rdchem.Mol at 0x7f8a33b23c10>"
      ]
     },
     "execution_count": 11,
     "metadata": {},
     "output_type": "execute_result"
    }
   ],
   "source": [
    "benzoic_acid = Chem.MolFromSmiles(\"C1=CC=C(C=C1)C(=O)O\")\n",
    "benzoic_acid"
   ]
  },
  {
   "cell_type": "code",
   "execution_count": 12,
   "id": "48a1aaa8-dfc3-4256-8103-7de93c7e69a8",
   "metadata": {},
   "outputs": [],
   "source": [
    "benzoic_acid = generate_conformers(benzoic_acid, 1, random_seed=1, alignment=False)"
   ]
  },
  {
   "cell_type": "code",
   "execution_count": 13,
   "id": "6222083c-48a9-49a0-9a67-72a8f587cc07",
   "metadata": {},
   "outputs": [
    {
     "data": {
      "application/vnd.jupyter.widget-view+json": {
       "model_id": "3866a0354c9c4f87a690b5007efa4d5c",
       "version_major": 2,
       "version_minor": 0
      },
      "text/plain": [
       "NGLWidget()"
      ]
     },
     "metadata": {},
     "output_type": "display_data"
    }
   ],
   "source": [
    "feat_list = ['Acceptor', 'Aromatic', 'Donor', 'PosIonizable', 'NegIonizable']\n",
    "\n",
    "benzoic_points = ligands_pharmacophoric_points(benzoic_acid, feat_list=feat_list, feat_def=None, \n",
    "                               point_type=\"spheres_vectors\", radius=1)\n",
    "benzoic_points = benzoic_points[\"ligand_0\"][\"conformer_0\"]\n",
    "\n",
    "benzoic_pharmacophore = LigandBasedPharmacophore(elements=benzoic_points,\n",
    "                                                molecular_system=benzoic_acid)\n",
    "\n",
    "benzoic_pharmacophore.remove_element(2)\n",
    "benzoic_pharmacophore.remove_feature(\"negative charge\")\n",
    "benzoic_pharmacophore.show()"
   ]
  }
 ],
 "metadata": {
  "kernelspec": {
   "display_name": "Python 3 (ipykernel)",
   "language": "python",
   "name": "python3"
  },
  "language_info": {
   "codemirror_mode": {
    "name": "ipython",
    "version": 3
   },
   "file_extension": ".py",
   "mimetype": "text/x-python",
   "name": "python",
   "nbconvert_exporter": "python",
   "pygments_lexer": "ipython3",
   "version": "3.7.10"
  }
 },
 "nbformat": 4,
 "nbformat_minor": 5
}
