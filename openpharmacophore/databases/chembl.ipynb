{
 "cells": [
  {
   "cell_type": "code",
   "execution_count": 1,
   "id": "1aa00030-df4f-471a-bb94-2f477abc448a",
   "metadata": {},
   "outputs": [],
   "source": [
    "%load_ext autoreload\n",
    "%autoreload 2"
   ]
  },
  {
   "cell_type": "markdown",
   "id": "e5a0a7c9-8610-4aab-bd97-2c0f67d62aaa",
   "metadata": {},
   "source": [
    "## ChemBL database"
   ]
  },
  {
   "cell_type": "code",
   "execution_count": 5,
   "id": "d808e36d-8d6e-42b6-9fac-688cb2779f63",
   "metadata": {},
   "outputs": [],
   "source": [
    "from openpharmacophore.databases import chembl\n",
    "import pickle"
   ]
  },
  {
   "cell_type": "markdown",
   "id": "7fe519fa-9386-4a6c-8fc4-e053115e72e8",
   "metadata": {},
   "source": [
    "### Getting bioactivity data for Epidermal growth factor receptor erbB1\n",
    "\n",
    "We can get a list of actives and inactives compound for a target. The chembl id for the epidermal growth factor is CHEMBL203."
   ]
  },
  {
   "cell_type": "code",
   "execution_count": 3,
   "id": "9aa8469e-dbd1-4b7a-9a32-d6477dd4ec3c",
   "metadata": {},
   "outputs": [
    {
     "name": "stdout",
     "output_type": "stream",
     "text": [
      "Downloading bioactivity data...\n"
     ]
    },
    {
     "data": {
      "application/vnd.jupyter.widget-view+json": {
       "model_id": "8c5411d9654549c2a018990e7d5cc71f",
       "version_major": 2,
       "version_minor": 0
      },
      "text/plain": [
       "  0%|          | 0/8816 [00:00<?, ?it/s]"
      ]
     },
     "metadata": {},
     "output_type": "display_data"
    },
    {
     "name": "stdout",
     "output_type": "stream",
     "text": [
      "Downloading compounds smiles...\n"
     ]
    },
    {
     "data": {
      "application/vnd.jupyter.widget-view+json": {
       "model_id": "0cbe65fb609a404da9d1449818044603",
       "version_major": 2,
       "version_minor": 0
      },
      "text/plain": [
       "  0%|          | 0/6059 [00:00<?, ?it/s]"
      ]
     },
     "metadata": {},
     "output_type": "display_data"
    }
   ],
   "source": [
    "target_id = \"CHEMBL203\"\n",
    "actives, inactives = chembl.get_training_data(target_id, pIC50_threshold=6.3)"
   ]
  },
  {
   "cell_type": "code",
   "execution_count": 4,
   "id": "c42dbe95-927c-4eda-b89c-2f0f17d21e82",
   "metadata": {},
   "outputs": [
    {
     "name": "stdout",
     "output_type": "stream",
     "text": [
      "Number of actives 3509\n",
      "Actives ids\n",
      "['CHEMBL101253', 'CHEMBL102726', 'CHEMBL104153']\n",
      "Actives smiles\n",
      "['Clc1ccc(Nc2nnc(Cc3ccncc3)c3ccccc23)cc1', 'c1ccc(CNc2ncnc3ccccc23)cc1', 'COc1ccc(Nc2ncc3cc(-c4c(Cl)cccc4Cl)c(=O)n(C)c3n2)cc1']\n",
      "\n",
      "Number of inactives 2543\n",
      "Inactives ids\n",
      "['CHEMBL10', 'CHEMBL1009', 'CHEMBL1016']\n",
      "Inactives smiles\n",
      "['C[S+]([O-])c1ccc(-c2nc(-c3ccc(F)cc3)c(-c3ccncc3)[nH]2)cc1', 'N[C@@H](Cc1ccc(O)c(O)c1)C(=O)O', 'CCOc1nc2cccc(C(=O)O)c2n1Cc1ccc(-c2ccccc2-c2nnn[nH]2)cc1']\n"
     ]
    }
   ],
   "source": [
    "print(\"Number of actives {}\".format(len(actives[0])))\n",
    "print(\"Actives ids\")\n",
    "print(actives[0][0:3])\n",
    "print(\"Actives smiles\")\n",
    "print(actives[1][0:3])\n",
    "print(\"\\nNumber of inactives {}\".format(len(inactives[0])))\n",
    "print(\"Inactives ids\")\n",
    "print(inactives[0][0:3])\n",
    "print(\"Inactives smiles\")\n",
    "print(inactives[1][0:3])"
   ]
  },
  {
   "cell_type": "code",
   "execution_count": null,
   "id": "d569a94b-a803-47e9-93a2-7a28f16e5f09",
   "metadata": {},
   "outputs": [],
   "source": [
    "# Save data to picke format\n",
    "molecules = {\n",
    "    \"actives\": actives,\n",
    "    \"inactives\": inactives\n",
    "}\n",
    "\n",
    "pickled_mols = pickle.dumps(molecules)\n",
    "with open(\"../../data/ligands/chembl_data\", \"wb\")"
   ]
  },
  {
   "cell_type": "markdown",
   "id": "5b041f8b-743f-4763-9e3d-bf956ec2c213",
   "metadata": {},
   "source": [
    "### Get set of molecules that do not violate Lipinsky's rule of 5"
   ]
  },
  {
   "cell_type": "code",
   "execution_count": null,
   "id": "db39388c-955a-46bc-a42f-faafd522f90c",
   "metadata": {},
   "outputs": [],
   "source": [
    "downloads = \"../../data/Databases/Chembl\"\n",
    "chembl.get_ro5_dataset(downloads)"
   ]
  }
 ],
 "metadata": {
  "kernelspec": {
   "display_name": "Python 3 (ipykernel)",
   "language": "python",
   "name": "python3"
  },
  "language_info": {
   "codemirror_mode": {
    "name": "ipython",
    "version": 3
   },
   "file_extension": ".py",
   "mimetype": "text/x-python",
   "name": "python",
   "nbconvert_exporter": "python",
   "pygments_lexer": "ipython3",
   "version": "3.7.10"
  }
 },
 "nbformat": 4,
 "nbformat_minor": 5
}
