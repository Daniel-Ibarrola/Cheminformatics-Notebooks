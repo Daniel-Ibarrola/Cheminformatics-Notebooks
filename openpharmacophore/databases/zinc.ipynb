{
 "cells": [
  {
   "cell_type": "code",
   "execution_count": 1,
   "id": "30e3c450-7e45-406f-a279-5fd4951688b2",
   "metadata": {},
   "outputs": [],
   "source": [
    "%load_ext autoreload\n",
    "%autoreload 2"
   ]
  },
  {
   "cell_type": "code",
   "execution_count": 1,
   "id": "535f9f28-ae1a-415b-9f27-2aa749543735",
   "metadata": {},
   "outputs": [
    {
     "data": {
      "application/vnd.jupyter.widget-view+json": {
       "model_id": "500dab1bda744552bee8cba51d53bdd7",
       "version_major": 2,
       "version_minor": 0
      },
      "text/plain": []
     },
     "metadata": {},
     "output_type": "display_data"
    }
   ],
   "source": [
    "from openpharmacophore.databases.zinc import download_ZINC\n",
    "import itertools\n",
    "import os\n",
    "import string"
   ]
  },
  {
   "cell_type": "code",
   "execution_count": null,
   "id": "24cc06db-4c04-420b-9887-22b6c4e3f94b",
   "metadata": {},
   "outputs": [],
   "source": [
    "path = \"./zinc/3d\"\n",
    "download_ZINC(download_path=path,\n",
    "                      subset=None,\n",
    "                      mol_weight_range=(200, 300),\n",
    "                      logp_range=(-1, 2),\n",
    "                      file_format=\"sdf\"\n",
    ")"
   ]
  },
  {
   "cell_type": "code",
   "execution_count": 5,
   "id": "a81f3a41-eab7-4758-b61c-c4e023a92279",
   "metadata": {},
   "outputs": [],
   "source": [
    "path = \"./zinc/3d\"\n",
    "urls = download_ZINC(download_path=path,\n",
    "                      subset=\"Drug-Like\",\n",
    "                      mol_weight_range=None,\n",
    "                      logp_range=None,\n",
    "                      file_format=\"sdf\",\n",
    "                      testing=True\n",
    ")"
   ]
  },
  {
   "cell_type": "code",
   "execution_count": 6,
   "id": "e79eed50-a5bb-42c0-8748-d44a4397a572",
   "metadata": {},
   "outputs": [
    {
     "data": {
      "text/plain": [
       "19420"
      ]
     },
     "execution_count": 6,
     "metadata": {},
     "output_type": "execute_result"
    }
   ],
   "source": [
    "len(urls)"
   ]
  },
  {
   "cell_type": "code",
   "execution_count": 8,
   "id": "f6eb74de-b665-4216-bd0c-7b175697c857",
   "metadata": {},
   "outputs": [
    {
     "data": {
      "text/plain": [
       "'http://files.docking.org/3D/AB/AAMM/ABAAMM.xaa.sdf.gz'"
      ]
     },
     "execution_count": 8,
     "metadata": {},
     "output_type": "execute_result"
    }
   ],
   "source": [
    "urls[1]"
   ]
  },
  {
   "cell_type": "code",
   "execution_count": 4,
   "id": "3af18680-1482-41c4-a597-df52cb52c621",
   "metadata": {},
   "outputs": [
    {
     "name": "stdout",
     "output_type": "stream",
     "text": [
      "http://files.docking.org/3D/CD/AAML/CDAAML.xaa.sdf.gz\n"
     ]
    }
   ],
   "source": [
    "# URL from 3d downloader \n",
    "sample_url = \"http://files.docking.org/3D/CD/AAML/CDAAML.xaa.sdf.gz\"\n",
    "print(sample_url)"
   ]
  },
  {
   "cell_type": "code",
   "execution_count": 5,
   "id": "116df74a-5a67-46b0-839a-47368baa69db",
   "metadata": {},
   "outputs": [
    {
     "data": {
      "text/plain": [
       "'CDAAML.xaa.sdf.gz'"
      ]
     },
     "execution_count": 5,
     "metadata": {},
     "output_type": "execute_result"
    }
   ],
   "source": [
    "sample_url[-17:]"
   ]
  }
 ],
 "metadata": {
  "kernelspec": {
   "display_name": "Python 3 (ipykernel)",
   "language": "python",
   "name": "python3"
  },
  "language_info": {
   "codemirror_mode": {
    "name": "ipython",
    "version": 3
   },
   "file_extension": ".py",
   "mimetype": "text/x-python",
   "name": "python",
   "nbconvert_exporter": "python",
   "pygments_lexer": "ipython3",
   "version": "3.7.10"
  }
 },
 "nbformat": 4,
 "nbformat_minor": 5
}
