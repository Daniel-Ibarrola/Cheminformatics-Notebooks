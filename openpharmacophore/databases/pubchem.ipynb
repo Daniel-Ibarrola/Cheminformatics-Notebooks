{
 "cells": [
  {
   "cell_type": "code",
   "execution_count": 1,
   "id": "2ce4cfb9-0348-4f61-96ef-b38428e94e92",
   "metadata": {},
   "outputs": [],
   "source": [
    "%load_ext autoreload\n",
    "%autoreload 2"
   ]
  },
  {
   "cell_type": "code",
   "execution_count": 2,
   "id": "2285aec3-3dc9-48c6-b695-ce6311384ee2",
   "metadata": {},
   "outputs": [
    {
     "data": {
      "application/vnd.jupyter.widget-view+json": {
       "model_id": "e5d919b5d41344ba9ba00c38a4e21a80",
       "version_major": 2,
       "version_minor": 0
      },
      "text/plain": []
     },
     "metadata": {},
     "output_type": "display_data"
    }
   ],
   "source": [
    "from openpharmacophore.databases.pubchem import PubChem\n",
    "import pandas as pd"
   ]
  },
  {
   "cell_type": "markdown",
   "id": "958467d0-aa43-47bc-86ae-12eb938496b7",
   "metadata": {},
   "source": [
    "## Bioassay for Estrogen Receptor\n",
    "We are going to look into bioassays for the Estrogen Receptor, so we can get information on inactive and active compounds that bind to it."
   ]
  },
  {
   "cell_type": "code",
   "execution_count": 3,
   "id": "23ecde67-c9bb-4e5e-9146-b36e7e1074c5",
   "metadata": {},
   "outputs": [],
   "source": [
    "#'Target': [{'GI': 118764400, 'Name': 'Estrogen receptor 1'}]\n",
    "pubchem = PubChem()"
   ]
  },
  {
   "cell_type": "markdown",
   "id": "db9f0700-2a3a-4d56-a4d7-6933260ce9d5",
   "metadata": {},
   "source": [
    "## Get Assays for a target\n",
    "We can get the ids and name of the assays for a given target, provided that we have the target id."
   ]
  },
  {
   "cell_type": "code",
   "execution_count": 23,
   "id": "78ec5220-efa5-491f-951c-88cac591ae9f",
   "metadata": {},
   "outputs": [
    {
     "data": {
      "text/html": [
       "<div>\n",
       "<style scoped>\n",
       "    .dataframe tbody tr th:only-of-type {\n",
       "        vertical-align: middle;\n",
       "    }\n",
       "\n",
       "    .dataframe tbody tr th {\n",
       "        vertical-align: top;\n",
       "    }\n",
       "\n",
       "    .dataframe thead th {\n",
       "        text-align: right;\n",
       "    }\n",
       "</style>\n",
       "<table border=\"1\" class=\"dataframe\">\n",
       "  <thead>\n",
       "    <tr style=\"text-align: right;\">\n",
       "      <th></th>\n",
       "      <th>id</th>\n",
       "      <th>name</th>\n",
       "    </tr>\n",
       "  </thead>\n",
       "  <tbody>\n",
       "    <tr>\n",
       "      <th>0</th>\n",
       "      <td>629</td>\n",
       "      <td>HTS of Estrogen Receptor- alpha Coactivator Bi...</td>\n",
       "    </tr>\n",
       "    <tr>\n",
       "      <th>1</th>\n",
       "      <td>639</td>\n",
       "      <td>HTS of Estrogen Receptor- alpha Coactivator Bi...</td>\n",
       "    </tr>\n",
       "    <tr>\n",
       "      <th>2</th>\n",
       "      <td>694</td>\n",
       "      <td>HTS of LOPAC library for Estrogen Receptor-alp...</td>\n",
       "    </tr>\n",
       "    <tr>\n",
       "      <th>3</th>\n",
       "      <td>713</td>\n",
       "      <td>Estrogen Receptor-alpha Coactivator Binding In...</td>\n",
       "    </tr>\n",
       "    <tr>\n",
       "      <th>4</th>\n",
       "      <td>737</td>\n",
       "      <td>Estrogen Receptor-alpha Coactivator Binding Po...</td>\n",
       "    </tr>\n",
       "    <tr>\n",
       "      <th>5</th>\n",
       "      <td>1079</td>\n",
       "      <td>Estrogen Receptor-alpha Coactivator Binding In...</td>\n",
       "    </tr>\n",
       "    <tr>\n",
       "      <th>6</th>\n",
       "      <td>1788</td>\n",
       "      <td>Discovery of novel allosteric modulators of th...</td>\n",
       "    </tr>\n",
       "    <tr>\n",
       "      <th>7</th>\n",
       "      <td>1793</td>\n",
       "      <td>Identification of Novel Modulators of Cl- depe...</td>\n",
       "    </tr>\n",
       "  </tbody>\n",
       "</table>\n",
       "</div>"
      ],
      "text/plain": [
       "     id                                               name\n",
       "0   629  HTS of Estrogen Receptor- alpha Coactivator Bi...\n",
       "1   639  HTS of Estrogen Receptor- alpha Coactivator Bi...\n",
       "2   694  HTS of LOPAC library for Estrogen Receptor-alp...\n",
       "3   713  Estrogen Receptor-alpha Coactivator Binding In...\n",
       "4   737  Estrogen Receptor-alpha Coactivator Binding Po...\n",
       "5  1079  Estrogen Receptor-alpha Coactivator Binding In...\n",
       "6  1788  Discovery of novel allosteric modulators of th...\n",
       "7  1793  Identification of Novel Modulators of Cl- depe..."
      ]
     },
     "execution_count": 23,
     "metadata": {},
     "output_type": "execute_result"
    }
   ],
   "source": [
    "bioassays = pubchem.get_target_assays(identifier=118764400, identifier_type=\"gi\")\n",
    "bioassays.head(8)"
   ]
  },
  {
   "cell_type": "markdown",
   "id": "98938c17-64d4-4599-81f3-339fb69541b7",
   "metadata": {},
   "source": [
    "#### Assay Description\n",
    "Once we have the assay id we can get a descritption of it. The following function\n",
    "return a dictionary with the assay info. In this case twe are interested in the bioassay with id 713"
   ]
  },
  {
   "cell_type": "code",
   "execution_count": 24,
   "id": "1a5bf7cc-024b-451f-90d8-dec9021d52d1",
   "metadata": {},
   "outputs": [
    {
     "data": {
      "text/plain": [
       "{'AssaySummaries': {'AssaySummary': [{'AID': 713,\n",
       "    'SourceName': 'Emory University Molecular Libraries Screening Center',\n",
       "    'SourceID': 'Estrogen Receptor-alpha Coactivator Binding Inhibitors Dose Response Confirmation',\n",
       "    'Name': 'Estrogen Receptor-alpha Coactivator Binding Inhibitors Dose Response Confirmation',\n",
       "    'Description': ['NIH Molecular Libraries Screening Centers Network [MLSCN]',\n",
       "     'Emory Chemical Biology Discovery Center in MLSCN',\n",
       "     'Assay provider: John A. Katzenellenbogen, University of Illinois at Urbana-Champaign',\n",
       "     'MLSCN Grant: 1 X01MH78953-01',\n",
       "     '',\n",
       "     'Title: HTS for Estrogen Receptor-alpha Coactivator Binding inhibitors',\n",
       "     '',\n",
       "     'Assay Overview',\n",
       "     \"      Estrogens, which are responsible for the growth of many breast cancers, act through the estrogen receptors, ER-alpha and ER-beta, which are ligand-modulated transcription factors and members of the nuclear receptor gene superfamily. ER-alpha and ER-beta are well validated protein targets for various aspects of women's health and breast cancer prevention and treatment. As an essential step in their action as regulators of gene transcription, the ERs recruit various coregulator proteins, both coactivators and corepressors, to the DNA-bound (or protein tethered) ER. These coregulators have various activities: alteration of chromatin architecture, regulation of nucleosome core histone modifications (acetylation, methylation, phosphorylation), and activation of RNA polymerase II. Members of an important coactivator class, the p160s or SRCs (steroid receptor coactivators), interact with the ER by inserting a short LXXLL sequence into a hydrophobic groove on the ER ligand binding domain (LBD) that is stabilized by a specific topology of the C-terminal helix-12 of the LBD when this domain is complexed with ER agonists. This hydrophobic groove provides a novel target for small molecule coactivator binding inhibitors (CBIs) of estrogen signaling (Rodriguez, AL et al. J. Med. Chem. 2004, 47, 600-611). \",\n",
       "     '      Estrogen action is normally blocked by ligands that function as conventional antagonists, binding in the ligand binding pocket to displace estrogen agonists and inducing conformations that are ineffective in binding coactivators. It is possible that estrogen action through ER-alpha and ER-beta could be blocked more effectively by direct competition of their binding to the critical coactivators SRC1 and SRC3 in the hydrophobic groove, rather than indirectly by competitive ligand-based antagonism within the ligand binding pocket. By the direct targeting of the ER-coactivator binding interface with CBIs, a more complete blockade of estrogen action can be achieved to possibly overcome the development of resistance to endocrine therapy that typically occurs in the treatment of breast cancer with both antiestrogens (Clarke, R. et al. J. Steroid Biochem. Mol. Biol. 2001, 76, 71-84) and aromatase inhibitors (Johnston, SRD and M. Dowsett, Nature Rev. Cancer 2003, 3, 821-831).',\n",
       "     '      To identify novel compounds that act as effective ER-alpha coactivator binding inhibitors (CBIs), a time-resolved fluorescence resonance energy transfer (TR-FRET) assay has been developed in a 384 well format.  This assay measures the binding of a Cy5-labeled SRC-1 nuclear receptor interaction domain to the ligand binding domain (LBD) of ER-alpha labeled (via a streptavidin-biotin interaction) with a long-lifetime europium chelate.  The interaction of SRC-1 with the LBD of ER-alpha, which is induced in the presence of an agonist like estradiol, brings europium and Cy5 into proximity, leading to FRET signal generation.  Compounds that interfere with the FRET signal are identified as potential coactivator binding inhibitors (CBIs) or conventional ligand antagonists.  A distinction between CBIs and conventional ligand antagonists needs to be done by various counter-screening assays.'],\n",
       "    'Protocol': ['Compounds identified as active from the primary screen, AID 629 - HTS of Estrogen Receptor-alpha Coactivator Binding Inhibitors, were selected for testing in this assay.  Each compound was tested in 6 concentration, 1:2 serial dilutions starting at a nominal test concentration of 50 micromolar.  Each concentration was tested in triplicate.  ',\n",
       "     '',\n",
       "     'Reagents: ',\n",
       "     '1. Assay buffer: 20 mM Tris buffer, pH 7.5, 50 mM NaCl, and 0.01% NP40',\n",
       "     '2. ER-alpha protein: Biotin-labeled ER-alpha-LBD protein ',\n",
       "     '3. 17 beta-estradiol ',\n",
       "     '4. Lance Eu-W1024 labeled-streptavidin (SA-Eu)',\n",
       "     '5. SRC-Cy5 peptide ',\n",
       "     '6. Positive Control: SRC1-BOX II peptide',\n",
       "     '',\n",
       "     'Procedure:',\n",
       "     '1. Make assay reaction buffer for HTS that contains recombinant ER-alpha protein (0.3 nM, final concentration), SRC-Cy5 peptide (2 nM, final concentration), 17 beta-estradiol (1 uM, final concentration) and SA-Eu (0.5 nM, final concentration). ',\n",
       "     '2. Dispense 19 uL of assay reaction buffer to 384-well black assay plate.',\n",
       "     '3. Add library compound (1 mM in DMSO) to each well and incubate plates at room temperature for 2 hr. ',\n",
       "     '4. Record FRET signals with an Analyst HT reader (Molecular Devices). An excitation filter at 330 nm and emission filters at 620 nm and 665 nm are used with a dichroic mirror of 380 nm.',\n",
       "     '',\n",
       "     'Data analysis:',\n",
       "     '1. FRET signals are expressed as FRET ratios:',\n",
       "     '',\n",
       "     'FRET  = F665 nm / F620 nm * 10000',\n",
       "     '',\n",
       "     '2. Assay data are analyzed using BioAssay software from CambridgeSoft.  Percentage of inhibition is calculated with the following equation based on data from each plate.',\n",
       "     '',\n",
       "     '% of Inhibition = 100 - ((FRETcompound - FRETpeptide only) / (FRETcontrol -FRET peptide only)) * 100',\n",
       "     '',\n",
       "     'Where FRETcompound is the FRET ratio from a well with a test compound, FRET peptide only is an average FRET signal from wells with SRC-Cy5 peptide only; FRET signal control is an average FRET ratio from wells containing Eu-ER-alpha protein and SRC-Cy5 peptide, which defines maximal FRET. ',\n",
       "     '',\n",
       "     'For each compound, a 4 parameter sigmoidal dose-response curve was fitted using BioAssay software from CambridgeSoft.  The reported IC50 values were generated from fitted curves by solving for X-intercept at the 50% level of Y-intercept.  ',\n",
       "     '',\n",
       "     'When the highest concentration tested (50 micromolar) did not result in greater than 50% inhibition, the IC50 is reported as greater than 50 micromolar.  ',\n",
       "     '',\n",
       "     'Similarly, when the lowest concentration tested (1.5625 micromolar) resulted in greater than 50% inhibition, the IC50 is reported as less than 1.5625 micromolar.',\n",
       "     '',\n",
       "     'Compounds with IC50 values of greater than 30 uM were considered inactive, compounds with an IC50 equal or less than 30 uM are considered active.',\n",
       "     '',\n",
       "     'The activity score was calculated based on the observed range of the IC50 values obtained, according to the following formula:',\n",
       "     '',\n",
       "     'PUBCHEM_ACTIVITY_SCORE = 100 * (1 - ((IC50 - LowestIC50) / (HighestIC50 - LowestIC50)))'],\n",
       "    'Comment': ['1.  The average fold over DMSO control values for the 620 nm signal are included for each concentration.',\n",
       "     '',\n",
       "     '2.  All data reported were normalized on a per-plate basis.',\n",
       "     '',\n",
       "     '3.  Possible interference in this assay, but are not limited to, compounds with auto-fluorescence, compound quenching fluorescence, or precipitate.'],\n",
       "    'NumberOfTIDs': 15,\n",
       "    'HasScore': True,\n",
       "    'Method': 'confirmatory',\n",
       "    'Target': [{'GI': 118764400, 'Name': 'Estrogen receptor 1'}],\n",
       "    'Version': 1,\n",
       "    'Revision': 2,\n",
       "    'LastDataChange': {'Year': 2008, 'Month': 2, 'Day': 19},\n",
       "    'SIDCountAll': 439,\n",
       "    'SIDCountActive': 221,\n",
       "    'SIDCountInactive': 218,\n",
       "    'SIDCountInconclusive': 0,\n",
       "    'SIDCountUnspecified': 0,\n",
       "    'SIDCountProbe': 0,\n",
       "    'CIDCountAll': 439,\n",
       "    'CIDCountActive': 221,\n",
       "    'CIDCountInactive': 218,\n",
       "    'CIDCountInconclusive': 0,\n",
       "    'CIDCountUnspecified': 0,\n",
       "    'CIDCountProbe': 0}]}}"
      ]
     },
     "execution_count": 24,
     "metadata": {},
     "output_type": "execute_result"
    }
   ],
   "source": [
    "assay = pubchem.get_assay_description(assay_id=713, summary=True)\n",
    "assay"
   ]
  },
  {
   "cell_type": "markdown",
   "id": "94163379-ab8c-4c13-acde-8017fbb54186",
   "metadata": {},
   "source": [
    "\n",
    "The following function will return a list containing the ids of all the compunds tested in the assay \n",
    "for the estrogen receptors."
   ]
  },
  {
   "cell_type": "code",
   "execution_count": 36,
   "id": "eeef583c-487e-49fb-850c-26714a095633",
   "metadata": {},
   "outputs": [
    {
     "data": {
      "text/plain": [
       "[2345113, 3243422, 657783, 2087492, 2296726]"
      ]
     },
     "execution_count": 36,
     "metadata": {},
     "output_type": "execute_result"
    }
   ],
   "source": [
    "cids = pubchem.get_assay_compounds_id(assay_id=713)\n",
    "cids[0:5]"
   ]
  },
  {
   "cell_type": "markdown",
   "id": "bb83deca-5d26-41f1-9375-4db5770bdebb",
   "metadata": {},
   "source": [
    "##  Training Data from Assay\n",
    "With the assay id, we can obtain a list of active and a list of inactive molecules for the target, which can be used later on to validate a pharmacophore model through retrospective screening."
   ]
  },
  {
   "cell_type": "code",
   "execution_count": 39,
   "id": "86140bba-62a4-44a7-a1a9-3e485ff65df8",
   "metadata": {},
   "outputs": [
    {
     "name": "stdout",
     "output_type": "stream",
     "text": [
      "Fetching active compound smiles...\n"
     ]
    },
    {
     "data": {
      "application/vnd.jupyter.widget-view+json": {
       "model_id": "71da06956c984b4193ae4c8819058fa8",
       "version_major": 2,
       "version_minor": 0
      },
      "text/plain": [
       "  0%|          | 0/221 [00:00<?, ?it/s]"
      ]
     },
     "metadata": {},
     "output_type": "display_data"
    },
    {
     "name": "stdout",
     "output_type": "stream",
     "text": [
      "Fetching inactive compound smiles...\n"
     ]
    },
    {
     "data": {
      "application/vnd.jupyter.widget-view+json": {
       "model_id": "21dcdd22f0b44b69be9b40cc37ca664f",
       "version_major": 2,
       "version_minor": 0
      },
      "text/plain": [
       "  0%|          | 0/218 [00:00<?, ?it/s]"
      ]
     },
     "metadata": {},
     "output_type": "display_data"
    }
   ],
   "source": [
    "# Get training data from assay\n",
    "actives, inactives = pubchem.get_assay_training_data(713)"
   ]
  },
  {
   "cell_type": "code",
   "execution_count": 41,
   "id": "78745358-cd3e-421c-9d47-eabe0c2b83dc",
   "metadata": {},
   "outputs": [
    {
     "name": "stdout",
     "output_type": "stream",
     "text": [
      "[5770444, 646737, 649863]\n",
      "['CC1=CC=C(C=C1)C2=NN=C(O2)CSC3=NC4=C(C5=C(N4)C=CC(=C5)OC)N=N3', 'CC1=CC2=C(C(C(=C(O2)N)C#N)C3=CC4=C(C(=C3)OC)OCO4)C(=O)O1', 'CCC1=CC2=C(C=C1)NC(=O)C(=C2)CN(CC3=CC4=C(C=C3)OCO4)C(=O)C5=CC=CO5']\n"
     ]
    }
   ],
   "source": [
    "print(actives[0][0:3])\n",
    "print(actives[1][0:3])"
   ]
  },
  {
   "cell_type": "code",
   "execution_count": null,
   "id": "75b5d604-4b54-4dfb-b893-caebed4b9c09",
   "metadata": {},
   "outputs": [],
   "source": [
    "import pickle\n",
    "\n",
    "# Save data to picke format\n",
    "molecules = {\n",
    "    \"actives\": actives,\n",
    "    \"inactives\": inactives\n",
    "}\n",
    "\n",
    "pickled_mols = pickle.dumps(molecules)\n",
    "with open(\"../../data/ligands/chembl_data\", \"wb\") as f:\n",
    "    f.write(pickled_mols)"
   ]
  },
  {
   "cell_type": "markdown",
   "id": "17db1fd6-6554-4a53-9d7b-ffc70ef4e30d",
   "metadata": {
    "tags": []
   },
   "source": [
    "## Get assays ids for a compund\n",
    "We can also search for the assays in which a compound was tested"
   ]
  },
  {
   "cell_type": "code",
   "execution_count": 12,
   "id": "941fcbc9-a52a-416e-99d9-dc15ed61e323",
   "metadata": {},
   "outputs": [
    {
     "data": {
      "text/html": [
       "<div>\n",
       "<style scoped>\n",
       "    .dataframe tbody tr th:only-of-type {\n",
       "        vertical-align: middle;\n",
       "    }\n",
       "\n",
       "    .dataframe tbody tr th {\n",
       "        vertical-align: top;\n",
       "    }\n",
       "\n",
       "    .dataframe thead th {\n",
       "        text-align: right;\n",
       "    }\n",
       "</style>\n",
       "<table border=\"1\" class=\"dataframe\">\n",
       "  <thead>\n",
       "    <tr style=\"text-align: right;\">\n",
       "      <th></th>\n",
       "      <th>AID</th>\n",
       "      <th>Panel Member ID</th>\n",
       "      <th>SID</th>\n",
       "      <th>CID</th>\n",
       "      <th>Bioactivity Outcome</th>\n",
       "      <th>Target GI</th>\n",
       "      <th>Target GeneID</th>\n",
       "      <th>Activity Value [uM]</th>\n",
       "      <th>Activity Name</th>\n",
       "      <th>Assay Name</th>\n",
       "      <th>Bioassay Type</th>\n",
       "      <th>PubMed ID</th>\n",
       "      <th>RNAi</th>\n",
       "    </tr>\n",
       "  </thead>\n",
       "  <tbody>\n",
       "    <tr>\n",
       "      <th>0</th>\n",
       "      <td>14911</td>\n",
       "      <td>NaN</td>\n",
       "      <td>103200390</td>\n",
       "      <td>1684</td>\n",
       "      <td>Unspecified</td>\n",
       "      <td>NaN</td>\n",
       "      <td>NaN</td>\n",
       "      <td>NaN</td>\n",
       "      <td>NaN</td>\n",
       "      <td>Tested for pharmacokinetic parameter in fasted...</td>\n",
       "      <td>Other</td>\n",
       "      <td>7731021.0</td>\n",
       "      <td>NaN</td>\n",
       "    </tr>\n",
       "    <tr>\n",
       "      <th>1</th>\n",
       "      <td>15655</td>\n",
       "      <td>NaN</td>\n",
       "      <td>103200390</td>\n",
       "      <td>1684</td>\n",
       "      <td>Unspecified</td>\n",
       "      <td>NaN</td>\n",
       "      <td>NaN</td>\n",
       "      <td>NaN</td>\n",
       "      <td>NaN</td>\n",
       "      <td>Tested for pharmacokinetic parameter in fasted...</td>\n",
       "      <td>Other</td>\n",
       "      <td>7731021.0</td>\n",
       "      <td>NaN</td>\n",
       "    </tr>\n",
       "    <tr>\n",
       "      <th>2</th>\n",
       "      <td>19547</td>\n",
       "      <td>NaN</td>\n",
       "      <td>103200390</td>\n",
       "      <td>1684</td>\n",
       "      <td>Unspecified</td>\n",
       "      <td>NaN</td>\n",
       "      <td>NaN</td>\n",
       "      <td>NaN</td>\n",
       "      <td>NaN</td>\n",
       "      <td>Tested for pharmacokinetic parameter in fasted...</td>\n",
       "      <td>Other</td>\n",
       "      <td>7731021.0</td>\n",
       "      <td>NaN</td>\n",
       "    </tr>\n",
       "    <tr>\n",
       "      <th>3</th>\n",
       "      <td>23851</td>\n",
       "      <td>NaN</td>\n",
       "      <td>103200390</td>\n",
       "      <td>1684</td>\n",
       "      <td>Unspecified</td>\n",
       "      <td>NaN</td>\n",
       "      <td>NaN</td>\n",
       "      <td>NaN</td>\n",
       "      <td>NaN</td>\n",
       "      <td>t1/2 in monkey liver microsomes</td>\n",
       "      <td>Other</td>\n",
       "      <td>7731021.0</td>\n",
       "      <td>NaN</td>\n",
       "    </tr>\n",
       "    <tr>\n",
       "      <th>4</th>\n",
       "      <td>84561</td>\n",
       "      <td>NaN</td>\n",
       "      <td>103200390</td>\n",
       "      <td>1684</td>\n",
       "      <td>Active</td>\n",
       "      <td>NaN</td>\n",
       "      <td>NaN</td>\n",
       "      <td>0.136</td>\n",
       "      <td>EC50</td>\n",
       "      <td>In vitro anti-rhinoviral activity against huma...</td>\n",
       "      <td>Confirmatory</td>\n",
       "      <td>14521419.0</td>\n",
       "      <td>NaN</td>\n",
       "    </tr>\n",
       "  </tbody>\n",
       "</table>\n",
       "</div>"
      ],
      "text/plain": [
       "     AID  Panel Member ID        SID   CID Bioactivity Outcome  Target GI  \\\n",
       "0  14911              NaN  103200390  1684         Unspecified        NaN   \n",
       "1  15655              NaN  103200390  1684         Unspecified        NaN   \n",
       "2  19547              NaN  103200390  1684         Unspecified        NaN   \n",
       "3  23851              NaN  103200390  1684         Unspecified        NaN   \n",
       "4  84561              NaN  103200390  1684              Active        NaN   \n",
       "\n",
       "   Target GeneID  Activity Value [uM] Activity Name  \\\n",
       "0            NaN                  NaN           NaN   \n",
       "1            NaN                  NaN           NaN   \n",
       "2            NaN                  NaN           NaN   \n",
       "3            NaN                  NaN           NaN   \n",
       "4            NaN                0.136          EC50   \n",
       "\n",
       "                                          Assay Name Bioassay Type  \\\n",
       "0  Tested for pharmacokinetic parameter in fasted...         Other   \n",
       "1  Tested for pharmacokinetic parameter in fasted...         Other   \n",
       "2  Tested for pharmacokinetic parameter in fasted...         Other   \n",
       "3                    t1/2 in monkey liver microsomes         Other   \n",
       "4  In vitro anti-rhinoviral activity against huma...  Confirmatory   \n",
       "\n",
       "    PubMed ID  RNAi  \n",
       "0   7731021.0   NaN  \n",
       "1   7731021.0   NaN  \n",
       "2   7731021.0   NaN  \n",
       "3   7731021.0   NaN  \n",
       "4  14521419.0   NaN  "
      ]
     },
     "execution_count": 12,
     "metadata": {},
     "output_type": "execute_result"
    }
   ],
   "source": [
    "cid = 1684 #pleconaril\n",
    "assay_summary = pubchem.get_compound_assay_summary(cid)\n",
    "assay_summary.head()"
   ]
  },
  {
   "cell_type": "markdown",
   "id": "8b9c31dd-e4c8-45f3-a529-ae00d1d79d78",
   "metadata": {},
   "source": [
    "## Similarity Search"
   ]
  },
  {
   "cell_type": "code",
   "execution_count": 6,
   "id": "a06c0e1f-3618-4dec-96f4-4be8932732d7",
   "metadata": {},
   "outputs": [
    {
     "data": {
      "text/plain": [
       "[135398634, 9679, 135398638, 135436483, 70315]"
      ]
     },
     "execution_count": 6,
     "metadata": {},
     "output_type": "execute_result"
    }
   ],
   "source": [
    "# Perform similarity search with fingerprints\n",
    "tanimoto=95\n",
    "smiles = \"C1=NC2=C(N1)C(=O)N=C(N2)N\"\n",
    "similar_compounds = pubchem.similarity_search(smiles, threshold=tanimoto, max_records=200)\n",
    "similar_compounds[:5]"
   ]
  }
 ],
 "metadata": {
  "kernelspec": {
   "display_name": "Python 3 (ipykernel)",
   "language": "python",
   "name": "python3"
  },
  "language_info": {
   "codemirror_mode": {
    "name": "ipython",
    "version": 3
   },
   "file_extension": ".py",
   "mimetype": "text/x-python",
   "name": "python",
   "nbconvert_exporter": "python",
   "pygments_lexer": "ipython3",
   "version": "3.7.10"
  }
 },
 "nbformat": 4,
 "nbformat_minor": 5
}
