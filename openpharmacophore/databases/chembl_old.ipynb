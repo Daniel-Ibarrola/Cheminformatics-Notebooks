{
 "cells": [
  {
   "cell_type": "code",
   "execution_count": 3,
   "id": "37f815d6-35d2-4a0b-80a4-dd125cef4b86",
   "metadata": {},
   "outputs": [],
   "source": [
    "from chembl_webresource_client.new_client import new_client\n",
    "import pandas as pd"
   ]
  },
  {
   "cell_type": "code",
   "execution_count": 2,
   "id": "19940fad-1ab4-460c-b349-cb0a57c12269",
   "metadata": {},
   "outputs": [],
   "source": [
    "# Molecules that do not violate lipinsky's rule of five\n",
    "molecule = new_client.molecule\n",
    "no_violations = molecule.filter(molecule_properties__num_ro5_violations=0)"
   ]
  },
  {
   "cell_type": "code",
   "execution_count": 21,
   "id": "3189571e-37a7-41e2-aeb2-e05da213261e",
   "metadata": {},
   "outputs": [
    {
     "data": {
      "text/plain": [
       "1441706"
      ]
     },
     "execution_count": 21,
     "metadata": {},
     "output_type": "execute_result"
    }
   ],
   "source": [
    "len(no_violations)"
   ]
  },
  {
   "cell_type": "code",
   "execution_count": 5,
   "id": "607d1491-15fe-4913-a7fa-fa8b6f936aea",
   "metadata": {},
   "outputs": [
    {
     "data": {
      "text/plain": [
       "48.056866666666664"
      ]
     },
     "execution_count": 5,
     "metadata": {},
     "output_type": "execute_result"
    }
   ],
   "source": [
    "1441706 / 30000"
   ]
  },
  {
   "cell_type": "code",
   "execution_count": 7,
   "id": "72a8a7dc-f1d2-4cc7-8de7-4afbae9952f1",
   "metadata": {},
   "outputs": [
    {
     "name": "stdout",
     "output_type": "stream",
     "text": [
      "<class 'dict'>\n"
     ]
    }
   ],
   "source": [
    "mol = no_violations[0]\n",
    "print(type(mol))"
   ]
  },
  {
   "cell_type": "code",
   "execution_count": 11,
   "id": "594797d7-39ce-466e-8884-57f74b02b4c5",
   "metadata": {},
   "outputs": [
    {
     "name": "stdout",
     "output_type": "stream",
     "text": [
      "['atc_classifications', 'availability_type', 'biotherapeutic', 'black_box_warning', 'chebi_par_id', 'chirality', 'cross_references', 'dosed_ingredient', 'first_approval', 'first_in_class', 'helm_notation', 'indication_class', 'inorganic_flag', 'max_phase', 'molecule_chembl_id', 'molecule_hierarchy', 'molecule_properties', 'molecule_structures', 'molecule_synonyms', 'molecule_type', 'natural_product', 'oral', 'parenteral', 'polymer_flag', 'pref_name', 'prodrug', 'structure_type', 'therapeutic_flag', 'topical', 'usan_stem', 'usan_stem_definition', 'usan_substem', 'usan_year', 'withdrawn_class', 'withdrawn_country', 'withdrawn_flag', 'withdrawn_reason', 'withdrawn_year']\n"
     ]
    }
   ],
   "source": [
    "print(list(mol.keys()))"
   ]
  },
  {
   "cell_type": "code",
   "execution_count": 17,
   "id": "28e5e208-a4f6-4d94-bb17-fb2af7bbb2f7",
   "metadata": {},
   "outputs": [
    {
     "name": "stdout",
     "output_type": "stream",
     "text": [
      "Cc1cc(-n2ncc(=O)[nH]c2=O)ccc1C(=O)c1ccccc1Cl\n",
      "Cc1cc(-n2ncc(=O)[nH]c2=O)ccc1C(=O)c1ccc(C#N)cc1\n",
      "Cc1cc(-n2ncc(=O)[nH]c2=O)cc(C)c1C(O)c1ccc(Cl)cc1\n",
      "Cc1ccc(C(=O)c2ccc(-n3ncc(=O)[nH]c3=O)cc2)cc1\n",
      "Cc1cc(-n2ncc(=O)[nH]c2=O)ccc1C(=O)c1ccc(Cl)cc1\n"
     ]
    }
   ],
   "source": [
    "for m in no_violations[:5]:\n",
    "    print(m[\"molecule_structures\"][\"canonical_smiles\"])"
   ]
  },
  {
   "cell_type": "code",
   "execution_count": 16,
   "id": "29dcf823-a47d-45c2-a999-894d820862cd",
   "metadata": {},
   "outputs": [
    {
     "data": {
      "text/plain": [
       "'CHEMBL6329'"
      ]
     },
     "execution_count": 16,
     "metadata": {},
     "output_type": "execute_result"
    }
   ],
   "source": [
    "mol[\"molecule_chembl_id\"]"
   ]
  },
  {
   "cell_type": "code",
   "execution_count": 24,
   "id": "d3669929-f285-4644-80fe-f2b10957fa43",
   "metadata": {},
   "outputs": [
    {
     "data": {
      "text/plain": [
       "29613"
      ]
     },
     "execution_count": 24,
     "metadata": {},
     "output_type": "execute_result"
    }
   ],
   "source": [
    "# Get Bioactivity data\n",
    "chembl_id = \"CHEMBL203\"\n",
    "records = new_client.activity.filter(target_chembl_id=chembl_id)\n",
    "len(records)"
   ]
  },
  {
   "cell_type": "code",
   "execution_count": 26,
   "id": "53996a54-cd5e-43a9-bbdc-d548a42665b9",
   "metadata": {},
   "outputs": [
    {
     "data": {
      "text/plain": [
       "{'activity_comment': None,\n",
       " 'activity_id': 32260,\n",
       " 'activity_properties': [],\n",
       " 'assay_chembl_id': 'CHEMBL674637',\n",
       " 'assay_description': 'Inhibitory activity towards tyrosine phosphorylation for the epidermal growth factor-receptor kinase',\n",
       " 'assay_type': 'B',\n",
       " 'assay_variant_accession': None,\n",
       " 'assay_variant_mutation': None,\n",
       " 'bao_endpoint': 'BAO_0000190',\n",
       " 'bao_format': 'BAO_0000357',\n",
       " 'bao_label': 'single protein format',\n",
       " 'canonical_smiles': 'Cc1cc(C)c(/C=C2\\\\C(=O)Nc3ncnc(Nc4ccc(F)c(Cl)c4)c32)[nH]1',\n",
       " 'data_validity_comment': None,\n",
       " 'data_validity_description': None,\n",
       " 'document_chembl_id': 'CHEMBL1134862',\n",
       " 'document_journal': 'Bioorg. Med. Chem. Lett.',\n",
       " 'document_year': 2002,\n",
       " 'ligand_efficiency': {'bei': '19.25',\n",
       "  'le': '0.37',\n",
       "  'lle': '2.94',\n",
       "  'sei': '8.93'},\n",
       " 'molecule_chembl_id': 'CHEMBL68920',\n",
       " 'molecule_pref_name': None,\n",
       " 'parent_molecule_chembl_id': 'CHEMBL68920',\n",
       " 'pchembl_value': '7.39',\n",
       " 'potential_duplicate': False,\n",
       " 'qudt_units': 'http://www.openphacts.org/units/Nanomolar',\n",
       " 'record_id': 119482,\n",
       " 'relation': '=',\n",
       " 'src_id': 1,\n",
       " 'standard_flag': True,\n",
       " 'standard_relation': '=',\n",
       " 'standard_text_value': None,\n",
       " 'standard_type': 'IC50',\n",
       " 'standard_units': 'nM',\n",
       " 'standard_upper_value': None,\n",
       " 'standard_value': '41.0',\n",
       " 'target_chembl_id': 'CHEMBL203',\n",
       " 'target_organism': 'Homo sapiens',\n",
       " 'target_pref_name': 'Epidermal growth factor receptor erbB1',\n",
       " 'target_tax_id': '9606',\n",
       " 'text_value': None,\n",
       " 'toid': None,\n",
       " 'type': 'IC50',\n",
       " 'units': 'uM',\n",
       " 'uo_units': 'UO_0000065',\n",
       " 'upper_value': None,\n",
       " 'value': '0.041'}"
      ]
     },
     "execution_count": 26,
     "metadata": {},
     "output_type": "execute_result"
    }
   ],
   "source": [
    "records[0]"
   ]
  }
 ],
 "metadata": {
  "kernelspec": {
   "display_name": "Python 3 (ipykernel)",
   "language": "python",
   "name": "python3"
  },
  "language_info": {
   "codemirror_mode": {
    "name": "ipython",
    "version": 3
   },
   "file_extension": ".py",
   "mimetype": "text/x-python",
   "name": "python",
   "nbconvert_exporter": "python",
   "pygments_lexer": "ipython3",
   "version": "3.7.10"
  }
 },
 "nbformat": 4,
 "nbformat_minor": 5
}
