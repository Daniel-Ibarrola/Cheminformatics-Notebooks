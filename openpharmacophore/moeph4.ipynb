{
 "cells": [
  {
   "cell_type": "code",
   "execution_count": 1,
   "id": "7fbcd2fd-0347-4b5f-8b99-27ce53e767ea",
   "metadata": {},
   "outputs": [],
   "source": [
    "%load_ext autoreload\n",
    "%autoreload 2"
   ]
  },
  {
   "cell_type": "code",
   "execution_count": 11,
   "id": "ae2cf848-0bf3-4ab3-bbe1-7fdee2966ce8",
   "metadata": {},
   "outputs": [],
   "source": [
    "from openpharmacophore import pharmacophoric_elements as phe\n",
    "from openpharmacophore.io.moe import from_moe, to_moe\n",
    "from openpharmacophore import Pharmacophore\n",
    "\n",
    "import pyunitwizard as puw\n",
    "\n",
    "import os"
   ]
  },
  {
   "cell_type": "code",
   "execution_count": 3,
   "id": "8b1d417c-4c81-4601-a74d-61c3163a36a4",
   "metadata": {},
   "outputs": [
    {
     "name": "stdout",
     "output_type": "stream",
     "text": [
      "#moe:ph4que 2004.02\n",
      "#pharmacophore 4 tag t value *\n",
      "scheme t PCH matchsize i 8 title t gmp!1-4 comment s $\n",
      "#feature 9 expr tt color ix x r y r z r r r ebits ix gbits ix\n",
      "Don f20df2 1.71 1.43075 -1.4255 0.51 0 300 Hyd 66106 2.7895 2.4035\n",
      "-1.40875 0.55 0 300 Acc df2f2 0.312 3.0175 -2.44825 0.57 0 300 Aro df20d\n",
      "-0.748458333333333 2.13108333333333 -2.490375 0.58 1 300 Aro df20d\n",
      "-1.719625 -0.0273333333333334 -2.055625 0.6 1 300 Aro df20d\n",
      "5.20029166666667 1.25479166666667 -0.199041666666667 0.61 1 300 Acc\n",
      "df2f2 -1.95875 2.536 -3.03625 0.62 0 300 Hyd 66106 -1.54725 -2.979375\n",
      "-0.961875 0.74 1 300 Acc|Aro df2f2 -0.755095833333333 6.3286375\n",
      "-3.96758333333333 1.25 1 300\n",
      "#endpharmacophore\n"
     ]
    }
   ],
   "source": [
    "!cat ../Data/Moe/gmp.ph4"
   ]
  },
  {
   "cell_type": "code",
   "execution_count": 4,
   "id": "5ec3dcdd-3762-4e05-9b48-859674870552",
   "metadata": {},
   "outputs": [],
   "source": [
    "files_path = \"../Data/Moe/\"\n",
    "ph4 = [\n",
    "    \"3oki_combi.ph4\",\n",
    "    \"egfr_query.ph4\",\n",
    "    \"gmp.ph4\",\n",
    "    \"ph4_1kv2.ph4\",\n",
    "    \"serotonin1.ph4\",\n",
    "    \"serotonin2.ph4\",\n",
    "    \"serotonin3.ph4\",\n",
    "    \"serotonin4.ph4\",\n",
    "] "
   ]
  },
  {
   "cell_type": "code",
   "execution_count": 5,
   "id": "74179d64-04cd-4417-bfcb-ad6fddded6f6",
   "metadata": {},
   "outputs": [],
   "source": [
    "moe_to_oph = {\n",
    "        \"Cat\": phe.PositiveChargeSphere,\n",
    "        \"Ani\": phe.NegativeChargeSphere,\n",
    "        \"Don\": phe.HBDonorSphere, \n",
    "        \"Acc\": phe.HBAcceptorSphere,\n",
    "        \"Hyd\": phe.HydrophobicSphere,\n",
    "        \"Aro\": phe.AromaticRingSphere,\n",
    "        \"exclusion\": phe.ExcludedVolumeSphere\n",
    "    }\n"
   ]
  },
  {
   "cell_type": "code",
   "execution_count": 8,
   "id": "ee0038a5-7932-404f-96a3-af16059756e7",
   "metadata": {},
   "outputs": [],
   "source": [
    "pharmacophores = {}\n",
    "for file in ph4:\n",
    "    file_name = os.path.join(files_path, file)\n",
    "    #print(file_name)\n",
    "    #print(\"\\n-------------\")\n",
    "    points = from_moe(file_name)\n",
    "    pharmacophores[file] = points\n",
    "    #print(points)\n",
    "    #print(\"\\n\\n\")"
   ]
  },
  {
   "cell_type": "code",
   "execution_count": 10,
   "id": "bb982adf-6d6f-47b1-92c8-461b2834ea1a",
   "metadata": {},
   "outputs": [
    {
     "data": {
      "text/plain": [
       "[HBAcceptorSphere(center: [ 2.76 -1.19 -0.42]; radius: 1.2),\n",
       " PositiveChargeSphere(center: [ 6.52 -2.52  1.62]; radius: 1.0),\n",
       " AromaticRingSphere(center: [ 0.27  0.09 -0.75]; radius: 1.4),\n",
       " AromaticRingSphere(center: [ 3.79  2.07 -2.24]; radius: 1.4)]"
      ]
     },
     "execution_count": 10,
     "metadata": {},
     "output_type": "execute_result"
    }
   ],
   "source": [
    "pharmacophores[\"serotonin1.ph4\"]"
   ]
  },
  {
   "cell_type": "code",
   "execution_count": 15,
   "id": "e2e2455c-0a07-4ec1-b4e4-17369022ca0b",
   "metadata": {},
   "outputs": [
    {
     "name": "stdout",
     "output_type": "stream",
     "text": [
      "Pharmacophore(n_elements: 4)\n"
     ]
    }
   ],
   "source": [
    "# Write pharmacophore to file\n",
    "pharmacophore = Pharmacophore(elements=pharmacophores[\"serotonin1.ph4\"])\n",
    "print(pharmacophore)\n",
    "\n",
    "ph4_string = to_moe(pharmacophore, \"test.ph4\", testing=False)\n",
    "ph4_string"
   ]
  },
  {
   "cell_type": "code",
   "execution_count": 16,
   "id": "563b67ca-c84a-42fa-bafe-610c72383ef1",
   "metadata": {},
   "outputs": [
    {
     "data": {
      "text/plain": [
       "Pharmacophore(n_elements: 3)"
      ]
     },
     "execution_count": 16,
     "metadata": {},
     "output_type": "execute_result"
    }
   ],
   "source": [
    "#try another pharmacophore\n",
    "radius = puw.quantity(1.0, \"angstroms\")\n",
    "ring = phe.AromaticRingSphereAndVector(puw.quantity([1,0,0], \"angstroms\"), \n",
    "                                        radius, [0, 0, 1])\n",
    "acceptor = phe.HBAcceptorSphereAndVector(puw.quantity([1,2,2], \"angstroms\"), \n",
    "                                radius, [0,1,1])\n",
    "excluded = phe.ExcludedVolumeSphere(puw.quantity([2,1,2], \"angstroms\"), radius)\n",
    "pharmacophore = Pharmacophore(elements=[ring, acceptor, excluded])\n",
    "pharmacophore"
   ]
  },
  {
   "cell_type": "code",
   "execution_count": 19,
   "id": "13b8a8d5-d1b1-4eda-976d-cc2f3cea73a7",
   "metadata": {},
   "outputs": [
    {
     "data": {
      "text/plain": [
       "'#moe:ph4que 2021.8\\n#pharmacophore 5 tag t value *\\nscheme t Unified matchsize i 0 title t s $\\n#feature 3 expr tt color ix x r y r z r r r ebits ix gbits ix\\nAro df2f2 0.9999999999999999 0.0 0.0 0.9999999999999999 0 300 Acc df2f2 0.9999999999999999 1.9999999999999998 1.9999999999999998 0.9999999999999999 0 300 \\n#volumesphere 90 x r y r z r r r\\n1.9999999999999998 0.9999999999999999 1.9999999999999998 0.9999999999999999 \\n#endpharmacophore'"
      ]
     },
     "execution_count": 19,
     "metadata": {},
     "output_type": "execute_result"
    }
   ],
   "source": [
    "ph4_string = to_moe(pharmacophore, \"./data/moe/test_2.ph4\", testing=True)\n",
    "ph4_string"
   ]
  }
 ],
 "metadata": {
  "kernelspec": {
   "display_name": "Python 3",
   "language": "python",
   "name": "python3"
  },
  "language_info": {
   "codemirror_mode": {
    "name": "ipython",
    "version": 3
   },
   "file_extension": ".py",
   "mimetype": "text/x-python",
   "name": "python",
   "nbconvert_exporter": "python",
   "pygments_lexer": "ipython3",
   "version": "3.7.10"
  }
 },
 "nbformat": 4,
 "nbformat_minor": 5
}
