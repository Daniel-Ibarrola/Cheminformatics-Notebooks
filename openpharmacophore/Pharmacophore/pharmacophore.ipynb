{
 "cells": [
  {
   "cell_type": "code",
   "execution_count": 1,
   "id": "137ce3a3-ba8c-438d-9f39-f7fa85dff506",
   "metadata": {},
   "outputs": [],
   "source": [
    "%load_ext autoreload\n",
    "%autoreload 2"
   ]
  },
  {
   "cell_type": "markdown",
   "id": "9e3d1759-27c6-4f07-aa30-decf7bb68af9",
   "metadata": {},
   "source": [
    "# Pharmacohophores with \"OpenPharmacophore\""
   ]
  },
  {
   "cell_type": "code",
   "execution_count": 7,
   "id": "72b68a24-f251-4217-bb81-7c1bd3e37dde",
   "metadata": {},
   "outputs": [],
   "source": [
    "from openpharmacophore import Pharmacophore\n",
    "from openpharmacophore import PharmacophoricPoint\n",
    "\n",
    "import pyunitwizard as puw"
   ]
  },
  {
   "cell_type": "markdown",
   "id": "ccdc9f84-739a-4642-a1b3-60cbc2aa38f3",
   "metadata": {},
   "source": [
    "## Create a new Pharmacophore from scratch\n",
    "\n",
    "In OpenPharmacophore, a pharmacophore is an object that contains a list of pharmacophoric points. Pharmacophores can be obtained via ligand or structured based methods. However, the simplest way to create a pharmacophore is from a list of pharmacophoric points. Altough this is not really useful, it will help us understand how pharmacophore objects work in OpenPharmacophore."
   ]
  },
  {
   "cell_type": "markdown",
   "id": "cda84c97-3f16-4453-9eae-8d5abee97adf",
   "metadata": {},
   "source": [
    "### Pharmacophoric Points\n",
    "\n",
    "A pharmacophoric point is a chemical feature in 3D space. A pharmacophoric point can be created from the PharmacophoricPoint class. To create a new pharmacophoric point, the feature type, the center and radius are required. A direction vector can be optionally passed to create a point with directionality.\n",
    "\n",
    "To begin, we will create an hydrogen bond donor, an aromatic ring and a positive charge. The constructor expects the center and radius to be quantities. For that we are using the pyunitwizard library."
   ]
  },
  {
   "cell_type": "code",
   "execution_count": 13,
   "id": "f582f4e2-133f-425a-9586-64a4f39283c0",
   "metadata": {},
   "outputs": [
    {
     "name": "stdout",
     "output_type": "stream",
     "text": [
      "HbDonorSphereAndVector(center: (1.0, 1.0, 1.0); radius: 1.5; direction: (0.5185, 0.8296, 0.2074)) \n",
      "\n",
      "AromaticRingSphereAndVector(center: (-1.0, 0.0, 2.0); radius: 1.0; direction: (0.5185, 0.8296, 0.2074)) \n",
      "\n",
      "PositiveChargeSphere(center: (0.0, -1.5, 2.0); radius: 1.75) \n",
      "\n"
     ]
    }
   ],
   "source": [
    "donor = PharmacophoricPoint(feat_type=\"hb donor\",\n",
    "                           center=puw.quantity([1.0, 1.0, 1.0], \"angstroms\"),\n",
    "                           radius=puw.quantity(1.5, \"angstroms\"),\n",
    "                           direction=[0.5, 0.8, 0.2]\n",
    "                           )\n",
    "\n",
    "aromatic = PharmacophoricPoint(feat_type=\"aromatic ring\",\n",
    "                           center=puw.quantity([-1.0, 0.0, 2.0], \"angstroms\"),\n",
    "                           radius=puw.quantity(1.0, \"angstroms\"),\n",
    "                           direction=[0.5, 0.8, 0.2]\n",
    "                              )\n",
    "\n",
    "pos_charge = PharmacophoricPoint(feat_type=\"positive charge\",\n",
    "                           center=puw.quantity([0.0, -1.5, 2.0], \"angstroms\"),\n",
    "                           radius=puw.quantity(1.75, \"angstroms\"),\n",
    "                           )\n",
    "\n",
    "print(donor, \"\\n\")\n",
    "print(aromatic, \"\\n\")\n",
    "print(pos_charge, \"\\n\")"
   ]
  },
  {
   "cell_type": "markdown",
   "id": "0acf9e16-992c-473f-96a7-d3777842f828",
   "metadata": {},
   "source": [
    "Pharmacophoric points can be of different types including: hydrogen bond donor and acceptors, aromatic rings, hydrophobic areas, positve and negative charges, and excluded and included volumes.\n",
    "\n",
    "To see the list of accepted chemical features we can call the static method get_valid_features of the PharmacophoricPoint class"
   ]
  },
  {
   "cell_type": "code",
   "execution_count": 4,
   "id": "6885cede-7cfd-4ca4-8bbc-ec77b58a224f",
   "metadata": {},
   "outputs": [
    {
     "data": {
      "text/plain": [
       "['hb acceptor',\n",
       " 'hb donor',\n",
       " 'aromatic ring',\n",
       " 'hydrophobicity',\n",
       " 'positive charge',\n",
       " 'negative charge',\n",
       " 'excluded sphere',\n",
       " 'included sphere']"
      ]
     },
     "execution_count": 4,
     "metadata": {},
     "output_type": "execute_result"
    }
   ],
   "source": [
    "PharmacophoricPoint.get_valid_features()"
   ]
  },
  {
   "cell_type": "markdown",
   "id": "5a1577d3-61ca-4f79-99c1-cde66f1b6ab8",
   "metadata": {},
   "source": [
    "Let's inspect a pharmacophoric point"
   ]
  },
  {
   "cell_type": "code",
   "execution_count": 16,
   "id": "e27b44e5-abeb-4147-878c-d3b789902789",
   "metadata": {},
   "outputs": [
    {
     "name": "stdout",
     "output_type": "stream",
     "text": [
      "Center is [0.09999999999999999 0.09999999999999999 0.09999999999999999] nanometer\n",
      "Radius is 0.15 nanometer\n",
      "Direction is [0.51847585 0.82956136 0.20739034]\n",
      "Feature name is hb donor\n"
     ]
    }
   ],
   "source": [
    "print(f\"Center is {donor.center}\")\n",
    "print(f\"Radius is {donor.radius}\")\n",
    "print(f\"Direction is {donor.direction}\")\n",
    "print(f\"Feature name is {donor.feature_name}\")"
   ]
  },
  {
   "cell_type": "markdown",
   "id": "a07e9b52-12df-4a8b-b0fa-3bd489070abf",
   "metadata": {},
   "source": [
    "Pharmacophoric points can be modified after they been created."
   ]
  },
  {
   "cell_type": "code",
   "execution_count": 17,
   "id": "ba33769d-2488-42dc-b724-0ab5982756f7",
   "metadata": {},
   "outputs": [
    {
     "name": "stdout",
     "output_type": "stream",
     "text": [
      "HbDonorSphereAndVector(center: (0.25, -1.15, 2.34); radius: 1.5; direction: (0.5185, 0.8296, 0.2074))\n"
     ]
    }
   ],
   "source": [
    "new_center = puw.quantity([0.25, -1.15, 2.34], \"angstroms\")\n",
    "donor.center = new_center\n",
    "print(donor)"
   ]
  },
  {
   "cell_type": "markdown",
   "id": "bfffdb25-8f9c-445a-b4a7-09fffc4a66ae",
   "metadata": {},
   "source": [
    "### Create the Pharmacophore\n",
    "\n",
    "We are now ready to create a pharmacophore from the previosly defined points."
   ]
  },
  {
   "cell_type": "code",
   "execution_count": 21,
   "id": "b40314db-35dc-43de-be27-bae1b1422e41",
   "metadata": {},
   "outputs": [
    {
     "name": "stdout",
     "output_type": "stream",
     "text": [
      "Pharmacophore(n_elements: 3)\n",
      "[HbDonorSphereAndVector(center: (0.25, -1.15, 2.34); radius: 1.5; direction: (0.5185, 0.8296, 0.2074)), AromaticRingSphereAndVector(center: (-1.0, 0.0, 2.0); radius: 1.0; direction: (0.5185, 0.8296, 0.2074)), PositiveChargeSphere(center: (0.0, -1.5, 2.0); radius: 1.75)]\n"
     ]
    }
   ],
   "source": [
    "pharma_points = [donor, aromatic, pos_charge]\n",
    "pharmacophore = Pharmacophore(pharma_points)\n",
    "print(pharmacophore)\n",
    "print(pharmacophore.elements)"
   ]
  }
 ],
 "metadata": {
  "kernelspec": {
   "display_name": "Python 3 (ipykernel)",
   "language": "python",
   "name": "python3"
  },
  "language_info": {
   "codemirror_mode": {
    "name": "ipython",
    "version": 3
   },
   "file_extension": ".py",
   "mimetype": "text/x-python",
   "name": "python",
   "nbconvert_exporter": "python",
   "pygments_lexer": "ipython3",
   "version": "3.7.10"
  }
 },
 "nbformat": 4,
 "nbformat_minor": 5
}
