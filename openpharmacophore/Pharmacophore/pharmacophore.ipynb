{
 "cells": [
  {
   "cell_type": "code",
   "execution_count": 1,
   "id": "137ce3a3-ba8c-438d-9f39-f7fa85dff506",
   "metadata": {},
   "outputs": [],
   "source": [
    "%load_ext autoreload\n",
    "%autoreload 2"
   ]
  },
  {
   "cell_type": "markdown",
   "id": "9e3d1759-27c6-4f07-aa30-decf7bb68af9",
   "metadata": {},
   "source": [
    "# Pharmacohophores with OpenPharmacophore"
   ]
  },
  {
   "cell_type": "code",
   "execution_count": 2,
   "id": "72b68a24-f251-4217-bb81-7c1bd3e37dde",
   "metadata": {},
   "outputs": [
    {
     "data": {
      "application/vnd.jupyter.widget-view+json": {
       "model_id": "62cdbf6a138244408b7ab89420f2b5e7",
       "version_major": 2,
       "version_minor": 0
      },
      "text/plain": []
     },
     "metadata": {},
     "output_type": "display_data"
    },
    {
     "name": "stderr",
     "output_type": "stream",
     "text": [
      "2021-10-26 11:53:04,266 [WARNING] [__init__.py:5] root: Warning: importing 'simtk.openmm' is deprecated.  Import 'openmm' instead.\n"
     ]
    }
   ],
   "source": [
    "from openpharmacophore import Pharmacophore\n",
    "from openpharmacophore import PharmacophoricPoint\n",
    "\n",
    "import pyunitwizard as puw\n",
    "import os"
   ]
  },
  {
   "cell_type": "markdown",
   "id": "ccdc9f84-739a-4642-a1b3-60cbc2aa38f3",
   "metadata": {},
   "source": [
    "## Create a new Pharmacophore from scratch\n",
    "\n",
    "In OpenPharmacophore, a pharmacophore is an object that contains a list of pharmacophoric points. Pharmacophores can be obtained via ligand or structured based methods. However, the simplest way to create a pharmacophore is from a list of pharmacophoric points. Altough this is not really useful, it will help us understand how pharmacophore objects work in OpenPharmacophore."
   ]
  },
  {
   "cell_type": "markdown",
   "id": "cda84c97-3f16-4453-9eae-8d5abee97adf",
   "metadata": {},
   "source": [
    "### Pharmacophoric Points\n",
    "\n",
    "In OpenPharmacophore, a pharmacophoric point is a chemical feature in 3D space, with a tolerance radius. A pharmacophoric point can be created from the PharmacophoricPoint class. To create a new pharmacophoric point, the feature type, the center and radius are required. A direction vector can be optionally passed to create a pharmacophoric point with directionality.\n",
    "\n",
    "To begin, we will create an hydrogen bond donor, an aromatic ring and a positive charge pharmacophoric point. The constructor expects the center and radius to be quantities, for which we are using the pyunitwizard library."
   ]
  },
  {
   "cell_type": "code",
   "execution_count": 3,
   "id": "f582f4e2-133f-425a-9586-64a4f39283c0",
   "metadata": {},
   "outputs": [
    {
     "name": "stdout",
     "output_type": "stream",
     "text": [
      "HbDonorSphereAndVector(center: (1.0, 1.0, 1.0); radius: 1.5; direction: (0.5185, 0.8296, 0.2074)) \n",
      "\n",
      "AromaticRingSphereAndVector(center: (-1.0, 0.0, 2.0); radius: 1.0; direction: (0.5185, 0.8296, 0.2074)) \n",
      "\n",
      "PositiveChargeSphere(center: (0.0, -1.5, 2.0); radius: 1.75) \n",
      "\n"
     ]
    }
   ],
   "source": [
    "donor = PharmacophoricPoint(feat_type=\"hb donor\",\n",
    "                           center=puw.quantity([1.0, 1.0, 1.0], \"angstroms\"),\n",
    "                           radius=puw.quantity(1.5, \"angstroms\"),\n",
    "                           direction=[0.5, 0.8, 0.2]\n",
    "                           )\n",
    "\n",
    "aromatic = PharmacophoricPoint(feat_type=\"aromatic ring\",\n",
    "                           center=puw.quantity([-1.0, 0.0, 2.0], \"angstroms\"),\n",
    "                           radius=puw.quantity(1.0, \"angstroms\"),\n",
    "                           direction=[0.5, 0.8, 0.2]\n",
    "                              )\n",
    "\n",
    "pos_charge = PharmacophoricPoint(feat_type=\"positive charge\",\n",
    "                           center=puw.quantity([0.0, -1.5, 2.0], \"angstroms\"),\n",
    "                           radius=puw.quantity(1.75, \"angstroms\"),\n",
    "                           )\n",
    "\n",
    "print(donor, \"\\n\")\n",
    "print(aromatic, \"\\n\")\n",
    "print(pos_charge, \"\\n\")"
   ]
  },
  {
   "cell_type": "markdown",
   "id": "0acf9e16-992c-473f-96a7-d3777842f828",
   "metadata": {},
   "source": [
    "Pharmacophoric points can be of different types including: hydrogen bond donor and acceptors, aromatic rings, hydrophobic areas, positve and negative charges, and excluded and included volumes.\n",
    "\n",
    "To see the list of accepted chemical features we can call the static method get_valid_features of the PharmacophoricPoint class"
   ]
  },
  {
   "cell_type": "code",
   "execution_count": 4,
   "id": "6885cede-7cfd-4ca4-8bbc-ec77b58a224f",
   "metadata": {},
   "outputs": [
    {
     "data": {
      "text/plain": [
       "['hb acceptor',\n",
       " 'hb donor',\n",
       " 'aromatic ring',\n",
       " 'hydrophobicity',\n",
       " 'positive charge',\n",
       " 'negative charge',\n",
       " 'excluded volume',\n",
       " 'included volume']"
      ]
     },
     "execution_count": 4,
     "metadata": {},
     "output_type": "execute_result"
    }
   ],
   "source": [
    "PharmacophoricPoint.get_valid_features()"
   ]
  },
  {
   "cell_type": "markdown",
   "id": "5a1577d3-61ca-4f79-99c1-cde66f1b6ab8",
   "metadata": {},
   "source": [
    "Let's inspect a pharmacophoric point"
   ]
  },
  {
   "cell_type": "code",
   "execution_count": 5,
   "id": "e27b44e5-abeb-4147-878c-d3b789902789",
   "metadata": {},
   "outputs": [
    {
     "name": "stdout",
     "output_type": "stream",
     "text": [
      "Center is [0.09999999999999999 0.09999999999999999 0.09999999999999999] nanometer\n",
      "Radius is 0.15 nanometer\n",
      "Direction is [0.51847585 0.82956136 0.20739034]\n",
      "Feature name is hb donor\n"
     ]
    }
   ],
   "source": [
    "print(f\"Center is {donor.center}\")\n",
    "print(f\"Radius is {donor.radius}\")\n",
    "print(f\"Direction is {donor.direction}\")\n",
    "print(f\"Feature name is {donor.feature_name}\")"
   ]
  },
  {
   "cell_type": "markdown",
   "id": "a07e9b52-12df-4a8b-b0fa-3bd489070abf",
   "metadata": {},
   "source": [
    "Pharmacophoric points can be modified after they been created."
   ]
  },
  {
   "cell_type": "code",
   "execution_count": 6,
   "id": "ba33769d-2488-42dc-b724-0ab5982756f7",
   "metadata": {},
   "outputs": [
    {
     "name": "stdout",
     "output_type": "stream",
     "text": [
      "HbDonorSphereAndVector(center: (0.25, -1.15, 2.34); radius: 1.5; direction: (0.5185, 0.8296, 0.2074))\n"
     ]
    }
   ],
   "source": [
    "new_center = puw.quantity([0.25, -1.15, 2.34], \"angstroms\")\n",
    "donor.center = new_center\n",
    "print(donor)"
   ]
  },
  {
   "cell_type": "markdown",
   "id": "bfffdb25-8f9c-445a-b4a7-09fffc4a66ae",
   "metadata": {},
   "source": [
    "### Create the Pharmacophore\n",
    "\n",
    "We are now ready to create a pharmacophore from the previosly defined points."
   ]
  },
  {
   "cell_type": "code",
   "execution_count": 7,
   "id": "b40314db-35dc-43de-be27-bae1b1422e41",
   "metadata": {},
   "outputs": [
    {
     "name": "stdout",
     "output_type": "stream",
     "text": [
      "Pharmacophore(n_elements: 3)\n",
      "[HbDonorSphereAndVector(center: (0.25, -1.15, 2.34); radius: 1.5; direction: (0.5185, 0.8296, 0.2074)), AromaticRingSphereAndVector(center: (-1.0, 0.0, 2.0); radius: 1.0; direction: (0.5185, 0.8296, 0.2074)), PositiveChargeSphere(center: (0.0, -1.5, 2.0); radius: 1.75)]\n"
     ]
    }
   ],
   "source": [
    "pharma_points = [donor, aromatic, pos_charge]\n",
    "pharmacophore = Pharmacophore(pharma_points)\n",
    "print(pharmacophore)\n",
    "print(pharmacophore.elements)"
   ]
  },
  {
   "cell_type": "markdown",
   "id": "f0d0ad33-332f-43fe-9c56-5434c58a2bd1",
   "metadata": {},
   "source": [
    "Once we have created a pharmacophore, new pharmacophoric points can be added or removed"
   ]
  },
  {
   "cell_type": "code",
   "execution_count": 8,
   "id": "83ed9438-e294-4a01-bc70-f234a56b7893",
   "metadata": {},
   "outputs": [
    {
     "name": "stdout",
     "output_type": "stream",
     "text": [
      "3 pharmacophoric points\n",
      "\n",
      "[HbDonorSphereAndVector(center: (0.25, -1.15, 2.34); radius: 1.5; direction: (0.5185, 0.8296, 0.2074)), AromaticRingSphereAndVector(center: (-1.0, 0.0, 2.0); radius: 1.0; direction: (0.5185, 0.8296, 0.2074)), HbAcceptorSphere(center: (-1.2, -2.3, 0.5); radius: 1.0)] \n",
      "\n"
     ]
    }
   ],
   "source": [
    "# Create a new hb acceptor and add it to the pharmacophore\n",
    "acceptor = PharmacophoricPoint(\n",
    "    feat_type=\"hb acceptor\",\n",
    "    center=puw.quantity([-1.20, -2.3, 0.5], \"angstroms\"),\n",
    "    radius=puw.quantity(1.0, \"angstroms\")\n",
    ")\n",
    "\n",
    "pharmacophore.add_element(acceptor)\n",
    "\n",
    "# Remove the positive charge\n",
    "pos_charge_index = 2\n",
    "pharmacophore.remove_elements(pos_charge_index)\n",
    "\n",
    "print(f\"{pharmacophore.n_elements} pharmacophoric points\\n\")\n",
    "print(pharmacophore.elements, \"\\n\")"
   ]
  },
  {
   "cell_type": "markdown",
   "id": "65599070-ca22-4ba9-9f69-75c9392e6eaf",
   "metadata": {},
   "source": [
    "We can visualize the pharmacophore using the show method, this will return an nglview widget. Pharmacophoric points are visualized as spheres and vectors if they have directionality. If a pharmacophore is associated with a molecular system it will also be shown. Nevertheless, in this case the pharmacophore does not contain a molecular system."
   ]
  },
  {
   "cell_type": "code",
   "execution_count": 9,
   "id": "f381befe-4be2-43f1-8f11-d0b5690c2612",
   "metadata": {},
   "outputs": [
    {
     "data": {
      "application/vnd.jupyter.widget-view+json": {
       "model_id": "afd9a796acaf4695811be780c05d90f1",
       "version_major": 2,
       "version_minor": 0
      },
      "text/plain": [
       "NGLWidget()"
      ]
     },
     "metadata": {},
     "output_type": "display_data"
    }
   ],
   "source": [
    "pharmacophore.show()"
   ]
  },
  {
   "cell_type": "markdown",
   "id": "d6ac2798-c1be-4745-843a-0f3e8e9ef837",
   "metadata": {},
   "source": [
    "## Load pharmacophores from other software\n",
    "\n",
    "OpenPharmacophore can load pharmacophores generated with other software such as LigandScout, MOE, ZincPharmer and Pharmagist. It accepts a variety of different file formats inlcuding pml, ph4, json, and mol2."
   ]
  },
  {
   "cell_type": "code",
   "execution_count": 10,
   "id": "bb31f73c-23de-4e4d-ac1f-034ba390b050",
   "metadata": {},
   "outputs": [
    {
     "name": "stdout",
     "output_type": "stream",
     "text": [
      "Pharmacophore(n_elements: 4)\n",
      "[NegativeChargeSphere(center: (-8.0, 10.0, -9.5); radius: 1.5), HbDonorSphereAndVector(center: (-8.0, 2.0, -10.0); radius: 1.5; direction: (-0.4741, 0.0485, -0.8791)), AromaticRingSphereAndVector(center: (0.0, 6.5, -3.0); radius: 1.5; direction: (-0.8987, 0.4144, 0.1436)), ExcludedVolumeSphere(center: (5.5, 4.5, -2.0); radius: 1.0)]\n"
     ]
    }
   ],
   "source": [
    "# Load a pharmacophore from LigandScout (pml format).\n",
    "data_dir = \"../../data/Pharmacophores\"\n",
    "pharma_file = \"ligandscout/pharmacophore.pml\"\n",
    "\n",
    "file = os.path.join(data_dir, pharma_file)\n",
    "\n",
    "ligscout_pharmacophore = Pharmacophore().from_file(file)\n",
    "print(ligscout_pharmacophore)\n",
    "print(ligscout_pharmacophore.elements)"
   ]
  },
  {
   "cell_type": "code",
   "execution_count": 13,
   "id": "27f101ea-9285-4439-8f7c-5f0c8831567b",
   "metadata": {},
   "outputs": [
    {
     "name": "stdout",
     "output_type": "stream",
     "text": [
      "Pharmacophore(n_elements: 5)\n",
      "[HbAcceptorSphereAndVector(center: (21.352, -14.531, 19.625); radius: 1.0; direction: (-0.6406, 0.7029, -0.3091)), HbAcceptorSphereAndVector(center: (19.355, -18.32, 23.987); radius: 1.0; direction: (0.6859, 0.0909, 0.722)), HbDonorSphereAndVector(center: (20.977, -16.951, 18.746); radius: 1.0; direction: (0.7166, -0.5203, -0.4645)), NegativeChargeSphere(center: (21.669, -15.0777, 20.6083); radius: 1.5), NegativeChargeSphere(center: (19.985, -19.4044, 22.8422); radius: 2.0)]\n"
     ]
    }
   ],
   "source": [
    "# Load a pharmacophore from pharmer (json format).\n",
    "pharma_file = \"pharmer/1M70.json\"\n",
    "\n",
    "file = os.path.join(data_dir, pharma_file)\n",
    "\n",
    "pharmer_pharmacophore = Pharmacophore().from_file(file)\n",
    "print(pharmer_pharmacophore)\n",
    "print(pharmer_pharmacophore.elements)"
   ]
  },
  {
   "cell_type": "code",
   "execution_count": 14,
   "id": "28353797-231b-46a0-81e2-23c983c19960",
   "metadata": {},
   "outputs": [
    {
     "data": {
      "application/vnd.jupyter.widget-view+json": {
       "model_id": "4ea3f324400a42ada949df55ce236cec",
       "version_major": 2,
       "version_minor": 0
      },
      "text/plain": [
       "NGLWidget()"
      ]
     },
     "metadata": {},
     "output_type": "display_data"
    }
   ],
   "source": [
    "pharmer_pharmacophore.show()"
   ]
  },
  {
   "cell_type": "code",
   "execution_count": 15,
   "id": "2143760e-c0a7-4cd3-9d2e-0b61c7bd3b1e",
   "metadata": {},
   "outputs": [
    {
     "name": "stdout",
     "output_type": "stream",
     "text": [
      "Pharmacophore(n_elements: 10)\n",
      "[HbDonorSphere(center: (1.71, 1.4307, -1.4255); radius: 0.51), HydrophobicitySphere(center: (2.7895, 2.4035, -1.4087); radius: 0.55), HbAcceptorSphere(center: (0.312, 3.0175, -2.4482); radius: 0.57), AromaticRingSphere(center: (-0.7485, 2.1311, -2.4904); radius: 0.58), AromaticRingSphere(center: (-1.7196, -0.0273, -2.0556); radius: 0.6), AromaticRingSphere(center: (5.2003, 1.2548, -0.199); radius: 0.61), HbAcceptorSphere(center: (-1.9588, 2.536, -3.0362); radius: 0.62), HydrophobicitySphere(center: (-1.5472, -2.9794, -0.9619); radius: 0.74), HbAcceptorSphere(center: (-0.7551, 6.3286, -3.9676); radius: 1.25), AromaticRingSphere(center: (-0.7551, 6.3286, -3.9676); radius: 1.25)]\n"
     ]
    }
   ],
   "source": [
    "# Load a pharmacophore from moe (ph4 format).\n",
    "pharma_file = \"MOE/gmp.ph4\"\n",
    "\n",
    "file = os.path.join(data_dir, pharma_file)\n",
    "\n",
    "moe_pharmacophore = Pharmacophore().from_file(file)\n",
    "print(moe_pharmacophore)\n",
    "print(moe_pharmacophore.elements)"
   ]
  },
  {
   "cell_type": "code",
   "execution_count": 17,
   "id": "4fd19670-e174-4202-8a66-bef04c70be5b",
   "metadata": {},
   "outputs": [
    {
     "name": "stdout",
     "output_type": "stream",
     "text": [
      "Pharmacophore(n_elements: 4)\n",
      "[HbAcceptorSphere(center: (-1.6995, 1.7377, -1.345); radius: 1.0), HbAcceptorSphere(center: (-1.7963, -1.8827, -2.8994); radius: 1.0), AromaticRingSphere(center: (-5.1291, 1.9117, 0.7651); radius: 1.0), HydrophobicitySphere(center: (0.8742, -0.6313, 0.4179); radius: 1.0)]\n"
     ]
    }
   ],
   "source": [
    "# Load a pharmacophore from pharmagist (mol2 format).\n",
    "pharma_file = \"pharmagist/Pharmacophore/elastase.mol2\"\n",
    "\n",
    "file = os.path.join(data_dir, pharma_file)\n",
    "\n",
    "pharmagist_pharmacophore = Pharmacophore().from_file(file)\n",
    "print(pharmagist_pharmacophore)\n",
    "print(pharmagist_pharmacophore.elements)"
   ]
  },
  {
   "cell_type": "markdown",
   "id": "4e4f624c-8e17-4385-8f93-5458d72f80e5",
   "metadata": {},
   "source": [
    "### Saving Pharmacophores\n",
    "Pharmacophores can also be saved to different file formats. Let's save the pharmacophore that we created at the beginning of the tutorial."
   ]
  },
  {
   "cell_type": "code",
   "execution_count": 24,
   "id": "0ed9a7f8-fbac-40c6-8822-4c8ad564a5a8",
   "metadata": {},
   "outputs": [],
   "source": [
    "pharmacophore.to_ligandscout(\"./mypharmacophore.pml\") \n",
    "pharmacophore.to_pharmer(\"./mypharmacophore.json\") \n",
    "pharmacophore.to_pharmagist(\"./mypharmacophore.mol2\")\n",
    "pharmacophore.to_moe(\"./mypharmacophore.ph4\") "
   ]
  }
 ],
 "metadata": {
  "kernelspec": {
   "display_name": "Python 3 (ipykernel)",
   "language": "python",
   "name": "python3"
  },
  "language_info": {
   "codemirror_mode": {
    "name": "ipython",
    "version": 3
   },
   "file_extension": ".py",
   "mimetype": "text/x-python",
   "name": "python",
   "nbconvert_exporter": "python",
   "pygments_lexer": "ipython3",
   "version": "3.7.10"
  }
 },
 "nbformat": 4,
 "nbformat_minor": 5
}
