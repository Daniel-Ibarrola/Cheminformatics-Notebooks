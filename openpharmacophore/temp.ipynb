{
 "cells": [
  {
   "cell_type": "code",
   "execution_count": 21,
   "id": "48a21d20-3169-42c5-87df-a87c027db2b1",
   "metadata": {},
   "outputs": [],
   "source": [
    "from rdkit import Chem, RDConfig\n",
    "from rdkit.Chem import AllChem, ChemicalFeatures\n",
    "from openpharmacophore.utils.ligand_features import ligands_pharmacophoric_points\n",
    "from openpharmacophore.utils.rdkit_to_point import rdkit_to_point\n",
    "from openpharmacophore import pharmacophoric_elements\n",
    "import os\n",
    "import numpy as np\n",
    "import pyunitwizard as puw\n",
    "import nglview as nv\n",
    "from rdkit import RDLogger \n",
    "RDLogger.DisableLog('rdApp.*')"
   ]
  },
  {
   "cell_type": "code",
   "execution_count": 3,
   "id": "e64640bf-4df6-4e14-a91b-3abfcd636979",
   "metadata": {},
   "outputs": [
    {
     "data": {
      "image/png": "[encoded data removed]",
      "text/plain": [
       "<rdkit.Chem.rdchem.Mol at 0x7faf053e0bc0>"
      ]
     },
     "execution_count": 3,
     "metadata": {},
     "output_type": "execute_result"
    }
   ],
   "source": [
    "mol = Chem.MolFromSmiles(\"CC1=CC(=CC(=C1OCCCC2=CC(=NO2)C)C)C3=NOC(=N3)C(F)(F)F\")\n",
    "mol"
   ]
  },
  {
   "cell_type": "code",
   "execution_count": 4,
   "id": "6acd2ff9-dd96-4b89-8b3e-17c828954cb0",
   "metadata": {},
   "outputs": [
    {
     "data": {
      "text/plain": [
       "0"
      ]
     },
     "execution_count": 4,
     "metadata": {},
     "output_type": "execute_result"
    }
   ],
   "source": [
    "mol.GetNumConformers()"
   ]
  },
  {
   "cell_type": "code",
   "execution_count": 5,
   "id": "98d8ad77-8476-4793-83a1-5cb11746a35c",
   "metadata": {},
   "outputs": [],
   "source": [
    "def feature_centroid(molecule, atom_indxs, conformer_idx):\n",
    "    \"\"\"\n",
    "       Get the 3D coordinates of the centroid of a feature that encompasses\n",
    "       more than one atom. This could be aromatic, hydrophobic, negative and positive features\n",
    "    \"\"\"\n",
    "    \n",
    "    n_atoms = len(atom_indxs)\n",
    "    coords = np.zeros((n_atoms, 3))\n",
    "    for j, idx in enumerate(atom_indxs):\n",
    "            position = molecule.GetConformer(conformer_idx).GetAtomPosition(idx)\n",
    "            coords[j, 0] = position.x\n",
    "            coords[j, 1] = position.y\n",
    "            coords[j, 2] = position.z\n",
    "    \n",
    "    centroid = coords.mean(axis=0)\n",
    "   \n",
    "    return centroid"
   ]
  },
  {
   "cell_type": "code",
   "execution_count": 6,
   "id": "6a3ab16a-9757-494d-976c-bc8b402678e1",
   "metadata": {},
   "outputs": [],
   "source": [
    "def generate_conformers(molecule, n_conformers, random_seed=-1, alignment=False):\n",
    "    \"\"\"Generate n conformers for a molecule\"\"\"\n",
    "    molecule = Chem.AddHs(molecule) # Add hydrogens to generate realistic geometries\n",
    "    cids = AllChem.EmbedMultipleConfs(molecule, numConfs=n_conformers, randomSeed=random_seed)\n",
    "    \n",
    "    if alignment:\n",
    "        AllChem.AlignMolConformers(molecule)\n",
    "    return molecule"
   ]
  },
  {
   "cell_type": "code",
   "execution_count": 7,
   "id": "b9ae5d4b-817c-434e-9766-34b6a30f1a3d",
   "metadata": {},
   "outputs": [
    {
     "name": "stdout",
     "output_type": "stream",
     "text": [
      "Acceptor, atoms: (7,)\n",
      "Acceptor, atoms: (14,)\n",
      "Acceptor, atoms: (19,)\n",
      "Acceptor, atoms: (22,)\n",
      "Aromatic, atoms: (11, 12, 13, 14, 15)\n",
      "Aromatic, atoms: (18, 19, 20, 21, 22)\n",
      "Aromatic, atoms: (1, 2, 3, 4, 5, 6)\n",
      "Hydrophobe, atoms: (0,)\n",
      "Hydrophobe, atoms: (1,)\n",
      "Hydrophobe, atoms: (2,)\n",
      "Hydrophobe, atoms: (3,)\n",
      "Hydrophobe, atoms: (4,)\n",
      "Hydrophobe, atoms: (5,)\n",
      "Hydrophobe, atoms: (9,)\n",
      "Hydrophobe, atoms: (10,)\n",
      "Hydrophobe, atoms: (12,)\n",
      "Hydrophobe, atoms: (16,)\n",
      "Hydrophobe, atoms: (17,)\n",
      "LumpedHydrophobe, atoms: (1, 2, 3, 4, 5, 6)\n"
     ]
    }
   ],
   "source": [
    "mol = generate_conformers(mol, 1, random_seed=1, alignment=False)\n",
    "\n",
    "fdefName = os.path.join(RDConfig.RDDataDir,'BaseFeatures.fdef')\n",
    "factory = ChemicalFeatures.BuildFeatureFactory(fdefName)\n",
    "\n",
    "feats = factory.GetFeaturesForMol(mol)\n",
    "for f in feats:\n",
    "        feat_name = f.GetFamily()\n",
    "        atom_idxs = f.GetAtomIds()\n",
    "        print(f\"{feat_name}, atoms: {atom_idxs}\")"
   ]
  },
  {
   "cell_type": "code",
   "execution_count": 8,
   "id": "2ec49edc-71c3-445b-813d-b32d51465fb4",
   "metadata": {},
   "outputs": [
    {
     "name": "stdout",
     "output_type": "stream",
     "text": [
      "-5.256026015194413 0.2637169048998521 -0.22204282175815981\n"
     ]
    }
   ],
   "source": [
    "idxs = (11, 12, 13, 14, 15)\n",
    "x = 0\n",
    "y = 0\n",
    "z = 0\n",
    "for i in idxs:\n",
    "    pos = mol.GetConformer(0).GetAtomPosition(i)\n",
    "    x += pos.x\n",
    "    y += pos.y\n",
    "    z += pos.z\n",
    "\n",
    "x /= len(idxs)\n",
    "y /= len(idxs)\n",
    "z /= len(idxs)\n",
    "\n",
    "print(x, y, z)\n",
    "centroid = np.array([x,y,z])"
   ]
  },
  {
   "cell_type": "code",
   "execution_count": 9,
   "id": "26fcfe83-ce2d-4efa-a0d7-d2014ada2c56",
   "metadata": {},
   "outputs": [],
   "source": [
    "x, y, z = -5.256026015194413, 0.2637169048998521, -0.22204282175815981"
   ]
  },
  {
   "cell_type": "code",
   "execution_count": 10,
   "id": "ce1c18d4-c351-4bfa-ba92-d6c628da6e65",
   "metadata": {},
   "outputs": [
    {
     "name": "stdout",
     "output_type": "stream",
     "text": [
      "True\n",
      "True\n",
      "True\n"
     ]
    }
   ],
   "source": [
    "print(x == feature_centroid(mol, idxs, 0)[0])\n",
    "print(y == feature_centroid(mol, idxs, 0)[1])\n",
    "print(z == feature_centroid(mol, idxs, 0)[2])"
   ]
  },
  {
   "cell_type": "code",
   "execution_count": 11,
   "id": "ec41c658-d48e-432d-8cc5-de664854639e",
   "metadata": {},
   "outputs": [
    {
     "data": {
      "image/png": "[encoded data removed]",
      "text/plain": [
       "<rdkit.Chem.rdchem.Mol at 0x7faf053fa530>"
      ]
     },
     "execution_count": 11,
     "metadata": {},
     "output_type": "execute_result"
    }
   ],
   "source": [
    "acetic_acid = Chem.MolFromSmiles(\"CC(=O)O\")\n",
    "acetic_acid"
   ]
  },
  {
   "cell_type": "code",
   "execution_count": 12,
   "id": "6691e6cc-c5bc-40e2-82dc-65a899c36da2",
   "metadata": {},
   "outputs": [
    {
     "data": {
      "image/png": "[encoded data removed]",
      "text/plain": [
       "<rdkit.Chem.rdchem.Mol at 0x7faf0540c170>"
      ]
     },
     "execution_count": 12,
     "metadata": {},
     "output_type": "execute_result"
    }
   ],
   "source": [
    "leucine = Chem.MolFromSmiles(\"CC(C)CC(C(=O)O)N\")\n",
    "leucine"
   ]
  },
  {
   "cell_type": "code",
   "execution_count": 13,
   "id": "1d55d15a-46b6-46b4-9888-b14ba51fda10",
   "metadata": {},
   "outputs": [
    {
     "name": "stdout",
     "output_type": "stream",
     "text": [
      "Donor, atoms: (3,)\n",
      "Acceptor, atoms: (2,)\n",
      "Acceptor, atoms: (3,)\n",
      "NegIonizable, atoms: (1, 2, 3)\n"
     ]
    }
   ],
   "source": [
    "feats = factory.GetFeaturesForMol(acetic_acid)\n",
    "feat_list = ['Acceptor', 'Aromatic', 'Donor', 'Hydrophobe', 'PosIonizable', 'NegIonizable']\n",
    "for f in feats:\n",
    "        feat_name = f.GetFamily()\n",
    "        if feat_name not in feat_list:\n",
    "            continue\n",
    "        atom_idxs = f.GetAtomIds()\n",
    "        print(f\"{feat_name}, atoms: {atom_idxs}\")"
   ]
  },
  {
   "cell_type": "code",
   "execution_count": 14,
   "id": "d2c34bbd-c5f0-4782-9691-24bee7ae6581",
   "metadata": {},
   "outputs": [],
   "source": [
    "acetic_acid = generate_conformers(acetic_acid, 1, random_seed=1, alignment=False)\n",
    "points = ligands_pharmacophoric_points(acetic_acid, feat_list=None, feat_def='rdkit', \n",
    "                               point_type=\"spheres\", radius=1)"
   ]
  },
  {
   "cell_type": "code",
   "execution_count": 15,
   "id": "d4c01822-53bc-4857-ad24-f23400827381",
   "metadata": {},
   "outputs": [],
   "source": [
    "points = points[\"ligand_0\"][\"conformer_0\"]"
   ]
  },
  {
   "cell_type": "code",
   "execution_count": 16,
   "id": "4afbeec3-3e52-4e1b-af0b-71994b643c0b",
   "metadata": {},
   "outputs": [
    {
     "name": "stdout",
     "output_type": "stream",
     "text": [
      "True\n",
      "True\n",
      "True\n",
      "True\n"
     ]
    }
   ],
   "source": [
    "aromatic_sphere = rdkit_to_point(\"Aromatic\", [0.0, 1.0, 1.0], radius=1.0)  \n",
    "print(isinstance(aromatic_sphere, pharmacophoric_elements.AromaticRingSphere))\n",
    "print(aromatic_sphere.radius == puw.standardize(puw.quantity(1.0, \"angstroms\")))\n",
    "print(aromatic_sphere.feature_name == \"aromatic ring\")\n",
    "print(np.all(aromatic_sphere.center == puw.standardize(puw.quantity([0.0, 1.0, 1.0], \"angstroms\"))))"
   ]
  },
  {
   "cell_type": "code",
   "execution_count": 17,
   "id": "7b259884-7482-4cb7-b61b-cbd8cba81393",
   "metadata": {},
   "outputs": [
    {
     "data": {
      "text/html": [
       "0.09999999999999999 nanometer"
      ],
      "text/latex": [
       "$0.09999999999999999\\ \\mathrm{nanometer}$"
      ],
      "text/plain": [
       "0.09999999999999999 <Unit('nanometer')>"
      ]
     },
     "execution_count": 17,
     "metadata": {},
     "output_type": "execute_result"
    }
   ],
   "source": [
    "r = puw.quantity(1, \"angstroms\")\n",
    "puw.standardize(r)"
   ]
  },
  {
   "cell_type": "code",
   "execution_count": null,
   "id": "e85a843e-b540-41cc-a8e1-fc2c506fd84e",
   "metadata": {},
   "outputs": [],
   "source": [
    "def Mol2MolSupplier (file=None,sanitize=True):\n",
    "    mols=[]\n",
    "    with open(file, 'r') as f:\n",
    "        doc=[line for line in f.readlines()]\n",
    "\n",
    "    start=[index for (index,p) in enumerate(doc) if '@<TRIPOS>MOLECULE' in p]\n",
    "    finish=[index-1 for (index,p) in enumerate(doc) if '@<TRIPOS>MOLECULE' in p]\n",
    "    finish.append(len(doc))\n",
    "    \n",
    "    interval=list(zip(start,finish[1:]))\n",
    "    for i in interval:\n",
    "        block = \",\".join(doc[i[0]:i[1]]).replace(',','')\n",
    "        m=Chem.MolFromMol2Block(block,sanitize=sanitize)\n",
    "        mols.append(m)\n",
    "    return(mols)"
   ]
  },
  {
   "cell_type": "code",
   "execution_count": 29,
   "id": "1d56df3c-0a58-4ccb-800a-04eedce21641",
   "metadata": {},
   "outputs": [
    {
     "data": {
      "text/plain": [
       "14"
      ]
     },
     "execution_count": 29,
     "metadata": {},
     "output_type": "execute_result"
    }
   ],
   "source": [
    "fname = \"../data/ACE.mol2\"\n",
    "mols = Chem.rdmolfiles.MolFromMol2File(fname)\n",
    "# print(\"{} molecules\".format(len(mols)))\n",
    "mols.GetNumAtoms()"
   ]
  }
 ],
 "metadata": {
  "kernelspec": {
   "display_name": "Python 3",
   "language": "python",
   "name": "python3"
  },
  "language_info": {
   "codemirror_mode": {
    "name": "ipython",
    "version": 3
   },
   "file_extension": ".py",
   "mimetype": "text/x-python",
   "name": "python",
   "nbconvert_exporter": "python",
   "pygments_lexer": "ipython3",
   "version": "3.7.10"
  }
 },
 "nbformat": 4,
 "nbformat_minor": 5
}
