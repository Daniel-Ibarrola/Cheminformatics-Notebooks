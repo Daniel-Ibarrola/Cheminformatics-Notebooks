{
 "cells": [
  {
   "cell_type": "code",
   "execution_count": 1,
   "id": "578cb3d4-bc24-4ce0-9034-669e569e505a",
   "metadata": {},
   "outputs": [],
   "source": [
    "%load_ext autoreload\n",
    "%autoreload 2"
   ]
  },
  {
   "cell_type": "code",
   "execution_count": 2,
   "id": "4ad0a338-f2d2-4846-b3a5-d9ef5de6eb3b",
   "metadata": {},
   "outputs": [
    {
     "data": {
      "application/vnd.jupyter.widget-view+json": {
       "model_id": "a8a0a28f00b04fef8311ebf5a490db08",
       "version_major": 2,
       "version_minor": 0
      },
      "text/plain": []
     },
     "metadata": {},
     "output_type": "display_data"
    }
   ],
   "source": [
    "from openpharmacophore import pharmacophoric_elements as phe\n",
    "from openpharmacophore.ligand_based import LigandBasedPharmacophore\n",
    "from openpharmacophore.io.pharmagist import read_pharmagist\n",
    "\n",
    "import os\n",
    "import re\n",
    "import pyunitwizard as puw\n",
    "import numpy as np"
   ]
  },
  {
   "cell_type": "markdown",
   "id": "e259084b-7615-4748-bd48-8810fbef41ff",
   "metadata": {},
   "source": [
    "## Reading a pharmacophore from a pharmagist mol2 file"
   ]
  },
  {
   "cell_type": "code",
   "execution_count": 3,
   "id": "cdb0ca8b-d473-4425-9ba5-7eaabaf978e1",
   "metadata": {},
   "outputs": [
    {
     "data": {
      "text/plain": [
       "[LigandBasedPharmacophore(n_elements: 9),\n",
       " LigandBasedPharmacophore(n_elements: 10),\n",
       " LigandBasedPharmacophore(n_elements: 16),\n",
       " LigandBasedPharmacophore(n_elements: 11),\n",
       " LigandBasedPharmacophore(n_elements: 13),\n",
       " LigandBasedPharmacophore(n_elements: 13)]"
      ]
     },
     "execution_count": 3,
     "metadata": {},
     "output_type": "execute_result"
    }
   ],
   "source": [
    "files = [\"elastase.mol2\", \"streptadivin.mol2\"]\n",
    "f_directory = \"../Data/pharmagist/Pharmacophore\"\n",
    "\n",
    "# Load streptadivin pharmacophores\n",
    "pharmacophores = read_pharmagist(os.path.join(f_directory, files[1]))\n",
    "pharmacophores"
   ]
  },
  {
   "cell_type": "code",
   "execution_count": 4,
   "id": "ac44036c-c80e-426a-b4b1-c58389d93dc8",
   "metadata": {},
   "outputs": [
    {
     "data": {
      "text/plain": [
       "[LigandBasedPharmacophore(n_elements: 4),\n",
       " LigandBasedPharmacophore(n_elements: 21),\n",
       " LigandBasedPharmacophore(n_elements: 16),\n",
       " LigandBasedPharmacophore(n_elements: 18),\n",
       " LigandBasedPharmacophore(n_elements: 10),\n",
       " LigandBasedPharmacophore(n_elements: 12),\n",
       " LigandBasedPharmacophore(n_elements: 11),\n",
       " LigandBasedPharmacophore(n_elements: 14)]"
      ]
     },
     "execution_count": 4,
     "metadata": {},
     "output_type": "execute_result"
    }
   ],
   "source": [
    "# Load elastase pharmacophores\n",
    "elastase_ph = read_pharmagist(os.path.join(f_directory, files[0]))\n",
    "elastase_ph"
   ]
  },
  {
   "cell_type": "code",
   "execution_count": 5,
   "id": "2133d9dd-652a-4406-b33b-ea151ea2467e",
   "metadata": {},
   "outputs": [
    {
     "data": {
      "text/plain": [
       "8"
      ]
     },
     "execution_count": 5,
     "metadata": {},
     "output_type": "execute_result"
    }
   ],
   "source": [
    "len(elastase_ph)"
   ]
  },
  {
   "cell_type": "code",
   "execution_count": 6,
   "id": "1d78cb10-a9bc-482c-ac79-10843af0a90f",
   "metadata": {},
   "outputs": [],
   "source": [
    "# Load Single pharmacophore for elastase\n",
    "elastase_single_ph = read_pharmagist(os.path.join(f_directory, files[0]), 0)"
   ]
  },
  {
   "cell_type": "code",
   "execution_count": 7,
   "id": "cd4f3bdb-3e2f-4fd0-99ab-124a59855a8c",
   "metadata": {},
   "outputs": [
    {
     "data": {
      "text/plain": [
       "4"
      ]
     },
     "execution_count": 7,
     "metadata": {},
     "output_type": "execute_result"
    }
   ],
   "source": [
    "len(elastase_single_ph)"
   ]
  },
  {
   "cell_type": "code",
   "execution_count": 8,
   "id": "6672b2dc-2c11-45ff-bd5f-b52a76e8a2b0",
   "metadata": {},
   "outputs": [
    {
     "data": {
      "text/plain": [
       "True"
      ]
     },
     "execution_count": 8,
     "metadata": {},
     "output_type": "execute_result"
    }
   ],
   "source": [
    "isinstance(elastase_single_ph[0], phe.HBAcceptorSphere)"
   ]
  },
  {
   "cell_type": "code",
   "execution_count": 9,
   "id": "20c576bf-8a56-48ed-8013-cc3e84f7ce30",
   "metadata": {},
   "outputs": [
    {
     "data": {
      "text/plain": [
       "LigandBasedPharmacophore(n_elements: 18)"
      ]
     },
     "execution_count": 9,
     "metadata": {},
     "output_type": "execute_result"
    }
   ],
   "source": [
    "# Create pharmacophore for elastase from class method\n",
    "lb_pharmacophore = LigandBasedPharmacophore().from_file(os.path.join(f_directory, files[0]), index=3)\n",
    "lb_pharmacophore"
   ]
  },
  {
   "cell_type": "markdown",
   "id": "5b6e147a-64bf-4557-b7d5-1f658e6615dc",
   "metadata": {},
   "source": [
    "## Saving pharmacophores to pharmagist mol2 file"
   ]
  },
  {
   "cell_type": "code",
   "execution_count": 10,
   "id": "3c744fe4-b2fb-4fcd-9e90-34eb9e26c40b",
   "metadata": {},
   "outputs": [
    {
     "data": {
      "text/plain": [
       "[LigandBasedPharmacophore(n_elements: 9),\n",
       " LigandBasedPharmacophore(n_elements: 10),\n",
       " LigandBasedPharmacophore(n_elements: 16),\n",
       " LigandBasedPharmacophore(n_elements: 11),\n",
       " LigandBasedPharmacophore(n_elements: 13),\n",
       " LigandBasedPharmacophore(n_elements: 13)]"
      ]
     },
     "execution_count": 10,
     "metadata": {},
     "output_type": "execute_result"
    }
   ],
   "source": [
    "#Streptadivin pharmacophores\n",
    "pharmacophores"
   ]
  },
  {
   "cell_type": "code",
   "execution_count": 16,
   "id": "23d22960-c85d-4bb4-ba12-3d5668b1720f",
   "metadata": {},
   "outputs": [],
   "source": [
    "f_path = \"../Data/pharmagist/Pharmacophore/saves/pharmacophore.mol2\"\n",
    "\n",
    "pharmagist_element_name = { # dictionary to map openphamracohpore feature names to pharmagist \n",
    "        \"aromatic ring\": \"AR\",\n",
    "        \"hydrophobicity\": \"HYD\",\n",
    "        \"hb acceptor\": \"ACC\",\n",
    "        \"hb donor\": \"DON\",\n",
    "        \"positive charge\": \"CAT\",\n",
    "        \"negative charge\": \"ANI\",\n",
    "        }\n",
    "\n",
    "pharmagist_element_specs = { \n",
    "        \"aromatic ring\": \"AR\",\n",
    "        \"hydrophobicity\": \"HYD\",\n",
    "        \"hb acceptor\": \"HB\",\n",
    "        \"hb donor\": \"HB\",\n",
    "        \"positive charge\": \"CHG\",\n",
    "        \"negative charge\": \"CHG\",\n",
    "}\n",
    "\n",
    "doc = [] # list to store all pharmacophores\n",
    "for pharmacophore in pharmacophores:\n",
    "    lines = [\"@<TRIPOS>MOLECULE\\n\", \"@<TRIPOS>ATOM\\n\"] # list to store all lines for a single pharmacophore\n",
    "    line = \"\"\n",
    "    for i, element in enumerate(pharmacophore.elements):\n",
    "        if i <10:\n",
    "            element_inx = \" \" + str(i)\n",
    "        else:\n",
    "            element_inx = str(i + 1)\n",
    "        line += \"\\t\" + element_inx + \" \"\n",
    "        line += pharmagist_element_name[element.feature_name] + \"\\t\"\n",
    "        # Get point coordinates\n",
    "        center = np.around(puw.get_value(element.center, to_unit=\"angstroms\"), 4)\n",
    "        # Add a space if positive\n",
    "        if center[0] > 0: \n",
    "            x = \" \" + str(center[0]) \n",
    "        else: \n",
    "            x = str(center[0])\n",
    "        if center[1] > 0: \n",
    "            y = \" \" + str(center[1]) \n",
    "        else: \n",
    "            y = str(center[1])\n",
    "        if center[2] > 0: \n",
    "            z = \" \" + str(center[2]) \n",
    "        else:\n",
    "            z = str(center[2])\n",
    "        line += x + \"\\t\" + y + \"\\t\" + z + \" \"\n",
    "        line += pharmagist_element_specs[element.feature_name] + \"\\t\"\n",
    "        line += str(i) + \"\\t\"\n",
    "        line += pharmagist_element_specs[element.feature_name] + \"\\t\" + \"0.0000\\n\"\n",
    "        lines.append(line)\n",
    "        line = \"\"\n",
    "\n",
    "    lines.append(\"@<TRIPOS>BOND\\n\")\n",
    "    for l in lines:\n",
    "        doc.append(l)\n",
    "    \n",
    "with open(f_path, \"w\") as f:\n",
    "    f.writelines(doc)\n"
   ]
  },
  {
   "cell_type": "code",
   "execution_count": 45,
   "id": "c515e04b-80bb-487b-955d-d59612f4eecb",
   "metadata": {},
   "outputs": [
    {
     "name": "stdout",
     "output_type": "stream",
     "text": [
      "      1 DON          0.9119   -6.0590    0.6348   HB     0   HB      0.0000\n",
      "\n",
      "      2 DON          1.0513   -6.2038    1.8705   HB     1   HB      0.0000\n",
      "\n",
      "      3 DON          4.2877   -2.0367   -1.1797   HB     2   HB      0.0000\n",
      "\n",
      "      4 ACC          0.7473   -5.1767    4.1427   HB     3   HB      0.0000\n",
      "\n",
      "      5 ACC         -0.5019   -6.1897    5.7275   HB     4   HB      0.0000\n",
      "\n",
      "      6 ACC          4.2877   -2.0367   -1.1797   HB     5   HB      0.0000\n",
      "\n",
      "      7 ANI          0.0029   -6.1459    4.5449   CHG    6   CHG     0.0000\n",
      "\n",
      "      8 AR          -0.5664   -8.3094    2.7476   AR     7   AR      0.0000\n",
      "\n",
      "      9 AR           2.5683   -3.9947   -0.2701   AR     8   AR      0.0000\n",
      "\n",
      "      1 DON          0.9119   -6.0590    0.6348   HB     0   HB      0.0000\n",
      "\n",
      "      2 DON          1.0513   -6.2038    1.8705   HB     1   HB      0.0000\n",
      "\n",
      "      3 DON          4.2877   -2.0367   -1.1797   HB     2   HB      0.0000\n",
      "\n",
      "      4 ACC          0.7473   -5.1767    4.1427   HB     3   HB      0.0000\n",
      "\n",
      "      5 ACC         -0.5019   -6.1897    5.7275   HB     4   HB      0.0000\n",
      "\n",
      "      6 ACC          4.2877   -2.0367   -1.1797   HB     5   HB      0.0000\n",
      "\n",
      "      7 ANI          0.0029   -6.1459    4.5449   CHG    6   CHG     0.0000\n",
      "\n",
      "      8 AR           0.8044   -2.3495    0.0883   AR     7   AR      0.0000\n",
      "\n",
      "      9 AR          -0.5664   -8.3094    2.7476   AR     8   AR      0.0000\n",
      "\n",
      "     10 AR           2.5683   -3.9947   -0.2701   AR     9   AR      0.0000\n",
      "\n",
      "      1 DON          0.9148   -6.0556    0.6332   HB     0   HB      0.0000\n",
      "\n",
      "      2 DON          1.0513   -6.2038    1.8705   HB     1   HB      0.0000\n",
      "\n",
      "      3 DON          4.1418   -1.9070   -1.1511   HB     2   HB      0.0000\n",
      "\n",
      "      4 ACC          0.7475   -5.1768    4.1430   HB     3   HB      0.0000\n",
      "\n",
      "      5 ACC         -0.5016   -6.1901    5.7276   HB     4   HB      0.0000\n",
      "\n",
      "      6 ACC          4.1418   -1.9070   -1.1511   HB     5   HB      0.0000\n",
      "\n",
      "      7 ANI          0.0031   -6.1461    4.5450   CHG    6   CHG     0.0000\n",
      "\n",
      "      8 AR          -0.5665   -8.3093    2.7474   AR     7   AR      0.0000\n",
      "\n",
      "      9 AR           2.5349   -3.9686   -0.2625   AR     8   AR      0.0000\n",
      "\n",
      "     10 HYD          1.7672   -1.9860   -0.3057   HYD    9   HYD     0.0000\n",
      "\n",
      "     11 HYD          1.1507   -1.1363   -1.0016   HYD   10   HYD     0.0000\n",
      "\n",
      "     12 HYD          2.0558   -0.7636   -0.2105   HYD   11   HYD     0.0000\n",
      "\n",
      "     13 HYD          0.9528   -1.1356    0.2257   HYD   12   HYD     0.0000\n",
      "\n",
      "     14 HYD          0.8171   -1.0013   -1.6846   HYD   13   HYD     0.0000\n",
      "\n",
      "     15 HYD          2.6274   -0.2559   -0.1024   HYD   14   HYD     0.0000\n",
      "\n",
      "     16 HYD          0.4212   -0.9999    0.7700   HYD   15   HYD     0.0000\n",
      "\n",
      "      1 DON          0.9078   -6.0638    0.6350   HB     0   HB      0.0000\n",
      "\n",
      "      2 DON          1.0514   -6.2039    1.8710   HB     1   HB      0.0000\n",
      "\n",
      "      3 DON          4.1229   -1.9210   -1.1840   HB     2   HB      0.0000\n",
      "\n",
      "      4 ACC          0.7473   -5.1767    4.1427   HB     3   HB      0.0000\n",
      "\n",
      "      5 ACC         -0.5019   -6.1897    5.7275   HB     4   HB      0.0000\n",
      "\n",
      "      6 ACC          4.1229   -1.9210   -1.1840   HB     5   HB      0.0000\n",
      "\n",
      "      7 ANI          0.0029   -6.1459    4.5450   CHG    6   CHG     0.0000\n",
      "\n",
      "      8 AR          -0.5629   -8.3076    2.7566   AR     7   AR      0.0000\n",
      "\n",
      "      9 AR           2.5198   -3.9720   -0.2787   AR     8   AR      0.0000\n",
      "\n",
      "     10 HYD          1.7439   -1.9774   -0.3281   HYD    9   HYD     0.0000\n",
      "\n",
      "     11 HYD          1.4685   -1.2837   -0.3428   HYD   10   HYD     0.0000\n",
      "\n",
      "      1 DON          1.0470   -6.2090    1.8713   HB     0   HB      0.0000\n",
      "\n",
      "      2 DON          0.9119   -6.0590    0.6350   HB     1   HB      0.0000\n",
      "\n",
      "      3 DON          4.1335   -1.8941   -1.1247   HB     2   HB      0.0000\n",
      "\n",
      "      4 ACC          0.7448   -5.1831    4.1448   HB     3   HB      0.0000\n",
      "\n",
      "      5 ACC         -0.5064   -6.1978    5.7270   HB     4   HB      0.0000\n",
      "\n",
      "      6 ACC          4.1335   -1.8941   -1.1247   HB     5   HB      0.0000\n",
      "\n",
      "      7 ACC          1.5369   -1.3929   -0.3009   HB     6   HB      0.0000\n",
      "\n",
      "      8 ACC          5.1146   -4.4837   -1.0665   HB     7   HB      0.0000\n",
      "\n",
      "      9 ANI         -0.0006   -6.1523    4.5449   CHG    8   CHG     0.0000\n",
      "\n",
      "     10 AR          -0.5698   -8.3120    2.7434   AR     9   AR      0.0000\n",
      "\n",
      "     11 AR           2.5336   -3.9626   -0.2506   AR    10   AR      0.0000\n",
      "\n",
      "     12 HYD          0.1917   -1.2174    0.1390   HYD   11   HYD     0.0000\n",
      "\n",
      "     13 HYD          6.1336   -4.4262   -0.0703   HYD   12   HYD     0.0000\n",
      "\n",
      "      1 DON          1.0491   -6.2065    1.8708   HB     0   HB      0.0000\n",
      "\n",
      "      2 DON          0.9119   -6.0590    0.6351   HB     1   HB      0.0000\n",
      "\n",
      "      3 DON          4.1339   -1.8943   -1.1257   HB     2   HB      0.0000\n",
      "\n",
      "      4 ACC          0.7473   -5.1767    4.1427   HB     3   HB      0.0000\n",
      "\n",
      "      5 ACC         -0.5019   -6.1896    5.7275   HB     4   HB      0.0000\n",
      "\n",
      "      6 ACC          4.1339   -1.8943   -1.1257   HB     5   HB      0.0000\n",
      "\n",
      "      7 ANI          0.0029   -6.1459    4.5449   CHG    6   CHG     0.0000\n",
      "\n",
      "      8 AR          -0.5697   -8.3121    2.7435   AR     7   AR      0.0000\n",
      "\n",
      "      9 AR           2.5337   -3.9626   -0.2509   AR     8   AR      0.0000\n",
      "\n",
      "     10 HYD          4.5380   -4.3674   -0.8854   HYD    9   HYD     0.0000\n",
      "\n",
      "     11 HYD          1.7605   -1.9665   -0.2894   HYD   10   HYD     0.0000\n",
      "\n",
      "     12 HYD          5.2359   -4.5148   -1.1061   HYD   11   HYD     0.0000\n",
      "\n",
      "     13 HYD          1.4854   -1.2724   -0.3002   HYD   12   HYD     0.0000\n",
      "\n"
     ]
    }
   ],
   "source": [
    "# Same function but justifying text\n",
    "\n",
    "f_path = \"../Data/pharmagist/Pharmacophore/saves/pharmacophore.mol2\"\n",
    "\n",
    "pharmagist_element_name = { # dictionary to map openphamracohpore feature names to pharmagist \n",
    "        \"aromatic ring\": \"AR \",\n",
    "        \"hydrophobicity\": \"HYD\",\n",
    "        \"hb acceptor\": \"ACC\",\n",
    "        \"hb donor\": \"DON\",\n",
    "        \"positive charge\": \"CAT\",\n",
    "        \"negative charge\": \"ANI\",\n",
    "        }\n",
    "\n",
    "pharmagist_element_specs = { \n",
    "        \"aromatic ring\": \"AR \",\n",
    "        \"hydrophobicity\": \"HYD\",\n",
    "        \"hb acceptor\": \"HB \",\n",
    "        \"hb donor\": \"HB \",\n",
    "        \"positive charge\": \"CHG\",\n",
    "        \"negative charge\": \"CHG\",\n",
    "}\n",
    "\n",
    "doc = [] # list to store all pharmacophores\n",
    "for pharmacophore in pharmacophores:\n",
    "    lines = [\"@<TRIPOS>MOLECULE\\n\", \"@<TRIPOS>ATOM\\n\"] # list to store all lines for a single pharmacophore\n",
    "    line = \"\"\n",
    "    for i, element in enumerate(pharmacophore.elements):\n",
    "        element_inx = str(i + 1)\n",
    "        line += element_inx.rjust(7)\n",
    "        feat_name = pharmagist_element_name[element.feature_name]\n",
    "        line += \" \" + feat_name\n",
    "        # Get point coordinates\n",
    "        center = np.around(puw.get_value(element.center, to_unit=\"angstroms\"), 4)\n",
    "        # Pad coordinates with zeros to the right. Number of zeros depends on sign\n",
    "        if center[0] < 0:\n",
    "            x = str(center[0]).ljust(7,\"0\").rjust(16)\n",
    "        else:\n",
    "            x = str(center[0]).ljust(6,\"0\").rjust(16)\n",
    "        if center[1] < 0:\n",
    "            y = str(center[1]).ljust(7,\"0\").rjust(10)\n",
    "        else:\n",
    "            y = str(center[1]).ljust(6,\"0\").rjust(10)\n",
    "        if center[2] < 0:\n",
    "            z = str(center[2]).ljust(7,\"0\").rjust(10)\n",
    "        else:\n",
    "            z = str(center[2]).ljust(6,\"0\").rjust(10)\n",
    "        line += x + y + z + \" \"\n",
    "        line += pharmagist_element_specs[element.feature_name].rjust(5)\n",
    "        line += str(i).rjust(5)\n",
    "        line += pharmagist_element_specs[element.feature_name].rjust(6)\n",
    "        line += \"0.0000\\n\".rjust(12)\n",
    "        print(line)\n",
    "        lines.append(line)\n",
    "        line = \"\"\n",
    "\n",
    "    lines.append(\"@<TRIPOS>BOND\\n\")\n",
    "    for l in lines:\n",
    "        doc.append(l)\n",
    "    \n",
    "with open(f_path, \"w\") as f:\n",
    "    f.writelines(doc)\n"
   ]
  }
 ],
 "metadata": {
  "kernelspec": {
   "display_name": "Python 3",
   "language": "python",
   "name": "python3"
  },
  "language_info": {
   "codemirror_mode": {
    "name": "ipython",
    "version": 3
   },
   "file_extension": ".py",
   "mimetype": "text/x-python",
   "name": "python",
   "nbconvert_exporter": "python",
   "pygments_lexer": "ipython3",
   "version": "3.7.10"
  }
 },
 "nbformat": 4,
 "nbformat_minor": 5
}
