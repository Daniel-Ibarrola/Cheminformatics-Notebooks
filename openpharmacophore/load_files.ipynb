{
 "cells": [
  {
   "cell_type": "markdown",
   "id": "2c1c61fc-8b58-44e4-bc33-b89940f9b183",
   "metadata": {},
   "source": [
    "# Loading and saving pharmacophores from different file formats"
   ]
  },
  {
   "cell_type": "code",
   "execution_count": 1,
   "id": "49cde708-26ff-49ce-a5b2-fed2a4eb942d",
   "metadata": {},
   "outputs": [
    {
     "data": {
      "application/vnd.jupyter.widget-view+json": {
       "model_id": "7108fb377c5247389484fd5abb67d70e",
       "version_major": 2,
       "version_minor": 0
      },
      "text/plain": []
     },
     "metadata": {},
     "output_type": "display_data"
    }
   ],
   "source": [
    "%load_ext autoreload\n",
    "%autoreload 2\n",
    "from openpharmacophore import Pharmacophore\n",
    "from openpharmacophore.structured_based import StructuredBasedPharmacophore\n",
    "from openpharmacophore.io import from_pharmer, to_pharmer \n",
    "import numpy as np\n",
    "import pyunitwizard as puw\n",
    "import molsysmt as msm"
   ]
  },
  {
   "cell_type": "markdown",
   "id": "1bbaad75-0e52-4270-987f-f688dfaef6ef",
   "metadata": {},
   "source": [
    "## Working with pharmer files\n",
    "### Load a pharmacophore from pharmer"
   ]
  },
  {
   "cell_type": "code",
   "execution_count": 12,
   "id": "b891344f-cea4-41dc-b520-99be47d1842c",
   "metadata": {},
   "outputs": [
    {
     "data": {
      "text/plain": [
       "19"
      ]
     },
     "execution_count": 12,
     "metadata": {},
     "output_type": "execute_result"
    }
   ],
   "source": [
    "# Create a pharmacophore from a pharmer file \n",
    "pharmacophore_1 = from_pharmer('./data/pharmer/pharmer.json', load_mol_sys=False)\n",
    "pharmacophore_1.n_elements"
   ]
  },
  {
   "cell_type": "code",
   "execution_count": 4,
   "id": "eb2a31a9-a57a-41cd-8b3a-d77b2d96a2e7",
   "metadata": {},
   "outputs": [
    {
     "name": "stdout",
     "output_type": "stream",
     "text": [
      "Center: [3.7939 0.4676999999999999 12.3647] nanometer\n",
      "Radius: 0.11 nanometer\n",
      "Direction: [-0.60808166 -0.77830903 -0.15643447]\n",
      "Shape: sphere and vector\n",
      "Feature name: aromatic ring\n"
     ]
    }
   ],
   "source": [
    "# Inspect an element from the pharmacophore\n",
    "ring = pharmacophore_1.elements[0]\n",
    "print(f\"Center: {ring.center}\")\n",
    "print(f\"Radius: {ring.radius}\")\n",
    "print(f\"Direction: {ring.direction}\")\n",
    "print(f\"Shape: {ring.shape_name}\")\n",
    "print(f\"Feature name: {ring.feature_name}\")"
   ]
  },
  {
   "cell_type": "code",
   "execution_count": 7,
   "id": "052f48c6-e9e8-41b1-acc9-ca88675414f8",
   "metadata": {},
   "outputs": [
    {
     "name": "stdout",
     "output_type": "stream",
     "text": [
      "No molecular system in this pharmacophore\n"
     ]
    }
   ],
   "source": [
    "if pharmacophore_1.molecular_system is not None:\n",
    "    molecular_system = pharmacophore_1.molecular_system\n",
    "    msm.info(molecular_system)\n",
    "else: \n",
    "    print(\"No molecular system in this pharmacophore\")"
   ]
  },
  {
   "cell_type": "code",
   "execution_count": null,
   "id": "384895bb-4d5a-455a-a273-f98989456208",
   "metadata": {},
   "outputs": [],
   "source": [
    "# pharmacophore_1.show()\n",
    "# show() method is not working"
   ]
  },
  {
   "cell_type": "markdown",
   "id": "0e0af054-660e-4cfc-9e2b-5ccf8a968851",
   "metadata": {},
   "source": [
    "### Save a pharmacophore as a pharmer file"
   ]
  },
  {
   "cell_type": "code",
   "execution_count": 14,
   "id": "d503b754-b233-4eb5-b5dc-4257b5be0d79",
   "metadata": {},
   "outputs": [],
   "source": [
    "# Save the pharmacophore as a json file for use in pharmer\n",
    "pharmacophore_1.to_pharmer(file_name=\"./data/pharmer/test_1.json\")"
   ]
  },
  {
   "cell_type": "markdown",
   "id": "ac9109ad-cc11-4228-96ff-99524aaed881",
   "metadata": {},
   "source": [
    "### Try with another file"
   ]
  },
  {
   "cell_type": "code",
   "execution_count": 11,
   "id": "99032eec-d14f-4300-851f-aa9d3c065930",
   "metadata": {},
   "outputs": [
    {
     "data": {
      "text/plain": [
       "3"
      ]
     },
     "execution_count": 11,
     "metadata": {},
     "output_type": "execute_result"
    }
   ],
   "source": [
    "pharmacophore_2 = from_pharmer('./data/pharmer/small.json')\n",
    "pharmacophore_2.n_elements"
   ]
  },
  {
   "cell_type": "code",
   "execution_count": 13,
   "id": "43e844c3-1532-4a6a-a12f-25a2b564c8d2",
   "metadata": {},
   "outputs": [],
   "source": [
    "pharmacophore_2.to_pharmer(file_name=\"./data/pharmer/test_2.json\")"
   ]
  }
 ],
 "metadata": {
  "kernelspec": {
   "display_name": "Python 3",
   "language": "python",
   "name": "python3"
  },
  "language_info": {
   "codemirror_mode": {
    "name": "ipython",
    "version": 3
   },
   "file_extension": ".py",
   "mimetype": "text/x-python",
   "name": "python",
   "nbconvert_exporter": "python",
   "pygments_lexer": "ipython3",
   "version": "3.7.10"
  }
 },
 "nbformat": 4,
 "nbformat_minor": 5
}
