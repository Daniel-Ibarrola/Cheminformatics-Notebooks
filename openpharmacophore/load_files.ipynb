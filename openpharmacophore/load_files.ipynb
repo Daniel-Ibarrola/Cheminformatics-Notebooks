{
 "cells": [
  {
   "cell_type": "markdown",
   "id": "2c1c61fc-8b58-44e4-bc33-b89940f9b183",
   "metadata": {},
   "source": [
    "# Loading and saving pharmacophores from different file formats"
   ]
  },
  {
   "cell_type": "code",
   "execution_count": 1,
   "id": "49cde708-26ff-49ce-a5b2-fed2a4eb942d",
   "metadata": {},
   "outputs": [
    {
     "data": {
      "application/vnd.jupyter.widget-view+json": {
       "model_id": "35aee3fca3c54e7b92fc16171705b822",
       "version_major": 2,
       "version_minor": 0
      },
      "text/plain": []
     },
     "metadata": {},
     "output_type": "display_data"
    }
   ],
   "source": [
    "%load_ext autoreload\n",
    "%autoreload 2\n",
    "import openpharmacophore as oph\n",
    "import numpy as np\n",
    "import pyunitwizard as puw\n",
    "import molsysmt as msm"
   ]
  },
  {
   "cell_type": "markdown",
   "id": "1bbaad75-0e52-4270-987f-f688dfaef6ef",
   "metadata": {},
   "source": [
    "## Working with pharmer files\n",
    "### Load a pharmacophore from pharmer"
   ]
  },
  {
   "cell_type": "code",
   "execution_count": 9,
   "id": "b891344f-cea4-41dc-b520-99be47d1842c",
   "metadata": {},
   "outputs": [],
   "source": [
    "# Create a pharmacophore from a pharmer file \n",
    "pharmacophore_1 = oph.Pharmacophore('./data/pharmer/pharmer.json', form='pharmer', load_mol_sys=True)"
   ]
  },
  {
   "cell_type": "code",
   "execution_count": 10,
   "id": "a3e2fe66-f511-4823-b567-faefddbebbce",
   "metadata": {},
   "outputs": [
    {
     "data": {
      "text/plain": [
       "19"
      ]
     },
     "execution_count": 10,
     "metadata": {},
     "output_type": "execute_result"
    }
   ],
   "source": [
    "pharmacophore_1.n_elements"
   ]
  },
  {
   "cell_type": "code",
   "execution_count": 11,
   "id": "eb2a31a9-a57a-41cd-8b3a-d77b2d96a2e7",
   "metadata": {},
   "outputs": [
    {
     "name": "stdout",
     "output_type": "stream",
     "text": [
      "Center: [3.7939 0.4676999999999999 12.3647] nanometer\n",
      "Radius: 0.11 nanometer\n",
      "Direction: [-0.60808166 -0.77830903 -0.15643447]\n",
      "Shape: sphere and vector\n",
      "Feature name: aromatic ring\n"
     ]
    }
   ],
   "source": [
    "# Inspect an element from the pharmacophore\n",
    "ring = pharmacophore_1.elements[0]\n",
    "print(f\"Center: {ring.center}\")\n",
    "print(f\"Radius: {ring.radius}\")\n",
    "print(f\"Direction: {ring.direction}\")\n",
    "print(f\"Shape: {ring.shape_name}\")\n",
    "print(f\"Feature name: {ring.feature_name}\")"
   ]
  },
  {
   "cell_type": "code",
   "execution_count": 12,
   "id": "052f48c6-e9e8-41b1-acc9-ca88675414f8",
   "metadata": {},
   "outputs": [
    {
     "data": {
      "text/html": [
       "<style  type=\"text/css\" >\n",
       "</style><table id=\"T_76e5d_\" ><thead>    <tr>        <th class=\"col_heading level0 col0\" >form</th>        <th class=\"col_heading level0 col1\" >n_atoms</th>        <th class=\"col_heading level0 col2\" >n_groups</th>        <th class=\"col_heading level0 col3\" >n_components</th>        <th class=\"col_heading level0 col4\" >n_chains</th>        <th class=\"col_heading level0 col5\" >n_molecules</th>        <th class=\"col_heading level0 col6\" >n_entities</th>        <th class=\"col_heading level0 col7\" >n_peptides</th>        <th class=\"col_heading level0 col8\" >n_proteins</th>        <th class=\"col_heading level0 col9\" >n_frames</th>    </tr></thead><tbody>\n",
       "                <tr>\n",
       "                                <td id=\"T_76e5d_row0_col0\" class=\"data row0 col0\" >molsysmt.MolSys</td>\n",
       "                        <td id=\"T_76e5d_row0_col1\" class=\"data row0 col1\" >6337</td>\n",
       "                        <td id=\"T_76e5d_row0_col2\" class=\"data row0 col2\" >805</td>\n",
       "                        <td id=\"T_76e5d_row0_col3\" class=\"data row0 col3\" >4</td>\n",
       "                        <td id=\"T_76e5d_row0_col4\" class=\"data row0 col4\" >5</td>\n",
       "                        <td id=\"T_76e5d_row0_col5\" class=\"data row0 col5\" >4</td>\n",
       "                        <td id=\"T_76e5d_row0_col6\" class=\"data row0 col6\" >4</td>\n",
       "                        <td id=\"T_76e5d_row0_col7\" class=\"data row0 col7\" >1</td>\n",
       "                        <td id=\"T_76e5d_row0_col8\" class=\"data row0 col8\" >3</td>\n",
       "                        <td id=\"T_76e5d_row0_col9\" class=\"data row0 col9\" >1</td>\n",
       "            </tr>\n",
       "    </tbody></table>"
      ],
      "text/plain": [
       "<pandas.io.formats.style.Styler at 0x7f8b9c476b90>"
      ]
     },
     "execution_count": 12,
     "metadata": {},
     "output_type": "execute_result"
    }
   ],
   "source": [
    "molecular_system = pharmacophore_1.molecular_system\n",
    "msm.info(molecular_system)"
   ]
  },
  {
   "cell_type": "code",
   "execution_count": null,
   "id": "384895bb-4d5a-455a-a273-f98989456208",
   "metadata": {},
   "outputs": [],
   "source": [
    "pharmacophore_1.show()"
   ]
  },
  {
   "cell_type": "markdown",
   "id": "0e0af054-660e-4cfc-9e2b-5ccf8a968851",
   "metadata": {},
   "source": [
    "### Save a pharmacophore as a pharmer file"
   ]
  },
  {
   "cell_type": "code",
   "execution_count": 6,
   "id": "d503b754-b233-4eb5-b5dc-4257b5be0d79",
   "metadata": {},
   "outputs": [],
   "source": [
    "# Save the pharmacophore as a json file for use in pharmer\n",
    "pharmacophore_1.to_pharmer(file_name=\"./data/pharmer/test_1.json\")"
   ]
  },
  {
   "cell_type": "code",
   "execution_count": 20,
   "id": "99032eec-d14f-4300-851f-aa9d3c065930",
   "metadata": {},
   "outputs": [
    {
     "data": {
      "text/plain": [
       "[<openpharmacophore.pharmacophoric_elements.positive_charge.PositiveChargeSphere at 0x7fba52059d50>,\n",
       " <openpharmacophore.pharmacophoric_elements.excluded_volume.ExcludedVolumeSphere at 0x7fba52059e10>,\n",
       " <openpharmacophore.pharmacophoric_elements.hb_acceptor.HBAcceptorSphereAndVector at 0x7fba520598d0>]"
      ]
     },
     "execution_count": 20,
     "metadata": {},
     "output_type": "execute_result"
    }
   ],
   "source": [
    "pharmacophore_2 = oph.Pharmacophore('./data/pharmer/small.json', form=\"pharmer\")\n",
    "pharmacophore_2.elements"
   ]
  },
  {
   "cell_type": "code",
   "execution_count": 8,
   "id": "43e844c3-1532-4a6a-a12f-25a2b564c8d2",
   "metadata": {},
   "outputs": [],
   "source": [
    "pharmacophore_2.to_pharmer(file_name=\"./data/pharmer/test_2.json\")"
   ]
  }
 ],
 "metadata": {
  "kernelspec": {
   "display_name": "Python 3",
   "language": "python",
   "name": "python3"
  },
  "language_info": {
   "codemirror_mode": {
    "name": "ipython",
    "version": 3
   },
   "file_extension": ".py",
   "mimetype": "text/x-python",
   "name": "python",
   "nbconvert_exporter": "python",
   "pygments_lexer": "ipython3",
   "version": "3.7.10"
  }
 },
 "nbformat": 4,
 "nbformat_minor": 5
}
