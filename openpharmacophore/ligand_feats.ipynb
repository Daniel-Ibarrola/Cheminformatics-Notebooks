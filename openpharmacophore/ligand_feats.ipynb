{
 "cells": [
  {
   "cell_type": "code",
   "execution_count": 1,
   "id": "abf1a4cf-db7b-4ec6-b86a-c8fbd35e44ca",
   "metadata": {},
   "outputs": [
    {
     "data": {
      "application/vnd.jupyter.widget-view+json": {
       "model_id": "b49efaf2de8d42beacf5c23a40cd7430",
       "version_major": 2,
       "version_minor": 0
      },
      "text/plain": []
     },
     "metadata": {},
     "output_type": "display_data"
    }
   ],
   "source": [
    "%load_ext autoreload\n",
    "%autoreload 2\n",
    "from openpharmacophore.utils.ligand_features import ligands_pharmacophoric_points\n",
    "from openpharmacophore.utils.conformers import generate_conformers\n",
    "from rdkit import Chem, RDConfig\n",
    "from rdkit import RDLogger \n",
    "import os\n",
    "RDLogger.DisableLog('rdApp.*')"
   ]
  },
  {
   "cell_type": "code",
   "execution_count": 2,
   "id": "99975f37-96b0-461a-9ac0-c3ccc713d4d7",
   "metadata": {},
   "outputs": [
    {
     "name": "stdout",
     "output_type": "stream",
     "text": [
      "5 molecules\n"
     ]
    }
   ],
   "source": [
    "molecules = Chem.SmilesMolSupplier('../data/molecules.smi',delimiter='\\t',titleLine=False)\n",
    "print(f\"{len(molecules)} molecules\")"
   ]
  },
  {
   "cell_type": "code",
   "execution_count": 3,
   "id": "aa2fdcad-f4ac-4d67-9252-06aff134b91b",
   "metadata": {},
   "outputs": [],
   "source": [
    "molecules = [generate_conformers(mol, 1, random_seed=1) for mol in molecules]"
   ]
  },
  {
   "cell_type": "code",
   "execution_count": 8,
   "id": "56965df4-787d-43e9-a8f7-eb78518fb7b0",
   "metadata": {},
   "outputs": [
    {
     "name": "stdout",
     "output_type": "stream",
     "text": [
      "ligand_0 has 31 features\n",
      "ligand_1 has 29 features\n",
      "ligand_2 has 30 features\n",
      "ligand_3 has 29 features\n",
      "ligand_4 has 28 features\n"
     ]
    }
   ],
   "source": [
    "features = ligands_pharmacophoric_points(molecules, radius=1)\n",
    "for ligand, conformers in features.items():\n",
    "    for conformer, f in conformers.items():\n",
    "        print(f\"{ligand} has {len(f)} features\")"
   ]
  },
  {
   "cell_type": "code",
   "execution_count": 14,
   "id": "ff5fda51-b9fe-475f-b82f-680e8303af11",
   "metadata": {},
   "outputs": [
    {
     "ename": "PointTypeError",
     "evalue": "Invalid point type. \"ball\" is not a valid point type",
     "output_type": "error",
     "traceback": [
      "\u001b[0;31m---------------------------------------------------------------------------\u001b[0m",
      "\u001b[0;31mPointTypeError\u001b[0m                            Traceback (most recent call last)",
      "\u001b[0;32m<ipython-input-14-0e3a03082d1a>\u001b[0m in \u001b[0;36m<module>\u001b[0;34m\u001b[0m\n\u001b[1;32m      1\u001b[0m \u001b[0mmolecules_no_conformers\u001b[0m \u001b[0;34m=\u001b[0m \u001b[0mChem\u001b[0m\u001b[0;34m.\u001b[0m\u001b[0mSmilesMolSupplier\u001b[0m\u001b[0;34m(\u001b[0m\u001b[0;34m'../data/molecules.smi'\u001b[0m\u001b[0;34m,\u001b[0m\u001b[0mdelimiter\u001b[0m\u001b[0;34m=\u001b[0m\u001b[0;34m'\\t'\u001b[0m\u001b[0;34m,\u001b[0m\u001b[0mtitleLine\u001b[0m\u001b[0;34m=\u001b[0m\u001b[0;32mFalse\u001b[0m\u001b[0;34m)\u001b[0m\u001b[0;34m\u001b[0m\u001b[0;34m\u001b[0m\u001b[0m\n\u001b[0;32m----> 2\u001b[0;31m \u001b[0mfeatures\u001b[0m \u001b[0;34m=\u001b[0m \u001b[0mligands_pharmacophoric_points\u001b[0m\u001b[0;34m(\u001b[0m\u001b[0mmolecules_no_conformers\u001b[0m\u001b[0;34m,\u001b[0m \u001b[0mradius\u001b[0m\u001b[0;34m=\u001b[0m\u001b[0;36m1\u001b[0m\u001b[0;34m,\u001b[0m \u001b[0mpoint_type\u001b[0m\u001b[0;34m=\u001b[0m\u001b[0;34m\"ball\"\u001b[0m\u001b[0;34m)\u001b[0m\u001b[0;34m\u001b[0m\u001b[0;34m\u001b[0m\u001b[0m\n\u001b[0m",
      "\u001b[0;32m~/Documents/Libraries/OpenPharmacophore/openpharmacophore/utils/ligand_features.py\u001b[0m in \u001b[0;36mligands_pharmacophoric_points\u001b[0;34m(ligands, feat_list, feat_def, point_type, radius)\u001b[0m\n\u001b[1;32m     17\u001b[0m     \u001b[0mpoint_type_list\u001b[0m \u001b[0;34m=\u001b[0m \u001b[0;34m[\u001b[0m\u001b[0;34m\"spheres\"\u001b[0m\u001b[0;34m,\u001b[0m \u001b[0;34m\"spheres_vectors\"\u001b[0m\u001b[0;34m,\u001b[0m \u001b[0;34m\"gaussian\"\u001b[0m\u001b[0;34m,\u001b[0m \u001b[0;34m\"shapelet\"\u001b[0m\u001b[0;34m]\u001b[0m\u001b[0;34m\u001b[0m\u001b[0;34m\u001b[0m\u001b[0m\n\u001b[1;32m     18\u001b[0m     \u001b[0;32mif\u001b[0m \u001b[0mpoint_type\u001b[0m \u001b[0;32mnot\u001b[0m \u001b[0;32min\u001b[0m \u001b[0mpoint_type_list\u001b[0m\u001b[0;34m:\u001b[0m\u001b[0;34m\u001b[0m\u001b[0;34m\u001b[0m\u001b[0m\n\u001b[0;32m---> 19\u001b[0;31m         \u001b[0;32mraise\u001b[0m \u001b[0mPointTypeError\u001b[0m\u001b[0;34m(\u001b[0m\u001b[0mpoint_type\u001b[0m\u001b[0;34m)\u001b[0m\u001b[0;34m\u001b[0m\u001b[0;34m\u001b[0m\u001b[0m\n\u001b[0m\u001b[1;32m     20\u001b[0m \u001b[0;34m\u001b[0m\u001b[0m\n\u001b[1;32m     21\u001b[0m     \u001b[0;32mif\u001b[0m \u001b[0;34m(\u001b[0m\u001b[0mpoint_type\u001b[0m \u001b[0;34m==\u001b[0m \u001b[0;34m\"spheres\"\u001b[0m \u001b[0;32mor\u001b[0m \u001b[0mpoint_type\u001b[0m \u001b[0;34m==\u001b[0m \u001b[0;34m\"spheres_vectors\"\u001b[0m\u001b[0;34m)\u001b[0m \u001b[0;32mand\u001b[0m \u001b[0mradius\u001b[0m \u001b[0;32mis\u001b[0m \u001b[0;32mNone\u001b[0m\u001b[0;34m:\u001b[0m\u001b[0;34m\u001b[0m\u001b[0;34m\u001b[0m\u001b[0m\n",
      "\u001b[0;31mPointTypeError\u001b[0m: Invalid point type. \"ball\" is not a valid point type"
     ]
    }
   ],
   "source": [
    "molecules_no_conformers = Chem.SmilesMolSupplier('../data/molecules.smi',delimiter='\\t',titleLine=False)\n",
    "features = ligands_pharmacophoric_points(molecules_no_conformers, radius=1, point_type=\"ball\")"
   ]
  },
  {
   "cell_type": "code",
   "execution_count": 40,
   "id": "74b4a360-8820-44fa-b941-8ca8013e4042",
   "metadata": {},
   "outputs": [
    {
     "name": "stdout",
     "output_type": "stream",
     "text": [
      "Molecule 0 has 34 features\n",
      "\n",
      "Donor, atoms: (11,)\n",
      "Donor, atoms: (25,)\n",
      "Donor, atoms: (27,)\n",
      "Donor, atoms: (28,)\n",
      "Acceptor, atoms: (5,)\n",
      "Acceptor, atoms: (10,)\n",
      "Acceptor, atoms: (11,)\n",
      "Acceptor, atoms: (25,)\n",
      "Acceptor, atoms: (26,)\n",
      "Acceptor, atoms: (27,)\n",
      "NegIonizable, atoms: (9, 10, 11)\n",
      "PosIonizable, atoms: (6, 5, 4, 12, 8)\n",
      "Aromatic, atoms: (4, 5, 6, 8, 12)\n",
      "Aromatic, atoms: (24, 25, 26, 27, 28)\n",
      "Aromatic, atoms: (14, 15, 16, 17, 29, 30)\n",
      "Aromatic, atoms: (18, 19, 20, 21, 22, 23)\n",
      "Hydrophobe, atoms: (0,)\n",
      "Hydrophobe, atoms: (1,)\n",
      "Hydrophobe, atoms: (2,)\n",
      "Hydrophobe, atoms: (3,)\n",
      "Hydrophobe, atoms: (14,)\n",
      "Hydrophobe, atoms: (15,)\n",
      "Hydrophobe, atoms: (16,)\n",
      "Hydrophobe, atoms: (17,)\n",
      "Hydrophobe, atoms: (18,)\n",
      "Hydrophobe, atoms: (19,)\n",
      "Hydrophobe, atoms: (20,)\n",
      "Hydrophobe, atoms: (21,)\n",
      "Hydrophobe, atoms: (22,)\n",
      "Hydrophobe, atoms: (23,)\n",
      "Hydrophobe, atoms: (29,)\n",
      "Hydrophobe, atoms: (30,)\n",
      "LumpedHydrophobe, atoms: (14, 15, 16, 17, 29, 30)\n",
      "LumpedHydrophobe, atoms: (18, 19, 20, 21, 22, 23)\n",
      "-------------------------------------------\n",
      "Molecule 1 has 32 features\n",
      "\n",
      "Donor, atoms: (10,)\n",
      "Donor, atoms: (24,)\n",
      "Donor, atoms: (26,)\n",
      "Donor, atoms: (27,)\n",
      "Acceptor, atoms: (5,)\n",
      "Acceptor, atoms: (10,)\n",
      "Acceptor, atoms: (24,)\n",
      "Acceptor, atoms: (25,)\n",
      "Acceptor, atoms: (26,)\n",
      "PosIonizable, atoms: (6, 5, 4, 11, 8)\n",
      "Aromatic, atoms: (4, 5, 6, 8, 11)\n",
      "Aromatic, atoms: (23, 24, 25, 26, 27)\n",
      "Aromatic, atoms: (13, 14, 15, 16, 28, 29)\n",
      "Aromatic, atoms: (17, 18, 19, 20, 21, 22)\n",
      "Hydrophobe, atoms: (0,)\n",
      "Hydrophobe, atoms: (1,)\n",
      "Hydrophobe, atoms: (2,)\n",
      "Hydrophobe, atoms: (3,)\n",
      "Hydrophobe, atoms: (13,)\n",
      "Hydrophobe, atoms: (14,)\n",
      "Hydrophobe, atoms: (15,)\n",
      "Hydrophobe, atoms: (16,)\n",
      "Hydrophobe, atoms: (17,)\n",
      "Hydrophobe, atoms: (18,)\n",
      "Hydrophobe, atoms: (19,)\n",
      "Hydrophobe, atoms: (20,)\n",
      "Hydrophobe, atoms: (21,)\n",
      "Hydrophobe, atoms: (22,)\n",
      "Hydrophobe, atoms: (28,)\n",
      "Hydrophobe, atoms: (29,)\n",
      "LumpedHydrophobe, atoms: (13, 14, 15, 16, 28, 29)\n",
      "LumpedHydrophobe, atoms: (17, 18, 19, 20, 21, 22)\n",
      "-------------------------------------------\n",
      "Molecule 2 has 33 features\n",
      "\n",
      "Donor, atoms: (10,)\n",
      "Donor, atoms: (24,)\n",
      "Donor, atoms: (26,)\n",
      "Donor, atoms: (27,)\n",
      "Acceptor, atoms: (5,)\n",
      "Acceptor, atoms: (10,)\n",
      "Acceptor, atoms: (24,)\n",
      "Acceptor, atoms: (25,)\n",
      "Acceptor, atoms: (26,)\n",
      "PosIonizable, atoms: (6, 5, 4, 11, 8)\n",
      "Aromatic, atoms: (4, 5, 6, 8, 11)\n",
      "Aromatic, atoms: (23, 24, 25, 26, 27)\n",
      "Aromatic, atoms: (13, 14, 15, 16, 28, 29)\n",
      "Aromatic, atoms: (17, 18, 19, 20, 21, 22)\n",
      "Hydrophobe, atoms: (0,)\n",
      "Hydrophobe, atoms: (1,)\n",
      "Hydrophobe, atoms: (2,)\n",
      "Hydrophobe, atoms: (3,)\n",
      "Hydrophobe, atoms: (7,)\n",
      "Hydrophobe, atoms: (13,)\n",
      "Hydrophobe, atoms: (14,)\n",
      "Hydrophobe, atoms: (15,)\n",
      "Hydrophobe, atoms: (16,)\n",
      "Hydrophobe, atoms: (17,)\n",
      "Hydrophobe, atoms: (18,)\n",
      "Hydrophobe, atoms: (19,)\n",
      "Hydrophobe, atoms: (20,)\n",
      "Hydrophobe, atoms: (21,)\n",
      "Hydrophobe, atoms: (22,)\n",
      "Hydrophobe, atoms: (28,)\n",
      "Hydrophobe, atoms: (29,)\n",
      "LumpedHydrophobe, atoms: (13, 14, 15, 16, 28, 29)\n",
      "LumpedHydrophobe, atoms: (17, 18, 19, 20, 21, 22)\n",
      "-------------------------------------------\n",
      "Molecule 3 has 32 features\n",
      "\n",
      "Donor, atoms: (9,)\n",
      "Donor, atoms: (23,)\n",
      "Donor, atoms: (25,)\n",
      "Donor, atoms: (26,)\n",
      "Acceptor, atoms: (5,)\n",
      "Acceptor, atoms: (9,)\n",
      "Acceptor, atoms: (23,)\n",
      "Acceptor, atoms: (24,)\n",
      "Acceptor, atoms: (25,)\n",
      "PosIonizable, atoms: (6, 5, 4, 10, 7)\n",
      "Aromatic, atoms: (4, 5, 6, 7, 10)\n",
      "Aromatic, atoms: (22, 23, 24, 25, 26)\n",
      "Aromatic, atoms: (12, 13, 14, 15, 27, 28)\n",
      "Aromatic, atoms: (16, 17, 18, 19, 20, 21)\n",
      "Hydrophobe, atoms: (0,)\n",
      "Hydrophobe, atoms: (1,)\n",
      "Hydrophobe, atoms: (2,)\n",
      "Hydrophobe, atoms: (3,)\n",
      "Hydrophobe, atoms: (12,)\n",
      "Hydrophobe, atoms: (13,)\n",
      "Hydrophobe, atoms: (14,)\n",
      "Hydrophobe, atoms: (15,)\n",
      "Hydrophobe, atoms: (16,)\n",
      "Hydrophobe, atoms: (17,)\n",
      "Hydrophobe, atoms: (18,)\n",
      "Hydrophobe, atoms: (19,)\n",
      "Hydrophobe, atoms: (20,)\n",
      "Hydrophobe, atoms: (21,)\n",
      "Hydrophobe, atoms: (27,)\n",
      "Hydrophobe, atoms: (28,)\n",
      "LumpedHydrophobe, atoms: (12, 13, 14, 15, 27, 28)\n",
      "LumpedHydrophobe, atoms: (16, 17, 18, 19, 20, 21)\n",
      "-------------------------------------------\n",
      "Molecule 4 has 31 features\n",
      "\n",
      "Donor, atoms: (25,)\n",
      "Donor, atoms: (27,)\n",
      "Donor, atoms: (28,)\n",
      "Acceptor, atoms: (5,)\n",
      "Acceptor, atoms: (10,)\n",
      "Acceptor, atoms: (25,)\n",
      "Acceptor, atoms: (26,)\n",
      "Acceptor, atoms: (27,)\n",
      "PosIonizable, atoms: (6, 5, 4, 12, 8)\n",
      "Aromatic, atoms: (4, 5, 6, 8, 12)\n",
      "Aromatic, atoms: (24, 25, 26, 27, 28)\n",
      "Aromatic, atoms: (14, 15, 16, 17, 29, 30)\n",
      "Aromatic, atoms: (18, 19, 20, 21, 22, 23)\n",
      "Hydrophobe, atoms: (0,)\n",
      "Hydrophobe, atoms: (1,)\n",
      "Hydrophobe, atoms: (2,)\n",
      "Hydrophobe, atoms: (3,)\n",
      "Hydrophobe, atoms: (14,)\n",
      "Hydrophobe, atoms: (15,)\n",
      "Hydrophobe, atoms: (16,)\n",
      "Hydrophobe, atoms: (17,)\n",
      "Hydrophobe, atoms: (18,)\n",
      "Hydrophobe, atoms: (19,)\n",
      "Hydrophobe, atoms: (20,)\n",
      "Hydrophobe, atoms: (21,)\n",
      "Hydrophobe, atoms: (22,)\n",
      "Hydrophobe, atoms: (23,)\n",
      "Hydrophobe, atoms: (29,)\n",
      "Hydrophobe, atoms: (30,)\n",
      "LumpedHydrophobe, atoms: (14, 15, 16, 17, 29, 30)\n",
      "LumpedHydrophobe, atoms: (18, 19, 20, 21, 22, 23)\n",
      "-------------------------------------------\n"
     ]
    }
   ],
   "source": [
    "fdefName = os.path.join(RDConfig.RDDataDir,'BaseFeatures.fdef')\n",
    "factory = Chem.ChemicalFeatures.BuildFeatureFactory(fdefName)\n",
    "\n",
    "for i, molecule in enumerate(molecules):\n",
    "    feats = factory.GetFeaturesForMol(molecule)\n",
    "    print(f\"Molecule {i} has {len(feats)} features\\n\")\n",
    "    for f in feats:\n",
    "        print(f\"{f.GetFamily()}, atoms: {f.GetAtomIds()}\")\n",
    "    \n",
    "    print(\"-------------------------------------------\")"
   ]
  }
 ],
 "metadata": {
  "kernelspec": {
   "display_name": "Python 3",
   "language": "python",
   "name": "python3"
  },
  "language_info": {
   "codemirror_mode": {
    "name": "ipython",
    "version": 3
   },
   "file_extension": ".py",
   "mimetype": "text/x-python",
   "name": "python",
   "nbconvert_exporter": "python",
   "pygments_lexer": "ipython3",
   "version": "3.7.10"
  }
 },
 "nbformat": 4,
 "nbformat_minor": 5
}
