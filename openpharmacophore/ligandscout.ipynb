{
 "cells": [
  {
   "cell_type": "code",
   "execution_count": 1,
   "id": "886407bd-c94f-456c-bd0a-fc8e707d2bdd",
   "metadata": {},
   "outputs": [],
   "source": [
    "%load_ext autoreload\n",
    "%autoreload 2"
   ]
  },
  {
   "cell_type": "markdown",
   "id": "ca52abfd-c11c-4d73-86ac-18195da54736",
   "metadata": {},
   "source": [
    "## Reading a pharmacophore from a ligandscout pml file"
   ]
  },
  {
   "cell_type": "code",
   "execution_count": 2,
   "id": "ad3b19bc-1eda-4398-b49a-7dc6373fe5a1",
   "metadata": {},
   "outputs": [
    {
     "data": {
      "application/vnd.jupyter.widget-view+json": {
       "model_id": "9c0602a1a7bf45ab9d2d30ad2569a06c",
       "version_major": 2,
       "version_minor": 0
      },
      "text/plain": []
     },
     "metadata": {},
     "output_type": "display_data"
    }
   ],
   "source": [
    "from openpharmacophore.io import from_ligandscout, to_ligandscout\n",
    "from openpharmacophore import Pharmacophore\n",
    "from openpharmacophore.structured_based import StructuredBasedPharmacophore\n",
    "from openpharmacophore import pharmacophoric_elements as phe\n",
    "import numpy as np\n",
    "import pyunitwizard as puw"
   ]
  },
  {
   "cell_type": "code",
   "execution_count": 3,
   "id": "27a07b40-5391-48f2-a5d2-744f40b9ae15",
   "metadata": {},
   "outputs": [
    {
     "data": {
      "text/plain": [
       "Pharmacophore(n_elements: 4)"
      ]
     },
     "execution_count": 3,
     "metadata": {},
     "output_type": "execute_result"
    }
   ],
   "source": [
    "# Load pharmacophore from pml file\n",
    "file = \"./data/ligandscout/ph_small.pml\"\n",
    "\n",
    "pharmacophore = Pharmacophore().from_file(file)\n",
    "pharmacophore"
   ]
  },
  {
   "cell_type": "code",
   "execution_count": 4,
   "id": "aee41e0c-b614-4087-9f29-1e13716f4fcf",
   "metadata": {},
   "outputs": [],
   "source": [
    "neg_ion = pharmacophore.elements[0]"
   ]
  },
  {
   "cell_type": "code",
   "execution_count": 5,
   "id": "bf6366b5-e386-40d3-b392-ec525a15ea91",
   "metadata": {},
   "outputs": [
    {
     "data": {
      "text/plain": [
       "HBDonorSphereAndVector(center: [-0.7999999999999999 0.19999999999999998 -0.9999999999999999] nanometer; radius: 0.15 nanometer; direction: [-0.47411187  0.04851177 -0.87912715])"
      ]
     },
     "execution_count": 5,
     "metadata": {},
     "output_type": "execute_result"
    }
   ],
   "source": [
    "donor = pharmacophore.elements[1]\n",
    "donor"
   ]
  },
  {
   "cell_type": "code",
   "execution_count": 5,
   "id": "ae9b7390-6fdf-4cdc-80cf-addf8d3c2ffc",
   "metadata": {},
   "outputs": [],
   "source": [
    "to_ligandscout(pharmacophore, \"./data/ligandscout/myph.pml\")"
   ]
  },
  {
   "cell_type": "code",
   "execution_count": 6,
   "id": "0d8d9195-ea3e-4185-b6c7-926e64bc2866",
   "metadata": {},
   "outputs": [
    {
     "name": "stdout",
     "output_type": "stream",
     "text": [
      "Pharmacophore(n_elements: 19)\n"
     ]
    }
   ],
   "source": [
    "file = \"./data/pharmer/pharmer.json\"\n",
    "pharmacophore_2 = Pharmacophore().from_file(file, load_mol_sys=False)\n",
    "print(pharmacophore_2)\n",
    "\n",
    "# Save a pharmacophore to a pml file\n",
    "pharmacophore_2.to_ligandscout(\"./data/ligandscout/pharmer.pml\")"
   ]
  },
  {
   "cell_type": "code",
   "execution_count": 9,
   "id": "3fa137be-cd36-4a11-9a9a-efe9885fe912",
   "metadata": {},
   "outputs": [
    {
     "data": {
      "text/plain": [
       "StructuredBasedPharmacophore(n_elements: 3)"
      ]
     },
     "execution_count": 9,
     "metadata": {},
     "output_type": "execute_result"
    }
   ],
   "source": [
    "# create a three element pharmacophore\n",
    "radius = puw.quantity(1.0, \"angstroms\")\n",
    "ring = phe.AromaticRingSphereAndVector(puw.quantity([1,0,0], \"angstroms\"), \n",
    "                                        radius, [0, 0, 1])\n",
    "acceptor = phe.HBAcceptorSphereAndVector(puw.quantity([1,2,2], \"angstroms\"), \n",
    "                                radius, [0,1,1])\n",
    "excluded = phe.ExcludedVolumeSphere(puw.quantity([2,1,2], \"angstroms\"), radius)\n",
    "pharmacophore = StructuredBasedPharmacophore(elements=[ring, acceptor, excluded])\n",
    "pharmacophore"
   ]
  },
  {
   "cell_type": "code",
   "execution_count": 10,
   "id": "a0dfd1b8-a0cf-4112-af9a-da5e1ee14b51",
   "metadata": {},
   "outputs": [
    {
     "data": {
      "text/plain": [
       "b'<pharmacophore name=\"pharmacophore.pml\" pharmacophoreType=\"LIGAND_SCOUT\"><plane disabled=\"false\" featureId=\"ai_1\" name=\"AR\" optional=\"false\" weight=\"1.0\"><position tolerance=\"0.9999999999999999\" x3=\"0.9999999999999999\" y3=\"0.0\" z3=\"0.0\" /><normal tolerance=\"0.9999999999999999\" x3=\"0.0\" y3=\"0.0\" z3=\"1.0\" /></plane><vector disabled=\"false\" featureId=\"ha_2\" hasSyntheticProjectedPoint=\"false\" name=\"HBA\" optional=\"false\" pointsToLigand=\"false\" weight=\"1.0\"><origin tolerance=\"0.9999999999999999\" x3=\"0.9999999999999999\" y3=\"1.9999999999999998\" z3=\"1.9999999999999998\" /><target tolerance=\"0.9999999999999999\" x3=\"0.9999999999999999\" y3=\"1.2928932188134523\" z3=\"1.2928932188134523\" /></vector><volume disabled=\"false\" featureId=\"ev_3\" optional=\"false\" type=\"exclusion\" weight=\"1.0\"><position tolerance=\"0.9999999999999999\" x3=\"1.9999999999999998\" y3=\"0.9999999999999999\" z3=\"1.9999999999999998\" /></volume></pharmacophore>'"
      ]
     },
     "execution_count": 10,
     "metadata": {},
     "output_type": "execute_result"
    }
   ],
   "source": [
    "xml_str = to_ligandscout(pharmacophore, \"temp\", return_string=True)\n",
    "xml_str"
   ]
  },
  {
   "cell_type": "code",
   "execution_count": 12,
   "id": "d788cb83-915a-4dbf-b6d1-3c464cea6c9c",
   "metadata": {},
   "outputs": [
    {
     "name": "stdout",
     "output_type": "stream",
     "text": [
      "      1 AR           1.0000    0.0000    0.0000   AR     0   AR      0.0000\n",
      "\n",
      "      2 ACC          1.0000    2.0000    2.0000   HB     1   HB      0.0000\n",
      "\n"
     ]
    },
    {
     "data": {
      "text/plain": [
       "['@<TRIPOS>MOLECULE\\n',\n",
       " '@<TRIPOS>ATOM\\n',\n",
       " '      1 AR           1.0000    0.0000    0.0000   AR     0   AR      0.0000\\n',\n",
       " '      2 ACC          1.0000    2.0000    2.0000   HB     1   HB      0.0000\\n',\n",
       " '@<TRIPOS>BOND\\n']"
      ]
     },
     "execution_count": 12,
     "metadata": {},
     "output_type": "execute_result"
    }
   ],
   "source": [
    "from openpharmacophore.io.pharmagist import to_pharmagist\n",
    "\n",
    "mol2_list = to_pharmagist(pharmacophore, \"temp\", testing=True)\n",
    "mol2_list"
   ]
  }
 ],
 "metadata": {
  "kernelspec": {
   "display_name": "Python 3",
   "language": "python",
   "name": "python3"
  },
  "language_info": {
   "codemirror_mode": {
    "name": "ipython",
    "version": 3
   },
   "file_extension": ".py",
   "mimetype": "text/x-python",
   "name": "python",
   "nbconvert_exporter": "python",
   "pygments_lexer": "ipython3",
   "version": "3.7.10"
  }
 },
 "nbformat": 4,
 "nbformat_minor": 5
}
