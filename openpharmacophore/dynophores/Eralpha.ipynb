{
 "cells": [
  {
   "cell_type": "code",
   "execution_count": 1,
   "id": "2fba2470-5aca-4579-b679-82719b30e27d",
   "metadata": {},
   "outputs": [],
   "source": [
    "%load_ext autoreload\n",
    "%autoreload 2"
   ]
  },
  {
   "cell_type": "code",
   "execution_count": 96,
   "id": "daed027f-eacb-4cc2-af5b-a165cf842708",
   "metadata": {},
   "outputs": [],
   "source": [
    "from openpharmacophore.dynophore import Dynophore\n",
    "import os\n",
    "import mdtraj as md\n",
    "import numpy as np\n",
    "from collections import namedtuple\n",
    "from tqdm.auto import tqdm\n",
    "\n",
    "import pandas as pd"
   ]
  },
  {
   "cell_type": "markdown",
   "id": "ace85cf2-2b7c-4f80-a5ee-4745368130b2",
   "metadata": {},
   "source": [
    "# Pharmacophoric points analysis for MD simulation of ERalpha"
   ]
  },
  {
   "cell_type": "markdown",
   "id": "8ca942a1-bf45-4934-ac71-d2008ff430da",
   "metadata": {
    "jp-MarkdownHeadingCollapsed": true,
    "tags": []
   },
   "source": [
    "### Load trajectory"
   ]
  },
  {
   "cell_type": "code",
   "execution_count": 3,
   "id": "eb851c28-fc49-4080-a459-311ec24e0aa9",
   "metadata": {},
   "outputs": [
    {
     "name": "stdout",
     "output_type": "stream",
     "text": [
      "<mdtraj.Trajectory with 1000 frames, 27425 atoms, 8028 residues, and unitcells>\n",
      "<mdtraj.Topology with 4 chains, 8028 residues, 27425 atoms, 19689 bonds>\n"
     ]
    }
   ],
   "source": [
    "traj_file = \"../../data/trajectories/ERalpha.h5\"\n",
    "traj = md.load(traj_file)\n",
    "print(traj)\n",
    "print(traj.topology)"
   ]
  },
  {
   "cell_type": "markdown",
   "id": "860ca9f2-b4bd-46ad-99ba-aa70a2d3ac4a",
   "metadata": {
    "jp-MarkdownHeadingCollapsed": true,
    "tags": []
   },
   "source": [
    "## Get pharmacophores from the first and last frame only"
   ]
  },
  {
   "cell_type": "code",
   "execution_count": 4,
   "id": "c00c27bf-0730-4251-95e4-f5babff938d5",
   "metadata": {},
   "outputs": [
    {
     "data": {
      "text/plain": [
       "[StructuredBasedPharmacophore(n_elements: 9),\n",
       " StructuredBasedPharmacophore(n_elements: 6)]"
      ]
     },
     "execution_count": 4,
     "metadata": {},
     "output_type": "execute_result"
    }
   ],
   "source": [
    "dynophore = Dynophore(traj, method=\"last\")\n",
    "dynophore.get_pharmacophores()\n",
    "dynophore.pharmacophores"
   ]
  },
  {
   "cell_type": "code",
   "execution_count": 5,
   "id": "1eb759e4-3367-4a28-84fb-83dffc27aa53",
   "metadata": {},
   "outputs": [
    {
     "data": {
      "text/plain": [
       "[HbAcceptorSphereAndVector(center: (28.34, 17.742, 25.083); radius: 1.0; direction: (0.4886, -0.87, -0.066)),\n",
       " HbAcceptorSphereAndVector(center: (37.768, 12.081, 23.029); radius: 1.0; direction: (-0.6034, 0.2741, 0.7489)),\n",
       " HbDonorSphereAndVector(center: (28.34, 17.742, 25.083); radius: 1.0; direction: (0.1793, 0.4914, 0.8523)),\n",
       " HbDonorSphereAndVector(center: (37.768, 12.081, 23.029); radius: 1.0; direction: (-0.3717, -0.9283, 0.0118)),\n",
       " HydrophobicitySphere(center: (33.452, 15.524, 23.64); radius: 1.0),\n",
       " HydrophobicitySphere(center: (31.2353, 16.7123, 24.6887); radius: 1.0),\n",
       " HydrophobicitySphere(center: (30.49, 15.3043, 23.3997); radius: 1.0),\n",
       " HydrophobicitySphere(center: (35.225, 12.201, 24.116); radius: 1.0),\n",
       " HydrophobicitySphere(center: (36.287, 12.367, 21.152); radius: 1.0)]"
      ]
     },
     "execution_count": 5,
     "metadata": {},
     "output_type": "execute_result"
    }
   ],
   "source": [
    "dynophore.pharmacophores[0].elements"
   ]
  },
  {
   "cell_type": "code",
   "execution_count": 6,
   "id": "839ec3b9-b101-45d1-a930-e92f19efedf5",
   "metadata": {},
   "outputs": [
    {
     "data": {
      "application/vnd.jupyter.widget-view+json": {
       "model_id": "52104aaffef548bc86c44d7631217fb6",
       "version_major": 2,
       "version_minor": 0
      },
      "text/plain": [
       "NGLWidget()"
      ]
     },
     "metadata": {},
     "output_type": "display_data"
    }
   ],
   "source": [
    "dynophore.pharmacophores[0].show()"
   ]
  },
  {
   "cell_type": "code",
   "execution_count": 7,
   "id": "4e69e0e8-5919-4048-a97e-7d9c010f4193",
   "metadata": {},
   "outputs": [
    {
     "data": {
      "text/plain": [
       "[HbAcceptorSphereAndVector(center: (21.4, 23.433, 23.959); radius: 1.0; direction: (0.9029, 0.0437, 0.4276)),\n",
       " HbAcceptorSphereAndVector(center: (32.187, 20.784, 24.975); radius: 1.0; direction: (-0.8643, 0.3032, 0.4012)),\n",
       " HbDonorSphereAndVector(center: (21.4, 23.433, 23.959); radius: 1.0; direction: (-0.9257, -0.2297, 0.3006)),\n",
       " HydrophobicitySphere(center: (24.896, 20.102, 23.084); radius: 1.0),\n",
       " HydrophobicitySphere(center: (30.969, 19.259, 23.494); radius: 1.0),\n",
       " HydrophobicitySphere(center: (25.44, 22.574, 23.702); radius: 1.0)]"
      ]
     },
     "execution_count": 7,
     "metadata": {},
     "output_type": "execute_result"
    }
   ],
   "source": [
    "dynophore.pharmacophores[-1].elements"
   ]
  },
  {
   "cell_type": "code",
   "execution_count": 8,
   "id": "f7d6ab37-dc38-4923-8ccd-5f9bfdd0dfd1",
   "metadata": {},
   "outputs": [
    {
     "data": {
      "application/vnd.jupyter.widget-view+json": {
       "model_id": "39a3ffdf3a21435cb62845642273de13",
       "version_major": 2,
       "version_minor": 0
      },
      "text/plain": [
       "NGLWidget()"
      ]
     },
     "metadata": {},
     "output_type": "display_data"
    }
   ],
   "source": [
    "dynophore.pharmacophores[-1].show()"
   ]
  },
  {
   "cell_type": "markdown",
   "id": "877d3e98-e2d4-4615-a16e-9b6d79d20224",
   "metadata": {},
   "source": [
    "## Pharmacophore Analysis"
   ]
  },
  {
   "cell_type": "markdown",
   "id": "963ca2e1-e678-4a19-abdb-49e5d17bab50",
   "metadata": {},
   "source": [
    "### Get Pharmacophores for each frame of the trajectory"
   ]
  },
  {
   "cell_type": "code",
   "execution_count": 9,
   "id": "c86f6f77-72ec-48f1-b099-e26cd146ae22",
   "metadata": {},
   "outputs": [],
   "source": [
    "import time\n",
    "\n",
    "start_time = time.time()"
   ]
  },
  {
   "cell_type": "code",
   "execution_count": 11,
   "id": "e66eb017-5311-44a3-b2bd-6b7f75481457",
   "metadata": {},
   "outputs": [
    {
     "name": "stdout",
     "output_type": "stream",
     "text": [
      "--- 3077.8478903770447 seconds ---\n"
     ]
    }
   ],
   "source": [
    "dynophore = Dynophore(traj)\n",
    "dynophore._all_frames_pharmacophores()\n",
    "print(\"--- %s seconds ---\" % (time.time() - start_time))"
   ]
  },
  {
   "cell_type": "code",
   "execution_count": 13,
   "id": "81667f13-fda2-4862-809a-096f4ed6b505",
   "metadata": {},
   "outputs": [
    {
     "name": "stdout",
     "output_type": "stream",
     "text": [
      "Number of pharmacophores 1000\n",
      "[StructuredBasedPharmacophore(n_elements: 9), StructuredBasedPharmacophore(n_elements: 6), StructuredBasedPharmacophore(n_elements: 7), StructuredBasedPharmacophore(n_elements: 8), StructuredBasedPharmacophore(n_elements: 7)]\n"
     ]
    }
   ],
   "source": [
    "print(f\"Number of pharmacophores {len(dynophore.pharmacophores)}\")\n",
    "print(dynophore.pharmacophores[0:5])"
   ]
  },
  {
   "cell_type": "markdown",
   "id": "3c4f338b-7875-4bd7-bd07-8f1a46b43bcf",
   "metadata": {},
   "source": [
    "### Get all unique pharmacophoric features"
   ]
  },
  {
   "cell_type": "code",
   "execution_count": 74,
   "id": "740974fe-044c-4ffb-a881-e76dba8efd77",
   "metadata": {},
   "outputs": [],
   "source": [
    "class PharmacophoreFeature():\n",
    "    \n",
    "    def __init__(self, name, indices, count=0):\n",
    "        self.name = name\n",
    "        self.indices = indices\n",
    "        self.count = 0\n",
    "\n",
    "    def __eq__(self, other):\n",
    "        if self.name == other.name and self.indices == other.indices:\n",
    "            return True\n",
    "        return False\n",
    "        \n",
    "        \n",
    "    def __repr__(self):\n",
    "        return f\"Feature(name={self.name}, indices={self.indices}, count={self.count})\"\n",
    "\n"
   ]
  },
  {
   "cell_type": "code",
   "execution_count": 75,
   "id": "361acf77-1c08-4240-ab99-37638da743a9",
   "metadata": {},
   "outputs": [
    {
     "data": {
      "application/vnd.jupyter.widget-view+json": {
       "model_id": "0271bfa774864f798d647b272021428e",
       "version_major": 2,
       "version_minor": 0
      },
      "text/plain": [
       "  0%|          | 0/1000 [00:00<?, ?it/s]"
      ]
     },
     "metadata": {},
     "output_type": "display_data"
    },
    {
     "name": "stdout",
     "output_type": "stream",
     "text": [
      "5995\n"
     ]
    }
   ],
   "source": [
    "all_features = []\n",
    "for pharma in tqdm(dynophore.pharmacophores):\n",
    "    for p in pharma.elements:\n",
    "        f = PharmacophoreFeature(p.short_name, p.atoms_inxs)\n",
    "        all_features.append(f)\n",
    "        \n",
    "print(len(all_features))"
   ]
  },
  {
   "cell_type": "code",
   "execution_count": 77,
   "id": "f1f01aab-fe54-4f8c-a792-f4b3424b1f04",
   "metadata": {},
   "outputs": [
    {
     "name": "stdout",
     "output_type": "stream",
     "text": [
      "19\n"
     ]
    }
   ],
   "source": [
    "unique_feats = []\n",
    "for feat in all_features:\n",
    "    \n",
    "    is_unique = True\n",
    "    for unique_f in unique_feats:\n",
    "        if feat == unique_f:\n",
    "            unique_f.count += 1\n",
    "            is_unique = False\n",
    "            break\n",
    "    if is_unique:\n",
    "        unique_feats.append(feat)\n",
    "    \n",
    "print(len(unique_feats))"
   ]
  },
  {
   "cell_type": "code",
   "execution_count": 104,
   "id": "73d712d4-44dc-432a-b181-65ff71668785",
   "metadata": {},
   "outputs": [
    {
     "data": {
      "text/plain": [
       "[Feature(name=A, indices={4}, count=878),\n",
       " Feature(name=A, indices={19}, count=990),\n",
       " Feature(name=D, indices={4}, count=810)]"
      ]
     },
     "execution_count": 104,
     "metadata": {},
     "output_type": "execute_result"
    }
   ],
   "source": [
    "unique_feats[0:3]"
   ]
  },
  {
   "cell_type": "code",
   "execution_count": 107,
   "id": "83467e75-0d0a-4f2e-a83c-f6bdeeffba7c",
   "metadata": {},
   "outputs": [],
   "source": [
    "feature_mapper = {\n",
    "            \"hb acceptor\": \"A\",\n",
    "            \"hb donor\": \"D\",\n",
    "            \"aromatic ring\": \"R\",\n",
    "            \"hydrophobicity\": \"H\",\n",
    "            \"positive charge\": \"P\",\n",
    "            \"negative charge\": \"N\",\n",
    "            \"excluded sphere\": \"E\",\n",
    "            \"included sphere\": \"I\"\n",
    "        }\n",
    "\n",
    "inverse_feature_mapper = {v:k for k, v in feature_mapper.items()}\n",
    "\n",
    "names = []\n",
    "feat_type_list = []\n",
    "percentage = []\n",
    "indices = []\n",
    "n_timesteps = len(dynophore.pharmacophores)\n",
    "for feat in unique_feats:\n",
    "    feat_type = inverse_feature_mapper[feat.name] + \" \"\n",
    "    feat_num = 1\n",
    "    full_name = feat_type + str(feat_num)\n",
    "    if full_name not in names:\n",
    "        names.append(full_name)\n",
    "    else:\n",
    "        while True:\n",
    "            feat_num += 1\n",
    "            full_name = feat_type + str(feat_num)\n",
    "            if full_name not in names:\n",
    "                names.append(full_name)\n",
    "                break\n",
    "    \n",
    "    percent = (feat.count / n_timesteps) * 100\n",
    "    \n",
    "    feat_type_list.append(feat.name)\n",
    "    percentage.append(percent)\n",
    "    indices.append(feat.indices)\n"
   ]
  },
  {
   "cell_type": "code",
   "execution_count": 108,
   "id": "e9f2effc-64db-4221-ae1b-5c241e56208b",
   "metadata": {},
   "outputs": [
    {
     "data": {
      "text/html": [
       "<div>\n",
       "<style scoped>\n",
       "    .dataframe tbody tr th:only-of-type {\n",
       "        vertical-align: middle;\n",
       "    }\n",
       "\n",
       "    .dataframe tbody tr th {\n",
       "        vertical-align: top;\n",
       "    }\n",
       "\n",
       "    .dataframe thead th {\n",
       "        text-align: right;\n",
       "    }\n",
       "</style>\n",
       "<table border=\"1\" class=\"dataframe\">\n",
       "  <thead>\n",
       "    <tr style=\"text-align: right;\">\n",
       "      <th></th>\n",
       "      <th>Feature Name</th>\n",
       "      <th>Type</th>\n",
       "      <th>Frequency(%)</th>\n",
       "      <th>Atoms Indices</th>\n",
       "    </tr>\n",
       "  </thead>\n",
       "  <tbody>\n",
       "    <tr>\n",
       "      <th>0</th>\n",
       "      <td>hb acceptor 1</td>\n",
       "      <td>A</td>\n",
       "      <td>87.8</td>\n",
       "      <td>{4}</td>\n",
       "    </tr>\n",
       "    <tr>\n",
       "      <th>1</th>\n",
       "      <td>hb acceptor 2</td>\n",
       "      <td>A</td>\n",
       "      <td>99.0</td>\n",
       "      <td>{19}</td>\n",
       "    </tr>\n",
       "    <tr>\n",
       "      <th>2</th>\n",
       "      <td>hb donor 1</td>\n",
       "      <td>D</td>\n",
       "      <td>81.0</td>\n",
       "      <td>{4}</td>\n",
       "    </tr>\n",
       "    <tr>\n",
       "      <th>3</th>\n",
       "      <td>hb donor 2</td>\n",
       "      <td>D</td>\n",
       "      <td>56.0</td>\n",
       "      <td>{19}</td>\n",
       "    </tr>\n",
       "    <tr>\n",
       "      <th>4</th>\n",
       "      <td>hydrophobicity 1</td>\n",
       "      <td>H</td>\n",
       "      <td>0.4</td>\n",
       "      <td>{10}</td>\n",
       "    </tr>\n",
       "    <tr>\n",
       "      <th>5</th>\n",
       "      <td>hydrophobicity 2</td>\n",
       "      <td>H</td>\n",
       "      <td>48.7</td>\n",
       "      <td>{1}</td>\n",
       "    </tr>\n",
       "    <tr>\n",
       "      <th>6</th>\n",
       "      <td>hydrophobicity 3</td>\n",
       "      <td>H</td>\n",
       "      <td>17.9</td>\n",
       "      <td>{7}</td>\n",
       "    </tr>\n",
       "    <tr>\n",
       "      <th>7</th>\n",
       "      <td>hydrophobicity 4</td>\n",
       "      <td>H</td>\n",
       "      <td>26.8</td>\n",
       "      <td>{20}</td>\n",
       "    </tr>\n",
       "    <tr>\n",
       "      <th>8</th>\n",
       "      <td>hydrophobicity 5</td>\n",
       "      <td>H</td>\n",
       "      <td>32.2</td>\n",
       "      <td>{17}</td>\n",
       "    </tr>\n",
       "    <tr>\n",
       "      <th>9</th>\n",
       "      <td>hydrophobicity 6</td>\n",
       "      <td>H</td>\n",
       "      <td>59.8</td>\n",
       "      <td>{5}</td>\n",
       "    </tr>\n",
       "    <tr>\n",
       "      <th>10</th>\n",
       "      <td>hydrophobicity 7</td>\n",
       "      <td>H</td>\n",
       "      <td>10.3</td>\n",
       "      <td>{8}</td>\n",
       "    </tr>\n",
       "    <tr>\n",
       "      <th>11</th>\n",
       "      <td>hydrophobicity 8</td>\n",
       "      <td>H</td>\n",
       "      <td>22.7</td>\n",
       "      <td>{2}</td>\n",
       "    </tr>\n",
       "    <tr>\n",
       "      <th>12</th>\n",
       "      <td>hydrophobicity 9</td>\n",
       "      <td>H</td>\n",
       "      <td>2.8</td>\n",
       "      <td>{11}</td>\n",
       "    </tr>\n",
       "    <tr>\n",
       "      <th>13</th>\n",
       "      <td>hydrophobicity 10</td>\n",
       "      <td>H</td>\n",
       "      <td>22.3</td>\n",
       "      <td>{16}</td>\n",
       "    </tr>\n",
       "    <tr>\n",
       "      <th>14</th>\n",
       "      <td>hydrophobicity 11</td>\n",
       "      <td>H</td>\n",
       "      <td>5.0</td>\n",
       "      <td>{12}</td>\n",
       "    </tr>\n",
       "    <tr>\n",
       "      <th>15</th>\n",
       "      <td>aromatic ring 1</td>\n",
       "      <td>R</td>\n",
       "      <td>7.0</td>\n",
       "      <td>{1, 2, 3, 5, 6, 11}</td>\n",
       "    </tr>\n",
       "    <tr>\n",
       "      <th>16</th>\n",
       "      <td>hydrophobicity 12</td>\n",
       "      <td>H</td>\n",
       "      <td>0.4</td>\n",
       "      <td>{9}</td>\n",
       "    </tr>\n",
       "    <tr>\n",
       "      <th>17</th>\n",
       "      <td>hydrophobicity 13</td>\n",
       "      <td>H</td>\n",
       "      <td>13.0</td>\n",
       "      <td>{13}</td>\n",
       "    </tr>\n",
       "    <tr>\n",
       "      <th>18</th>\n",
       "      <td>hydrophobicity 14</td>\n",
       "      <td>H</td>\n",
       "      <td>4.5</td>\n",
       "      <td>{6}</td>\n",
       "    </tr>\n",
       "  </tbody>\n",
       "</table>\n",
       "</div>"
      ],
      "text/plain": [
       "         Feature Name Type  Frequency(%)        Atoms Indices\n",
       "0       hb acceptor 1    A          87.8                  {4}\n",
       "1       hb acceptor 2    A          99.0                 {19}\n",
       "2          hb donor 1    D          81.0                  {4}\n",
       "3          hb donor 2    D          56.0                 {19}\n",
       "4    hydrophobicity 1    H           0.4                 {10}\n",
       "5    hydrophobicity 2    H          48.7                  {1}\n",
       "6    hydrophobicity 3    H          17.9                  {7}\n",
       "7    hydrophobicity 4    H          26.8                 {20}\n",
       "8    hydrophobicity 5    H          32.2                 {17}\n",
       "9    hydrophobicity 6    H          59.8                  {5}\n",
       "10   hydrophobicity 7    H          10.3                  {8}\n",
       "11   hydrophobicity 8    H          22.7                  {2}\n",
       "12   hydrophobicity 9    H           2.8                 {11}\n",
       "13  hydrophobicity 10    H          22.3                 {16}\n",
       "14  hydrophobicity 11    H           5.0                 {12}\n",
       "15    aromatic ring 1    R           7.0  {1, 2, 3, 5, 6, 11}\n",
       "16  hydrophobicity 12    H           0.4                  {9}\n",
       "17  hydrophobicity 13    H          13.0                 {13}\n",
       "18  hydrophobicity 14    H           4.5                  {6}"
      ]
     },
     "execution_count": 108,
     "metadata": {},
     "output_type": "execute_result"
    }
   ],
   "source": [
    "frequency = pd.DataFrame().from_dict({\n",
    "    \"Feature Name\": names,\n",
    "    \"Type\": feat_type_list,\n",
    "    \"Frequency(%)\": percentage,\n",
    "    \"Atoms Indices\": indices\n",
    "})\n",
    "\n",
    "frequency"
   ]
  },
  {
   "cell_type": "markdown",
   "id": "150a1669-2106-4ebe-ac65-83e93d69c7b1",
   "metadata": {},
   "source": [
    "## Pharmacophore model from most frequent features"
   ]
  },
  {
   "cell_type": "code",
   "execution_count": 109,
   "id": "09324984-0f43-4eed-a933-42c8ae93c57e",
   "metadata": {},
   "outputs": [
    {
     "data": {
      "text/html": [
       "<div>\n",
       "<style scoped>\n",
       "    .dataframe tbody tr th:only-of-type {\n",
       "        vertical-align: middle;\n",
       "    }\n",
       "\n",
       "    .dataframe tbody tr th {\n",
       "        vertical-align: top;\n",
       "    }\n",
       "\n",
       "    .dataframe thead th {\n",
       "        text-align: right;\n",
       "    }\n",
       "</style>\n",
       "<table border=\"1\" class=\"dataframe\">\n",
       "  <thead>\n",
       "    <tr style=\"text-align: right;\">\n",
       "      <th></th>\n",
       "      <th>Feature Name</th>\n",
       "      <th>Type</th>\n",
       "      <th>Frequency(%)</th>\n",
       "      <th>Atoms Indices</th>\n",
       "    </tr>\n",
       "  </thead>\n",
       "  <tbody>\n",
       "    <tr>\n",
       "      <th>0</th>\n",
       "      <td>hb acceptor 1</td>\n",
       "      <td>A</td>\n",
       "      <td>87.8</td>\n",
       "      <td>{4}</td>\n",
       "    </tr>\n",
       "    <tr>\n",
       "      <th>1</th>\n",
       "      <td>hb acceptor 2</td>\n",
       "      <td>A</td>\n",
       "      <td>99.0</td>\n",
       "      <td>{19}</td>\n",
       "    </tr>\n",
       "    <tr>\n",
       "      <th>2</th>\n",
       "      <td>hb donor 1</td>\n",
       "      <td>D</td>\n",
       "      <td>81.0</td>\n",
       "      <td>{4}</td>\n",
       "    </tr>\n",
       "    <tr>\n",
       "      <th>3</th>\n",
       "      <td>hb donor 2</td>\n",
       "      <td>D</td>\n",
       "      <td>56.0</td>\n",
       "      <td>{19}</td>\n",
       "    </tr>\n",
       "    <tr>\n",
       "      <th>9</th>\n",
       "      <td>hydrophobicity 6</td>\n",
       "      <td>H</td>\n",
       "      <td>59.8</td>\n",
       "      <td>{5}</td>\n",
       "    </tr>\n",
       "  </tbody>\n",
       "</table>\n",
       "</div>"
      ],
      "text/plain": [
       "       Feature Name Type  Frequency(%) Atoms Indices\n",
       "0     hb acceptor 1    A          87.8           {4}\n",
       "1     hb acceptor 2    A          99.0          {19}\n",
       "2        hb donor 1    D          81.0           {4}\n",
       "3        hb donor 2    D          56.0          {19}\n",
       "9  hydrophobicity 6    H          59.8           {5}"
      ]
     },
     "execution_count": 109,
     "metadata": {},
     "output_type": "execute_result"
    }
   ],
   "source": [
    "threshold = 50\n",
    "model_feats = frequency[frequency[\"Frequency(%)\"] >= threshold]\n",
    "model_feats"
   ]
  },
  {
   "cell_type": "code",
   "execution_count": null,
   "id": "1ae21cd6-61f7-45b5-9d50-5545c70985ca",
   "metadata": {},
   "outputs": [],
   "source": []
  }
 ],
 "metadata": {
  "kernelspec": {
   "display_name": "Python 3 (ipykernel)",
   "language": "python",
   "name": "python3"
  },
  "language_info": {
   "codemirror_mode": {
    "name": "ipython",
    "version": 3
   },
   "file_extension": ".py",
   "mimetype": "text/x-python",
   "name": "python",
   "nbconvert_exporter": "python",
   "pygments_lexer": "ipython3",
   "version": "3.7.10"
  }
 },
 "nbformat": 4,
 "nbformat_minor": 5
}
