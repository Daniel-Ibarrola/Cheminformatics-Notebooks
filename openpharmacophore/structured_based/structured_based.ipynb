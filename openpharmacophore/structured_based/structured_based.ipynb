{
 "cells": [
  {
   "cell_type": "code",
   "execution_count": 1,
   "id": "9032b998-27cc-4c7a-b3a6-22d38796de44",
   "metadata": {},
   "outputs": [],
   "source": [
    "%load_ext autoreload\n",
    "%autoreload 2"
   ]
  },
  {
   "cell_type": "code",
   "execution_count": 1,
   "id": "7419d0f5-79e5-4b69-be27-78882cbd8f87",
   "metadata": {},
   "outputs": [
    {
     "data": {
      "application/vnd.jupyter.widget-view+json": {
       "model_id": "b72cef29c75142d4a9544bd239a4ced2",
       "version_major": 2,
       "version_minor": 0
      },
      "text/plain": []
     },
     "metadata": {},
     "output_type": "display_data"
    }
   ],
   "source": [
    "from openpharmacophore.structured_based import StructuredBasedPharmacophore\n",
    "import os\n",
    "import numpy as np"
   ]
  },
  {
   "cell_type": "code",
   "execution_count": 2,
   "id": "2c4d2765-0bcc-4754-9288-cd43e60f77b4",
   "metadata": {},
   "outputs": [],
   "source": [
    "pdbs_path = '../data/pdbs/'\n",
    "pdbs = [\"1ncr\", \"2hz1\", \"2hzi\"]\n",
    "pdbs = [p_id + \".pdb\" for p_id in pdbs]"
   ]
  },
  {
   "cell_type": "code",
   "execution_count": 3,
   "id": "51495c8f-2360-4944-80d5-ba11879e902f",
   "metadata": {},
   "outputs": [],
   "source": [
    "file_name = os.path.join(pdbs_path, pdbs[0])\n",
    "pharmacophore_1 = StructuredBasedPharmacophore().from_pdb(file_name, radius=1.0, ligand_id=\"W11\")"
   ]
  },
  {
   "cell_type": "code",
   "execution_count": 4,
   "id": "8775968d-8be9-471f-8fc1-575febf525c0",
   "metadata": {},
   "outputs": [
    {
     "data": {
      "text/plain": [
       "[AromaticRingSphereAndVector(center: [ 38.03   4.36 123.74]; radius: 1.0; direction: [-0.67 -0.05 -0.74]),\n",
       " HydrophobicSphere(center: [ 42.45  -1.11 122.62]; radius: 1.0),\n",
       " HydrophobicSphere(center: [ 37.7    4.39 122.61]; radius: 1.0),\n",
       " HydrophobicSphere(center: [ 35.83   5.86 123.82]; radius: 1.0),\n",
       " HydrophobicSphere(center: [ 45.46   2.01 123.42]; radius: 1.0)]"
      ]
     },
     "execution_count": 4,
     "metadata": {},
     "output_type": "execute_result"
    }
   ],
   "source": [
    "pharmacophore_1.elements"
   ]
  },
  {
   "cell_type": "code",
   "execution_count": 5,
   "id": "05786f4f-b447-42fd-9711-c255efeff18d",
   "metadata": {},
   "outputs": [
    {
     "data": {
      "application/vnd.jupyter.widget-view+json": {
       "model_id": "847fde6264914b05be61e75444da661a",
       "version_major": 2,
       "version_minor": 0
      },
      "text/plain": [
       "NGLWidget()"
      ]
     },
     "metadata": {},
     "output_type": "display_data"
    }
   ],
   "source": [
    "pharmacophore_1.show()"
   ]
  },
  {
   "cell_type": "code",
   "execution_count": 6,
   "id": "8ba44936-ff9f-4116-9ef9-16e6a07df917",
   "metadata": {},
   "outputs": [],
   "source": [
    "file_name = os.path.join(pdbs_path, pdbs[1])\n",
    "pharmacophore_2 = StructuredBasedPharmacophore().from_pdb(file_name, radius=1.0)"
   ]
  },
  {
   "cell_type": "code",
   "execution_count": 7,
   "id": "5f2e6c5f-2c66-4908-a5e7-975fc0c22bfd",
   "metadata": {},
   "outputs": [
    {
     "data": {
      "text/plain": [
       "[NegativeChargeSphere(center: [2.28 2.66 3.25]; radius: 1.0),\n",
       " NegativeChargeSphere(center: [1.07 4.82 7.32]; radius: 1.0),\n",
       " HBAcceptorSphereAndVector(center: [2.33 3.57 2.63]; radius: 1.0; direction: [-0.88  0.27  0.38]),\n",
       " HydrophobicSphere(center: [ 5.13 11.97 11.82]; radius: 1.0),\n",
       " HydrophobicSphere(center: [0.4  6.79 7.37]; radius: 1.0),\n",
       " HydrophobicSphere(center: [11.72  5.7   7.23]; radius: 1.0),\n",
       " HydrophobicSphere(center: [12.5   7.73  9.51]; radius: 1.0),\n",
       " HydrophobicSphere(center: [7.62 3.6  4.39]; radius: 1.0),\n",
       " HydrophobicSphere(center: [ 8.73 11.74 11.5 ]; radius: 1.0),\n",
       " HydrophobicSphere(center: [1.57 9.83 8.91]; radius: 1.0)]"
      ]
     },
     "execution_count": 7,
     "metadata": {},
     "output_type": "execute_result"
    }
   ],
   "source": [
    "pharmacophore_2.elements"
   ]
  },
  {
   "cell_type": "code",
   "execution_count": 8,
   "id": "9ae6aadf-240c-4b10-8103-2444b70d48a0",
   "metadata": {},
   "outputs": [
    {
     "data": {
      "application/vnd.jupyter.widget-view+json": {
       "model_id": "f5cb7066199649b298aeba1bfb0d684f",
       "version_major": 2,
       "version_minor": 0
      },
      "text/plain": [
       "NGLWidget()"
      ]
     },
     "metadata": {},
     "output_type": "display_data"
    }
   ],
   "source": [
    "pharmacophore_2.show()"
   ]
  },
  {
   "cell_type": "code",
   "execution_count": 9,
   "id": "8a4e1bc2-21bf-4061-863f-0cf521c6ccd8",
   "metadata": {},
   "outputs": [
    {
     "name": "stdout",
     "output_type": "stream",
     "text": [
      "../data/pdbs/2hzi.pdb PDB contains the following ligands:\n",
      "\n",
      "JIN:A:600\n",
      "JIN:B:600\n",
      "\n",
      "Please enter for which one the pharmacophore should be computed \n"
     ]
    },
    {
     "name": "stdin",
     "output_type": "stream",
     "text": [
      " JIN:A:600\n"
     ]
    }
   ],
   "source": [
    "file_name = os.path.join(pdbs_path, pdbs[2])\n",
    "pharmacophore_3 = StructuredBasedPharmacophore().from_pdb(file_name, radius=1.0)"
   ]
  },
  {
   "cell_type": "code",
   "execution_count": 10,
   "id": "0a7453ef-3811-480e-8e51-ce4f9e3eb781",
   "metadata": {},
   "outputs": [
    {
     "data": {
      "text/plain": [
       "StructuredBasedPharmacophore(n_elements: 5)"
      ]
     },
     "execution_count": 10,
     "metadata": {},
     "output_type": "execute_result"
    }
   ],
   "source": [
    "pharmacophore_3"
   ]
  },
  {
   "cell_type": "code",
   "execution_count": 11,
   "id": "8dfef75a-400d-4d16-aa71-c0feade503de",
   "metadata": {},
   "outputs": [
    {
     "data": {
      "application/vnd.jupyter.widget-view+json": {
       "model_id": "8f2c3adc1b094324ad7d74286b92c018",
       "version_major": 2,
       "version_minor": 0
      },
      "text/plain": [
       "NGLWidget()"
      ]
     },
     "metadata": {},
     "output_type": "display_data"
    }
   ],
   "source": [
    "pharmacophore_3.show()"
   ]
  },
  {
   "cell_type": "code",
   "execution_count": 9,
   "id": "ea8e9010-4afe-4d27-b977-b824a813363d",
   "metadata": {},
   "outputs": [
    {
     "data": {
      "text/plain": [
       "[HBAcceptorSphereAndVector(center: [16.16 12.13  2.52]; radius: 1.0; direction: [-0.1   0.91  0.4 ]),\n",
       " HBDonorSphereAndVector(center: [13.99 12.05  2.87]; radius: 1.0; direction: [-0.12 -0.94 -0.31]),\n",
       " HydrophobicSphere(center: [10.42 11.8   2.38]; radius: 1.0),\n",
       " HydrophobicSphere(center: [21.8  17.73  4.25]; radius: 1.0),\n",
       " HydrophobicSphere(center: [17.51 13.85  3.41]; radius: 1.0)]"
      ]
     },
     "execution_count": 9,
     "metadata": {},
     "output_type": "execute_result"
    }
   ],
   "source": [
    "pharmacophore_3.elements"
   ]
  },
  {
   "cell_type": "code",
   "execution_count": 31,
   "id": "d4bda09a-bffd-4c06-b657-8ea7f54e047f",
   "metadata": {},
   "outputs": [
    {
     "name": "stdout",
     "output_type": "stream",
     "text": [
      "2.4618285886714366\n"
     ]
    }
   ],
   "source": [
    "# hyd1 center is [ 42.87  -0.74 122.71]\n",
    "# hyd2 center is [ 43.76  -1.84 122.33]\n",
    "# centroid is [ 43.31  -1.29 122.52]\n",
    "\n",
    "# hyd1 center is [ 37.7    4.39 122.61]\n",
    "# centroid is [ 37.7    4.39 122.61]\n",
    "\n",
    "# hyd1 center is [ 41.37  -1.11 122.68]\n",
    "# hyd2 center is [ 42.87  -0.74 122.71]\n",
    "# centroid is [ 42.12  -0.93 122.7 ]\n",
    "\n",
    "# hyd1 center is [ 35.83   5.86 123.82]\n",
    "# centroid is [ 35.83   5.86 123.82]\n",
    "\n",
    "# hyd1 center is [ 45.46   2.01 123.42]\n",
    "# centroid is [ 45.46   2.01 123.42]\n",
    "\n",
    "# HydrophobicSphere(center: [21.71 18.02  3.71]; radius: 1.0),\n",
    "# HydrophobicSphere(center: [22.05 16.87  5.86]; radius: 1.0),\n",
    "\n",
    "\n",
    "c1 = np.array([21.71, 18.02, 3.71])\n",
    "c2 = np.array([22.05, 16.87  ,5.86])\n",
    "\n",
    "dis_1 = np.linalg.norm(c1 - c2)\n",
    "print(dis_1)"
   ]
  }
 ],
 "metadata": {
  "kernelspec": {
   "display_name": "Python 3 (ipykernel)",
   "language": "python",
   "name": "python3"
  },
  "language_info": {
   "codemirror_mode": {
    "name": "ipython",
    "version": 3
   },
   "file_extension": ".py",
   "mimetype": "text/x-python",
   "name": "python",
   "nbconvert_exporter": "python",
   "pygments_lexer": "ipython3",
   "version": "3.7.10"
  }
 },
 "nbformat": 4,
 "nbformat_minor": 5
}
