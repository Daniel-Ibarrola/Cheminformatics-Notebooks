{
 "cells": [
  {
   "cell_type": "code",
   "execution_count": 1,
   "id": "9032b998-27cc-4c7a-b3a6-22d38796de44",
   "metadata": {},
   "outputs": [],
   "source": [
    "%load_ext autoreload\n",
    "%autoreload 2"
   ]
  },
  {
   "cell_type": "code",
   "execution_count": 2,
   "id": "7419d0f5-79e5-4b69-be27-78882cbd8f87",
   "metadata": {},
   "outputs": [
    {
     "data": {
      "application/vnd.jupyter.widget-view+json": {
       "model_id": "d4171bf2c52e4a4b9f3f1f83504241f3",
       "version_major": 2,
       "version_minor": 0
      },
      "text/plain": []
     },
     "metadata": {},
     "output_type": "display_data"
    }
   ],
   "source": [
    "from openpharmacophore.structured_based import StructuredBasedPharmacophore\n",
    "import os\n",
    "import numpy as np"
   ]
  },
  {
   "cell_type": "code",
   "execution_count": 3,
   "id": "da1d3950-42ff-486f-b054-b554f43c653a",
   "metadata": {},
   "outputs": [],
   "source": [
    "from openpharmacophore import pharmacophoric_elements as phe\n",
    "import pyunitwizard as puw"
   ]
  },
  {
   "cell_type": "code",
   "execution_count": 20,
   "id": "2c4d2765-0bcc-4754-9288-cd43e60f77b4",
   "metadata": {},
   "outputs": [],
   "source": [
    "pdbs_path = '../../data/pdbs/'\n",
    "pdbs = [\"1ncr\", \"2hz1\", \"2hzi\", \"1qku\"]\n",
    "pdbs = [p_id + \".pdb\" for p_id in pdbs]"
   ]
  },
  {
   "cell_type": "code",
   "execution_count": 34,
   "id": "51495c8f-2360-4944-80d5-ba11879e902f",
   "metadata": {},
   "outputs": [],
   "source": [
    "file_name = os.path.join(pdbs_path, pdbs[0])\n",
    "pharmacophore_1 = StructuredBasedPharmacophore().from_pdb(file_name, \n",
    "                                                          radius=1.0, \n",
    "                                                          ligand_id=\"W11:A:7001\", \n",
    "                                                          hydrophobics=\"plip\")"
   ]
  },
  {
   "cell_type": "code",
   "execution_count": 35,
   "id": "8775968d-8be9-471f-8fc1-575febf525c0",
   "metadata": {},
   "outputs": [
    {
     "data": {
      "text/plain": [
       "[AromaticRingSphereAndVector(center: (38.0292, 4.3594, 123.7382); radius: 1.0; direction: (-0.6702, -0.0512, -0.7404)),\n",
       " HydrophobicSphere(center: (42.4462, -1.1092, 122.6226); radius: 1.0),\n",
       " HydrophobicSphere(center: (37.699, 4.393, 122.609); radius: 1.0),\n",
       " HydrophobicSphere(center: (35.827, 5.861, 123.815); radius: 1.0),\n",
       " HydrophobicSphere(center: (45.46, 2.006, 123.421); radius: 1.0)]"
      ]
     },
     "execution_count": 35,
     "metadata": {},
     "output_type": "execute_result"
    }
   ],
   "source": [
    "pharmacophore_1.elements"
   ]
  },
  {
   "cell_type": "code",
   "execution_count": 7,
   "id": "05786f4f-b447-42fd-9711-c255efeff18d",
   "metadata": {},
   "outputs": [
    {
     "data": {
      "application/vnd.jupyter.widget-view+json": {
       "model_id": "b4115b9228c940bfafbb43bb4e9a5026",
       "version_major": 2,
       "version_minor": 0
      },
      "text/plain": [
       "NGLWidget()"
      ]
     },
     "metadata": {},
     "output_type": "display_data"
    }
   ],
   "source": [
    "pharmacophore_1.show()"
   ]
  },
  {
   "cell_type": "code",
   "execution_count": 8,
   "id": "cf830b21-8371-4011-ae0d-1d2a09dce271",
   "metadata": {},
   "outputs": [
    {
     "data": {
      "image/png": "[encoded data removed]",
      "text/plain": [
       "<rdkit.Chem.rdchem.Mol at 0x7f0ecec12800>"
      ]
     },
     "execution_count": 8,
     "metadata": {},
     "output_type": "execute_result"
    }
   ],
   "source": [
    "pharmacophore_1.ligand"
   ]
  },
  {
   "cell_type": "code",
   "execution_count": 9,
   "id": "8ba44936-ff9f-4116-9ef9-16e6a07df917",
   "metadata": {},
   "outputs": [
    {
     "name": "stderr",
     "output_type": "stream",
     "text": [
      "/home/daniel/Documents/libraries/OpenPharmacophore/openpharmacophore/structured_based.py:122: UserWarning: Ligand could not be transformed to rdkit molecule. Using default plip interactions\n",
      "  warnings.warn(\"Ligand could not be transformed to rdkit molecule. Using default plip interactions\")\n"
     ]
    }
   ],
   "source": [
    "file_name = os.path.join(pdbs_path, pdbs[1])\n",
    "pharmacophore_2 = StructuredBasedPharmacophore().from_pdb(file_name, radius=1.0, hydrophobics=\"rdkit\")"
   ]
  },
  {
   "cell_type": "code",
   "execution_count": 78,
   "id": "2a3f6d29-8df6-4277-b270-4397813b967b",
   "metadata": {},
   "outputs": [],
   "source": [
    "pharmacophore_2.ligand"
   ]
  },
  {
   "cell_type": "code",
   "execution_count": 10,
   "id": "5f2e6c5f-2c66-4908-a5e7-975fc0c22bfd",
   "metadata": {},
   "outputs": [
    {
     "data": {
      "text/plain": [
       "[NegativeChargeSphere(center: (2.279, 2.6625, 3.2525); radius: 1.0),\n",
       " NegativeChargeSphere(center: (1.074, 4.8205, 7.3245); radius: 1.0),\n",
       " HBAcceptorSphereAndVector(center: (2.327, 3.574, 2.628); radius: 1.0; direction: (-0.8834, 0.2719, 0.3816)),\n",
       " HydrophobicSphere(center: (5.134, 11.9745, 11.8155); radius: 1.0),\n",
       " HydrophobicSphere(center: (0.396, 6.793, 7.373); radius: 1.0),\n",
       " HydrophobicSphere(center: (11.724, 5.702, 7.226); radius: 1.0),\n",
       " HydrophobicSphere(center: (12.502, 7.731, 9.51); radius: 1.0),\n",
       " HydrophobicSphere(center: (7.62, 3.602, 4.389); radius: 1.0),\n",
       " HydrophobicSphere(center: (8.728, 11.736, 11.502); radius: 1.0),\n",
       " HydrophobicSphere(center: (1.567, 9.826, 8.907); radius: 1.0)]"
      ]
     },
     "execution_count": 10,
     "metadata": {},
     "output_type": "execute_result"
    }
   ],
   "source": [
    "pharmacophore_2.elements"
   ]
  },
  {
   "cell_type": "code",
   "execution_count": 11,
   "id": "9ae6aadf-240c-4b10-8103-2444b70d48a0",
   "metadata": {},
   "outputs": [
    {
     "data": {
      "application/vnd.jupyter.widget-view+json": {
       "model_id": "6c6eefd0ce9c4517b799c48f59c093fc",
       "version_major": 2,
       "version_minor": 0
      },
      "text/plain": [
       "NGLWidget()"
      ]
     },
     "metadata": {},
     "output_type": "display_data"
    }
   ],
   "source": [
    "pharmacophore_2.show()"
   ]
  },
  {
   "cell_type": "code",
   "execution_count": 17,
   "id": "8a4e1bc2-21bf-4061-863f-0cf521c6ccd8",
   "metadata": {},
   "outputs": [
    {
     "name": "stdout",
     "output_type": "stream",
     "text": [
      "../../data/pdbs/2hzi.pdb PDB contains the following ligands:\n",
      "\n",
      "JIN:A:600\n",
      "JIN:B:600\n",
      "\n",
      "Please enter for which one the pharmacophore should be computed \n"
     ]
    },
    {
     "name": "stdin",
     "output_type": "stream",
     "text": [
      " JIN:A:600\n"
     ]
    },
    {
     "name": "stderr",
     "output_type": "stream",
     "text": [
      "/home/daniel/Documents/libraries/OpenPharmacophore/openpharmacophore/structured_based.py:122: UserWarning: Ligand could not be transformed to rdkit molecule. Using default plip interactions\n",
      "  warnings.warn(\"Ligand could not be transformed to rdkit molecule. Using default plip interactions\")\n"
     ]
    }
   ],
   "source": [
    "file_name = os.path.join(pdbs_path, pdbs[2])\n",
    "pharmacophore_3 = StructuredBasedPharmacophore().from_pdb(file_name, radius=1.0, hydrophobics=\"rdkit\")"
   ]
  },
  {
   "cell_type": "code",
   "execution_count": 18,
   "id": "0a7453ef-3811-480e-8e51-ce4f9e3eb781",
   "metadata": {},
   "outputs": [
    {
     "data": {
      "text/plain": [
       "StructuredBasedPharmacophore(n_elements: 5)"
      ]
     },
     "execution_count": 18,
     "metadata": {},
     "output_type": "execute_result"
    }
   ],
   "source": [
    "pharmacophore_3"
   ]
  },
  {
   "cell_type": "code",
   "execution_count": 19,
   "id": "8dfef75a-400d-4d16-aa71-c0feade503de",
   "metadata": {},
   "outputs": [
    {
     "data": {
      "application/vnd.jupyter.widget-view+json": {
       "model_id": "a497eec55d1546eb926318f2840b847a",
       "version_major": 2,
       "version_minor": 0
      },
      "text/plain": [
       "NGLWidget()"
      ]
     },
     "metadata": {},
     "output_type": "display_data"
    }
   ],
   "source": [
    "pharmacophore_3.show()"
   ]
  },
  {
   "cell_type": "code",
   "execution_count": 15,
   "id": "ea8e9010-4afe-4d27-b977-b824a813363d",
   "metadata": {},
   "outputs": [
    {
     "data": {
      "text/plain": [
       "[HBAcceptorSphereAndVector(center: (16.163, 12.126, 2.521); radius: 1.0; direction: (-0.0991, 0.9107, 0.4011)),\n",
       " HBDonorSphereAndVector(center: (13.988, 12.055, 2.867); radius: 1.0; direction: (-0.1195, -0.9419, -0.3139)),\n",
       " HydrophobicSphere(center: (10.418, 11.8007, 2.3763); radius: 1.0),\n",
       " HydrophobicSphere(center: (21.7962, 17.734, 4.249); radius: 1.0),\n",
       " HydrophobicSphere(center: (17.506, 13.853, 3.414); radius: 1.0)]"
      ]
     },
     "execution_count": 15,
     "metadata": {},
     "output_type": "execute_result"
    }
   ],
   "source": [
    "pharmacophore_3.elements"
   ]
  },
  {
   "cell_type": "code",
   "execution_count": 31,
   "id": "d29ff38b-5d7a-4128-a742-67a230456dd9",
   "metadata": {},
   "outputs": [],
   "source": [
    "file_name = os.path.join(pdbs_path, pdbs[3])\n",
    "pharmacophore_4 = StructuredBasedPharmacophore().from_pdb(file_name,\n",
    "                                                          ligand_id=\"EST:A:600\",\n",
    "                                                          radius=1.0, \n",
    "                                                          hydrophobics=\"rdkit\")"
   ]
  },
  {
   "cell_type": "code",
   "execution_count": 32,
   "id": "3b938b04-a49f-4d3b-ae38-fd6677b8355d",
   "metadata": {},
   "outputs": [
    {
     "data": {
      "text/plain": [
       "[HBAcceptorSphereAndVector(center: (100.598, 17.99, 25.704); radius: 1.0; direction: (0.7872, -0.4533, 0.4182)),\n",
       " HBAcceptorSphereAndVector(center: (109.61, 12.027, 22.746); radius: 1.0; direction: (-0.5805, 0.431, 0.6908)),\n",
       " HBDonorSphereAndVector(center: (100.598, 17.99, 25.704); radius: 1.0; direction: (0.0046, 0.6614, 0.7501)),\n",
       " AromaticRingSphereAndVector(center: (102.8133, 16.7163, 24.5195); radius: 1.0; direction: (0.0937, 0.4983, -0.8619)),\n",
       " HydrophobicSphere(center: (107.379, 12.449, 24.419); radius: 1.0),\n",
       " HydrophobicSphere(center: (107.2112, 12.5732, 22.1112); radius: 1.0)]"
      ]
     },
     "execution_count": 32,
     "metadata": {},
     "output_type": "execute_result"
    }
   ],
   "source": [
    "pharmacophore_4.elements"
   ]
  },
  {
   "cell_type": "code",
   "execution_count": 28,
   "id": "a0ed7e97-5dbe-4f74-a427-d1c6ab930a1b",
   "metadata": {},
   "outputs": [
    {
     "data": {
      "image/png": "[encoded data removed]",
      "text/plain": [
       "<rdkit.Chem.rdchem.Mol at 0x7f0ebd924df0>"
      ]
     },
     "execution_count": 28,
     "metadata": {},
     "output_type": "execute_result"
    }
   ],
   "source": [
    "pharmacophore_4.ligand"
   ]
  },
  {
   "cell_type": "code",
   "execution_count": 24,
   "id": "18fb80cb-0122-4ac6-a5eb-55dac802a969",
   "metadata": {},
   "outputs": [
    {
     "data": {
      "application/vnd.jupyter.widget-view+json": {
       "model_id": "0f05db461d4148f78088fe716ab6e5cc",
       "version_major": 2,
       "version_minor": 0
      },
      "text/plain": [
       "NGLWidget()"
      ]
     },
     "metadata": {},
     "output_type": "display_data"
    }
   ],
   "source": [
    "pharmacophore_4.show()"
   ]
  }
 ],
 "metadata": {
  "kernelspec": {
   "display_name": "Python 3 (ipykernel)",
   "language": "python",
   "name": "python3"
  },
  "language_info": {
   "codemirror_mode": {
    "name": "ipython",
    "version": 3
   },
   "file_extension": ".py",
   "mimetype": "text/x-python",
   "name": "python",
   "nbconvert_exporter": "python",
   "pygments_lexer": "ipython3",
   "version": "3.7.10"
  }
 },
 "nbformat": 4,
 "nbformat_minor": 5
}
