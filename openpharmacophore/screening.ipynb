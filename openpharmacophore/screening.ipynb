{
 "cells": [
  {
   "cell_type": "markdown",
   "id": "2d71c68a-3f3c-402e-88af-59b54b15a55a",
   "metadata": {},
   "source": [
    "## Virtual Screening"
   ]
  },
  {
   "cell_type": "code",
   "execution_count": 1,
   "id": "d79a6acf-a3a6-4069-86f1-64849114d6a0",
   "metadata": {},
   "outputs": [],
   "source": [
    "%load_ext autoreload\n",
    "%autoreload 2"
   ]
  },
  {
   "cell_type": "code",
   "execution_count": 1,
   "id": "dfeaab0a-2df6-48d9-904d-99c477df3727",
   "metadata": {},
   "outputs": [
    {
     "data": {
      "application/vnd.jupyter.widget-view+json": {
       "model_id": "e62b8bcffc114e4ea3dea571d07f0bdc",
       "version_major": 2,
       "version_minor": 0
      },
      "text/plain": []
     },
     "metadata": {},
     "output_type": "display_data"
    }
   ],
   "source": [
    "from openpharmacophore.screening import VirtualScreening\n",
    "from openpharmacophore.pharmacophore import Pharmacophore\n",
    "from openpharmacophore import pharmacophoric_elements\n",
    "from openpharmacophore.structured_based import StructuredBasedPharmacophore \n",
    "import pyunitwizard as puw\n",
    "\n",
    "from rdkit import Chem, RDLogger\n",
    "RDLogger.DisableLog('rdApp.*')"
   ]
  },
  {
   "cell_type": "markdown",
   "id": "ea246750-9a29-41e9-9b9a-13c7c8d956b4",
   "metadata": {},
   "source": [
    "### Small virtual screening of a set of 5 molecules"
   ]
  },
  {
   "cell_type": "code",
   "execution_count": 2,
   "id": "757fa15e-e17b-43b0-b045-e604e7a12560",
   "metadata": {},
   "outputs": [
    {
     "data": {
      "text/plain": [
       "Pharmacophore(n_elements: 4)"
      ]
     },
     "execution_count": 2,
     "metadata": {},
     "output_type": "execute_result"
    }
   ],
   "source": [
    "elements = [\n",
    "    pharmacophoric_elements.HBAcceptorSphere(center=puw.quantity([3.877, 7.014, 1.448], \"angstroms\"),\n",
    "                                             radius=puw.quantity(1.0, \"angstroms\")),\n",
    "    pharmacophoric_elements.HBAcceptorSphere(center=puw.quantity([7.22, 11.077, 5.625], \"angstroms\"),\n",
    "                                             radius=puw.quantity(1.0, \"angstroms\")),\n",
    "    pharmacophoric_elements.HBDonorSphere(center=puw.quantity([4.778, 8.432, 7.805], \"angstroms\"),\n",
    "                                         radius=puw.quantity(1.0, \"angstroms\")),\n",
    "    pharmacophoric_elements.AromaticRingSphere(center=puw.quantity([1.56433333333334, 7.06399999999999, 3.135], \"angstroms\"),\n",
    "                                              radius=puw.quantity(1.0, \"angstroms\"))\n",
    "]\n",
    "\n",
    "pharmacophore = Pharmacophore(elements)\n",
    "pharmacophore"
   ]
  },
  {
   "cell_type": "code",
   "execution_count": 3,
   "id": "bec485aa-0ca7-461d-b1bf-7d88a35f6998",
   "metadata": {},
   "outputs": [
    {
     "data": {
      "application/vnd.jupyter.widget-view+json": {
       "model_id": "30a9f953f9c242bd93c9022fab4cb453",
       "version_major": 2,
       "version_minor": 0
      },
      "text/plain": [
       "  0%|          | 0/5 [00:00<?, ?it/s]"
      ]
     },
     "metadata": {},
     "output_type": "display_data"
    },
    {
     "name": "stdout",
     "output_type": "stream",
     "text": [
      "Couldn't embed molecule 3\n"
     ]
    }
   ],
   "source": [
    "db = ['Cc1cccc(c2n[nH]cc2c3ccc4ncccc4n3)n1',\n",
    "      'Cc1cccnc1c2nc(N)sc2c3nc4cccnc4cc3',\n",
    "      'Cc1cccc(c2[nH]c(CNc5cc(C(=O)N)ccc5)nc2c3ccc4nccnc4c3)n1',\n",
    "      'Clc1cccc(c2nc(N)sc2c3ccc4ncccc4n3)c1',\n",
    "      'n1ccccc1c2nn3CCCc3c2c4ccnc5cc(NC(=O)NCCN(C)C)ccc45']\n",
    "\n",
    "db = [Chem.MolFromSmiles(mol) for mol in db]\n",
    "\n",
    "screener = VirtualScreening()\n",
    "screener.screen_db(pharmacophore, db, verbose=2)"
   ]
  },
  {
   "cell_type": "code",
   "execution_count": 4,
   "id": "e0d0b327-5dca-4d2c-aaa5-c66f5cf55c5f",
   "metadata": {},
   "outputs": [
    {
     "data": {
      "text/plain": [
       "[(4.704080518182032, <rdkit.Chem.rdchem.Mol at 0x7ffe633f98b0>),\n",
       " (5.897339928681603, <rdkit.Chem.rdchem.Mol at 0x7ffe633f9bf0>),\n",
       " (5.365930884966929, <rdkit.Chem.rdchem.Mol at 0x7ffe633f98f0>),\n",
       " (6.3603203171138745, <rdkit.Chem.rdchem.Mol at 0x7ffe63519130>)]"
      ]
     },
     "execution_count": 4,
     "metadata": {},
     "output_type": "execute_result"
    }
   ],
   "source": [
    "screener.success"
   ]
  },
  {
   "cell_type": "code",
   "execution_count": 5,
   "id": "e24568ba-099b-4cdc-adb7-981c7218c6e6",
   "metadata": {},
   "outputs": [
    {
     "data": {
      "text/plain": [
       "1"
      ]
     },
     "execution_count": 5,
     "metadata": {},
     "output_type": "execute_result"
    }
   ],
   "source": [
    "screener.n_fails"
   ]
  },
  {
   "cell_type": "markdown",
   "id": "ae3ea67e-2387-4cae-901a-ba31ec7b0a74",
   "metadata": {},
   "source": [
    "### Virtual screening with a pharmer pharmacophore for PDB 1M70"
   ]
  },
  {
   "cell_type": "code",
   "execution_count": 6,
   "id": "a4e62ba9-a21d-4e28-b6f7-e21f22b4c7ae",
   "metadata": {},
   "outputs": [
    {
     "data": {
      "text/plain": [
       "StructuredBasedPharmacophore(n_elements: 5)"
      ]
     },
     "execution_count": 6,
     "metadata": {},
     "output_type": "execute_result"
    }
   ],
   "source": [
    "sb_pharmacophore = StructuredBasedPharmacophore().from_file(\"./data/pharmer/1M70.json\")\n",
    "sb_pharmacophore"
   ]
  },
  {
   "cell_type": "code",
   "execution_count": 7,
   "id": "55b03ccd-e1a0-4b0b-a3c0-7da0139bd970",
   "metadata": {},
   "outputs": [
    {
     "data": {
      "application/vnd.jupyter.widget-view+json": {
       "model_id": "97d91d6c527e4403a4258deb93e72099",
       "version_major": 2,
       "version_minor": 0
      },
      "text/plain": [
       "  0%|          | 0/2491 [00:00<?, ?it/s]"
      ]
     },
     "metadata": {},
     "output_type": "display_data"
    },
    {
     "name": "stdout",
     "output_type": "stream",
     "text": [
      "Screened 100 molecules. Number of matches: 0; Number of fails: 100\n",
      "Screened 200 molecules. Number of matches: 0; Number of fails: 200\n",
      "Screened 300 molecules. Number of matches: 1; Number of fails: 299\n",
      "Screened 400 molecules. Number of matches: 1; Number of fails: 399\n",
      "Screened 500 molecules. Number of matches: 1; Number of fails: 499\n",
      "Screened 600 molecules. Number of matches: 2; Number of fails: 598\n",
      "Screened 700 molecules. Number of matches: 2; Number of fails: 698\n",
      "Screened 800 molecules. Number of matches: 2; Number of fails: 798\n",
      "Screened 900 molecules. Number of matches: 2; Number of fails: 898\n",
      "Screened 1000 molecules. Number of matches: 3; Number of fails: 997\n",
      "Screened 1100 molecules. Number of matches: 4; Number of fails: 1096\n",
      "Screened 1200 molecules. Number of matches: 5; Number of fails: 1195\n",
      "Screened 1300 molecules. Number of matches: 6; Number of fails: 1294\n",
      "Screened 1400 molecules. Number of matches: 6; Number of fails: 1394\n",
      "Screened 1500 molecules. Number of matches: 6; Number of fails: 1494\n",
      "Screened 1600 molecules. Number of matches: 7; Number of fails: 1593\n",
      "Screened 1700 molecules. Number of matches: 7; Number of fails: 1693\n",
      "Screened 1800 molecules. Number of matches: 9; Number of fails: 1791\n",
      "Screened 1900 molecules. Number of matches: 9; Number of fails: 1891\n",
      "Screened 2000 molecules. Number of matches: 9; Number of fails: 1991\n",
      "Screened 2100 molecules. Number of matches: 10; Number of fails: 2090\n",
      "Screened 2200 molecules. Number of matches: 10; Number of fails: 2190\n",
      "Screened 2300 molecules. Number of matches: 10; Number of fails: 2290\n",
      "Screened 2400 molecules. Number of matches: 10; Number of fails: 2390\n"
     ]
    }
   ],
   "source": [
    "db = \"../zinc/CA/CAAA.smi\"\n",
    "sb_screener = VirtualScreening()\n",
    "sb_screener.screen_db(sb_pharmacophore, db, verbose=1)"
   ]
  },
  {
   "cell_type": "code",
   "execution_count": 8,
   "id": "168ea11f-b552-45dd-a67a-8326890c28a0",
   "metadata": {},
   "outputs": [
    {
     "name": "stdout",
     "output_type": "stream",
     "text": [
      "Number of matches: 10\n",
      "[(13.309529364388034, <rdkit.Chem.rdchem.Mol object at 0x7ffe6328c4f0>), (12.318990052324153, <rdkit.Chem.rdchem.Mol object at 0x7ffe5e66bdb0>), (20.12813979725192, <rdkit.Chem.rdchem.Mol object at 0x7ffe633c74b0>), (12.179746988105705, <rdkit.Chem.rdchem.Mol object at 0x7ffe633c76b0>), (15.227405279725247, <rdkit.Chem.rdchem.Mol object at 0x7ffe63519230>), (17.12695992310207, <rdkit.Chem.rdchem.Mol object at 0x7ffe633c7130>), (14.3907834927587, <rdkit.Chem.rdchem.Mol object at 0x7ffe632896f0>), (16.351752521086, <rdkit.Chem.rdchem.Mol object at 0x7ffe633c78b0>), (21.700119662129424, <rdkit.Chem.rdchem.Mol object at 0x7ffe6323ed70>), (21.802180808114954, <rdkit.Chem.rdchem.Mol object at 0x7ffe6328c370>)]\n"
     ]
    }
   ],
   "source": [
    "print(\"Number of matches: {}\".format(sb_screener.n_success))\n",
    "print(sb_screener.success)"
   ]
  }
 ],
 "metadata": {
  "kernelspec": {
   "display_name": "Python 3 (ipykernel)",
   "language": "python",
   "name": "python3"
  },
  "language_info": {
   "codemirror_mode": {
    "name": "ipython",
    "version": 3
   },
   "file_extension": ".py",
   "mimetype": "text/x-python",
   "name": "python",
   "nbconvert_exporter": "python",
   "pygments_lexer": "ipython3",
   "version": "3.7.10"
  }
 },
 "nbformat": 4,
 "nbformat_minor": 5
}
