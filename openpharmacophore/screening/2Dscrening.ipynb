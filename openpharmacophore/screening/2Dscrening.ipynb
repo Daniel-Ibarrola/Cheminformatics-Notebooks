{
 "cells": [
  {
   "cell_type": "code",
   "execution_count": 1,
   "id": "e1c7a5f4-6341-4f37-b3cc-94fa3f1566a2",
   "metadata": {},
   "outputs": [],
   "source": [
    "%load_ext autoreload\n",
    "%autoreload 2"
   ]
  },
  {
   "cell_type": "markdown",
   "id": "8cd56dac-0008-4554-a33a-a5b93e55b4ae",
   "metadata": {},
   "source": [
    "### Virtual Screening with a pharmacophore fingerprint"
   ]
  },
  {
   "cell_type": "code",
   "execution_count": 2,
   "id": "0024d234-ce7d-4f92-b914-d11e2dab27c2",
   "metadata": {},
   "outputs": [
    {
     "data": {
      "application/vnd.jupyter.widget-view+json": {
       "model_id": "99c4ae6834f04b34955b3bd89cb6db69",
       "version_major": 2,
       "version_minor": 0
      },
      "text/plain": []
     },
     "metadata": {},
     "output_type": "display_data"
    }
   ],
   "source": [
    "from openpharmacophore.screening.screening2D import VirtualScreening2D\n",
    "import time\n",
    "\n",
    "from rdkit import Chem, RDLogger\n",
    "RDLogger.DisableLog('rdApp.*')"
   ]
  },
  {
   "cell_type": "markdown",
   "id": "c73e3f32-0c69-4ada-982f-f5aaa3afdbb4",
   "metadata": {},
   "source": [
    "## Scan a list of Molecules"
   ]
  },
  {
   "cell_type": "code",
   "execution_count": 4,
   "id": "d1495af9-4a2d-47f9-bd70-3bae10ed552b",
   "metadata": {},
   "outputs": [],
   "source": [
    "mols = ['Cc1cccc(c2n[nH]cc2c3ccc4ncccc4n3)n1',\n",
    "      'Cc1cccnc1c2nc(N)sc2c3nc4cccnc4cc3',\n",
    "      'Cc1cccc(c2[nH]c(CNc5cc(C(=O)N)ccc5)nc2c3ccc4nccnc4c3)n1',\n",
    "      'Clc1cccc(c2nc(N)sc2c3ccc4ncccc4n3)c1',\n",
    "      'n1ccccc1c2nn3CCCc3c2c4ccnc5cc(NC(=O)NCCN(C)C)ccc45']\n",
    "\n",
    "mols = [Chem.MolFromSmiles(mol) for mol in mols]\n",
    "\n",
    "query_mol = mols[0]\n",
    "screener = VirtualScreening2D(query_mol)\n",
    "screener.screen_mol_list(mols)"
   ]
  },
  {
   "cell_type": "code",
   "execution_count": 5,
   "id": "14b51c40-e664-4e8c-a1ce-947ab0a9d880",
   "metadata": {},
   "outputs": [
    {
     "name": "stdout",
     "output_type": "stream",
     "text": [
      "Number of molecules scaned: 5\n",
      "Number of molecules aligned to pharmacophore: 1\n",
      "Number of molecules that didn't match the pharmacophore: 4\n",
      "[(1.0, None, <rdkit.Chem.rdchem.Mol object at 0x7f70c0308b20>)]\n"
     ]
    }
   ],
   "source": [
    "print(\"Number of molecules scaned: {}\".format(screener.n_molecules))\n",
    "print(\"Number of molecules aligned to pharmacophore: {}\".format(screener.n_matches))\n",
    "print(\"Number of molecules that didn't match the pharmacophore: {}\".format(screener.n_fails))\n",
    "print(screener.matches)"
   ]
  },
  {
   "cell_type": "markdown",
   "id": "0ebb0bd3-9d36-4ef5-969b-0077aad764ea",
   "metadata": {},
   "source": [
    "## Scan a file"
   ]
  },
  {
   "cell_type": "code",
   "execution_count": 3,
   "id": "a76cedca-f0a2-4206-b7a6-0705721f0f73",
   "metadata": {},
   "outputs": [
    {
     "data": {
      "image/png": "[encoded data removed]",
      "text/plain": [
       "<rdkit.Chem.rdchem.Mol at 0x7f9a243c1e40>"
      ]
     },
     "execution_count": 3,
     "metadata": {},
     "output_type": "execute_result"
    }
   ],
   "source": [
    "molecule = Chem.MolFromSmiles(\"CCCCc1nc(Cl)c(C(=O)O)n1Cc4ccc(c2ccccc2c3nnn[nH]3)cc4\")\n",
    "molecule"
   ]
  },
  {
   "cell_type": "code",
   "execution_count": 4,
   "id": "d57f80c9-9e2b-44bc-90bf-3bbbdb7631dd",
   "metadata": {},
   "outputs": [
    {
     "name": "stdout",
     "output_type": "stream",
     "text": [
      "File scanned!\n"
     ]
    }
   ],
   "source": [
    "# Scan a file\n",
    "file_path = \"../../data/Databases/zinc/AAAA.smi\"\n",
    "screener_2d = VirtualScreening2D(molecule, \"tanimoto\", 0.8)\n",
    "screener_2d.screen_db_from_dir(file_path)"
   ]
  },
  {
   "cell_type": "code",
   "execution_count": 5,
   "id": "26259ebe-e648-4742-a326-3b7f4ad02a28",
   "metadata": {},
   "outputs": [
    {
     "name": "stdout",
     "output_type": "stream",
     "text": [
      "Virtual Screening Results\n",
      "-------------------------\n",
      "\n",
      "Molecules scanned:                                4,166\n",
      "Molecules matched to pharmacophore:                   0\n",
      "Molecules that didn't match the pharmacophore:    4,166\n"
     ]
    }
   ],
   "source": [
    "screener_2d.print_report()"
   ]
  },
  {
   "cell_type": "code",
   "execution_count": 9,
   "id": "b3cab8c9-6c1c-440e-92e9-5249972bb29c",
   "metadata": {},
   "outputs": [
    {
     "data": {
      "application/vnd.jupyter.widget-view+json": {
       "model_id": "b8aeacac4e3a420e90d3a69f02a7bd44",
       "version_major": 2,
       "version_minor": 0
      },
      "text/plain": [
       "  0%|          | 0/7 [00:00<?, ?it/s]"
      ]
     },
     "metadata": {},
     "output_type": "display_data"
    },
    {
     "name": "stdout",
     "output_type": "stream",
     "text": [
      "(0.6600331674958541, 'CHEMBL49170', <rdkit.Chem.rdchem.Mol object at 0x7f99b2e30030>)\n",
      "(0.7021630615640599, 'CHEMBL51399', <rdkit.Chem.rdchem.Mol object at 0x7f99b2c76b20>)\n",
      "(0.5229226361031518, 'CHEMBL298950', <rdkit.Chem.rdchem.Mol object at 0x7f99b2c6da80>)\n",
      "(0.5443708609271524, 'CHEMBL298632', <rdkit.Chem.rdchem.Mol object at 0x7f99b2c71a30>)\n",
      "(0.5386666666666666, 'CHEMBL300882', <rdkit.Chem.rdchem.Mol object at 0x7f99b2c75300>)\n",
      "(0.547945205479452, 'CHEMBL299809', <rdkit.Chem.rdchem.Mol object at 0x7f99b2d18bc0>)\n",
      "(0.8974358974358975, 'CHEMBL907', <rdkit.Chem.rdchem.Mol object at 0x7f99b2d18df0>)\n",
      "(0.5420875420875421, 'CHEMBL22001', <rdkit.Chem.rdchem.Mol object at 0x7f99b2fa7670>)\n",
      "(0.7165354330708661, 'CHEMBL283975', <rdkit.Chem.rdchem.Mol object at 0x7f99b2d48bc0>)\n",
      "(0.6964809384164223, 'CHEMBL281386', <rdkit.Chem.rdchem.Mol object at 0x7f99b2d49df0>)\n",
      "(0.5598705501618123, 'CHEMBL430339', <rdkit.Chem.rdchem.Mol object at 0x7f99b2d4a0d0>)\n",
      "(0.5969529085872576, 'CHEMBL430535', <rdkit.Chem.rdchem.Mol object at 0x7f99b2d4a440>)\n",
      "(0.7883333333333333, 'CHEMBL431887', <rdkit.Chem.rdchem.Mol object at 0x7f99b2d4a490>)\n",
      "(0.7883333333333333, 'CHEMBL21713', <rdkit.Chem.rdchem.Mol object at 0x7f99b2d4a6c0>)\n",
      "(0.650231124807396, 'CHEMBL22069', <rdkit.Chem.rdchem.Mol object at 0x7f99b2d4aa30>)\n",
      "(0.7883333333333333, 'CHEMBL21946', <rdkit.Chem.rdchem.Mol object at 0x7f99b2d4bf80>)\n",
      "(0.6438127090301003, 'CHEMBL22167', <rdkit.Chem.rdchem.Mol object at 0x7f99b2d4c030>)\n",
      "(0.6357504215851602, 'CHEMBL280412', <rdkit.Chem.rdchem.Mol object at 0x7f99b2d4d350>)\n",
      "(0.5475372279495991, 'CHEMBL23048', <rdkit.Chem.rdchem.Mol object at 0x7f99b2d50ee0>)\n",
      "(0.7883333333333333, 'CHEMBL22796', <rdkit.Chem.rdchem.Mol object at 0x7f99b2d52530>)\n",
      "(0.6301169590643275, 'CHEMBL267056', <rdkit.Chem.rdchem.Mol object at 0x7f99b2c36120>)\n",
      "(0.5750332005312085, 'CHEMBL7478', <rdkit.Chem.rdchem.Mol object at 0x7f99b2e2a580>)\n",
      "(0.5137614678899083, 'CHEMBL7396', <rdkit.Chem.rdchem.Mol object at 0x7f99b2e2a1c0>)\n",
      "(0.6570561456752656, 'CHEMBL429008', <rdkit.Chem.rdchem.Mol object at 0x7f99b2e0c490>)\n",
      "(0.569023569023569, 'CHEMBL274447', <rdkit.Chem.rdchem.Mol object at 0x7f99b2e8d710>)\n",
      "(0.592896174863388, 'CHEMBL276381', <rdkit.Chem.rdchem.Mol object at 0x7f99b2e8d8a0>)\n",
      "(0.568659127625202, 'CHEMBL12190', <rdkit.Chem.rdchem.Mol object at 0x7f99b2e8dda0>)\n",
      "(0.5625, 'CHEMBL430279', <rdkit.Chem.rdchem.Mol object at 0x7f99b2e8d260>)\n",
      "(0.5489566613162119, 'CHEMBL27589', <rdkit.Chem.rdchem.Mol object at 0x7f99b2f50c60>)\n",
      "(0.5085271317829457, 'CHEMBL285127', <rdkit.Chem.rdchem.Mol object at 0x7f99b2f50e40>)\n",
      "(0.5563025210084034, 'CHEMBL280530', <rdkit.Chem.rdchem.Mol object at 0x7f99b38853f0>)\n",
      "(0.5126903553299492, 'CHEMBL26321', <rdkit.Chem.rdchem.Mol object at 0x7f99b2e32850>)\n",
      "(0.5844907407407407, 'CHEMBL433230', <rdkit.Chem.rdchem.Mol object at 0x7f99b2e15d50>)\n",
      "(0.5786350148367952, 'CHEMBL288705', <rdkit.Chem.rdchem.Mol object at 0x7f99b2c47b20>)\n",
      "(0.5020804438280166, 'CHEMBL43500', <rdkit.Chem.rdchem.Mol object at 0x7f99b2d4e3a0>)\n",
      "(0.5764331210191083, 'CHEMBL298464', <rdkit.Chem.rdchem.Mol object at 0x7f99b2d53260>)\n",
      "(0.5173501577287066, 'CHEMBL46822', <rdkit.Chem.rdchem.Mol object at 0x7f99b2d543f0>)\n",
      "(0.5173501577287066, 'CHEMBL45102', <rdkit.Chem.rdchem.Mol object at 0x7f99b2d54440>)\n",
      "(0.5764331210191083, 'CHEMBL295456', <rdkit.Chem.rdchem.Mol object at 0x7f99b2d54490>)\n"
     ]
    }
   ],
   "source": [
    "# Scan a directory\n",
    "file_path = \"../../data/Databases/Chembl/\"\n",
    "screener_2d = VirtualScreening2D(molecule, \"tanimoto\", 0.5)\n",
    "screener_2d.screen_db_from_dir(file_path)"
   ]
  },
  {
   "cell_type": "code",
   "execution_count": 26,
   "id": "d70173e8-23de-4fe8-8d0d-c76907e41611",
   "metadata": {},
   "outputs": [
    {
     "name": "stdout",
     "output_type": "stream",
     "text": [
      "Virtual Screening Results\n",
      "-------------------------\n",
      "\n",
      "Molecules scanned:                               60,427\n",
      "Molecules matched to pharmacophore:                  39\n",
      "Molecules that didn't match the pharmacophore:   60,388\n",
      "Lowest  Similarity value:     0.5021\n",
      "Highest Similarity value:     0.8974\n",
      "Average Similarity value:     0.6104\n",
      "\n",
      "Top 5 molecules:\n",
      "\n",
      "   ID     Similarity\n",
      "-------       ------\n",
      "CHEMBL907     0.8974\n",
      "CHEMBL431887  0.7883\n",
      "CHEMBL22796   0.7883\n",
      "CHEMBL21946   0.7883\n",
      "CHEMBL21713   0.7883\n",
      "\n"
     ]
    }
   ],
   "source": [
    "screener_2d.print_report()"
   ]
  },
  {
   "cell_type": "code",
   "execution_count": 24,
   "id": "79e311f1-8531-4374-972b-9fd039bd92ef",
   "metadata": {},
   "outputs": [
    {
     "data": {
      "text/plain": [
       "[(0.5020804438280166,\n",
       "  'CHEMBL43500',\n",
       "  <rdkit.Chem.rdchem.Mol at 0x7f99b2d4e3a0>),\n",
       " (0.5085271317829457,\n",
       "  'CHEMBL285127',\n",
       "  <rdkit.Chem.rdchem.Mol at 0x7f99b2f50e40>),\n",
       " (0.5126903553299492,\n",
       "  'CHEMBL26321',\n",
       "  <rdkit.Chem.rdchem.Mol at 0x7f99b2e32850>)]"
      ]
     },
     "execution_count": 24,
     "metadata": {},
     "output_type": "execute_result"
    }
   ],
   "source": [
    "screener_2d.similar_mols[0:3]"
   ]
  },
  {
   "cell_type": "markdown",
   "id": "23652549-2ed6-406a-80b2-a967f5233645",
   "metadata": {},
   "source": [
    "## Scan subset of ZINC"
   ]
  },
  {
   "cell_type": "code",
   "execution_count": 27,
   "id": "31f58d53-5ca1-4603-b033-e995fe4235fc",
   "metadata": {},
   "outputs": [
    {
     "name": "stdout",
     "output_type": "stream",
     "text": [
      "Downloading from ZINC...\n"
     ]
    },
    {
     "data": {
      "application/vnd.jupyter.widget-view+json": {
       "model_id": "9af65e281c0b48679b5d76b8377ffcdd",
       "version_major": 2,
       "version_minor": 0
      },
      "text/plain": [
       "  0%|          | 0/31 [00:00<?, ?it/s]"
      ]
     },
     "metadata": {},
     "output_type": "display_data"
    },
    {
     "name": "stdout",
     "output_type": "stream",
     "text": [
      "Processing files...\n"
     ]
    },
    {
     "data": {
      "application/vnd.jupyter.widget-view+json": {
       "model_id": "9f9332163cfe4877815656a32b591099",
       "version_major": 2,
       "version_minor": 0
      },
      "text/plain": [
       "  0%|          | 0/32 [00:00<?, ?it/s]"
      ]
     },
     "metadata": {},
     "output_type": "display_data"
    },
    {
     "name": "stdout",
     "output_type": "stream",
     "text": [
      "Finished screening ZINC database\n"
     ]
    }
   ],
   "source": [
    "zinc_screener = VirtualScreening2D(molecule, \"tanimoto\", 0.6)\n",
    "zinc_screener.screen_db(db=\"zinc\",\n",
    "                        download_dir=None,\n",
    "                        subset=None, \n",
    "                        mw_range=(250,300), \n",
    "                        logp_range=(1,2))"
   ]
  },
  {
   "cell_type": "code",
   "execution_count": 24,
   "id": "4a32f0c0-0649-459d-8875-17b8880b184f",
   "metadata": {},
   "outputs": [
    {
     "name": "stdout",
     "output_type": "stream",
     "text": [
      "Virtual Screening Results\n",
      "-------------------------\n",
      "\n",
      "Molecules scanned:                              516,224\n",
      "Molecules matched to pharmacophore:                   0\n",
      "Molecules that didn't match the pharmacophore: 7,860,708\n"
     ]
    }
   ],
   "source": [
    "zinc_screener.print_report()"
   ]
  }
 ],
 "metadata": {
  "kernelspec": {
   "display_name": "Python 3 (ipykernel)",
   "language": "python",
   "name": "python3"
  },
  "language_info": {
   "codemirror_mode": {
    "name": "ipython",
    "version": 3
   },
   "file_extension": ".py",
   "mimetype": "text/x-python",
   "name": "python",
   "nbconvert_exporter": "python",
   "pygments_lexer": "ipython3",
   "version": "3.7.10"
  }
 },
 "nbformat": 4,
 "nbformat_minor": 5
}
