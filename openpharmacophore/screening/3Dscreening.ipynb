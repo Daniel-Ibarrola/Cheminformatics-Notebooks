{
 "cells": [
  {
   "cell_type": "markdown",
   "id": "2d71c68a-3f3c-402e-88af-59b54b15a55a",
   "metadata": {},
   "source": [
    "## Virtual Screening"
   ]
  },
  {
   "cell_type": "code",
   "execution_count": 1,
   "id": "d79a6acf-a3a6-4069-86f1-64849114d6a0",
   "metadata": {},
   "outputs": [],
   "source": [
    "%load_ext autoreload\n",
    "%autoreload 2"
   ]
  },
  {
   "cell_type": "code",
   "execution_count": 31,
   "id": "dfeaab0a-2df6-48d9-904d-99c477df3727",
   "metadata": {},
   "outputs": [],
   "source": [
    "from openpharmacophore.screening.screening3D import VirtualScreening3D\n",
    "from openpharmacophore.pharmacophore import Pharmacophore\n",
    "from openpharmacophore import pharmacophoric_elements\n",
    "from openpharmacophore.structured_based import StructuredBasedPharmacophore \n",
    "import pyunitwizard as puw\n",
    "\n",
    "from rdkit import Chem, RDLogger\n",
    "RDLogger.DisableLog('rdApp.*')\n",
    "\n",
    "import time"
   ]
  },
  {
   "cell_type": "markdown",
   "id": "ea246750-9a29-41e9-9b9a-13c7c8d956b4",
   "metadata": {},
   "source": [
    "### Small virtual screening of a list of 5 molecules"
   ]
  },
  {
   "cell_type": "code",
   "execution_count": 3,
   "id": "757fa15e-e17b-43b0-b045-e604e7a12560",
   "metadata": {},
   "outputs": [
    {
     "data": {
      "text/plain": [
       "Pharmacophore(n_elements: 4)"
      ]
     },
     "execution_count": 3,
     "metadata": {},
     "output_type": "execute_result"
    }
   ],
   "source": [
    "elements = [\n",
    "    pharmacophoric_elements.HBAcceptorSphere(center=puw.quantity([3.877, 7.014, 1.448], \"angstroms\"),\n",
    "                                             radius=puw.quantity(1.0, \"angstroms\")),\n",
    "    pharmacophoric_elements.HBAcceptorSphere(center=puw.quantity([7.22, 11.077, 5.625], \"angstroms\"),\n",
    "                                             radius=puw.quantity(1.0, \"angstroms\")),\n",
    "    pharmacophoric_elements.HBDonorSphere(center=puw.quantity([4.778, 8.432, 7.805], \"angstroms\"),\n",
    "                                         radius=puw.quantity(1.0, \"angstroms\")),\n",
    "    pharmacophoric_elements.AromaticRingSphere(center=puw.quantity([1.56433333333334, 7.06399999999999, 3.135], \"angstroms\"),\n",
    "                                              radius=puw.quantity(1.0, \"angstroms\"))\n",
    "]\n",
    "\n",
    "pharmacophore = Pharmacophore(elements)\n",
    "pharmacophore"
   ]
  },
  {
   "cell_type": "code",
   "execution_count": 5,
   "id": "bec485aa-0ca7-461d-b1bf-7d88a35f6998",
   "metadata": {},
   "outputs": [
    {
     "data": {
      "application/vnd.jupyter.widget-view+json": {
       "model_id": "03f88e6ac2ae4f64b0ba4b714f23e535",
       "version_major": 2,
       "version_minor": 0
      },
      "text/plain": [
       "  0%|          | 0/5 [00:00<?, ?it/s]"
      ]
     },
     "metadata": {},
     "output_type": "display_data"
    },
    {
     "name": "stdout",
     "output_type": "stream",
     "text": [
      "Couldn't embed molecule 3\n"
     ]
    }
   ],
   "source": [
    "mols = ['Cc1cccc(c2n[nH]cc2c3ccc4ncccc4n3)n1',\n",
    "      'Cc1cccnc1c2nc(N)sc2c3nc4cccnc4cc3',\n",
    "      'Cc1cccc(c2[nH]c(CNc5cc(C(=O)N)ccc5)nc2c3ccc4nccnc4c3)n1',\n",
    "      'Clc1cccc(c2nc(N)sc2c3ccc4ncccc4n3)c1',\n",
    "      'n1ccccc1c2nn3CCCc3c2c4ccnc5cc(NC(=O)NCCN(C)C)ccc45']\n",
    "\n",
    "mols = [Chem.MolFromSmiles(mol) for mol in mols]\n",
    "\n",
    "screener = VirtualScreening3D(pharmacophore)\n",
    "screener._align_molecules(mols, verbose=2)"
   ]
  },
  {
   "cell_type": "code",
   "execution_count": 6,
   "id": "e0d0b327-5dca-4d2c-aaa5-c66f5cf55c5f",
   "metadata": {},
   "outputs": [
    {
     "name": "stdout",
     "output_type": "stream",
     "text": [
      "Number of molecules scaned: 5\n",
      "Number of molecules aligned to pharmacophore: 4\n",
      "Number of molecules that didn't match the pharmacophore: 1\n",
      "[(4.70411856635215, <rdkit.Chem.rdchem.Mol object at 0x7fdab1277df0>), (5.890963357713666, <rdkit.Chem.rdchem.Mol object at 0x7fdab124fdf0>), (5.368822003302398, <rdkit.Chem.rdchem.Mol object at 0x7fdab124f370>), (6.35723689660432, <rdkit.Chem.rdchem.Mol object at 0x7fdab124f2f0>)]\n"
     ]
    }
   ],
   "source": [
    "print(\"Number of molecules scaned: {}\".format(screener.n_molecules))\n",
    "print(\"Number of molecules aligned to pharmacophore: {}\".format(screener.n_aligned_mols))\n",
    "print(\"Number of molecules that didn't match the pharmacophore: {}\".format(screener.n_fails))\n",
    "print(screener.aligned_mols)"
   ]
  },
  {
   "cell_type": "markdown",
   "id": "ae3ea67e-2387-4cae-901a-ba31ec7b0a74",
   "metadata": {},
   "source": [
    "### Virtual screening of a .smi file with a pharmer pharmacophore for PDB 1M70"
   ]
  },
  {
   "cell_type": "code",
   "execution_count": 8,
   "id": "a4e62ba9-a21d-4e28-b6f7-e21f22b4c7ae",
   "metadata": {},
   "outputs": [
    {
     "data": {
      "text/plain": [
       "StructuredBasedPharmacophore(n_elements: 5)"
      ]
     },
     "execution_count": 8,
     "metadata": {},
     "output_type": "execute_result"
    }
   ],
   "source": [
    "sb_pharmacophore = StructuredBasedPharmacophore().from_file(\"../../data/Pharmacophores/pharmer/1M70.json\")\n",
    "sb_pharmacophore"
   ]
  },
  {
   "cell_type": "code",
   "execution_count": 14,
   "id": "55b03ccd-e1a0-4b0b-a3c0-7da0139bd970",
   "metadata": {},
   "outputs": [
    {
     "data": {
      "application/vnd.jupyter.widget-view+json": {
       "model_id": "989c59b632b74be59481b4e28af871c2",
       "version_major": 2,
       "version_minor": 0
      },
      "text/plain": [
       "  0%|          | 0/4166 [00:00<?, ?it/s]"
      ]
     },
     "metadata": {},
     "output_type": "display_data"
    },
    {
     "name": "stdout",
     "output_type": "stream",
     "text": [
      "Screened 100 molecules. Number of matches: 0; Number of fails: 100\n",
      "Screened 200 molecules. Number of matches: 0; Number of fails: 200\n",
      "Screened 300 molecules. Number of matches: 0; Number of fails: 300\n",
      "Screened 400 molecules. Number of matches: 0; Number of fails: 400\n",
      "Screened 500 molecules. Number of matches: 0; Number of fails: 500\n",
      "Screened 600 molecules. Number of matches: 0; Number of fails: 600\n",
      "Screened 700 molecules. Number of matches: 0; Number of fails: 700\n",
      "Screened 800 molecules. Number of matches: 0; Number of fails: 800\n",
      "Screened 900 molecules. Number of matches: 0; Number of fails: 900\n",
      "Screened 1000 molecules. Number of matches: 0; Number of fails: 1000\n",
      "Screened 1100 molecules. Number of matches: 0; Number of fails: 1100\n",
      "Screened 1200 molecules. Number of matches: 0; Number of fails: 1200\n",
      "Screened 1300 molecules. Number of matches: 0; Number of fails: 1300\n",
      "Screened 1400 molecules. Number of matches: 0; Number of fails: 1400\n",
      "Screened 1500 molecules. Number of matches: 0; Number of fails: 1500\n",
      "Screened 1600 molecules. Number of matches: 0; Number of fails: 1600\n",
      "Screened 1700 molecules. Number of matches: 0; Number of fails: 1700\n",
      "Screened 1800 molecules. Number of matches: 0; Number of fails: 1800\n",
      "Screened 1900 molecules. Number of matches: 0; Number of fails: 1900\n",
      "Screened 2000 molecules. Number of matches: 0; Number of fails: 2000\n",
      "Screened 2100 molecules. Number of matches: 0; Number of fails: 2100\n",
      "Screened 2200 molecules. Number of matches: 1; Number of fails: 2199\n",
      "Screened 2300 molecules. Number of matches: 1; Number of fails: 2299\n",
      "Screened 2400 molecules. Number of matches: 1; Number of fails: 2399\n",
      "Screened 2500 molecules. Number of matches: 1; Number of fails: 2499\n",
      "Screened 2600 molecules. Number of matches: 1; Number of fails: 2599\n",
      "Screened 2700 molecules. Number of matches: 1; Number of fails: 2699\n",
      "Screened 2800 molecules. Number of matches: 1; Number of fails: 2799\n",
      "Screened 2900 molecules. Number of matches: 1; Number of fails: 2899\n",
      "Screened 3000 molecules. Number of matches: 1; Number of fails: 2999\n",
      "Screened 3100 molecules. Number of matches: 1; Number of fails: 3099\n",
      "Screened 3200 molecules. Number of matches: 1; Number of fails: 3199\n",
      "Screened 3300 molecules. Number of matches: 1; Number of fails: 3299\n",
      "Screened 3400 molecules. Number of matches: 1; Number of fails: 3399\n",
      "Screened 3500 molecules. Number of matches: 1; Number of fails: 3499\n",
      "Screened 3600 molecules. Number of matches: 1; Number of fails: 3599\n",
      "Screened 3700 molecules. Number of matches: 1; Number of fails: 3699\n",
      "Screened 3800 molecules. Number of matches: 1; Number of fails: 3799\n",
      "Screened 3900 molecules. Number of matches: 1; Number of fails: 3899\n",
      "Screened 4000 molecules. Number of matches: 1; Number of fails: 3999\n",
      "Screened 4100 molecules. Number of matches: 1; Number of fails: 4099\n"
     ]
    }
   ],
   "source": [
    "file = \"../../data/Databases/zinc/AAAA.smi\"\n",
    "sb_screener = VirtualScreening3D(sb_pharmacophore)\n",
    "# mols_list = sb_screener._load_molecules_file(file)\n",
    "#sb_screener._align_molecules(mols_list, verbose=1)\n",
    "sb_screener.screen_db_from_dir(file)"
   ]
  },
  {
   "cell_type": "code",
   "execution_count": 15,
   "id": "168ea11f-b552-45dd-a67a-8326890c28a0",
   "metadata": {},
   "outputs": [
    {
     "name": "stdout",
     "output_type": "stream",
     "text": [
      "Number of molecules scaned: 4166\n",
      "Number of molecules aligned to pharmacophore: 1\n",
      "Number of molecules that didn't match the pharmacophore: 4165\n",
      "[(10.708703676691911, <rdkit.Chem.rdchem.Mol object at 0x7fdaab93c5b0>)]\n"
     ]
    }
   ],
   "source": [
    "print(\"Number of molecules scaned: {}\".format(sb_screener.n_molecules))\n",
    "print(\"Number of molecules aligned to pharmacophore: {}\".format(sb_screener.n_aligned_mols))\n",
    "print(\"Number of molecules that didn't match the pharmacophore: {}\".format(sb_screener.n_fails))\n",
    "print(sb_screener.aligned_mols)"
   ]
  },
  {
   "cell_type": "markdown",
   "id": "6dd0ccf5-1960-435c-9d28-ceed0d329d0c",
   "metadata": {},
   "source": [
    "### Virtual screening of a ZINC database"
   ]
  },
  {
   "cell_type": "code",
   "execution_count": null,
   "id": "634ba162-3a03-4f52-8ea7-b39018adf634",
   "metadata": {},
   "outputs": [],
   "source": [
    "zinc_screener = VirtualScreening3D(sb_pharmacophore)\n",
    "zinc_screener.screen_db(db=\"zinc\", \n",
    "                        save_files=False, \n",
    "                        subset=None, \n",
    "                        mw_range=(250,300), \n",
    "                        logp_range=(1,2))"
   ]
  }
 ],
 "metadata": {
  "kernelspec": {
   "display_name": "Python 3 (ipykernel)",
   "language": "python",
   "name": "python3"
  },
  "language_info": {
   "codemirror_mode": {
    "name": "ipython",
    "version": 3
   },
   "file_extension": ".py",
   "mimetype": "text/x-python",
   "name": "python",
   "nbconvert_exporter": "python",
   "pygments_lexer": "ipython3",
   "version": "3.7.10"
  }
 },
 "nbformat": 4,
 "nbformat_minor": 5
}
