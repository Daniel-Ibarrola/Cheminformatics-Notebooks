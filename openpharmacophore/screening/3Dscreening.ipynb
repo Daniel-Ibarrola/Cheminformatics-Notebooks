{
 "cells": [
  {
   "cell_type": "markdown",
   "id": "2d71c68a-3f3c-402e-88af-59b54b15a55a",
   "metadata": {},
   "source": [
    "# 3D Virtual Screening of a list of molecules and a smi file"
   ]
  },
  {
   "cell_type": "code",
   "execution_count": 1,
   "id": "d79a6acf-a3a6-4069-86f1-64849114d6a0",
   "metadata": {},
   "outputs": [],
   "source": [
    "%load_ext autoreload\n",
    "%autoreload 2"
   ]
  },
  {
   "cell_type": "code",
   "execution_count": 3,
   "id": "dfeaab0a-2df6-48d9-904d-99c477df3727",
   "metadata": {},
   "outputs": [],
   "source": [
    "from openpharmacophore.screening.screening3D import VirtualScreening3D\n",
    "from openpharmacophore.pharmacophore import Pharmacophore\n",
    "from openpharmacophore.pharmacophoric_point import PharmacophoricPoint\n",
    "from openpharmacophore.structured_based import StructuredBasedPharmacophore \n",
    "import pyunitwizard as puw\n",
    "\n",
    "from rdkit import Chem, RDLogger\n",
    "RDLogger.DisableLog('rdApp.*')\n",
    "\n",
    "import time"
   ]
  },
  {
   "cell_type": "markdown",
   "id": "ea246750-9a29-41e9-9b9a-13c7c8d956b4",
   "metadata": {},
   "source": [
    "### Small virtual screening of a list of 5 molecules"
   ]
  },
  {
   "cell_type": "code",
   "execution_count": 4,
   "id": "757fa15e-e17b-43b0-b045-e604e7a12560",
   "metadata": {},
   "outputs": [
    {
     "data": {
      "text/plain": [
       "Pharmacophore(n_elements: 4)"
      ]
     },
     "execution_count": 4,
     "metadata": {},
     "output_type": "execute_result"
    }
   ],
   "source": [
    "elements = [\n",
    "    PharmacophoricPoint(feat_type=\"hb acceptor\", center=puw.quantity([3.877, 7.014, 1.448], \"angstroms\"),\n",
    "                                             radius=puw.quantity(1.0, \"angstroms\")),\n",
    "    PharmacophoricPoint(feat_type=\"hb acceptor\", center=puw.quantity([7.22, 11.077, 5.625], \"angstroms\"),\n",
    "                                             radius=puw.quantity(1.0, \"angstroms\")),\n",
    "    PharmacophoricPoint(feat_type=\"hb donor\", center=puw.quantity([4.778, 8.432, 7.805], \"angstroms\"),\n",
    "                                         radius=puw.quantity(1.0, \"angstroms\")),\n",
    "    PharmacophoricPoint(feat_type=\"aromatic ring\", center=puw.quantity([1.56433333333334, 7.06399999999999, 3.135], \"angstroms\"),\n",
    "                                              radius=puw.quantity(1.0, \"angstroms\"))\n",
    "]\n",
    "\n",
    "pharmacophore = Pharmacophore(elements)\n",
    "pharmacophore"
   ]
  },
  {
   "cell_type": "code",
   "execution_count": 5,
   "id": "bec485aa-0ca7-461d-b1bf-7d88a35f6998",
   "metadata": {},
   "outputs": [
    {
     "name": "stdout",
     "output_type": "stream",
     "text": [
      "Couldn't embed molecule 3\n"
     ]
    }
   ],
   "source": [
    "mols = ['Cc1cccc(c2n[nH]cc2c3ccc4ncccc4n3)n1',\n",
    "      'Cc1cccnc1c2nc(N)sc2c3nc4cccnc4cc3',\n",
    "      'Cc1cccc(c2[nH]c(CNc5cc(C(=O)N)ccc5)nc2c3ccc4nccnc4c3)n1',\n",
    "      'Clc1cccc(c2nc(N)sc2c3ccc4ncccc4n3)c1',\n",
    "      'n1ccccc1c2nn3CCCc3c2c4ccnc5cc(NC(=O)NCCN(C)C)ccc45']\n",
    "\n",
    "mols = [Chem.MolFromSmiles(mol) for mol in mols]\n",
    "\n",
    "screener = VirtualScreening3D(pharmacophore)\n",
    "screener.screen_mol_list(mols, verbose=2)"
   ]
  },
  {
   "cell_type": "code",
   "execution_count": 6,
   "id": "28653257-efe4-48c6-8b64-2c1587612872",
   "metadata": {},
   "outputs": [
    {
     "name": "stdout",
     "output_type": "stream",
     "text": [
      "Virtual Screening Results\n",
      "-------------------------\n",
      "\n",
      "Molecules scanned:                                    5\n",
      "Molecules matched to pharmacophore:                   4\n",
      "Molecules that didn't match the pharmacophore:        1\n",
      "Lowest  SSD value:     4.7041\n",
      "Highest SSD value:     6.3572\n",
      "Average SSD value:     5.5803\n",
      "\n",
      "Top 4 molecules:\n",
      "\n",
      "   ID            SSD\n",
      "-------       ------\n",
      "None          4.7041\n",
      "None          5.3688\n",
      "None           5.891\n",
      "None          6.3572\n",
      "\n"
     ]
    }
   ],
   "source": [
    "screener.print_report()"
   ]
  },
  {
   "cell_type": "markdown",
   "id": "ae3ea67e-2387-4cae-901a-ba31ec7b0a74",
   "metadata": {},
   "source": [
    "### Virtual screening of a .smi file with a pharmer pharmacophore for PDB 1M70"
   ]
  },
  {
   "cell_type": "code",
   "execution_count": 7,
   "id": "a4e62ba9-a21d-4e28-b6f7-e21f22b4c7ae",
   "metadata": {},
   "outputs": [
    {
     "data": {
      "text/plain": [
       "StructuredBasedPharmacophore(n_elements: 5)"
      ]
     },
     "execution_count": 7,
     "metadata": {},
     "output_type": "execute_result"
    }
   ],
   "source": [
    "sb_pharmacophore = StructuredBasedPharmacophore().from_file(\"../../data/Pharmacophores/pharmer/1M70.json\")\n",
    "sb_pharmacophore"
   ]
  },
  {
   "cell_type": "code",
   "execution_count": 8,
   "id": "55b03ccd-e1a0-4b0b-a3c0-7da0139bd970",
   "metadata": {},
   "outputs": [
    {
     "name": "stdout",
     "output_type": "stream",
     "text": [
      "File scanned!\n"
     ]
    }
   ],
   "source": [
    "file = \"../../data/Databases/zinc/AAAA.smi\"\n",
    "sb_screener = VirtualScreening3D(sb_pharmacophore)\n",
    "sb_screener.screen_db_from_dir(file)"
   ]
  },
  {
   "cell_type": "code",
   "execution_count": 9,
   "id": "54c0f9e9-09e5-46cd-a81c-876061e765e1",
   "metadata": {},
   "outputs": [
    {
     "name": "stdout",
     "output_type": "stream",
     "text": [
      "Virtual Screening Results\n",
      "-------------------------\n",
      "\n",
      "Molecules scanned:                                4,166\n",
      "Molecules matched to pharmacophore:                   1\n",
      "Molecules that didn't match the pharmacophore:    4,165\n",
      "Lowest  SSD value:    10.7087\n",
      "Highest SSD value:    10.7087\n",
      "Average SSD value:    10.7087\n",
      "\n",
      "Top 1 molecules:\n",
      "\n",
      "   ID            SSD\n",
      "-------       ------\n",
      "895081       10.7087\n",
      "\n"
     ]
    }
   ],
   "source": [
    "sb_screener.print_report()"
   ]
  },
  {
   "cell_type": "code",
   "execution_count": 10,
   "id": "7d5ffe2e-7c3b-4333-b296-07bcfdf62742",
   "metadata": {},
   "outputs": [
    {
     "name": "stdout",
     "output_type": "stream",
     "text": [
      "[(10.708703676691911, '895081', <rdkit.Chem.rdchem.Mol object at 0x7fb6c025b3f0>)]\n"
     ]
    }
   ],
   "source": [
    "print(sb_screener.aligned_mols)"
   ]
  },
  {
   "cell_type": "code",
   "execution_count": 11,
   "id": "cafd00c8-32cb-4073-937d-41caa0de44cf",
   "metadata": {},
   "outputs": [
    {
     "data": {
      "image/png": "[encoded data removed]",
      "text/plain": [
       "<rdkit.Chem.rdchem.Mol at 0x7fb6c025b3f0>"
      ]
     },
     "execution_count": 11,
     "metadata": {},
     "output_type": "execute_result"
    }
   ],
   "source": [
    "matched_mol = sb_screener.aligned_mols[0][-1]\n",
    "matched_mol"
   ]
  }
 ],
 "metadata": {
  "kernelspec": {
   "display_name": "Python 3 (ipykernel)",
   "language": "python",
   "name": "python3"
  },
  "language_info": {
   "codemirror_mode": {
    "name": "ipython",
    "version": 3
   },
   "file_extension": ".py",
   "mimetype": "text/x-python",
   "name": "python",
   "nbconvert_exporter": "python",
   "pygments_lexer": "ipython3",
   "version": "3.7.10"
  }
 },
 "nbformat": 4,
 "nbformat_minor": 5
}
