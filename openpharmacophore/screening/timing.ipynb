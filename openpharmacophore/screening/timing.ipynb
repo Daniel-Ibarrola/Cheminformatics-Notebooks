{
 "cells": [
  {
   "cell_type": "code",
   "execution_count": 1,
   "id": "c5a034d6-a157-4917-a970-673bdf8f8fe3",
   "metadata": {},
   "outputs": [],
   "source": [
    "%load_ext autoreload\n",
    "%autoreload 2"
   ]
  },
  {
   "cell_type": "markdown",
   "id": "b418b5f7-7d73-4da3-ad1e-a4c7c0c2ff07",
   "metadata": {},
   "source": [
    "### Screening ZINC Database"
   ]
  },
  {
   "cell_type": "code",
   "execution_count": 2,
   "id": "8bbc28f6-fa63-4447-9e23-8a5423e82952",
   "metadata": {},
   "outputs": [
    {
     "data": {
      "application/vnd.jupyter.widget-view+json": {
       "model_id": "65fa00a2972c405a83135275a1331e74",
       "version_major": 2,
       "version_minor": 0
      },
      "text/plain": []
     },
     "metadata": {},
     "output_type": "display_data"
    }
   ],
   "source": [
    "from openpharmacophore.screening.screening3D import VirtualScreening3D\n",
    "from openpharmacophore.structured_based import StructuredBasedPharmacophore \n",
    "\n",
    "import time\n",
    "\n",
    "from rdkit import Chem, RDLogger\n",
    "RDLogger.DisableLog('rdApp.*')"
   ]
  },
  {
   "cell_type": "code",
   "execution_count": 4,
   "id": "f2d33d13-1e88-4ad3-8378-c20b8ed84291",
   "metadata": {},
   "outputs": [
    {
     "data": {
      "text/plain": [
       "StructuredBasedPharmacophore(n_elements: 5)"
      ]
     },
     "execution_count": 4,
     "metadata": {},
     "output_type": "execute_result"
    }
   ],
   "source": [
    "sb_pharmacophore = StructuredBasedPharmacophore().from_file(\"../../data/Pharmacophores/pharmer/1M70.json\")\n",
    "sb_pharmacophore"
   ]
  },
  {
   "cell_type": "code",
   "execution_count": 5,
   "id": "fe08cdf8-5bc1-4ff0-8d8e-b0c0a73d5142",
   "metadata": {},
   "outputs": [
    {
     "name": "stdout",
     "output_type": "stream",
     "text": [
      "Downloading from ZINC...\n"
     ]
    },
    {
     "data": {
      "application/vnd.jupyter.widget-view+json": {
       "model_id": "47eaa5f9cc404816a989c98dd83d9773",
       "version_major": 2,
       "version_minor": 0
      },
      "text/plain": [
       "  0%|          | 0/32 [00:00<?, ?it/s]"
      ]
     },
     "metadata": {},
     "output_type": "display_data"
    },
    {
     "name": "stdout",
     "output_type": "stream",
     "text": [
      "--- 64.02409720420837 seconds ---\n"
     ]
    }
   ],
   "source": [
    "start_time = time.time()\n",
    "zinc_screener = VirtualScreening3D(sb_pharmacophore)\n",
    "zinc_screener.screen_db(db=\"zinc\", \n",
    "                        save_files=False, \n",
    "                        subset=None, \n",
    "                        mw_range=(250,300), \n",
    "                        logp_range=(1,2))\n",
    "print(\"--- %s seconds ---\" % (time.time() - start_time))"
   ]
  },
  {
   "cell_type": "code",
   "execution_count": 6,
   "id": "f7d85d03-7c68-49d2-8bf1-697fb07f59f9",
   "metadata": {},
   "outputs": [
    {
     "data": {
      "application/vnd.jupyter.widget-view+json": {
       "model_id": "8536bae22f8e403c945d1a2abac4fd15",
       "version_major": 2,
       "version_minor": 0
      },
      "text/plain": [
       "  0%|          | 0/3369 [00:00<?, ?it/s]"
      ]
     },
     "metadata": {},
     "output_type": "display_data"
    },
    {
     "name": "stdout",
     "output_type": "stream",
     "text": [
      "Screened 100 molecules. Number of matches: 0; Number of fails: 100\n",
      "Screened 200 molecules. Number of matches: 0; Number of fails: 200\n",
      "Screened 300 molecules. Number of matches: 0; Number of fails: 300\n",
      "Screened 400 molecules. Number of matches: 0; Number of fails: 400\n",
      "Screened 500 molecules. Number of matches: 0; Number of fails: 500\n",
      "Screened 600 molecules. Number of matches: 0; Number of fails: 600\n",
      "Screened 700 molecules. Number of matches: 0; Number of fails: 700\n",
      "Screened 800 molecules. Number of matches: 0; Number of fails: 800\n",
      "Screened 900 molecules. Number of matches: 0; Number of fails: 900\n",
      "Screened 1000 molecules. Number of matches: 0; Number of fails: 1000\n",
      "Screened 1100 molecules. Number of matches: 0; Number of fails: 1100\n",
      "Screened 1200 molecules. Number of matches: 0; Number of fails: 1200\n",
      "Screened 1300 molecules. Number of matches: 0; Number of fails: 1300\n",
      "Screened 1400 molecules. Number of matches: 0; Number of fails: 1400\n",
      "Screened 1500 molecules. Number of matches: 0; Number of fails: 1500\n",
      "Screened 1600 molecules. Number of matches: 0; Number of fails: 1600\n",
      "Screened 1700 molecules. Number of matches: 0; Number of fails: 1700\n",
      "Screened 1800 molecules. Number of matches: 0; Number of fails: 1800\n",
      "Screened 1900 molecules. Number of matches: 0; Number of fails: 1900\n",
      "Screened 2000 molecules. Number of matches: 0; Number of fails: 2000\n",
      "Screened 2100 molecules. Number of matches: 0; Number of fails: 2100\n",
      "Screened 2200 molecules. Number of matches: 0; Number of fails: 2200\n",
      "Screened 2300 molecules. Number of matches: 0; Number of fails: 2300\n",
      "Screened 2400 molecules. Number of matches: 0; Number of fails: 2400\n",
      "Screened 2500 molecules. Number of matches: 0; Number of fails: 2500\n",
      "Screened 2600 molecules. Number of matches: 0; Number of fails: 2600\n",
      "Screened 2700 molecules. Number of matches: 0; Number of fails: 2700\n",
      "Screened 2800 molecules. Number of matches: 0; Number of fails: 2800\n",
      "Screened 2900 molecules. Number of matches: 0; Number of fails: 2900\n",
      "Screened 3000 molecules. Number of matches: 0; Number of fails: 3000\n",
      "Screened 3100 molecules. Number of matches: 0; Number of fails: 3100\n",
      "Screened 3200 molecules. Number of matches: 0; Number of fails: 3200\n",
      "Screened 3300 molecules. Number of matches: 0; Number of fails: 3300\n",
      "--- 42.452553510665894 seconds ---\n"
     ]
    }
   ],
   "source": [
    "start_time = time.time()\n",
    "path = \"./tmp\"\n",
    "zinc_screener.screen_db_from_dir(path)\n",
    "print(\"--- %s seconds ---\" % (time.time() - start_time))"
   ]
  },
  {
   "cell_type": "code",
   "execution_count": 5,
   "id": "8d7619da-8985-4c74-a31e-b841e5f77909",
   "metadata": {},
   "outputs": [
    {
     "name": "stdout",
     "output_type": "stream",
     "text": [
      "Downloading from ZINC...\n"
     ]
    },
    {
     "data": {
      "application/vnd.jupyter.widget-view+json": {
       "model_id": "78c8c1a7448146e9bd7d06dc6df278f8",
       "version_major": 2,
       "version_minor": 0
      },
      "text/plain": [
       "  0%|          | 0/31 [00:00<?, ?it/s]"
      ]
     },
     "metadata": {},
     "output_type": "display_data"
    },
    {
     "name": "stdout",
     "output_type": "stream",
     "text": [
      "Processing files...\n"
     ]
    },
    {
     "data": {
      "application/vnd.jupyter.widget-view+json": {
       "model_id": "fe4ada6fe2d54fa18c7871aee364e6fc",
       "version_major": 2,
       "version_minor": 0
      },
      "text/plain": [
       "  0%|          | 0/32 [00:00<?, ?it/s]"
      ]
     },
     "metadata": {},
     "output_type": "display_data"
    },
    {
     "name": "stdout",
     "output_type": "stream",
     "text": [
      "Finished screening ZINC database\n",
      "--- 233.7837851047516 seconds ---\n"
     ]
    }
   ],
   "source": [
    "start_time = time.time()\n",
    "zinc_screener = VirtualScreening3D(sb_pharmacophore)\n",
    "zinc_screener.screen_db(db=\"zinc\",\n",
    "                        download_dir=None,\n",
    "                        subset=None, \n",
    "                        mw_range=(250,300), \n",
    "                        logp_range=(1,2))\n",
    "print(\"--- %s seconds ---\" % (time.time() - start_time))"
   ]
  },
  {
   "cell_type": "code",
   "execution_count": 7,
   "id": "acf8314f-4e10-4d0d-9519-0af8d6c9f609",
   "metadata": {},
   "outputs": [
    {
     "name": "stdout",
     "output_type": "stream",
     "text": [
      "Virtual Screening Results\n",
      "-------------------------\n",
      "\n",
      "Molecules scanned:                              516,224\n",
      "Molecules matched to pharmacophore:                  68\n",
      "Molecules that didn't match the pharmacophore:  516,156\n",
      "Lowest  SSD value:     3.0941\n",
      "Highest SSD value:     36.293\n",
      "Average SSD value:     15.731\n",
      "\n",
      "Top 5 molecules:\n",
      "\n",
      "ZINCID          SSD\n",
      "-------       ------\n",
      "2504543       3.0941\n",
      "3193106       7.2743\n",
      "1733876       7.7274\n",
      "4900356       7.9954\n",
      "2539631        8.669\n",
      "\n"
     ]
    }
   ],
   "source": [
    "zinc_screener.print_report()"
   ]
  },
  {
   "cell_type": "code",
   "execution_count": 8,
   "id": "fa9e2d93-cda4-442f-b424-7780a041d07e",
   "metadata": {},
   "outputs": [
    {
     "data": {
      "text/plain": [
       "[(3.094051620458032, '2504543', <rdkit.Chem.rdchem.Mol at 0x7f0ff643b2f0>),\n",
       " (7.2743272524259766, '3193106', <rdkit.Chem.rdchem.Mol at 0x7f0ff5bbe970>),\n",
       " (7.7273896294395, '1733876', <rdkit.Chem.rdchem.Mol at 0x7f0ff59e6070>)]"
      ]
     },
     "execution_count": 8,
     "metadata": {},
     "output_type": "execute_result"
    }
   ],
   "source": [
    "zinc_screener.aligned_mols[0:3]"
   ]
  },
  {
   "cell_type": "code",
   "execution_count": 20,
   "id": "bd707383-d06c-4ace-80c3-af4d0e1bd07f",
   "metadata": {},
   "outputs": [],
   "source": [
    "zinc_screener.save_results_to_file(\"./screen_results.csv\")"
   ]
  },
  {
   "cell_type": "code",
   "execution_count": null,
   "id": "5b76a591-0e2d-4625-8f1f-edccaa1d23a6",
   "metadata": {},
   "outputs": [],
   "source": []
  }
 ],
 "metadata": {
  "kernelspec": {
   "display_name": "Python 3 (ipykernel)",
   "language": "python",
   "name": "python3"
  },
  "language_info": {
   "codemirror_mode": {
    "name": "ipython",
    "version": 3
   },
   "file_extension": ".py",
   "mimetype": "text/x-python",
   "name": "python",
   "nbconvert_exporter": "python",
   "pygments_lexer": "ipython3",
   "version": "3.7.10"
  }
 },
 "nbformat": 4,
 "nbformat_minor": 5
}
