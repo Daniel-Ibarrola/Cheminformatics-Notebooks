{
 "cells": [
  {
   "cell_type": "code",
   "execution_count": 1,
   "id": "f117298d-4a6a-4afb-93ab-80a9d154a906",
   "metadata": {},
   "outputs": [],
   "source": [
    "%load_ext autoreload\n",
    "%autoreload 2"
   ]
  },
  {
   "cell_type": "markdown",
   "id": "7d12e685-ef29-4edf-a9c3-ba5e4f9d78e6",
   "metadata": {},
   "source": [
    "## Retrospective Virtual Screening"
   ]
  },
  {
   "cell_type": "code",
   "execution_count": 2,
   "id": "49565a53-94c7-43b5-a3b1-2b246b8e4f56",
   "metadata": {},
   "outputs": [
    {
     "data": {
      "application/vnd.jupyter.widget-view+json": {
       "model_id": "0b030ca5a65345d0befe2033bbf81bf7",
       "version_major": 2,
       "version_minor": 0
      },
      "text/plain": []
     },
     "metadata": {},
     "output_type": "display_data"
    }
   ],
   "source": [
    "from openpharmacophore.screening.screening3D import RetrospectiveScreening3D\n",
    "from openpharmacophore.structured_based import StructuredBasedPharmacophore\n",
    "\n",
    "import os\n",
    "import pickle"
   ]
  },
  {
   "cell_type": "markdown",
   "id": "d08d1d3a-d22c-4d36-820b-6e0d2a03a66c",
   "metadata": {},
   "source": [
    "### Load PubChem bioactivity data for Estrogen Receptor 1 (ESR1)\n",
    "\n",
    "Bioactivity data was taken from the PubChem assay 713."
   ]
  },
  {
   "cell_type": "code",
   "execution_count": 3,
   "id": "9696f0ce-c0df-43db-9e86-fc80b18f5162",
   "metadata": {},
   "outputs": [
    {
     "name": "stdout",
     "output_type": "stream",
     "text": [
      "Number of actives 221\n",
      "Number of inactives 218\n"
     ]
    }
   ],
   "source": [
    "data_dir = \"../../data/ligands\"\n",
    "esr1_file = \"pubchem_data_esr1\"\n",
    "\n",
    "with open(os.path.join(data_dir, esr1_file), \"rb\") as f:\n",
    "    esr1_data = pickle.load(f)\n",
    "\n",
    "actives = esr1_data[\"actives\"]\n",
    "inactives = esr1_data[\"inactives\"]\n",
    "print(\"Number of actives {}\".format(len(actives[0])))\n",
    "print(\"Number of inactives {}\".format(len(inactives[0])))"
   ]
  },
  {
   "cell_type": "markdown",
   "id": "47dc92ea-57a2-427e-bdff-e322dde1c0d6",
   "metadata": {},
   "source": [
    "## ESR1 Pharmacophore\n",
    "A pharmacophore for ESR1 is elucidated. The corresponding PDB entry for the estrogen receptor complexed with estradiol is 1QKU"
   ]
  },
  {
   "cell_type": "code",
   "execution_count": 17,
   "id": "5744b4a1-7275-4510-87df-3d87cc21048b",
   "metadata": {},
   "outputs": [
    {
     "name": "stdout",
     "output_type": "stream",
     "text": [
      "1QKU PDB contains the following ligands:\n",
      "\n",
      "EST:A:600\n",
      "EST:B:600\n",
      "EST:C:600\n",
      "\n",
      "Please enter for which one the pharmacophore should be computed \n"
     ]
    },
    {
     "name": "stdin",
     "output_type": "stream",
     "text": [
      " EST:A:600\n"
     ]
    },
    {
     "data": {
      "text/plain": [
       "StructuredBasedPharmacophore(n_elements: 6)"
      ]
     },
     "execution_count": 17,
     "metadata": {},
     "output_type": "execute_result"
    }
   ],
   "source": [
    "# file = \"../../data/pdbs/1qku.pdb\"\n",
    "pdb_id = \"1QKU\"\n",
    "pharmacophore = StructuredBasedPharmacophore().from_pdb(pdb_id)\n",
    "pharmacophore"
   ]
  },
  {
   "cell_type": "code",
   "execution_count": 18,
   "id": "75450021-3298-4f3a-a826-23dfecae983b",
   "metadata": {},
   "outputs": [
    {
     "data": {
      "image/png": "[encoded data removed]",
      "text/plain": [
       "<rdkit.Chem.rdchem.Mol at 0x7f2d37a92030>"
      ]
     },
     "execution_count": 18,
     "metadata": {},
     "output_type": "execute_result"
    }
   ],
   "source": [
    "pharmacophore.ligand"
   ]
  },
  {
   "cell_type": "code",
   "execution_count": 19,
   "id": "043b7b9e-9cc5-4a77-a63d-4102f551ac5e",
   "metadata": {},
   "outputs": [
    {
     "data": {
      "text/plain": [
       "1"
      ]
     },
     "execution_count": 19,
     "metadata": {},
     "output_type": "execute_result"
    }
   ],
   "source": [
    "pharmacophore.ligand.GetNumConformers()"
   ]
  },
  {
   "cell_type": "code",
   "execution_count": 20,
   "id": "753a1c94-3593-4950-8a96-593cbd69fbbc",
   "metadata": {},
   "outputs": [
    {
     "data": {
      "application/vnd.jupyter.widget-view+json": {
       "model_id": "a979eefb47e140868ddea4a6f836999d",
       "version_major": 2,
       "version_minor": 0
      },
      "text/plain": [
       "NGLWidget()"
      ]
     },
     "metadata": {},
     "output_type": "display_data"
    }
   ],
   "source": [
    "pharmacophore.show()"
   ]
  },
  {
   "cell_type": "code",
   "execution_count": null,
   "id": "17c05f03-e024-4f7d-a974-2485dd20b73e",
   "metadata": {},
   "outputs": [],
   "source": [
    "screener = RetrospectiveScreening3D()"
   ]
  },
  {
   "cell_type": "markdown",
   "id": "c6e0c9fb-36e5-45ab-af2e-3d6d959b6a38",
   "metadata": {
    "tags": []
   },
   "source": [
    "### Load ChemBl bioactivity data for Epidermal growth factor receptor (EGFR)"
   ]
  },
  {
   "cell_type": "code",
   "execution_count": 6,
   "id": "af4ebda8-11d3-4746-bdf0-e601fb681d63",
   "metadata": {},
   "outputs": [
    {
     "name": "stdout",
     "output_type": "stream",
     "text": [
      "Number of actives 3509\n",
      "Number of inactives 2543\n"
     ]
    }
   ],
   "source": [
    "egfr_file = \"chembl_data_egfr\"\n",
    "\n",
    "with open(os.path.join(data_dir, egfr_file), \"rb\") as f:\n",
    "    egfr_data = pickle.load(f)\n",
    "\n",
    "actives = egfr_data[\"actives\"]\n",
    "inactives = egfr_data[\"inactives\"]\n",
    "print(\"Number of actives {}\".format(len(actives[0])))\n",
    "print(\"Number of inactives {}\".format(len(inactives[0])))"
   ]
  }
 ],
 "metadata": {
  "kernelspec": {
   "display_name": "Python 3 (ipykernel)",
   "language": "python",
   "name": "python3"
  },
  "language_info": {
   "codemirror_mode": {
    "name": "ipython",
    "version": 3
   },
   "file_extension": ".py",
   "mimetype": "text/x-python",
   "name": "python",
   "nbconvert_exporter": "python",
   "pygments_lexer": "ipython3",
   "version": "3.7.10"
  }
 },
 "nbformat": 4,
 "nbformat_minor": 5
}
