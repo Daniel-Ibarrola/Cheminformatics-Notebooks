{
 "cells": [
  {
   "cell_type": "code",
   "execution_count": 1,
   "id": "c5a034d6-a157-4917-a970-673bdf8f8fe3",
   "metadata": {},
   "outputs": [],
   "source": [
    "%load_ext autoreload\n",
    "%autoreload 2"
   ]
  },
  {
   "cell_type": "markdown",
   "id": "b418b5f7-7d73-4da3-ad1e-a4c7c0c2ff07",
   "metadata": {},
   "source": [
    "# Virtual Screening of ZINC Database"
   ]
  },
  {
   "cell_type": "code",
   "execution_count": 13,
   "id": "8bbc28f6-fa63-4447-9e23-8a5423e82952",
   "metadata": {},
   "outputs": [],
   "source": [
    "from openpharmacophore.screening.screening3D import VirtualScreening3D\n",
    "from openpharmacophore.structured_based import StructuredBasedPharmacophore \n",
    "\n",
    "import copy\n",
    "\n",
    "from rdkit import Chem, RDLogger\n",
    "from rdkit.Chem import Draw\n",
    "RDLogger.DisableLog('rdApp.*')"
   ]
  },
  {
   "cell_type": "markdown",
   "id": "6e9b6d2a-8bb6-4bf5-b859-ce0085f50ac7",
   "metadata": {
    "tags": []
   },
   "source": [
    "## Pharmacophore model for Plasmodium Falciparum Triosephosphate isomerase\n",
    "\n",
    "ZINC database will be screened using an structured based pharmacophore obtained with pharmer for this protein whose pdb  id is 1M7O. "
   ]
  },
  {
   "cell_type": "code",
   "execution_count": 4,
   "id": "f2d33d13-1e88-4ad3-8378-c20b8ed84291",
   "metadata": {},
   "outputs": [
    {
     "data": {
      "text/plain": [
       "StructuredBasedPharmacophore(n_elements: 5)"
      ]
     },
     "execution_count": 4,
     "metadata": {},
     "output_type": "execute_result"
    }
   ],
   "source": [
    "sb_pharmacophore = StructuredBasedPharmacophore().from_file(\"../../data/Pharmacophores/pharmer/1M70.json\")\n",
    "sb_pharmacophore"
   ]
  },
  {
   "cell_type": "code",
   "execution_count": 5,
   "id": "8a6d217e-5ffa-4af7-b961-65e4ff447d0a",
   "metadata": {},
   "outputs": [
    {
     "data": {
      "application/vnd.jupyter.widget-view+json": {
       "model_id": "e834668c56ec4e7491c1c503a9bb8d00",
       "version_major": 2,
       "version_minor": 0
      },
      "text/plain": [
       "NGLWidget()"
      ]
     },
     "metadata": {},
     "output_type": "display_data"
    }
   ],
   "source": [
    "sb_pharmacophore.show()"
   ]
  },
  {
   "cell_type": "markdown",
   "id": "8a6f7a17-de73-4bce-8732-ec1e0061866b",
   "metadata": {},
   "source": [
    "# Screen ZINC with the pharmacophore model"
   ]
  },
  {
   "cell_type": "code",
   "execution_count": 6,
   "id": "8d7619da-8985-4c74-a31e-b841e5f77909",
   "metadata": {},
   "outputs": [
    {
     "name": "stdout",
     "output_type": "stream",
     "text": [
      "Downloading from ZINC...\n"
     ]
    },
    {
     "data": {
      "application/vnd.jupyter.widget-view+json": {
       "model_id": "1abff1fd5d414c1ea691cce40c731837",
       "version_major": 2,
       "version_minor": 0
      },
      "text/plain": [
       "  0%|          | 0/31 [00:00<?, ?it/s]"
      ]
     },
     "metadata": {},
     "output_type": "display_data"
    },
    {
     "name": "stdout",
     "output_type": "stream",
     "text": [
      "Processing files...\n"
     ]
    },
    {
     "data": {
      "application/vnd.jupyter.widget-view+json": {
       "model_id": "aba68686bb994fc2a4c4e2ff6d590c58",
       "version_major": 2,
       "version_minor": 0
      },
      "text/plain": [
       "  0%|          | 0/32 [00:00<?, ?it/s]"
      ]
     },
     "metadata": {},
     "output_type": "display_data"
    },
    {
     "name": "stdout",
     "output_type": "stream",
     "text": [
      "Finished screening ZINC database\n"
     ]
    }
   ],
   "source": [
    "zinc_screener = VirtualScreening3D(sb_pharmacophore)\n",
    "zinc_screener.screen_ZINC(\n",
    "                        download_path=None,\n",
    "                        subset=None, \n",
    "                        mw_range=(250,300), \n",
    "                        logp_range=(1,2))"
   ]
  },
  {
   "cell_type": "code",
   "execution_count": 7,
   "id": "acf8314f-4e10-4d0d-9519-0af8d6c9f609",
   "metadata": {},
   "outputs": [
    {
     "name": "stdout",
     "output_type": "stream",
     "text": [
      "Virtual Screening Results\n",
      "-------------------------\n",
      "\n",
      "Molecules scanned:                              819,817\n",
      "Molecules matched to pharmacophore:                  67\n",
      "Molecules that didn't match the pharmacophore:  819,750\n",
      "Lowest  SSD value:     3.0941\n",
      "Highest SSD value:     36.293\n",
      "Average SSD value:    15.7605\n",
      "\n",
      "Top 5 molecules:\n",
      "\n",
      "ZINCID          SSD\n",
      "-------       ------\n",
      "2504543       3.0941\n",
      "3193106       7.2743\n",
      "1733876       7.7274\n",
      "4900356       7.9954\n",
      "2539631        8.669\n",
      "\n"
     ]
    }
   ],
   "source": [
    "zinc_screener.print_report()"
   ]
  },
  {
   "cell_type": "code",
   "execution_count": 8,
   "id": "fa9e2d93-cda4-442f-b424-7780a041d07e",
   "metadata": {},
   "outputs": [
    {
     "data": {
      "text/plain": [
       "[(3.094051620458032, '2504543', <rdkit.Chem.rdchem.Mol at 0x7f957ad7cdf0>),\n",
       " (7.2743272524259766, '3193106', <rdkit.Chem.rdchem.Mol at 0x7f957ac8eb70>),\n",
       " (7.7273896294395, '1733876', <rdkit.Chem.rdchem.Mol at 0x7f957ac8ea30>)]"
      ]
     },
     "execution_count": 8,
     "metadata": {},
     "output_type": "execute_result"
    }
   ],
   "source": [
    "zinc_screener.aligned_mols[0:3]"
   ]
  },
  {
   "cell_type": "code",
   "execution_count": 9,
   "id": "bd707383-d06c-4ace-80c3-af4d0e1bd07f",
   "metadata": {},
   "outputs": [],
   "source": [
    "zinc_screener.save_results_to_file(\"./screen_results.csv\")"
   ]
  },
  {
   "cell_type": "code",
   "execution_count": 18,
   "id": "5b76a591-0e2d-4625-8f1f-edccaa1d23a6",
   "metadata": {},
   "outputs": [
    {
     "data": {
      "image/png": "[encoded data removed]",
      "text/plain": [
       "<PIL.PngImagePlugin.PngImageFile image mode=RGB size=1000x200 at 0x7F9579096E50>"
      ]
     },
     "execution_count": 18,
     "metadata": {},
     "output_type": "execute_result"
    }
   ],
   "source": [
    "# Visualize top 5 molecules\n",
    "top5 = [copy.deepcopy(mol[-1]) for mol in zinc_screener.aligned_mols[0:5]]\n",
    "for molecule in top5:\n",
    "    molecule.RemoveAllConformers()\n",
    "img = Draw.MolsToGridImage(top5, molsPerRow=5, returnPNG=False, legends=[x.GetProp(\"_Name\") for x in top5])\n",
    "img"
   ]
  }
 ],
 "metadata": {
  "kernelspec": {
   "display_name": "Python 3 (ipykernel)",
   "language": "python",
   "name": "python3"
  },
  "language_info": {
   "codemirror_mode": {
    "name": "ipython",
    "version": 3
   },
   "file_extension": ".py",
   "mimetype": "text/x-python",
   "name": "python",
   "nbconvert_exporter": "python",
   "pygments_lexer": "ipython3",
   "version": "3.7.10"
  }
 },
 "nbformat": 4,
 "nbformat_minor": 5
}
