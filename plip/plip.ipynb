{
 "cells": [
  {
   "cell_type": "markdown",
   "id": "ffcef87f-1551-4603-a14f-947a1dfb8f64",
   "metadata": {},
   "source": [
    "# Protein-ligand interacions for 1NCR using PLIP"
   ]
  },
  {
   "cell_type": "code",
   "execution_count": 32,
   "id": "8b44f91d-2258-4e1f-bd59-45784c38910c",
   "metadata": {},
   "outputs": [],
   "source": [
    "from plip.structure.preparation import PDBComplex\n",
    "import numpy as np\n",
    "import os\n",
    "\n",
    "import pandas as pd\n",
    "from io import StringIO, BytesIO"
   ]
  },
  {
   "cell_type": "markdown",
   "id": "f82d031f-fd3a-435f-a3f3-2c03f4c30a74",
   "metadata": {},
   "source": [
    "## Calculate interactions"
   ]
  },
  {
   "cell_type": "code",
   "execution_count": 2,
   "id": "61b7c7f1-43f8-4928-939b-30e0a29962bf",
   "metadata": {},
   "outputs": [
    {
     "name": "stdout",
     "output_type": "stream",
     "text": [
      "Protein structure 1ncr with ligands:\n",
      "ZN:A:6000\n",
      "W11:A:7001\n",
      "MYR:D:4000\n"
     ]
    }
   ],
   "source": [
    "my_mol = PDBComplex()\n",
    "\n",
    "# Load the PDB file into PLIP class\n",
    "my_mol.load_pdb('../data/pdbs/1ncr.pdb')\n",
    "\n",
    "# Shows name of structure and ligand binding sites\n",
    "print(my_mol) \n",
    "\n",
    "# Unique binding site identifier (HetID:Chain:Position)\n",
    "my_bsid = 'W11:A:7001' \n",
    "my_mol.analyze()\n",
    "my_interactions = my_mol.interaction_sets[my_bsid] # Contains all interaction data"
   ]
  },
  {
   "cell_type": "markdown",
   "id": "76486710-1dc3-4131-934c-b5e57c1aeb3e",
   "metadata": {},
   "source": [
    "### Analyze molecular system "
   ]
  },
  {
   "cell_type": "code",
   "execution_count": 3,
   "id": "d3cb2d71-7a2f-4104-a230-4eab66f8301e",
   "metadata": {},
   "outputs": [],
   "source": [
    "pdb_string = my_mol.corrected_pdb"
   ]
  },
  {
   "cell_type": "code",
   "execution_count": 4,
   "id": "1cefca21-e331-4045-8744-ff1769acd54b",
   "metadata": {},
   "outputs": [
    {
     "data": {
      "text/plain": [
       "6717"
      ]
     },
     "execution_count": 4,
     "metadata": {},
     "output_type": "execute_result"
    }
   ],
   "source": [
    "from rdkit import Chem\n",
    "\n",
    "mol_system = Chem.rdmolfiles.MolFromPDBBlock(pdb_string)\n",
    "mol_system.GetNumAtoms()"
   ]
  },
  {
   "cell_type": "code",
   "execution_count": 6,
   "id": "3392cdc7-2f1c-47ae-8aef-d6908b40dd12",
   "metadata": {},
   "outputs": [
    {
     "data": {
      "text/plain": [
       "rdkit.Chem.rdchem.Mol"
      ]
     },
     "execution_count": 6,
     "metadata": {},
     "output_type": "execute_result"
    }
   ],
   "source": [
    "type(mol_system)"
   ]
  },
  {
   "cell_type": "code",
   "execution_count": 11,
   "id": "4c0fd53b-b6d5-43a8-bb6b-778ed866493f",
   "metadata": {},
   "outputs": [
    {
     "data": {
      "application/vnd.jupyter.widget-view+json": {
       "model_id": "34110bf136a54a75a1387ffcf988f9af",
       "version_major": 2,
       "version_minor": 0
      },
      "text/plain": []
     },
     "metadata": {},
     "output_type": "display_data"
    },
    {
     "data": {
      "application/vnd.jupyter.widget-view+json": {
       "model_id": "c39938e11f4a4f33a860f80454b3739f",
       "version_major": 2,
       "version_minor": 0
      },
      "text/plain": [
       "NGLWidget()"
      ]
     },
     "metadata": {},
     "output_type": "display_data"
    }
   ],
   "source": [
    "import nglview as nv\n",
    "\n",
    "view = nv.show_rdkit(mol_system)\n",
    "view "
   ]
  },
  {
   "cell_type": "code",
   "execution_count": 12,
   "id": "17f72e51-8f5d-4b19-ad7c-0a7f446f7ba4",
   "metadata": {},
   "outputs": [
    {
     "data": {
      "text/html": [
       "<style type=\"text/css\">\n",
       "</style>\n",
       "<table id=\"T_6cd0a_\">\n",
       "  <thead>\n",
       "    <tr>\n",
       "      <th class=\"col_heading level0 col0\" >form</th>\n",
       "      <th class=\"col_heading level0 col1\" >n_atoms</th>\n",
       "      <th class=\"col_heading level0 col2\" >n_groups</th>\n",
       "      <th class=\"col_heading level0 col3\" >n_components</th>\n",
       "      <th class=\"col_heading level0 col4\" >n_chains</th>\n",
       "      <th class=\"col_heading level0 col5\" >n_molecules</th>\n",
       "      <th class=\"col_heading level0 col6\" >n_entities</th>\n",
       "      <th class=\"col_heading level0 col7\" >n_waters</th>\n",
       "      <th class=\"col_heading level0 col8\" >n_ions</th>\n",
       "      <th class=\"col_heading level0 col9\" >n_small_molecules</th>\n",
       "      <th class=\"col_heading level0 col10\" >n_peptides</th>\n",
       "      <th class=\"col_heading level0 col11\" >n_proteins</th>\n",
       "      <th class=\"col_heading level0 col12\" >n_frames</th>\n",
       "    </tr>\n",
       "  </thead>\n",
       "  <tbody>\n",
       "    <tr>\n",
       "      <td id=\"T_6cd0a_row0_col0\" class=\"data row0 col0\" >molsysmt.MolSys</td>\n",
       "      <td id=\"T_6cd0a_row0_col1\" class=\"data row0 col1\" >6717</td>\n",
       "      <td id=\"T_6cd0a_row0_col2\" class=\"data row0 col2\" >1145</td>\n",
       "      <td id=\"T_6cd0a_row0_col3\" class=\"data row0 col3\" >344</td>\n",
       "      <td id=\"T_6cd0a_row0_col4\" class=\"data row0 col4\" >10</td>\n",
       "      <td id=\"T_6cd0a_row0_col5\" class=\"data row0 col5\" >344</td>\n",
       "      <td id=\"T_6cd0a_row0_col6\" class=\"data row0 col6\" >7</td>\n",
       "      <td id=\"T_6cd0a_row0_col7\" class=\"data row0 col7\" >338</td>\n",
       "      <td id=\"T_6cd0a_row0_col8\" class=\"data row0 col8\" >1</td>\n",
       "      <td id=\"T_6cd0a_row0_col9\" class=\"data row0 col9\" >2</td>\n",
       "      <td id=\"T_6cd0a_row0_col10\" class=\"data row0 col10\" >1</td>\n",
       "      <td id=\"T_6cd0a_row0_col11\" class=\"data row0 col11\" >2</td>\n",
       "      <td id=\"T_6cd0a_row0_col12\" class=\"data row0 col12\" >1</td>\n",
       "    </tr>\n",
       "  </tbody>\n",
       "</table>\n"
      ],
      "text/plain": [
       "<pandas.io.formats.style.Styler at 0x7f3af2091c10>"
      ]
     },
     "execution_count": 12,
     "metadata": {},
     "output_type": "execute_result"
    }
   ],
   "source": [
    "# import molsysmt as msm\n",
    "\n",
    "# molecular_system = msm.convert(pdb_string, to_form='molsysmt.MolSys')\n",
    "# msm.info(molecular_system)"
   ]
  },
  {
   "cell_type": "code",
   "execution_count": null,
   "id": "6c1c4fb7-94e7-40f5-a982-38c30a3ebcb6",
   "metadata": {},
   "outputs": [],
   "source": [
    "# view = msm.view(molecular_system, standardize=False)\n",
    "# view"
   ]
  },
  {
   "cell_type": "markdown",
   "id": "acbd3fda-381c-476d-94a7-c1f9ad4cc8a5",
   "metadata": {},
   "source": [
    "### Anlalyze a ligand"
   ]
  },
  {
   "cell_type": "code",
   "execution_count": 5,
   "id": "611b1163-a202-45aa-a781-ed318981dea8",
   "metadata": {},
   "outputs": [
    {
     "data": {
      "text/plain": [
       "('mol',\n",
       " 'hetid',\n",
       " 'chain',\n",
       " 'position',\n",
       " 'water',\n",
       " 'members',\n",
       " 'longname',\n",
       " 'type',\n",
       " 'atomorder',\n",
       " 'can_to_pdb')"
      ]
     },
     "execution_count": 5,
     "metadata": {},
     "output_type": "execute_result"
    }
   ],
   "source": [
    "ligand_1 = my_mol.ligands[1]\n",
    "ligand_1._fields"
   ]
  },
  {
   "cell_type": "code",
   "execution_count": 7,
   "id": "8af1838a-2d75-4fc3-af68-41eed0df95fa",
   "metadata": {},
   "outputs": [
    {
     "data": {
      "text/plain": [
       "'W11:A:7001'"
      ]
     },
     "execution_count": 7,
     "metadata": {},
     "output_type": "execute_result"
    }
   ],
   "source": [
    "\":\".join([ligand_1.hetid, ligand_1.chain, str(ligand_1.position)])"
   ]
  },
  {
   "cell_type": "code",
   "execution_count": 8,
   "id": "9790a000-d57a-4dab-a148-43325362e4f7",
   "metadata": {},
   "outputs": [
    {
     "name": "stdout",
     "output_type": "stream",
     "text": [
      "o1nc(C)cc1CCCOc1c(C)cc(cc1C)c1noc(n1)C(F)(F)F\tW11:A:7001\n",
      "\n",
      "7001\n"
     ]
    }
   ],
   "source": [
    "# print(ligand_1.mol)\n",
    "# print(ligand_1.water)\n",
    "print(ligand_1.mol)\n",
    "print(ligand_1.position)"
   ]
  },
  {
   "cell_type": "code",
   "execution_count": 9,
   "id": "d8b17159-a049-446f-a1d7-98fa3781ca6d",
   "metadata": {},
   "outputs": [
    {
     "data": {
      "text/plain": [
       "openbabel.pybel.Molecule"
      ]
     },
     "execution_count": 9,
     "metadata": {},
     "output_type": "execute_result"
    }
   ],
   "source": [
    "type(ligand_1.mol)"
   ]
  },
  {
   "cell_type": "markdown",
   "id": "e9159cb5-f3d5-4710-83ab-4c6de6508af5",
   "metadata": {},
   "source": [
    "#### Get smiles from the molecule and transform to rdkit"
   ]
  },
  {
   "cell_type": "code",
   "execution_count": 10,
   "id": "7fee9933-2171-420c-8ba0-f90115627c7f",
   "metadata": {},
   "outputs": [
    {
     "name": "stdout",
     "output_type": "stream",
     "text": [
      "o1nc(C)cc1CCCOc1c(C)cc(cc1C)c1noc(n1)C(F)(F)F\n"
     ]
    }
   ],
   "source": [
    "open_babel_mol = ligand_1.mol\n",
    "smiles = open_babel_mol.write(\"smi\")\n",
    "smiles = smiles.split()[0]\n",
    "print(smiles)"
   ]
  },
  {
   "cell_type": "code",
   "execution_count": 11,
   "id": "87664024-0b9f-4dc2-ade4-bdf5eac2b70d",
   "metadata": {},
   "outputs": [
    {
     "data": {
      "image/png": "[encoded data removed]",
      "text/plain": [
       "<rdkit.Chem.rdchem.Mol at 0x7f917c6663a0>"
      ]
     },
     "execution_count": 11,
     "metadata": {},
     "output_type": "execute_result"
    }
   ],
   "source": [
    "mol = Chem.MolFromSmiles(smiles)\n",
    "mol"
   ]
  },
  {
   "cell_type": "markdown",
   "id": "74ae8eae-ac97-49b5-887d-aefe5b20940e",
   "metadata": {},
   "source": [
    "### Get 3D coordinates of the molecule\n",
    "Get coordinates by converting molecule to mol2 format and then try with sdf format."
   ]
  },
  {
   "cell_type": "code",
   "execution_count": 18,
   "id": "a64f5beb-d322-4d0b-85b8-4930d55810a9",
   "metadata": {},
   "outputs": [
    {
     "name": "stderr",
     "output_type": "stream",
     "text": [
      "RDKit WARNING: [23:38:30] W11:A:7001: Warning - no explicit hydrogens in mol2 file but needed for formal charge estimation.\n",
      "[23:38:30] W11:A:7001: Warning - no explicit hydrogens in mol2 file but needed for formal charge estimation.\n"
     ]
    },
    {
     "data": {
      "image/png": "[encoded data removed]",
      "text/plain": [
       "<rdkit.Chem.rdchem.Mol at 0x7f917b999e40>"
      ]
     },
     "execution_count": 18,
     "metadata": {},
     "output_type": "execute_result"
    }
   ],
   "source": [
    "mol2_str = open_babel_mol.write(\"mol2\")\n",
    "rd_mol = Chem.MolFromMol2Block(mol2_str)\n",
    "rd_mol"
   ]
  },
  {
   "cell_type": "code",
   "execution_count": 19,
   "id": "021f9e0b-75c6-4233-8562-29d377ecc8c7",
   "metadata": {},
   "outputs": [
    {
     "data": {
      "text/plain": [
       "1"
      ]
     },
     "execution_count": 19,
     "metadata": {},
     "output_type": "execute_result"
    }
   ],
   "source": [
    "rd_mol.GetNumConformers()"
   ]
  },
  {
   "cell_type": "code",
   "execution_count": 35,
   "id": "961f4d6b-8bcb-4eff-a562-4e4ba4379f85",
   "metadata": {},
   "outputs": [
    {
     "data": {
      "image/png": "[encoded data removed]",
      "text/plain": [
       "<rdkit.Chem.rdchem.Mol at 0x7f917b89aa30>"
      ]
     },
     "execution_count": 35,
     "metadata": {},
     "output_type": "execute_result"
    }
   ],
   "source": [
    "sdf_str = open_babel_mol.write(\"sdf\")\n",
    "sio = StringIO(sdf_str)\n",
    "bio = BytesIO(sio.read().encode('utf8'))\n",
    "mol = [mol for mol in Chem.ForwardSDMolSupplier(bio)]\n",
    "mol = mol[0]\n",
    "mol"
   ]
  },
  {
   "cell_type": "code",
   "execution_count": 14,
   "id": "7a045750-9927-4499-b5df-1f8ccae40e43",
   "metadata": {},
   "outputs": [],
   "source": [
    "pdbs_path = '../data/pdbs/'\n",
    "pdbs = [\"1ncr\", \"2hz1\", \"2hzi\"]\n",
    "pdbs = [p_id + \".pdb\" for p_id in pdbs]"
   ]
  },
  {
   "cell_type": "code",
   "execution_count": 15,
   "id": "5039cca0-e38d-4422-86bd-151f41adad12",
   "metadata": {},
   "outputs": [
    {
     "data": {
      "text/html": [
       "<div>\n",
       "<style scoped>\n",
       "    .dataframe tbody tr th:only-of-type {\n",
       "        vertical-align: middle;\n",
       "    }\n",
       "\n",
       "    .dataframe tbody tr th {\n",
       "        vertical-align: top;\n",
       "    }\n",
       "\n",
       "    .dataframe thead th {\n",
       "        text-align: right;\n",
       "    }\n",
       "</style>\n",
       "<table border=\"1\" class=\"dataframe\">\n",
       "  <thead>\n",
       "    <tr style=\"text-align: right;\">\n",
       "      <th></th>\n",
       "      <th>ligand_names</th>\n",
       "      <th>ligand_types</th>\n",
       "      <th>n_atoms</th>\n",
       "    </tr>\n",
       "  </thead>\n",
       "  <tbody>\n",
       "    <tr>\n",
       "      <th>0</th>\n",
       "      <td>ZN</td>\n",
       "      <td>ION</td>\n",
       "      <td>1</td>\n",
       "    </tr>\n",
       "    <tr>\n",
       "      <th>1</th>\n",
       "      <td>W11</td>\n",
       "      <td>SMALLMOLECULE</td>\n",
       "      <td>27</td>\n",
       "    </tr>\n",
       "    <tr>\n",
       "      <th>2</th>\n",
       "      <td>MYR</td>\n",
       "      <td>SMALLMOLECULE</td>\n",
       "      <td>15</td>\n",
       "    </tr>\n",
       "    <tr>\n",
       "      <th>3</th>\n",
       "      <td>CD</td>\n",
       "      <td>ION</td>\n",
       "      <td>1</td>\n",
       "    </tr>\n",
       "    <tr>\n",
       "      <th>4</th>\n",
       "      <td>CD</td>\n",
       "      <td>ION</td>\n",
       "      <td>1</td>\n",
       "    </tr>\n",
       "    <tr>\n",
       "      <th>5</th>\n",
       "      <td>SO3</td>\n",
       "      <td>SMALLMOLECULE</td>\n",
       "      <td>4</td>\n",
       "    </tr>\n",
       "    <tr>\n",
       "      <th>6</th>\n",
       "      <td>HEM</td>\n",
       "      <td>SMALLMOLECULE</td>\n",
       "      <td>43</td>\n",
       "    </tr>\n",
       "    <tr>\n",
       "      <th>7</th>\n",
       "      <td>SO2</td>\n",
       "      <td>SMALLMOLECULE</td>\n",
       "      <td>3</td>\n",
       "    </tr>\n",
       "    <tr>\n",
       "      <th>8</th>\n",
       "      <td>SO2</td>\n",
       "      <td>SMALLMOLECULE</td>\n",
       "      <td>3</td>\n",
       "    </tr>\n",
       "    <tr>\n",
       "      <th>9</th>\n",
       "      <td>JIN</td>\n",
       "      <td>SMALLMOLECULE</td>\n",
       "      <td>29</td>\n",
       "    </tr>\n",
       "    <tr>\n",
       "      <th>10</th>\n",
       "      <td>JIN</td>\n",
       "      <td>SMALLMOLECULE</td>\n",
       "      <td>29</td>\n",
       "    </tr>\n",
       "  </tbody>\n",
       "</table>\n",
       "</div>"
      ],
      "text/plain": [
       "   ligand_names   ligand_types  n_atoms\n",
       "0            ZN            ION        1\n",
       "1           W11  SMALLMOLECULE       27\n",
       "2           MYR  SMALLMOLECULE       15\n",
       "3            CD            ION        1\n",
       "4            CD            ION        1\n",
       "5           SO3  SMALLMOLECULE        4\n",
       "6           HEM  SMALLMOLECULE       43\n",
       "7           SO2  SMALLMOLECULE        3\n",
       "8           SO2  SMALLMOLECULE        3\n",
       "9           JIN  SMALLMOLECULE       29\n",
       "10          JIN  SMALLMOLECULE       29"
      ]
     },
     "execution_count": 15,
     "metadata": {},
     "output_type": "execute_result"
    }
   ],
   "source": [
    "# Check type of each ligand in each file\n",
    "\n",
    "lig_names = []\n",
    "lig_types = []\n",
    "atom_order = []\n",
    "n_atoms = []\n",
    "members = []\n",
    "\n",
    "for file in pdbs:\n",
    "    file_name = os.path.join(pdbs_path, file)\n",
    "    mol_system = PDBComplex()\n",
    "    mol_system.load_pdb(file_name)\n",
    "    mol_system.analyze()\n",
    "    for lig in mol_system.ligands:\n",
    "        lig_types.append(lig.type)\n",
    "        lig_names.append(lig.longname)\n",
    "        atom_order.append(lig.atomorder)\n",
    "        n_atoms.append(len(lig.atomorder))\n",
    "        members.append(lig.members)\n",
    "\n",
    "protein = {\n",
    "    \"ligand_names\": lig_names,\n",
    "    \"ligand_types\": lig_types,\n",
    "    \"n_atoms\": n_atoms\n",
    "}        \n",
    "\n",
    "df = pd.DataFrame().from_dict(protein)\n",
    "df"
   ]
  },
  {
   "cell_type": "markdown",
   "id": "0050e4a7-cdf4-47b1-b197-28afb8482000",
   "metadata": {},
   "source": [
    "### Get all interactions for each ligand"
   ]
  },
  {
   "cell_type": "code",
   "execution_count": 13,
   "id": "26577ad9-c433-4162-b1cd-2473be197852",
   "metadata": {},
   "outputs": [
    {
     "data": {
      "text/plain": [
       "{'ZN:A:6000': <plip.structure.preparation.PLInteraction at 0x7fe1ca7b62d0>,\n",
       " 'W11:A:7001': <plip.structure.preparation.PLInteraction at 0x7fe1cc8f26d0>,\n",
       " 'MYR:D:4000': <plip.structure.preparation.PLInteraction at 0x7fe1cb85ca50>}"
      ]
     },
     "execution_count": 13,
     "metadata": {},
     "output_type": "execute_result"
    }
   ],
   "source": [
    "my_mol.interaction_sets"
   ]
  },
  {
   "cell_type": "code",
   "execution_count": 46,
   "id": "90325061-1d62-47ba-ad35-55e73d9acb70",
   "metadata": {},
   "outputs": [
    {
     "name": "stdout",
     "output_type": "stream",
     "text": [
      "Number of interactions: 11\n",
      "\n",
      "pistack\n",
      "hydroph_interaction\n",
      "hydroph_interaction\n",
      "hydroph_interaction\n",
      "hydroph_interaction\n",
      "hydroph_interaction\n",
      "hydroph_interaction\n",
      "hydroph_interaction\n",
      "hydroph_interaction\n",
      "halogenbond\n",
      "waterbridge\n"
     ]
    }
   ],
   "source": [
    "# List with all interactions\n",
    "interactions = my_interactions.all_itypes\n",
    "print(f\"Number of interactions: {len(interactions)}\\n\")\n",
    "\n",
    "for interaction in interactions:\n",
    "    # Interactions are named tuples.\n",
    "    interaction_name = type(interaction).__name__\n",
    "    print(interaction_name)"
   ]
  },
  {
   "cell_type": "markdown",
   "id": "d208c907-fda7-4a31-835e-b3f4d575f37e",
   "metadata": {},
   "source": [
    "### Analyzing pistack interactions"
   ]
  },
  {
   "cell_type": "code",
   "execution_count": 48,
   "id": "1b061762-7346-45a6-829a-bc8e30a34c89",
   "metadata": {},
   "outputs": [],
   "source": [
    "pistack = interactions[0]"
   ]
  },
  {
   "cell_type": "code",
   "execution_count": 49,
   "id": "1d595792-4a5b-485b-89e0-f8c8f28c7b6a",
   "metadata": {},
   "outputs": [
    {
     "data": {
      "text/plain": [
       "('proteinring',\n",
       " 'ligandring',\n",
       " 'distance',\n",
       " 'angle',\n",
       " 'offset',\n",
       " 'type',\n",
       " 'restype',\n",
       " 'resnr',\n",
       " 'reschain',\n",
       " 'restype_l',\n",
       " 'resnr_l',\n",
       " 'reschain_l')"
      ]
     },
     "execution_count": 49,
     "metadata": {},
     "output_type": "execute_result"
    }
   ],
   "source": [
    "pistack._fields #pistack is a named tuple"
   ]
  },
  {
   "cell_type": "code",
   "execution_count": 79,
   "id": "7fc0c1e5-b2f8-4ead-b447-b8b7f82b32a9",
   "metadata": {},
   "outputs": [
    {
     "name": "stdout",
     "output_type": "stream",
     "text": [
      "Ligand ring; Center: [38.029199999999996, 4.3594, 123.7382], normal: [ 0.55553186  0.81988479 -0.13846765]\n",
      "Protein ring; Center: [34.878166666666665, 4.118666666666667, 120.25733333333334], normal: [0.63124087 0.22880385 0.74106933]\n",
      "Distance between the rings is 4.7014249283240375\n",
      "\n",
      "True\n"
     ]
    }
   ],
   "source": [
    "ligand_ring_center = pistack.ligandring.center\n",
    "ligand_normal_vector = pistack.ligandring.normal\n",
    "print(f\"Ligand ring; Center: {ligand_ring_center}, normal: {ligand_normal_vector}\")\n",
    "\n",
    "protein_ring_center = pistack.proteinring.center\n",
    "protein_normal_vector = pistack.proteinring.normal\n",
    "print(f\"Protein ring; Center: {protein_ring_center}, normal: {protein_normal_vector}\")\n",
    "\n",
    "print(f\"Distance between the rings is {pistack.distance}\\n\")\n",
    "\n",
    "# Calculate distance\n",
    "distance = np.linalg.norm(np.array(ligand_ring_center) - np.array(protein_ring_center))\n",
    "print(distance == pistack.distance)"
   ]
  },
  {
   "cell_type": "markdown",
   "id": "dee48926-33cb-45fd-b187-d93445c12aa3",
   "metadata": {},
   "source": [
    "### Hydrophobic interactions"
   ]
  },
  {
   "cell_type": "code",
   "execution_count": 51,
   "id": "d9f97fd7-b5b7-44b5-bdb4-337605c69a04",
   "metadata": {},
   "outputs": [
    {
     "data": {
      "text/plain": [
       "('bsatom',\n",
       " 'bsatom_orig_idx',\n",
       " 'ligatom',\n",
       " 'ligatom_orig_idx',\n",
       " 'distance',\n",
       " 'restype',\n",
       " 'resnr',\n",
       " 'reschain',\n",
       " 'restype_l',\n",
       " 'resnr_l',\n",
       " 'reschain_l')"
      ]
     },
     "execution_count": 51,
     "metadata": {},
     "output_type": "execute_result"
    }
   ],
   "source": [
    "hydrophobic = interactions[1]\n",
    "# bs is the binding site\n",
    "hydrophobic._fields"
   ]
  },
  {
   "cell_type": "code",
   "execution_count": 67,
   "id": "867e8e46-2d82-4656-9725-d1dae06fc7e0",
   "metadata": {},
   "outputs": [
    {
     "data": {
      "text/plain": [
       "tuple"
      ]
     },
     "execution_count": 67,
     "metadata": {},
     "output_type": "execute_result"
    }
   ],
   "source": [
    "type(hydrophobic.ligatom.coords)"
   ]
  },
  {
   "cell_type": "code",
   "execution_count": 76,
   "id": "f1add342-1826-433b-a238-644b16fe0af4",
   "metadata": {},
   "outputs": [
    {
     "name": "stdout",
     "output_type": "stream",
     "text": [
      "Hydrophobic interaction 0\n",
      "Coords of ligand atom are [ 42.868  -0.745 122.712]\n",
      "Coords of binding site are [ 43.561  -1.507 126.451]\n",
      "\n",
      "True\n",
      "---------------------------------------------------\n",
      "Hydrophobic interaction 1\n",
      "Coords of ligand atom are [ 37.699   4.393 122.609]\n",
      "Coords of binding site are [ 39.77    7.394 123.143]\n",
      "\n",
      "True\n",
      "---------------------------------------------------\n",
      "Hydrophobic interaction 2\n",
      "Coords of ligand atom are [ 43.755  -1.836 122.327]\n",
      "Coords of binding site are [ 43.468  -4.771 124.599]\n",
      "\n",
      "True\n",
      "---------------------------------------------------\n",
      "Hydrophobic interaction 3\n",
      "Coords of ligand atom are [ 41.37   -1.11  122.681]\n",
      "Coords of binding site are [ 42.136  -4.369 124.694]\n",
      "\n",
      "True\n",
      "---------------------------------------------------\n",
      "Hydrophobic interaction 4\n",
      "Coords of ligand atom are [ 41.37   -1.11  122.681]\n",
      "Coords of binding site are [ 39.143  -0.55  120.239]\n",
      "\n",
      "True\n",
      "---------------------------------------------------\n",
      "Hydrophobic interaction 5\n",
      "Coords of ligand atom are [ 35.827   5.861 123.815]\n",
      "Coords of binding site are [ 33.951   5.053 120.762]\n",
      "\n",
      "True\n",
      "---------------------------------------------------\n",
      "Hydrophobic interaction 6\n",
      "Coords of ligand atom are [ 45.46    2.006 123.421]\n",
      "Coords of binding site are [ 46.688   2.865 120.312]\n",
      "\n",
      "True\n",
      "---------------------------------------------------\n",
      "Hydrophobic interaction 7\n",
      "Coords of ligand atom are [ 42.868  -0.745 122.712]\n",
      "Coords of binding site are [ 4.34490e+01 -4.90000e-02  1.19359e+02]\n",
      "\n",
      "True\n",
      "---------------------------------------------------\n"
     ]
    }
   ],
   "source": [
    "# Coordinates of atoms in each hydrophobic interaction\n",
    "for i, hyd in enumerate(interactions[1 : -2]):\n",
    "    # Calcualate the distance between ligand and bs atoms\n",
    "    lig_coords = np.array(hyd.ligatom.coords)\n",
    "    bs_coords = np.array(hyd.bsatom.coords)\n",
    "    distance = np.linalg.norm(lig_coords - bs_coords)\n",
    "    \n",
    "    print(f\"Hydrophobic interaction {i}\")\n",
    "    print(f\"Coords of ligand atom are {lig_coords}\")\n",
    "    print(f\"Coords of binding site are {bs_coords}\\n\")\n",
    "    # print(f\"Distance between atoms: {hyd.distance}\")\n",
    "    print(distance == hyd.distance)\n",
    "    print(\"---------------------------------------------------\")"
   ]
  },
  {
   "cell_type": "markdown",
   "id": "721fd4e2-d5a7-4d45-845d-a6d69777051a",
   "metadata": {},
   "source": [
    "## Protein-ligand interacions for 2HZ1 using PLIP"
   ]
  },
  {
   "cell_type": "code",
   "execution_count": 81,
   "id": "42c1dec6-1152-4fff-918e-804193b76164",
   "metadata": {},
   "outputs": [
    {
     "name": "stdout",
     "output_type": "stream",
     "text": [
      "Protein structure 2hz1 with ligands:\n",
      "CD:A:201\n",
      "CD:A:202\n",
      "SO3:A:204\n",
      "HEM:A:125\n",
      "SO2:A:203\n",
      "SO2:A:205\n"
     ]
    }
   ],
   "source": [
    "mol_system = PDBComplex()\n",
    "\n",
    "# Load the PDB file into PLIP class\n",
    "mol_system.load_pdb('./Data/pdbs/2hz1.pdb')\n",
    "\n",
    "# Shows name of structure and ligand binding sites\n",
    "print(mol_system) "
   ]
  },
  {
   "cell_type": "code",
   "execution_count": 82,
   "id": "7a9f4c0d-bc95-487c-bd85-42d572015aa8",
   "metadata": {},
   "outputs": [],
   "source": [
    "mol_system.analyze()\n",
    "mol_system_interactions = mol_system.interaction_sets[\"HEM:A:125\"] # Contains all interaction data"
   ]
  },
  {
   "cell_type": "code",
   "execution_count": 83,
   "id": "f2c48594-40a7-40f9-b447-d61bbfcda57f",
   "metadata": {},
   "outputs": [
    {
     "name": "stdout",
     "output_type": "stream",
     "text": [
      "Number of interactions: 21\n",
      "\n",
      "saltbridge\n",
      "saltbridge\n",
      "hbond\n",
      "hydroph_interaction\n",
      "hydroph_interaction\n",
      "hydroph_interaction\n",
      "hydroph_interaction\n",
      "hydroph_interaction\n",
      "hydroph_interaction\n",
      "hydroph_interaction\n",
      "hydroph_interaction\n",
      "hydroph_interaction\n",
      "hydroph_interaction\n",
      "waterbridge\n",
      "waterbridge\n",
      "metal_complex\n",
      "metal_complex\n",
      "metal_complex\n",
      "metal_complex\n",
      "metal_complex\n",
      "metal_complex\n"
     ]
    }
   ],
   "source": [
    "# List with all interactions\n",
    "interactions = mol_system_interactions.all_itypes\n",
    "print(f\"Number of interactions: {len(interactions)}\\n\")\n",
    "\n",
    "for interaction in interactions:\n",
    "    # Interactions are named tuples.\n",
    "    interaction_name = type(interaction).__name__\n",
    "    print(interaction_name)"
   ]
  },
  {
   "cell_type": "markdown",
   "id": "0e9dadeb-7ff7-471a-97af-7a2ef506178c",
   "metadata": {},
   "source": [
    "### Salt Bridges"
   ]
  },
  {
   "cell_type": "code",
   "execution_count": 84,
   "id": "098d0af9-ad55-4b41-93e4-a8ce62aa93e8",
   "metadata": {},
   "outputs": [
    {
     "data": {
      "text/plain": [
       "('positive',\n",
       " 'negative',\n",
       " 'distance',\n",
       " 'protispos',\n",
       " 'resnr',\n",
       " 'restype',\n",
       " 'reschain',\n",
       " 'resnr_l',\n",
       " 'restype_l',\n",
       " 'reschain_l')"
      ]
     },
     "execution_count": 84,
     "metadata": {},
     "output_type": "execute_result"
    }
   ],
   "source": [
    "salt_bridge = interactions[0]\n",
    "salt_bridge._fields"
   ]
  },
  {
   "cell_type": "code",
   "execution_count": 88,
   "id": "5355e8e5-a803-47b4-95e9-904686202e40",
   "metadata": {},
   "outputs": [
    {
     "data": {
      "text/plain": [
       "pcharge(atoms=[<openbabel.pybel.Atom object at 0x7fe1ca81c490>], atoms_orig_idx=[331], type='positive', center=[-0.724, 0.962, 4.197], restype='LYS', resnr=42, reschain='A')"
      ]
     },
     "execution_count": 88,
     "metadata": {},
     "output_type": "execute_result"
    }
   ],
   "source": [
    "salt_bridge.positive"
   ]
  },
  {
   "cell_type": "code",
   "execution_count": 98,
   "id": "257bdd0a-621f-4dc2-a1f7-e37bce4c7170",
   "metadata": {},
   "outputs": [
    {
     "name": "stdout",
     "output_type": "stream",
     "text": [
      "[2.279  2.6625 3.2525]\n",
      "[2.279, 2.6624999999999996, 3.2525]\n"
     ]
    }
   ],
   "source": [
    "atoms = salt_bridge.negative.atoms\n",
    "center = salt_bridge.negative.center\n",
    "\n",
    "coords_array = np.array([atoms[0].coords, atoms[1].coords])\n",
    "\n",
    "centroid = np.mean(coords_array, axis=0)\n",
    "\n",
    "print(centroid)\n",
    "print(center)"
   ]
  },
  {
   "cell_type": "code",
   "execution_count": 90,
   "id": "281726f1-b061-4b99-bba6-cc4015c9c9ab",
   "metadata": {},
   "outputs": [
    {
     "data": {
      "text/plain": [
       "True"
      ]
     },
     "execution_count": 90,
     "metadata": {},
     "output_type": "execute_result"
    }
   ],
   "source": [
    "# The positive charge is in the protein\n",
    "salt_bridge.protispos"
   ]
  },
  {
   "cell_type": "markdown",
   "id": "c90998e0-5dbe-4841-8d9c-33fee9ebddff",
   "metadata": {},
   "source": [
    "### Hydrogen bonds"
   ]
  },
  {
   "cell_type": "code",
   "execution_count": 99,
   "id": "acf679b4-6306-4f1f-896b-127dd2b8aed2",
   "metadata": {},
   "outputs": [
    {
     "data": {
      "text/plain": [
       "('a',\n",
       " 'a_orig_idx',\n",
       " 'd',\n",
       " 'd_orig_idx',\n",
       " 'h',\n",
       " 'distance_ah',\n",
       " 'distance_ad',\n",
       " 'angle',\n",
       " 'type',\n",
       " 'protisdon',\n",
       " 'resnr',\n",
       " 'restype',\n",
       " 'reschain',\n",
       " 'resnr_l',\n",
       " 'restype_l',\n",
       " 'reschain_l',\n",
       " 'sidechain',\n",
       " 'atype',\n",
       " 'dtype')"
      ]
     },
     "execution_count": 99,
     "metadata": {},
     "output_type": "execute_result"
    }
   ],
   "source": [
    "hbond = interactions[2]\n",
    "hbond._fields"
   ]
  },
  {
   "cell_type": "code",
   "execution_count": 100,
   "id": "e3b4a8dd-8c81-47c9-9535-3337491d4d42",
   "metadata": {},
   "outputs": [
    {
     "data": {
      "text/plain": [
       "True"
      ]
     },
     "execution_count": 100,
     "metadata": {},
     "output_type": "execute_result"
    }
   ],
   "source": [
    "# The donor atom is in the protein. Thus the acceptor is in the ligand\n",
    "hbond.protisdon"
   ]
  },
  {
   "cell_type": "code",
   "execution_count": 106,
   "id": "6c101272-1e7e-4bb8-ae44-009ff24be668",
   "metadata": {},
   "outputs": [
    {
     "name": "stdout",
     "output_type": "stream",
     "text": [
      "Atom: 8 (2.33 3.57 2.63)\n"
     ]
    }
   ],
   "source": [
    "# acceptor\n",
    "acceptor = hbond.a\n",
    "print(acceptor)"
   ]
  }
 ],
 "metadata": {
  "kernelspec": {
   "display_name": "Python 3 (ipykernel)",
   "language": "python",
   "name": "python3"
  },
  "language_info": {
   "codemirror_mode": {
    "name": "ipython",
    "version": 3
   },
   "file_extension": ".py",
   "mimetype": "text/x-python",
   "name": "python",
   "nbconvert_exporter": "python",
   "pygments_lexer": "ipython3",
   "version": "3.7.10"
  }
 },
 "nbformat": 4,
 "nbformat_minor": 5
}
