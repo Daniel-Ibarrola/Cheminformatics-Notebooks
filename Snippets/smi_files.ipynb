{
 "cells": [
  {
   "cell_type": "code",
   "execution_count": 1,
   "id": "fdd7df98-a30e-438b-862d-b54ccba60e2c",
   "metadata": {},
   "outputs": [],
   "source": [
    "import os \n",
    "from rdkit import Chem"
   ]
  },
  {
   "cell_type": "code",
   "execution_count": 2,
   "id": "d6339c4b-bae0-4b2c-ac10-f655bbedf1ec",
   "metadata": {},
   "outputs": [
    {
     "data": {
      "text/plain": [
       "True"
      ]
     },
     "execution_count": 2,
     "metadata": {},
     "output_type": "execute_result"
    }
   ],
   "source": [
    "file = \"../data/Databases/zinc/AAAA.smi\"\n",
    "os.path.isfile(file)"
   ]
  },
  {
   "cell_type": "code",
   "execution_count": 3,
   "id": "3dd02716-09bc-4254-a3b4-582a9564d2c1",
   "metadata": {},
   "outputs": [
    {
     "data": {
      "text/plain": [
       "4166"
      ]
     },
     "execution_count": 3,
     "metadata": {},
     "output_type": "execute_result"
    }
   ],
   "source": [
    "ligands = Chem.SmilesMolSupplier(file, delimiter=' ', titleLine=True)\n",
    "len(ligands)"
   ]
  },
  {
   "cell_type": "code",
   "execution_count": 4,
   "id": "8d9b1aaf-3799-42fc-9c21-a65beb1709e8",
   "metadata": {},
   "outputs": [
    {
     "data": {
      "text/plain": [
       "[<rdkit.Chem.rdchem.Mol at 0x7f6d6fb15d50>,\n",
       " <rdkit.Chem.rdchem.Mol at 0x7f6d6fb15da0>,\n",
       " <rdkit.Chem.rdchem.Mol at 0x7f6d6fb15df0>]"
      ]
     },
     "execution_count": 4,
     "metadata": {},
     "output_type": "execute_result"
    }
   ],
   "source": [
    "ligands = list(ligands)\n",
    "ligands[0:3]"
   ]
  },
  {
   "cell_type": "code",
   "execution_count": 5,
   "id": "b29b2268-054b-4835-b7c3-0b2a93d97830",
   "metadata": {},
   "outputs": [
    {
     "name": "stdout",
     "output_type": "stream",
     "text": [
      "Molecule zinc id is 4371221\n"
     ]
    },
    {
     "data": {
      "image/png": "[encoded data removed]",
      "text/plain": [
       "<rdkit.Chem.rdchem.Mol at 0x7f6d6fb15d50>"
      ]
     },
     "execution_count": 5,
     "metadata": {},
     "output_type": "execute_result"
    }
   ],
   "source": [
    "mol = ligands[0]\n",
    "zinc_id = mol.GetProp(\"_Name\")\n",
    "print(f\"Molecule zinc id is {zinc_id}\")\n",
    "mol"
   ]
  },
  {
   "cell_type": "code",
   "execution_count": 7,
   "id": "be05ee91-54ae-4c2b-b4c5-03274a88f5b0",
   "metadata": {},
   "outputs": [
    {
     "data": {
      "text/plain": [
       "'CO[C@H]1OC[C@@H](O)[C@H](O)[C@H]1O'"
      ]
     },
     "execution_count": 7,
     "metadata": {},
     "output_type": "execute_result"
    }
   ],
   "source": [
    "Chem.MolToSmiles(mol)"
   ]
  }
 ],
 "metadata": {
  "kernelspec": {
   "display_name": "Python 3 (ipykernel)",
   "language": "python",
   "name": "python3"
  },
  "language_info": {
   "codemirror_mode": {
    "name": "ipython",
    "version": 3
   },
   "file_extension": ".py",
   "mimetype": "text/x-python",
   "name": "python",
   "nbconvert_exporter": "python",
   "pygments_lexer": "ipython3",
   "version": "3.7.10"
  }
 },
 "nbformat": 4,
 "nbformat_minor": 5
}
