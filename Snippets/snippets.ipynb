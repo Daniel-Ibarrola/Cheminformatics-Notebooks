{
 "cells": [
  {
   "cell_type": "code",
   "execution_count": 1,
   "id": "e0cb3a5a-e422-4520-9626-02664b6db774",
   "metadata": {},
   "outputs": [],
   "source": [
    "%matplotlib inline\n",
    "import networkx as nx\n",
    "import numpy as np\n",
    "import numpy.linalg as LA\n",
    "import matplotlib.pyplot as plt "
   ]
  },
  {
   "cell_type": "markdown",
   "id": "d906c734-0cf3-4460-9264-ac4cbb27e006",
   "metadata": {},
   "source": [
    "## Getting Bond lenghts"
   ]
  },
  {
   "cell_type": "code",
   "execution_count": 9,
   "id": "20ca8ede-5392-4337-b510-ac01d0a7f201",
   "metadata": {},
   "outputs": [
    {
     "name": "stdout",
     "output_type": "stream",
     "text": [
      "(2, 2)\n",
      "Bonded atoms \n",
      "\n",
      "[[0 1]\n",
      " [2 3]]\n",
      "-------------\n",
      "Coordinates\n",
      "\n",
      "[[ 0  0  0]\n",
      " [ 2  3  5]\n",
      " [ 2 -1  7]\n",
      " [ 1 -3  5]] \n",
      "\n",
      "(4, 3)\n",
      "-------------\n",
      "Coordinates between pairs of atoms\n",
      "\n",
      "[[[ 0  0  0]\n",
      "  [ 2  3  5]]\n",
      "\n",
      " [[ 2 -1  7]\n",
      "  [ 1 -3  5]]] \n",
      "\n",
      "(2, 2, 3)\n",
      "-------------\n",
      "Bond Vectors\n",
      "\n",
      "[[[ 2  3  5]]\n",
      "\n",
      " [[-1 -2 -2]]]\n",
      "(2, 1, 3) \n",
      "\n",
      "-------------\n",
      "Vector Norm\n",
      "\n",
      "[[6.164414]\n",
      " [3.      ]]\n",
      "(2, 1) \n",
      "\n",
      "-------------\n",
      "Unit Vectors\n",
      "\n",
      "[[[ 0.32444284  0.48666426  0.81110711]]\n",
      "\n",
      " [[-0.33333333 -0.66666667 -0.66666667]]]\n",
      "(2, 1, 3) Unit vectors norm\n",
      "\n",
      "[[1.]\n",
      " [1.]]\n"
     ]
    }
   ],
   "source": [
    "# Compute the distance between pairs of atoms\n",
    "\n",
    "ba = np.array([[0,1],[0,2],[0,3]])\n",
    "co = np.array([[1.84669995, 2.76379991, 8.36610031],\n",
    "             [1.94828415, 2.72273469, 8.41565132],\n",
    "             [1.78098989, 2.66380095, 8.35718346],\n",
    "             [1.80249786, 2.82200766, 8.46192265]])\n",
    "\n",
    "\n",
    "#ba = np.array([[0,1],[2,3]])\n",
    "#co = np.array([[0, 0, 0],\n",
    "#             [2, 3, 5],\n",
    "#             [2, -1, 7],\n",
    "#             [1,-3, 5]])\n",
    "\n",
    "print(ba.shape)\n",
    "# Initialize distance array\n",
    "dis = np.zeros(ba.shape[0])\n",
    "\n",
    "coords_between_bonded_atoms = co[ba]\n",
    "bond_vectors = np.diff(coords_between_bonded_atoms, axis=1)\n",
    "\n",
    "dis = LA.norm(bond_vectors, axis=-1)\n",
    "\n",
    "bond_unit_vectors = np.divide(bond_vectors, dis[:,np.newaxis])\n",
    "\n",
    "unit_dis = LA.norm(bond_unit_vectors, axis=-1)\n",
    "\n",
    "\n",
    "print('Bonded atoms \\n')\n",
    "print(ba)\n",
    "print('-------------\\nCoordinates\\n')\n",
    "print(co, '\\n')\n",
    "print(co.shape)\n",
    "print('-------------\\nCoordinates between pairs of atoms\\n')\n",
    "print(coords_between_bonded_atoms, '\\n')\n",
    "print(coords_between_bonded_atoms.shape)\n",
    "print('-------------\\nBond Vectors\\n')\n",
    "print(bond_vectors)\n",
    "print(bond_vectors.shape, '\\n')\n",
    "print('-------------\\nVector Norm\\n')\n",
    "print(dis)\n",
    "print(dis.shape, '\\n')\n",
    "print('-------------\\nUnit Vectors\\n')\n",
    "print(bond_unit_vectors)\n",
    "print(bond_unit_vectors.shape, 'Unit vectors norm\\n')\n",
    "print(unit_dis)"
   ]
  },
  {
   "cell_type": "code",
   "execution_count": 2,
   "id": "8443d3aa-7481-46ed-a04e-1f17dbce4826",
   "metadata": {},
   "outputs": [],
   "source": [
    "def compute_norm(v):\n",
    "    \"\"\"Computes the norm of a vector\"\"\"\n",
    "    norm = np.sqrt(np.dot(v, v))\n",
    "    return norm"
   ]
  },
  {
   "cell_type": "markdown",
   "id": "466412fa-94d2-4484-98be-d8a2d19e07ab",
   "metadata": {},
   "source": [
    "#### Another way to get bong lenghts"
   ]
  },
  {
   "cell_type": "code",
   "execution_count": 4,
   "id": "51dcceea-a666-4254-9e16-c6716c8301d9",
   "metadata": {},
   "outputs": [
    {
     "name": "stdout",
     "output_type": "stream",
     "text": [
      "0.12025391708925127\n",
      "0.1199879752317192\n",
      "0.1205150935090962\n"
     ]
    }
   ],
   "source": [
    "ba = np.array([[0,1],[0,2],[0,3]])\n",
    "co = np.array([[1.84669995, 2.76379991, 8.36610031],\n",
    "             [1.94828415, 2.72273469, 8.41565132],\n",
    "             [1.78098989, 2.66380095, 8.35718346],\n",
    "             [1.80249786, 2.82200766, 8.46192265]])\n",
    "\n",
    "coords_between_bonded_atoms = co[ba]\n",
    "\n",
    "def distance_between_two_points(p1, p2):\n",
    "    # Get distance between two points in 3D space\n",
    "    x1 = p1[0]\n",
    "    y1 = p1[1]\n",
    "    z1 = p1[2]\n",
    "    x2 = p2[0]\n",
    "    y2 = p2[1]\n",
    "    z2 = p2[2]\n",
    "    \n",
    "    distance = np.sqrt((x2 - x1)**2 + (y2 - y1)**2 + (z2 - z1)**2)\n",
    "    return distance\n",
    "    \n",
    "\n",
    "for i in range(coords_between_bonded_atoms.shape[0]):\n",
    "    p1 = coords_between_bonded_atoms[i, 0, :]\n",
    "    p2 = coords_between_bonded_atoms[i, 1, :]\n",
    "    d = distance_between_two_points(p1, p2)\n",
    "    print(d)\n"
   ]
  },
  {
   "cell_type": "markdown",
   "id": "3fc78714-a710-4e23-99ef-4a9a0c735015",
   "metadata": {},
   "source": [
    "## Getting Angles Between Vectors"
   ]
  },
  {
   "cell_type": "code",
   "execution_count": 7,
   "id": "87790021-62ef-4733-a6b9-2ff603c8e32c",
   "metadata": {},
   "outputs": [
    {
     "name": "stdout",
     "output_type": "stream",
     "text": [
      "Bonded atoms \n",
      "\n",
      "[[0 1]\n",
      " [0 2]\n",
      " [1 2]]\n",
      "-------------\n",
      "Coordinates\n",
      "\n",
      "[[1.84669995 2.76379991 8.36610031]\n",
      " [1.94828415 2.72273469 8.41565132]\n",
      " [1.78098989 2.66380095 8.35718346]\n",
      " [1.80249786 2.82200766 8.46192265]] \n",
      "\n",
      "(4, 3)\n",
      "-------------\n",
      "Coordinates between pairs of atoms\n",
      "\n",
      "[[[1.84669995 2.76379991 8.36610031]\n",
      "  [1.94828415 2.72273469 8.41565132]]\n",
      "\n",
      " [[1.84669995 2.76379991 8.36610031]\n",
      "  [1.78098989 2.66380095 8.35718346]]\n",
      "\n",
      " [[1.94828415 2.72273469 8.41565132]\n",
      "  [1.78098989 2.66380095 8.35718346]]] \n",
      "\n",
      "(3, 2, 3)\n",
      "-------------\n",
      "Vector norms\n",
      "\n",
      "[[1.]\n",
      " [1.]\n",
      " [1.]]\n",
      "(3, 1) \n",
      "\n",
      "-------------\n",
      "Bond Angles\n",
      "\n",
      "[[0.67883634]\n",
      " [0.69078964]\n",
      " [0.97526873]]\n",
      "(3, 1) \n",
      "\n"
     ]
    }
   ],
   "source": [
    "ba = np.array([[0,1],[0,2],[1,2]])\n",
    "#co = np.array([[4, 0, 7],\n",
    "#             [-2, 1, 3],\n",
    "#             [3, 4, -7]])\n",
    "co = np.array([[1.84669995, 2.76379991, 8.36610031],\n",
    "             [1.94828415, 2.72273469, 8.41565132],\n",
    "             [1.78098989, 2.66380095, 8.35718346],\n",
    "             [1.80249786, 2.82200766, 8.46192265]])\n",
    "\n",
    "# Initialize distance array\n",
    "bond_angles = np.zeros(ba.shape[0])\n",
    "coords_between_bonded_atoms = co[ba]\n",
    "\n",
    "\n",
    "for i in range(coords_between_bonded_atoms.shape[0]):\n",
    "    \n",
    "    unit_vector_1 = coords_between_bonded_atoms[i, 0, :] / LA.norm(coords_between_bonded_atoms[i, 0, :])\n",
    "    unit_vector_2 = coords_between_bonded_atoms[i, 1, :] / LA.norm(coords_between_bonded_atoms[i, 1, :])\n",
    "    \n",
    "    bond_angles[i] = np.degrees(np.arccos(np.dot(unit_vector_1, unit_vector_2)))\n",
    "\n",
    "bond_angles = bond_angles.reshape((bond_angles.shape[0], -1))\n",
    "\n",
    "print('Bonded atoms \\n')\n",
    "print(ba)\n",
    "print('-------------\\nCoordinates\\n')\n",
    "print(co, '\\n')\n",
    "print(co.shape)\n",
    "print('-------------\\nCoordinates between pairs of atoms\\n')\n",
    "print(coords_between_bonded_atoms, '\\n')\n",
    "print(coords_between_bonded_atoms.shape)\n",
    "print('-------------\\nVector norms\\n')\n",
    "print(unit_dis)\n",
    "print(unit_dis.shape, '\\n')\n",
    "print('-------------\\nBond Angles\\n')\n",
    "print(bond_angles)\n",
    "print(bond_angles.shape, '\\n')"
   ]
  },
  {
   "cell_type": "code",
   "execution_count": 21,
   "id": "3b124f91-284a-42de-988e-c2b451c42c69",
   "metadata": {},
   "outputs": [
    {
     "data": {
      "text/plain": [
       "array([1.84669995, 2.76379991])"
      ]
     },
     "execution_count": 21,
     "metadata": {},
     "output_type": "execute_result"
    }
   ],
   "source": [
    "coords_between_bonded_atoms[1, 0, 0:2]"
   ]
  },
  {
   "cell_type": "markdown",
   "id": "c9af2366-d53e-4a23-b388-4c525c39342b",
   "metadata": {},
   "source": [
    "### Map an array to anothers index"
   ]
  },
  {
   "cell_type": "code",
   "execution_count": 4,
   "id": "d8f2161d-7159-4455-823b-ac7dcef58b76",
   "metadata": {},
   "outputs": [
    {
     "data": {
      "application/vnd.jupyter.widget-view+json": {
       "model_id": "8656018b165d4f8093417ad4f0f8482f",
       "version_major": 2,
       "version_minor": 0
      },
      "text/plain": []
     },
     "metadata": {},
     "output_type": "display_data"
    },
    {
     "name": "stderr",
     "output_type": "stream",
     "text": [
      "/Users/danielibarrola/Documents/molsys/MolSys_v0.1/MolSysMT/molsysmt/native/io/topology/classes/mmtf_MMTFDecoder.py:43: UserWarning: The structure in the PDB has biological assemblies. There are geometrical transformations proposed in the structure. See the following issue in the source code repository: https://github.com/uibcdf/MolSysMT/issues/33\n",
      "  warnings.warn(warning_message)\n"
     ]
    },
    {
     "name": "stdout",
     "output_type": "stream",
     "text": [
      "[12496 12497 12498 ... 12520 12521 12522]\n",
      "(27,)\n",
      "[[12497 12496]\n",
      " [12498 12497]\n",
      " [12499 12498]\n",
      " ...\n",
      " [12520 12518]\n",
      " [12521 12518]\n",
      " [12522 12518]] \n",
      "\n",
      "(29, 2)\n"
     ]
    }
   ],
   "source": [
    "import molsysmt as msm\n",
    "\n",
    "molecular_system_2 = msm.convert('1NCR', 'molsysmt.MolSys')\n",
    "molecular_system_2 = msm.remove_solvent(molecular_system_2, water=True, ions=True)\n",
    "molecular_system_2 = msm.add_missing_hydrogens(molecular_system_2, pH=7.4)\n",
    "\n",
    "indices, names, bonded_atoms, coords = msm.get(molecular_system_2, selection='entity_name==\"W11\"', target=\"atom\", \n",
    "                                           atom_index=True, name=True, inner_bonded_atoms=True, coordinates=True)\n",
    "\n",
    "print(indices)\n",
    "print(indices.shape)\n",
    "\n",
    "print(bonded_atoms, '\\n')\n",
    "print(bonded_atoms.shape)"
   ]
  },
  {
   "cell_type": "code",
   "execution_count": 6,
   "id": "f928da6f-448d-494c-9bba-fa99ae884705",
   "metadata": {},
   "outputs": [
    {
     "data": {
      "text/plain": [
       "{12496: 0,\n",
       " 12497: 1,\n",
       " 12498: 2,\n",
       " 12499: 3,\n",
       " 12500: 4,\n",
       " 12501: 5,\n",
       " 12502: 6,\n",
       " 12503: 7,\n",
       " 12504: 8,\n",
       " 12505: 9,\n",
       " 12506: 10,\n",
       " 12507: 11,\n",
       " 12508: 12,\n",
       " 12509: 13,\n",
       " 12510: 14,\n",
       " 12511: 15,\n",
       " 12512: 16,\n",
       " 12513: 17,\n",
       " 12514: 18,\n",
       " 12515: 19,\n",
       " 12516: 20,\n",
       " 12517: 21,\n",
       " 12518: 22,\n",
       " 12519: 23,\n",
       " 12520: 24,\n",
       " 12521: 25,\n",
       " 12522: 26}"
      ]
     },
     "execution_count": 6,
     "metadata": {},
     "output_type": "execute_result"
    }
   ],
   "source": [
    "map_dict = {value:index for index,value in enumerate(indices)} #dictionary with keys as the array value and values as the array index\n",
    "map_dict"
   ]
  },
  {
   "cell_type": "code",
   "execution_count": 11,
   "id": "abba6cd8-05e0-4a41-93d1-a4b68e77f581",
   "metadata": {},
   "outputs": [
    {
     "data": {
      "text/plain": [
       "array([[ 1,  0],\n",
       "       [ 2,  1],\n",
       "       [ 3,  2],\n",
       "       ...,\n",
       "       [24, 22],\n",
       "       [25, 22],\n",
       "       [26, 22]])"
      ]
     },
     "execution_count": 11,
     "metadata": {},
     "output_type": "execute_result"
    }
   ],
   "source": [
    "from numpy import copy\n",
    "\n",
    "newArray = copy(bonded_atoms)\n",
    "for k, v in map_dict.items(): newArray[bonded_atoms==k] = v\n",
    "    \n",
    "newArray"
   ]
  },
  {
   "cell_type": "markdown",
   "id": "43fdada6-6037-4d64-b28d-85cb791ccedc",
   "metadata": {},
   "source": [
    "### Computing direction cosines"
   ]
  },
  {
   "cell_type": "code",
   "execution_count": 16,
   "id": "aa483c90-aa6b-41a8-9efc-a3f0ea50cdd4",
   "metadata": {},
   "outputs": [
    {
     "name": "stdout",
     "output_type": "stream",
     "text": [
      "[[[ 0.1015842  -0.04106522  0.04955101]]\n",
      "\n",
      " [[-0.06571006 -0.09999896 -0.00891685]]\n",
      "\n",
      " [[-0.04420209  0.05820775  0.09582234]]]\n",
      "\n",
      "------------------\n",
      "[[[ 0.84474753 -0.34148759  0.41205319]]\n",
      "\n",
      " [[-0.54763871 -0.83340818 -0.07431453]]\n",
      "\n",
      " [[-0.36677638  0.48299137  0.79510655]]]\n",
      "\n",
      "------------------\n",
      "[[[ 32.35510361 109.96753186  65.66612167]]\n",
      "\n",
      " [[123.20516896 146.45044898  94.26183786]]\n",
      "\n",
      " [[111.51694526  61.11904401  37.33467946]]]\n"
     ]
    }
   ],
   "source": [
    "ba = np.array([[0,1],[0,2],[0,3]])\n",
    "co = np.array([[1.84669995, 2.76379991, 8.36610031],[1.94828415, 2.72273469, 8.41565132],[1.78098989, 2.66380095, 8.35718346],[1.80249786, 2.82200766, 8.46192265]])\n",
    "\n",
    "# ba = np.array([[0,1],[2,3]])\n",
    "# co = np.array([[0, 0, 0],[1, 2, 3],[0, 0, 0],[2, 4, 4]])\n",
    "\n",
    "# Initialize distance array\n",
    "dis = np.zeros(ba.shape[0])\n",
    "coords_between_bonded_atoms = co[ba]\n",
    "bond_vectors = np.diff(coords_between_bonded_atoms, axis=1)\n",
    "dis = LA.norm(bond_vectors, axis=-1)\n",
    "cosines = np.divide(bond_vectors,dis[:, np.newaxis])\n",
    "angles = np.degrees(np.arccos(cosines))\n",
    "\n",
    "print(bond_vectors)\n",
    "print('\\n------------------')\n",
    "print(cosines)\n",
    "print('\\n------------------')\n",
    "print(angles)"
   ]
  },
  {
   "cell_type": "code",
   "execution_count": 18,
   "id": "fac92eed-41c5-467c-8fab-3a6c32218472",
   "metadata": {},
   "outputs": [],
   "source": [
    "## For loop to compare or compute between each pair of elements in an array"
   ]
  },
  {
   "cell_type": "code",
   "execution_count": 17,
   "id": "e83e421b-f132-48ae-a114-2a347be0827b",
   "metadata": {},
   "outputs": [
    {
     "name": "stdout",
     "output_type": "stream",
     "text": [
      "i:  0\n",
      "j + 1:  1\n",
      "i:  0\n",
      "j + 1:  2\n",
      "i:  0\n",
      "j + 1:  3\n",
      "----\n",
      "i:  1\n",
      "j + 1:  2\n",
      "i:  1\n",
      "j + 1:  3\n",
      "----\n",
      "i:  2\n",
      "j + 1:  3\n",
      "----\n"
     ]
    }
   ],
   "source": [
    "for i in range(3):\n",
    "    for j in range(i + 1, 3 + 1):\n",
    "        print('i: ', i)\n",
    "        print('j + 1: ', j)\n",
    "    print('----')"
   ]
  }
 ],
 "metadata": {
  "kernelspec": {
   "display_name": "Python 3",
   "language": "python",
   "name": "python3"
  },
  "language_info": {
   "codemirror_mode": {
    "name": "ipython",
    "version": 3
   },
   "file_extension": ".py",
   "mimetype": "text/x-python",
   "name": "python",
   "nbconvert_exporter": "python",
   "pygments_lexer": "ipython3",
   "version": "3.7.10"
  }
 },
 "nbformat": 4,
 "nbformat_minor": 5
}
