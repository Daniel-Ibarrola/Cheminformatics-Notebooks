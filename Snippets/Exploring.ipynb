{
 "cells": [
  {
   "cell_type": "code",
   "execution_count": 1,
   "id": "1cb792ba-817d-4497-9685-424bc2ee5482",
   "metadata": {},
   "outputs": [
    {
     "data": {
      "application/vnd.jupyter.widget-view+json": {
       "model_id": "ceab1a1837b94b328cdab93b1a27e9ec",
       "version_major": 2,
       "version_minor": 0
      },
      "text/plain": []
     },
     "metadata": {},
     "output_type": "display_data"
    }
   ],
   "source": [
    "%matplotlib inline\n",
    "import molsysmt as msm\n",
    "import networkx as nx\n",
    "import numpy as np\n",
    "import matplotlib.pyplot as plt"
   ]
  },
  {
   "cell_type": "code",
   "execution_count": 1,
   "id": "5078195c-e84f-417b-b73b-6d2e47b67100",
   "metadata": {},
   "outputs": [
    {
     "data": {
      "application/vnd.jupyter.widget-view+json": {
       "model_id": "fdc1d3edb1d74e29bd0689ec9eae299e",
       "version_major": 2,
       "version_minor": 0
      },
      "text/plain": []
     },
     "metadata": {},
     "output_type": "display_data"
    }
   ],
   "source": [
    "#from molsysmt.tools.nglview import adding_molsysmt\n",
    "#adding_molsysmt()"
   ]
  },
  {
   "cell_type": "markdown",
   "id": "6614e13f-bcf1-417a-ae3f-73d4dacc9a62",
   "metadata": {},
   "source": [
    "## Preprocess the molecular system"
   ]
  },
  {
   "cell_type": "code",
   "execution_count": 2,
   "id": "24e1dcbf-750e-45ab-8fec-401fb9678193",
   "metadata": {},
   "outputs": [
    {
     "name": "stderr",
     "output_type": "stream",
     "text": [
      "/Users/danielibarrola/Documents/molsys/MolSys_v0.1/MolSysMT/molsysmt/native/io/topology/classes/mmtf_MMTFDecoder.py:43: UserWarning: The structure in the PDB has biological assemblies. There are geometrical transformations proposed in the structure. See the following issue in the source code repository: https://github.com/uibcdf/MolSysMT/issues/33\n",
      "  warnings.warn(warning_message)\n"
     ]
    },
    {
     "data": {
      "text/html": [
       "<style  type=\"text/css\" >\n",
       "</style><table id=\"T_a8a63_\" ><thead>    <tr>        <th class=\"col_heading level0 col0\" >form</th>        <th class=\"col_heading level0 col1\" >n_atoms</th>        <th class=\"col_heading level0 col2\" >n_groups</th>        <th class=\"col_heading level0 col3\" >n_components</th>        <th class=\"col_heading level0 col4\" >n_chains</th>        <th class=\"col_heading level0 col5\" >n_molecules</th>        <th class=\"col_heading level0 col6\" >n_entities</th>        <th class=\"col_heading level0 col7\" >n_small_molecules</th>        <th class=\"col_heading level0 col8\" >n_peptides</th>        <th class=\"col_heading level0 col9\" >n_proteins</th>        <th class=\"col_heading level0 col10\" >n_frames</th>    </tr></thead><tbody>\n",
       "                <tr>\n",
       "                                <td id=\"T_a8a63_row0_col0\" class=\"data row0 col0\" >molsysmt.MolSys</td>\n",
       "                        <td id=\"T_a8a63_row0_col1\" class=\"data row0 col1\" >12538</td>\n",
       "                        <td id=\"T_a8a63_row0_col2\" class=\"data row0 col2\" >806</td>\n",
       "                        <td id=\"T_a8a63_row0_col3\" class=\"data row0 col3\" >6</td>\n",
       "                        <td id=\"T_a8a63_row0_col4\" class=\"data row0 col4\" >6</td>\n",
       "                        <td id=\"T_a8a63_row0_col5\" class=\"data row0 col5\" >6</td>\n",
       "                        <td id=\"T_a8a63_row0_col6\" class=\"data row0 col6\" >6</td>\n",
       "                        <td id=\"T_a8a63_row0_col7\" class=\"data row0 col7\" >2</td>\n",
       "                        <td id=\"T_a8a63_row0_col8\" class=\"data row0 col8\" >2</td>\n",
       "                        <td id=\"T_a8a63_row0_col9\" class=\"data row0 col9\" >2</td>\n",
       "                        <td id=\"T_a8a63_row0_col10\" class=\"data row0 col10\" >1</td>\n",
       "            </tr>\n",
       "    </tbody></table>"
      ],
      "text/plain": [
       "<pandas.io.formats.style.Styler at 0x7ffe005bb1d0>"
      ]
     },
     "execution_count": 2,
     "metadata": {},
     "output_type": "execute_result"
    }
   ],
   "source": [
    "molecular_system = msm.convert('1NCR', 'molsysmt.MolSys')\n",
    "molecular_system = msm.remove_solvent(molecular_system, water=True, ions=True)\n",
    "molecular_system = msm.add_missing_hydrogens(molecular_system, pH=7.4)\n",
    "msm.info(molecular_system)"
   ]
  },
  {
   "cell_type": "code",
   "execution_count": 3,
   "id": "1951994f-f23f-47bc-817b-3bf9ba32726a",
   "metadata": {},
   "outputs": [
    {
     "data": {
      "text/html": [
       "<style  type=\"text/css\" >\n",
       "</style><table id=\"T_2f50b_\" ><thead>    <tr>        <th class=\"col_heading level0 col0\" >index</th>        <th class=\"col_heading level0 col1\" >n atoms</th>        <th class=\"col_heading level0 col2\" >n groups</th>        <th class=\"col_heading level0 col3\" >chain index</th>        <th class=\"col_heading level0 col4\" >molecule index</th>        <th class=\"col_heading level0 col5\" >molecule type</th>        <th class=\"col_heading level0 col6\" >entity index</th>        <th class=\"col_heading level0 col7\" >entity name</th>    </tr></thead><tbody>\n",
       "                <tr>\n",
       "                                <td id=\"T_2f50b_row0_col0\" class=\"data row0 col0\" >0</td>\n",
       "                        <td id=\"T_2f50b_row0_col1\" class=\"data row0 col1\" >4489</td>\n",
       "                        <td id=\"T_2f50b_row0_col2\" class=\"data row0 col2\" >285</td>\n",
       "                        <td id=\"T_2f50b_row0_col3\" class=\"data row0 col3\" >0</td>\n",
       "                        <td id=\"T_2f50b_row0_col4\" class=\"data row0 col4\" >0</td>\n",
       "                        <td id=\"T_2f50b_row0_col5\" class=\"data row0 col5\" >protein</td>\n",
       "                        <td id=\"T_2f50b_row0_col6\" class=\"data row0 col6\" >0</td>\n",
       "                        <td id=\"T_2f50b_row0_col7\" class=\"data row0 col7\" >Protein_0</td>\n",
       "            </tr>\n",
       "            <tr>\n",
       "                                <td id=\"T_2f50b_row1_col0\" class=\"data row1 col0\" >1</td>\n",
       "                        <td id=\"T_2f50b_row1_col1\" class=\"data row1 col1\" >7571</td>\n",
       "                        <td id=\"T_2f50b_row1_col2\" class=\"data row1 col2\" >490</td>\n",
       "                        <td id=\"T_2f50b_row1_col3\" class=\"data row1 col3\" >1</td>\n",
       "                        <td id=\"T_2f50b_row1_col4\" class=\"data row1 col4\" >1</td>\n",
       "                        <td id=\"T_2f50b_row1_col5\" class=\"data row1 col5\" >protein</td>\n",
       "                        <td id=\"T_2f50b_row1_col6\" class=\"data row1 col6\" >1</td>\n",
       "                        <td id=\"T_2f50b_row1_col7\" class=\"data row1 col7\" >Protein_1</td>\n",
       "            </tr>\n",
       "            <tr>\n",
       "                                <td id=\"T_2f50b_row2_col0\" class=\"data row2 col0\" >2</td>\n",
       "                        <td id=\"T_2f50b_row2_col1\" class=\"data row2 col1\" >104</td>\n",
       "                        <td id=\"T_2f50b_row2_col2\" class=\"data row2 col2\" >7</td>\n",
       "                        <td id=\"T_2f50b_row2_col3\" class=\"data row2 col3\" >3</td>\n",
       "                        <td id=\"T_2f50b_row2_col4\" class=\"data row2 col4\" >2</td>\n",
       "                        <td id=\"T_2f50b_row2_col5\" class=\"data row2 col5\" >peptide</td>\n",
       "                        <td id=\"T_2f50b_row2_col6\" class=\"data row2 col6\" >2</td>\n",
       "                        <td id=\"T_2f50b_row2_col7\" class=\"data row2 col7\" >Peptide_0</td>\n",
       "            </tr>\n",
       "            <tr>\n",
       "                                <td id=\"T_2f50b_row3_col0\" class=\"data row3 col0\" >3</td>\n",
       "                        <td id=\"T_2f50b_row3_col1\" class=\"data row3 col1\" >332</td>\n",
       "                        <td id=\"T_2f50b_row3_col2\" class=\"data row3 col2\" >22</td>\n",
       "                        <td id=\"T_2f50b_row3_col3\" class=\"data row3 col3\" >3</td>\n",
       "                        <td id=\"T_2f50b_row3_col4\" class=\"data row3 col4\" >3</td>\n",
       "                        <td id=\"T_2f50b_row3_col5\" class=\"data row3 col5\" >peptide</td>\n",
       "                        <td id=\"T_2f50b_row3_col6\" class=\"data row3 col6\" >3</td>\n",
       "                        <td id=\"T_2f50b_row3_col7\" class=\"data row3 col7\" >Peptide_1</td>\n",
       "            </tr>\n",
       "            <tr>\n",
       "                                <td id=\"T_2f50b_row4_col0\" class=\"data row4 col0\" >4</td>\n",
       "                        <td id=\"T_2f50b_row4_col1\" class=\"data row4 col1\" >27</td>\n",
       "                        <td id=\"T_2f50b_row4_col2\" class=\"data row4 col2\" >1</td>\n",
       "                        <td id=\"T_2f50b_row4_col3\" class=\"data row4 col3\" >4</td>\n",
       "                        <td id=\"T_2f50b_row4_col4\" class=\"data row4 col4\" >4</td>\n",
       "                        <td id=\"T_2f50b_row4_col5\" class=\"data row4 col5\" >small molecule</td>\n",
       "                        <td id=\"T_2f50b_row4_col6\" class=\"data row4 col6\" >4</td>\n",
       "                        <td id=\"T_2f50b_row4_col7\" class=\"data row4 col7\" >W11</td>\n",
       "            </tr>\n",
       "            <tr>\n",
       "                                <td id=\"T_2f50b_row5_col0\" class=\"data row5 col0\" >5</td>\n",
       "                        <td id=\"T_2f50b_row5_col1\" class=\"data row5 col1\" >15</td>\n",
       "                        <td id=\"T_2f50b_row5_col2\" class=\"data row5 col2\" >1</td>\n",
       "                        <td id=\"T_2f50b_row5_col3\" class=\"data row5 col3\" >5</td>\n",
       "                        <td id=\"T_2f50b_row5_col4\" class=\"data row5 col4\" >5</td>\n",
       "                        <td id=\"T_2f50b_row5_col5\" class=\"data row5 col5\" >small molecule</td>\n",
       "                        <td id=\"T_2f50b_row5_col6\" class=\"data row5 col6\" >5</td>\n",
       "                        <td id=\"T_2f50b_row5_col7\" class=\"data row5 col7\" >MYR</td>\n",
       "            </tr>\n",
       "    </tbody></table>"
      ],
      "text/plain": [
       "<pandas.io.formats.style.Styler at 0x7ffe006639d0>"
      ]
     },
     "execution_count": 3,
     "metadata": {},
     "output_type": "execute_result"
    }
   ],
   "source": [
    "msm.info(molecular_system, target='component')"
   ]
  },
  {
   "cell_type": "code",
   "execution_count": 4,
   "id": "e645355f-4a51-4b53-8310-784f4e6e6c3c",
   "metadata": {},
   "outputs": [
    {
     "ename": "NotImplementedError",
     "evalue": "It has not been implemeted yet. Write a new issue in https://github.com/uibcdf/MolSysMT/issues asking for it.",
     "output_type": "error",
     "traceback": [
      "\u001b[0;31m---------------------------------------------------------------------------\u001b[0m",
      "\u001b[0;31mKeyError\u001b[0m                                  Traceback (most recent call last)",
      "\u001b[0;32m~/Documents/molsys/MolSys_v0.1/MolSysMT/molsysmt/multitool/get_form.py\u001b[0m in \u001b[0;36mget_form\u001b[0;34m(molecular_system)\u001b[0m\n\u001b[1;32m     56\u001b[0m     \u001b[0;32mtry\u001b[0m\u001b[0;34m:\u001b[0m\u001b[0;34m\u001b[0m\u001b[0;34m\u001b[0m\u001b[0m\n\u001b[0;32m---> 57\u001b[0;31m         \u001b[0;32mreturn\u001b[0m \u001b[0mdict_is_form\u001b[0m\u001b[0;34m[\u001b[0m\u001b[0mtype\u001b[0m\u001b[0;34m(\u001b[0m\u001b[0mmolecular_system\u001b[0m\u001b[0;34m)\u001b[0m\u001b[0;34m]\u001b[0m\u001b[0;34m\u001b[0m\u001b[0;34m\u001b[0m\u001b[0m\n\u001b[0m\u001b[1;32m     58\u001b[0m     \u001b[0;32mexcept\u001b[0m\u001b[0;34m:\u001b[0m\u001b[0;34m\u001b[0m\u001b[0;34m\u001b[0m\u001b[0m\n",
      "\u001b[0;31mKeyError\u001b[0m: <class 'str'>",
      "\nDuring handling of the above exception, another exception occurred:\n",
      "\u001b[0;31mKeyError\u001b[0m                                  Traceback (most recent call last)",
      "\u001b[0;32m~/Documents/molsys/MolSys_v0.1/MolSysMT/molsysmt/multitool/get_form.py\u001b[0m in \u001b[0;36mget_form\u001b[0;34m(molecular_system)\u001b[0m\n\u001b[1;32m     59\u001b[0m         \u001b[0;32mtry\u001b[0m\u001b[0;34m:\u001b[0m\u001b[0;34m\u001b[0m\u001b[0;34m\u001b[0m\u001b[0m\n\u001b[0;32m---> 60\u001b[0;31m             \u001b[0;32mreturn\u001b[0m \u001b[0mdict_is_form\u001b[0m\u001b[0;34m[\u001b[0m\u001b[0mmolecular_system\u001b[0m\u001b[0;34m]\u001b[0m\u001b[0;34m\u001b[0m\u001b[0;34m\u001b[0m\u001b[0m\n\u001b[0m\u001b[1;32m     61\u001b[0m         \u001b[0;32mexcept\u001b[0m\u001b[0;34m:\u001b[0m\u001b[0;34m\u001b[0m\u001b[0;34m\u001b[0m\u001b[0m\n",
      "\u001b[0;31mKeyError\u001b[0m: 'REMARK   1 CREATED WITH OPENMM 7.5.1 BY MOLSYSMT 0.0.4, 2021-05-26\\nCRYST1  359.494  343.657  332.184  90.00  90.00  90.00 P 1           1 \\nHETATM    1  O1  W11 F7001      38.878   3.907 124.467  1.00  0.00           O  \\nHETATM    2  N2  W11 F7001      37.703   4.766 124.834  1.00  0.00           N  \\nHETATM    3  C3  W11 F7001      37.057   5.012 123.704  1.00  0.00           C  \\nHETATM    4  CM3 W11 F7001      35.827   5.861 123.815  1.00  0.00           C  \\nHETATM    5  C4  W11 F7001      37.699   4.393 122.609  1.00  0.00           C  \\nHETATM    6  C5  W11 F7001      38.809   3.719 123.077  1.00  0.00           C  \\nHETATM    7  C1C W11 F7001      39.888   2.882 122.448  1.00  0.00           C  \\nHETATM    8  C2C W11 F7001      41.206   3.383 122.988  1.00  0.00           C  \\nHETATM    9  C3C W11 F7001      42.326   2.622 122.383  1.00  0.00           C  \\nHETATM   10  O1B W11 F7001      42.680   1.753 123.445  1.00  0.00           O  \\nHETATM   11  C1B W11 F7001      43.436   0.585 123.079  1.00  0.00           C  \\nHETATM   12  C2B W11 F7001      44.878   0.704 123.050  1.00  0.00           C  \\nHETATM   13  CM2 W11 F7001      45.460   2.006 123.421  1.00  0.00           C  \\nHETATM   14  C3B W11 F7001      45.772  -0.312 122.689  1.00  0.00           C  \\nHETATM   15  C4B W11 F7001      45.194  -1.564 122.327  1.00  0.00           C  \\nHETATM   16  C5B W11 F7001      43.755  -1.836 122.327  1.00  0.00           C  \\nHETATM   17  C6B W11 F7001      42.868  -0.745 122.712  1.00  0.00           C  \\nHETATM   18  CM6 W11 F7001      41.370  -1.110 122.681  1.00  0.00           C  \\nHETATM   19  C2A W11 F7001      46.117  -2.620 121.907  1.00  0.00           C  \\nHETATM   20  N1A W11 F7001      45.798  -3.650 120.994  1.00  0.00           N  \\nHETATM   21  N3A W11 F7001      47.451  -2.683 122.383  1.00  0.00           N  \\nHETATM   22  C3A W11 F7001      47.954  -3.824 121.709  1.00  0.00           C  \\nHETATM   23  CM4 W11 F7001      49.354  -4.307 121.885  1.00  0.00           C  \\nHETATM   24  O1A W11 F7001      47.096  -4.511 120.847  1.00  0.00           O  \\nHETATM   25  F1  W11 F7001      49.738  -3.305 122.793  1.00  0.00           F  \\nHETATM   26  F2  W11 F7001      50.236  -4.317 120.876  1.00  0.00           F  \\nHETATM   27  F3  W11 F7001      49.281  -5.518 122.463  1.00  0.00           F  \\nTER      28      W11 F7001\\nCONECT    1    2    6\\nCONECT    2    1    3\\nCONECT    3    2    4    5\\nCONECT    4    3\\nCONECT    5    3    6\\nCONECT    6    1    5    7\\nCONECT    7    6    8\\nCONECT    8    7    9\\nCONECT    9    8   10\\nCONECT   10    9   11\\nCONECT   11   10   12   17\\nCONECT   12   11   13   14\\nCONECT   13   12\\nCONECT   14   12   15\\nCONECT   15   14   16   19\\nCONECT   16   15   17\\nCONECT   17   11   16   18\\nCONECT   18   17\\nCONECT   19   15   20   21\\nCONECT   20   19   24\\nCONECT   21   19   22\\nCONECT   22   21   23   24\\nCONECT   23   22   25   26   27\\nCONECT   24   20   22\\nCONECT   25   23\\nCONECT   26   23\\nCONECT   27   23\\nEND\\n'",
      "\nDuring handling of the above exception, another exception occurred:\n",
      "\u001b[0;31mNotImplementedError\u001b[0m                       Traceback (most recent call last)",
      "\u001b[0;32m<ipython-input-4-970916075900>\u001b[0m in \u001b[0;36m<module>\u001b[0;34m\u001b[0m\n\u001b[0;32m----> 1\u001b[0;31m \u001b[0mmsm\u001b[0m\u001b[0;34m.\u001b[0m\u001b[0mview\u001b[0m\u001b[0;34m(\u001b[0m\u001b[0mmolecular_system\u001b[0m\u001b[0;34m,\u001b[0m \u001b[0mselection\u001b[0m\u001b[0;34m=\u001b[0m\u001b[0;34m'entity_name==\"W11\"'\u001b[0m\u001b[0;34m)\u001b[0m\u001b[0;34m\u001b[0m\u001b[0;34m\u001b[0m\u001b[0m\n\u001b[0m",
      "\u001b[0;32m~/Documents/molsys/MolSys_v0.1/MolSysMT/molsysmt/multitool/view.py\u001b[0m in \u001b[0;36mview\u001b[0;34m(molecular_system, viewer, selection, frame_indices, concatenate_frames, standardize, surface, syntaxis)\u001b[0m\n\u001b[1;32m     14\u001b[0m     \u001b[0;32mif\u001b[0m \u001b[0mis_a_single_molecular_system\u001b[0m\u001b[0;34m(\u001b[0m\u001b[0mmolecular_system\u001b[0m\u001b[0;34m)\u001b[0m\u001b[0;34m:\u001b[0m\u001b[0;34m\u001b[0m\u001b[0;34m\u001b[0m\u001b[0m\n\u001b[1;32m     15\u001b[0m         \u001b[0mmolecular_system\u001b[0m \u001b[0;34m=\u001b[0m \u001b[0mdigest_molecular_system\u001b[0m\u001b[0;34m(\u001b[0m\u001b[0mmolecular_system\u001b[0m\u001b[0;34m)\u001b[0m\u001b[0;34m\u001b[0m\u001b[0;34m\u001b[0m\u001b[0m\n\u001b[0;32m---> 16\u001b[0;31m         \u001b[0mtmp_item\u001b[0m \u001b[0;34m=\u001b[0m \u001b[0mconvert\u001b[0m\u001b[0;34m(\u001b[0m\u001b[0mmolecular_system\u001b[0m\u001b[0;34m,\u001b[0m \u001b[0mto_form\u001b[0m\u001b[0;34m=\u001b[0m\u001b[0mform_viewer\u001b[0m\u001b[0;34m,\u001b[0m \u001b[0mselection\u001b[0m\u001b[0;34m=\u001b[0m\u001b[0mselection\u001b[0m\u001b[0;34m,\u001b[0m \u001b[0mframe_indices\u001b[0m\u001b[0;34m=\u001b[0m\u001b[0mframe_indices\u001b[0m\u001b[0;34m,\u001b[0m \u001b[0msyntaxis\u001b[0m\u001b[0;34m=\u001b[0m\u001b[0msyntaxis\u001b[0m\u001b[0;34m)\u001b[0m\u001b[0;34m\u001b[0m\u001b[0;34m\u001b[0m\u001b[0m\n\u001b[0m\u001b[1;32m     17\u001b[0m     \u001b[0;32melse\u001b[0m\u001b[0;34m:\u001b[0m\u001b[0;34m\u001b[0m\u001b[0;34m\u001b[0m\u001b[0m\n\u001b[1;32m     18\u001b[0m         \u001b[0;32mif\u001b[0m \u001b[0mconcatenate_frames\u001b[0m\u001b[0;34m:\u001b[0m\u001b[0;34m\u001b[0m\u001b[0;34m\u001b[0m\u001b[0m\n",
      "\u001b[0;32m~/Documents/molsys/MolSys_v0.1/MolSysMT/molsysmt/multitool/convert.py\u001b[0m in \u001b[0;36mconvert\u001b[0;34m(molecular_system, to_form, selection, frame_indices, syntaxis, **kwargs)\u001b[0m\n\u001b[1;32m     97\u001b[0m     \u001b[0;32melse\u001b[0m\u001b[0;34m:\u001b[0m\u001b[0;34m\u001b[0m\u001b[0;34m\u001b[0m\u001b[0m\n\u001b[1;32m     98\u001b[0m         tmp_item, _ = dict_convert[item_form][to_form](item, molecular_system, atom_indices=atom_indices, frame_indices=frame_indices,\n\u001b[0;32m---> 99\u001b[0;31m                                                      **conversion_arguments, **kwargs)\n\u001b[0m\u001b[1;32m    100\u001b[0m \u001b[0;34m\u001b[0m\u001b[0m\n\u001b[1;32m    101\u001b[0m     \u001b[0mtmp_item\u001b[0m \u001b[0;34m=\u001b[0m \u001b[0mdigest_output\u001b[0m\u001b[0;34m(\u001b[0m\u001b[0mtmp_item\u001b[0m\u001b[0;34m)\u001b[0m\u001b[0;34m\u001b[0m\u001b[0;34m\u001b[0m\u001b[0m\n",
      "\u001b[0;32m~/Documents/molsys/MolSys_v0.1/MolSysMT/molsysmt/forms/classes/api_molsysmt_MolSys.py\u001b[0m in \u001b[0;36mto_nglview_NGLWidget\u001b[0;34m(item, molecular_system, atom_indices, frame_indices)\u001b[0m\n\u001b[1;32m    171\u001b[0m     \u001b[0;32mfrom\u001b[0m \u001b[0mnglview\u001b[0m \u001b[0;32mimport\u001b[0m \u001b[0mshow_molsysmt\u001b[0m\u001b[0;34m\u001b[0m\u001b[0;34m\u001b[0m\u001b[0m\n\u001b[1;32m    172\u001b[0m \u001b[0;34m\u001b[0m\u001b[0m\n\u001b[0;32m--> 173\u001b[0;31m     \u001b[0mtmp_item\u001b[0m \u001b[0;34m=\u001b[0m \u001b[0mshow_molsysmt\u001b[0m\u001b[0;34m(\u001b[0m\u001b[0mitem\u001b[0m\u001b[0;34m,\u001b[0m \u001b[0mselection\u001b[0m\u001b[0;34m=\u001b[0m\u001b[0matom_indices\u001b[0m\u001b[0;34m,\u001b[0m \u001b[0mframe_indices\u001b[0m\u001b[0;34m=\u001b[0m\u001b[0mframe_indices\u001b[0m\u001b[0;34m)\u001b[0m\u001b[0;34m\u001b[0m\u001b[0;34m\u001b[0m\u001b[0m\n\u001b[0m\u001b[1;32m    174\u001b[0m     \u001b[0;32mif\u001b[0m \u001b[0mmolecular_system\u001b[0m \u001b[0;32mis\u001b[0m \u001b[0;32mnot\u001b[0m \u001b[0;32mNone\u001b[0m\u001b[0;34m:\u001b[0m\u001b[0;34m\u001b[0m\u001b[0;34m\u001b[0m\u001b[0m\n\u001b[1;32m    175\u001b[0m         \u001b[0mtmp_molecular_system\u001b[0m \u001b[0;34m=\u001b[0m \u001b[0mmolecular_system\u001b[0m\u001b[0;34m.\u001b[0m\u001b[0mcombine_with_items\u001b[0m\u001b[0;34m(\u001b[0m\u001b[0mtmp_item\u001b[0m\u001b[0;34m)\u001b[0m\u001b[0;34m\u001b[0m\u001b[0;34m\u001b[0m\u001b[0m\n",
      "\u001b[0;32m~/miniconda3/envs/openpharmacophore/lib/python3.7/site-packages/nglview/show.py\u001b[0m in \u001b[0;36mshow_molsysmt\u001b[0;34m(molsys, selection, frame_indices, **kwargs)\u001b[0m\n\u001b[1;32m    487\u001b[0m     '''\n\u001b[1;32m    488\u001b[0m     structure_trajectory = MolSysMTTrajectory(molsys, selection=selection,\n\u001b[0;32m--> 489\u001b[0;31m                                               frame_indices=frame_indices)\n\u001b[0m\u001b[1;32m    490\u001b[0m     \u001b[0;32mreturn\u001b[0m \u001b[0mNGLWidget\u001b[0m\u001b[0;34m(\u001b[0m\u001b[0mstructure_trajectory\u001b[0m\u001b[0;34m,\u001b[0m \u001b[0;34m**\u001b[0m\u001b[0mkwargs\u001b[0m\u001b[0;34m)\u001b[0m\u001b[0;34m\u001b[0m\u001b[0;34m\u001b[0m\u001b[0m\n",
      "\u001b[0;32m~/miniconda3/envs/openpharmacophore/lib/python3.7/site-packages/nglview/adaptor.py\u001b[0m in \u001b[0;36m__init__\u001b[0;34m(self, molsys, selection, frame_indices)\u001b[0m\n\u001b[1;32m    621\u001b[0m                 \"'MolSysMTTrajectory' requires the molsysmt package\")\n\u001b[1;32m    622\u001b[0m \u001b[0;34m\u001b[0m\u001b[0m\n\u001b[0;32m--> 623\u001b[0;31m         \u001b[0mself\u001b[0m\u001b[0;34m.\u001b[0m\u001b[0mpdb\u001b[0m \u001b[0;34m=\u001b[0m \u001b[0mmsm\u001b[0m\u001b[0;34m.\u001b[0m\u001b[0mconvert\u001b[0m\u001b[0;34m(\u001b[0m\u001b[0mmolsys\u001b[0m\u001b[0;34m,\u001b[0m \u001b[0mto_form\u001b[0m\u001b[0;34m=\u001b[0m\u001b[0;34m'.pdb'\u001b[0m\u001b[0;34m,\u001b[0m \u001b[0mselection\u001b[0m\u001b[0;34m=\u001b[0m\u001b[0mselection\u001b[0m\u001b[0;34m,\u001b[0m \u001b[0mframe_indices\u001b[0m\u001b[0;34m=\u001b[0m\u001b[0;36m0\u001b[0m\u001b[0;34m)\u001b[0m\u001b[0;34m\u001b[0m\u001b[0;34m\u001b[0m\u001b[0m\n\u001b[0m\u001b[1;32m    624\u001b[0m         \u001b[0m_coordinates\u001b[0m \u001b[0;34m=\u001b[0m \u001b[0mmsm\u001b[0m\u001b[0;34m.\u001b[0m\u001b[0mget\u001b[0m\u001b[0;34m(\u001b[0m\u001b[0mmolsys\u001b[0m\u001b[0;34m,\u001b[0m \u001b[0mtarget\u001b[0m\u001b[0;34m=\u001b[0m\u001b[0;34m'system'\u001b[0m\u001b[0;34m,\u001b[0m \u001b[0mframe_indices\u001b[0m\u001b[0;34m=\u001b[0m\u001b[0mframe_indices\u001b[0m\u001b[0;34m,\u001b[0m \u001b[0mcoordinates\u001b[0m\u001b[0;34m=\u001b[0m\u001b[0;32mTrue\u001b[0m\u001b[0;34m)\u001b[0m\u001b[0;34m\u001b[0m\u001b[0;34m\u001b[0m\u001b[0m\n\u001b[1;32m    625\u001b[0m         \u001b[0mself\u001b[0m\u001b[0;34m.\u001b[0m\u001b[0mcoordinates\u001b[0m \u001b[0;34m=\u001b[0m \u001b[0mpuw\u001b[0m\u001b[0;34m.\u001b[0m\u001b[0mget_value\u001b[0m\u001b[0;34m(\u001b[0m\u001b[0m_coordinates\u001b[0m\u001b[0;34m,\u001b[0m\u001b[0;34m'angstroms'\u001b[0m\u001b[0;34m)\u001b[0m\u001b[0;34m\u001b[0m\u001b[0;34m\u001b[0m\u001b[0m\n",
      "\u001b[0;32m~/Documents/molsys/MolSys_v0.1/MolSysMT/molsysmt/multitool/convert.py\u001b[0m in \u001b[0;36mconvert\u001b[0;34m(molecular_system, to_form, selection, frame_indices, syntaxis, **kwargs)\u001b[0m\n\u001b[1;32m     97\u001b[0m     \u001b[0;32melse\u001b[0m\u001b[0;34m:\u001b[0m\u001b[0;34m\u001b[0m\u001b[0;34m\u001b[0m\u001b[0m\n\u001b[1;32m     98\u001b[0m         tmp_item, _ = dict_convert[item_form][to_form](item, molecular_system, atom_indices=atom_indices, frame_indices=frame_indices,\n\u001b[0;32m---> 99\u001b[0;31m                                                      **conversion_arguments, **kwargs)\n\u001b[0m\u001b[1;32m    100\u001b[0m \u001b[0;34m\u001b[0m\u001b[0m\n\u001b[1;32m    101\u001b[0m     \u001b[0mtmp_item\u001b[0m \u001b[0;34m=\u001b[0m \u001b[0mdigest_output\u001b[0m\u001b[0;34m(\u001b[0m\u001b[0mtmp_item\u001b[0m\u001b[0;34m)\u001b[0m\u001b[0;34m\u001b[0m\u001b[0;34m\u001b[0m\u001b[0m\n",
      "\u001b[0;32m~/Documents/molsys/MolSys_v0.1/MolSysMT/molsysmt/forms/classes/api_molsysmt_MolSys.py\u001b[0m in \u001b[0;36mto_file_pdb\u001b[0;34m(item, molecular_system, atom_indices, frame_indices, output_filename)\u001b[0m\n\u001b[1;32m    137\u001b[0m \u001b[0;34m\u001b[0m\u001b[0m\n\u001b[1;32m    138\u001b[0m     tmp_item, tmp_molecular_system = molsysmt_MolSys_to_file_pdb(item,\n\u001b[0;32m--> 139\u001b[0;31m             molecular_system=molecular_system, atom_indices=atom_indices, frame_indices=frame_indices, output_filename=output_filename)\n\u001b[0m\u001b[1;32m    140\u001b[0m \u001b[0;34m\u001b[0m\u001b[0m\n\u001b[1;32m    141\u001b[0m     \u001b[0;32mreturn\u001b[0m \u001b[0mtmp_item\u001b[0m\u001b[0;34m,\u001b[0m \u001b[0mtmp_molecular_system\u001b[0m\u001b[0;34m\u001b[0m\u001b[0;34m\u001b[0m\u001b[0m\n",
      "\u001b[0;32m~/Documents/molsys/MolSys_v0.1/MolSysMT/molsysmt/native/io/molsys/files/file_pdb.py\u001b[0m in \u001b[0;36mto_file_pdb\u001b[0;34m(item, molecular_system, atom_indices, frame_indices, output_filename)\u001b[0m\n\u001b[1;32m      5\u001b[0m \u001b[0;34m\u001b[0m\u001b[0m\n\u001b[1;32m      6\u001b[0m     \u001b[0mtmp_item\u001b[0m\u001b[0;34m,\u001b[0m \u001b[0mtmp_molecular_system\u001b[0m \u001b[0;34m=\u001b[0m \u001b[0mmolsysmt_MolSys_to_openmm_Topology\u001b[0m\u001b[0;34m(\u001b[0m\u001b[0mitem\u001b[0m\u001b[0;34m,\u001b[0m \u001b[0mmolecular_system\u001b[0m\u001b[0;34m=\u001b[0m\u001b[0mmolecular_system\u001b[0m\u001b[0;34m)\u001b[0m\u001b[0;34m\u001b[0m\u001b[0;34m\u001b[0m\u001b[0m\n\u001b[0;32m----> 7\u001b[0;31m     \u001b[0mtmp_item\u001b[0m\u001b[0;34m,\u001b[0m \u001b[0mtmp_molecular_system\u001b[0m \u001b[0;34m=\u001b[0m \u001b[0mopenmm_Topology_to_file_pdb\u001b[0m\u001b[0;34m(\u001b[0m\u001b[0mtmp_item\u001b[0m\u001b[0;34m,\u001b[0m \u001b[0mmolecular_system\u001b[0m\u001b[0;34m=\u001b[0m\u001b[0mtmp_molecular_system\u001b[0m\u001b[0;34m,\u001b[0m \u001b[0matom_indices\u001b[0m\u001b[0;34m=\u001b[0m\u001b[0matom_indices\u001b[0m\u001b[0;34m,\u001b[0m \u001b[0mframe_indices\u001b[0m\u001b[0;34m=\u001b[0m\u001b[0mframe_indices\u001b[0m\u001b[0;34m,\u001b[0m \u001b[0moutput_filename\u001b[0m\u001b[0;34m=\u001b[0m\u001b[0moutput_filename\u001b[0m\u001b[0;34m)\u001b[0m\u001b[0;34m\u001b[0m\u001b[0;34m\u001b[0m\u001b[0m\n\u001b[0m\u001b[1;32m      8\u001b[0m \u001b[0;34m\u001b[0m\u001b[0m\n\u001b[1;32m      9\u001b[0m     \u001b[0;32mreturn\u001b[0m \u001b[0mtmp_item\u001b[0m\u001b[0;34m,\u001b[0m \u001b[0mtmp_molecular_system\u001b[0m\u001b[0;34m\u001b[0m\u001b[0;34m\u001b[0m\u001b[0m\n",
      "\u001b[0;32m~/Documents/molsys/MolSys_v0.1/MolSysMT/molsysmt/forms/classes/api_openmm_Topology.py\u001b[0m in \u001b[0;36mto_file_pdb\u001b[0;34m(item, molecular_system, atom_indices, frame_indices, output_filename)\u001b[0m\n\u001b[1;32m    123\u001b[0m \u001b[0;32mdef\u001b[0m \u001b[0mto_file_pdb\u001b[0m\u001b[0;34m(\u001b[0m\u001b[0mitem\u001b[0m\u001b[0;34m,\u001b[0m \u001b[0mmolecular_system\u001b[0m\u001b[0;34m=\u001b[0m\u001b[0;32mNone\u001b[0m\u001b[0;34m,\u001b[0m \u001b[0matom_indices\u001b[0m\u001b[0;34m=\u001b[0m\u001b[0;34m'all'\u001b[0m\u001b[0;34m,\u001b[0m \u001b[0mframe_indices\u001b[0m\u001b[0;34m=\u001b[0m\u001b[0;34m'all'\u001b[0m\u001b[0;34m,\u001b[0m \u001b[0moutput_filename\u001b[0m\u001b[0;34m=\u001b[0m\u001b[0;32mNone\u001b[0m\u001b[0;34m)\u001b[0m\u001b[0;34m:\u001b[0m\u001b[0;34m\u001b[0m\u001b[0;34m\u001b[0m\u001b[0m\n\u001b[1;32m    124\u001b[0m \u001b[0;34m\u001b[0m\u001b[0m\n\u001b[0;32m--> 125\u001b[0;31m     \u001b[0mtmp_item\u001b[0m\u001b[0;34m,\u001b[0m \u001b[0m_\u001b[0m \u001b[0;34m=\u001b[0m \u001b[0mto_string_pdb\u001b[0m\u001b[0;34m(\u001b[0m\u001b[0mitem\u001b[0m\u001b[0;34m,\u001b[0m \u001b[0mmolecular_system\u001b[0m\u001b[0;34m,\u001b[0m \u001b[0matom_indices\u001b[0m\u001b[0;34m=\u001b[0m\u001b[0matom_indices\u001b[0m\u001b[0;34m,\u001b[0m \u001b[0mframe_indices\u001b[0m\u001b[0;34m=\u001b[0m\u001b[0mframe_indices\u001b[0m\u001b[0;34m)\u001b[0m\u001b[0;34m\u001b[0m\u001b[0;34m\u001b[0m\u001b[0m\n\u001b[0m\u001b[1;32m    126\u001b[0m \u001b[0;34m\u001b[0m\u001b[0m\n\u001b[1;32m    127\u001b[0m     \u001b[0;32mwith\u001b[0m \u001b[0mopen\u001b[0m\u001b[0;34m(\u001b[0m\u001b[0moutput_filename\u001b[0m\u001b[0;34m,\u001b[0m \u001b[0;34m'w'\u001b[0m\u001b[0;34m)\u001b[0m \u001b[0;32mas\u001b[0m \u001b[0mfff\u001b[0m\u001b[0;34m:\u001b[0m\u001b[0;34m\u001b[0m\u001b[0;34m\u001b[0m\u001b[0m\n",
      "\u001b[0;32m~/Documents/molsys/MolSys_v0.1/MolSysMT/molsysmt/forms/classes/api_openmm_Topology.py\u001b[0m in \u001b[0;36mto_string_pdb\u001b[0;34m(item, molecular_system, atom_indices, frame_indices)\u001b[0m\n\u001b[1;32m    162\u001b[0m     \u001b[0mtmp_item\u001b[0m \u001b[0;34m=\u001b[0m \u001b[0mfiledata\u001b[0m\u001b[0;34m\u001b[0m\u001b[0;34m\u001b[0m\u001b[0m\n\u001b[1;32m    163\u001b[0m \u001b[0;34m\u001b[0m\u001b[0m\n\u001b[0;32m--> 164\u001b[0;31m     \u001b[0mtmp_molecular_system\u001b[0m \u001b[0;34m=\u001b[0m \u001b[0mmolecular_system\u001b[0m\u001b[0;34m.\u001b[0m\u001b[0mcombine_with_items\u001b[0m\u001b[0;34m(\u001b[0m\u001b[0mtmp_item\u001b[0m\u001b[0;34m)\u001b[0m\u001b[0;34m\u001b[0m\u001b[0;34m\u001b[0m\u001b[0m\n\u001b[0m\u001b[1;32m    165\u001b[0m \u001b[0;34m\u001b[0m\u001b[0m\n\u001b[1;32m    166\u001b[0m     \u001b[0;32mreturn\u001b[0m \u001b[0mtmp_item\u001b[0m\u001b[0;34m,\u001b[0m \u001b[0mtmp_molecular_system\u001b[0m\u001b[0;34m\u001b[0m\u001b[0;34m\u001b[0m\u001b[0m\n",
      "\u001b[0;32m~/Documents/molsys/MolSys_v0.1/MolSysMT/molsysmt/molecular_system.py\u001b[0m in \u001b[0;36mcombine_with_items\u001b[0;34m(self, items, atom_indices, frame_indices)\u001b[0m\n\u001b[1;32m    114\u001b[0m         \u001b[0mitems\u001b[0m \u001b[0;34m=\u001b[0m \u001b[0mlist\u001b[0m\u001b[0;34m(\u001b[0m\u001b[0mfilter\u001b[0m\u001b[0;34m(\u001b[0m\u001b[0;32mNone\u001b[0m\u001b[0;34m.\u001b[0m\u001b[0m__ne__\u001b[0m\u001b[0;34m,\u001b[0m \u001b[0mitems\u001b[0m\u001b[0;34m)\u001b[0m\u001b[0;34m)\u001b[0m\u001b[0;34m\u001b[0m\u001b[0;34m\u001b[0m\u001b[0m\n\u001b[1;32m    115\u001b[0m \u001b[0;34m\u001b[0m\u001b[0m\n\u001b[0;32m--> 116\u001b[0;31m         \u001b[0moutput_molecular_system\u001b[0m \u001b[0;34m=\u001b[0m \u001b[0mMolecularSystem\u001b[0m\u001b[0;34m(\u001b[0m\u001b[0mitems\u001b[0m\u001b[0;34m)\u001b[0m\u001b[0;34m\u001b[0m\u001b[0;34m\u001b[0m\u001b[0m\n\u001b[0m\u001b[1;32m    117\u001b[0m \u001b[0;34m\u001b[0m\u001b[0m\n\u001b[1;32m    118\u001b[0m         \u001b[0mextracted_items\u001b[0m \u001b[0;34m=\u001b[0m \u001b[0;34m{\u001b[0m\u001b[0;34m}\u001b[0m\u001b[0;34m\u001b[0m\u001b[0;34m\u001b[0m\u001b[0m\n",
      "\u001b[0;32m~/Documents/molsys/MolSys_v0.1/MolSysMT/molsysmt/molecular_system.py\u001b[0m in \u001b[0;36m__init__\u001b[0;34m(self, items)\u001b[0m\n\u001b[1;32m     61\u001b[0m                     \u001b[0;32mraise\u001b[0m \u001b[0mNeedsSingleMolecularSystemError\u001b[0m\u001b[0;34m(\u001b[0m\u001b[0;34m)\u001b[0m\u001b[0;34m\u001b[0m\u001b[0;34m\u001b[0m\u001b[0m\n\u001b[1;32m     62\u001b[0m \u001b[0;34m\u001b[0m\u001b[0m\n\u001b[0;32m---> 63\u001b[0;31m                 \u001b[0mself\u001b[0m\u001b[0;34m.\u001b[0m\u001b[0melements_item\u001b[0m\u001b[0;34m,\u001b[0m \u001b[0mself\u001b[0m\u001b[0;34m.\u001b[0m\u001b[0melements_form\u001b[0m \u001b[0;34m=\u001b[0m \u001b[0mwhere_elements_in_molecular_system\u001b[0m\u001b[0;34m(\u001b[0m\u001b[0mitems\u001b[0m\u001b[0;34m)\u001b[0m\u001b[0;34m\u001b[0m\u001b[0;34m\u001b[0m\u001b[0m\n\u001b[0m\u001b[1;32m     64\u001b[0m                 \u001b[0mself\u001b[0m\u001b[0;34m.\u001b[0m\u001b[0mbonds_item\u001b[0m\u001b[0;34m,\u001b[0m \u001b[0mself\u001b[0m\u001b[0;34m.\u001b[0m\u001b[0mbonds_form\u001b[0m \u001b[0;34m=\u001b[0m \u001b[0mwhere_bonds_in_molecular_system\u001b[0m\u001b[0;34m(\u001b[0m\u001b[0mitems\u001b[0m\u001b[0;34m)\u001b[0m\u001b[0;34m\u001b[0m\u001b[0;34m\u001b[0m\u001b[0m\n\u001b[1;32m     65\u001b[0m                 \u001b[0mself\u001b[0m\u001b[0;34m.\u001b[0m\u001b[0mcoordinates_item\u001b[0m\u001b[0;34m,\u001b[0m \u001b[0mself\u001b[0m\u001b[0;34m.\u001b[0m\u001b[0mcoordinates_form\u001b[0m \u001b[0;34m=\u001b[0m \u001b[0mwhere_coordinates_in_molecular_system\u001b[0m\u001b[0;34m(\u001b[0m\u001b[0mitems\u001b[0m\u001b[0;34m)\u001b[0m\u001b[0;34m\u001b[0m\u001b[0;34m\u001b[0m\u001b[0m\n",
      "\u001b[0;32m~/Documents/molsys/MolSys_v0.1/MolSysMT/molsysmt/tools/molecular_systems.py\u001b[0m in \u001b[0;36mwhere_elements_in_molecular_system\u001b[0;34m(items)\u001b[0m\n\u001b[1;32m     28\u001b[0m     \u001b[0;32mif\u001b[0m \u001b[0mtype\u001b[0m\u001b[0;34m(\u001b[0m\u001b[0mitems\u001b[0m\u001b[0;34m)\u001b[0m \u001b[0;32min\u001b[0m \u001b[0;34m[\u001b[0m\u001b[0mlist\u001b[0m\u001b[0;34m,\u001b[0m \u001b[0mtuple\u001b[0m\u001b[0;34m]\u001b[0m\u001b[0;34m:\u001b[0m\u001b[0;34m\u001b[0m\u001b[0;34m\u001b[0m\u001b[0m\n\u001b[1;32m     29\u001b[0m         \u001b[0;32mfor\u001b[0m \u001b[0mitem\u001b[0m \u001b[0;32min\u001b[0m \u001b[0mitems\u001b[0m\u001b[0;34m:\u001b[0m\u001b[0;34m\u001b[0m\u001b[0;34m\u001b[0m\u001b[0m\n\u001b[0;32m---> 30\u001b[0;31m             \u001b[0mform_in\u001b[0m \u001b[0;34m=\u001b[0m \u001b[0mget_form\u001b[0m\u001b[0;34m(\u001b[0m\u001b[0mitem\u001b[0m\u001b[0;34m)\u001b[0m\u001b[0;34m\u001b[0m\u001b[0;34m\u001b[0m\u001b[0m\n\u001b[0m\u001b[1;32m     31\u001b[0m             \u001b[0mhas_elements\u001b[0m \u001b[0;34m=\u001b[0m \u001b[0mdict_has\u001b[0m\u001b[0;34m[\u001b[0m\u001b[0mform_in\u001b[0m\u001b[0;34m]\u001b[0m\u001b[0;34m[\u001b[0m\u001b[0;34m\"elements\"\u001b[0m\u001b[0;34m]\u001b[0m\u001b[0;34m\u001b[0m\u001b[0;34m\u001b[0m\u001b[0m\n\u001b[1;32m     32\u001b[0m             \u001b[0mhas_coordinates\u001b[0m \u001b[0;34m=\u001b[0m \u001b[0mdict_has\u001b[0m\u001b[0;34m[\u001b[0m\u001b[0mform_in\u001b[0m\u001b[0;34m]\u001b[0m\u001b[0;34m[\u001b[0m\u001b[0;34m\"coordinates\"\u001b[0m\u001b[0;34m]\u001b[0m\u001b[0;34m\u001b[0m\u001b[0;34m\u001b[0m\u001b[0m\n",
      "\u001b[0;32m~/Documents/molsys/MolSys_v0.1/MolSysMT/molsysmt/multitool/get_form.py\u001b[0m in \u001b[0;36mget_form\u001b[0;34m(molecular_system)\u001b[0m\n\u001b[1;32m     60\u001b[0m             \u001b[0;32mreturn\u001b[0m \u001b[0mdict_is_form\u001b[0m\u001b[0;34m[\u001b[0m\u001b[0mmolecular_system\u001b[0m\u001b[0;34m]\u001b[0m\u001b[0;34m\u001b[0m\u001b[0;34m\u001b[0m\u001b[0m\n\u001b[1;32m     61\u001b[0m         \u001b[0;32mexcept\u001b[0m\u001b[0;34m:\u001b[0m\u001b[0;34m\u001b[0m\u001b[0;34m\u001b[0m\u001b[0m\n\u001b[0;32m---> 62\u001b[0;31m             \u001b[0;32mraise\u001b[0m \u001b[0mNotImplementedError\u001b[0m\u001b[0;34m(\u001b[0m\u001b[0;34m)\u001b[0m\u001b[0;34m\u001b[0m\u001b[0;34m\u001b[0m\u001b[0m\n\u001b[0m\u001b[1;32m     63\u001b[0m \u001b[0;34m\u001b[0m\u001b[0m\n",
      "\u001b[0;31mNotImplementedError\u001b[0m: It has not been implemeted yet. Write a new issue in https://github.com/uibcdf/MolSysMT/issues asking for it."
     ]
    }
   ],
   "source": [
    "msm.view(molecular_system, selection='entity_name==\"W11\"')"
   ]
  },
  {
   "cell_type": "markdown",
   "id": "fd8244d0-085c-4701-95b5-2493489819f2",
   "metadata": {},
   "source": [
    "## Make an Networkx graph for the small molecule\n",
    "\n",
    "The graph is still incomplete and contains errors"
   ]
  },
  {
   "cell_type": "code",
   "execution_count": 9,
   "id": "c0d88fb1-c844-4d21-84de-1c7589a8fa7f",
   "metadata": {},
   "outputs": [
    {
     "name": "stdout",
     "output_type": "stream",
     "text": [
      "The graph has 27 nodes and 29 edges\n",
      "The molecule has 332 atoms and 335 bonds\n"
     ]
    }
   ],
   "source": [
    "graph = msm.bondgraph(molecular_system, nodes_name=\"atom_index\", selection='molecule_index==4', to_form=\"networkx.Graph\")\n",
    "n_nodes = graph.number_of_nodes()\n",
    "n_edges = graph.number_of_edges()\n",
    "print('The graph has {} nodes and {} edges'.format(n_nodes, n_edges))\n",
    "n_atoms, n_bonds = msm.get(molecular_system, selection='molecule_index==3', n_atoms=True,\n",
    "                           n_inner_bonds=True)\n",
    "print('The molecule has {} atoms and {} bonds'.format(n_atoms, n_bonds))"
   ]
  },
  {
   "cell_type": "code",
   "execution_count": 10,
   "id": "49f17c19-4409-44d4-aeea-a609dc13b421",
   "metadata": {},
   "outputs": [
    {
     "data": {
      "text/plain": [
       "networkx.classes.multigraph.MultiGraph"
      ]
     },
     "execution_count": 10,
     "metadata": {},
     "output_type": "execute_result"
    }
   ],
   "source": [
    "type(graph)"
   ]
  },
  {
   "cell_type": "code",
   "execution_count": 11,
   "id": "4d77fe86-2739-4a21-ac3f-feceaa3c05b6",
   "metadata": {},
   "outputs": [
    {
     "data": {
      "text/plain": [
       "MultiEdgeDataView([(12496, 12497, {}), (12496, 12501, {}), (12497, 12498, {}), (12498, 12499, {}), (12498, 12500, {}), (12500, 12501, {}), (12501, 12502, {}), (12502, 12503, {}), (12503, 12504, {}), (12504, 12505, {}), (12505, 12506, {}), (12506, 12507, {}), (12506, 12512, {}), (12507, 12508, {}), (12507, 12509, {}), (12509, 12510, {}), (12510, 12511, {}), (12510, 12514, {}), (12511, 12512, {}), (12512, 12513, {}), (12514, 12515, {}), (12514, 12516, {}), (12515, 12519, {}), (12516, 12517, {}), (12517, 12518, {}), (12517, 12519, {}), (12518, 12520, {}), (12518, 12521, {}), (12518, 12522, {})])"
      ]
     },
     "execution_count": 11,
     "metadata": {},
     "output_type": "execute_result"
    }
   ],
   "source": [
    "graph.edges(data=True)"
   ]
  },
  {
   "cell_type": "code",
   "execution_count": 12,
   "id": "9b707963-b831-4d4c-887b-0ddbec60822c",
   "metadata": {},
   "outputs": [
    {
     "data": {
      "text/plain": [
       "NodeDataView({12496: {}, 12497: {}, 12498: {}, 12499: {}, 12500: {}, 12501: {}, 12502: {}, 12503: {}, 12504: {}, 12505: {}, 12506: {}, 12507: {}, 12508: {}, 12509: {}, 12510: {}, 12511: {}, 12512: {}, 12513: {}, 12514: {}, 12515: {}, 12516: {}, 12517: {}, 12518: {}, 12519: {}, 12520: {}, 12521: {}, 12522: {}})"
      ]
     },
     "execution_count": 12,
     "metadata": {},
     "output_type": "execute_result"
    }
   ],
   "source": [
    "graph.nodes(data=True)"
   ]
  },
  {
   "cell_type": "code",
   "execution_count": 13,
   "id": "84848fbf-6e5e-4595-80e0-eff9dcda40ae",
   "metadata": {},
   "outputs": [
    {
     "data": {
      "image/png": "[encoded data removed]",
      "text/plain": [
       "<Figure size 432x288 with 1 Axes>"
      ]
     },
     "metadata": {},
     "output_type": "display_data"
    }
   ],
   "source": [
    "nx.draw_networkx(graph)"
   ]
  },
  {
   "cell_type": "code",
   "execution_count": 14,
   "id": "bd9495b9-6d37-4295-bc52-fe9e79fbf25c",
   "metadata": {},
   "outputs": [
    {
     "data": {
      "text/plain": [
       "True"
      ]
     },
     "execution_count": 14,
     "metadata": {},
     "output_type": "execute_result"
    }
   ],
   "source": [
    "graph.is_multigraph()"
   ]
  },
  {
   "cell_type": "markdown",
   "id": "fbe34dd0-22fd-40b4-872e-2ff20ffede05",
   "metadata": {},
   "source": [
    "The graph should be a multigraph. It could also contain more information for each atom"
   ]
  },
  {
   "cell_type": "markdown",
   "id": "bb7972a1-4bc6-403e-93ae-01213e338393",
   "metadata": {},
   "source": [
    "## Getting Hydrogen Bond Donors and Acceptors"
   ]
  },
  {
   "cell_type": "code",
   "execution_count": 15,
   "id": "72705392-e576-47d0-9feb-76b9b8b8e177",
   "metadata": {},
   "outputs": [
    {
     "name": "stdout",
     "output_type": "stream",
     "text": [
      "0 donor atoms\n"
     ]
    }
   ],
   "source": [
    "donors = msm.hbonds.get_donor_atoms(molecular_system, selection=\"molecule_index==4\")\n",
    "print(f\"{len(donors)} donor atoms\")"
   ]
  },
  {
   "cell_type": "code",
   "execution_count": 16,
   "id": "c0319741-7e1d-44b4-bf3b-ba53bd349c0e",
   "metadata": {},
   "outputs": [
    {
     "name": "stdout",
     "output_type": "stream",
     "text": [
      "6 acceptor atoms\n"
     ]
    },
    {
     "data": {
      "text/plain": [
       "array([12496, 12497, 12505, 12515, 12516, 12519])"
      ]
     },
     "execution_count": 16,
     "metadata": {},
     "output_type": "execute_result"
    }
   ],
   "source": [
    "acceptors = msm.hbonds.get_acceptor_atoms(molecular_system, selection=\"molecule_index==4\")\n",
    "print(f\"{len(acceptors)} acceptor atoms\")\n",
    "acceptors"
   ]
  },
  {
   "cell_type": "code",
   "execution_count": 17,
   "id": "a06fd89a-1805-4801-bffa-4a9b865de9ce",
   "metadata": {},
   "outputs": [],
   "source": [
    "a_atoms, a_coordinates = msm.get(molecular_system, \n",
    "                                     selection=\"molecule_index==3\", \n",
    "                                     indices=acceptors, \n",
    "                                     target=\"atom\", \n",
    "                                     name=True, \n",
    "                                     coordinates=True, \n",
    "                                     )"
   ]
  },
  {
   "cell_type": "code",
   "execution_count": 18,
   "id": "c6c8dd77-e050-4126-9660-7d62dd8e8c03",
   "metadata": {},
   "outputs": [
    {
     "name": "stdout",
     "output_type": "stream",
     "text": [
      "Atom: O1 with coordinates [3.8877999782562256 0.39070001244544983 12.446700096130371] nanometer\n",
      "\n",
      "Atom: N2 with coordinates [3.7702999114990234 0.4765999913215637 12.483400344848633] nanometer\n",
      "\n",
      "Atom: O1B with coordinates [4.26800012588501 0.1753000020980835 12.344499588012695] nanometer\n",
      "\n",
      "Atom: N1A with coordinates [4.579800128936768 -0.36500000953674316 12.09939956665039] nanometer\n",
      "\n",
      "Atom: N3A with coordinates [4.745100021362305 -0.26829999685287476 12.238300323486328] nanometer\n",
      "\n",
      "Atom: O1A with coordinates [4.70959997177124 -0.4510999917984009 12.084699630737305] nanometer\n",
      "\n"
     ]
    }
   ],
   "source": [
    "for i in range(len(a_atoms)):\n",
    "    print(f\"Atom: {a_atoms[i]} with coordinates {a_coordinates[0][i]}\\n\")"
   ]
  },
  {
   "cell_type": "markdown",
   "id": "5f59aa67-e1fe-4da0-a34a-c11be0a81b97",
   "metadata": {},
   "source": [
    "## Further exploration of the molecule"
   ]
  },
  {
   "cell_type": "code",
   "execution_count": 19,
   "id": "941b9cd2-fb8d-4ada-acd0-9df5ee581569",
   "metadata": {},
   "outputs": [
    {
     "data": {
      "text/plain": [
       "[array(['O1', 'N2', 'C3', ..., 'F1', 'F2', 'F3'], dtype=object),\n",
       " array([12496, 12497, 12498, ..., 12520, 12521, 12522]),\n",
       " array([array([12497, 12501]), array([12496, 12498]),\n",
       "        array([12497, 12499, 12500]), ..., array([12518]), array([12518]),\n",
       "        array([12518])], dtype=object)]"
      ]
     },
     "execution_count": 19,
     "metadata": {},
     "output_type": "execute_result"
    }
   ],
   "source": [
    "#bond_type doesn't work\n",
    "\n",
    "msm.get(molecular_system, \n",
    "        selection=\"molecule_index==4\", \n",
    "        target=\"atom\",\n",
    "        name=True,\n",
    "        index=True,\n",
    "        bonded_atoms=True,\n",
    "        )"
   ]
  },
  {
   "cell_type": "markdown",
   "id": "0a25bc3f-5ad5-492c-94ac-33549289909e",
   "metadata": {},
   "source": [
    "## Exploring another system"
   ]
  },
  {
   "cell_type": "code",
   "execution_count": 20,
   "id": "59f87ccd-4859-4777-8354-522a78c40b10",
   "metadata": {},
   "outputs": [
    {
     "name": "stderr",
     "output_type": "stream",
     "text": [
      "/Users/danielibarrola/Documents/molsys/MolSys_v0.1/MolSysMT/molsysmt/native/io/topology/classes/mmtf_MMTFDecoder.py:43: UserWarning: The structure in the PDB has biological assemblies. There are geometrical transformations proposed in the structure. See the following issue in the source code repository: https://github.com/uibcdf/MolSysMT/issues/33\n",
      "  warnings.warn(warning_message)\n"
     ]
    },
    {
     "ename": "NotImplementedError",
     "evalue": "The mmtf entity type {'description': '1-{(1R,2S)-2-HYDROXY-1-[2-(1-NAPHTHYL)ETHYL]PROPYL}-1H-IMIDAZOLE-4-CARBOXAMIDE', 'type': 'non-polymer', 'chainIndexList': [2], 'sequence': ''} is not implemented.",
     "output_type": "error",
     "traceback": [
      "\u001b[0;31m---------------------------------------------------------------------------\u001b[0m",
      "\u001b[0;31mKeyError\u001b[0m                                  Traceback (most recent call last)",
      "\u001b[0;32m~/Documents/molsys/MolSys_v0.1/MolSysMT/molsysmt/elements/entity.py\u001b[0m in \u001b[0;36mtype_from_MMTFDecoder_entity\u001b[0;34m(mmtf_entity)\u001b[0m\n\u001b[1;32m    181\u001b[0m         \u001b[0;32mtry\u001b[0m\u001b[0;34m:\u001b[0m\u001b[0;34m\u001b[0m\u001b[0;34m\u001b[0m\u001b[0m\n\u001b[0;32m--> 182\u001b[0;31m             \u001b[0mentity_name\u001b[0m \u001b[0;34m=\u001b[0m \u001b[0mentities\u001b[0m\u001b[0;34m.\u001b[0m\u001b[0mmmtf_translator\u001b[0m\u001b[0;34m[\u001b[0m\u001b[0mmmtf_entity\u001b[0m\u001b[0;34m[\u001b[0m\u001b[0;34m'description'\u001b[0m\u001b[0;34m]\u001b[0m\u001b[0;34m]\u001b[0m\u001b[0;34m\u001b[0m\u001b[0;34m\u001b[0m\u001b[0m\n\u001b[0m\u001b[1;32m    183\u001b[0m             \u001b[0moutput\u001b[0m \u001b[0;34m=\u001b[0m \u001b[0mentities\u001b[0m\u001b[0;34m.\u001b[0m\u001b[0mcatalog\u001b[0m\u001b[0;34m[\u001b[0m\u001b[0mentity_name\u001b[0m\u001b[0;34m]\u001b[0m\u001b[0;34m\u001b[0m\u001b[0;34m\u001b[0m\u001b[0m\n",
      "\u001b[0;31mKeyError\u001b[0m: '1-{(1R,2S)-2-HYDROXY-1-[2-(1-NAPHTHYL)ETHYL]PROPYL}-1H-IMIDAZOLE-4-CARBOXAMIDE'",
      "\nDuring handling of the above exception, another exception occurred:\n",
      "\u001b[0;31mNotImplementedError\u001b[0m                       Traceback (most recent call last)",
      "\u001b[0;32m<ipython-input-20-c2e50743ec76>\u001b[0m in \u001b[0;36m<module>\u001b[0;34m\u001b[0m\n\u001b[0;32m----> 1\u001b[0;31m \u001b[0mmolecular_system\u001b[0m \u001b[0;34m=\u001b[0m \u001b[0mmsm\u001b[0m\u001b[0;34m.\u001b[0m\u001b[0mconvert\u001b[0m\u001b[0;34m(\u001b[0m\u001b[0;34m'2E1W'\u001b[0m\u001b[0;34m,\u001b[0m \u001b[0mto_form\u001b[0m\u001b[0;34m=\u001b[0m\u001b[0;34m'molsysmt.MolSys'\u001b[0m\u001b[0;34m)\u001b[0m\u001b[0;34m\u001b[0m\u001b[0;34m\u001b[0m\u001b[0m\n\u001b[0m\u001b[1;32m      2\u001b[0m \u001b[0mmolecular_system\u001b[0m \u001b[0;34m=\u001b[0m \u001b[0mmsm\u001b[0m\u001b[0;34m.\u001b[0m\u001b[0mremove_solvent\u001b[0m\u001b[0;34m(\u001b[0m\u001b[0mmolecular_system\u001b[0m\u001b[0;34m,\u001b[0m \u001b[0mwater\u001b[0m\u001b[0;34m=\u001b[0m\u001b[0;32mTrue\u001b[0m\u001b[0;34m,\u001b[0m \u001b[0mions\u001b[0m\u001b[0;34m=\u001b[0m\u001b[0;32mTrue\u001b[0m\u001b[0;34m)\u001b[0m\u001b[0;34m\u001b[0m\u001b[0;34m\u001b[0m\u001b[0m\n\u001b[1;32m      3\u001b[0m \u001b[0mmolecular_system\u001b[0m \u001b[0;34m=\u001b[0m \u001b[0mmsm\u001b[0m\u001b[0;34m.\u001b[0m\u001b[0madd_missing_hydrogens\u001b[0m\u001b[0;34m(\u001b[0m\u001b[0mmolecular_system\u001b[0m\u001b[0;34m,\u001b[0m \u001b[0mpH\u001b[0m\u001b[0;34m=\u001b[0m\u001b[0;36m7.4\u001b[0m\u001b[0;34m)\u001b[0m\u001b[0;34m\u001b[0m\u001b[0;34m\u001b[0m\u001b[0m\n\u001b[1;32m      4\u001b[0m \u001b[0mmsm\u001b[0m\u001b[0;34m.\u001b[0m\u001b[0minfo\u001b[0m\u001b[0;34m(\u001b[0m\u001b[0mmolecular_system\u001b[0m\u001b[0;34m,\u001b[0m \u001b[0mtarget\u001b[0m\u001b[0;34m=\u001b[0m\u001b[0;34m'component'\u001b[0m\u001b[0;34m)\u001b[0m\u001b[0;34m\u001b[0m\u001b[0;34m\u001b[0m\u001b[0m\n",
      "\u001b[0;32m~/Documents/molsys/MolSys_v0.1/MolSysMT/molsysmt/multitool/convert.py\u001b[0m in \u001b[0;36mconvert\u001b[0;34m(molecular_system, to_form, selection, frame_indices, syntaxis, **kwargs)\u001b[0m\n\u001b[1;32m     97\u001b[0m     \u001b[0;32melse\u001b[0m\u001b[0;34m:\u001b[0m\u001b[0;34m\u001b[0m\u001b[0;34m\u001b[0m\u001b[0m\n\u001b[1;32m     98\u001b[0m         tmp_item, _ = dict_convert[item_form][to_form](item, molecular_system, atom_indices=atom_indices, frame_indices=frame_indices,\n\u001b[0;32m---> 99\u001b[0;31m                                                      **conversion_arguments, **kwargs)\n\u001b[0m\u001b[1;32m    100\u001b[0m \u001b[0;34m\u001b[0m\u001b[0m\n\u001b[1;32m    101\u001b[0m     \u001b[0mtmp_item\u001b[0m \u001b[0;34m=\u001b[0m \u001b[0mdigest_output\u001b[0m\u001b[0;34m(\u001b[0m\u001b[0mtmp_item\u001b[0m\u001b[0;34m)\u001b[0m\u001b[0;34m\u001b[0m\u001b[0;34m\u001b[0m\u001b[0m\n",
      "\u001b[0;32m~/Documents/molsys/MolSys_v0.1/MolSysMT/molsysmt/forms/ids/api_id_PDB.py\u001b[0m in \u001b[0;36mto_molsysmt_MolSys\u001b[0;34m(item, molecular_system, atom_indices, frame_indices)\u001b[0m\n\u001b[1;32m     88\u001b[0m     \u001b[0;32mfrom\u001b[0m \u001b[0mmolsysmt\u001b[0m\u001b[0;34m.\u001b[0m\u001b[0mnative\u001b[0m\u001b[0;34m.\u001b[0m\u001b[0mio\u001b[0m\u001b[0;34m.\u001b[0m\u001b[0mmolsys\u001b[0m\u001b[0;34m.\u001b[0m\u001b[0mids\u001b[0m \u001b[0;32mimport\u001b[0m \u001b[0mfrom_id_PDB\u001b[0m \u001b[0;32mas\u001b[0m \u001b[0mid_PDB_to_molsysmt_MolSys\u001b[0m\u001b[0;34m\u001b[0m\u001b[0;34m\u001b[0m\u001b[0m\n\u001b[1;32m     89\u001b[0m \u001b[0;34m\u001b[0m\u001b[0m\n\u001b[0;32m---> 90\u001b[0;31m     \u001b[0mtmp_item\u001b[0m\u001b[0;34m,\u001b[0m \u001b[0mtmp_molecular_system\u001b[0m \u001b[0;34m=\u001b[0m \u001b[0mid_PDB_to_molsysmt_MolSys\u001b[0m\u001b[0;34m(\u001b[0m\u001b[0mitem\u001b[0m\u001b[0;34m,\u001b[0m \u001b[0mmolecular_system\u001b[0m\u001b[0;34m=\u001b[0m\u001b[0mmolecular_system\u001b[0m\u001b[0;34m,\u001b[0m \u001b[0matom_indices\u001b[0m\u001b[0;34m=\u001b[0m\u001b[0matom_indices\u001b[0m\u001b[0;34m,\u001b[0m \u001b[0mframe_indices\u001b[0m\u001b[0;34m=\u001b[0m\u001b[0mframe_indices\u001b[0m\u001b[0;34m)\u001b[0m\u001b[0;34m\u001b[0m\u001b[0;34m\u001b[0m\u001b[0m\n\u001b[0m\u001b[1;32m     91\u001b[0m \u001b[0;34m\u001b[0m\u001b[0m\n\u001b[1;32m     92\u001b[0m     \u001b[0;32mreturn\u001b[0m \u001b[0mtmp_item\u001b[0m\u001b[0;34m,\u001b[0m \u001b[0mtmp_molecular_system\u001b[0m\u001b[0;34m\u001b[0m\u001b[0;34m\u001b[0m\u001b[0m\n",
      "\u001b[0;32m~/Documents/molsys/MolSys_v0.1/MolSysMT/molsysmt/native/io/molsys/ids/id_PDB.py\u001b[0m in \u001b[0;36mfrom_id_PDB\u001b[0;34m(item, molecular_system, atom_indices, frame_indices)\u001b[0m\n\u001b[1;32m      5\u001b[0m \u001b[0;34m\u001b[0m\u001b[0m\n\u001b[1;32m      6\u001b[0m     \u001b[0mtmp_item\u001b[0m\u001b[0;34m,\u001b[0m \u001b[0mtmp_molecular_system\u001b[0m \u001b[0;34m=\u001b[0m \u001b[0mid_PDB_to_mmtf_MMTFDecoder\u001b[0m\u001b[0;34m(\u001b[0m\u001b[0mitem\u001b[0m\u001b[0;34m,\u001b[0m \u001b[0mmolecular_system\u001b[0m\u001b[0;34m=\u001b[0m\u001b[0mmolecular_system\u001b[0m\u001b[0;34m,\u001b[0m \u001b[0matom_indices\u001b[0m\u001b[0;34m=\u001b[0m\u001b[0;34m'all'\u001b[0m\u001b[0;34m,\u001b[0m \u001b[0mframe_indices\u001b[0m\u001b[0;34m=\u001b[0m\u001b[0;34m'all'\u001b[0m\u001b[0;34m)\u001b[0m\u001b[0;34m\u001b[0m\u001b[0;34m\u001b[0m\u001b[0m\n\u001b[0;32m----> 7\u001b[0;31m     \u001b[0mtmp_item\u001b[0m\u001b[0;34m,\u001b[0m \u001b[0mtmp_molecular_system\u001b[0m \u001b[0;34m=\u001b[0m \u001b[0mmmtf_Decoder_to_molsysmt_MolSys\u001b[0m\u001b[0;34m(\u001b[0m\u001b[0mtmp_item\u001b[0m\u001b[0;34m,\u001b[0m \u001b[0mmolecular_system\u001b[0m\u001b[0;34m=\u001b[0m\u001b[0mtmp_molecular_system\u001b[0m\u001b[0;34m,\u001b[0m \u001b[0matom_indices\u001b[0m\u001b[0;34m=\u001b[0m\u001b[0matom_indices\u001b[0m\u001b[0;34m,\u001b[0m \u001b[0mframe_indices\u001b[0m\u001b[0;34m=\u001b[0m\u001b[0mframe_indices\u001b[0m\u001b[0;34m)\u001b[0m\u001b[0;34m\u001b[0m\u001b[0;34m\u001b[0m\u001b[0m\n\u001b[0m\u001b[1;32m      8\u001b[0m \u001b[0;34m\u001b[0m\u001b[0m\n\u001b[1;32m      9\u001b[0m     \u001b[0;32mreturn\u001b[0m \u001b[0mtmp_item\u001b[0m\u001b[0;34m,\u001b[0m \u001b[0mtmp_molecular_system\u001b[0m\u001b[0;34m\u001b[0m\u001b[0;34m\u001b[0m\u001b[0m\n",
      "\u001b[0;32m~/Documents/molsys/MolSys_v0.1/MolSysMT/molsysmt/native/io/molsys/classes/mmtf_MMTFDecoder.py\u001b[0m in \u001b[0;36mfrom_mmtf_MMTFDecoder\u001b[0;34m(item, molecular_system, atom_indices, frame_indices)\u001b[0m\n\u001b[1;32m      7\u001b[0m \u001b[0;34m\u001b[0m\u001b[0m\n\u001b[1;32m      8\u001b[0m     \u001b[0mtmp_item\u001b[0m \u001b[0;34m=\u001b[0m \u001b[0mMolSys\u001b[0m\u001b[0;34m(\u001b[0m\u001b[0;34m)\u001b[0m\u001b[0;34m\u001b[0m\u001b[0;34m\u001b[0m\u001b[0m\n\u001b[0;32m----> 9\u001b[0;31m     \u001b[0mtmp_item\u001b[0m\u001b[0;34m.\u001b[0m\u001b[0mtopology\u001b[0m\u001b[0;34m,\u001b[0m \u001b[0m_\u001b[0m \u001b[0;34m=\u001b[0m \u001b[0mmolsysmt_Topology_from_mmtf_MMTFDecoder\u001b[0m\u001b[0;34m(\u001b[0m\u001b[0mitem\u001b[0m\u001b[0;34m,\u001b[0m \u001b[0matom_indices\u001b[0m\u001b[0;34m=\u001b[0m\u001b[0matom_indices\u001b[0m\u001b[0;34m,\u001b[0m \u001b[0mframe_indices\u001b[0m\u001b[0;34m=\u001b[0m\u001b[0mframe_indices\u001b[0m\u001b[0;34m)\u001b[0m\u001b[0;34m\u001b[0m\u001b[0;34m\u001b[0m\u001b[0m\n\u001b[0m\u001b[1;32m     10\u001b[0m     \u001b[0mtmp_item\u001b[0m\u001b[0;34m.\u001b[0m\u001b[0mtrajectory\u001b[0m\u001b[0;34m,\u001b[0m \u001b[0m_\u001b[0m \u001b[0;34m=\u001b[0m \u001b[0mmolsysmt_Trajectory_from_mmtf_MMTFDecoder\u001b[0m\u001b[0;34m(\u001b[0m\u001b[0mitem\u001b[0m\u001b[0;34m,\u001b[0m \u001b[0matom_indices\u001b[0m\u001b[0;34m=\u001b[0m\u001b[0matom_indices\u001b[0m\u001b[0;34m,\u001b[0m \u001b[0mframe_indices\u001b[0m\u001b[0;34m=\u001b[0m\u001b[0mframe_indices\u001b[0m\u001b[0;34m)\u001b[0m\u001b[0;34m\u001b[0m\u001b[0;34m\u001b[0m\u001b[0m\n\u001b[1;32m     11\u001b[0m     \u001b[0;32mif\u001b[0m \u001b[0mmolecular_system\u001b[0m \u001b[0;32mis\u001b[0m \u001b[0;32mnot\u001b[0m \u001b[0;32mNone\u001b[0m\u001b[0;34m:\u001b[0m\u001b[0;34m\u001b[0m\u001b[0;34m\u001b[0m\u001b[0m\n",
      "\u001b[0;32m~/Documents/molsys/MolSys_v0.1/MolSysMT/molsysmt/native/io/topology/classes/mmtf_MMTFDecoder.py\u001b[0m in \u001b[0;36mfrom_mmtf_MMTFDecoder\u001b[0;34m(item, molecular_system, atom_indices, frame_indices, bioassembly_index, bioassembly_name)\u001b[0m\n\u001b[1;32m    178\u001b[0m     \u001b[0;32mfor\u001b[0m \u001b[0mmmtf_entity\u001b[0m \u001b[0;32min\u001b[0m \u001b[0mitem\u001b[0m\u001b[0;34m.\u001b[0m\u001b[0mentity_list\u001b[0m\u001b[0;34m:\u001b[0m\u001b[0;34m\u001b[0m\u001b[0;34m\u001b[0m\u001b[0m\n\u001b[1;32m    179\u001b[0m \u001b[0;34m\u001b[0m\u001b[0m\n\u001b[0;32m--> 180\u001b[0;31m         \u001b[0mentity_type\u001b[0m \u001b[0;34m=\u001b[0m \u001b[0mentity_type_from_MMTFDecoder_entity\u001b[0m\u001b[0;34m(\u001b[0m\u001b[0mmmtf_entity\u001b[0m\u001b[0;34m)\u001b[0m\u001b[0;34m\u001b[0m\u001b[0;34m\u001b[0m\u001b[0m\n\u001b[0m\u001b[1;32m    181\u001b[0m         \u001b[0mentity_name\u001b[0m \u001b[0;34m=\u001b[0m \u001b[0mmmtf_entity\u001b[0m\u001b[0;34m[\u001b[0m\u001b[0;34m'description'\u001b[0m\u001b[0;34m]\u001b[0m\u001b[0;34m\u001b[0m\u001b[0;34m\u001b[0m\u001b[0m\n\u001b[1;32m    182\u001b[0m \u001b[0;34m\u001b[0m\u001b[0m\n",
      "\u001b[0;32m~/Documents/molsys/MolSys_v0.1/MolSysMT/molsysmt/elements/entity.py\u001b[0m in \u001b[0;36mtype_from_MMTFDecoder_entity\u001b[0;34m(mmtf_entity)\u001b[0m\n\u001b[1;32m    183\u001b[0m             \u001b[0moutput\u001b[0m \u001b[0;34m=\u001b[0m \u001b[0mentities\u001b[0m\u001b[0;34m.\u001b[0m\u001b[0mcatalog\u001b[0m\u001b[0;34m[\u001b[0m\u001b[0mentity_name\u001b[0m\u001b[0;34m]\u001b[0m\u001b[0;34m\u001b[0m\u001b[0;34m\u001b[0m\u001b[0m\n\u001b[1;32m    184\u001b[0m         \u001b[0;32mexcept\u001b[0m\u001b[0;34m:\u001b[0m\u001b[0;34m\u001b[0m\u001b[0;34m\u001b[0m\u001b[0m\n\u001b[0;32m--> 185\u001b[0;31m             \u001b[0;32mraise\u001b[0m \u001b[0mNotImplementedError\u001b[0m\u001b[0;34m(\u001b[0m\u001b[0;34m\"The mmtf entity type {} is not implemented.\"\u001b[0m\u001b[0;34m.\u001b[0m\u001b[0mformat\u001b[0m\u001b[0;34m(\u001b[0m\u001b[0mmmtf_entity\u001b[0m\u001b[0;34m)\u001b[0m\u001b[0;34m)\u001b[0m\u001b[0;34m\u001b[0m\u001b[0;34m\u001b[0m\u001b[0m\n\u001b[0m\u001b[1;32m    186\u001b[0m \u001b[0;34m\u001b[0m\u001b[0m\n\u001b[1;32m    187\u001b[0m     \u001b[0;32mreturn\u001b[0m \u001b[0moutput\u001b[0m\u001b[0;34m\u001b[0m\u001b[0;34m\u001b[0m\u001b[0m\n",
      "\u001b[0;31mNotImplementedError\u001b[0m: The mmtf entity type {'description': '1-{(1R,2S)-2-HYDROXY-1-[2-(1-NAPHTHYL)ETHYL]PROPYL}-1H-IMIDAZOLE-4-CARBOXAMIDE', 'type': 'non-polymer', 'chainIndexList': [2], 'sequence': ''} is not implemented."
     ]
    }
   ],
   "source": [
    "molecular_system = msm.convert('2E1W', to_form='molsysmt.MolSys')\n",
    "molecular_system = msm.remove_solvent(molecular_system, water=True, ions=True)\n",
    "molecular_system = msm.add_missing_hydrogens(molecular_system, pH=7.4)\n",
    "msm.info(molecular_system, target='component')"
   ]
  },
  {
   "cell_type": "code",
   "execution_count": 23,
   "id": "ac3333cd-115b-4f52-9b5a-a2a6c75b7f10",
   "metadata": {},
   "outputs": [
    {
     "data": {
      "text/plain": [
       "2746"
      ]
     },
     "execution_count": 23,
     "metadata": {},
     "output_type": "execute_result"
    }
   ],
   "source": [
    "#Number of hydrogens\n",
    "len(msm.get(molecular_system, selection='atom_type==\"H\"', index=True))"
   ]
  },
  {
   "cell_type": "code",
   "execution_count": 12,
   "id": "08e3c768-ace0-433b-9dca-d190ac535c9d",
   "metadata": {},
   "outputs": [
    {
     "ename": "NotImplementedError",
     "evalue": "The mmtf entity type {'description': 'ZINC ION', 'type': 'non-polymer', 'chainIndexList': [1], 'sequence': ''} is not implemented.",
     "output_type": "error",
     "traceback": [
      "\u001b[0;31m---------------------------------------------------------------------------\u001b[0m",
      "\u001b[0;31mKeyError\u001b[0m                                  Traceback (most recent call last)",
      "\u001b[0;32m~/Documents/molsys/MolSys_v0.1/MolSysMT/molsysmt/elements/entity.py\u001b[0m in \u001b[0;36mtype_from_MMTFDecoder_entity\u001b[0;34m(mmtf_entity)\u001b[0m\n\u001b[1;32m    181\u001b[0m         \u001b[0;32mtry\u001b[0m\u001b[0;34m:\u001b[0m\u001b[0;34m\u001b[0m\u001b[0;34m\u001b[0m\u001b[0m\n\u001b[0;32m--> 182\u001b[0;31m             \u001b[0mentity_name\u001b[0m \u001b[0;34m=\u001b[0m \u001b[0mentities\u001b[0m\u001b[0;34m.\u001b[0m\u001b[0mmmtf_translator\u001b[0m\u001b[0;34m[\u001b[0m\u001b[0mmmtf_entity\u001b[0m\u001b[0;34m[\u001b[0m\u001b[0;34m'description'\u001b[0m\u001b[0;34m]\u001b[0m\u001b[0;34m]\u001b[0m\u001b[0;34m\u001b[0m\u001b[0;34m\u001b[0m\u001b[0m\n\u001b[0m\u001b[1;32m    183\u001b[0m             \u001b[0moutput\u001b[0m \u001b[0;34m=\u001b[0m \u001b[0mentities\u001b[0m\u001b[0;34m.\u001b[0m\u001b[0mcatalog\u001b[0m\u001b[0;34m[\u001b[0m\u001b[0mentity_name\u001b[0m\u001b[0;34m]\u001b[0m\u001b[0;34m\u001b[0m\u001b[0;34m\u001b[0m\u001b[0m\n",
      "\u001b[0;31mKeyError\u001b[0m: 'ZINC ION'",
      "\nDuring handling of the above exception, another exception occurred:\n",
      "\u001b[0;31mNotImplementedError\u001b[0m                       Traceback (most recent call last)",
      "\u001b[0;32m<ipython-input-12-71754b936f78>\u001b[0m in \u001b[0;36m<module>\u001b[0;34m\u001b[0m\n\u001b[0;32m----> 1\u001b[0;31m \u001b[0mFR6_molecule\u001b[0m \u001b[0;34m=\u001b[0m \u001b[0mmsm\u001b[0m\u001b[0;34m.\u001b[0m\u001b[0mconvert\u001b[0m\u001b[0;34m(\u001b[0m\u001b[0;34m'2E1W'\u001b[0m\u001b[0;34m,\u001b[0m \u001b[0mto_form\u001b[0m\u001b[0;34m=\u001b[0m\u001b[0;34m'molsysmt.MolSys'\u001b[0m\u001b[0;34m,\u001b[0m \u001b[0mselection\u001b[0m\u001b[0;34m=\u001b[0m\u001b[0;34m'molecule_type==\"protein\"'\u001b[0m\u001b[0;34m)\u001b[0m\u001b[0;34m\u001b[0m\u001b[0;34m\u001b[0m\u001b[0m\n\u001b[0m",
      "\u001b[0;32m~/Documents/molsys/MolSys_v0.1/MolSysMT/molsysmt/multitool/convert.py\u001b[0m in \u001b[0;36mconvert\u001b[0;34m(molecular_system, to_form, selection, frame_indices, syntaxis, **kwargs)\u001b[0m\n\u001b[1;32m     71\u001b[0m \u001b[0;34m\u001b[0m\u001b[0m\n\u001b[1;32m     72\u001b[0m     \u001b[0;32mif\u001b[0m \u001b[0;32mnot\u001b[0m \u001b[0mselection_is_all\u001b[0m\u001b[0;34m(\u001b[0m\u001b[0mselection\u001b[0m\u001b[0;34m)\u001b[0m\u001b[0;34m:\u001b[0m\u001b[0;34m\u001b[0m\u001b[0;34m\u001b[0m\u001b[0m\n\u001b[0;32m---> 73\u001b[0;31m         \u001b[0matom_indices\u001b[0m \u001b[0;34m=\u001b[0m \u001b[0mselect\u001b[0m\u001b[0;34m(\u001b[0m\u001b[0mmolecular_system\u001b[0m\u001b[0;34m,\u001b[0m \u001b[0mselection\u001b[0m\u001b[0;34m=\u001b[0m\u001b[0mselection\u001b[0m\u001b[0;34m,\u001b[0m \u001b[0msyntaxis\u001b[0m\u001b[0;34m=\u001b[0m\u001b[0msyntaxis\u001b[0m\u001b[0;34m)\u001b[0m\u001b[0;34m\u001b[0m\u001b[0;34m\u001b[0m\u001b[0m\n\u001b[0m\u001b[1;32m     74\u001b[0m     \u001b[0;32melse\u001b[0m\u001b[0;34m:\u001b[0m\u001b[0;34m\u001b[0m\u001b[0;34m\u001b[0m\u001b[0m\n\u001b[1;32m     75\u001b[0m         \u001b[0matom_indices\u001b[0m \u001b[0;34m=\u001b[0m \u001b[0;34m'all'\u001b[0m\u001b[0;34m\u001b[0m\u001b[0;34m\u001b[0m\u001b[0m\n",
      "\u001b[0;32m~/Documents/molsys/MolSys_v0.1/MolSysMT/molsysmt/multitool/select.py\u001b[0m in \u001b[0;36mselect\u001b[0;34m(molecular_system, selection, frame_index, target, mask, syntaxis, to_syntaxis)\u001b[0m\n\u001b[1;32m    178\u001b[0m             \u001b[0matom_indices\u001b[0m \u001b[0;34m=\u001b[0m \u001b[0mselect_bonded_to\u001b[0m\u001b[0;34m(\u001b[0m\u001b[0mmolecular_system\u001b[0m\u001b[0;34m,\u001b[0m \u001b[0mselection\u001b[0m\u001b[0;34m,\u001b[0m \u001b[0msyntaxis\u001b[0m\u001b[0;34m)\u001b[0m\u001b[0;34m\u001b[0m\u001b[0;34m\u001b[0m\u001b[0m\n\u001b[1;32m    179\u001b[0m         \u001b[0;32melse\u001b[0m\u001b[0;34m:\u001b[0m\u001b[0;34m\u001b[0m\u001b[0;34m\u001b[0m\u001b[0m\n\u001b[0;32m--> 180\u001b[0;31m             \u001b[0matom_indices\u001b[0m \u001b[0;34m=\u001b[0m \u001b[0mselect_standard\u001b[0m\u001b[0;34m(\u001b[0m\u001b[0mmolecular_system\u001b[0m\u001b[0;34m,\u001b[0m \u001b[0mselection\u001b[0m\u001b[0;34m,\u001b[0m \u001b[0msyntaxis\u001b[0m\u001b[0;34m)\u001b[0m\u001b[0;34m\u001b[0m\u001b[0;34m\u001b[0m\u001b[0m\n\u001b[0m\u001b[1;32m    181\u001b[0m \u001b[0;34m\u001b[0m\u001b[0m\n\u001b[1;32m    182\u001b[0m     \u001b[0;32melse\u001b[0m\u001b[0;34m:\u001b[0m\u001b[0;34m\u001b[0m\u001b[0;34m\u001b[0m\u001b[0m\n",
      "\u001b[0;32m~/Documents/molsys/MolSys_v0.1/MolSysMT/molsysmt/multitool/select.py\u001b[0m in \u001b[0;36mselect_standard\u001b[0;34m(molecular_system, selection, syntaxis)\u001b[0m\n\u001b[1;32m     25\u001b[0m             \u001b[0mselection\u001b[0m \u001b[0;34m=\u001b[0m \u001b[0mdigest_selection\u001b[0m\u001b[0;34m(\u001b[0m\u001b[0mselection\u001b[0m\u001b[0;34m,\u001b[0m \u001b[0msyntaxis\u001b[0m\u001b[0;34m)\u001b[0m\u001b[0;34m\u001b[0m\u001b[0;34m\u001b[0m\u001b[0m\n\u001b[1;32m     26\u001b[0m             \u001b[0;32mif\u001b[0m \u001b[0msyntaxis\u001b[0m\u001b[0;34m==\u001b[0m\u001b[0;34m'MolSysMT'\u001b[0m\u001b[0;34m:\u001b[0m\u001b[0;34m\u001b[0m\u001b[0;34m\u001b[0m\u001b[0m\n\u001b[0;32m---> 27\u001b[0;31m                 \u001b[0matom_indices\u001b[0m \u001b[0;34m=\u001b[0m \u001b[0mselect_with_MolSysMT\u001b[0m\u001b[0;34m(\u001b[0m\u001b[0mmolecular_system\u001b[0m\u001b[0;34m.\u001b[0m\u001b[0melements_item\u001b[0m\u001b[0;34m,\u001b[0m \u001b[0mselection\u001b[0m\u001b[0;34m)\u001b[0m\u001b[0;34m\u001b[0m\u001b[0;34m\u001b[0m\u001b[0m\n\u001b[0m\u001b[1;32m     28\u001b[0m             \u001b[0;32melif\u001b[0m \u001b[0msyntaxis\u001b[0m\u001b[0;34m==\u001b[0m\u001b[0;34m'MDTraj'\u001b[0m\u001b[0;34m:\u001b[0m\u001b[0;34m\u001b[0m\u001b[0;34m\u001b[0m\u001b[0m\n\u001b[1;32m     29\u001b[0m                 \u001b[0matom_indices\u001b[0m \u001b[0;34m=\u001b[0m \u001b[0mselect_with_MDTraj\u001b[0m\u001b[0;34m(\u001b[0m\u001b[0mmolecular_system\u001b[0m\u001b[0;34m.\u001b[0m\u001b[0melements_item\u001b[0m\u001b[0;34m,\u001b[0m \u001b[0mselection\u001b[0m\u001b[0;34m)\u001b[0m\u001b[0;34m\u001b[0m\u001b[0;34m\u001b[0m\u001b[0m\n",
      "\u001b[0;32m~/Documents/molsys/MolSys_v0.1/MolSysMT/molsysmt/multitool/select.py\u001b[0m in \u001b[0;36mselect_with_MolSysMT\u001b[0;34m(item, selection)\u001b[0m\n\u001b[1;32m    256\u001b[0m         \u001b[0mtmp_item\u001b[0m \u001b[0;34m=\u001b[0m \u001b[0mitem\u001b[0m\u001b[0;34m\u001b[0m\u001b[0;34m\u001b[0m\u001b[0m\n\u001b[1;32m    257\u001b[0m     \u001b[0;32melse\u001b[0m\u001b[0;34m:\u001b[0m\u001b[0;34m\u001b[0m\u001b[0;34m\u001b[0m\u001b[0m\n\u001b[0;32m--> 258\u001b[0;31m         \u001b[0mtmp_item\u001b[0m \u001b[0;34m=\u001b[0m \u001b[0mconvert\u001b[0m\u001b[0;34m(\u001b[0m\u001b[0mitem\u001b[0m\u001b[0;34m,\u001b[0m \u001b[0mto_form\u001b[0m\u001b[0;34m=\u001b[0m\u001b[0;34m'molsysmt.Topology'\u001b[0m\u001b[0;34m)\u001b[0m\u001b[0;34m\u001b[0m\u001b[0;34m\u001b[0m\u001b[0m\n\u001b[0m\u001b[1;32m    259\u001b[0m \u001b[0;34m\u001b[0m\u001b[0m\n\u001b[1;32m    260\u001b[0m     \u001b[0matom_indices\u001b[0m \u001b[0;34m=\u001b[0m \u001b[0melements_select\u001b[0m\u001b[0;34m(\u001b[0m\u001b[0mtmp_item\u001b[0m\u001b[0;34m.\u001b[0m\u001b[0matoms_dataframe\u001b[0m\u001b[0;34m,\u001b[0m \u001b[0mselection\u001b[0m\u001b[0;34m)\u001b[0m\u001b[0;34m\u001b[0m\u001b[0;34m\u001b[0m\u001b[0m\n",
      "\u001b[0;32m~/Documents/molsys/MolSys_v0.1/MolSysMT/molsysmt/multitool/convert.py\u001b[0m in \u001b[0;36mconvert\u001b[0;34m(molecular_system, to_form, selection, frame_indices, syntaxis, **kwargs)\u001b[0m\n\u001b[1;32m     97\u001b[0m     \u001b[0;32melse\u001b[0m\u001b[0;34m:\u001b[0m\u001b[0;34m\u001b[0m\u001b[0;34m\u001b[0m\u001b[0m\n\u001b[1;32m     98\u001b[0m         tmp_item, _ = dict_convert[item_form][to_form](item, molecular_system, atom_indices=atom_indices, frame_indices=frame_indices,\n\u001b[0;32m---> 99\u001b[0;31m                                                      **conversion_arguments, **kwargs)\n\u001b[0m\u001b[1;32m    100\u001b[0m \u001b[0;34m\u001b[0m\u001b[0m\n\u001b[1;32m    101\u001b[0m     \u001b[0mtmp_item\u001b[0m \u001b[0;34m=\u001b[0m \u001b[0mdigest_output\u001b[0m\u001b[0;34m(\u001b[0m\u001b[0mtmp_item\u001b[0m\u001b[0;34m)\u001b[0m\u001b[0;34m\u001b[0m\u001b[0;34m\u001b[0m\u001b[0m\n",
      "\u001b[0;32m~/Documents/molsys/MolSys_v0.1/MolSysMT/molsysmt/forms/ids/api_id_PDB.py\u001b[0m in \u001b[0;36mto_molsysmt_Topology\u001b[0;34m(item, molecular_system, atom_indices, frame_indices)\u001b[0m\n\u001b[1;32m     96\u001b[0m     \u001b[0;32mfrom\u001b[0m \u001b[0mmolsysmt\u001b[0m\u001b[0;34m.\u001b[0m\u001b[0mnative\u001b[0m\u001b[0;34m.\u001b[0m\u001b[0mio\u001b[0m\u001b[0;34m.\u001b[0m\u001b[0mtopology\u001b[0m\u001b[0;34m.\u001b[0m\u001b[0mids\u001b[0m \u001b[0;32mimport\u001b[0m \u001b[0mfrom_id_PDB\u001b[0m \u001b[0;32mas\u001b[0m \u001b[0mid_PDB_to_molsysmt_Topology\u001b[0m\u001b[0;34m\u001b[0m\u001b[0;34m\u001b[0m\u001b[0m\n\u001b[1;32m     97\u001b[0m \u001b[0;34m\u001b[0m\u001b[0m\n\u001b[0;32m---> 98\u001b[0;31m     \u001b[0mtmp_item\u001b[0m\u001b[0;34m,\u001b[0m \u001b[0mtmp_molecular_system\u001b[0m \u001b[0;34m=\u001b[0m \u001b[0mid_PDB_to_molsysmt_Topology\u001b[0m\u001b[0;34m(\u001b[0m\u001b[0mitem\u001b[0m\u001b[0;34m,\u001b[0m \u001b[0mmolecular_system\u001b[0m\u001b[0;34m=\u001b[0m\u001b[0mmolecular_system\u001b[0m\u001b[0;34m,\u001b[0m \u001b[0matom_indices\u001b[0m\u001b[0;34m=\u001b[0m\u001b[0matom_indices\u001b[0m\u001b[0;34m,\u001b[0m \u001b[0mframe_indices\u001b[0m\u001b[0;34m=\u001b[0m\u001b[0mframe_indices\u001b[0m\u001b[0;34m)\u001b[0m\u001b[0;34m\u001b[0m\u001b[0;34m\u001b[0m\u001b[0m\n\u001b[0m\u001b[1;32m     99\u001b[0m \u001b[0;34m\u001b[0m\u001b[0m\n\u001b[1;32m    100\u001b[0m     \u001b[0;32mreturn\u001b[0m \u001b[0mtmp_item\u001b[0m\u001b[0;34m,\u001b[0m \u001b[0mtmp_molecular_system\u001b[0m\u001b[0;34m\u001b[0m\u001b[0;34m\u001b[0m\u001b[0m\n",
      "\u001b[0;32m~/Documents/molsys/MolSys_v0.1/MolSysMT/molsysmt/native/io/topology/ids/id_PDB.py\u001b[0m in \u001b[0;36mfrom_id_PDB\u001b[0;34m(item, molecular_system, atom_indices, frame_indices)\u001b[0m\n\u001b[1;32m      6\u001b[0m     tmp_item, tmp_molecular_system = id_PDB_to_mmtf_MMTFDecoder(item,\n\u001b[1;32m      7\u001b[0m             molecular_system=molecular_system)\n\u001b[0;32m----> 8\u001b[0;31m     \u001b[0mtmp_item\u001b[0m\u001b[0;34m,\u001b[0m \u001b[0mtmp_molecular_system\u001b[0m \u001b[0;34m=\u001b[0m \u001b[0mmmtf_Decoder_to_molsysmt_Topology\u001b[0m\u001b[0;34m(\u001b[0m\u001b[0mtmp_item\u001b[0m\u001b[0;34m,\u001b[0m \u001b[0mmolecular_system\u001b[0m\u001b[0;34m=\u001b[0m\u001b[0mtmp_molecular_system\u001b[0m\u001b[0;34m,\u001b[0m \u001b[0matom_indices\u001b[0m\u001b[0;34m=\u001b[0m\u001b[0matom_indices\u001b[0m\u001b[0;34m,\u001b[0m \u001b[0mframe_indices\u001b[0m\u001b[0;34m=\u001b[0m\u001b[0mframe_indices\u001b[0m\u001b[0;34m)\u001b[0m\u001b[0;34m\u001b[0m\u001b[0;34m\u001b[0m\u001b[0m\n\u001b[0m\u001b[1;32m      9\u001b[0m \u001b[0;34m\u001b[0m\u001b[0m\n\u001b[1;32m     10\u001b[0m     \u001b[0;32mreturn\u001b[0m \u001b[0mtmp_item\u001b[0m\u001b[0;34m\u001b[0m\u001b[0;34m\u001b[0m\u001b[0m\n",
      "\u001b[0;32m~/Documents/molsys/MolSys_v0.1/MolSysMT/molsysmt/native/io/topology/classes/mmtf_MMTFDecoder.py\u001b[0m in \u001b[0;36mfrom_mmtf_MMTFDecoder\u001b[0;34m(item, molecular_system, atom_indices, frame_indices, bioassembly_index, bioassembly_name)\u001b[0m\n\u001b[1;32m    163\u001b[0m     \u001b[0;32mfor\u001b[0m \u001b[0mmmtf_entity\u001b[0m \u001b[0;32min\u001b[0m \u001b[0mitem\u001b[0m\u001b[0;34m.\u001b[0m\u001b[0mentity_list\u001b[0m\u001b[0;34m:\u001b[0m\u001b[0;34m\u001b[0m\u001b[0;34m\u001b[0m\u001b[0m\n\u001b[1;32m    164\u001b[0m \u001b[0;34m\u001b[0m\u001b[0m\n\u001b[0;32m--> 165\u001b[0;31m         \u001b[0mentity_type\u001b[0m \u001b[0;34m=\u001b[0m \u001b[0mentity_type_from_MMTFDecoder_entity\u001b[0m\u001b[0;34m(\u001b[0m\u001b[0mmmtf_entity\u001b[0m\u001b[0;34m)\u001b[0m\u001b[0;34m\u001b[0m\u001b[0;34m\u001b[0m\u001b[0m\n\u001b[0m\u001b[1;32m    166\u001b[0m         \u001b[0mentity_name\u001b[0m \u001b[0;34m=\u001b[0m \u001b[0mmmtf_entity\u001b[0m\u001b[0;34m[\u001b[0m\u001b[0;34m'description'\u001b[0m\u001b[0;34m]\u001b[0m\u001b[0;34m\u001b[0m\u001b[0;34m\u001b[0m\u001b[0m\n\u001b[1;32m    167\u001b[0m \u001b[0;34m\u001b[0m\u001b[0m\n",
      "\u001b[0;32m~/Documents/molsys/MolSys_v0.1/MolSysMT/molsysmt/elements/entity.py\u001b[0m in \u001b[0;36mtype_from_MMTFDecoder_entity\u001b[0;34m(mmtf_entity)\u001b[0m\n\u001b[1;32m    183\u001b[0m             \u001b[0moutput\u001b[0m \u001b[0;34m=\u001b[0m \u001b[0mentities\u001b[0m\u001b[0;34m.\u001b[0m\u001b[0mcatalog\u001b[0m\u001b[0;34m[\u001b[0m\u001b[0mentity_name\u001b[0m\u001b[0;34m]\u001b[0m\u001b[0;34m\u001b[0m\u001b[0;34m\u001b[0m\u001b[0m\n\u001b[1;32m    184\u001b[0m         \u001b[0;32mexcept\u001b[0m\u001b[0;34m:\u001b[0m\u001b[0;34m\u001b[0m\u001b[0;34m\u001b[0m\u001b[0m\n\u001b[0;32m--> 185\u001b[0;31m             \u001b[0;32mraise\u001b[0m \u001b[0mNotImplementedError\u001b[0m\u001b[0;34m(\u001b[0m\u001b[0;34m\"The mmtf entity type {} is not implemented.\"\u001b[0m\u001b[0;34m.\u001b[0m\u001b[0mformat\u001b[0m\u001b[0;34m(\u001b[0m\u001b[0mmmtf_entity\u001b[0m\u001b[0;34m)\u001b[0m\u001b[0;34m)\u001b[0m\u001b[0;34m\u001b[0m\u001b[0;34m\u001b[0m\u001b[0m\n\u001b[0m\u001b[1;32m    186\u001b[0m \u001b[0;34m\u001b[0m\u001b[0m\n\u001b[1;32m    187\u001b[0m     \u001b[0;32mreturn\u001b[0m \u001b[0moutput\u001b[0m\u001b[0;34m\u001b[0m\u001b[0;34m\u001b[0m\u001b[0m\n",
      "\u001b[0;31mNotImplementedError\u001b[0m: The mmtf entity type {'description': 'ZINC ION', 'type': 'non-polymer', 'chainIndexList': [1], 'sequence': ''} is not implemented."
     ]
    }
   ],
   "source": [
    "FR6_molecule = msm.convert('2E1W', to_form='molsysmt.MolSys', selection='molecule_type==\"protein\"')"
   ]
  },
  {
   "cell_type": "code",
   "execution_count": 32,
   "id": "16eae2bc-e370-40fc-8b06-40c9384938ff",
   "metadata": {},
   "outputs": [
    {
     "data": {
      "application/vnd.jupyter.widget-view+json": {
       "model_id": "96eff23621b64cd0863f6b417364f613",
       "version_major": 2,
       "version_minor": 0
      },
      "text/plain": [
       "NGLWidget()"
      ]
     },
     "metadata": {},
     "output_type": "display_data"
    }
   ],
   "source": [
    "msm.view(molecular_system, selection='entity_name==\"FR6\"')"
   ]
  },
  {
   "cell_type": "code",
   "execution_count": 19,
   "id": "fc552820-e046-4380-b80f-c2b4b4aea627",
   "metadata": {},
   "outputs": [
    {
     "data": {
      "text/plain": [
       "array(['C1', 'N2', 'C3', 'N4', 'C5', 'C8', 'O9', 'N10', 'C13', 'C14',\n",
       "       'O15', 'C18', 'C19', 'C22', 'C25', 'C26', 'C27', 'C28', 'C29',\n",
       "       'C2', 'C4', 'C6', 'C7', 'C9'], dtype=object)"
      ]
     },
     "execution_count": 19,
     "metadata": {},
     "output_type": "execute_result"
    }
   ],
   "source": [
    "msm.get(molecular_system, selection='entity_name==\"FR6\"', atom_name=True)"
   ]
  },
  {
   "cell_type": "code",
   "execution_count": 15,
   "id": "c3b2b582-8051-4d6f-8e81-35a27026df50",
   "metadata": {},
   "outputs": [
    {
     "name": "stdout",
     "output_type": "stream",
     "text": [
      "0 donor atoms\n",
      "5 acceptor atoms\n"
     ]
    },
    {
     "data": {
      "text/plain": [
       "array([5536, 5538, 5541, 5542, 5545])"
      ]
     },
     "execution_count": 15,
     "metadata": {},
     "output_type": "execute_result"
    }
   ],
   "source": [
    "donors = msm.hbonds.get_donor_atoms(molecular_system, selection=\"molecule_index==1\")\n",
    "print(f\"{len(donors)} donor atoms\")\n",
    "acceptors = msm.hbonds.get_acceptor_atoms(molecular_system, selection=\"molecule_index==1\")\n",
    "print(f\"{len(acceptors)} acceptor atoms\")\n",
    "acceptors"
   ]
  },
  {
   "cell_type": "markdown",
   "id": "812c95f7-a495-4b40-9efc-8f86b50b6287",
   "metadata": {},
   "source": [
    "## Yet another system"
   ]
  },
  {
   "cell_type": "code",
   "execution_count": 21,
   "id": "36ec5d99-2972-42ae-9703-cee4a00724b3",
   "metadata": {},
   "outputs": [
    {
     "data": {
      "text/html": [
       "<style  type=\"text/css\" >\n",
       "</style><table id=\"T_10e76_\" ><thead>    <tr>        <th class=\"col_heading level0 col0\" >index</th>        <th class=\"col_heading level0 col1\" >n atoms</th>        <th class=\"col_heading level0 col2\" >n groups</th>        <th class=\"col_heading level0 col3\" >chain index</th>        <th class=\"col_heading level0 col4\" >molecule index</th>        <th class=\"col_heading level0 col5\" >molecule type</th>        <th class=\"col_heading level0 col6\" >entity index</th>        <th class=\"col_heading level0 col7\" >entity name</th>    </tr></thead><tbody>\n",
       "                <tr>\n",
       "                                <td id=\"T_10e76_row0_col0\" class=\"data row0 col0\" >0</td>\n",
       "                        <td id=\"T_10e76_row0_col1\" class=\"data row0 col1\" >3848</td>\n",
       "                        <td id=\"T_10e76_row0_col2\" class=\"data row0 col2\" >248</td>\n",
       "                        <td id=\"T_10e76_row0_col3\" class=\"data row0 col3\" >0</td>\n",
       "                        <td id=\"T_10e76_row0_col4\" class=\"data row0 col4\" >0</td>\n",
       "                        <td id=\"T_10e76_row0_col5\" class=\"data row0 col5\" >protein</td>\n",
       "                        <td id=\"T_10e76_row0_col6\" class=\"data row0 col6\" >0</td>\n",
       "                        <td id=\"T_10e76_row0_col7\" class=\"data row0 col7\" >Protein_0</td>\n",
       "            </tr>\n",
       "            <tr>\n",
       "                                <td id=\"T_10e76_row1_col0\" class=\"data row1 col0\" >1</td>\n",
       "                        <td id=\"T_10e76_row1_col1\" class=\"data row1 col1\" >3859</td>\n",
       "                        <td id=\"T_10e76_row1_col2\" class=\"data row1 col2\" >249</td>\n",
       "                        <td id=\"T_10e76_row1_col3\" class=\"data row1 col3\" >1</td>\n",
       "                        <td id=\"T_10e76_row1_col4\" class=\"data row1 col4\" >1</td>\n",
       "                        <td id=\"T_10e76_row1_col5\" class=\"data row1 col5\" >protein</td>\n",
       "                        <td id=\"T_10e76_row1_col6\" class=\"data row1 col6\" >1</td>\n",
       "                        <td id=\"T_10e76_row1_col7\" class=\"data row1 col7\" >Protein_1</td>\n",
       "            </tr>\n",
       "    </tbody></table>"
      ],
      "text/plain": [
       "<pandas.io.formats.style.Styler at 0x7ffe01114b90>"
      ]
     },
     "execution_count": 21,
     "metadata": {},
     "output_type": "execute_result"
    }
   ],
   "source": [
    "mol_system_2 = msm.convert(\"1TCD\", \"molsysmt.MolSys\")\n",
    "mol_system_2 = msm.remove_solvent(mol_system_2, water=True, ions=True)\n",
    "mol_system_2 = msm.add_missing_hydrogens(mol_system_2, pH=7.4)\n",
    "msm.info(mol_system_2, target=\"component\")"
   ]
  },
  {
   "cell_type": "code",
   "execution_count": 22,
   "id": "5063d991-9e45-4f3c-ab21-f2e17a9f91af",
   "metadata": {},
   "outputs": [
    {
     "ename": "IndexError",
     "evalue": "list index out of range",
     "output_type": "error",
     "traceback": [
      "\u001b[0;31m---------------------------------------------------------------------------\u001b[0m",
      "\u001b[0;31mIndexError\u001b[0m                                Traceback (most recent call last)",
      "\u001b[0;32m<ipython-input-22-d8d6cf2899af>\u001b[0m in \u001b[0;36m<module>\u001b[0;34m\u001b[0m\n\u001b[0;32m----> 1\u001b[0;31m \u001b[0mmsm\u001b[0m\u001b[0;34m.\u001b[0m\u001b[0mview\u001b[0m\u001b[0;34m(\u001b[0m\u001b[0mmol_system_2\u001b[0m\u001b[0;34m)\u001b[0m\u001b[0;34m\u001b[0m\u001b[0;34m\u001b[0m\u001b[0m\n\u001b[0m",
      "\u001b[0;32m~/Documents/molsys/MolSys_v0.1/MolSysMT/molsysmt/multitool/view.py\u001b[0m in \u001b[0;36mview\u001b[0;34m(molecular_system, viewer, selection, frame_indices, concatenate_frames, standardize, surface, syntaxis)\u001b[0m\n\u001b[1;32m     14\u001b[0m     \u001b[0;32mif\u001b[0m \u001b[0mis_a_single_molecular_system\u001b[0m\u001b[0;34m(\u001b[0m\u001b[0mmolecular_system\u001b[0m\u001b[0;34m)\u001b[0m\u001b[0;34m:\u001b[0m\u001b[0;34m\u001b[0m\u001b[0;34m\u001b[0m\u001b[0m\n\u001b[1;32m     15\u001b[0m         \u001b[0mmolecular_system\u001b[0m \u001b[0;34m=\u001b[0m \u001b[0mdigest_molecular_system\u001b[0m\u001b[0;34m(\u001b[0m\u001b[0mmolecular_system\u001b[0m\u001b[0;34m)\u001b[0m\u001b[0;34m\u001b[0m\u001b[0;34m\u001b[0m\u001b[0m\n\u001b[0;32m---> 16\u001b[0;31m         \u001b[0mtmp_item\u001b[0m \u001b[0;34m=\u001b[0m \u001b[0mconvert\u001b[0m\u001b[0;34m(\u001b[0m\u001b[0mmolecular_system\u001b[0m\u001b[0;34m,\u001b[0m \u001b[0mto_form\u001b[0m\u001b[0;34m=\u001b[0m\u001b[0mform_viewer\u001b[0m\u001b[0;34m,\u001b[0m \u001b[0mselection\u001b[0m\u001b[0;34m=\u001b[0m\u001b[0mselection\u001b[0m\u001b[0;34m,\u001b[0m \u001b[0mframe_indices\u001b[0m\u001b[0;34m=\u001b[0m\u001b[0mframe_indices\u001b[0m\u001b[0;34m,\u001b[0m \u001b[0msyntaxis\u001b[0m\u001b[0;34m=\u001b[0m\u001b[0msyntaxis\u001b[0m\u001b[0;34m)\u001b[0m\u001b[0;34m\u001b[0m\u001b[0;34m\u001b[0m\u001b[0m\n\u001b[0m\u001b[1;32m     17\u001b[0m     \u001b[0;32melse\u001b[0m\u001b[0;34m:\u001b[0m\u001b[0;34m\u001b[0m\u001b[0;34m\u001b[0m\u001b[0m\n\u001b[1;32m     18\u001b[0m         \u001b[0;32mif\u001b[0m \u001b[0mconcatenate_frames\u001b[0m\u001b[0;34m:\u001b[0m\u001b[0;34m\u001b[0m\u001b[0;34m\u001b[0m\u001b[0m\n",
      "\u001b[0;32m~/Documents/molsys/MolSys_v0.1/MolSysMT/molsysmt/multitool/convert.py\u001b[0m in \u001b[0;36mconvert\u001b[0;34m(molecular_system, to_form, selection, frame_indices, syntaxis, **kwargs)\u001b[0m\n\u001b[1;32m     97\u001b[0m     \u001b[0;32melse\u001b[0m\u001b[0;34m:\u001b[0m\u001b[0;34m\u001b[0m\u001b[0;34m\u001b[0m\u001b[0m\n\u001b[1;32m     98\u001b[0m         tmp_item, _ = dict_convert[item_form][to_form](item, molecular_system, atom_indices=atom_indices, frame_indices=frame_indices,\n\u001b[0;32m---> 99\u001b[0;31m                                                      **conversion_arguments, **kwargs)\n\u001b[0m\u001b[1;32m    100\u001b[0m \u001b[0;34m\u001b[0m\u001b[0m\n\u001b[1;32m    101\u001b[0m     \u001b[0mtmp_item\u001b[0m \u001b[0;34m=\u001b[0m \u001b[0mdigest_output\u001b[0m\u001b[0;34m(\u001b[0m\u001b[0mtmp_item\u001b[0m\u001b[0;34m)\u001b[0m\u001b[0;34m\u001b[0m\u001b[0;34m\u001b[0m\u001b[0m\n",
      "\u001b[0;32m~/Documents/molsys/MolSys_v0.1/MolSysMT/molsysmt/forms/classes/api_molsysmt_MolSys.py\u001b[0m in \u001b[0;36mto_nglview_NGLWidget\u001b[0;34m(item, molecular_system, atom_indices, frame_indices)\u001b[0m\n\u001b[1;32m    173\u001b[0m     \u001b[0mtmp_item\u001b[0m \u001b[0;34m=\u001b[0m \u001b[0mshow_molsysmt\u001b[0m\u001b[0;34m(\u001b[0m\u001b[0mitem\u001b[0m\u001b[0;34m,\u001b[0m \u001b[0mselection\u001b[0m\u001b[0;34m=\u001b[0m\u001b[0matom_indices\u001b[0m\u001b[0;34m,\u001b[0m \u001b[0mframe_indices\u001b[0m\u001b[0;34m=\u001b[0m\u001b[0mframe_indices\u001b[0m\u001b[0;34m)\u001b[0m\u001b[0;34m\u001b[0m\u001b[0;34m\u001b[0m\u001b[0m\n\u001b[1;32m    174\u001b[0m     \u001b[0;32mif\u001b[0m \u001b[0mmolecular_system\u001b[0m \u001b[0;32mis\u001b[0m \u001b[0;32mnot\u001b[0m \u001b[0;32mNone\u001b[0m\u001b[0;34m:\u001b[0m\u001b[0;34m\u001b[0m\u001b[0;34m\u001b[0m\u001b[0m\n\u001b[0;32m--> 175\u001b[0;31m         \u001b[0mtmp_molecular_system\u001b[0m \u001b[0;34m=\u001b[0m \u001b[0mmolecular_system\u001b[0m\u001b[0;34m.\u001b[0m\u001b[0mcombine_with_items\u001b[0m\u001b[0;34m(\u001b[0m\u001b[0mtmp_item\u001b[0m\u001b[0;34m)\u001b[0m\u001b[0;34m\u001b[0m\u001b[0;34m\u001b[0m\u001b[0m\n\u001b[0m\u001b[1;32m    176\u001b[0m     \u001b[0;32melse\u001b[0m\u001b[0;34m:\u001b[0m\u001b[0;34m\u001b[0m\u001b[0;34m\u001b[0m\u001b[0m\n\u001b[1;32m    177\u001b[0m         \u001b[0mtmp_molecular_system\u001b[0m \u001b[0;34m=\u001b[0m \u001b[0;32mNone\u001b[0m\u001b[0;34m\u001b[0m\u001b[0;34m\u001b[0m\u001b[0m\n",
      "\u001b[0;32m~/Documents/molsys/MolSys_v0.1/MolSysMT/molsysmt/molecular_system.py\u001b[0m in \u001b[0;36mcombine_with_items\u001b[0;34m(self, items, atom_indices, frame_indices)\u001b[0m\n\u001b[1;32m    134\u001b[0m                         \u001b[0maux_item\u001b[0m \u001b[0;34m=\u001b[0m \u001b[0maux_extracted_item\u001b[0m\u001b[0;34m\u001b[0m\u001b[0;34m\u001b[0m\u001b[0m\n\u001b[1;32m    135\u001b[0m \u001b[0;34m\u001b[0m\u001b[0m\n\u001b[0;32m--> 136\u001b[0;31m                     \u001b[0;32mif\u001b[0m \u001b[0mitems_compatibles_for_a_single_molecular_system\u001b[0m\u001b[0;34m(\u001b[0m\u001b[0mitems\u001b[0m\u001b[0;34m+\u001b[0m\u001b[0;34m[\u001b[0m\u001b[0maux_item\u001b[0m\u001b[0;34m]\u001b[0m\u001b[0;34m)\u001b[0m\u001b[0;34m:\u001b[0m\u001b[0;34m\u001b[0m\u001b[0;34m\u001b[0m\u001b[0m\n\u001b[0m\u001b[1;32m    137\u001b[0m \u001b[0;34m\u001b[0m\u001b[0m\n\u001b[1;32m    138\u001b[0m                         \u001b[0msetattr\u001b[0m\u001b[0;34m(\u001b[0m\u001b[0moutput_molecular_system\u001b[0m\u001b[0;34m,\u001b[0m \u001b[0mcomponent_name\u001b[0m\u001b[0;34m+\u001b[0m\u001b[0;34m'_item'\u001b[0m\u001b[0;34m,\u001b[0m \u001b[0maux_item\u001b[0m\u001b[0;34m)\u001b[0m\u001b[0;34m\u001b[0m\u001b[0;34m\u001b[0m\u001b[0m\n",
      "\u001b[0;32m~/Documents/molsys/MolSys_v0.1/MolSysMT/molsysmt/tools/items.py\u001b[0m in \u001b[0;36mcompatibles_for_a_single_molecular_system\u001b[0;34m(items)\u001b[0m\n\u001b[1;32m     22\u001b[0m         \u001b[0;32mfor\u001b[0m \u001b[0mitem\u001b[0m \u001b[0;32min\u001b[0m \u001b[0mitems\u001b[0m\u001b[0;34m:\u001b[0m\u001b[0;34m\u001b[0m\u001b[0;34m\u001b[0m\u001b[0m\n\u001b[1;32m     23\u001b[0m             \u001b[0mtmp_form\u001b[0m \u001b[0;34m=\u001b[0m \u001b[0mget_form\u001b[0m\u001b[0;34m(\u001b[0m\u001b[0mitem\u001b[0m\u001b[0;34m)\u001b[0m\u001b[0;34m\u001b[0m\u001b[0;34m\u001b[0m\u001b[0m\n\u001b[0;32m---> 24\u001b[0;31m             \u001b[0mtmp_n_atoms\u001b[0m\u001b[0;34m,\u001b[0m \u001b[0mtmp_n_groups\u001b[0m \u001b[0;34m=\u001b[0m \u001b[0mget\u001b[0m\u001b[0;34m(\u001b[0m\u001b[0mitem\u001b[0m\u001b[0;34m,\u001b[0m \u001b[0mtarget\u001b[0m\u001b[0;34m=\u001b[0m\u001b[0;34m'atom'\u001b[0m\u001b[0;34m,\u001b[0m \u001b[0mn_atoms\u001b[0m\u001b[0;34m=\u001b[0m\u001b[0;32mTrue\u001b[0m\u001b[0;34m,\u001b[0m \u001b[0mn_groups\u001b[0m\u001b[0;34m=\u001b[0m\u001b[0;32mTrue\u001b[0m\u001b[0;34m)\u001b[0m\u001b[0;34m\u001b[0m\u001b[0;34m\u001b[0m\u001b[0m\n\u001b[0m\u001b[1;32m     25\u001b[0m             \u001b[0mlist_forms\u001b[0m\u001b[0;34m.\u001b[0m\u001b[0mappend\u001b[0m\u001b[0;34m(\u001b[0m\u001b[0mtmp_form\u001b[0m\u001b[0;34m)\u001b[0m\u001b[0;34m\u001b[0m\u001b[0;34m\u001b[0m\u001b[0m\n\u001b[1;32m     26\u001b[0m             \u001b[0mlist_n_atoms\u001b[0m\u001b[0;34m.\u001b[0m\u001b[0mappend\u001b[0m\u001b[0;34m(\u001b[0m\u001b[0mtmp_n_atoms\u001b[0m\u001b[0;34m)\u001b[0m\u001b[0;34m\u001b[0m\u001b[0;34m\u001b[0m\u001b[0m\n",
      "\u001b[0;32m~/Documents/molsys/MolSys_v0.1/MolSysMT/molsysmt/multitool/get.py\u001b[0m in \u001b[0;36mget\u001b[0;34m(molecular_system, target, indices, selection, frame_indices, syntaxis, **kwargs)\u001b[0m\n\u001b[1;32m     83\u001b[0m             \u001b[0mform\u001b[0m \u001b[0;34m=\u001b[0m \u001b[0mgetattr\u001b[0m\u001b[0;34m(\u001b[0m\u001b[0mmolecular_system\u001b[0m\u001b[0;34m,\u001b[0m \u001b[0mwhere_attribute\u001b[0m\u001b[0;34m+\u001b[0m\u001b[0;34m'_form'\u001b[0m\u001b[0;34m)\u001b[0m\u001b[0;34m\u001b[0m\u001b[0;34m\u001b[0m\u001b[0m\n\u001b[1;32m     84\u001b[0m             \u001b[0;32mif\u001b[0m \u001b[0mitem\u001b[0m \u001b[0;32mis\u001b[0m \u001b[0;32mnot\u001b[0m \u001b[0;32mNone\u001b[0m\u001b[0;34m:\u001b[0m\u001b[0;34m\u001b[0m\u001b[0;34m\u001b[0m\u001b[0m\n\u001b[0;32m---> 85\u001b[0;31m                 \u001b[0mresult\u001b[0m \u001b[0;34m=\u001b[0m \u001b[0mdict_get\u001b[0m\u001b[0;34m[\u001b[0m\u001b[0mform\u001b[0m\u001b[0;34m]\u001b[0m\u001b[0;34m[\u001b[0m\u001b[0mtarget\u001b[0m\u001b[0;34m]\u001b[0m\u001b[0;34m[\u001b[0m\u001b[0mattribute\u001b[0m\u001b[0;34m]\u001b[0m\u001b[0;34m(\u001b[0m\u001b[0mitem\u001b[0m\u001b[0;34m,\u001b[0m \u001b[0mindices\u001b[0m\u001b[0;34m=\u001b[0m\u001b[0mindices\u001b[0m\u001b[0;34m,\u001b[0m \u001b[0mframe_indices\u001b[0m\u001b[0;34m=\u001b[0m\u001b[0mframe_indices\u001b[0m\u001b[0;34m)\u001b[0m\u001b[0;34m\u001b[0m\u001b[0;34m\u001b[0m\u001b[0m\n\u001b[0m\u001b[1;32m     86\u001b[0m             \u001b[0;32mif\u001b[0m \u001b[0mresult\u001b[0m \u001b[0;32mis\u001b[0m \u001b[0;32mnot\u001b[0m \u001b[0;32mNone\u001b[0m\u001b[0;34m:\u001b[0m\u001b[0;34m\u001b[0m\u001b[0;34m\u001b[0m\u001b[0m\n\u001b[1;32m     87\u001b[0m                 \u001b[0;32mbreak\u001b[0m\u001b[0;34m\u001b[0m\u001b[0;34m\u001b[0m\u001b[0m\n",
      "\u001b[0;32m~/Documents/molsys/MolSys_v0.1/MolSysMT/molsysmt/forms/common_gets.py\u001b[0m in \u001b[0;36mget_n_atoms_from_atom\u001b[0;34m(item, indices, frame_indices)\u001b[0m\n\u001b[1;32m    257\u001b[0m \u001b[0;32mdef\u001b[0m \u001b[0mget_n_atoms_from_atom\u001b[0m \u001b[0;34m(\u001b[0m\u001b[0mitem\u001b[0m\u001b[0;34m,\u001b[0m \u001b[0mindices\u001b[0m\u001b[0;34m=\u001b[0m\u001b[0;34m'all'\u001b[0m\u001b[0;34m,\u001b[0m \u001b[0mframe_indices\u001b[0m\u001b[0;34m=\u001b[0m\u001b[0;34m'all'\u001b[0m\u001b[0;34m)\u001b[0m\u001b[0;34m:\u001b[0m\u001b[0;34m\u001b[0m\u001b[0;34m\u001b[0m\u001b[0m\n\u001b[1;32m    258\u001b[0m \u001b[0;34m\u001b[0m\u001b[0m\n\u001b[0;32m--> 259\u001b[0;31m     \u001b[0;32mreturn\u001b[0m \u001b[0m_aux_n\u001b[0m\u001b[0;34m(\u001b[0m\u001b[0mitem\u001b[0m\u001b[0;34m,\u001b[0m \u001b[0;34m'atom'\u001b[0m\u001b[0;34m,\u001b[0m \u001b[0mindices\u001b[0m\u001b[0;34m)\u001b[0m\u001b[0;34m\u001b[0m\u001b[0;34m\u001b[0m\u001b[0m\n\u001b[0m\u001b[1;32m    260\u001b[0m \u001b[0;34m\u001b[0m\u001b[0m\n\u001b[1;32m    261\u001b[0m \u001b[0;32mdef\u001b[0m \u001b[0mget_n_groups_from_atom\u001b[0m \u001b[0;34m(\u001b[0m\u001b[0mitem\u001b[0m\u001b[0;34m,\u001b[0m \u001b[0mindices\u001b[0m\u001b[0;34m=\u001b[0m\u001b[0;34m'all'\u001b[0m\u001b[0;34m,\u001b[0m \u001b[0mframe_indices\u001b[0m\u001b[0;34m=\u001b[0m\u001b[0;34m'all'\u001b[0m\u001b[0;34m)\u001b[0m\u001b[0;34m:\u001b[0m\u001b[0;34m\u001b[0m\u001b[0;34m\u001b[0m\u001b[0m\n",
      "\u001b[0;32m~/Documents/molsys/MolSys_v0.1/MolSysMT/molsysmt/forms/common_gets.py\u001b[0m in \u001b[0;36m_aux_n\u001b[0;34m(item, from_target, indices)\u001b[0m\n\u001b[1;32m    131\u001b[0m \u001b[0;34m\u001b[0m\u001b[0m\n\u001b[1;32m    132\u001b[0m     \u001b[0;32mif\u001b[0m \u001b[0mindices\u001b[0m \u001b[0;32mis\u001b[0m \u001b[0;34m'all'\u001b[0m\u001b[0;34m:\u001b[0m\u001b[0;34m\u001b[0m\u001b[0;34m\u001b[0m\u001b[0m\n\u001b[0;32m--> 133\u001b[0;31m         \u001b[0;32mreturn\u001b[0m \u001b[0mget\u001b[0m\u001b[0;34m(\u001b[0m\u001b[0mitem\u001b[0m\u001b[0;34m,\u001b[0m \u001b[0mtarget\u001b[0m\u001b[0;34m=\u001b[0m\u001b[0;34m'system'\u001b[0m\u001b[0;34m,\u001b[0m \u001b[0;34m**\u001b[0m\u001b[0mdict_n_targets\u001b[0m\u001b[0;34m)\u001b[0m\u001b[0;34m\u001b[0m\u001b[0;34m\u001b[0m\u001b[0m\n\u001b[0m\u001b[1;32m    134\u001b[0m     \u001b[0;32melse\u001b[0m\u001b[0;34m:\u001b[0m\u001b[0;34m\u001b[0m\u001b[0;34m\u001b[0m\u001b[0m\n\u001b[1;32m    135\u001b[0m         \u001b[0;32mreturn\u001b[0m \u001b[0mindices\u001b[0m\u001b[0;34m.\u001b[0m\u001b[0mshape\u001b[0m\u001b[0;34m[\u001b[0m\u001b[0;36m0\u001b[0m\u001b[0;34m]\u001b[0m\u001b[0;34m\u001b[0m\u001b[0;34m\u001b[0m\u001b[0m\n",
      "\u001b[0;32m~/Documents/molsys/MolSys_v0.1/MolSysMT/molsysmt/multitool/get.py\u001b[0m in \u001b[0;36mget\u001b[0;34m(molecular_system, target, indices, selection, frame_indices, syntaxis, **kwargs)\u001b[0m\n\u001b[1;32m     83\u001b[0m             \u001b[0mform\u001b[0m \u001b[0;34m=\u001b[0m \u001b[0mgetattr\u001b[0m\u001b[0;34m(\u001b[0m\u001b[0mmolecular_system\u001b[0m\u001b[0;34m,\u001b[0m \u001b[0mwhere_attribute\u001b[0m\u001b[0;34m+\u001b[0m\u001b[0;34m'_form'\u001b[0m\u001b[0;34m)\u001b[0m\u001b[0;34m\u001b[0m\u001b[0;34m\u001b[0m\u001b[0m\n\u001b[1;32m     84\u001b[0m             \u001b[0;32mif\u001b[0m \u001b[0mitem\u001b[0m \u001b[0;32mis\u001b[0m \u001b[0;32mnot\u001b[0m \u001b[0;32mNone\u001b[0m\u001b[0;34m:\u001b[0m\u001b[0;34m\u001b[0m\u001b[0;34m\u001b[0m\u001b[0m\n\u001b[0;32m---> 85\u001b[0;31m                 \u001b[0mresult\u001b[0m \u001b[0;34m=\u001b[0m \u001b[0mdict_get\u001b[0m\u001b[0;34m[\u001b[0m\u001b[0mform\u001b[0m\u001b[0;34m]\u001b[0m\u001b[0;34m[\u001b[0m\u001b[0mtarget\u001b[0m\u001b[0;34m]\u001b[0m\u001b[0;34m[\u001b[0m\u001b[0mattribute\u001b[0m\u001b[0;34m]\u001b[0m\u001b[0;34m(\u001b[0m\u001b[0mitem\u001b[0m\u001b[0;34m,\u001b[0m \u001b[0mindices\u001b[0m\u001b[0;34m=\u001b[0m\u001b[0mindices\u001b[0m\u001b[0;34m,\u001b[0m \u001b[0mframe_indices\u001b[0m\u001b[0;34m=\u001b[0m\u001b[0mframe_indices\u001b[0m\u001b[0;34m)\u001b[0m\u001b[0;34m\u001b[0m\u001b[0;34m\u001b[0m\u001b[0m\n\u001b[0m\u001b[1;32m     86\u001b[0m             \u001b[0;32mif\u001b[0m \u001b[0mresult\u001b[0m \u001b[0;32mis\u001b[0m \u001b[0;32mnot\u001b[0m \u001b[0;32mNone\u001b[0m\u001b[0;34m:\u001b[0m\u001b[0;34m\u001b[0m\u001b[0;34m\u001b[0m\u001b[0m\n\u001b[1;32m     87\u001b[0m                 \u001b[0;32mbreak\u001b[0m\u001b[0;34m\u001b[0m\u001b[0;34m\u001b[0m\u001b[0m\n",
      "\u001b[0;32m~/Documents/molsys/MolSys_v0.1/MolSysMT/molsysmt/forms/viewers/api_nglview_NGLWidget.py\u001b[0m in \u001b[0;36mget_n_atoms_from_system\u001b[0;34m(item, indices, frame_indices)\u001b[0m\n\u001b[1;32m    234\u001b[0m \u001b[0;32mdef\u001b[0m \u001b[0mget_n_atoms_from_system\u001b[0m\u001b[0;34m(\u001b[0m\u001b[0mitem\u001b[0m\u001b[0;34m,\u001b[0m \u001b[0mindices\u001b[0m\u001b[0;34m=\u001b[0m\u001b[0;34m'all'\u001b[0m\u001b[0;34m,\u001b[0m \u001b[0mframe_indices\u001b[0m\u001b[0;34m=\u001b[0m\u001b[0;34m'all'\u001b[0m\u001b[0;34m)\u001b[0m\u001b[0;34m:\u001b[0m\u001b[0;34m\u001b[0m\u001b[0;34m\u001b[0m\u001b[0m\n\u001b[1;32m    235\u001b[0m \u001b[0;34m\u001b[0m\u001b[0m\n\u001b[0;32m--> 236\u001b[0;31m     \u001b[0;32mreturn\u001b[0m \u001b[0maux_get\u001b[0m\u001b[0;34m(\u001b[0m\u001b[0mitem\u001b[0m\u001b[0;34m,\u001b[0m \u001b[0mindices\u001b[0m\u001b[0;34m=\u001b[0m\u001b[0mindices\u001b[0m\u001b[0;34m,\u001b[0m \u001b[0mframe_indices\u001b[0m\u001b[0;34m=\u001b[0m\u001b[0mframe_indices\u001b[0m\u001b[0;34m)\u001b[0m\u001b[0;34m\u001b[0m\u001b[0;34m\u001b[0m\u001b[0m\n\u001b[0m\u001b[1;32m    237\u001b[0m \u001b[0;34m\u001b[0m\u001b[0m\n\u001b[1;32m    238\u001b[0m \u001b[0;32mdef\u001b[0m \u001b[0mget_n_groups_from_system\u001b[0m\u001b[0;34m(\u001b[0m\u001b[0mitem\u001b[0m\u001b[0;34m,\u001b[0m \u001b[0mindices\u001b[0m\u001b[0;34m=\u001b[0m\u001b[0;34m'all'\u001b[0m\u001b[0;34m,\u001b[0m \u001b[0mframe_indices\u001b[0m\u001b[0;34m=\u001b[0m\u001b[0;34m'all'\u001b[0m\u001b[0;34m)\u001b[0m\u001b[0;34m:\u001b[0m\u001b[0;34m\u001b[0m\u001b[0;34m\u001b[0m\u001b[0m\n",
      "\u001b[0;32m~/Documents/molsys/MolSys_v0.1/MolSysMT/molsysmt/forms/viewers/api_nglview_NGLWidget.py\u001b[0m in \u001b[0;36maux_get\u001b[0;34m(item, indices, frame_indices)\u001b[0m\n\u001b[1;32m     95\u001b[0m     \u001b[0;32mif\u001b[0m \u001b[0;34m'openmm.PDBFile'\u001b[0m \u001b[0;32min\u001b[0m \u001b[0mforms\u001b[0m\u001b[0;34m:\u001b[0m\u001b[0;34m\u001b[0m\u001b[0;34m\u001b[0m\u001b[0m\n\u001b[1;32m     96\u001b[0m \u001b[0;34m\u001b[0m\u001b[0m\n\u001b[0;32m---> 97\u001b[0;31m         \u001b[0mtmp_item\u001b[0m\u001b[0;34m,\u001b[0m \u001b[0m_\u001b[0m \u001b[0;34m=\u001b[0m \u001b[0mto_openmm_PDBFile\u001b[0m\u001b[0;34m(\u001b[0m\u001b[0mitem\u001b[0m\u001b[0;34m)\u001b[0m\u001b[0;34m\u001b[0m\u001b[0;34m\u001b[0m\u001b[0m\n\u001b[0m\u001b[1;32m     98\u001b[0m         \u001b[0mmodule\u001b[0m \u001b[0;34m=\u001b[0m \u001b[0mimportlib\u001b[0m\u001b[0;34m.\u001b[0m\u001b[0mimport_module\u001b[0m\u001b[0;34m(\u001b[0m\u001b[0;34m'molsysmt.forms.classes.api_openmm_PDBFile'\u001b[0m\u001b[0;34m)\u001b[0m\u001b[0;34m\u001b[0m\u001b[0;34m\u001b[0m\u001b[0m\n\u001b[1;32m     99\u001b[0m         \u001b[0m_get\u001b[0m \u001b[0;34m=\u001b[0m \u001b[0mgetattr\u001b[0m\u001b[0;34m(\u001b[0m\u001b[0mmodule\u001b[0m\u001b[0;34m,\u001b[0m \u001b[0mmethod_name\u001b[0m\u001b[0;34m)\u001b[0m\u001b[0;34m\u001b[0m\u001b[0;34m\u001b[0m\u001b[0m\n",
      "\u001b[0;32m~/Documents/molsys/MolSys_v0.1/MolSysMT/molsysmt/forms/viewers/api_nglview_NGLWidget.py\u001b[0m in \u001b[0;36mto_openmm_PDBFile\u001b[0;34m(item, molecular_system, atom_indices, frame_indices)\u001b[0m\n\u001b[1;32m     29\u001b[0m         \u001b[0mstructure_string\u001b[0m \u001b[0;34m=\u001b[0m \u001b[0mitem\u001b[0m\u001b[0;34m.\u001b[0m\u001b[0mget_state\u001b[0m\u001b[0;34m(\u001b[0m\u001b[0;34m)\u001b[0m\u001b[0;34m[\u001b[0m\u001b[0;34m'_ngl_msg_archive'\u001b[0m\u001b[0;34m]\u001b[0m\u001b[0;34m[\u001b[0m\u001b[0;36m0\u001b[0m\u001b[0;34m]\u001b[0m\u001b[0;34m[\u001b[0m\u001b[0;34m'args'\u001b[0m\u001b[0;34m]\u001b[0m\u001b[0;34m[\u001b[0m\u001b[0;36m0\u001b[0m\u001b[0;34m]\u001b[0m\u001b[0;34m[\u001b[0m\u001b[0;34m'data'\u001b[0m\u001b[0;34m]\u001b[0m\u001b[0;34m\u001b[0m\u001b[0;34m\u001b[0m\u001b[0m\n\u001b[1;32m     30\u001b[0m     \u001b[0mstr_as_file\u001b[0m \u001b[0;34m=\u001b[0m \u001b[0mStringIO\u001b[0m\u001b[0;34m(\u001b[0m\u001b[0mstructure_string\u001b[0m\u001b[0;34m)\u001b[0m\u001b[0;34m\u001b[0m\u001b[0;34m\u001b[0m\u001b[0m\n\u001b[0;32m---> 31\u001b[0;31m     \u001b[0mtmp_item\u001b[0m \u001b[0;34m=\u001b[0m \u001b[0mPDBFile\u001b[0m\u001b[0;34m(\u001b[0m\u001b[0mstr_as_file\u001b[0m\u001b[0;34m)\u001b[0m\u001b[0;34m\u001b[0m\u001b[0;34m\u001b[0m\u001b[0m\n\u001b[0m\u001b[1;32m     32\u001b[0m     \u001b[0mstr_as_file\u001b[0m\u001b[0;34m.\u001b[0m\u001b[0mclose\u001b[0m\u001b[0;34m(\u001b[0m\u001b[0;34m)\u001b[0m\u001b[0;34m\u001b[0m\u001b[0;34m\u001b[0m\u001b[0m\n\u001b[1;32m     33\u001b[0m     \u001b[0;32mdel\u001b[0m\u001b[0;34m(\u001b[0m\u001b[0mstr_as_file\u001b[0m\u001b[0;34m)\u001b[0m\u001b[0;34m\u001b[0m\u001b[0;34m\u001b[0m\u001b[0m\n",
      "\u001b[0;32m~/miniconda3/envs/openpharmacophore/lib/python3.7/site-packages/simtk/openmm/app/pdbfile.py\u001b[0m in \u001b[0;36m__init__\u001b[0;34m(self, file, extraParticleIdentifier)\u001b[0m\n\u001b[1;32m    161\u001b[0m             \u001b[0mself\u001b[0m\u001b[0;34m.\u001b[0m\u001b[0m_positions\u001b[0m\u001b[0;34m.\u001b[0m\u001b[0mappend\u001b[0m\u001b[0;34m(\u001b[0m\u001b[0mcoords\u001b[0m\u001b[0;34m*\u001b[0m\u001b[0mnanometers\u001b[0m\u001b[0;34m)\u001b[0m\u001b[0;34m\u001b[0m\u001b[0;34m\u001b[0m\u001b[0m\n\u001b[1;32m    162\u001b[0m         \u001b[0;31m## The atom positions read from the PDB file.  If the file contains multiple frames, these are the positions in the first frame.\u001b[0m\u001b[0;34m\u001b[0m\u001b[0;34m\u001b[0m\u001b[0;34m\u001b[0m\u001b[0m\n\u001b[0;32m--> 163\u001b[0;31m         \u001b[0mself\u001b[0m\u001b[0;34m.\u001b[0m\u001b[0mpositions\u001b[0m \u001b[0;34m=\u001b[0m \u001b[0mself\u001b[0m\u001b[0;34m.\u001b[0m\u001b[0m_positions\u001b[0m\u001b[0;34m[\u001b[0m\u001b[0;36m0\u001b[0m\u001b[0;34m]\u001b[0m\u001b[0;34m\u001b[0m\u001b[0;34m\u001b[0m\u001b[0m\n\u001b[0m\u001b[1;32m    164\u001b[0m         \u001b[0mself\u001b[0m\u001b[0;34m.\u001b[0m\u001b[0mtopology\u001b[0m\u001b[0;34m.\u001b[0m\u001b[0msetPeriodicBoxVectors\u001b[0m\u001b[0;34m(\u001b[0m\u001b[0mpdb\u001b[0m\u001b[0;34m.\u001b[0m\u001b[0mget_periodic_box_vectors\u001b[0m\u001b[0;34m(\u001b[0m\u001b[0;34m)\u001b[0m\u001b[0;34m)\u001b[0m\u001b[0;34m\u001b[0m\u001b[0;34m\u001b[0m\u001b[0m\n\u001b[1;32m    165\u001b[0m         \u001b[0mself\u001b[0m\u001b[0;34m.\u001b[0m\u001b[0mtopology\u001b[0m\u001b[0;34m.\u001b[0m\u001b[0mcreateStandardBonds\u001b[0m\u001b[0;34m(\u001b[0m\u001b[0;34m)\u001b[0m\u001b[0;34m\u001b[0m\u001b[0;34m\u001b[0m\u001b[0m\n",
      "\u001b[0;31mIndexError\u001b[0m: list index out of range"
     ]
    }
   ],
   "source": [
    "msm.view(mol_system_2)"
   ]
  },
  {
   "cell_type": "code",
   "execution_count": 23,
   "id": "23f13b1b-8372-4c73-a980-4d735bb72e28",
   "metadata": {},
   "outputs": [
    {
     "name": "stdout",
     "output_type": "stream",
     "text": [
      "The graph has 3848 nodes and 3884 edges\n",
      "The molecule has 3848 atoms and 3884 bonds\n"
     ]
    }
   ],
   "source": [
    "graph = msm.bondgraph(mol_system_2, nodes_name=\"atom_index\", selection='molecule_index==0', to_form=\"networkx.Graph\")\n",
    "n_nodes = graph.number_of_nodes()\n",
    "n_edges = graph.number_of_edges()\n",
    "print('The graph has {} nodes and {} edges'.format(n_nodes, n_edges))\n",
    "n_atoms, n_bonds = msm.get(mol_system_2, selection='molecule_index==0', n_atoms=True,\n",
    "                           n_inner_bonds=True)\n",
    "print('The molecule has {} atoms and {} bonds'.format(n_atoms, n_bonds))"
   ]
  },
  {
   "cell_type": "code",
   "execution_count": 24,
   "id": "32e358cf-ff35-4340-9c66-9b8dc871d42d",
   "metadata": {},
   "outputs": [
    {
     "data": {
      "text/plain": [
       "True"
      ]
     },
     "execution_count": 24,
     "metadata": {},
     "output_type": "execute_result"
    }
   ],
   "source": [
    "graph.is_multigraph()"
   ]
  },
  {
   "cell_type": "code",
   "execution_count": 9,
   "id": "aaf4acd4-8129-4423-ab99-8ab2f481551c",
   "metadata": {},
   "outputs": [
    {
     "data": {
      "image/png": "[encoded data removed]",
      "text/plain": [
       "<Figure size 432x288 with 1 Axes>"
      ]
     },
     "metadata": {},
     "output_type": "display_data"
    }
   ],
   "source": [
    "# graph.edges(data=True)\n",
    "nx.draw_networkx(graph)"
   ]
  },
  {
   "cell_type": "code",
   "execution_count": 31,
   "id": "c9c4d39f-ef3a-4513-841e-9b43bb1a88ba",
   "metadata": {},
   "outputs": [
    {
     "name": "stdout",
     "output_type": "stream",
     "text": [
      "[1.8466999530792236 2.7637999057769775 8.366100311279297] nanometer\n",
      "[1.7809898853302002 2.6638009548187256 8.357183456420898] nanometer\n",
      "[0.06571006774902344 0.09999895095825195 0.008916854858398438] nanometer\n",
      "0.11998797230096804 nanometer\n",
      "0.11998797230096804\n"
     ]
    },
    {
     "name": "stderr",
     "output_type": "stream",
     "text": [
      "/Users/danielibarrola/miniconda3/envs/openpharmacophore/lib/python3.7/site-packages/ipykernel_launcher.py:17: UnitStrippedWarning: The unit of the quantity is stripped when downcasting to ndarray.\n"
     ]
    }
   ],
   "source": []
  },
  {
   "cell_type": "markdown",
   "id": "68699e2c-6b81-462b-b0f6-dbf49f27eb93",
   "metadata": {},
   "source": [
    "### Other systems to try\n",
    "Currently this are not working"
   ]
  },
  {
   "cell_type": "code",
   "execution_count": null,
   "id": "4470a76b-3f45-4ca3-8142-62637ef7f967",
   "metadata": {},
   "outputs": [],
   "source": [
    "# Can't load this PDB entry\n",
    "molecular_system_2 = msm.convert('1BMK', 'molsysmt.MolSys')\n",
    "molecular_system_2 = msm.remove_solvent(molecular_system_2, water=True, ions=True)\n",
    "molecular_system_2 = msm.add_missing_hydrogens(molecular_system_2, pH=7.4)\n",
    "msm.info(molecular_system_2, target='component')"
   ]
  },
  {
   "cell_type": "code",
   "execution_count": null,
   "id": "a383c00e-f516-4a60-b791-ea24248ab751",
   "metadata": {},
   "outputs": [],
   "source": [
    "# Can't load this PDB entry\n",
    "molecular_system_2 = msm.convert('2FDA', 'molsysmt.MolSys')\n",
    "molecular_system_2 = msm.remove_solvent(molecular_system_2, water=True, ions=True)\n",
    "molecular_system_2 = msm.add_missing_hydrogens(molecular_system_2, pH=7.4)\n",
    "msm.info(molecular_system_2, target='component')"
   ]
  },
  {
   "cell_type": "code",
   "execution_count": null,
   "id": "bfd26418-4658-4a2f-9c24-8cd769af8860",
   "metadata": {},
   "outputs": [],
   "source": [
    "# Can't load this PDB entry\n",
    "molecular_system_2 = msm.convert('3K5U', 'molsysmt.MolSys')\n",
    "molecular_system_2 = msm.remove_solvent(molecular_system_2, water=True, ions=True)\n",
    "molecular_system_2 = msm.add_missing_hydrogens(molecular_system_2, pH=7.4)\n",
    "msm.info(molecular_system_2, target='component')"
   ]
  }
 ],
 "metadata": {
  "kernelspec": {
   "display_name": "Python 3",
   "language": "python",
   "name": "python3"
  },
  "language_info": {
   "codemirror_mode": {
    "name": "ipython",
    "version": 3
   },
   "file_extension": ".py",
   "mimetype": "text/x-python",
   "name": "python",
   "nbconvert_exporter": "python",
   "pygments_lexer": "ipython3",
   "version": "3.7.10"
  }
 },
 "nbformat": 4,
 "nbformat_minor": 5
}
