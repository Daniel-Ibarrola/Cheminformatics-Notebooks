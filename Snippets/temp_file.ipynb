{
 "cells": [
  {
   "cell_type": "code",
   "execution_count": 1,
   "id": "b765a10a-7345-4dd8-a5e8-0212103888ee",
   "metadata": {},
   "outputs": [],
   "source": [
    "import os"
   ]
  },
  {
   "cell_type": "code",
   "execution_count": 15,
   "id": "e032aa1c-d493-4c5b-8e38-08345c3f9980",
   "metadata": {},
   "outputs": [],
   "source": [
    "files = [\"myfile.txt\", \"myotherfile.txt\"]\n",
    "\n",
    "if os.path.isdir(\"./tmp\"):\n",
    "    os.rmdir(\"./tmp\")\n",
    "else:\n",
    "    os.mkdir(\"./tmp\")\n",
    "    for file in files:\n",
    "        with open(f\"./tmp/{file}\", \"w\") as fp:\n",
    "            fp.write(\"Hello\")"
   ]
  },
  {
   "cell_type": "code",
   "execution_count": 16,
   "id": "652ee019-5227-44da-9580-00ec54114d1e",
   "metadata": {},
   "outputs": [],
   "source": [
    "for f in files:\n",
    "    file_path = f\"./tmp/{f}\"\n",
    "    os.remove(file_path)\n",
    "\n",
    "os.rmdir(\"./tmp\")"
   ]
  },
  {
   "cell_type": "code",
   "execution_count": 17,
   "id": "5659f2e1-04ec-4e97-9f11-ee3f5845f6e8",
   "metadata": {},
   "outputs": [
    {
     "data": {
      "text/plain": [
       "['feat_def.ipynb',\n",
       " 'Exploring.ipynb',\n",
       " 'Ligand-based.ipynb',\n",
       " 'class_equality.ipynb',\n",
       " 'temp_file.ipynb',\n",
       " 'loading_pdb.ipynb',\n",
       " 'pleconaril.ipynb',\n",
       " 'bond_angles.ipynb',\n",
       " '.ipynb_checkpoints',\n",
       " '.DS_Store',\n",
       " 'snippets.ipynb',\n",
       " 'traverse_dir.ipynb']"
      ]
     },
     "execution_count": 17,
     "metadata": {},
     "output_type": "execute_result"
    }
   ],
   "source": [
    "os.listdir(\"./\")"
   ]
  }
 ],
 "metadata": {
  "kernelspec": {
   "display_name": "Python 3 (ipykernel)",
   "language": "python",
   "name": "python3"
  },
  "language_info": {
   "codemirror_mode": {
    "name": "ipython",
    "version": 3
   },
   "file_extension": ".py",
   "mimetype": "text/x-python",
   "name": "python",
   "nbconvert_exporter": "python",
   "pygments_lexer": "ipython3",
   "version": "3.7.10"
  }
 },
 "nbformat": 4,
 "nbformat_minor": 5
}
