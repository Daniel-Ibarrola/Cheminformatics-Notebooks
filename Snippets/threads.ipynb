{
 "cells": [
  {
   "cell_type": "code",
   "execution_count": null,
   "id": "97c8e5f5-fd8b-47ae-8dd9-20cd450451e1",
   "metadata": {},
   "outputs": [],
   "source": [
    "import threading, queue\n",
    "import time\n",
    "\n",
    "q = queue.Queue()\n",
    "\n",
    "def put_in_queue():\n",
    "    for i in range(10):\n",
    "        item = q.put(i)\n",
    "        print(f'Put {i} on queue')\n",
    "        time.sleep(1)\n",
    "\n",
    "def process_queue(line):\n",
    "    while True:\n",
    "        item = q.get()\n",
    "        print(f\"  Got {item} from queue\")\n",
    "        print(line)\n",
    "        q.task_done()\n",
    "    \n",
    "# turn-on the worker thread\n",
    "#t1 = threading.Thread(target=put_in_queue, daemon=True).start()}\n",
    "line = \"Hello\"\n",
    "t2 = threading.Thread(target=process_queue, daemon=True, args=[line]).start()\n",
    "\n",
    "put_in_queue()\n",
    "\n",
    "q.join()\n",
    "print('All work completed')"
   ]
  },
  {
   "cell_type": "code",
   "execution_count": 9,
   "id": "3a194758-ffa7-4126-a033-1353e872dbc1",
   "metadata": {},
   "outputs": [
    {
     "name": "stdout",
     "output_type": "stream",
     "text": [
      "[1, 2, 3, 4]\n",
      "[1, 2, 3, 4, 5]\n",
      "[1, 2, 3, 4, 5, 6]\n",
      "[6, 5, 4, 3, 2, 1]\n",
      "[6, 5, 4, 3, 2, 1]\n"
     ]
    }
   ],
   "source": [
    "mylist = [1 , 2 , 3, 4]\n",
    "myOtherList = mylist\n",
    "print(myOtherList)\n",
    "mylist.append(5)\n",
    "print(myOtherList)\n",
    "myOtherList.append(6)\n",
    "print(mylist)\n",
    "mylist.reverse()\n",
    "print(mylist)\n",
    "print(myOtherList)"
   ]
  }
 ],
 "metadata": {
  "kernelspec": {
   "display_name": "Python 3 (ipykernel)",
   "language": "python",
   "name": "python3"
  },
  "language_info": {
   "codemirror_mode": {
    "name": "ipython",
    "version": 3
   },
   "file_extension": ".py",
   "mimetype": "text/x-python",
   "name": "python",
   "nbconvert_exporter": "python",
   "pygments_lexer": "ipython3",
   "version": "3.7.10"
  }
 },
 "nbformat": 4,
 "nbformat_minor": 5
}
