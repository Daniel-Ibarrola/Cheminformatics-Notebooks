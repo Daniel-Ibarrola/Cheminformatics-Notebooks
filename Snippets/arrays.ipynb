{
 "cells": [
  {
   "cell_type": "code",
   "execution_count": 1,
   "id": "2f4c90b7-96d9-43e7-8de9-5c311b6e09c2",
   "metadata": {},
   "outputs": [],
   "source": [
    "import numpy as np"
   ]
  },
  {
   "cell_type": "code",
   "execution_count": 2,
   "id": "a29533de-1f5a-45ec-a3ad-680852f6500b",
   "metadata": {},
   "outputs": [
    {
     "data": {
      "text/plain": [
       "array([50, 23, 60, 15, 12, 47,  5])"
      ]
     },
     "execution_count": 2,
     "metadata": {},
     "output_type": "execute_result"
    }
   ],
   "source": [
    "myList = [50, 23 , 60, 15, 12, 47, 5]\n",
    "myArray = np.array(myList)\n",
    "myArray"
   ]
  },
  {
   "cell_type": "code",
   "execution_count": 7,
   "id": "86475fbc-bb31-461c-9630-5d5d547a24bc",
   "metadata": {},
   "outputs": [
    {
     "data": {
      "text/plain": [
       "array([ True, False,  True, False, False,  True, False])"
      ]
     },
     "execution_count": 7,
     "metadata": {},
     "output_type": "execute_result"
    }
   ],
   "source": [
    "myArray >= 30"
   ]
  },
  {
   "cell_type": "code",
   "execution_count": 14,
   "id": "c09affaa-e4bb-493e-b304-be344cf3a662",
   "metadata": {},
   "outputs": [
    {
     "data": {
      "text/plain": [
       "[0, 2, 5]"
      ]
     },
     "execution_count": 14,
     "metadata": {},
     "output_type": "execute_result"
    }
   ],
   "source": [
    "inxs = (myArray >= 30).nonzero()[0].tolist()\n",
    "inxs"
   ]
  },
  {
   "cell_type": "code",
   "execution_count": 23,
   "id": "9e80c541-457c-46a3-8fb9-022e9b82377d",
   "metadata": {},
   "outputs": [
    {
     "data": {
      "text/plain": [
       "['perro', 'camaron', 'empanada']"
      ]
     },
     "execution_count": 23,
     "metadata": {},
     "output_type": "execute_result"
    }
   ],
   "source": [
    "myOtherList = [\"perro\", \"APolo\", \"camaron\", \"tortilla\", \"pescado\", \"empanada\"]\n",
    "[myOtherList[i] for i in inxs]"
   ]
  },
  {
   "cell_type": "code",
   "execution_count": 20,
   "id": "993ebb60-2832-4686-ad49-97be652d2594",
   "metadata": {},
   "outputs": [],
   "source": [
    "someOtherList = [\"123\", \"456\", \"789\"] "
   ]
  },
  {
   "cell_type": "code",
   "execution_count": 21,
   "id": "a607a989-90b7-4bf2-b740-42f3292e4456",
   "metadata": {},
   "outputs": [
    {
     "data": {
      "text/plain": [
       "[(50, 'perro', '123'), (60, 'APolo', '456'), (47, 'camaron', '789')]"
      ]
     },
     "execution_count": 21,
     "metadata": {},
     "output_type": "execute_result"
    }
   ],
   "source": [
    "myListFiltered =  myArray[inxs].tolist()\n",
    "list(zip(myListFiltered, myOtherList, someOtherList))"
   ]
  }
 ],
 "metadata": {
  "kernelspec": {
   "display_name": "Python 3 (ipykernel)",
   "language": "python",
   "name": "python3"
  },
  "language_info": {
   "codemirror_mode": {
    "name": "ipython",
    "version": 3
   },
   "file_extension": ".py",
   "mimetype": "text/x-python",
   "name": "python",
   "nbconvert_exporter": "python",
   "pygments_lexer": "ipython3",
   "version": "3.7.10"
  }
 },
 "nbformat": 4,
 "nbformat_minor": 5
}
