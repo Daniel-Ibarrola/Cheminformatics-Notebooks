{
 "cells": [
  {
   "cell_type": "code",
   "execution_count": 1,
   "id": "39601de7-3900-46cc-a6e8-bd16aaa0739c",
   "metadata": {},
   "outputs": [],
   "source": [
    "import os"
   ]
  },
  {
   "cell_type": "code",
   "execution_count": 6,
   "id": "258e4e76-6798-42e5-be15-f82c57be6b6b",
   "metadata": {},
   "outputs": [
    {
     "name": "stdout",
     "output_type": "stream",
     "text": [
      "mols_05.smi\n",
      "mols_02.smi\n",
      "mols_08.smi\n",
      "mols_01.smi\n",
      "mols_03.smi\n",
      "mols_07.smi\n",
      "mols_06.smi\n",
      "mols_04.smi\n"
     ]
    }
   ],
   "source": [
    "for file in os.listdir(\"../data/Databases/Chembl\"):\n",
    "    if file.endswith(\".smi\"):\n",
    "        print(file)"
   ]
  },
  {
   "cell_type": "code",
   "execution_count": 10,
   "id": "a0ca7e12-2dbc-40b7-afcc-272f2f9c5a92",
   "metadata": {},
   "outputs": [
    {
     "name": "stdout",
     "output_type": "stream",
     "text": [
      "mols_05.smi\n",
      "mols_02.smi\n",
      "mols_08.smi\n",
      "mols_01.smi\n",
      "mols_03.smi\n",
      "mols_07.smi\n",
      "mols_06.smi\n",
      "mols_04.smi\n",
      "mols_03-checkpoint.smi\n",
      "mols_04-checkpoint.smi\n",
      "mols_07-checkpoint.smi\n",
      "mols_01-checkpoint.smi\n",
      "mols_02-checkpoint.smi\n",
      "AAAA.smi\n",
      "J3_1.mol2\n",
      "elastase.mol2\n",
      "streptadivin.mol2\n",
      "J3_2.mol2\n",
      "streptadivin_pharmacophore-checkpoint.mol2\n",
      "streptadivin-checkpoint.mol2\n",
      "thrombin-checkpoint.mol2\n",
      "streptavidin-checkpoint.mol2\n",
      "elastase-checkpoint.mol2\n",
      "J3_2-checkpoint.mol2\n",
      "J3_1-checkpoint.mol2\n",
      "pharmacophore.mol2\n",
      "pharmacophore-checkpoint.mol2\n",
      "g-phosphorylase.mol2\n",
      "ACE.mol2\n",
      "thrombin.mol2\n",
      "elastase.mol2\n",
      "endothiapepsin.mol2\n",
      "streptavidin.mol2\n",
      "carboxyptd-a.mol2\n",
      "ACE-checkpoint.mol2\n",
      "g-phosphorylase-checkpoint.mol2\n",
      "molecules.smi\n",
      "molecules-checkpoint.smi\n"
     ]
    }
   ],
   "source": [
    "accepted_extension = [\"smi\", \"mol2\"]\n",
    "\n",
    "for root, dirs, files in os.walk(\"../data\"):\n",
    "    for file in files:\n",
    "        f_extension = file.split(\".\")[-1]\n",
    "        if f_extension in accepted_extension:\n",
    "            print(file)"
   ]
  },
  {
   "cell_type": "code",
   "execution_count": 24,
   "id": "beed3602-82f5-49ff-95fd-994530f893c1",
   "metadata": {},
   "outputs": [
    {
     "name": "stdout",
     "output_type": "stream",
     "text": [
      "../data/Databases/Chembl/\n",
      "['.ipynb_checkpoints']\n",
      "['mols_05.smi', 'mols_02.smi', 'mols_08.smi', 'mols_01.smi', 'mols_03.smi', 'mols_07.smi', 'mols_06.smi', 'mols_04.smi']\n",
      "mols_05.smi\n",
      "CHEMBL46085   N[C@H]1CCc2ccccc2[C@H]1O\n",
      "\n",
      "\n",
      "\n",
      "mols_02.smi\n",
      "CHEMBL15942   COCc1cc2c(s1)CN(C)CC2c1ccc(Br)cc1\n",
      "\n",
      "\n",
      "\n",
      "mols_08.smi\n",
      "CHEMBL77641   Cc1c(-c2ccc(O)cc2)[nH]c2nccnc12\n",
      "\n",
      "\n",
      "\n",
      "mols_01.smi\n",
      "CHEMBL6329   Cc1cc(-n2ncc(=O)[nH]c2=O)ccc1C(=O)c1ccccc1Cl\n",
      "\n",
      "\n",
      "\n",
      "mols_03.smi\n",
      "CHEMBL25514   NC/C(=N\\O)c1ccc(Sc2cc(F)cc(C3CCOCC3)c2)cc1\n",
      "\n",
      "\n",
      "\n",
      "mols_07.smi\n",
      "CHEMBL67387   COC(=O)C1C(c2cccc(I)c2)CC2CCC1N2C\n",
      "\n",
      "\n",
      "\n",
      "mols_06.smi\n",
      "CHEMBL57158   Nc1ccn(C2OC(CO)[C@@H](O)[C@H]2NO)c(=O)n1\n",
      "\n",
      "\n",
      "\n",
      "mols_04.smi\n",
      "CHEMBL36687   CC1CC=C(Nc2ccccc2Br)c2ncc(C(=O)O)c(=O)n21\n",
      "\n",
      "\n",
      "\n",
      "../data/Databases/Chembl/.ipynb_checkpoints\n",
      "[]\n",
      "['mols_03-checkpoint.smi', 'mols_04-checkpoint.smi', 'mols_07-checkpoint.smi', 'mols_01-checkpoint.smi', 'mols_02-checkpoint.smi']\n",
      "mols_03-checkpoint.smi\n",
      "CHEMBL25514   NC/C(=N\\O)c1ccc(Sc2cc(F)cc(C3CCOCC3)c2)cc1\n",
      "\n",
      "\n",
      "\n",
      "mols_04-checkpoint.smi\n",
      "CHEMBL36687   CC1CC=C(Nc2ccccc2Br)c2ncc(C(=O)O)c(=O)n21\n",
      "\n",
      "\n",
      "\n",
      "mols_07-checkpoint.smi\n",
      "CHEMBL67387   COC(=O)C1C(c2cccc(I)c2)CC2CCC1N2C\n",
      "\n",
      "\n",
      "\n",
      "mols_01-checkpoint.smi\n",
      "CHEMBL6329   Cc1cc(-n2ncc(=O)[nH]c2=O)ccc1C(=O)c1ccccc1Cl\n",
      "\n",
      "\n",
      "\n",
      "mols_02-checkpoint.smi\n",
      "CHEMBL15942   COCc1cc2c(s1)CN(C)CC2c1ccc(Br)cc1\n",
      "\n",
      "\n",
      "\n"
     ]
    },
    {
     "data": {
      "text/plain": [
       "'../data/Databases/Chembl/.ipynb_checkpoints'"
      ]
     },
     "execution_count": 24,
     "metadata": {},
     "output_type": "execute_result"
    }
   ],
   "source": [
    "direc = \"../data/Databases/Chembl/\"\n",
    "\n",
    "def traverse_directory(directory):\n",
    "    for root, dirs, files in os.walk(directory):\n",
    "        print(root)\n",
    "        print(dirs)\n",
    "        print(files)\n",
    "        for file in files:\n",
    "            f_extension = file.split(\".\")[-1]\n",
    "            if f_extension in accepted_extension:\n",
    "                print(file)\n",
    "                with open(os.path.join(root, file)) as f:\n",
    "                    print(f.readline())\n",
    "                print(\"\\n\")\n",
    "    try:\n",
    "        return root\n",
    "    except:\n",
    "        return None\n",
    "    \n",
    "traverse_directory(direc)"
   ]
  },
  {
   "cell_type": "code",
   "execution_count": 25,
   "id": "83f011c4-6b99-47fb-bf8e-f851a8b8f1f9",
   "metadata": {},
   "outputs": [
    {
     "data": {
      "text/plain": [
       "True"
      ]
     },
     "execution_count": 25,
     "metadata": {},
     "output_type": "execute_result"
    }
   ],
   "source": [
    "os.path.isfile(\"../data/Databases/Chembl/mols_01.smi\")"
   ]
  },
  {
   "cell_type": "code",
   "execution_count": 27,
   "id": "40b988ea-9395-4a93-9ea4-5758627d67d4",
   "metadata": {},
   "outputs": [
    {
     "data": {
      "text/plain": [
       "True"
      ]
     },
     "execution_count": 27,
     "metadata": {},
     "output_type": "execute_result"
    }
   ],
   "source": [
    "os.path.isdir(\"../data/Databases/Chembl/\")"
   ]
  }
 ],
 "metadata": {
  "kernelspec": {
   "display_name": "Python 3 (ipykernel)",
   "language": "python",
   "name": "python3"
  },
  "language_info": {
   "codemirror_mode": {
    "name": "ipython",
    "version": 3
   },
   "file_extension": ".py",
   "mimetype": "text/x-python",
   "name": "python",
   "nbconvert_exporter": "python",
   "pygments_lexer": "ipython3",
   "version": "3.7.10"
  }
 },
 "nbformat": 4,
 "nbformat_minor": 5
}
