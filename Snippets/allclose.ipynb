{
 "cells": [
  {
   "cell_type": "code",
   "execution_count": 1,
   "id": "0208b71c-1286-4c92-ac50-8969f4326dc4",
   "metadata": {},
   "outputs": [],
   "source": [
    "import numpy as np"
   ]
  },
  {
   "cell_type": "code",
   "execution_count": 34,
   "id": "7e4209de-2a67-4fce-b833-ee4d01670f1b",
   "metadata": {},
   "outputs": [
    {
     "data": {
      "text/plain": [
       "True"
      ]
     },
     "execution_count": 34,
     "metadata": {},
     "output_type": "execute_result"
    }
   ],
   "source": [
    "A = np.array([-2.1301, -0.5416, -0.4794])\n",
    "B = np.array([-2.1301, -0.5416, -0.4795])\n",
    "\n",
    "rtol = 0\n",
    "atol = 1e-04\n",
    "\n",
    "np.allclose(A, B, rtol=rtol, atol=atol)"
   ]
  },
  {
   "cell_type": "code",
   "execution_count": 37,
   "id": "61b4afcd-171b-40f0-a76b-5392b8165809",
   "metadata": {},
   "outputs": [],
   "source": [
    "def print_all_close(A, B):\n",
    "    for i in range(A.shape[0]):\n",
    "        abs_diff = abs(A[i] - B[i])\n",
    "        tol = atol + rtol* abs(B[i])\n",
    "        print(\"Abs(a - b) = {}\".format(abs_diff))\n",
    "        print(\"atol + rtol*Abs(b) = {}\".format(tol))\n",
    "        print(abs_diff <= tol, \"\\n\")"
   ]
  },
  {
   "cell_type": "code",
   "execution_count": 38,
   "id": "fac4ea0f-9939-4a65-ac52-5e399e3ba32b",
   "metadata": {},
   "outputs": [
    {
     "name": "stdout",
     "output_type": "stream",
     "text": [
      "Abs(a - b) = 0.0\n",
      "atol + rtol*Abs(b) = 0.0001\n",
      "True \n",
      "\n",
      "Abs(a - b) = 0.0\n",
      "atol + rtol*Abs(b) = 0.0001\n",
      "True \n",
      "\n",
      "Abs(a - b) = 9.999999999998899e-05\n",
      "atol + rtol*Abs(b) = 0.0001\n",
      "True \n",
      "\n"
     ]
    }
   ],
   "source": [
    "print_all_close(A, B)"
   ]
  },
  {
   "cell_type": "code",
   "execution_count": 51,
   "id": "a82f0890-d5b4-4b01-ae23-da5ce6eb2692",
   "metadata": {},
   "outputs": [
    {
     "data": {
      "text/plain": [
       "True"
      ]
     },
     "execution_count": 51,
     "metadata": {},
     "output_type": "execute_result"
    }
   ],
   "source": [
    "A = np.array([-212.1301, -100.5416, -20.4797])\n",
    "B = np.array([-212.1301, -100.5416, -20.4796])\n",
    "\n",
    "np.allclose(A, B, rtol=rtol, atol=atol)"
   ]
  },
  {
   "cell_type": "code",
   "execution_count": 52,
   "id": "9476282e-2876-48bb-9c84-901a657b64d6",
   "metadata": {},
   "outputs": [
    {
     "name": "stdout",
     "output_type": "stream",
     "text": [
      "Abs(a - b) = 0.0\n",
      "atol + rtol*Abs(b) = 0.0001\n",
      "True \n",
      "\n",
      "Abs(a - b) = 0.0\n",
      "atol + rtol*Abs(b) = 0.0001\n",
      "True \n",
      "\n",
      "Abs(a - b) = 9.999999999976694e-05\n",
      "atol + rtol*Abs(b) = 0.0001\n",
      "True \n",
      "\n"
     ]
    }
   ],
   "source": [
    "print_all_close(A, B)"
   ]
  },
  {
   "cell_type": "code",
   "execution_count": 58,
   "id": "64866045-8e11-49bc-a7d3-f50141b997af",
   "metadata": {},
   "outputs": [
    {
     "data": {
      "text/plain": [
       "True"
      ]
     },
     "execution_count": 58,
     "metadata": {},
     "output_type": "execute_result"
    }
   ],
   "source": [
    "r1 = 1.02\n",
    "r2 = 1.021\n",
    "\n",
    "np.allclose(r1, r2, rtol=0, atol=1e-02)"
   ]
  }
 ],
 "metadata": {
  "kernelspec": {
   "display_name": "Python 3 (ipykernel)",
   "language": "python",
   "name": "python3"
  },
  "language_info": {
   "codemirror_mode": {
    "name": "ipython",
    "version": 3
   },
   "file_extension": ".py",
   "mimetype": "text/x-python",
   "name": "python",
   "nbconvert_exporter": "python",
   "pygments_lexer": "ipython3",
   "version": "3.7.10"
  }
 },
 "nbformat": 4,
 "nbformat_minor": 5
}
