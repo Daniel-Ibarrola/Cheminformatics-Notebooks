{
 "cells": [
  {
   "cell_type": "code",
   "execution_count": 1,
   "id": "86260ffd-96c9-4b72-b3cc-b499191f5b45",
   "metadata": {},
   "outputs": [],
   "source": [
    "import requests"
   ]
  },
  {
   "cell_type": "code",
   "execution_count": 4,
   "id": "3dc0c945-891f-4ecc-a6d7-3c0193a475a1",
   "metadata": {},
   "outputs": [],
   "source": [
    "pdb_id = \"1QKU\"\n",
    "url = 'http://files.rcsb.org/download/{}.pdb'.format(pdb_id)\n",
    "try:\n",
    "    res = requests.get(url, allow_redirects=True)\n",
    "except:\n",
    "    print(\"Could not downlaod pdb from {}\".format(url))"
   ]
  },
  {
   "cell_type": "code",
   "execution_count": null,
   "id": "52fd9ed4-e281-497c-a004-32ce7e7d2a86",
   "metadata": {},
   "outputs": [],
   "source": [
    "pdb_str = res.content.decode()\n",
    "pdb_str"
   ]
  },
  {
   "cell_type": "code",
   "execution_count": 7,
   "id": "8071c9e9-8494-40ae-85d6-65628608cc8d",
   "metadata": {},
   "outputs": [],
   "source": [
    "with open(\"temp.pdb\", \"w\") as f:\n",
    "    f.write(pdb_str)"
   ]
  }
 ],
 "metadata": {
  "kernelspec": {
   "display_name": "Python 3 (ipykernel)",
   "language": "python",
   "name": "python3"
  },
  "language_info": {
   "codemirror_mode": {
    "name": "ipython",
    "version": 3
   },
   "file_extension": ".py",
   "mimetype": "text/x-python",
   "name": "python",
   "nbconvert_exporter": "python",
   "pygments_lexer": "ipython3",
   "version": "3.7.10"
  }
 },
 "nbformat": 4,
 "nbformat_minor": 5
}
