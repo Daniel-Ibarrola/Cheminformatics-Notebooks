{
 "cells": [
  {
   "cell_type": "markdown",
   "id": "c4fc277d-f485-4313-b889-d680f5822197",
   "metadata": {},
   "source": [
    "### Compute the bond angles for methane\n",
    "Methane bond angles are formed by the combination H-C-H. Taking C atom as the centroid of the a tetrahedron woth vertices (1,0,0), (0,1,0), (0,0,1) and (1,1,1) then the centroid is (0.5,0.5,0.5). Each of the vertices corresponds to a hydrogen atom "
   ]
  },
  {
   "cell_type": "code",
   "execution_count": 24,
   "id": "298e59e5-58ca-4efd-a1d7-72849ea53dfd",
   "metadata": {},
   "outputs": [],
   "source": [
    "import numpy as np\n",
    "import numpy.linalg as LA\n",
    "import math"
   ]
  },
  {
   "cell_type": "code",
   "execution_count": 25,
   "id": "255e2d65-5c5f-4db3-bf61-b7579af25f39",
   "metadata": {},
   "outputs": [],
   "source": [
    "def nCr(n,r):\n",
    "    \"\"\"Compute number of combinations\"\"\"\n",
    "    f = math.factorial\n",
    "    return f(n) // f(r) // f(n-r)"
   ]
  },
  {
   "cell_type": "code",
   "execution_count": 26,
   "id": "04444548-2077-4cc6-9584-01ac989431e2",
   "metadata": {},
   "outputs": [],
   "source": [
    "def get_bond_angles(centroid, vertices):\n",
    "    \n",
    "    bond_vectors = vertices - centroid\n",
    "    bond_lenght = LA.norm(bond_vectors, axis=-1)\n",
    "\n",
    "    print(bond_vectors, '\\n')\n",
    "\n",
    "    ii = bond_vectors.shape[0]\n",
    "    \n",
    "    m = nCr(bond_vectors.shape[0], 2)\n",
    "    angles = np.zeros((m,1))\n",
    "    \n",
    "    k = 0\n",
    "    for i in range(ii - 1):\n",
    "        for j in range(i + 1, ii):\n",
    "            angle = np.degrees(np.arccos(np.dot(bond_vectors[i, :], bond_vectors[j, :]) / (bond_lenght[i] * bond_lenght[j])))\n",
    "            angles[k] = angle\n",
    "            k += 1\n",
    "            print(\"Angle between {} and {} is: {:.2f}\".format(bond_vectors[i, :],\n",
    "                                                         bond_vectors[j, :],\n",
    "                                                         angle))\n",
    "    k += 1\n",
    "    \n",
    "    return angles"
   ]
  },
  {
   "cell_type": "code",
   "execution_count": 27,
   "id": "cda4675a-2970-4ff1-8e3a-4dbdd8c42dfb",
   "metadata": {},
   "outputs": [
    {
     "name": "stdout",
     "output_type": "stream",
     "text": [
      "[[ 0.5 -0.5 -0.5]\n",
      " [-0.5  0.5 -0.5]\n",
      " [-0.5 -0.5  0.5]\n",
      " [ 0.5  0.5  0.5]] \n",
      "\n",
      "Angle between [ 0.5 -0.5 -0.5] and [-0.5  0.5 -0.5] is: 109.47\n",
      "Angle between [ 0.5 -0.5 -0.5] and [-0.5 -0.5  0.5] is: 109.47\n",
      "Angle between [ 0.5 -0.5 -0.5] and [0.5 0.5 0.5] is: 109.47\n",
      "Angle between [-0.5  0.5 -0.5] and [-0.5 -0.5  0.5] is: 109.47\n",
      "Angle between [-0.5  0.5 -0.5] and [0.5 0.5 0.5] is: 109.47\n",
      "Angle between [-0.5 -0.5  0.5] and [0.5 0.5 0.5] is: 109.47\n"
     ]
    }
   ],
   "source": [
    "centroid = np.array([0.5,0.5,0.5])\n",
    "vertices = np.array([[1,0,0],\n",
    "                     [0,1,0],\n",
    "                     [0,0,1],\n",
    "                     [1,1,1]])\n",
    "\n",
    "angles = get_bond_angles(centroid, vertices)"
   ]
  },
  {
   "cell_type": "code",
   "execution_count": 28,
   "id": "2cd01198-302a-4f1c-9dc9-fcea9f93796b",
   "metadata": {},
   "outputs": [
    {
     "name": "stdout",
     "output_type": "stream",
     "text": [
      "(6, 1)\n"
     ]
    },
    {
     "data": {
      "text/plain": [
       "array([[109.47122063],\n",
       "       [109.47122063],\n",
       "       [109.47122063],\n",
       "       [109.47122063],\n",
       "       [109.47122063],\n",
       "       [109.47122063]])"
      ]
     },
     "execution_count": 28,
     "metadata": {},
     "output_type": "execute_result"
    }
   ],
   "source": [
    "print(angles.shape)\n",
    "angles"
   ]
  },
  {
   "cell_type": "code",
   "execution_count": null,
   "id": "0b870bbd-49a0-4b2a-a7ea-a25b9386c2e8",
   "metadata": {},
   "outputs": [],
   "source": [
    "# Compute mean angle for each atom with at least two bonds\n",
    "n_centroid_atoms = count_atoms_with_n_bonds(1)\n",
    "centroid_mean_angle = np.zeros((n_centroid_atoms,2))\n",
    "\n",
    "i = 0\n",
    "for atom, neighbors in mol_graph.adjacency(): #adjacency returns an iterator for the neighbors\n",
    "\n",
    "    atom_names = [mol_graph.nodes[atom]['atom_name']]  # List with atom names\n",
    "    centroid = np.array(mol_graph.nodes[atom]['coordinates'])\n",
    "    n_neighbors = len(list(neighbors))\n",
    "      \n",
    "    if n_neighbors > 1:\n",
    "\n",
    "        vertices = np.zeros((n_neighbors, 3))\n",
    "        for j, nbr_atom in enumerate(list(neighbors)):\n",
    "            vertices[j, :] = np.array(mol_graph.nodes[nbr_atom]['coordinates'])\n",
    "            atom_names.append(mol_graph.nodes[nbr_atom]['atom_name'])\n",
    "\n",
    "        angles = get_bond_angles(centroid, vertices, atom_names, verbose=True)\n",
    "        centroid_mean_angle[i, 0] = atom\n",
    "        centroid_mean_angle[i, 1] = np.mean(angles)\n",
    "\n",
    "    else:\n",
    "        continue\n",
    "\n",
    "    print('---------')\n",
    "    i += 1"
   ]
  }
 ],
 "metadata": {
  "kernelspec": {
   "display_name": "Python 3",
   "language": "python",
   "name": "python3"
  },
  "language_info": {
   "codemirror_mode": {
    "name": "ipython",
    "version": 3
   },
   "file_extension": ".py",
   "mimetype": "text/x-python",
   "name": "python",
   "nbconvert_exporter": "python",
   "pygments_lexer": "ipython3",
   "version": "3.7.10"
  }
 },
 "nbformat": 4,
 "nbformat_minor": 5
}
