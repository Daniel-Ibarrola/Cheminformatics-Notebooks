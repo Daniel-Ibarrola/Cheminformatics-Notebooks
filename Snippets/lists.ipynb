{
 "cells": [
  {
   "cell_type": "markdown",
   "id": "e2bb279f-647b-4da6-a58f-33e8b02eb25d",
   "metadata": {},
   "source": [
    "## Inserting to list in an ordered manner"
   ]
  },
  {
   "cell_type": "code",
   "execution_count": 1,
   "id": "372727ac-31d1-4b7b-a4b5-3e0727e6e670",
   "metadata": {},
   "outputs": [],
   "source": [
    "import bisect"
   ]
  },
  {
   "cell_type": "code",
   "execution_count": 5,
   "id": "6176717b-53c0-40f3-9dea-a2ae883f5cd1",
   "metadata": {},
   "outputs": [
    {
     "name": "stdout",
     "output_type": "stream",
     "text": [
      "The original list is : [1, 2, 3, 6, 7]\n",
      "The list after insertion is : [1, 2, 3, 5, 6, 6, 7]\n"
     ]
    }
   ],
   "source": [
    "# initializing list\n",
    "test_list = [1, 2, 3, 6, 7]\n",
    "print (\"The original list is : \" + str(test_list))\n",
    "  \n",
    "# insert element\n",
    "k = 5\n",
    "bisect.insort(test_list, k) \n",
    "bisect.insort(test_list, 6) \n",
    "\n",
    "# printing result\n",
    "print (\"The list after insertion is : \" +  str(test_list))"
   ]
  },
  {
   "cell_type": "code",
   "execution_count": 8,
   "id": "859d7a02-050c-4250-8c8a-049a98670a52",
   "metadata": {},
   "outputs": [
    {
     "data": {
      "text/plain": [
       "[(1.45, 'Hello', 'caca'),\n",
       " (3.22, 'Hola', 'perro'),\n",
       " (5.413, 'Bonjour', 'jamon'),\n",
       " (7.64, 'Salut', 'salchicha')]"
      ]
     },
     "execution_count": 8,
     "metadata": {},
     "output_type": "execute_result"
    }
   ],
   "source": [
    "myList = [(1.45, \"Hello\", \"caca\"), (3.22, \"Hola\", \"perro\"), (7.64, \"Salut\", \"salchicha\")]\n",
    "element = (5.413, \"Bonjour\", \"jamon\")\n",
    "bisect.insort(myList, element)\n",
    "myList"
   ]
  },
  {
   "cell_type": "markdown",
   "id": "a1b8e70a-4574-48f2-bdcc-6ace502c155c",
   "metadata": {},
   "source": [
    "## Appending a list to another list"
   ]
  },
  {
   "cell_type": "code",
   "execution_count": 3,
   "id": "c0f54878-0390-47b4-9ac4-684cb36bf884",
   "metadata": {},
   "outputs": [
    {
     "name": "stdout",
     "output_type": "stream",
     "text": [
      "[0, 1, 2, 3, 4, 5, 6]\n",
      "[4, 5, 6]\n",
      "[4, 5, 6, 0, 1, 2, 3, 4, 5, 6]\n"
     ]
    }
   ],
   "source": [
    "myList = [0, 1, 2 ,3]\n",
    "myOtherList = [4, 5, 6]\n",
    "\n",
    "myList += myOtherList\n",
    "print(myList)\n",
    "\n",
    "myNewestList = []\n",
    "myNewestList += myOtherList\n",
    "print(myNewestList)\n",
    "myNewestList += myList\n",
    "print(myNewestList)"
   ]
  }
 ],
 "metadata": {
  "kernelspec": {
   "display_name": "Python 3 (ipykernel)",
   "language": "python",
   "name": "python3"
  },
  "language_info": {
   "codemirror_mode": {
    "name": "ipython",
    "version": 3
   },
   "file_extension": ".py",
   "mimetype": "text/x-python",
   "name": "python",
   "nbconvert_exporter": "python",
   "pygments_lexer": "ipython3",
   "version": "3.7.10"
  }
 },
 "nbformat": 4,
 "nbformat_minor": 5
}
