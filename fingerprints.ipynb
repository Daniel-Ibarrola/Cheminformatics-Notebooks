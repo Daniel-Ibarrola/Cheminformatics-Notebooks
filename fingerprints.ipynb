{
 "cells": [
  {
   "cell_type": "code",
   "execution_count": 17,
   "id": "78f1f36d-f365-4da9-9e9e-e77de407033c",
   "metadata": {},
   "outputs": [],
   "source": [
    "from rdkit import Chem\n",
    "from rdkit.Chem import ChemicalFeatures\n",
    "from rdkit import RDConfig\n",
    "from rdkit.Chem.Pharm2D.SigFactory import SigFactory\n",
    "from rdkit.Chem.Pharm2D import Generate\n",
    "from rdkit import DataStructs\n",
    "import os \n",
    "import numpy as np\n",
    "\n",
    "\n",
    "fdefName = os.path.join(RDConfig.RDDataDir,'BaseFeatures.fdef')\n",
    "featFactory = ChemicalFeatures.BuildFeatureFactory(fdefName)"
   ]
  },
  {
   "cell_type": "code",
   "execution_count": 6,
   "id": "b3071c5a-87e9-4aaf-96b2-718e2dbd046b",
   "metadata": {},
   "outputs": [
    {
     "data": {
      "text/plain": [
       "2988"
      ]
     },
     "execution_count": 6,
     "metadata": {},
     "output_type": "execute_result"
    }
   ],
   "source": [
    "sigFactory = SigFactory(featFactory,minPointCount=2,maxPointCount=3)\n",
    "sigFactory.SetBins([(0,2),(2,5),(5,8)])\n",
    "sigFactory.Init()\n",
    "sigFactory.GetSigSize()"
   ]
  },
  {
   "cell_type": "code",
   "execution_count": 8,
   "id": "9a4f6c5c-175a-4938-b493-df269c0f11d1",
   "metadata": {},
   "outputs": [
    {
     "name": "stdout",
     "output_type": "stream",
     "text": [
      "<rdkit.DataStructs.cDataStructs.SparseBitVect object at 0x0000023B33A9A2F0>\n",
      "2988\n",
      "23\n"
     ]
    }
   ],
   "source": [
    "mol = Chem.MolFromSmiles('OCC(=O)CCCN')\n",
    "fp = Generate.Gen2DFingerprint(mol,sigFactory)\n",
    "print(fp)\n",
    "print(len(fp))\n",
    "print(fp.GetNumOnBits())"
   ]
  },
  {
   "cell_type": "code",
   "execution_count": 9,
   "id": "6f9e0386-5ee5-4287-877f-266691022ad5",
   "metadata": {},
   "outputs": [
    {
     "data": {
      "text/plain": [
       "[1,\n",
       " 7,\n",
       " 8,\n",
       " 10,\n",
       " 20,\n",
       " 47,\n",
       " 49,\n",
       " 59,\n",
       " 63,\n",
       " 73,\n",
       " 171,\n",
       " 191,\n",
       " 267,\n",
       " 488,\n",
       " 503,\n",
       " 511,\n",
       " 579,\n",
       " 622,\n",
       " 698,\n",
       " 1687,\n",
       " 1798,\n",
       " 1874,\n",
       " 2223]"
      ]
     },
     "execution_count": 9,
     "metadata": {},
     "output_type": "execute_result"
    }
   ],
   "source": [
    "list(fp.GetOnBits())"
   ]
  },
  {
   "cell_type": "code",
   "execution_count": 13,
   "id": "a30754aa-1c47-47e4-a3d2-518c39315ad4",
   "metadata": {},
   "outputs": [
    {
     "data": {
      "text/plain": [
       "'Acceptor Donor |0 1|1 0|'"
      ]
     },
     "execution_count": 13,
     "metadata": {},
     "output_type": "execute_result"
    }
   ],
   "source": [
    "sigFactory.GetBitDescription(7)"
   ]
  },
  {
   "cell_type": "code",
   "execution_count": 14,
   "id": "10a90535-05d0-4140-b5f4-9d7b83169e22",
   "metadata": {},
   "outputs": [
    {
     "name": "stdout",
     "output_type": "stream",
     "text": [
      "5 molecules\n"
     ]
    },
    {
     "data": {
      "text/plain": [
       "[<rdkit.DataStructs.cDataStructs.SparseBitVect at 0x23b33ab1bb0>,\n",
       " <rdkit.DataStructs.cDataStructs.SparseBitVect at 0x23b33740b70>,\n",
       " <rdkit.DataStructs.cDataStructs.SparseBitVect at 0x23b33a895b0>,\n",
       " <rdkit.DataStructs.cDataStructs.SparseBitVect at 0x23b337394f0>,\n",
       " <rdkit.DataStructs.cDataStructs.SparseBitVect at 0x23b33a14bf0>]"
      ]
     },
     "execution_count": 14,
     "metadata": {},
     "output_type": "execute_result"
    }
   ],
   "source": [
    "# Generate fingerprints for other molecules\n",
    "molecules = Chem.SmilesMolSupplier('./data/clique/molecules.smi',delimiter='\\t',titleLine=False)\n",
    "print(f\"{len(molecules)} molecules\")\n",
    "\n",
    "fps = []\n",
    "for mol in molecules:\n",
    "    fp = Generate.Gen2DFingerprint(mol,sigFactory)\n",
    "    fps.append(fp)\n",
    "    \n",
    "fps"
   ]
  },
  {
   "cell_type": "code",
   "execution_count": 19,
   "id": "12ef63fc-3a00-4226-950d-01e9d774297c",
   "metadata": {},
   "outputs": [
    {
     "ename": "ArgumentError",
     "evalue": "Python argument types in\n    rdkit.DataStructs.cDataStructs.ConvertToNumpyArray(SparseBitVect, numpy.ndarray)\ndid not match C++ signature:\n    ConvertToNumpyArray(class RDKit::SparseIntVect<unsigned __int64> bv, class boost::python::api::object destArray)\n    ConvertToNumpyArray(class RDKit::SparseIntVect<unsigned int> bv, class boost::python::api::object destArray)\n    ConvertToNumpyArray(class RDKit::SparseIntVect<__int64> bv, class boost::python::api::object destArray)\n    ConvertToNumpyArray(class RDKit::SparseIntVect<int> bv, class boost::python::api::object destArray)\n    ConvertToNumpyArray(class RDKit::DiscreteValueVect bv, class boost::python::api::object destArray)\n    ConvertToNumpyArray(class ExplicitBitVect bv, class boost::python::api::object destArray)",
     "output_type": "error",
     "traceback": [
      "\u001b[1;31m---------------------------------------------------------------------------\u001b[0m",
      "\u001b[1;31mArgumentError\u001b[0m                             Traceback (most recent call last)",
      "\u001b[1;32m<ipython-input-19-89a68effd143>\u001b[0m in \u001b[0;36m<module>\u001b[1;34m\u001b[0m\n\u001b[0;32m      2\u001b[0m \u001b[1;32mfor\u001b[0m \u001b[0mfp\u001b[0m \u001b[1;32min\u001b[0m \u001b[0mfps\u001b[0m\u001b[1;33m:\u001b[0m\u001b[1;33m\u001b[0m\u001b[1;33m\u001b[0m\u001b[0m\n\u001b[0;32m      3\u001b[0m     \u001b[0mfp_arr\u001b[0m \u001b[1;33m=\u001b[0m \u001b[0mnp\u001b[0m\u001b[1;33m.\u001b[0m\u001b[0mzeros\u001b[0m\u001b[1;33m(\u001b[0m\u001b[1;33m(\u001b[0m\u001b[1;36m1\u001b[0m\u001b[1;33m,\u001b[0m\u001b[1;33m)\u001b[0m\u001b[1;33m)\u001b[0m\u001b[1;33m\u001b[0m\u001b[1;33m\u001b[0m\u001b[0m\n\u001b[1;32m----> 4\u001b[1;33m     \u001b[0mDataStructs\u001b[0m\u001b[1;33m.\u001b[0m\u001b[0mConvertToNumpyArray\u001b[0m\u001b[1;33m(\u001b[0m\u001b[0mfp\u001b[0m\u001b[1;33m,\u001b[0m \u001b[0mfp_arr\u001b[0m\u001b[1;33m)\u001b[0m\u001b[1;33m\u001b[0m\u001b[1;33m\u001b[0m\u001b[0m\n\u001b[0m\u001b[0;32m      5\u001b[0m     \u001b[0moutput\u001b[0m\u001b[1;33m.\u001b[0m\u001b[0mappend\u001b[0m\u001b[1;33m(\u001b[0m\u001b[0mfp_arr\u001b[0m\u001b[1;33m)\u001b[0m\u001b[1;33m\u001b[0m\u001b[1;33m\u001b[0m\u001b[0m\n\u001b[0;32m      6\u001b[0m \u001b[0mx\u001b[0m \u001b[1;33m=\u001b[0m \u001b[0mnp\u001b[0m\u001b[1;33m.\u001b[0m\u001b[0masarray\u001b[0m\u001b[1;33m(\u001b[0m\u001b[0moutput\u001b[0m\u001b[1;33m)\u001b[0m\u001b[1;33m\u001b[0m\u001b[1;33m\u001b[0m\u001b[0m\n",
      "\u001b[1;31mArgumentError\u001b[0m: Python argument types in\n    rdkit.DataStructs.cDataStructs.ConvertToNumpyArray(SparseBitVect, numpy.ndarray)\ndid not match C++ signature:\n    ConvertToNumpyArray(class RDKit::SparseIntVect<unsigned __int64> bv, class boost::python::api::object destArray)\n    ConvertToNumpyArray(class RDKit::SparseIntVect<unsigned int> bv, class boost::python::api::object destArray)\n    ConvertToNumpyArray(class RDKit::SparseIntVect<__int64> bv, class boost::python::api::object destArray)\n    ConvertToNumpyArray(class RDKit::SparseIntVect<int> bv, class boost::python::api::object destArray)\n    ConvertToNumpyArray(class RDKit::DiscreteValueVect bv, class boost::python::api::object destArray)\n    ConvertToNumpyArray(class ExplicitBitVect bv, class boost::python::api::object destArray)"
     ]
    }
   ],
   "source": [
    "output = []\n",
    "for fp in fps:\n",
    "    fp_arr = np.zeros((1,))\n",
    "    DataStructs.ConvertToNumpyArray(fp, fp_arr)\n",
    "    output.append(fp_arr)\n",
    "x = np.asarray(output)"
   ]
  }
 ],
 "metadata": {
  "kernelspec": {
   "display_name": "Python 3",
   "language": "python",
   "name": "python3"
  },
  "language_info": {
   "codemirror_mode": {
    "name": "ipython",
    "version": 3
   },
   "file_extension": ".py",
   "mimetype": "text/x-python",
   "name": "python",
   "nbconvert_exporter": "python",
   "pygments_lexer": "ipython3",
   "version": "3.7.10"
  }
 },
 "nbformat": 4,
 "nbformat_minor": 5
}
