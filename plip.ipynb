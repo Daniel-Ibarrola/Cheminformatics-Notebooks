{
 "cells": [
  {
   "cell_type": "markdown",
   "id": "ffcef87f-1551-4603-a14f-947a1dfb8f64",
   "metadata": {},
   "source": [
    "# Protein-ligand interacions for 1NCR using PLIP"
   ]
  },
  {
   "cell_type": "code",
   "execution_count": 72,
   "id": "8b44f91d-2258-4e1f-bd59-45784c38910c",
   "metadata": {},
   "outputs": [],
   "source": [
    "from plip.structure.preparation import PDBComplex\n",
    "import numpy as np"
   ]
  },
  {
   "cell_type": "markdown",
   "id": "f82d031f-fd3a-435f-a3f3-2c03f4c30a74",
   "metadata": {},
   "source": [
    "## Calculate interactions"
   ]
  },
  {
   "cell_type": "code",
   "execution_count": 4,
   "id": "61b7c7f1-43f8-4928-939b-30e0a29962bf",
   "metadata": {},
   "outputs": [
    {
     "name": "stdout",
     "output_type": "stream",
     "text": [
      "Protein structure 1ncr with ligands:\n",
      "ZN:A:6000\n",
      "W11:A:7001\n",
      "MYR:D:4000\n",
      "[190]\n"
     ]
    }
   ],
   "source": [
    "my_mol = PDBComplex()\n",
    "\n",
    "# Load the PDB file into PLIP class\n",
    "my_mol.load_pdb('./Data/pdbs/1ncr.pdb')\n",
    "\n",
    "# Shows name of structure and ligand binding sites\n",
    "print(my_mol) \n",
    "\n",
    "# Unique binding site identifier (HetID:Chain:Position)\n",
    "my_bsid = 'W11:A:7001' \n",
    "my_mol.analyze()\n",
    "my_interactions = my_mol.interaction_sets[my_bsid] # Contains all interaction data"
   ]
  },
  {
   "cell_type": "code",
   "execution_count": 13,
   "id": "26577ad9-c433-4162-b1cd-2473be197852",
   "metadata": {},
   "outputs": [
    {
     "data": {
      "text/plain": [
       "{'ZN:A:6000': <plip.structure.preparation.PLInteraction at 0x7fe1ca7b62d0>,\n",
       " 'W11:A:7001': <plip.structure.preparation.PLInteraction at 0x7fe1cc8f26d0>,\n",
       " 'MYR:D:4000': <plip.structure.preparation.PLInteraction at 0x7fe1cb85ca50>}"
      ]
     },
     "execution_count": 13,
     "metadata": {},
     "output_type": "execute_result"
    }
   ],
   "source": [
    "my_mol.interaction_sets"
   ]
  },
  {
   "cell_type": "code",
   "execution_count": 46,
   "id": "90325061-1d62-47ba-ad35-55e73d9acb70",
   "metadata": {},
   "outputs": [
    {
     "name": "stdout",
     "output_type": "stream",
     "text": [
      "Number of interactions: 11\n",
      "\n",
      "pistack\n",
      "hydroph_interaction\n",
      "hydroph_interaction\n",
      "hydroph_interaction\n",
      "hydroph_interaction\n",
      "hydroph_interaction\n",
      "hydroph_interaction\n",
      "hydroph_interaction\n",
      "hydroph_interaction\n",
      "halogenbond\n",
      "waterbridge\n"
     ]
    }
   ],
   "source": [
    "# List with all interactions\n",
    "interactions = my_interactions.all_itypes\n",
    "print(f\"Number of interactions: {len(interactions)}\\n\")\n",
    "\n",
    "for interaction in interactions:\n",
    "    # Interactions are named tuples.\n",
    "    interaction_name = type(interaction).__name__\n",
    "    print(interaction_name)"
   ]
  },
  {
   "cell_type": "markdown",
   "id": "d208c907-fda7-4a31-835e-b3f4d575f37e",
   "metadata": {},
   "source": [
    "### Analyzing pistack interactions"
   ]
  },
  {
   "cell_type": "code",
   "execution_count": 48,
   "id": "1b061762-7346-45a6-829a-bc8e30a34c89",
   "metadata": {},
   "outputs": [],
   "source": [
    "pistack = interactions[0]"
   ]
  },
  {
   "cell_type": "code",
   "execution_count": 49,
   "id": "1d595792-4a5b-485b-89e0-f8c8f28c7b6a",
   "metadata": {},
   "outputs": [
    {
     "data": {
      "text/plain": [
       "('proteinring',\n",
       " 'ligandring',\n",
       " 'distance',\n",
       " 'angle',\n",
       " 'offset',\n",
       " 'type',\n",
       " 'restype',\n",
       " 'resnr',\n",
       " 'reschain',\n",
       " 'restype_l',\n",
       " 'resnr_l',\n",
       " 'reschain_l')"
      ]
     },
     "execution_count": 49,
     "metadata": {},
     "output_type": "execute_result"
    }
   ],
   "source": [
    "pistack._fields #pistack is a named tuple"
   ]
  },
  {
   "cell_type": "code",
   "execution_count": 79,
   "id": "7fc0c1e5-b2f8-4ead-b447-b8b7f82b32a9",
   "metadata": {},
   "outputs": [
    {
     "name": "stdout",
     "output_type": "stream",
     "text": [
      "Ligand ring; Center: [38.029199999999996, 4.3594, 123.7382], normal: [ 0.55553186  0.81988479 -0.13846765]\n",
      "Protein ring; Center: [34.878166666666665, 4.118666666666667, 120.25733333333334], normal: [0.63124087 0.22880385 0.74106933]\n",
      "Distance between the rings is 4.7014249283240375\n",
      "\n",
      "True\n"
     ]
    }
   ],
   "source": [
    "ligand_ring_center = pistack.ligandring.center\n",
    "ligand_normal_vector = pistack.ligandring.normal\n",
    "print(f\"Ligand ring; Center: {ligand_ring_center}, normal: {ligand_normal_vector}\")\n",
    "\n",
    "protein_ring_center = pistack.proteinring.center\n",
    "protein_normal_vector = pistack.proteinring.normal\n",
    "print(f\"Protein ring; Center: {protein_ring_center}, normal: {protein_normal_vector}\")\n",
    "\n",
    "print(f\"Distance between the rings is {pistack.distance}\\n\")\n",
    "\n",
    "# Calculate distance\n",
    "distance = np.linalg.norm(np.array(ligand_ring_center) - np.array(protein_ring_center))\n",
    "print(distance == pistack.distance)"
   ]
  },
  {
   "cell_type": "markdown",
   "id": "dee48926-33cb-45fd-b187-d93445c12aa3",
   "metadata": {},
   "source": [
    "### Hydrophobic interactions"
   ]
  },
  {
   "cell_type": "code",
   "execution_count": 51,
   "id": "d9f97fd7-b5b7-44b5-bdb4-337605c69a04",
   "metadata": {},
   "outputs": [
    {
     "data": {
      "text/plain": [
       "('bsatom',\n",
       " 'bsatom_orig_idx',\n",
       " 'ligatom',\n",
       " 'ligatom_orig_idx',\n",
       " 'distance',\n",
       " 'restype',\n",
       " 'resnr',\n",
       " 'reschain',\n",
       " 'restype_l',\n",
       " 'resnr_l',\n",
       " 'reschain_l')"
      ]
     },
     "execution_count": 51,
     "metadata": {},
     "output_type": "execute_result"
    }
   ],
   "source": [
    "hydrophobic = interactions[1]\n",
    "# bs is the binding site\n",
    "hydrophobic._fields"
   ]
  },
  {
   "cell_type": "code",
   "execution_count": 67,
   "id": "867e8e46-2d82-4656-9725-d1dae06fc7e0",
   "metadata": {},
   "outputs": [
    {
     "data": {
      "text/plain": [
       "tuple"
      ]
     },
     "execution_count": 67,
     "metadata": {},
     "output_type": "execute_result"
    }
   ],
   "source": [
    "type(hydrophobic.ligatom.coords)"
   ]
  },
  {
   "cell_type": "code",
   "execution_count": 76,
   "id": "f1add342-1826-433b-a238-644b16fe0af4",
   "metadata": {},
   "outputs": [
    {
     "name": "stdout",
     "output_type": "stream",
     "text": [
      "Hydrophobic interaction 0\n",
      "Coords of ligand atom are [ 42.868  -0.745 122.712]\n",
      "Coords of binding site are [ 43.561  -1.507 126.451]\n",
      "\n",
      "True\n",
      "---------------------------------------------------\n",
      "Hydrophobic interaction 1\n",
      "Coords of ligand atom are [ 37.699   4.393 122.609]\n",
      "Coords of binding site are [ 39.77    7.394 123.143]\n",
      "\n",
      "True\n",
      "---------------------------------------------------\n",
      "Hydrophobic interaction 2\n",
      "Coords of ligand atom are [ 43.755  -1.836 122.327]\n",
      "Coords of binding site are [ 43.468  -4.771 124.599]\n",
      "\n",
      "True\n",
      "---------------------------------------------------\n",
      "Hydrophobic interaction 3\n",
      "Coords of ligand atom are [ 41.37   -1.11  122.681]\n",
      "Coords of binding site are [ 42.136  -4.369 124.694]\n",
      "\n",
      "True\n",
      "---------------------------------------------------\n",
      "Hydrophobic interaction 4\n",
      "Coords of ligand atom are [ 41.37   -1.11  122.681]\n",
      "Coords of binding site are [ 39.143  -0.55  120.239]\n",
      "\n",
      "True\n",
      "---------------------------------------------------\n",
      "Hydrophobic interaction 5\n",
      "Coords of ligand atom are [ 35.827   5.861 123.815]\n",
      "Coords of binding site are [ 33.951   5.053 120.762]\n",
      "\n",
      "True\n",
      "---------------------------------------------------\n",
      "Hydrophobic interaction 6\n",
      "Coords of ligand atom are [ 45.46    2.006 123.421]\n",
      "Coords of binding site are [ 46.688   2.865 120.312]\n",
      "\n",
      "True\n",
      "---------------------------------------------------\n",
      "Hydrophobic interaction 7\n",
      "Coords of ligand atom are [ 42.868  -0.745 122.712]\n",
      "Coords of binding site are [ 4.34490e+01 -4.90000e-02  1.19359e+02]\n",
      "\n",
      "True\n",
      "---------------------------------------------------\n"
     ]
    }
   ],
   "source": [
    "# Coordinates of atoms in each hydrophobic interaction\n",
    "for i, hyd in enumerate(interactions[1 : -2]):\n",
    "    # Calcualate the distance between ligand and bs atoms\n",
    "    lig_coords = np.array(hyd.ligatom.coords)\n",
    "    bs_coords = np.array(hyd.bsatom.coords)\n",
    "    distance = np.linalg.norm(lig_coords - bs_coords)\n",
    "    \n",
    "    print(f\"Hydrophobic interaction {i}\")\n",
    "    print(f\"Coords of ligand atom are {lig_coords}\")\n",
    "    print(f\"Coords of binding site are {bs_coords}\\n\")\n",
    "    # print(f\"Distance between atoms: {hyd.distance}\")\n",
    "    print(distance == hyd.distance)\n",
    "    print(\"---------------------------------------------------\")"
   ]
  },
  {
   "cell_type": "markdown",
   "id": "721fd4e2-d5a7-4d45-845d-a6d69777051a",
   "metadata": {},
   "source": [
    "## Protein-ligand interacions for 2HZ1 using PLIP"
   ]
  },
  {
   "cell_type": "code",
   "execution_count": 81,
   "id": "42c1dec6-1152-4fff-918e-804193b76164",
   "metadata": {},
   "outputs": [
    {
     "name": "stdout",
     "output_type": "stream",
     "text": [
      "Protein structure 2hz1 with ligands:\n",
      "CD:A:201\n",
      "CD:A:202\n",
      "SO3:A:204\n",
      "HEM:A:125\n",
      "SO2:A:203\n",
      "SO2:A:205\n"
     ]
    }
   ],
   "source": [
    "mol_system = PDBComplex()\n",
    "\n",
    "# Load the PDB file into PLIP class\n",
    "mol_system.load_pdb('./Data/pdbs/2hz1.pdb')\n",
    "\n",
    "# Shows name of structure and ligand binding sites\n",
    "print(mol_system) "
   ]
  },
  {
   "cell_type": "code",
   "execution_count": 82,
   "id": "7a9f4c0d-bc95-487c-bd85-42d572015aa8",
   "metadata": {},
   "outputs": [],
   "source": [
    "mol_system.analyze()\n",
    "mol_system_interactions = mol_system.interaction_sets[\"HEM:A:125\"] # Contains all interaction data"
   ]
  },
  {
   "cell_type": "code",
   "execution_count": 83,
   "id": "f2c48594-40a7-40f9-b447-d61bbfcda57f",
   "metadata": {},
   "outputs": [
    {
     "name": "stdout",
     "output_type": "stream",
     "text": [
      "Number of interactions: 21\n",
      "\n",
      "saltbridge\n",
      "saltbridge\n",
      "hbond\n",
      "hydroph_interaction\n",
      "hydroph_interaction\n",
      "hydroph_interaction\n",
      "hydroph_interaction\n",
      "hydroph_interaction\n",
      "hydroph_interaction\n",
      "hydroph_interaction\n",
      "hydroph_interaction\n",
      "hydroph_interaction\n",
      "hydroph_interaction\n",
      "waterbridge\n",
      "waterbridge\n",
      "metal_complex\n",
      "metal_complex\n",
      "metal_complex\n",
      "metal_complex\n",
      "metal_complex\n",
      "metal_complex\n"
     ]
    }
   ],
   "source": [
    "# List with all interactions\n",
    "interactions = mol_system_interactions.all_itypes\n",
    "print(f\"Number of interactions: {len(interactions)}\\n\")\n",
    "\n",
    "for interaction in interactions:\n",
    "    # Interactions are named tuples.\n",
    "    interaction_name = type(interaction).__name__\n",
    "    print(interaction_name)"
   ]
  },
  {
   "cell_type": "markdown",
   "id": "0e9dadeb-7ff7-471a-97af-7a2ef506178c",
   "metadata": {},
   "source": [
    "### Salt Bridges"
   ]
  },
  {
   "cell_type": "code",
   "execution_count": 84,
   "id": "098d0af9-ad55-4b41-93e4-a8ce62aa93e8",
   "metadata": {},
   "outputs": [
    {
     "data": {
      "text/plain": [
       "('positive',\n",
       " 'negative',\n",
       " 'distance',\n",
       " 'protispos',\n",
       " 'resnr',\n",
       " 'restype',\n",
       " 'reschain',\n",
       " 'resnr_l',\n",
       " 'restype_l',\n",
       " 'reschain_l')"
      ]
     },
     "execution_count": 84,
     "metadata": {},
     "output_type": "execute_result"
    }
   ],
   "source": [
    "salt_bridge = interactions[0]\n",
    "salt_bridge._fields"
   ]
  },
  {
   "cell_type": "code",
   "execution_count": 88,
   "id": "5355e8e5-a803-47b4-95e9-904686202e40",
   "metadata": {},
   "outputs": [
    {
     "data": {
      "text/plain": [
       "pcharge(atoms=[<openbabel.pybel.Atom object at 0x7fe1ca81c490>], atoms_orig_idx=[331], type='positive', center=[-0.724, 0.962, 4.197], restype='LYS', resnr=42, reschain='A')"
      ]
     },
     "execution_count": 88,
     "metadata": {},
     "output_type": "execute_result"
    }
   ],
   "source": [
    "salt_bridge.positive"
   ]
  },
  {
   "cell_type": "code",
   "execution_count": 98,
   "id": "257bdd0a-621f-4dc2-a1f7-e37bce4c7170",
   "metadata": {},
   "outputs": [
    {
     "name": "stdout",
     "output_type": "stream",
     "text": [
      "[2.279  2.6625 3.2525]\n",
      "[2.279, 2.6624999999999996, 3.2525]\n"
     ]
    }
   ],
   "source": [
    "atoms = salt_bridge.negative.atoms\n",
    "center = salt_bridge.negative.center\n",
    "\n",
    "coords_array = np.array([atoms[0].coords, atoms[1].coords])\n",
    "\n",
    "centroid = np.mean(coords_array, axis=0)\n",
    "\n",
    "print(centroid)\n",
    "print(center)"
   ]
  },
  {
   "cell_type": "code",
   "execution_count": 90,
   "id": "281726f1-b061-4b99-bba6-cc4015c9c9ab",
   "metadata": {},
   "outputs": [
    {
     "data": {
      "text/plain": [
       "True"
      ]
     },
     "execution_count": 90,
     "metadata": {},
     "output_type": "execute_result"
    }
   ],
   "source": [
    "# The positive charge is in the protein\n",
    "salt_bridge.protispos"
   ]
  },
  {
   "cell_type": "markdown",
   "id": "c90998e0-5dbe-4841-8d9c-33fee9ebddff",
   "metadata": {},
   "source": [
    "### Hydrogen bonds"
   ]
  },
  {
   "cell_type": "code",
   "execution_count": 99,
   "id": "acf679b4-6306-4f1f-896b-127dd2b8aed2",
   "metadata": {},
   "outputs": [
    {
     "data": {
      "text/plain": [
       "('a',\n",
       " 'a_orig_idx',\n",
       " 'd',\n",
       " 'd_orig_idx',\n",
       " 'h',\n",
       " 'distance_ah',\n",
       " 'distance_ad',\n",
       " 'angle',\n",
       " 'type',\n",
       " 'protisdon',\n",
       " 'resnr',\n",
       " 'restype',\n",
       " 'reschain',\n",
       " 'resnr_l',\n",
       " 'restype_l',\n",
       " 'reschain_l',\n",
       " 'sidechain',\n",
       " 'atype',\n",
       " 'dtype')"
      ]
     },
     "execution_count": 99,
     "metadata": {},
     "output_type": "execute_result"
    }
   ],
   "source": [
    "hbond = interactions[2]\n",
    "hbond._fields"
   ]
  },
  {
   "cell_type": "code",
   "execution_count": 100,
   "id": "e3b4a8dd-8c81-47c9-9535-3337491d4d42",
   "metadata": {},
   "outputs": [
    {
     "data": {
      "text/plain": [
       "True"
      ]
     },
     "execution_count": 100,
     "metadata": {},
     "output_type": "execute_result"
    }
   ],
   "source": [
    "# The donor atom is in the protein. Thus the acceptor is in the ligand\n",
    "hbond.protisdon"
   ]
  },
  {
   "cell_type": "code",
   "execution_count": 106,
   "id": "6c101272-1e7e-4bb8-ae44-009ff24be668",
   "metadata": {},
   "outputs": [
    {
     "name": "stdout",
     "output_type": "stream",
     "text": [
      "Atom: 8 (2.33 3.57 2.63)\n"
     ]
    }
   ],
   "source": [
    "# acceptor\n",
    "acceptor = hbond.a\n",
    "print(acceptor)"
   ]
  }
 ],
 "metadata": {
  "kernelspec": {
   "display_name": "Python 3",
   "language": "python",
   "name": "python3"
  },
  "language_info": {
   "codemirror_mode": {
    "name": "ipython",
    "version": 3
   },
   "file_extension": ".py",
   "mimetype": "text/x-python",
   "name": "python",
   "nbconvert_exporter": "python",
   "pygments_lexer": "ipython3",
   "version": "3.7.10"
  }
 },
 "nbformat": 4,
 "nbformat_minor": 5
}
