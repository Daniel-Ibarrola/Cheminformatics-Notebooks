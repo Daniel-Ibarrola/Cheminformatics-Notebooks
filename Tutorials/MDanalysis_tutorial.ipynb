{
 "cells": [
  {
   "cell_type": "code",
   "execution_count": 52,
   "id": "e36ed038-7636-48a2-b913-cd460b4512f1",
   "metadata": {},
   "outputs": [
    {
     "name": "stdout",
     "output_type": "stream",
     "text": [
      "1.1.1\n"
     ]
    }
   ],
   "source": [
    "import numpy as np\n",
    "import MDAnalysis\n",
    "from MDAnalysis.tests.datafiles import PSF, DCD\n",
    "\n",
    "print(MDAnalysis.__version__)"
   ]
  },
  {
   "cell_type": "markdown",
   "id": "247bf1b9-fb11-4c0e-9f8c-0d081f486e67",
   "metadata": {},
   "source": [
    "## Universe and atoms groups"
   ]
  },
  {
   "cell_type": "code",
   "execution_count": 6,
   "id": "86dde9dc-e3c2-4735-8814-9c4ba3e0172d",
   "metadata": {},
   "outputs": [
    {
     "name": "stdout",
     "output_type": "stream",
     "text": [
      "<Universe with 3341 atoms>\n"
     ]
    }
   ],
   "source": [
    "u = MDAnalysis.Universe(PSF, DCD)\n",
    "print(u)"
   ]
  },
  {
   "cell_type": "code",
   "execution_count": 7,
   "id": "b74b4a02-d763-49ea-84b3-dc31e432a87a",
   "metadata": {},
   "outputs": [
    {
     "data": {
      "text/plain": [
       "<AtomGroup with 3341 atoms>"
      ]
     },
     "execution_count": 7,
     "metadata": {},
     "output_type": "execute_result"
    }
   ],
   "source": [
    "u.atoms"
   ]
  },
  {
   "cell_type": "code",
   "execution_count": 8,
   "id": "f1be8db7-7abb-4b7e-b585-d22b71d67f9c",
   "metadata": {},
   "outputs": [
    {
     "data": {
      "text/plain": [
       "[<Atom 1: N of type 56 of resname MET, resid 1 and segid 4AKE>,\n",
       " <Atom 2: HT1 of type 2 of resname MET, resid 1 and segid 4AKE>,\n",
       " <Atom 3: HT2 of type 2 of resname MET, resid 1 and segid 4AKE>,\n",
       " <Atom 4: HT3 of type 2 of resname MET, resid 1 and segid 4AKE>,\n",
       " <Atom 5: CA of type 22 of resname MET, resid 1 and segid 4AKE>]"
      ]
     },
     "execution_count": 8,
     "metadata": {},
     "output_type": "execute_result"
    }
   ],
   "source": [
    "list(u.atoms[:5])"
   ]
  },
  {
   "cell_type": "code",
   "execution_count": 10,
   "id": "516005e4-0a77-43ac-b560-5d57e3345ba5",
   "metadata": {},
   "outputs": [
    {
     "name": "stdout",
     "output_type": "stream",
     "text": [
      "<ResidueGroup [<Residue LEU, 6>, <Residue GLY, 7>, <Residue ALA, 8>]>\n"
     ]
    },
    {
     "data": {
      "text/plain": [
       "[<Residue LEU, 6>, <Residue GLY, 7>, <Residue ALA, 8>]"
      ]
     },
     "execution_count": 10,
     "metadata": {},
     "output_type": "execute_result"
    }
   ],
   "source": [
    "print(u.atoms[100:130].residues)\n",
    "list(u.atoms[100:130].residues)"
   ]
  },
  {
   "cell_type": "code",
   "execution_count": 13,
   "id": "24a4c472-475a-46d3-be24-5a50b6bd1758",
   "metadata": {},
   "outputs": [
    {
     "name": "stdout",
     "output_type": "stream",
     "text": [
      "<SegmentGroup [<Segment 4AKE>]>\n"
     ]
    },
    {
     "data": {
      "text/plain": [
       "[<Segment 4AKE>]"
      ]
     },
     "execution_count": 13,
     "metadata": {},
     "output_type": "execute_result"
    }
   ],
   "source": [
    "print(u.atoms.segments)\n",
    "list(u.atoms.segments)"
   ]
  },
  {
   "cell_type": "code",
   "execution_count": 14,
   "id": "f475a577-0955-4837-9c39-56d3547c9e80",
   "metadata": {},
   "outputs": [
    {
     "data": {
      "text/plain": [
       "214"
      ]
     },
     "execution_count": 14,
     "metadata": {},
     "output_type": "execute_result"
    }
   ],
   "source": [
    "# Number of residues in u \n",
    "len(u.atoms.residues)"
   ]
  },
  {
   "cell_type": "code",
   "execution_count": 17,
   "id": "8049ad70-a36f-4b9c-bc17-1be5341bddb6",
   "metadata": {},
   "outputs": [
    {
     "data": {
      "text/plain": [
       "[('LEU', 67),\n",
       " ('VAL', 68),\n",
       " ('LYS', 69),\n",
       " ('GLU', 70),\n",
       " ('ARG', 71),\n",
       " ('ILE', 72),\n",
       " ('ALA', 73),\n",
       " ('GLN', 74),\n",
       " ('GLU', 75),\n",
       " ('ASP', 76),\n",
       " ('CYS', 77),\n",
       " ('ARG', 78),\n",
       " ('ASN', 79),\n",
       " ('GLY', 80),\n",
       " ('PHE', 81),\n",
       " ('LEU', 82),\n",
       " ('LEU', 83),\n",
       " ('ASP', 84),\n",
       " ('GLY', 85),\n",
       " ('PHE', 86)]"
      ]
     },
     "execution_count": 17,
     "metadata": {},
     "output_type": "execute_result"
    }
   ],
   "source": [
    "# Residues names for atoms 1000 to 1300\n",
    "resnames = u.atoms[999:1300].residues.resnames\n",
    "# Resiudes ids\n",
    "resids = u.atoms[999:13000].residues.resids\n",
    "list(zip(resnames, resids))"
   ]
  },
  {
   "cell_type": "code",
   "execution_count": 18,
   "id": "a8889013-f8db-47e4-9e73-863645d84e85",
   "metadata": {},
   "outputs": [
    {
     "name": "stdout",
     "output_type": "stream",
     "text": [
      "100 GLY\n"
     ]
    }
   ],
   "source": [
    "# 100th residue\n",
    "res100 = u.atoms.residues[99]\n",
    "print(res100.resid, res100.resname)"
   ]
  },
  {
   "cell_type": "markdown",
   "id": "6769ac9c-0439-4d1b-bee0-3a3821b6a807",
   "metadata": {},
   "source": [
    "## Selections"
   ]
  },
  {
   "cell_type": "code",
   "execution_count": 20,
   "id": "5e2d0df5-82e5-471e-8aa3-146f0d492cae",
   "metadata": {},
   "outputs": [
    {
     "data": {
      "text/plain": [
       "<AtomGroup with 214 atoms>"
      ]
     },
     "execution_count": 20,
     "metadata": {},
     "output_type": "execute_result"
    }
   ],
   "source": [
    "# Select al C alpha atoms from the protein\n",
    "CA = u.select_atoms(\"protein and name CA\")\n",
    "CA"
   ]
  },
  {
   "cell_type": "code",
   "execution_count": 22,
   "id": "595e92ac-3f7f-4bb3-b676-d42f6467a030",
   "metadata": {},
   "outputs": [
    {
     "data": {
      "text/plain": [
       "[<Residue GLU, 22>,\n",
       " <Residue ASP, 33>,\n",
       " <Residue GLU, 44>,\n",
       " <Residue ASP, 51>,\n",
       " <Residue ASP, 54>,\n",
       " <Residue ASP, 61>,\n",
       " <Residue GLU, 62>,\n",
       " <Residue GLU, 70>,\n",
       " <Residue GLU, 75>,\n",
       " <Residue ASP, 76>,\n",
       " <Residue ASP, 84>,\n",
       " <Residue ASP, 94>,\n",
       " <Residue GLU, 98>,\n",
       " <Residue ASP, 104>,\n",
       " <Residue GLU, 108>,\n",
       " <Residue ASP, 110>,\n",
       " <Residue ASP, 113>,\n",
       " <Residue GLU, 114>,\n",
       " <Residue ASP, 118>,\n",
       " <Residue GLU, 143>,\n",
       " <Residue ASP, 146>,\n",
       " <Residue ASP, 147>,\n",
       " <Residue GLU, 151>,\n",
       " <Residue GLU, 152>,\n",
       " <Residue ASP, 158>,\n",
       " <Residue ASP, 159>,\n",
       " <Residue GLU, 161>,\n",
       " <Residue GLU, 162>,\n",
       " <Residue GLU, 170>,\n",
       " <Residue GLU, 185>,\n",
       " <Residue GLU, 187>,\n",
       " <Residue ASP, 197>,\n",
       " <Residue GLU, 204>,\n",
       " <Residue ASP, 208>,\n",
       " <Residue GLU, 210>]"
      ]
     },
     "execution_count": 22,
     "metadata": {},
     "output_type": "execute_result"
    }
   ],
   "source": [
    "# Select all ASP or GLU residues for the C alpha atoms\n",
    "acidic = CA.select_atoms(\"resname ASP or resname GLU\")\n",
    "list(acidic.residues)"
   ]
  },
  {
   "cell_type": "code",
   "execution_count": 23,
   "id": "0306c476-0252-4244-be5a-590a017e078a",
   "metadata": {},
   "outputs": [
    {
     "data": {
      "text/plain": [
       "<AtomGroup with 1439 atoms>"
      ]
     },
     "execution_count": 23,
     "metadata": {},
     "output_type": "execute_result"
    }
   ],
   "source": [
    "u.select_atoms(\"resid 5-100\")"
   ]
  },
  {
   "cell_type": "code",
   "execution_count": 24,
   "id": "b6428f4f-bd69-4ef7-92e3-a475144abc89",
   "metadata": {},
   "outputs": [
    {
     "data": {
      "text/plain": [
       "<AtomGroup with 38 atoms>"
      ]
     },
     "execution_count": 24,
     "metadata": {},
     "output_type": "execute_result"
    }
   ],
   "source": [
    "u.select_atoms(\"resname ASP GLU HS* and name CA\")"
   ]
  },
  {
   "cell_type": "code",
   "execution_count": 25,
   "id": "17b609bf-618a-48bb-9c0b-487d6b461737",
   "metadata": {},
   "outputs": [
    {
     "data": {
      "text/plain": [
       "<ResidueGroup with 30 residues>"
      ]
     },
     "execution_count": 25,
     "metadata": {},
     "output_type": "execute_result"
    }
   ],
   "source": [
    "u.select_atoms(\"((resname ASP or resname GLU) and not (backbone or name CB or name CG)) \\\n",
    "                   and around 4.0 ((resname LYS or resname ARG) \\\n",
    "                                 and not (backbone or name CB or name CG))\").residues"
   ]
  },
  {
   "cell_type": "markdown",
   "id": "30246892-3a24-4913-b2fc-24aa46fd5244",
   "metadata": {},
   "source": [
    "#### Excercises\n",
    "\n",
    "Select the range of resids 100 to 200 (“100-200”) with a selection. Compare the result to what you get by slicing the u.atoms.residues appropriately."
   ]
  },
  {
   "cell_type": "code",
   "execution_count": 32,
   "id": "172e2b37-7557-4895-af39-f02df608ded0",
   "metadata": {},
   "outputs": [
    {
     "name": "stdout",
     "output_type": "stream",
     "text": [
      "<ResidueGroup [<Residue GLY, 100>, <Residue ILE, 101>, <Residue ASN, 102>, ..., <Residue GLY, 198>, <Residue THR, 199>, <Residue LYS, 200>]>\n",
      "<ResidueGroup [<Residue GLY, 100>, <Residue ILE, 101>, <Residue ASN, 102>, ..., <Residue GLY, 198>, <Residue THR, 199>, <Residue LYS, 200>]>\n"
     ]
    },
    {
     "data": {
      "text/plain": [
       "True"
      ]
     },
     "execution_count": 32,
     "metadata": {},
     "output_type": "execute_result"
    }
   ],
   "source": [
    "print(u.select_atoms(\"resid 100-200\").residues)\n",
    "print(u.atoms.residues[99:200])\n",
    "list(u.select_atoms(\"resid 100-200\").residues) == list(u.atoms.residues[99:200])"
   ]
  },
  {
   "cell_type": "markdown",
   "id": "4187da4d-089c-4683-a363-c2ec53951532",
   "metadata": {},
   "source": [
    "Select all residues that do not contain a Cβ (“CB”) atom. How many are there? What residue names did you find?"
   ]
  },
  {
   "cell_type": "code",
   "execution_count": 37,
   "id": "c6430e77-eb19-4ca8-93a2-97d5b4ada34c",
   "metadata": {},
   "outputs": [
    {
     "name": "stdout",
     "output_type": "stream",
     "text": [
      "[<Residue GLY, 7>, <Residue GLY, 10>, <Residue GLY, 12>, <Residue GLY, 14>, <Residue GLY, 25>, <Residue GLY, 32>, <Residue GLY, 42>, <Residue GLY, 46>, <Residue GLY, 56>, <Residue GLY, 80>]\n",
      "\n",
      "Number of resiudes: 20\n"
     ]
    }
   ],
   "source": [
    "print(list(u.select_atoms(\"(byres name CA) and not (byres name CB)\").residues)[0:10])\n",
    "print(\"\\nNumber of resiudes: {}\".format(len(u.select_atoms(\"(byres name CA) and not (byres name CB)\").residues)))"
   ]
  },
  {
   "cell_type": "markdown",
   "id": "3018df3b-e509-4d77-8da3-3af3f89c47a9",
   "metadata": {},
   "source": [
    "## Atom Groups"
   ]
  },
  {
   "cell_type": "code",
   "execution_count": 40,
   "id": "f1002301-3afe-4bad-a142-d84f2de4ccc6",
   "metadata": {},
   "outputs": [
    {
     "data": {
      "text/plain": [
       "(214, 3)"
      ]
     },
     "execution_count": 40,
     "metadata": {},
     "output_type": "execute_result"
    }
   ],
   "source": [
    "CA = u.select_atoms(\"protein and name CA\")\n",
    "r = CA.positions #returns an array\n",
    "r.shape"
   ]
  },
  {
   "cell_type": "markdown",
   "id": "d8e39f13-5c91-4b06-b05e-e7566eba2889",
   "metadata": {},
   "source": [
    "AdK consists of three domains:\n",
    "\n",
    "- CORE residues 1-29, 60-121, 160-214 (gray)\n",
    "- NMP residues 30-59 (blue)\n",
    "- LID residues 122-159 (yellow)\n",
    "\n",
    "Calculate the center of mass and the center of geometry for each of the three domains."
   ]
  },
  {
   "cell_type": "code",
   "execution_count": 46,
   "id": "221e7c5b-a565-4f12-90c8-42e9c5c2dd1b",
   "metadata": {},
   "outputs": [
    {
     "name": "stdout",
     "output_type": "stream",
     "text": [
      "Center of geometry:\n",
      " {'CORE': array([4.43884299, 2.0538954 , 1.63895353]), 'NMP': array([ -2.99990683, -13.62532303,  -2.93235767]), 'LID': array([-15.16075675,   2.11599549,  -4.37305075])}\n",
      "\n",
      "Center of mass:\n",
      " {'CORE': array([4.564116  , 2.08700105, 1.54992649]), 'NMP': array([ -3.20330174, -13.60247613,  -3.06221538]), 'LID': array([-15.11337499,   2.12292226,  -4.40910485])}\n"
     ]
    }
   ],
   "source": [
    "domains = {\n",
    "    'CORE': u.select_atoms(\"protein and (resid 1-29 60-121 160-214)\"),\n",
    "    'NMP': u.select_atoms(\"protein and (resid 30-59)\"),\n",
    "    'LID': u.select_atoms(\"protein and (resid 122-159)\")\n",
    "    \n",
    "}\n",
    "\n",
    "geometry_center = dict((name, dom.centroid()) for name,dom in domains.items())\n",
    "mass_center = dict((name, dom.center_of_mass()) for name,dom in domains.items())\n",
    "\n",
    "print('Center of geometry:\\n',geometry_center)\n",
    "print('\\nCenter of mass:\\n',mass_center)"
   ]
  },
  {
   "cell_type": "markdown",
   "id": "cac43487-46af-4905-a282-775ac80fb0a8",
   "metadata": {},
   "source": [
    "What are the distances between the centers of mass?"
   ]
  },
  {
   "cell_type": "code",
   "execution_count": 47,
   "id": "cc4d8e78-e227-44dd-92a0-0cd3a6053c5a",
   "metadata": {},
   "outputs": [
    {
     "name": "stdout",
     "output_type": "stream",
     "text": [
      "18.1042626243636\n",
      "20.56003396017224\n",
      "19.772508960939916\n"
     ]
    }
   ],
   "source": [
    "from numpy.linalg import norm\n",
    "\n",
    "print(norm(mass_center['CORE'] - mass_center['NMP']))\n",
    "print(norm(mass_center['CORE'] - mass_center['LID']))\n",
    "print(norm(mass_center['NMP'] - mass_center['LID']))"
   ]
  },
  {
   "cell_type": "markdown",
   "id": "7e8b34c0-b95e-42e3-9ea5-a8216aff5391",
   "metadata": {},
   "source": [
    "Write a function theta_NMP() that takes a Universe as an argument and computes θNMP"
   ]
  },
  {
   "cell_type": "code",
   "execution_count": 56,
   "id": "ae79f4d4-ed0e-4ac2-bab5-9b41d0f12acb",
   "metadata": {},
   "outputs": [],
   "source": [
    "def theta_NMP(u):\n",
    "   \"\"\"Calculate the NMP-CORE angle for E. coli AdK in degrees\"\"\"\n",
    "   A = u.select_atoms(\"resid 115-125 and (backbone or name CB)\").center_of_geometry()\n",
    "   B = u.select_atoms(\"resid 90-100 and (backbone or name CB)\").center_of_geometry()\n",
    "   C = u.select_atoms(\"resid 35-55 and (backbone or name CB)\").center_of_geometry()\n",
    "   BA = A - B\n",
    "   BC = C - B\n",
    "   theta = np.arccos(np.dot(BA, BC)/(norm(BA)*norm(BC)))\n",
    "   return np.rad2deg(theta)\n",
    "\n",
    "def theta_LID(u):\n",
    "   \"\"\"Calculate the LID-CORE angle for E. coli AdK in degrees\"\"\"\n",
    "   A = u.select_atoms(\"resid 179-185 and (backbone or name CB)\").center_of_geometry()\n",
    "   B = u.select_atoms(\"resid 115-125 and (backbone or name CB)\").center_of_geometry()\n",
    "   C = u.select_atoms(\"resid 125-153 and (backbone or name CB)\").center_of_geometry()\n",
    "   BA = A - B\n",
    "   BC = C - B\n",
    "   theta = np.arccos(np.dot(BA, BC)/(norm(BA)*norm(BC)))\n",
    "   return np.rad2deg(theta)"
   ]
  },
  {
   "cell_type": "code",
   "execution_count": 55,
   "id": "b810c18e-a9fe-4444-8a29-f390929b5863",
   "metadata": {},
   "outputs": [
    {
     "data": {
      "text/plain": [
       "44.124820978242475"
      ]
     },
     "execution_count": 55,
     "metadata": {},
     "output_type": "execute_result"
    }
   ],
   "source": [
    "theta_NMP(u)"
   ]
  },
  {
   "cell_type": "code",
   "execution_count": 58,
   "id": "4f446da9-42e3-461c-956f-eff40d01f622",
   "metadata": {},
   "outputs": [
    {
     "data": {
      "text/plain": [
       "107.00880885646153"
      ]
     },
     "execution_count": 58,
     "metadata": {},
     "output_type": "execute_result"
    }
   ],
   "source": [
    "theta_LID(u)"
   ]
  },
  {
   "cell_type": "markdown",
   "id": "f782718c-cc63-4f61-8646-f1a3704182f3",
   "metadata": {},
   "source": [
    "## Processing atom groups"
   ]
  },
  {
   "cell_type": "code",
   "execution_count": 59,
   "id": "0557ee6e-9ae7-45e3-94b1-b0a4c8109059",
   "metadata": {},
   "outputs": [
    {
     "name": "stderr",
     "output_type": "stream",
     "text": [
      "/Users/danielibarrola/miniconda3/envs/pharma/lib/python3.7/site-packages/MDAnalysis/coordinates/PDB.py:864: DeprecationWarning: Using the last letter of the segid for the chainID is now deprecated and will be changed in 2.0. In 2.0, the chainID attribute will be used if it exists, or a placeholder value.\n",
      "  \"exists, or a placeholder value.\", DeprecationWarning)\n",
      "/Users/danielibarrola/miniconda3/envs/pharma/lib/python3.7/site-packages/MDAnalysis/coordinates/PDB.py:1032: UserWarning: Found no information for attr: 'altLocs' Using default value of ' '\n",
      "  \"\".format(attrname, default))\n",
      "/Users/danielibarrola/miniconda3/envs/pharma/lib/python3.7/site-packages/MDAnalysis/coordinates/PDB.py:1032: UserWarning: Found no information for attr: 'icodes' Using default value of ' '\n",
      "  \"\".format(attrname, default))\n",
      "/Users/danielibarrola/miniconda3/envs/pharma/lib/python3.7/site-packages/MDAnalysis/coordinates/PDB.py:1032: UserWarning: Found no information for attr: 'occupancies' Using default value of '1.0'\n",
      "  \"\".format(attrname, default))\n",
      "/Users/danielibarrola/miniconda3/envs/pharma/lib/python3.7/site-packages/MDAnalysis/coordinates/PDB.py:1032: UserWarning: Found no information for attr: 'tempfactors' Using default value of '0.0'\n",
      "  \"\".format(attrname, default))\n"
     ]
    }
   ],
   "source": [
    "CORE = u.select_atoms(\"resid 1-29 60-121 160-214\")\n",
    "CORE.write(\"./data/Adk_core.pdb\")"
   ]
  },
  {
   "cell_type": "markdown",
   "id": "c07b8062-f56d-4b5a-aeb7-3fe6c6b0a080",
   "metadata": {},
   "source": [
    "## Trajectory analysis"
   ]
  },
  {
   "cell_type": "code",
   "execution_count": 60,
   "id": "35265235-db06-4b0b-92af-810320d2568e",
   "metadata": {},
   "outputs": [
    {
     "data": {
      "text/plain": [
       "98"
      ]
     },
     "execution_count": 60,
     "metadata": {},
     "output_type": "execute_result"
    }
   ],
   "source": [
    "# Lenght of trajectory or number of frames\n",
    "len(u.trajectory)"
   ]
  },
  {
   "cell_type": "code",
   "execution_count": 62,
   "id": "646d3de2-923d-4b4f-99d4-c682b51894ae",
   "metadata": {},
   "outputs": [
    {
     "name": "stdout",
     "output_type": "stream",
     "text": [
      "Frame:     0, Time:    1.000 ps\n",
      "Rgyr: 16.669 A\n",
      "Frame:     1, Time:    2.000 ps\n",
      "Rgyr: 16.6732 A\n",
      "Frame:     2, Time:    3.000 ps\n",
      "Rgyr: 16.7315 A\n",
      "Frame:     3, Time:    4.000 ps\n",
      "Rgyr: 16.7223 A\n",
      "Frame:     4, Time:    5.000 ps\n",
      "Rgyr: 16.744 A\n",
      "Frame:     5, Time:    6.000 ps\n",
      "Rgyr: 16.7185 A\n",
      "Frame:     6, Time:    7.000 ps\n",
      "Rgyr: 16.7741 A\n",
      "Frame:     7, Time:    8.000 ps\n",
      "Rgyr: 16.7764 A\n",
      "Frame:     8, Time:    9.000 ps\n",
      "Rgyr: 16.7894 A\n",
      "Frame:     9, Time:   10.000 ps\n",
      "Rgyr: 16.8289 A\n"
     ]
    }
   ],
   "source": [
    "i = 0\n",
    "for ts in u.trajectory:\n",
    "    if i == 10:\n",
    "        break\n",
    "    print(\"Frame: {0:5d}, Time: {1:8.3f} ps\".format(ts.frame, u.trajectory.time))\n",
    "    print(\"Rgyr: {0:g} A\".format(u.atoms.radius_of_gyration()))\n",
    "    i += 1"
   ]
  },
  {
   "cell_type": "code",
   "execution_count": 63,
   "id": "ebb6a94c-1c93-45de-a86a-2c3592a4cfbe",
   "metadata": {},
   "outputs": [],
   "source": [
    "Rgyr = []\n",
    "protein = u.select_atoms(\"protein\")\n",
    "for ts in u.trajectory:\n",
    "    Rgyr.append((u.trajectory.time, protein.radius_of_gyration()))\n",
    "Rgyr = np.array(Rgyr)"
   ]
  },
  {
   "cell_type": "code",
   "execution_count": 67,
   "id": "f39708fd-37b3-4b80-8f0b-9c92b2d5e035",
   "metadata": {},
   "outputs": [
    {
     "data": {
      "image/png": "[encoded data removed]",
      "text/plain": [
       "<Figure size 720x576 with 1 Axes>"
      ]
     },
     "metadata": {
      "needs_background": "light"
     },
     "output_type": "display_data"
    }
   ],
   "source": [
    "import matplotlib.pyplot as plt\n",
    "\n",
    "fig, ax = plt.subplots(figsize=(10,8))\n",
    "ax.plot(Rgyr[:,0], Rgyr[:,1], 'r--', lw=2, label=r\"$R_G$\")\n",
    "ax.set_xlabel(\"time (ps)\")\n",
    "ax.set_ylabel(r\"radius of gyration $R_G$ ($\\AA$)\")\n",
    "plt.show()"
   ]
  },
  {
   "cell_type": "markdown",
   "id": "3ed3d6dd-a96f-450f-8b27-430c137a4499",
   "metadata": {},
   "source": [
    "Calculate the time series θNMP(t) and θLID(t)"
   ]
  },
  {
   "cell_type": "code",
   "execution_count": 68,
   "id": "a94e3b3d-d564-43ae-9025-94efdad0d9d9",
   "metadata": {},
   "outputs": [],
   "source": [
    "nmp = []\n",
    "lid = []\n",
    "for ts in u.trajectory:\n",
    "    nmp.append((u.trajectory.time, theta_NMP(u)))\n",
    "    lid.append((u.trajectory.time, theta_LID(u)))\n",
    "nmp = np.array(nmp)\n",
    "lid = np.array(lid)"
   ]
  },
  {
   "cell_type": "code",
   "execution_count": 78,
   "id": "22726110-4a10-4968-b839-61897dcd7e4c",
   "metadata": {},
   "outputs": [
    {
     "data": {
      "image/png": "[encoded data removed]",
      "text/plain": [
       "<Figure size 720x576 with 2 Axes>"
      ]
     },
     "metadata": {
      "needs_background": "light"
     },
     "output_type": "display_data"
    }
   ],
   "source": [
    "fig, axes = plt.subplots(nrows=1, ncols=2, figsize=(10,8))\n",
    "# Plot angles vs timestep\n",
    "axes[0].plot(nmp[:,0], nmp[:,1],'b-', lw=2, label=r\"$\\theta_{\\mathrm{NMP}}$\")\n",
    "axes[0].plot(lid[:,0], lid[:,1], 'r-', lw=2, label=r\"$\\theta_{\\mathrm{LID}}$\")\n",
    "axes[0].set_xlabel(r\"time $t$ (ps)\")\n",
    "axes[0].set_ylabel(r\"angle $\\theta$\")\n",
    "axes[0].legend()\n",
    "# Plot NMP angle vs LID angle\n",
    "axes[1].plot(nmp[:,1], lid[:,1],'k-', lw=3)\n",
    "axes[1].set_xlabel(r\"NMP-CORE angle $\\theta_{\\mathrm{NMP}}$\")\n",
    "axes[1].set_ylabel(r\"LID-CORE angle $\\theta_{\\mathrm{LID}}$\")\n",
    "\n",
    "plt.show()"
   ]
  },
  {
   "cell_type": "code",
   "execution_count": null,
   "id": "1444ff42-bc95-43a0-b12a-bb7de6b4a817",
   "metadata": {},
   "outputs": [],
   "source": []
  }
 ],
 "metadata": {
  "kernelspec": {
   "display_name": "Python 3",
   "language": "python",
   "name": "python3"
  },
  "language_info": {
   "codemirror_mode": {
    "name": "ipython",
    "version": 3
   },
   "file_extension": ".py",
   "mimetype": "text/x-python",
   "name": "python",
   "nbconvert_exporter": "python",
   "pygments_lexer": "ipython3",
   "version": "3.7.10"
  }
 },
 "nbformat": 4,
 "nbformat_minor": 5
}
