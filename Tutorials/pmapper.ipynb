{
 "cells": [
  {
   "cell_type": "code",
   "execution_count": 1,
   "id": "bd317314-e58b-4016-8e15-ea21331ae5ed",
   "metadata": {},
   "outputs": [],
   "source": [
    "from pmapper.pharmacophore import Pharmacophore as P\n",
    "from rdkit import Chem\n",
    "from rdkit.Chem import AllChem\n",
    "from pprint import pprint"
   ]
  },
  {
   "cell_type": "code",
   "execution_count": 2,
   "id": "99a03dfb-8f29-49f0-a6b4-2ee45f76ef44",
   "metadata": {},
   "outputs": [
    {
     "data": {
      "image/png": "[encoded data removed]",
      "text/plain": [
       "<rdkit.Chem.rdchem.Mol at 0x7fe7c19278f0>"
      ]
     },
     "execution_count": 2,
     "metadata": {},
     "output_type": "execute_result"
    }
   ],
   "source": [
    "# load a molecule from SMILES and generate 3D coordinates\n",
    "mol = Chem.MolFromSmiles('C1CC(=O)NC(=O)C1N2C(=O)C3=CC=CC=C3C2=O')  # talidomide\n",
    "mol = Chem.AddHs(mol)\n",
    "AllChem.EmbedMolecule(mol, randomSeed=42)\n",
    "\n",
    "mol"
   ]
  },
  {
   "cell_type": "code",
   "execution_count": 3,
   "id": "4de9aff3-fe0e-4c88-87bd-c97b0e6433d2",
   "metadata": {},
   "outputs": [],
   "source": [
    "# create pharmacophore\n",
    "p = P()\n",
    "p.load_from_mol(mol)"
   ]
  },
  {
   "cell_type": "code",
   "execution_count": 4,
   "id": "a7ffaa60-a085-4512-a79e-90d1d2a24edf",
   "metadata": {},
   "outputs": [
    {
     "name": "stdout",
     "output_type": "stream",
     "text": [
      "e1c4265f83f4c2e7b4ae292c135623a5\n"
     ]
    }
   ],
   "source": [
    "sig = p.get_signature_md5()\n",
    "print(sig)"
   ]
  },
  {
   "cell_type": "code",
   "execution_count": 5,
   "id": "003bad41-3c4b-49c1-a63b-39e91d44b6b0",
   "metadata": {},
   "outputs": [
    {
     "name": "stdout",
     "output_type": "stream",
     "text": [
      "['33b650e973c447bc124fa9f19e277102',\n",
      " '439226b146334cbaf30e5f144778e953',\n",
      " 'b17d6bdb27154589569a1ba056e7ad40',\n",
      " 'a23bbb58afc58c58b909c43de2952d21',\n",
      " 'cc9e61a3fdde1b37da9de0d78d27a325',\n",
      " '2589e1cdbd400ccbe0c65b024060fada',\n",
      " 'cc9e61a3fdde1b37da9de0d78d27a325',\n",
      " '7d7a2727fb507dd06a6c7d01021982c2',\n",
      " 'bea5fd6af5fb56f29aa11419213f786d',\n",
      " '68f226d474808e60ab1256245f64c2b7']\n"
     ]
    }
   ],
   "source": [
    "from pmapper.utils import load_multi_conf_mol\n",
    "\n",
    "# create multiple conformer molecule\n",
    "AllChem.EmbedMultipleConfs(mol, numConfs=10, randomSeed=1024)\n",
    "\n",
    "ps = load_multi_conf_mol(mol)\n",
    "\n",
    "sig = [p.get_signature_md5() for p in ps]\n",
    "\n",
    "pprint(sig)  # identical signatures occur\n"
   ]
  },
  {
   "cell_type": "code",
   "execution_count": 6,
   "id": "f712fa9b-c268-48c4-a7fa-b1595a99055b",
   "metadata": {},
   "outputs": [
    {
     "name": "stdout",
     "output_type": "stream",
     "text": [
      "rmsd bewteen 2 and 0 pharmacophore: 0.79\n",
      "rmsd bewteen 2 and 1 pharmacophore: 0.09\n",
      "rmsd bewteen 2 and 2 pharmacophore: 0.0\n",
      "rmsd bewteen 2 and 3 pharmacophore: 0.43\n",
      "rmsd bewteen 2 and 4 pharmacophore: 0.62\n",
      "rmsd bewteen 2 and 5 pharmacophore: 0.48\n",
      "rmsd bewteen 2 and 6 pharmacophore: 0.59\n",
      "rmsd bewteen 2 and 7 pharmacophore: 0.54\n",
      "rmsd bewteen 2 and 8 pharmacophore: 0.56\n",
      "rmsd bewteen 2 and 9 pharmacophore: 0.72\n"
     ]
    }
   ],
   "source": [
    "from pmapper.utils import get_rms\n",
    "for i in range(len(ps)):\n",
    "    print(\"rmsd bewteen 2 and %i pharmacophore:\" % i, round(get_rms(ps[2], ps[i]), 2))"
   ]
  },
  {
   "cell_type": "code",
   "execution_count": 7,
   "id": "5e6f7498-86b2-4382-96a8-e4e03ff01ab9",
   "metadata": {},
   "outputs": [],
   "source": [
    "q = P()\n",
    "q.load_from_feature_coords([('a', (3.17, -0.23, 0.24)), ('D', (-2.51, -1.28, -1.14))])\n",
    "p.fit_model(q)"
   ]
  }
 ],
 "metadata": {
  "kernelspec": {
   "display_name": "Python 3",
   "language": "python",
   "name": "python3"
  },
  "language_info": {
   "codemirror_mode": {
    "name": "ipython",
    "version": 3
   },
   "file_extension": ".py",
   "mimetype": "text/x-python",
   "name": "python",
   "nbconvert_exporter": "python",
   "pygments_lexer": "ipython3",
   "version": "3.7.10"
  }
 },
 "nbformat": 4,
 "nbformat_minor": 5
}
