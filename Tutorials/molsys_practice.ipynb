{
 "cells": [
  {
   "cell_type": "markdown",
   "id": "3c1e515a-187c-4ab8-a853-9040a76840d9",
   "metadata": {},
   "source": [
    "# MolSysMT Introduction\n",
    "\n",
    "## Installation\n",
    "\n",
    "To install MolSysMT, since there is no \"stable\" version yet, you have to clone the main repository:\n",
    "\n",
    "```\n",
    "git clone git@github.com:uibcdf/MolSysMT.git\n",
    "```\n",
    "\n",
    "There are some dependencies you have to solve manually (I have to make a file):\n",
    "numpy, networkx, parmed, mdtraj, nglview, json, os, urllib, pyunitwizard...\n",
    "\n",
    "Now, with your conda environment activated, install molsysmt as a developing module:\n",
    "\n",
    "```\n",
    "python setup.py develop\n",
    "```\n",
    "\n",
    "You can now open python, ipython or jupyter to check if molsysmt is imported with out complains:\n",
    "\n",
    "```\n",
    "import molsysmt as msm\n",
    "```\n",
    "\n",
    "Now, if this happens without errors or warnings, run the NGLView patch to make this library compatible with MolSysMT (This has to be done just the first time):\n",
    "\n",
    "```\n",
    "from molsysmt.tools import nglview\n",
    "nglview.adding_molsysmt()\n",
    "```"
   ]
  },
  {
   "cell_type": "markdown",
   "id": "6e6c84c9-102e-41bc-b543-484c6521100b",
   "metadata": {},
   "source": [
    "## Tasks to do\n",
    "\n",
    "In order to solve these tasks, make a copy of this notebook and work over the copy. Name your notebook as you wish, and push it to the main branch of the repository with the cells to do the following: \n",
    "\n",
    "- Load the pdb file '1NCR' -from the Protein Data Bank or locally- as a molsysmt.MolSys object.\n",
    "- Get the form of the new object.\n",
    "- Print out the information summary of the new object.\n",
    "- Check if the system has hydrogen atoms. Why there is no hydrogen atoms?\n",
    "- Remove atoms from water molecules and ions\n",
    "- Print out the information summary about the molecules of the new object.\n",
    "- Protonate (add hydrogens) at pH=7.4 to the molecular system.\n",
    "- Get the number of hydrogen atoms added to the system.\n",
    "- Get the sequence of aminoacids (3 letters code) of the molecule with index.\n",
    "- How many atoms with name \"CA\" has the molecular system?\n",
    "- Get the list of indices of the groups named \"VAL\".\n",
    "- Get the coordinates of the atoms with name \"CA\" from those groups named \"VAL\". \n",
    "- Show the view of the entity named \"W11\".\n",
    "- Show the view of the whole system (water and ions were removed).\n",
    "- Get the minimum distance between any atom of the small molecule named \"W11\" and any atom of the molecule with index 0. The same with the molecules indexed 1, and 2.\n",
    "- Get the distance matrix between the atoms of type \"C\" from the small molecule named \"W11\" and any atom named \"CA\" of molecule with index 0.\n",
    "- Get all phi and psi dihedral angles of the molecule type peptide.\n",
    "- Get all covalent chains with the sequence of atoms with name \"CB1\"-\"CB2\"-\"CB3\"-\"CB4\"-\"CB5\"-\"CB6\"-\"CB1\"\n",
    "- Get all covalent chains with 7 atoms type \"C\". How many chains you got? Can this be a bug? If you think so, open and issue reporting this possible bug. Could the method `covalent_chains` be used to detect rings? Should we define a method to get covalent rings?"
   ]
  },
  {
   "cell_type": "code",
   "execution_count": 1,
   "id": "8765fbca-45a7-4844-918c-ecff47f72ad7",
   "metadata": {},
   "outputs": [
    {
     "data": {
      "application/vnd.jupyter.widget-view+json": {
       "model_id": "34a49ca474a5463e8726381e9c3c58f2",
       "version_major": 2,
       "version_minor": 0
      },
      "text/plain": []
     },
     "metadata": {},
     "output_type": "display_data"
    }
   ],
   "source": [
    "import molsysmt as msm\n",
    "import pandas as pd\n",
    "import nglview as nv"
   ]
  },
  {
   "cell_type": "code",
   "execution_count": 2,
   "id": "0f72a5ea-686b-4681-9e1b-190a65686aa3",
   "metadata": {},
   "outputs": [
    {
     "name": "stdout",
     "output_type": "stream",
     "text": [
      "Form: molsysmt.MolSys\n"
     ]
    }
   ],
   "source": [
    "pdb_file = 'pdb:1ncr'\n",
    "# Fetch file\n",
    "protein = msm.convert(pdb_file)\n",
    "print('Form: {}'.format(msm.get_form(protein)))"
   ]
  },
  {
   "cell_type": "code",
   "execution_count": 3,
   "id": "1501c381-601b-4207-8651-051857327b63",
   "metadata": {},
   "outputs": [
    {
     "data": {
      "text/html": [
       "<style  type=\"text/css\" >\n",
       "</style><table id=\"T_51057_\" ><thead>    <tr>        <th class=\"col_heading level0 col0\" >form</th>        <th class=\"col_heading level0 col1\" >n_atoms</th>        <th class=\"col_heading level0 col2\" >n_groups</th>        <th class=\"col_heading level0 col3\" >n_components</th>        <th class=\"col_heading level0 col4\" >n_chains</th>        <th class=\"col_heading level0 col5\" >n_molecules</th>        <th class=\"col_heading level0 col6\" >n_entities</th>        <th class=\"col_heading level0 col7\" >n_waters</th>        <th class=\"col_heading level0 col8\" >n_ions</th>        <th class=\"col_heading level0 col9\" >n_small_molecules</th>        <th class=\"col_heading level0 col10\" >n_peptides</th>        <th class=\"col_heading level0 col11\" >n_proteins</th>        <th class=\"col_heading level0 col12\" >n_frames</th>    </tr></thead><tbody>\n",
       "                <tr>\n",
       "                                <td id=\"T_51057_row0_col0\" class=\"data row0 col0\" >molsysmt.MolSys</td>\n",
       "                        <td id=\"T_51057_row0_col1\" class=\"data row0 col1\" >6717</td>\n",
       "                        <td id=\"T_51057_row0_col2\" class=\"data row0 col2\" >1145</td>\n",
       "                        <td id=\"T_51057_row0_col3\" class=\"data row0 col3\" >344</td>\n",
       "                        <td id=\"T_51057_row0_col4\" class=\"data row0 col4\" >10</td>\n",
       "                        <td id=\"T_51057_row0_col5\" class=\"data row0 col5\" >344</td>\n",
       "                        <td id=\"T_51057_row0_col6\" class=\"data row0 col6\" >7</td>\n",
       "                        <td id=\"T_51057_row0_col7\" class=\"data row0 col7\" >338</td>\n",
       "                        <td id=\"T_51057_row0_col8\" class=\"data row0 col8\" >1</td>\n",
       "                        <td id=\"T_51057_row0_col9\" class=\"data row0 col9\" >2</td>\n",
       "                        <td id=\"T_51057_row0_col10\" class=\"data row0 col10\" >1</td>\n",
       "                        <td id=\"T_51057_row0_col11\" class=\"data row0 col11\" >2</td>\n",
       "                        <td id=\"T_51057_row0_col12\" class=\"data row0 col12\" >1</td>\n",
       "            </tr>\n",
       "    </tbody></table>"
      ],
      "text/plain": [
       "<pandas.io.formats.style.Styler at 0x7fa051a12210>"
      ]
     },
     "execution_count": 3,
     "metadata": {},
     "output_type": "execute_result"
    }
   ],
   "source": [
    "# Print out summary of the system\n",
    "msm.info(protein)"
   ]
  },
  {
   "cell_type": "code",
   "execution_count": 4,
   "id": "55c9e2d7-7467-4026-8dc3-a33fb100093d",
   "metadata": {},
   "outputs": [
    {
     "name": "stdout",
     "output_type": "stream",
     "text": [
      "0 hydrogen atoms in the system\n"
     ]
    }
   ],
   "source": [
    "# Look for hydrogen atoms\n",
    "n_Hs = msm.get(protein, selection='atom_type==\"H\"', n_atoms=True)\n",
    "print('{} hydrogen atoms in the system'.format(n_Hs))"
   ]
  },
  {
   "cell_type": "code",
   "execution_count": 5,
   "id": "16aaa1ec-40bf-40d5-bdf2-19d0d719a13b",
   "metadata": {},
   "outputs": [
    {
     "data": {
      "text/html": [
       "<style  type=\"text/css\" >\n",
       "</style><table id=\"T_71fa3_\" ><thead>    <tr>        <th class=\"col_heading level0 col0\" >form</th>        <th class=\"col_heading level0 col1\" >n_atoms</th>        <th class=\"col_heading level0 col2\" >n_groups</th>        <th class=\"col_heading level0 col3\" >n_components</th>        <th class=\"col_heading level0 col4\" >n_chains</th>        <th class=\"col_heading level0 col5\" >n_molecules</th>        <th class=\"col_heading level0 col6\" >n_entities</th>        <th class=\"col_heading level0 col7\" >n_small_molecules</th>        <th class=\"col_heading level0 col8\" >n_peptides</th>        <th class=\"col_heading level0 col9\" >n_proteins</th>        <th class=\"col_heading level0 col10\" >n_frames</th>    </tr></thead><tbody>\n",
       "                <tr>\n",
       "                                <td id=\"T_71fa3_row0_col0\" class=\"data row0 col0\" >molsysmt.MolSys</td>\n",
       "                        <td id=\"T_71fa3_row0_col1\" class=\"data row0 col1\" >6378</td>\n",
       "                        <td id=\"T_71fa3_row0_col2\" class=\"data row0 col2\" >806</td>\n",
       "                        <td id=\"T_71fa3_row0_col3\" class=\"data row0 col3\" >5</td>\n",
       "                        <td id=\"T_71fa3_row0_col4\" class=\"data row0 col4\" >6</td>\n",
       "                        <td id=\"T_71fa3_row0_col5\" class=\"data row0 col5\" >5</td>\n",
       "                        <td id=\"T_71fa3_row0_col6\" class=\"data row0 col6\" >5</td>\n",
       "                        <td id=\"T_71fa3_row0_col7\" class=\"data row0 col7\" >2</td>\n",
       "                        <td id=\"T_71fa3_row0_col8\" class=\"data row0 col8\" >1</td>\n",
       "                        <td id=\"T_71fa3_row0_col9\" class=\"data row0 col9\" >2</td>\n",
       "                        <td id=\"T_71fa3_row0_col10\" class=\"data row0 col10\" >1</td>\n",
       "            </tr>\n",
       "    </tbody></table>"
      ],
      "text/plain": [
       "<pandas.io.formats.style.Styler at 0x7fa051dc7b50>"
      ]
     },
     "execution_count": 5,
     "metadata": {},
     "output_type": "execute_result"
    }
   ],
   "source": [
    "# Remove waters\n",
    "protein = msm.remove_solvent(protein)\n",
    "msm.info(protein)"
   ]
  },
  {
   "cell_type": "code",
   "execution_count": 6,
   "id": "4dbcd367-59b1-4894-a798-9dbd92324b2a",
   "metadata": {},
   "outputs": [
    {
     "name": "stdout",
     "output_type": "stream",
     "text": [
      "Number of H atoms after protonation: 6160\n"
     ]
    }
   ],
   "source": [
    "# Protonate the molecule\n",
    "protein = msm.add_missing_hydrogens(protein)\n",
    "n_Hs = msm.get(protein, selection='atom_type==\"H\"', n_atoms=True)\n",
    "print('Number of H atoms after protonation: {}'.format(n_Hs))"
   ]
  },
  {
   "cell_type": "code",
   "execution_count": 7,
   "id": "3cd4f80d-00e2-42ea-85bd-714219b27dd0",
   "metadata": {},
   "outputs": [
    {
     "name": "stdout",
     "output_type": "stream",
     "text": [
      "Protein has 806 aminoacids\n"
     ]
    },
    {
     "data": {
      "text/html": [
       "<div>\n",
       "<style scoped>\n",
       "    .dataframe tbody tr th:only-of-type {\n",
       "        vertical-align: middle;\n",
       "    }\n",
       "\n",
       "    .dataframe tbody tr th {\n",
       "        vertical-align: top;\n",
       "    }\n",
       "\n",
       "    .dataframe thead th {\n",
       "        text-align: right;\n",
       "    }\n",
       "</style>\n",
       "<table border=\"1\" class=\"dataframe\">\n",
       "  <thead>\n",
       "    <tr style=\"text-align: right;\">\n",
       "      <th></th>\n",
       "      <th>Aminoacid</th>\n",
       "    </tr>\n",
       "  </thead>\n",
       "  <tbody>\n",
       "    <tr>\n",
       "      <th>0</th>\n",
       "      <td>ASN</td>\n",
       "    </tr>\n",
       "    <tr>\n",
       "      <th>1</th>\n",
       "      <td>PRO</td>\n",
       "    </tr>\n",
       "    <tr>\n",
       "      <th>2</th>\n",
       "      <td>VAL</td>\n",
       "    </tr>\n",
       "    <tr>\n",
       "      <th>3</th>\n",
       "      <td>GLU</td>\n",
       "    </tr>\n",
       "    <tr>\n",
       "      <th>4</th>\n",
       "      <td>ARG</td>\n",
       "    </tr>\n",
       "    <tr>\n",
       "      <th>5</th>\n",
       "      <td>TYR</td>\n",
       "    </tr>\n",
       "    <tr>\n",
       "      <th>6</th>\n",
       "      <td>VAL</td>\n",
       "    </tr>\n",
       "    <tr>\n",
       "      <th>7</th>\n",
       "      <td>ASP</td>\n",
       "    </tr>\n",
       "    <tr>\n",
       "      <th>8</th>\n",
       "      <td>GLU</td>\n",
       "    </tr>\n",
       "    <tr>\n",
       "      <th>9</th>\n",
       "      <td>VAL</td>\n",
       "    </tr>\n",
       "  </tbody>\n",
       "</table>\n",
       "</div>"
      ],
      "text/plain": [
       "  Aminoacid\n",
       "0       ASN\n",
       "1       PRO\n",
       "2       VAL\n",
       "3       GLU\n",
       "4       ARG\n",
       "5       TYR\n",
       "6       VAL\n",
       "7       ASP\n",
       "8       GLU\n",
       "9       VAL"
      ]
     },
     "execution_count": 7,
     "metadata": {},
     "output_type": "execute_result"
    }
   ],
   "source": [
    "# Sequence of aminoacids with index\n",
    "aa, ind = msm.get(protein, target=\"group\", group_name=True, group_index=True)\n",
    "aa_chain = pd.DataFrame(data=aa, index=ind, columns=[\"Aminoacid\"])\n",
    "print(\"Protein has {} aminoacids\".format(aa_chain.shape[0]))\n",
    "aa_chain.head(10)"
   ]
  },
  {
   "cell_type": "code",
   "execution_count": 10,
   "id": "d6c58943-77d4-40d7-b24f-3984555f8874",
   "metadata": {},
   "outputs": [
    {
     "name": "stdout",
     "output_type": "stream",
     "text": [
      "Number of atoms with name CA: 804\n"
     ]
    }
   ],
   "source": [
    "# Atoms with name CA\n",
    "print(\"Number of atoms with name CA: {}\".format(msm.select(protein, target=\"atom\", selection='atom_name==\"CA\"').shape[0]))"
   ]
  },
  {
   "cell_type": "code",
   "execution_count": 11,
   "id": "ea84bfd2-f350-4e5c-b4ab-63ab37d726fc",
   "metadata": {},
   "outputs": [
    {
     "data": {
      "text/plain": [
       "array([  2,   6,   9,  13,  15,  16,  32,  55,  66,  80,  84, 124, 127,\n",
       "       138, 144, 167, 208, 209, 221, 229, 231, 232, 253, 269, 273, 284,\n",
       "       303, 307, 308, 312, 383, 385, 399, 400, 410, 415, 431, 435, 477,\n",
       "       480, 483, 489, 497, 501, 513, 517, 534, 535, 540, 542, 576, 585,\n",
       "       601, 606, 623, 665, 689, 690, 693, 699, 702, 703, 734, 735, 749,\n",
       "       778])"
      ]
     },
     "execution_count": 11,
     "metadata": {},
     "output_type": "execute_result"
    }
   ],
   "source": [
    "# Indices of VAL\n",
    "msm.get(protein, target=\"group\", selection=\"group_name == 'VAL'\", index=True)"
   ]
  },
  {
   "cell_type": "code",
   "execution_count": 12,
   "id": "cb2404a4-7073-431b-bc3f-092a36adb340",
   "metadata": {},
   "outputs": [
    {
     "data": {
      "text/html": [
       "<style  type=\"text/css\" >\n",
       "</style><table id=\"T_a6f9d_\" ><thead>    <tr>        <th class=\"col_heading level0 col0\" >index</th>        <th class=\"col_heading level0 col1\" >id</th>        <th class=\"col_heading level0 col2\" >name</th>        <th class=\"col_heading level0 col3\" >type</th>        <th class=\"col_heading level0 col4\" >n atoms</th>        <th class=\"col_heading level0 col5\" >component index</th>        <th class=\"col_heading level0 col6\" >chain index</th>        <th class=\"col_heading level0 col7\" >molecule index</th>        <th class=\"col_heading level0 col8\" >molecule type</th>        <th class=\"col_heading level0 col9\" >entity index</th>        <th class=\"col_heading level0 col10\" >entity name</th>    </tr></thead><tbody>\n",
       "                <tr>\n",
       "                                <td id=\"T_a6f9d_row0_col0\" class=\"data row0 col0\" >2</td>\n",
       "                        <td id=\"T_a6f9d_row0_col1\" class=\"data row0 col1\" >3</td>\n",
       "                        <td id=\"T_a6f9d_row0_col2\" class=\"data row0 col2\" >VAL</td>\n",
       "                        <td id=\"T_a6f9d_row0_col3\" class=\"data row0 col3\" >aminoacid</td>\n",
       "                        <td id=\"T_a6f9d_row0_col4\" class=\"data row0 col4\" >16</td>\n",
       "                        <td id=\"T_a6f9d_row0_col5\" class=\"data row0 col5\" >0</td>\n",
       "                        <td id=\"T_a6f9d_row0_col6\" class=\"data row0 col6\" >0</td>\n",
       "                        <td id=\"T_a6f9d_row0_col7\" class=\"data row0 col7\" >0</td>\n",
       "                        <td id=\"T_a6f9d_row0_col8\" class=\"data row0 col8\" >protein</td>\n",
       "                        <td id=\"T_a6f9d_row0_col9\" class=\"data row0 col9\" >0</td>\n",
       "                        <td id=\"T_a6f9d_row0_col10\" class=\"data row0 col10\" >Protein_0</td>\n",
       "            </tr>\n",
       "            <tr>\n",
       "                                <td id=\"T_a6f9d_row1_col0\" class=\"data row1 col0\" >6</td>\n",
       "                        <td id=\"T_a6f9d_row1_col1\" class=\"data row1 col1\" >7</td>\n",
       "                        <td id=\"T_a6f9d_row1_col2\" class=\"data row1 col2\" >VAL</td>\n",
       "                        <td id=\"T_a6f9d_row1_col3\" class=\"data row1 col3\" >aminoacid</td>\n",
       "                        <td id=\"T_a6f9d_row1_col4\" class=\"data row1 col4\" >16</td>\n",
       "                        <td id=\"T_a6f9d_row1_col5\" class=\"data row1 col5\" >0</td>\n",
       "                        <td id=\"T_a6f9d_row1_col6\" class=\"data row1 col6\" >0</td>\n",
       "                        <td id=\"T_a6f9d_row1_col7\" class=\"data row1 col7\" >0</td>\n",
       "                        <td id=\"T_a6f9d_row1_col8\" class=\"data row1 col8\" >protein</td>\n",
       "                        <td id=\"T_a6f9d_row1_col9\" class=\"data row1 col9\" >0</td>\n",
       "                        <td id=\"T_a6f9d_row1_col10\" class=\"data row1 col10\" >Protein_0</td>\n",
       "            </tr>\n",
       "            <tr>\n",
       "                                <td id=\"T_a6f9d_row2_col0\" class=\"data row2 col0\" >9</td>\n",
       "                        <td id=\"T_a6f9d_row2_col1\" class=\"data row2 col1\" >10</td>\n",
       "                        <td id=\"T_a6f9d_row2_col2\" class=\"data row2 col2\" >VAL</td>\n",
       "                        <td id=\"T_a6f9d_row2_col3\" class=\"data row2 col3\" >aminoacid</td>\n",
       "                        <td id=\"T_a6f9d_row2_col4\" class=\"data row2 col4\" >16</td>\n",
       "                        <td id=\"T_a6f9d_row2_col5\" class=\"data row2 col5\" >0</td>\n",
       "                        <td id=\"T_a6f9d_row2_col6\" class=\"data row2 col6\" >0</td>\n",
       "                        <td id=\"T_a6f9d_row2_col7\" class=\"data row2 col7\" >0</td>\n",
       "                        <td id=\"T_a6f9d_row2_col8\" class=\"data row2 col8\" >protein</td>\n",
       "                        <td id=\"T_a6f9d_row2_col9\" class=\"data row2 col9\" >0</td>\n",
       "                        <td id=\"T_a6f9d_row2_col10\" class=\"data row2 col10\" >Protein_0</td>\n",
       "            </tr>\n",
       "    </tbody></table>"
      ],
      "text/plain": [
       "<pandas.io.formats.style.Styler at 0x7fc6c0d95610>"
      ]
     },
     "execution_count": 12,
     "metadata": {},
     "output_type": "execute_result"
    }
   ],
   "source": [
    "msm.info(protein, target=\"group\", indices=[2,6,9])"
   ]
  },
  {
   "cell_type": "code",
   "execution_count": 13,
   "id": "6e07ab78-4488-495c-bd40-d9511f3241e9",
   "metadata": {},
   "outputs": [
    {
     "data": {
      "text/html": [
       "<table><tbody><tr><th>Magnitude</th><td style='text-align:left;'><pre>[[[4.269899845123291 1.370300054550171 8.995699882507324]<br>  [4.51170015335083 1.8454999923706055 9.371600151062012]<br>  [4.763500213623047 1.8478000164031982 9.819000244140625]<br>  [3.8684000968933105 2.1089000701904297 9.942500114440918]<br>  [3.647700071334839 2.69320011138916 10.031800270080566]<br>  [3.4795000553131104 2.9827001094818115 10.209400177001953]<br>  [1.9955999851226807 4.338799953460693 11.156800270080566]<br>  [3.674799919128418 4.0289998054504395 9.769800186157227]<br>  [3.6572999954223633 1.6894999742507935 11.240300178527832]<br>  [5.606400012969971 0.2766000032424927 13.416600227355957]<br>  [6.379799842834473 -0.11949999630451202 14.22700023651123]<br>  [5.735799789428711 0.5640000104904175 12.267800331115723]<br>  [6.48829984664917 0.2919999957084656 12.894800186157227]<br>  [6.285200119018555 -0.6345000267028809 12.459799766540527]<br>  [4.373799800872803 -0.8439000248908997 12.6983003616333]<br>  [5.349699974060059 -0.6381999850273132 11.996199607849121]<br>  [3.237799882888794 0.38040000200271606 13.294400215148926]<br>  [2.929800033569336 0.16920000314712524 13.223299980163574]<br>  [6.063399791717529 -0.9821000099182129 12.80150032043457]<br>  [6.6407999992370605 0.006099999882280827 13.453399658203125]<br>  [6.124499797821045 0.1720999926328659 13.13070011138916]<br>  [5.855000019073486 0.4296000003814697 13.066900253295898]<br>  [3.722100019454956 2.345400094985962 13.474900245666504]<br>  [3.5613999366760254 3.031599998474121 14.18019962310791]<br>  [3.7816998958587646 2.8901000022888184 13.528900146484375]<br>  [3.897200107574463 4.664999961853027 12.763999938964844]<br>  [0.5583000183105469 3.205199956893921 12.027799606323242]<br>  [1.280400037765503 2.4384000301361084 11.715299606323242]<br>  [1.3424999713897705 2.095400094985962 11.565400123596191]<br>  [1.5598000288009644 1.5920000076293945 11.235699653625488]<br>  [0.8447999954223633 1.988800048828125 12.463399887084961]<br>  [0.7224000096321106 2.521899938583374 12.805299758911133]<br>  [1.5116000175476074 2.661799907684326 12.771200180053711]<br>  [1.746000051498413 2.3819000720977783 12.666099548339844]<br>  [3.1328999996185303 1.8717000484466553 14.34000015258789]<br>  [3.1563000679016113 0.9591000080108643 14.376500129699707]<br>  [1.81659996509552 2.428999900817871 14.175200462341309]<br>  [1.9757000207901 1.9729000329971313 15.14210033416748]<br>  [1.3509000539779663 1.653499960899353 11.938199996948242]<br>  [1.9250999689102173 1.0536999702453613 11.979299545288086]<br>  [2.200000047683716 0.2493000030517578 11.98449993133545]<br>  [1.462499976158142 0.2888999879360199 13.3149995803833]<br>  [1.711899995803833 2.251699924468994 13.157400131225586]<br>  [1.9275000095367432 3.4202001094818115 13.284299850463867]<br>  [0.4194999933242798 3.359999895095825 13.781599998474121]<br>  [0.5860000252723694 2.1993000507354736 13.117300033569336]<br>  [0.9603000283241272 -0.19059999287128448 13.989999771118164]<br>  [1.226699948310852 0.0632999986410141 14.086600303649902]<br>  [6.690299987792969 0.18459999561309814 9.848600387573242]<br>  [6.6869001388549805 0.559499979019165 10.361900329589844]<br>  [2.9112000465393066 1.7625000476837158 11.27180004119873]<br>  [2.611999988555908 2.923099994659424 11.631999969482422]<br>  [2.447700023651123 3.41129994392395 13.57509994506836]<br>  [2.444000005722046 4.406199932098389 13.109999656677246]<br>  [3.7002999782562256 4.2418999671936035 11.924200057983398]<br>  [2.1451001167297363 5.2434000968933105 12.169500350952148]<br>  [2.452699899673462 5.022200107574463 11.41510009765625]<br>  [2.1846001148223877 5.229499816894531 11.589300155639648]<br>  [1.423799991607666 4.8460001945495605 12.083499908447266]<br>  [1.986199975013733 4.331999778747559 11.697999954223633]<br>  [2.877000093460083 4.280799865722656 11.220399856567383]<br>  [3.2460999488830566 4.347700119018555 11.28030014038086]<br>  [1.2374000549316406 5.513800144195557 12.899399757385254]<br>  [0.9505000114440918 5.3495001792907715 13.084799766540527]<br>  [2.8678998947143555 3.6098999977111816 11.92710018157959]<br>  [4.474800109863281 0.44290000200271606 8.996100425720215]]]</pre></td></tr><tr><th>Units</th><td style='text-align:left;'>nanometer</td></tr></tbody></table>"
      ],
      "text/latex": [
       "$arr[,0,:,:] = \\begin{pmatrix}4.269899845123291 & 1.370300054550171 & 8.995699882507324\\\\ \n",
       "4.51170015335083 & 1.8454999923706055 & 9.371600151062012\\\\ \n",
       "4.763500213623047 & 1.8478000164031982 & 9.819000244140625\\\\ \n",
       "3.8684000968933105 & 2.1089000701904297 & 9.942500114440918\\\\ \n",
       "3.647700071334839 & 2.69320011138916 & 10.031800270080566\\\\ \n",
       "3.4795000553131104 & 2.9827001094818115 & 10.209400177001953\\\\ \n",
       "1.9955999851226807 & 4.338799953460693 & 11.156800270080566\\\\ \n",
       "3.674799919128418 & 4.0289998054504395 & 9.769800186157227\\\\ \n",
       "3.6572999954223633 & 1.6894999742507935 & 11.240300178527832\\\\ \n",
       "5.606400012969971 & 0.2766000032424927 & 13.416600227355957\\\\ \n",
       "6.379799842834473 & -0.11949999630451202 & 14.22700023651123\\\\ \n",
       "5.735799789428711 & 0.5640000104904175 & 12.267800331115723\\\\ \n",
       "6.48829984664917 & 0.2919999957084656 & 12.894800186157227\\\\ \n",
       "6.285200119018555 & -0.6345000267028809 & 12.459799766540527\\\\ \n",
       "4.373799800872803 & -0.8439000248908997 & 12.6983003616333\\\\ \n",
       "5.349699974060059 & -0.6381999850273132 & 11.996199607849121\\\\ \n",
       "3.237799882888794 & 0.38040000200271606 & 13.294400215148926\\\\ \n",
       "2.929800033569336 & 0.16920000314712524 & 13.223299980163574\\\\ \n",
       "6.063399791717529 & -0.9821000099182129 & 12.80150032043457\\\\ \n",
       "6.6407999992370605 & 0.006099999882280827 & 13.453399658203125\\\\ \n",
       "6.124499797821045 & 0.1720999926328659 & 13.13070011138916\\\\ \n",
       "5.855000019073486 & 0.4296000003814697 & 13.066900253295898\\\\ \n",
       "3.722100019454956 & 2.345400094985962 & 13.474900245666504\\\\ \n",
       "3.5613999366760254 & 3.031599998474121 & 14.18019962310791\\\\ \n",
       "3.7816998958587646 & 2.8901000022888184 & 13.528900146484375\\\\ \n",
       "3.897200107574463 & 4.664999961853027 & 12.763999938964844\\\\ \n",
       "0.5583000183105469 & 3.205199956893921 & 12.027799606323242\\\\ \n",
       "1.280400037765503 & 2.4384000301361084 & 11.715299606323242\\\\ \n",
       "1.3424999713897705 & 2.095400094985962 & 11.565400123596191\\\\ \n",
       "1.5598000288009644 & 1.5920000076293945 & 11.235699653625488\\\\ \n",
       "0.8447999954223633 & 1.988800048828125 & 12.463399887084961\\\\ \n",
       "0.7224000096321106 & 2.521899938583374 & 12.805299758911133\\\\ \n",
       "1.5116000175476074 & 2.661799907684326 & 12.771200180053711\\\\ \n",
       "1.746000051498413 & 2.3819000720977783 & 12.666099548339844\\\\ \n",
       "3.1328999996185303 & 1.8717000484466553 & 14.34000015258789\\\\ \n",
       "3.1563000679016113 & 0.9591000080108643 & 14.376500129699707\\\\ \n",
       "1.81659996509552 & 2.428999900817871 & 14.175200462341309\\\\ \n",
       "1.9757000207901 & 1.9729000329971313 & 15.14210033416748\\\\ \n",
       "1.3509000539779663 & 1.653499960899353 & 11.938199996948242\\\\ \n",
       "1.9250999689102173 & 1.0536999702453613 & 11.979299545288086\\\\ \n",
       "2.200000047683716 & 0.2493000030517578 & 11.98449993133545\\\\ \n",
       "1.462499976158142 & 0.2888999879360199 & 13.3149995803833\\\\ \n",
       "1.711899995803833 & 2.251699924468994 & 13.157400131225586\\\\ \n",
       "1.9275000095367432 & 3.4202001094818115 & 13.284299850463867\\\\ \n",
       "0.4194999933242798 & 3.359999895095825 & 13.781599998474121\\\\ \n",
       "0.5860000252723694 & 2.1993000507354736 & 13.117300033569336\\\\ \n",
       "0.9603000283241272 & -0.19059999287128448 & 13.989999771118164\\\\ \n",
       "1.226699948310852 & 0.0632999986410141 & 14.086600303649902\\\\ \n",
       "6.690299987792969 & 0.18459999561309814 & 9.848600387573242\\\\ \n",
       "6.6869001388549805 & 0.559499979019165 & 10.361900329589844\\\\ \n",
       "2.9112000465393066 & 1.7625000476837158 & 11.27180004119873\\\\ \n",
       "2.611999988555908 & 2.923099994659424 & 11.631999969482422\\\\ \n",
       "2.447700023651123 & 3.41129994392395 & 13.57509994506836\\\\ \n",
       "2.444000005722046 & 4.406199932098389 & 13.109999656677246\\\\ \n",
       "3.7002999782562256 & 4.2418999671936035 & 11.924200057983398\\\\ \n",
       "2.1451001167297363 & 5.2434000968933105 & 12.169500350952148\\\\ \n",
       "2.452699899673462 & 5.022200107574463 & 11.41510009765625\\\\ \n",
       "2.1846001148223877 & 5.229499816894531 & 11.589300155639648\\\\ \n",
       "1.423799991607666 & 4.8460001945495605 & 12.083499908447266\\\\ \n",
       "1.986199975013733 & 4.331999778747559 & 11.697999954223633\\\\ \n",
       "2.877000093460083 & 4.280799865722656 & 11.220399856567383\\\\ \n",
       "3.2460999488830566 & 4.347700119018555 & 11.28030014038086\\\\ \n",
       "1.2374000549316406 & 5.513800144195557 & 12.899399757385254\\\\ \n",
       "0.9505000114440918 & 5.3495001792907715 & 13.084799766540527\\\\ \n",
       "2.8678998947143555 & 3.6098999977111816 & 11.92710018157959\\\\ \n",
       "4.474800109863281 & 0.44290000200271606 & 8.996100425720215\\end{pmatrix}\\ \\mathrm{nanometer}$"
      ],
      "text/plain": [
       "array([[[ 4.26989985e+00,  1.37030005e+00,  8.99569988e+00],\n",
       "        [ 4.51170015e+00,  1.84549999e+00,  9.37160015e+00],\n",
       "        [ 4.76350021e+00,  1.84780002e+00,  9.81900024e+00],\n",
       "        [ 3.86840010e+00,  2.10890007e+00,  9.94250011e+00],\n",
       "        [ 3.64770007e+00,  2.69320011e+00,  1.00318003e+01],\n",
       "        [ 3.47950006e+00,  2.98270011e+00,  1.02094002e+01],\n",
       "        [ 1.99559999e+00,  4.33879995e+00,  1.11568003e+01],\n",
       "        [ 3.67479992e+00,  4.02899981e+00,  9.76980019e+00],\n",
       "        [ 3.65730000e+00,  1.68949997e+00,  1.12403002e+01],\n",
       "        [ 5.60640001e+00,  2.76600003e-01,  1.34166002e+01],\n",
       "        [ 6.37979984e+00, -1.19499996e-01,  1.42270002e+01],\n",
       "        [ 5.73579979e+00,  5.64000010e-01,  1.22678003e+01],\n",
       "        [ 6.48829985e+00,  2.91999996e-01,  1.28948002e+01],\n",
       "        [ 6.28520012e+00, -6.34500027e-01,  1.24597998e+01],\n",
       "        [ 4.37379980e+00, -8.43900025e-01,  1.26983004e+01],\n",
       "        [ 5.34969997e+00, -6.38199985e-01,  1.19961996e+01],\n",
       "        [ 3.23779988e+00,  3.80400002e-01,  1.32944002e+01],\n",
       "        [ 2.92980003e+00,  1.69200003e-01,  1.32233000e+01],\n",
       "        [ 6.06339979e+00, -9.82100010e-01,  1.28015003e+01],\n",
       "        [ 6.64080000e+00,  6.09999988e-03,  1.34533997e+01],\n",
       "        [ 6.12449980e+00,  1.72099993e-01,  1.31307001e+01],\n",
       "        [ 5.85500002e+00,  4.29600000e-01,  1.30669003e+01],\n",
       "        [ 3.72210002e+00,  2.34540009e+00,  1.34749002e+01],\n",
       "        [ 3.56139994e+00,  3.03160000e+00,  1.41801996e+01],\n",
       "        [ 3.78169990e+00,  2.89010000e+00,  1.35289001e+01],\n",
       "        [ 3.89720011e+00,  4.66499996e+00,  1.27639999e+01],\n",
       "        [ 5.58300018e-01,  3.20519996e+00,  1.20277996e+01],\n",
       "        [ 1.28040004e+00,  2.43840003e+00,  1.17152996e+01],\n",
       "        [ 1.34249997e+00,  2.09540009e+00,  1.15654001e+01],\n",
       "        [ 1.55980003e+00,  1.59200001e+00,  1.12356997e+01],\n",
       "        [ 8.44799995e-01,  1.98880005e+00,  1.24633999e+01],\n",
       "        [ 7.22400010e-01,  2.52189994e+00,  1.28052998e+01],\n",
       "        [ 1.51160002e+00,  2.66179991e+00,  1.27712002e+01],\n",
       "        [ 1.74600005e+00,  2.38190007e+00,  1.26660995e+01],\n",
       "        [ 3.13290000e+00,  1.87170005e+00,  1.43400002e+01],\n",
       "        [ 3.15630007e+00,  9.59100008e-01,  1.43765001e+01],\n",
       "        [ 1.81659997e+00,  2.42899990e+00,  1.41752005e+01],\n",
       "        [ 1.97570002e+00,  1.97290003e+00,  1.51421003e+01],\n",
       "        [ 1.35090005e+00,  1.65349996e+00,  1.19382000e+01],\n",
       "        [ 1.92509997e+00,  1.05369997e+00,  1.19792995e+01],\n",
       "        [ 2.20000005e+00,  2.49300003e-01,  1.19844999e+01],\n",
       "        [ 1.46249998e+00,  2.88899988e-01,  1.33149996e+01],\n",
       "        [ 1.71190000e+00,  2.25169992e+00,  1.31574001e+01],\n",
       "        [ 1.92750001e+00,  3.42020011e+00,  1.32842999e+01],\n",
       "        [ 4.19499993e-01,  3.35999990e+00,  1.37816000e+01],\n",
       "        [ 5.86000025e-01,  2.19930005e+00,  1.31173000e+01],\n",
       "        [ 9.60300028e-01, -1.90599993e-01,  1.39899998e+01],\n",
       "        [ 1.22669995e+00,  6.32999986e-02,  1.40866003e+01],\n",
       "        [ 6.69029999e+00,  1.84599996e-01,  9.84860039e+00],\n",
       "        [ 6.68690014e+00,  5.59499979e-01,  1.03619003e+01],\n",
       "        [ 2.91120005e+00,  1.76250005e+00,  1.12718000e+01],\n",
       "        [ 2.61199999e+00,  2.92309999e+00,  1.16320000e+01],\n",
       "        [ 2.44770002e+00,  3.41129994e+00,  1.35750999e+01],\n",
       "        [ 2.44400001e+00,  4.40619993e+00,  1.31099997e+01],\n",
       "        [ 3.70029998e+00,  4.24189997e+00,  1.19242001e+01],\n",
       "        [ 2.14510012e+00,  5.24340010e+00,  1.21695004e+01],\n",
       "        [ 2.45269990e+00,  5.02220011e+00,  1.14151001e+01],\n",
       "        [ 2.18460011e+00,  5.22949982e+00,  1.15893002e+01],\n",
       "        [ 1.42379999e+00,  4.84600019e+00,  1.20834999e+01],\n",
       "        [ 1.98619998e+00,  4.33199978e+00,  1.16980000e+01],\n",
       "        [ 2.87700009e+00,  4.28079987e+00,  1.12203999e+01],\n",
       "        [ 3.24609995e+00,  4.34770012e+00,  1.12803001e+01],\n",
       "        [ 1.23740005e+00,  5.51380014e+00,  1.28993998e+01],\n",
       "        [ 9.50500011e-01,  5.34950018e+00,  1.30847998e+01],\n",
       "        [ 2.86789989e+00,  3.60990000e+00,  1.19271002e+01],\n",
       "        [ 4.47480011e+00,  4.42900002e-01,  8.99610043e+00]]]) <Unit('nanometer')>"
      ]
     },
     "execution_count": 13,
     "metadata": {},
     "output_type": "execute_result"
    }
   ],
   "source": [
    "# Coordinates of the atoms with name \"CA\" from those groups named \"VAL\"\n",
    "msm.get(protein, target=\"atom\", selection='atom_name==\"CA\" & group_name==\"VAL\"', coordinates=True)"
   ]
  },
  {
   "cell_type": "code",
   "execution_count": 14,
   "id": "255d159d-2566-408c-8e46-ef2fab19a542",
   "metadata": {},
   "outputs": [
    {
     "data": {
      "text/html": [
       "<style  type=\"text/css\" >\n",
       "</style><table id=\"T_efbcb_\" ><thead>    <tr>        <th class=\"col_heading level0 col0\" >index</th>        <th class=\"col_heading level0 col1\" >n atoms</th>        <th class=\"col_heading level0 col2\" >n groups</th>        <th class=\"col_heading level0 col3\" >chain index</th>        <th class=\"col_heading level0 col4\" >molecule index</th>        <th class=\"col_heading level0 col5\" >molecule type</th>        <th class=\"col_heading level0 col6\" >entity index</th>        <th class=\"col_heading level0 col7\" >entity name</th>    </tr></thead><tbody>\n",
       "                <tr>\n",
       "                                <td id=\"T_efbcb_row0_col0\" class=\"data row0 col0\" >0</td>\n",
       "                        <td id=\"T_efbcb_row0_col1\" class=\"data row0 col1\" >4489</td>\n",
       "                        <td id=\"T_efbcb_row0_col2\" class=\"data row0 col2\" >285</td>\n",
       "                        <td id=\"T_efbcb_row0_col3\" class=\"data row0 col3\" >0</td>\n",
       "                        <td id=\"T_efbcb_row0_col4\" class=\"data row0 col4\" >0</td>\n",
       "                        <td id=\"T_efbcb_row0_col5\" class=\"data row0 col5\" >protein</td>\n",
       "                        <td id=\"T_efbcb_row0_col6\" class=\"data row0 col6\" >0</td>\n",
       "                        <td id=\"T_efbcb_row0_col7\" class=\"data row0 col7\" >Protein_0</td>\n",
       "            </tr>\n",
       "            <tr>\n",
       "                                <td id=\"T_efbcb_row1_col0\" class=\"data row1 col0\" >1</td>\n",
       "                        <td id=\"T_efbcb_row1_col1\" class=\"data row1 col1\" >7571</td>\n",
       "                        <td id=\"T_efbcb_row1_col2\" class=\"data row1 col2\" >490</td>\n",
       "                        <td id=\"T_efbcb_row1_col3\" class=\"data row1 col3\" >1</td>\n",
       "                        <td id=\"T_efbcb_row1_col4\" class=\"data row1 col4\" >1</td>\n",
       "                        <td id=\"T_efbcb_row1_col5\" class=\"data row1 col5\" >protein</td>\n",
       "                        <td id=\"T_efbcb_row1_col6\" class=\"data row1 col6\" >1</td>\n",
       "                        <td id=\"T_efbcb_row1_col7\" class=\"data row1 col7\" >Protein_1</td>\n",
       "            </tr>\n",
       "            <tr>\n",
       "                                <td id=\"T_efbcb_row2_col0\" class=\"data row2 col0\" >2</td>\n",
       "                        <td id=\"T_efbcb_row2_col1\" class=\"data row2 col1\" >436</td>\n",
       "                        <td id=\"T_efbcb_row2_col2\" class=\"data row2 col2\" >29</td>\n",
       "                        <td id=\"T_efbcb_row2_col3\" class=\"data row2 col3\" >3</td>\n",
       "                        <td id=\"T_efbcb_row2_col4\" class=\"data row2 col4\" >2</td>\n",
       "                        <td id=\"T_efbcb_row2_col5\" class=\"data row2 col5\" >peptide</td>\n",
       "                        <td id=\"T_efbcb_row2_col6\" class=\"data row2 col6\" >2</td>\n",
       "                        <td id=\"T_efbcb_row2_col7\" class=\"data row2 col7\" >Peptide_0</td>\n",
       "            </tr>\n",
       "            <tr>\n",
       "                                <td id=\"T_efbcb_row3_col0\" class=\"data row3 col0\" >3</td>\n",
       "                        <td id=\"T_efbcb_row3_col1\" class=\"data row3 col1\" >27</td>\n",
       "                        <td id=\"T_efbcb_row3_col2\" class=\"data row3 col2\" >1</td>\n",
       "                        <td id=\"T_efbcb_row3_col3\" class=\"data row3 col3\" >4</td>\n",
       "                        <td id=\"T_efbcb_row3_col4\" class=\"data row3 col4\" >3</td>\n",
       "                        <td id=\"T_efbcb_row3_col5\" class=\"data row3 col5\" >small molecule</td>\n",
       "                        <td id=\"T_efbcb_row3_col6\" class=\"data row3 col6\" >3</td>\n",
       "                        <td id=\"T_efbcb_row3_col7\" class=\"data row3 col7\" >W11</td>\n",
       "            </tr>\n",
       "            <tr>\n",
       "                                <td id=\"T_efbcb_row4_col0\" class=\"data row4 col0\" >4</td>\n",
       "                        <td id=\"T_efbcb_row4_col1\" class=\"data row4 col1\" >15</td>\n",
       "                        <td id=\"T_efbcb_row4_col2\" class=\"data row4 col2\" >1</td>\n",
       "                        <td id=\"T_efbcb_row4_col3\" class=\"data row4 col3\" >5</td>\n",
       "                        <td id=\"T_efbcb_row4_col4\" class=\"data row4 col4\" >4</td>\n",
       "                        <td id=\"T_efbcb_row4_col5\" class=\"data row4 col5\" >small molecule</td>\n",
       "                        <td id=\"T_efbcb_row4_col6\" class=\"data row4 col6\" >4</td>\n",
       "                        <td id=\"T_efbcb_row4_col7\" class=\"data row4 col7\" >MYR</td>\n",
       "            </tr>\n",
       "    </tbody></table>"
      ],
      "text/plain": [
       "<pandas.io.formats.style.Styler at 0x7fc6c0e07fd0>"
      ]
     },
     "execution_count": 14,
     "metadata": {},
     "output_type": "execute_result"
    }
   ],
   "source": [
    "msm.info(protein, target='component')"
   ]
  },
  {
   "cell_type": "code",
   "execution_count": 62,
   "id": "6d2fd0e9-16ec-40ed-b4a9-e2cff0bee57f",
   "metadata": {},
   "outputs": [
    {
     "data": {
      "application/vnd.jupyter.widget-view+json": {
       "model_id": "cfe75d3c9e3144d489a60b3695970b9e",
       "version_major": 2,
       "version_minor": 0
      },
      "text/plain": [
       "NGLWidget()"
      ]
     },
     "metadata": {},
     "output_type": "display_data"
    }
   ],
   "source": [
    "# Taking a look at the system\n",
    "\n",
    "view = msm.view(protein, viewer=\"NGLView\")\n",
    "view.add_ball_and_stick(w11_molecule, color=\"orange\")\n",
    "view"
   ]
  },
  {
   "cell_type": "code",
   "execution_count": null,
   "id": "20df06eb-7904-4f42-a4f6-1c954ddefc7d",
   "metadata": {},
   "outputs": [],
   "source": [
    "# View of the entity named \"W11\"\n",
    "w11_molecule = msm.select(protein, selection='component_index==3', to_syntaxis=\"NGLView\")\n",
    "w11_view = msm.view(w11_molecule, viewer=\"NGLView\")"
   ]
  },
  {
   "cell_type": "code",
   "execution_count": 44,
   "id": "b9959445-2b71-4042-a7c3-8104929ea8b1",
   "metadata": {},
   "outputs": [
    {
     "name": "stdout",
     "output_type": "stream",
     "text": [
      "Small molecule shape: (1, 27)\n",
      "\n",
      "Molecule number 0\n",
      "\n",
      "Shape: (285,)\n",
      "Min pairs: [97  0]\n",
      "Min distance: 0.5041120436060018 nanometer\n",
      "\n",
      "\n",
      "Molecule number 1\n",
      "\n",
      "Shape: (490,)\n",
      "Min pairs: [275   0]\n",
      "Min distance: 0.882876145000038 nanometer\n",
      "\n",
      "\n",
      "Molecule number 2\n",
      "\n",
      "Shape: (29,)\n",
      "Min pairs: [20  0]\n",
      "Min distance: 1.2653449156135292 nanometer\n",
      "\n",
      "\n"
     ]
    }
   ],
   "source": [
    "# Get the minimum distance between any atom of the small molecule named \"W11\" and any atom of the molecule with index 0. The same with the molecules indexed 1, and 2\n",
    "\n",
    "w11_atom_index = msm.get(protein, target='group', selection='component_index==3', atom_index=True)\n",
    "\n",
    "print(f\"Small molecule shape: {w11_atom_index.shape}\\n\")\n",
    "\n",
    "for i in range(3):\n",
    "    protein_atom_index = msm.get(protein, target='group', selection='component_index=={}'.format(i), atom_index=True)\n",
    "    min_pairs, min_distances = msm.minimum_distance(protein,\n",
    "                                                    groups_of_atoms=protein_atom_index,\n",
    "                                                    group_behavior='geometric_center',\n",
    "                                                    groups_of_atoms_2=w11_atom_index,\n",
    "                                                    group_behavior_2='geometric_center')\n",
    "    \n",
    "    print(f\"Molecule number {i}\\n\\nShape: {protein_atom_index.shape}\")\n",
    "    print(f\"Min pairs: {min_pairs[0]}\")\n",
    "    print(f\"Min distance: {min_distances[0]}\\n\\n\")"
   ]
  },
  {
   "cell_type": "code",
   "execution_count": 52,
   "id": "ddd6e6be-8edd-4826-8225-4435fddd3eda",
   "metadata": {},
   "outputs": [
    {
     "data": {
      "text/plain": [
       "(1, 285, 1)"
      ]
     },
     "execution_count": 52,
     "metadata": {},
     "output_type": "execute_result"
    }
   ],
   "source": [
    "# Get the distance matrix between the atoms of type \"C\" from the small molecule named \"W11\" and any atom named \"CA\" of molecule with index 0\n",
    "protein_atom_index = msm.get(protein, target='group', selection='component_index==0 & atom_name==\"CA\"', atom_index=True)\n",
    "w11_atom_index = msm.get(protein, target='group', selection='component_index==3 & atom_type==\"C\"', atom_index=True)\n",
    "\n",
    "neighbors, distances = msm.neighbors(protein,\n",
    "                                    groups_of_atoms=protein_atom_index,\n",
    "                                    group_behavior='geometric_center',\n",
    "                                    groups_of_atoms_2=w11_atom_index,\n",
    "                                    group_behavior_2='geometric_center',\n",
    "                                    num_neighbors=1)\n",
    "\n",
    "distances.shape"
   ]
  },
  {
   "cell_type": "code",
   "execution_count": 67,
   "id": "4b863109-0d85-45c0-a236-94c6c092a358",
   "metadata": {},
   "outputs": [
    {
     "data": {
      "text/plain": [
       "(1, 56)"
      ]
     },
     "execution_count": 67,
     "metadata": {},
     "output_type": "execute_result"
    }
   ],
   "source": [
    "# Get all phi and psi dihedral angles of the molecule type peptide\n",
    "covalent_chains = msm.covalent_dihedral_quartets(protein, dihedral_angle=\"phi-psi\", selection='molecule_type==\"peptide\"')\n",
    "dihedral_angles = msm.get_dihedral_angles(protein, quartets=covalent_chains)\n",
    "dihedral_angles.shape"
   ]
  },
  {
   "cell_type": "code",
   "execution_count": 8,
   "id": "a3191970-af05-41c7-9c30-23479fd6ebf2",
   "metadata": {},
   "outputs": [
    {
     "data": {
      "text/plain": [
       "array([[12506, 12507, 12509, 12510, 12511, 12512, 12506]])"
      ]
     },
     "execution_count": 8,
     "metadata": {},
     "output_type": "execute_result"
    }
   ],
   "source": [
    "# Get all covalent chains with the sequence of atoms with name \"CB1\"-\"CB2\"-\"CB3\"-\"CB4\"-\"CB5\"-\"CB6\"-\"CB1\"\n",
    "chain = [\"C1B\", \"C2B\", \"C3B\", \"C4B\", \"C5B\", \"C6B\", \"C1B\"]\n",
    "\n",
    "for j in range(len(chain)):\n",
    "    chain[j] = 'atom_name==\"{}\"'.format(chain[j])\n",
    "    \n",
    "msm.covalent_chains(protein, chain=chain)"
   ]
  },
  {
   "cell_type": "code",
   "execution_count": 9,
   "id": "756163c3-b784-4ed4-b1de-85981f0c76c0",
   "metadata": {},
   "outputs": [
    {
     "data": {
      "text/plain": [
       "array([12506])"
      ]
     },
     "execution_count": 9,
     "metadata": {},
     "output_type": "execute_result"
    }
   ],
   "source": [
    "msm.select(protein, target=\"atom\", selection='atom_name==\"C1B\"')"
   ]
  },
  {
   "cell_type": "code",
   "execution_count": 10,
   "id": "a55b9d77-f4f2-4028-a4df-f03a1470b765",
   "metadata": {},
   "outputs": [
    {
     "data": {
      "text/plain": [
       "array([[    4,     6,     4, ...,     4,     6,     4],\n",
       "       [    4,     6,     4, ...,     4,     8,     4],\n",
       "       [    4,     6,     4, ...,     4,     8,    11],\n",
       "       ...,\n",
       "       [12537, 12536, 12537, ..., 12535, 12536, 12537],\n",
       "       [12537, 12536, 12537, ..., 12537, 12536, 12535],\n",
       "       [12537, 12536, 12537, ..., 12537, 12536, 12537]])"
      ]
     },
     "execution_count": 10,
     "metadata": {},
     "output_type": "execute_result"
    }
   ],
   "source": [
    "# Get all covalent chains with 7 atoms type \"C\"\n",
    "chain = ['atom_type==\"C\"'] * 7\n",
    "msm.covalent_chains(protein, chain=chain)"
   ]
  }
 ],
 "metadata": {
  "kernelspec": {
   "display_name": "Python 3",
   "language": "python",
   "name": "python3"
  },
  "language_info": {
   "codemirror_mode": {
    "name": "ipython",
    "version": 3
   },
   "file_extension": ".py",
   "mimetype": "text/x-python",
   "name": "python",
   "nbconvert_exporter": "python",
   "pygments_lexer": "ipython3",
   "version": "3.7.10"
  }
 },
 "nbformat": 4,
 "nbformat_minor": 5
}
