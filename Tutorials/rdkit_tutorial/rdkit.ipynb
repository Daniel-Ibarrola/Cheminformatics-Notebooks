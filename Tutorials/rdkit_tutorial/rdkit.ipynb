{
 "cells": [
  {
   "cell_type": "markdown",
   "metadata": {},
   "source": [
    "### For the school on chemoinformatics (BIGCHEM project). Munich, 17-21 October, 2016.  \n",
    "Dr. Pavel Polishchuk"
   ]
  },
  {
   "cell_type": "markdown",
   "metadata": {},
   "source": [
    "## Basic of RDKit"
   ]
  },
  {
   "cell_type": "markdown",
   "metadata": {},
   "source": [
    "RDKit is a an open-source cross-platform chemoinformatics toolkit.  \n",
    "Written in C++, supports Python 2 and 3, Java and C#.  \n",
    "BSD license  \n",
    "\n",
    "2000-2006: Developed and used at Rational Discovery for building predictive models for ADME, Tox, biological activity  \n",
    "June 2006: Open-source (BSD license) release of software, Rational Discovery shuts down  \n",
    "to present: Open-source development continues, use within Novartis, contributions from Novartis back to open-source version  "
   ]
  },
  {
   "cell_type": "markdown",
   "metadata": {},
   "source": [
    "Detailed documentation with tutorials and examples are available on http://www.rdkit.org/docs/index.html  \n",
    "Recently new github repository was created to manage RDKit tutorials: https://github.com/rdkit/rdkit-tutorials  \n",
    "I highly recommend to subscribe on RDKit maillist https://sourceforge.net/p/rdkit/mailman/rdkit-discuss/"
   ]
  },
  {
   "cell_type": "markdown",
   "metadata": {},
   "source": [
    "## Reading and writing molecules"
   ]
  },
  {
   "cell_type": "markdown",
   "metadata": {},
   "source": [
    "RDKit supports various formats: SMILES, Mol, SDF, Mol2, PDB, FASTA, etc.  "
   ]
  },
  {
   "cell_type": "code",
   "execution_count": 1,
   "metadata": {
    "collapsed": false,
    "jupyter": {
     "outputs_hidden": false
    }
   },
   "outputs": [],
   "source": [
    "from rdkit import Chem"
   ]
  },
  {
   "cell_type": "code",
   "execution_count": 2,
   "metadata": {
    "collapsed": false,
    "jupyter": {
     "outputs_hidden": false
    }
   },
   "outputs": [],
   "source": [
    "from rdkit.Chem.Draw import IPythonConsole\n",
    "from rdkit.Chem import Draw\n",
    "IPythonConsole.ipython_useSVG=True"
   ]
  },
  {
   "cell_type": "markdown",
   "metadata": {},
   "source": [
    "### Reading\n",
    "In the case of successful reading the functions return mol object, otherwise `None`. The latter can be used to check whether reading was successful or not."
   ]
  },
  {
   "cell_type": "markdown",
   "metadata": {},
   "source": [
    "#### SMILES  \n",
    "Coordinates for 2D depiction are generated automatically."
   ]
  },
  {
   "cell_type": "code",
   "execution_count": 3,
   "metadata": {
    "tags": []
   },
   "outputs": [],
   "source": [
    "m = Chem.MolFromSmiles(\"c1ccccc1OC\")"
   ]
  },
  {
   "cell_type": "code",
   "execution_count": 4,
   "metadata": {
    "collapsed": false,
    "jupyter": {
     "outputs_hidden": false
    }
   },
   "outputs": [
    {
     "data": {
      "image/png": "[encoded data removed]",
      "image/svg+xml": [
       "<?xml version='1.0' encoding='iso-8859-1'?>\n",
       "<svg version='1.1' baseProfile='full'\n",
       "              xmlns='http://www.w3.org/2000/svg'\n",
       "                      xmlns:rdkit='http://www.rdkit.org/xml'\n",
       "                      xmlns:xlink='http://www.w3.org/1999/xlink'\n",
       "                  xml:space='preserve'\n",
       "width='450px' height='150px' viewBox='0 0 450 150'>\n",
       "<!-- END OF HEADER -->\n",
       "<rect style='opacity:1.0;fill:#FFFFFF;stroke:none' width='450' height='150' x='0' y='0'> </rect>\n",
       "<path class='bond-0 atom-0 atom-1' d='M 214.387,127.473 L 144.727,143.182' style='fill:none;fill-rule:evenodd;stroke:#000000;stroke-width:2.0px;stroke-linecap:butt;stroke-linejoin:miter;stroke-opacity:1' />\n",
       "<path class='bond-0 atom-0 atom-1' d='M 200.796,115.898 L 152.034,126.893' style='fill:none;fill-rule:evenodd;stroke:#000000;stroke-width:2.0px;stroke-linecap:butt;stroke-linejoin:miter;stroke-opacity:1' />\n",
       "<path class='bond-7 atom-5 atom-0' d='M 235.613,59.2915 L 214.387,127.473' style='fill:none;fill-rule:evenodd;stroke:#000000;stroke-width:2.0px;stroke-linecap:butt;stroke-linejoin:miter;stroke-opacity:1' />\n",
       "<path class='bond-1 atom-1 atom-2' d='M 144.727,143.182 L 96.2925,90.7085' style='fill:none;fill-rule:evenodd;stroke:#000000;stroke-width:2.0px;stroke-linecap:butt;stroke-linejoin:miter;stroke-opacity:1' />\n",
       "<path class='bond-2 atom-2 atom-3' d='M 96.2925,90.7085 L 117.519,22.5266' style='fill:none;fill-rule:evenodd;stroke:#000000;stroke-width:2.0px;stroke-linecap:butt;stroke-linejoin:miter;stroke-opacity:1' />\n",
       "<path class='bond-2 atom-2 atom-3' d='M 113.113,84.7264 L 127.971,36.9992' style='fill:none;fill-rule:evenodd;stroke:#000000;stroke-width:2.0px;stroke-linecap:butt;stroke-linejoin:miter;stroke-opacity:1' />\n",
       "<path class='bond-3 atom-3 atom-4' d='M 117.519,22.5266 L 187.179,6.81818' style='fill:none;fill-rule:evenodd;stroke:#000000;stroke-width:2.0px;stroke-linecap:butt;stroke-linejoin:miter;stroke-opacity:1' />\n",
       "<path class='bond-4 atom-4 atom-5' d='M 187.179,6.81818 L 235.613,59.2915' style='fill:none;fill-rule:evenodd;stroke:#000000;stroke-width:2.0px;stroke-linecap:butt;stroke-linejoin:miter;stroke-opacity:1' />\n",
       "<path class='bond-4 atom-4 atom-5' d='M 183.949,24.376 L 217.853,61.1073' style='fill:none;fill-rule:evenodd;stroke:#000000;stroke-width:2.0px;stroke-linecap:butt;stroke-linejoin:miter;stroke-opacity:1' />\n",
       "<path class='bond-5 atom-5 atom-6' d='M 235.613,59.2915 L 264.909,52.6853' style='fill:none;fill-rule:evenodd;stroke:#000000;stroke-width:2.0px;stroke-linecap:butt;stroke-linejoin:miter;stroke-opacity:1' />\n",
       "<path class='bond-5 atom-5 atom-6' d='M 264.909,52.6853 L 294.205,46.079' style='fill:none;fill-rule:evenodd;stroke:#FF0000;stroke-width:2.0px;stroke-linecap:butt;stroke-linejoin:miter;stroke-opacity:1' />\n",
       "<path class='bond-6 atom-6 atom-7' d='M 316.342,55.5746 L 335.025,75.8155' style='fill:none;fill-rule:evenodd;stroke:#FF0000;stroke-width:2.0px;stroke-linecap:butt;stroke-linejoin:miter;stroke-opacity:1' />\n",
       "<path class='bond-6 atom-6 atom-7' d='M 335.025,75.8155 L 353.707,96.0564' style='fill:none;fill-rule:evenodd;stroke:#000000;stroke-width:2.0px;stroke-linecap:butt;stroke-linejoin:miter;stroke-opacity:1' />\n",
       "<path  class='atom-6' d='M 295.99 43.6402\n",
       "Q 295.99 38.7844, 298.39 36.0708\n",
       "Q 300.789 33.3572, 305.273 33.3572\n",
       "Q 309.758 33.3572, 312.157 36.0708\n",
       "Q 314.557 38.7844, 314.557 43.6402\n",
       "Q 314.557 48.5532, 312.129 51.3524\n",
       "Q 309.701 54.1231, 305.273 54.1231\n",
       "Q 300.817 54.1231, 298.39 51.3524\n",
       "Q 295.99 48.5817, 295.99 43.6402\n",
       "M 305.273 51.838\n",
       "Q 308.358 51.838, 310.015 49.7814\n",
       "Q 311.7 47.6963, 311.7 43.6402\n",
       "Q 311.7 39.6698, 310.015 37.6704\n",
       "Q 308.358 35.6423, 305.273 35.6423\n",
       "Q 302.189 35.6423, 300.503 37.6418\n",
       "Q 298.847 39.6413, 298.847 43.6402\n",
       "Q 298.847 47.7248, 300.503 49.7814\n",
       "Q 302.189 51.838, 305.273 51.838\n",
       "' fill='#FF0000'/>\n",
       "</svg>\n"
      ],
      "text/plain": [
       "<rdkit.Chem.rdchem.Mol at 0x7f861b6b8ad0>"
      ]
     },
     "execution_count": 4,
     "metadata": {},
     "output_type": "execute_result"
    }
   ],
   "source": [
    "m"
   ]
  },
  {
   "cell_type": "markdown",
   "metadata": {},
   "source": [
    "Reading of a structure with errors leads to errors, result will be `None`."
   ]
  },
  {
   "cell_type": "code",
   "execution_count": 5,
   "metadata": {
    "collapsed": false,
    "jupyter": {
     "outputs_hidden": false
    }
   },
   "outputs": [
    {
     "name": "stderr",
     "output_type": "stream",
     "text": [
      "RDKit ERROR: [12:51:11] Explicit valence for atom # 6 O, 3, is greater than permitted\n"
     ]
    }
   ],
   "source": [
    "m = Chem.MolFromSmiles(\"c1ccccc1O(C)C\")"
   ]
  },
  {
   "cell_type": "code",
   "execution_count": 6,
   "metadata": {
    "collapsed": false,
    "jupyter": {
     "outputs_hidden": false
    }
   },
   "outputs": [
    {
     "data": {
      "text/plain": [
       "True"
      ]
     },
     "execution_count": 6,
     "metadata": {},
     "output_type": "execute_result"
    }
   ],
   "source": [
    "m is None"
   ]
  },
  {
   "cell_type": "markdown",
   "metadata": {},
   "source": [
    "#### reading from MolBlock  \n",
    "MolBlock doesn't contain property fields like in SDF file."
   ]
  },
  {
   "cell_type": "code",
   "execution_count": 7,
   "metadata": {
    "collapsed": false,
    "jupyter": {
     "outputs_hidden": false
    },
    "scrolled": true
   },
   "outputs": [
    {
     "data": {
      "image/png": "[encoded data removed]",
      "image/svg+xml": [
       "<?xml version='1.0' encoding='iso-8859-1'?>\n",
       "<svg version='1.1' baseProfile='full'\n",
       "              xmlns='http://www.w3.org/2000/svg'\n",
       "                      xmlns:rdkit='http://www.rdkit.org/xml'\n",
       "                      xmlns:xlink='http://www.w3.org/1999/xlink'\n",
       "                  xml:space='preserve'\n",
       "width='450px' height='150px' viewBox='0 0 450 150'>\n",
       "<!-- END OF HEADER -->\n",
       "<rect style='opacity:1.0;fill:#FFFFFF;stroke:none' width='450' height='150' x='0' y='0'> </rect>\n",
       "<path class='bond-0 atom-0 atom-1' d='M 171.587,19.8261 L 118.17,50.665' style='fill:none;fill-rule:evenodd;stroke:#000000;stroke-width:2.0px;stroke-linecap:butt;stroke-linejoin:miter;stroke-opacity:1' />\n",
       "<path class='bond-0 atom-0 atom-1' d='M 170.303,36.1062 L 132.911,57.6934' style='fill:none;fill-rule:evenodd;stroke:#000000;stroke-width:2.0px;stroke-linecap:butt;stroke-linejoin:miter;stroke-opacity:1' />\n",
       "<path class='bond-5 atom-0 atom-5' d='M 171.587,19.8261 L 224.996,50.665' style='fill:none;fill-rule:evenodd;stroke:#000000;stroke-width:2.0px;stroke-linecap:butt;stroke-linejoin:miter;stroke-opacity:1' />\n",
       "<path class='bond-1 atom-1 atom-2' d='M 118.17,50.665 L 118.17,112.343' style='fill:none;fill-rule:evenodd;stroke:#000000;stroke-width:2.0px;stroke-linecap:butt;stroke-linejoin:miter;stroke-opacity:1' />\n",
       "<path class='bond-2 atom-2 atom-3' d='M 118.17,112.343 L 171.587,143.182' style='fill:none;fill-rule:evenodd;stroke:#000000;stroke-width:2.0px;stroke-linecap:butt;stroke-linejoin:miter;stroke-opacity:1' />\n",
       "<path class='bond-2 atom-2 atom-3' d='M 132.911,105.315 L 170.303,126.902' style='fill:none;fill-rule:evenodd;stroke:#000000;stroke-width:2.0px;stroke-linecap:butt;stroke-linejoin:miter;stroke-opacity:1' />\n",
       "<path class='bond-3 atom-3 atom-4' d='M 171.587,143.182 L 224.996,112.343' style='fill:none;fill-rule:evenodd;stroke:#000000;stroke-width:2.0px;stroke-linecap:butt;stroke-linejoin:miter;stroke-opacity:1' />\n",
       "<path class='bond-4 atom-4 atom-5' d='M 224.996,112.343 L 224.996,50.665' style='fill:none;fill-rule:evenodd;stroke:#000000;stroke-width:2.0px;stroke-linecap:butt;stroke-linejoin:miter;stroke-opacity:1' />\n",
       "<path class='bond-4 atom-4 atom-5' d='M 211.539,103.091 L 211.539,59.9167' style='fill:none;fill-rule:evenodd;stroke:#000000;stroke-width:2.0px;stroke-linecap:butt;stroke-linejoin:miter;stroke-opacity:1' />\n",
       "<path class='bond-6 atom-5 atom-6' d='M 224.996,50.665 L 245.467,38.8469' style='fill:none;fill-rule:evenodd;stroke:#000000;stroke-width:2.0px;stroke-linecap:butt;stroke-linejoin:miter;stroke-opacity:1' />\n",
       "<path class='bond-6 atom-5 atom-6' d='M 245.467,38.8469 L 265.937,27.0287' style='fill:none;fill-rule:evenodd;stroke:#FF0000;stroke-width:2.0px;stroke-linecap:butt;stroke-linejoin:miter;stroke-opacity:1' />\n",
       "<path class='bond-7 atom-6 atom-7' d='M 290.889,27.0287 L 311.359,38.8469' style='fill:none;fill-rule:evenodd;stroke:#FF0000;stroke-width:2.0px;stroke-linecap:butt;stroke-linejoin:miter;stroke-opacity:1' />\n",
       "<path class='bond-7 atom-6 atom-7' d='M 311.359,38.8469 L 331.83,50.665' style='fill:none;fill-rule:evenodd;stroke:#000000;stroke-width:2.0px;stroke-linecap:butt;stroke-linejoin:miter;stroke-opacity:1' />\n",
       "<path  class='atom-6' d='M 267.479 19.8934\n",
       "Q 267.479 14.1742, 270.305 10.9781\n",
       "Q 273.131 7.78212, 278.413 7.78212\n",
       "Q 283.695 7.78212, 286.521 10.9781\n",
       "Q 289.347 14.1742, 289.347 19.8934\n",
       "Q 289.347 25.6799, 286.487 28.9769\n",
       "Q 283.628 32.2402, 278.413 32.2402\n",
       "Q 273.165 32.2402, 270.305 28.9769\n",
       "Q 267.479 25.7135, 267.479 19.8934\n",
       "M 278.413 29.5488\n",
       "Q 282.046 29.5488, 283.998 27.1265\n",
       "Q 285.983 24.6706, 285.983 19.8934\n",
       "Q 285.983 15.2171, 283.998 12.8621\n",
       "Q 282.046 10.4735, 278.413 10.4735\n",
       "Q 274.78 10.4735, 272.795 12.8285\n",
       "Q 270.843 15.1835, 270.843 19.8934\n",
       "Q 270.843 24.7043, 272.795 27.1265\n",
       "Q 274.78 29.5488, 278.413 29.5488\n",
       "' fill='#FF0000'/>\n",
       "</svg>\n"
      ],
      "text/plain": [
       "<rdkit.Chem.rdchem.Mol at 0x7f861b6c8170>"
      ]
     },
     "execution_count": 7,
     "metadata": {},
     "output_type": "execute_result"
    }
   ],
   "source": [
    "molblock = \"\"\"\n",
    "  Mrv1661310131608212D          \n",
    "\n",
    " 16 16  0  0  0  0            999 V2000\n",
    "   -5.9598    1.6732    0.0000 C   0  0  0  0  0  0  0  0  0  0  0  0\n",
    "   -6.6743    1.2607    0.0000 C   0  0  0  0  0  0  0  0  0  0  0  0\n",
    "   -6.6743    0.4357    0.0000 C   0  0  0  0  0  0  0  0  0  0  0  0\n",
    "   -5.9598    0.0232    0.0000 C   0  0  0  0  0  0  0  0  0  0  0  0\n",
    "   -5.2454    0.4357    0.0000 C   0  0  0  0  0  0  0  0  0  0  0  0\n",
    "   -5.2454    1.2607    0.0000 C   0  0  0  0  0  0  0  0  0  0  0  0\n",
    "   -4.5309    1.6732    0.0000 O   0  0  0  0  0  0  0  0  0  0  0  0\n",
    "   -3.8164    1.2607    0.0000 C   0  0  0  0  0  0  0  0  0  0  0  0\n",
    "   -5.9598    2.4982    0.0000 H   0  0  0  0  0  0  0  0  0  0  0  0\n",
    "   -7.3888    1.6732    0.0000 H   0  0  0  0  0  0  0  0  0  0  0  0\n",
    "   -7.3888    0.0232    0.0000 H   0  0  0  0  0  0  0  0  0  0  0  0\n",
    "   -5.9598   -0.8018    0.0000 H   0  0  0  0  0  0  0  0  0  0  0  0\n",
    "   -4.5309    0.0232    0.0000 H   0  0  0  0  0  0  0  0  0  0  0  0\n",
    "   -4.2289    0.5462    0.0000 H   0  0  0  0  0  0  0  0  0  0  0  0\n",
    "   -3.1019    0.8482    0.0000 H   0  0  0  0  0  0  0  0  0  0  0  0\n",
    "   -3.4039    1.9752    0.0000 H   0  0  0  0  0  0  0  0  0  0  0  0\n",
    "  1  2  4  0  0  0  0\n",
    "  2  3  4  0  0  0  0\n",
    "  3  4  4  0  0  0  0\n",
    "  4  5  4  0  0  0  0\n",
    "  5  6  4  0  0  0  0\n",
    "  1  6  4  0  0  0  0\n",
    "  6  7  1  0  0  0  0\n",
    "  7  8  1  0  0  0  0\n",
    "  1  9  1  0  0  0  0\n",
    "  2 10  1  0  0  0  0\n",
    "  3 11  1  0  0  0  0\n",
    "  4 12  1  0  0  0  0\n",
    "  5 13  1  0  0  0  0\n",
    "  8 14  1  0  0  0  0\n",
    "  8 15  1  0  0  0  0\n",
    "  8 16  1  0  0  0  0\n",
    "M  END\n",
    "\"\"\"\n",
    "m = Chem.MolFromMolBlock(molblock)\n",
    "m"
   ]
  },
  {
   "cell_type": "markdown",
   "metadata": {},
   "source": [
    "#### Mol files"
   ]
  },
  {
   "cell_type": "code",
   "execution_count": 8,
   "metadata": {
    "tags": []
   },
   "outputs": [],
   "source": [
    "m = Chem.MolFromMolFile(\"data/anisole.mol\")"
   ]
  },
  {
   "cell_type": "code",
   "execution_count": 9,
   "metadata": {
    "collapsed": false,
    "jupyter": {
     "outputs_hidden": false
    }
   },
   "outputs": [
    {
     "data": {
      "image/png": "[encoded data removed]",
      "image/svg+xml": [
       "<?xml version='1.0' encoding='iso-8859-1'?>\n",
       "<svg version='1.1' baseProfile='full'\n",
       "              xmlns='http://www.w3.org/2000/svg'\n",
       "                      xmlns:rdkit='http://www.rdkit.org/xml'\n",
       "                      xmlns:xlink='http://www.w3.org/1999/xlink'\n",
       "                  xml:space='preserve'\n",
       "width='450px' height='150px' viewBox='0 0 450 150'>\n",
       "<!-- END OF HEADER -->\n",
       "<rect style='opacity:1.0;fill:#FFFFFF;stroke:none' width='450' height='150' x='0' y='0'> </rect>\n",
       "<path class='bond-0 atom-0 atom-1' d='M 171.587,19.8261 L 118.17,50.665' style='fill:none;fill-rule:evenodd;stroke:#000000;stroke-width:2.0px;stroke-linecap:butt;stroke-linejoin:miter;stroke-opacity:1' />\n",
       "<path class='bond-0 atom-0 atom-1' d='M 170.303,36.1062 L 132.911,57.6934' style='fill:none;fill-rule:evenodd;stroke:#000000;stroke-width:2.0px;stroke-linecap:butt;stroke-linejoin:miter;stroke-opacity:1' />\n",
       "<path class='bond-5 atom-0 atom-5' d='M 171.587,19.8261 L 224.996,50.665' style='fill:none;fill-rule:evenodd;stroke:#000000;stroke-width:2.0px;stroke-linecap:butt;stroke-linejoin:miter;stroke-opacity:1' />\n",
       "<path class='bond-1 atom-1 atom-2' d='M 118.17,50.665 L 118.17,112.343' style='fill:none;fill-rule:evenodd;stroke:#000000;stroke-width:2.0px;stroke-linecap:butt;stroke-linejoin:miter;stroke-opacity:1' />\n",
       "<path class='bond-2 atom-2 atom-3' d='M 118.17,112.343 L 171.587,143.182' style='fill:none;fill-rule:evenodd;stroke:#000000;stroke-width:2.0px;stroke-linecap:butt;stroke-linejoin:miter;stroke-opacity:1' />\n",
       "<path class='bond-2 atom-2 atom-3' d='M 132.911,105.315 L 170.303,126.902' style='fill:none;fill-rule:evenodd;stroke:#000000;stroke-width:2.0px;stroke-linecap:butt;stroke-linejoin:miter;stroke-opacity:1' />\n",
       "<path class='bond-3 atom-3 atom-4' d='M 171.587,143.182 L 224.996,112.343' style='fill:none;fill-rule:evenodd;stroke:#000000;stroke-width:2.0px;stroke-linecap:butt;stroke-linejoin:miter;stroke-opacity:1' />\n",
       "<path class='bond-4 atom-4 atom-5' d='M 224.996,112.343 L 224.996,50.665' style='fill:none;fill-rule:evenodd;stroke:#000000;stroke-width:2.0px;stroke-linecap:butt;stroke-linejoin:miter;stroke-opacity:1' />\n",
       "<path class='bond-4 atom-4 atom-5' d='M 211.539,103.091 L 211.539,59.9167' style='fill:none;fill-rule:evenodd;stroke:#000000;stroke-width:2.0px;stroke-linecap:butt;stroke-linejoin:miter;stroke-opacity:1' />\n",
       "<path class='bond-6 atom-5 atom-6' d='M 224.996,50.665 L 245.467,38.8469' style='fill:none;fill-rule:evenodd;stroke:#000000;stroke-width:2.0px;stroke-linecap:butt;stroke-linejoin:miter;stroke-opacity:1' />\n",
       "<path class='bond-6 atom-5 atom-6' d='M 245.467,38.8469 L 265.937,27.0287' style='fill:none;fill-rule:evenodd;stroke:#FF0000;stroke-width:2.0px;stroke-linecap:butt;stroke-linejoin:miter;stroke-opacity:1' />\n",
       "<path class='bond-7 atom-6 atom-7' d='M 290.889,27.0287 L 311.359,38.8469' style='fill:none;fill-rule:evenodd;stroke:#FF0000;stroke-width:2.0px;stroke-linecap:butt;stroke-linejoin:miter;stroke-opacity:1' />\n",
       "<path class='bond-7 atom-6 atom-7' d='M 311.359,38.8469 L 331.83,50.665' style='fill:none;fill-rule:evenodd;stroke:#000000;stroke-width:2.0px;stroke-linecap:butt;stroke-linejoin:miter;stroke-opacity:1' />\n",
       "<path  class='atom-6' d='M 267.479 19.8934\n",
       "Q 267.479 14.1742, 270.305 10.9781\n",
       "Q 273.131 7.78212, 278.413 7.78212\n",
       "Q 283.695 7.78212, 286.521 10.9781\n",
       "Q 289.347 14.1742, 289.347 19.8934\n",
       "Q 289.347 25.6799, 286.487 28.9769\n",
       "Q 283.628 32.2402, 278.413 32.2402\n",
       "Q 273.165 32.2402, 270.305 28.9769\n",
       "Q 267.479 25.7135, 267.479 19.8934\n",
       "M 278.413 29.5488\n",
       "Q 282.046 29.5488, 283.998 27.1265\n",
       "Q 285.983 24.6706, 285.983 19.8934\n",
       "Q 285.983 15.2171, 283.998 12.8621\n",
       "Q 282.046 10.4735, 278.413 10.4735\n",
       "Q 274.78 10.4735, 272.795 12.8285\n",
       "Q 270.843 15.1835, 270.843 19.8934\n",
       "Q 270.843 24.7043, 272.795 27.1265\n",
       "Q 274.78 29.5488, 278.413 29.5488\n",
       "' fill='#FF0000'/>\n",
       "</svg>\n"
      ],
      "text/plain": [
       "<rdkit.Chem.rdchem.Mol at 0x7f861b6cc080>"
      ]
     },
     "execution_count": 9,
     "metadata": {},
     "output_type": "execute_result"
    }
   ],
   "source": [
    "m"
   ]
  },
  {
   "cell_type": "markdown",
   "metadata": {},
   "source": [
    "#### reading from SDF"
   ]
  },
  {
   "cell_type": "code",
   "execution_count": 10,
   "metadata": {
    "collapsed": false,
    "jupyter": {
     "outputs_hidden": false
    },
    "scrolled": true
   },
   "outputs": [
    {
     "name": "stdout",
     "output_type": "stream",
     "text": [
      "5\n",
      "5\n",
      "5\n",
      "5\n"
     ]
    }
   ],
   "source": [
    "iterator = Chem.SDMolSupplier(\"data/logBB.sdf\")\n",
    "for m in iterator:\n",
    "    if m is not None:              # test whether molecule was read\n",
    "        print(m.GetNumAtoms())     # returns number of heavy atoms only, Hs were stripped"
   ]
  },
  {
   "cell_type": "code",
   "execution_count": 11,
   "metadata": {
    "collapsed": false,
    "jupyter": {
     "outputs_hidden": false
    },
    "scrolled": true
   },
   "outputs": [
    {
     "data": {
      "text/plain": [
       "4"
      ]
     },
     "execution_count": 11,
     "metadata": {},
     "output_type": "execute_result"
    }
   ],
   "source": [
    "mols = [m for m in iterator]\n",
    "len(mols)"
   ]
  },
  {
   "cell_type": "markdown",
   "metadata": {},
   "source": [
    "In the second case if some molecules failed to read there will be some `None`s in the output list which should be removed"
   ]
  },
  {
   "cell_type": "code",
   "execution_count": 12,
   "metadata": {
    "collapsed": false,
    "jupyter": {
     "outputs_hidden": false
    }
   },
   "outputs": [
    {
     "data": {
      "text/plain": [
       "4"
      ]
     },
     "execution_count": 12,
     "metadata": {},
     "output_type": "execute_result"
    }
   ],
   "source": [
    "mols = [m for m in iterator if m is not None]\n",
    "len(mols)"
   ]
  },
  {
   "cell_type": "markdown",
   "metadata": {},
   "source": [
    "You may use Supplier as a random-access object:"
   ]
  },
  {
   "cell_type": "code",
   "execution_count": 13,
   "metadata": {
    "collapsed": false,
    "jupyter": {
     "outputs_hidden": false
    }
   },
   "outputs": [
    {
     "data": {
      "image/png": "[encoded data removed]",
      "image/svg+xml": [
       "<?xml version='1.0' encoding='iso-8859-1'?>\n",
       "<svg version='1.1' baseProfile='full'\n",
       "              xmlns='http://www.w3.org/2000/svg'\n",
       "                      xmlns:rdkit='http://www.rdkit.org/xml'\n",
       "                      xmlns:xlink='http://www.w3.org/1999/xlink'\n",
       "                  xml:space='preserve'\n",
       "width='450px' height='150px' viewBox='0 0 450 150'>\n",
       "<!-- END OF HEADER -->\n",
       "<rect style='opacity:1.0;fill:#FFFFFF;stroke:none' width='450' height='150' x='0' y='0'> </rect>\n",
       "<path class='bond-0 atom-0 atom-1' d='M 252.305,75.4631 L 188.96,75.4631' style='fill:none;fill-rule:evenodd;stroke:#000000;stroke-width:2.0px;stroke-linecap:butt;stroke-linejoin:miter;stroke-opacity:1' />\n",
       "<path class='bond-0 atom-0 atom-1' d='M 242.803,61.6422 L 198.461,61.6422' style='fill:none;fill-rule:evenodd;stroke:#000000;stroke-width:2.0px;stroke-linecap:butt;stroke-linejoin:miter;stroke-opacity:1' />\n",
       "<path class='bond-3 atom-0 atom-4' d='M 252.305,75.4631 L 263.81,55.5361' style='fill:none;fill-rule:evenodd;stroke:#000000;stroke-width:2.0px;stroke-linecap:butt;stroke-linejoin:miter;stroke-opacity:1' />\n",
       "<path class='bond-3 atom-0 atom-4' d='M 263.81,55.5361 L 275.314,35.6091' style='fill:none;fill-rule:evenodd;stroke:#00CC00;stroke-width:2.0px;stroke-linecap:butt;stroke-linejoin:miter;stroke-opacity:1' />\n",
       "<path class='bond-1 atom-1 atom-2' d='M 188.96,75.4631 L 177.111,95.9861' style='fill:none;fill-rule:evenodd;stroke:#000000;stroke-width:2.0px;stroke-linecap:butt;stroke-linejoin:miter;stroke-opacity:1' />\n",
       "<path class='bond-1 atom-1 atom-2' d='M 177.111,95.9861 L 165.263,116.509' style='fill:none;fill-rule:evenodd;stroke:#33CCCC;stroke-width:2.0px;stroke-linecap:butt;stroke-linejoin:miter;stroke-opacity:1' />\n",
       "<path class='bond-2 atom-1 atom-3' d='M 188.96,75.4631 L 177.111,54.9401' style='fill:none;fill-rule:evenodd;stroke:#000000;stroke-width:2.0px;stroke-linecap:butt;stroke-linejoin:miter;stroke-opacity:1' />\n",
       "<path class='bond-2 atom-1 atom-3' d='M 177.111,54.9401 L 165.263,34.4171' style='fill:none;fill-rule:evenodd;stroke:#33CCCC;stroke-width:2.0px;stroke-linecap:butt;stroke-linejoin:miter;stroke-opacity:1' />\n",
       "<path  class='atom-2' d='M 150.014 118.093\n",
       "L 164.56 118.093\n",
       "L 164.56 120.892\n",
       "L 153.296 120.892\n",
       "L 153.296 128.32\n",
       "L 163.316 128.32\n",
       "L 163.316 131.154\n",
       "L 153.296 131.154\n",
       "L 153.296 142.556\n",
       "L 150.014 142.556\n",
       "L 150.014 118.093\n",
       "' fill='#33CCCC'/>\n",
       "<path  class='atom-3' d='M 150.014 8.37046\n",
       "L 164.56 8.37046\n",
       "L 164.56 11.1692\n",
       "L 153.296 11.1692\n",
       "L 153.296 18.5979\n",
       "L 163.316 18.5979\n",
       "L 163.316 21.4312\n",
       "L 153.296 21.4312\n",
       "L 153.296 32.8334\n",
       "L 150.014 32.8334\n",
       "L 150.014 8.37046\n",
       "' fill='#33CCCC'/>\n",
       "<path  class='atom-4' d='M 274.545 21.4485\n",
       "Q 274.545 15.3673, 277.379 12.1885\n",
       "Q 280.246 8.97512, 285.671 8.97512\n",
       "Q 290.716 8.97512, 293.411 12.534\n",
       "L 291.13 14.3998\n",
       "Q 289.161 11.8084, 285.671 11.8084\n",
       "Q 281.974 11.8084, 280.005 14.2962\n",
       "Q 278.07 16.7494, 278.07 21.4485\n",
       "Q 278.07 26.2858, 280.074 28.7735\n",
       "Q 282.112 31.2613, 286.051 31.2613\n",
       "Q 288.746 31.2613, 291.891 29.6373\n",
       "L 292.858 32.2287\n",
       "Q 291.58 33.058, 289.645 33.5417\n",
       "Q 287.71 34.0254, 285.567 34.0254\n",
       "Q 280.246 34.0254, 277.379 30.7775\n",
       "Q 274.545 27.5296, 274.545 21.4485\n",
       "' fill='#00CC00'/>\n",
       "<path  class='atom-4' d='M 296.382 7.48938\n",
       "L 299.561 7.48938\n",
       "L 299.561 33.7145\n",
       "L 296.382 33.7145\n",
       "L 296.382 7.48938\n",
       "' fill='#00CC00'/>\n",
       "</svg>\n"
      ],
      "text/plain": [
       "<rdkit.Chem.rdchem.Mol at 0x7f861b6cff80>"
      ]
     },
     "execution_count": 13,
     "metadata": {},
     "output_type": "execute_result"
    }
   ],
   "source": [
    "m = iterator[2]\n",
    "m"
   ]
  },
  {
   "cell_type": "code",
   "execution_count": 14,
   "metadata": {
    "collapsed": false,
    "jupyter": {
     "outputs_hidden": false
    },
    "scrolled": true
   },
   "outputs": [
    {
     "data": {
      "image/png": "[encoded data removed]",
      "image/svg+xml": [
       "<?xml version='1.0' encoding='iso-8859-1'?>\n",
       "<svg version='1.1' baseProfile='full'\n",
       "              xmlns='http://www.w3.org/2000/svg'\n",
       "                      xmlns:rdkit='http://www.rdkit.org/xml'\n",
       "                      xmlns:xlink='http://www.w3.org/1999/xlink'\n",
       "                  xml:space='preserve'\n",
       "width='450px' height='150px' viewBox='0 0 450 150'>\n",
       "<!-- END OF HEADER -->\n",
       "<rect style='opacity:1.0;fill:#FFFFFF;stroke:none' width='450' height='150' x='0' y='0'> </rect>\n",
       "<path class='bond-0 atom-0 atom-1' d='M 229.123,143.182 L 229.123,81.8936' style='fill:none;fill-rule:evenodd;stroke:#000000;stroke-width:2.0px;stroke-linecap:butt;stroke-linejoin:miter;stroke-opacity:1' />\n",
       "<path class='bond-1 atom-1 atom-2' d='M 229.123,81.8936 L 229.123,58.5093' style='fill:none;fill-rule:evenodd;stroke:#000000;stroke-width:2.0px;stroke-linecap:butt;stroke-linejoin:miter;stroke-opacity:1' />\n",
       "<path class='bond-1 atom-1 atom-2' d='M 229.123,58.5093 L 229.123,35.1251' style='fill:none;fill-rule:evenodd;stroke:#00CC00;stroke-width:2.0px;stroke-linecap:butt;stroke-linejoin:miter;stroke-opacity:1' />\n",
       "<path class='bond-2 atom-1 atom-3' d='M 229.123,81.8936 L 254.438,81.8936' style='fill:none;fill-rule:evenodd;stroke:#000000;stroke-width:2.0px;stroke-linecap:butt;stroke-linejoin:miter;stroke-opacity:1' />\n",
       "<path class='bond-2 atom-1 atom-3' d='M 254.438,81.8936 L 279.753,81.8936' style='fill:none;fill-rule:evenodd;stroke:#00CC00;stroke-width:2.0px;stroke-linecap:butt;stroke-linejoin:miter;stroke-opacity:1' />\n",
       "<path class='bond-3 atom-1 atom-4' d='M 229.123,81.8936 L 200.014,81.8936' style='fill:none;fill-rule:evenodd;stroke:#000000;stroke-width:2.0px;stroke-linecap:butt;stroke-linejoin:miter;stroke-opacity:1' />\n",
       "<path class='bond-3 atom-1 atom-4' d='M 200.014,81.8936 L 170.905,81.8936' style='fill:none;fill-rule:evenodd;stroke:#00CC00;stroke-width:2.0px;stroke-linecap:butt;stroke-linejoin:miter;stroke-opacity:1' />\n",
       "<path  class='atom-2' d='M 219.997 21.4244\n",
       "Q 219.997 15.5407, 222.738 12.4651\n",
       "Q 225.513 9.35615, 230.761 9.35615\n",
       "Q 235.642 9.35615, 238.25 12.7994\n",
       "L 236.043 14.6046\n",
       "Q 234.138 12.0974, 230.761 12.0974\n",
       "Q 227.184 12.0974, 225.279 14.5044\n",
       "Q 223.407 16.8779, 223.407 21.4244\n",
       "Q 223.407 26.1046, 225.346 28.5115\n",
       "Q 227.318 30.9185, 231.129 30.9185\n",
       "Q 233.737 30.9185, 236.779 29.3473\n",
       "L 237.715 31.8545\n",
       "Q 236.478 32.6568, 234.606 33.1248\n",
       "Q 232.734 33.5929, 230.661 33.5929\n",
       "Q 225.513 33.5929, 222.738 30.4504\n",
       "Q 219.997 27.308, 219.997 21.4244\n",
       "' fill='#00CC00'/>\n",
       "<path  class='atom-2' d='M 241.125 7.91866\n",
       "L 244.2 7.91866\n",
       "L 244.2 33.292\n",
       "L 241.125 33.292\n",
       "L 241.125 7.91866\n",
       "' fill='#00CC00'/>\n",
       "<path  class='atom-3' d='M 281.285 82.7126\n",
       "Q 281.285 76.8289, 284.027 73.7534\n",
       "Q 286.801 70.6444, 292.05 70.6444\n",
       "Q 296.931 70.6444, 299.538 74.0877\n",
       "L 297.332 75.8929\n",
       "Q 295.426 73.3856, 292.05 73.3856\n",
       "Q 288.473 73.3856, 286.567 75.7926\n",
       "Q 284.695 78.1661, 284.695 82.7126\n",
       "Q 284.695 87.3928, 286.634 89.7998\n",
       "Q 288.606 92.2067, 292.417 92.2067\n",
       "Q 295.025 92.2067, 298.067 90.6355\n",
       "L 299.003 93.1428\n",
       "Q 297.766 93.9451, 295.894 94.4131\n",
       "Q 294.022 94.8811, 291.949 94.8811\n",
       "Q 286.801 94.8811, 284.027 91.7387\n",
       "Q 281.285 88.5963, 281.285 82.7126\n",
       "' fill='#00CC00'/>\n",
       "<path  class='atom-3' d='M 302.413 69.2069\n",
       "L 305.489 69.2069\n",
       "L 305.489 94.5802\n",
       "L 302.413 94.5802\n",
       "L 302.413 69.2069\n",
       "' fill='#00CC00'/>\n",
       "<path  class='atom-4' d='M 145.17 82.7126\n",
       "Q 145.17 76.8289, 147.911 73.7534\n",
       "Q 150.686 70.6444, 155.934 70.6444\n",
       "Q 160.815 70.6444, 163.422 74.0877\n",
       "L 161.216 75.8929\n",
       "Q 159.311 73.3856, 155.934 73.3856\n",
       "Q 152.357 73.3856, 150.452 75.7926\n",
       "Q 148.58 78.1661, 148.58 82.7126\n",
       "Q 148.58 87.3928, 150.518 89.7998\n",
       "Q 152.491 92.2067, 156.302 92.2067\n",
       "Q 158.909 92.2067, 161.952 90.6355\n",
       "L 162.888 93.1428\n",
       "Q 161.651 93.9451, 159.779 94.4131\n",
       "Q 157.906 94.8811, 155.834 94.8811\n",
       "Q 150.686 94.8811, 147.911 91.7387\n",
       "Q 145.17 88.5963, 145.17 82.7126\n",
       "' fill='#00CC00'/>\n",
       "<path  class='atom-4' d='M 166.297 69.2069\n",
       "L 169.373 69.2069\n",
       "L 169.373 94.5802\n",
       "L 166.297 94.5802\n",
       "L 166.297 69.2069\n",
       "' fill='#00CC00'/>\n",
       "</svg>\n"
      ],
      "text/plain": [
       "<rdkit.Chem.rdchem.Mol at 0x7f861b6d3440>"
      ]
     },
     "execution_count": 14,
     "metadata": {},
     "output_type": "execute_result"
    }
   ],
   "source": [
    "m = iterator[0]\n",
    "m"
   ]
  },
  {
   "cell_type": "markdown",
   "metadata": {},
   "source": [
    "#### reading from gzipped SDF and other file-like objects\n",
    "In this case you cannot use random access."
   ]
  },
  {
   "cell_type": "code",
   "execution_count": 15,
   "metadata": {
    "collapsed": false,
    "jupyter": {
     "outputs_hidden": false
    }
   },
   "outputs": [
    {
     "data": {
      "text/plain": [
       "4"
      ]
     },
     "execution_count": 15,
     "metadata": {},
     "output_type": "execute_result"
    }
   ],
   "source": [
    "import gzip\n",
    "iterator = Chem.ForwardSDMolSupplier(gzip.open(\"data/logBB.sdf.gz\"))\n",
    "mols = [m for m in iterator if m is not None]\n",
    "len(mols)"
   ]
  },
  {
   "cell_type": "code",
   "execution_count": 16,
   "metadata": {
    "collapsed": false,
    "jupyter": {
     "outputs_hidden": false
    }
   },
   "outputs": [
    {
     "data": {
      "image/png": "[encoded data removed]",
      "image/svg+xml": [
       "<?xml version='1.0' encoding='iso-8859-1'?>\n",
       "<svg version='1.1' baseProfile='full'\n",
       "              xmlns='http://www.w3.org/2000/svg'\n",
       "                      xmlns:rdkit='http://www.rdkit.org/xml'\n",
       "                      xmlns:xlink='http://www.w3.org/1999/xlink'\n",
       "                  xml:space='preserve'\n",
       "width='450px' height='150px' viewBox='0 0 450 150'>\n",
       "<!-- END OF HEADER -->\n",
       "<rect style='opacity:1.0;fill:#FFFFFF;stroke:none' width='450' height='150' x='0' y='0'> </rect>\n",
       "<path class='bond-0 atom-0 atom-1' d='M 229.123,143.182 L 229.123,81.8936' style='fill:none;fill-rule:evenodd;stroke:#000000;stroke-width:2.0px;stroke-linecap:butt;stroke-linejoin:miter;stroke-opacity:1' />\n",
       "<path class='bond-1 atom-1 atom-2' d='M 229.123,81.8936 L 229.123,58.5093' style='fill:none;fill-rule:evenodd;stroke:#000000;stroke-width:2.0px;stroke-linecap:butt;stroke-linejoin:miter;stroke-opacity:1' />\n",
       "<path class='bond-1 atom-1 atom-2' d='M 229.123,58.5093 L 229.123,35.1251' style='fill:none;fill-rule:evenodd;stroke:#00CC00;stroke-width:2.0px;stroke-linecap:butt;stroke-linejoin:miter;stroke-opacity:1' />\n",
       "<path class='bond-2 atom-1 atom-3' d='M 229.123,81.8936 L 254.438,81.8936' style='fill:none;fill-rule:evenodd;stroke:#000000;stroke-width:2.0px;stroke-linecap:butt;stroke-linejoin:miter;stroke-opacity:1' />\n",
       "<path class='bond-2 atom-1 atom-3' d='M 254.438,81.8936 L 279.753,81.8936' style='fill:none;fill-rule:evenodd;stroke:#00CC00;stroke-width:2.0px;stroke-linecap:butt;stroke-linejoin:miter;stroke-opacity:1' />\n",
       "<path class='bond-3 atom-1 atom-4' d='M 229.123,81.8936 L 200.014,81.8936' style='fill:none;fill-rule:evenodd;stroke:#000000;stroke-width:2.0px;stroke-linecap:butt;stroke-linejoin:miter;stroke-opacity:1' />\n",
       "<path class='bond-3 atom-1 atom-4' d='M 200.014,81.8936 L 170.905,81.8936' style='fill:none;fill-rule:evenodd;stroke:#00CC00;stroke-width:2.0px;stroke-linecap:butt;stroke-linejoin:miter;stroke-opacity:1' />\n",
       "<path  class='atom-2' d='M 219.997 21.4244\n",
       "Q 219.997 15.5407, 222.738 12.4651\n",
       "Q 225.513 9.35615, 230.761 9.35615\n",
       "Q 235.642 9.35615, 238.25 12.7994\n",
       "L 236.043 14.6046\n",
       "Q 234.138 12.0974, 230.761 12.0974\n",
       "Q 227.184 12.0974, 225.279 14.5044\n",
       "Q 223.407 16.8779, 223.407 21.4244\n",
       "Q 223.407 26.1046, 225.346 28.5115\n",
       "Q 227.318 30.9185, 231.129 30.9185\n",
       "Q 233.737 30.9185, 236.779 29.3473\n",
       "L 237.715 31.8545\n",
       "Q 236.478 32.6568, 234.606 33.1248\n",
       "Q 232.734 33.5929, 230.661 33.5929\n",
       "Q 225.513 33.5929, 222.738 30.4504\n",
       "Q 219.997 27.308, 219.997 21.4244\n",
       "' fill='#00CC00'/>\n",
       "<path  class='atom-2' d='M 241.125 7.91866\n",
       "L 244.2 7.91866\n",
       "L 244.2 33.292\n",
       "L 241.125 33.292\n",
       "L 241.125 7.91866\n",
       "' fill='#00CC00'/>\n",
       "<path  class='atom-3' d='M 281.285 82.7126\n",
       "Q 281.285 76.8289, 284.027 73.7534\n",
       "Q 286.801 70.6444, 292.05 70.6444\n",
       "Q 296.931 70.6444, 299.538 74.0877\n",
       "L 297.332 75.8929\n",
       "Q 295.426 73.3856, 292.05 73.3856\n",
       "Q 288.473 73.3856, 286.567 75.7926\n",
       "Q 284.695 78.1661, 284.695 82.7126\n",
       "Q 284.695 87.3928, 286.634 89.7998\n",
       "Q 288.606 92.2067, 292.417 92.2067\n",
       "Q 295.025 92.2067, 298.067 90.6355\n",
       "L 299.003 93.1428\n",
       "Q 297.766 93.9451, 295.894 94.4131\n",
       "Q 294.022 94.8811, 291.949 94.8811\n",
       "Q 286.801 94.8811, 284.027 91.7387\n",
       "Q 281.285 88.5963, 281.285 82.7126\n",
       "' fill='#00CC00'/>\n",
       "<path  class='atom-3' d='M 302.413 69.2069\n",
       "L 305.489 69.2069\n",
       "L 305.489 94.5802\n",
       "L 302.413 94.5802\n",
       "L 302.413 69.2069\n",
       "' fill='#00CC00'/>\n",
       "<path  class='atom-4' d='M 145.17 82.7126\n",
       "Q 145.17 76.8289, 147.911 73.7534\n",
       "Q 150.686 70.6444, 155.934 70.6444\n",
       "Q 160.815 70.6444, 163.422 74.0877\n",
       "L 161.216 75.8929\n",
       "Q 159.311 73.3856, 155.934 73.3856\n",
       "Q 152.357 73.3856, 150.452 75.7926\n",
       "Q 148.58 78.1661, 148.58 82.7126\n",
       "Q 148.58 87.3928, 150.518 89.7998\n",
       "Q 152.491 92.2067, 156.302 92.2067\n",
       "Q 158.909 92.2067, 161.952 90.6355\n",
       "L 162.888 93.1428\n",
       "Q 161.651 93.9451, 159.779 94.4131\n",
       "Q 157.906 94.8811, 155.834 94.8811\n",
       "Q 150.686 94.8811, 147.911 91.7387\n",
       "Q 145.17 88.5963, 145.17 82.7126\n",
       "' fill='#00CC00'/>\n",
       "<path  class='atom-4' d='M 166.297 69.2069\n",
       "L 169.373 69.2069\n",
       "L 169.373 94.5802\n",
       "L 166.297 94.5802\n",
       "L 166.297 69.2069\n",
       "' fill='#00CC00'/>\n",
       "</svg>\n"
      ],
      "text/plain": [
       "<rdkit.Chem.rdchem.Mol at 0x7f861b6d3ee0>"
      ]
     },
     "execution_count": 16,
     "metadata": {},
     "output_type": "execute_result"
    }
   ],
   "source": [
    "mols[0]"
   ]
  },
  {
   "cell_type": "markdown",
   "metadata": {},
   "source": [
    "#### Hydrogens"
   ]
  },
  {
   "cell_type": "markdown",
   "metadata": {},
   "source": [
    "By default hydrogens are removed during reading."
   ]
  },
  {
   "cell_type": "code",
   "execution_count": 17,
   "metadata": {
    "collapsed": false,
    "jupyter": {
     "outputs_hidden": false
    }
   },
   "outputs": [
    {
     "data": {
      "image/png": "[encoded data removed]",
      "image/svg+xml": [
       "<?xml version='1.0' encoding='iso-8859-1'?>\n",
       "<svg version='1.1' baseProfile='full'\n",
       "              xmlns='http://www.w3.org/2000/svg'\n",
       "                      xmlns:rdkit='http://www.rdkit.org/xml'\n",
       "                      xmlns:xlink='http://www.w3.org/1999/xlink'\n",
       "                  xml:space='preserve'\n",
       "width='450px' height='150px' viewBox='0 0 450 150'>\n",
       "<!-- END OF HEADER -->\n",
       "<rect style='opacity:1.0;fill:#FFFFFF;stroke:none' width='450' height='150' x='0' y='0'> </rect>\n",
       "<path class='bond-0 atom-0 atom-1' d='M 171.587,19.8261 L 118.17,50.665' style='fill:none;fill-rule:evenodd;stroke:#000000;stroke-width:2.0px;stroke-linecap:butt;stroke-linejoin:miter;stroke-opacity:1' />\n",
       "<path class='bond-0 atom-0 atom-1' d='M 170.303,36.1062 L 132.911,57.6934' style='fill:none;fill-rule:evenodd;stroke:#000000;stroke-width:2.0px;stroke-linecap:butt;stroke-linejoin:miter;stroke-opacity:1' />\n",
       "<path class='bond-5 atom-0 atom-5' d='M 171.587,19.8261 L 224.996,50.665' style='fill:none;fill-rule:evenodd;stroke:#000000;stroke-width:2.0px;stroke-linecap:butt;stroke-linejoin:miter;stroke-opacity:1' />\n",
       "<path class='bond-1 atom-1 atom-2' d='M 118.17,50.665 L 118.17,112.343' style='fill:none;fill-rule:evenodd;stroke:#000000;stroke-width:2.0px;stroke-linecap:butt;stroke-linejoin:miter;stroke-opacity:1' />\n",
       "<path class='bond-2 atom-2 atom-3' d='M 118.17,112.343 L 171.587,143.182' style='fill:none;fill-rule:evenodd;stroke:#000000;stroke-width:2.0px;stroke-linecap:butt;stroke-linejoin:miter;stroke-opacity:1' />\n",
       "<path class='bond-2 atom-2 atom-3' d='M 132.911,105.315 L 170.303,126.902' style='fill:none;fill-rule:evenodd;stroke:#000000;stroke-width:2.0px;stroke-linecap:butt;stroke-linejoin:miter;stroke-opacity:1' />\n",
       "<path class='bond-3 atom-3 atom-4' d='M 171.587,143.182 L 224.996,112.343' style='fill:none;fill-rule:evenodd;stroke:#000000;stroke-width:2.0px;stroke-linecap:butt;stroke-linejoin:miter;stroke-opacity:1' />\n",
       "<path class='bond-4 atom-4 atom-5' d='M 224.996,112.343 L 224.996,50.665' style='fill:none;fill-rule:evenodd;stroke:#000000;stroke-width:2.0px;stroke-linecap:butt;stroke-linejoin:miter;stroke-opacity:1' />\n",
       "<path class='bond-4 atom-4 atom-5' d='M 211.539,103.091 L 211.539,59.9167' style='fill:none;fill-rule:evenodd;stroke:#000000;stroke-width:2.0px;stroke-linecap:butt;stroke-linejoin:miter;stroke-opacity:1' />\n",
       "<path class='bond-6 atom-5 atom-6' d='M 224.996,50.665 L 245.467,38.8469' style='fill:none;fill-rule:evenodd;stroke:#000000;stroke-width:2.0px;stroke-linecap:butt;stroke-linejoin:miter;stroke-opacity:1' />\n",
       "<path class='bond-6 atom-5 atom-6' d='M 245.467,38.8469 L 265.937,27.0287' style='fill:none;fill-rule:evenodd;stroke:#FF0000;stroke-width:2.0px;stroke-linecap:butt;stroke-linejoin:miter;stroke-opacity:1' />\n",
       "<path class='bond-7 atom-6 atom-7' d='M 290.889,27.0287 L 311.359,38.8469' style='fill:none;fill-rule:evenodd;stroke:#FF0000;stroke-width:2.0px;stroke-linecap:butt;stroke-linejoin:miter;stroke-opacity:1' />\n",
       "<path class='bond-7 atom-6 atom-7' d='M 311.359,38.8469 L 331.83,50.665' style='fill:none;fill-rule:evenodd;stroke:#000000;stroke-width:2.0px;stroke-linecap:butt;stroke-linejoin:miter;stroke-opacity:1' />\n",
       "<path  class='atom-6' d='M 267.479 19.8934\n",
       "Q 267.479 14.1742, 270.305 10.9781\n",
       "Q 273.131 7.78212, 278.413 7.78212\n",
       "Q 283.695 7.78212, 286.521 10.9781\n",
       "Q 289.347 14.1742, 289.347 19.8934\n",
       "Q 289.347 25.6799, 286.487 28.9769\n",
       "Q 283.628 32.2402, 278.413 32.2402\n",
       "Q 273.165 32.2402, 270.305 28.9769\n",
       "Q 267.479 25.7135, 267.479 19.8934\n",
       "M 278.413 29.5488\n",
       "Q 282.046 29.5488, 283.998 27.1265\n",
       "Q 285.983 24.6706, 285.983 19.8934\n",
       "Q 285.983 15.2171, 283.998 12.8621\n",
       "Q 282.046 10.4735, 278.413 10.4735\n",
       "Q 274.78 10.4735, 272.795 12.8285\n",
       "Q 270.843 15.1835, 270.843 19.8934\n",
       "Q 270.843 24.7043, 272.795 27.1265\n",
       "Q 274.78 29.5488, 278.413 29.5488\n",
       "' fill='#FF0000'/>\n",
       "</svg>\n"
      ],
      "text/plain": [
       "<rdkit.Chem.rdchem.Mol at 0x7f861b6cfbc0>"
      ]
     },
     "execution_count": 17,
     "metadata": {},
     "output_type": "execute_result"
    }
   ],
   "source": [
    "m = Chem.MolFromMolFile(\"data/anisole.mol\")\n",
    "m"
   ]
  },
  {
   "cell_type": "markdown",
   "metadata": {},
   "source": [
    "You may add them back manually, however their coordinates will not be recalculated."
   ]
  },
  {
   "cell_type": "code",
   "execution_count": 18,
   "metadata": {
    "collapsed": false,
    "jupyter": {
     "outputs_hidden": false
    }
   },
   "outputs": [
    {
     "data": {
      "image/png": "[encoded data removed]",
      "image/svg+xml": [
       "<?xml version='1.0' encoding='iso-8859-1'?>\n",
       "<svg version='1.1' baseProfile='full'\n",
       "              xmlns='http://www.w3.org/2000/svg'\n",
       "                      xmlns:rdkit='http://www.rdkit.org/xml'\n",
       "                      xmlns:xlink='http://www.w3.org/1999/xlink'\n",
       "                  xml:space='preserve'\n",
       "width='450px' height='150px' viewBox='0 0 450 150'>\n",
       "<!-- END OF HEADER -->\n",
       "<rect style='opacity:1.0;fill:#FFFFFF;stroke:none' width='450' height='150' x='0' y='0'> </rect>\n",
       "<path class='bond-0 atom-0 atom-1' d='M 63.1847,25.0395 L 20.4545,49.7088' style='fill:none;fill-rule:evenodd;stroke:#000000;stroke-width:2.0px;stroke-linecap:butt;stroke-linejoin:miter;stroke-opacity:1' />\n",
       "<path class='bond-0 atom-0 atom-1' d='M 62.1574,38.0626 L 32.2463,55.3311' style='fill:none;fill-rule:evenodd;stroke:#000000;stroke-width:2.0px;stroke-linecap:butt;stroke-linejoin:miter;stroke-opacity:1' />\n",
       "<path class='bond-5 atom-0 atom-5' d='M 63.1847,25.0395 L 105.909,49.7088' style='fill:none;fill-rule:evenodd;stroke:#000000;stroke-width:2.0px;stroke-linecap:butt;stroke-linejoin:miter;stroke-opacity:1' />\n",
       "<path class='bond-8 atom-0 atom-8' d='M 63.1847,25.0395 L 400.411,119.715' style='fill:none;fill-rule:evenodd;stroke:#000000;stroke-width:2.0px;stroke-linecap:butt;stroke-linejoin:miter;stroke-opacity:1' />\n",
       "<path class='bond-1 atom-1 atom-2' d='M 20.4545,49.7088 L 20.4545,99.0473' style='fill:none;fill-rule:evenodd;stroke:#000000;stroke-width:2.0px;stroke-linecap:butt;stroke-linejoin:miter;stroke-opacity:1' />\n",
       "<path class='bond-9 atom-1 atom-9' d='M 20.4545,49.7088 L 399.511,121.308' style='fill:none;fill-rule:evenodd;stroke:#000000;stroke-width:2.0px;stroke-linecap:butt;stroke-linejoin:miter;stroke-opacity:1' />\n",
       "<path class='bond-2 atom-2 atom-3' d='M 20.4545,99.0473 L 63.1847,123.717' style='fill:none;fill-rule:evenodd;stroke:#000000;stroke-width:2.0px;stroke-linecap:butt;stroke-linejoin:miter;stroke-opacity:1' />\n",
       "<path class='bond-2 atom-2 atom-3' d='M 32.2463,93.425 L 62.1574,110.693' style='fill:none;fill-rule:evenodd;stroke:#000000;stroke-width:2.0px;stroke-linecap:butt;stroke-linejoin:miter;stroke-opacity:1' />\n",
       "<path class='bond-10 atom-2 atom-10' d='M 20.4545,99.0473 L 399.666,123.802' style='fill:none;fill-rule:evenodd;stroke:#000000;stroke-width:2.0px;stroke-linecap:butt;stroke-linejoin:miter;stroke-opacity:1' />\n",
       "<path class='bond-3 atom-3 atom-4' d='M 63.1847,123.717 L 105.909,99.0473' style='fill:none;fill-rule:evenodd;stroke:#000000;stroke-width:2.0px;stroke-linecap:butt;stroke-linejoin:miter;stroke-opacity:1' />\n",
       "<path class='bond-11 atom-3 atom-11' d='M 63.1847,123.717 L 400.756,125.031' style='fill:none;fill-rule:evenodd;stroke:#000000;stroke-width:2.0px;stroke-linecap:butt;stroke-linejoin:miter;stroke-opacity:1' />\n",
       "<path class='bond-4 atom-4 atom-5' d='M 105.909,99.0473 L 105.909,49.7088' style='fill:none;fill-rule:evenodd;stroke:#000000;stroke-width:2.0px;stroke-linecap:butt;stroke-linejoin:miter;stroke-opacity:1' />\n",
       "<path class='bond-4 atom-4 atom-5' d='M 95.1441,91.6465 L 95.1441,57.1096' style='fill:none;fill-rule:evenodd;stroke:#000000;stroke-width:2.0px;stroke-linecap:butt;stroke-linejoin:miter;stroke-opacity:1' />\n",
       "<path class='bond-12 atom-4 atom-12' d='M 105.909,99.0473 L 401.797,123.625' style='fill:none;fill-rule:evenodd;stroke:#000000;stroke-width:2.0px;stroke-linecap:butt;stroke-linejoin:miter;stroke-opacity:1' />\n",
       "<path class='bond-6 atom-5 atom-6' d='M 105.909,49.7088 L 120.826,41.0966' style='fill:none;fill-rule:evenodd;stroke:#000000;stroke-width:2.0px;stroke-linecap:butt;stroke-linejoin:miter;stroke-opacity:1' />\n",
       "<path class='bond-6 atom-5 atom-6' d='M 120.826,41.0966 L 135.744,32.4844' style='fill:none;fill-rule:evenodd;stroke:#FF0000;stroke-width:2.0px;stroke-linecap:butt;stroke-linejoin:miter;stroke-opacity:1' />\n",
       "<path class='bond-7 atom-6 atom-7' d='M 161.534,32.4844 L 176.452,41.0966' style='fill:none;fill-rule:evenodd;stroke:#FF0000;stroke-width:2.0px;stroke-linecap:butt;stroke-linejoin:miter;stroke-opacity:1' />\n",
       "<path class='bond-7 atom-6 atom-7' d='M 176.452,41.0966 L 191.369,49.7088' style='fill:none;fill-rule:evenodd;stroke:#000000;stroke-width:2.0px;stroke-linecap:butt;stroke-linejoin:miter;stroke-opacity:1' />\n",
       "<path class='bond-13 atom-7 atom-13' d='M 191.369,49.7088 L 403.657,119.836' style='fill:none;fill-rule:evenodd;stroke:#000000;stroke-width:2.0px;stroke-linecap:butt;stroke-linejoin:miter;stroke-opacity:1' />\n",
       "<path class='bond-14 atom-7 atom-14' d='M 191.369,49.7088 L 403.657,119.836' style='fill:none;fill-rule:evenodd;stroke:#000000;stroke-width:2.0px;stroke-linecap:butt;stroke-linejoin:miter;stroke-opacity:1' />\n",
       "<path class='bond-15 atom-7 atom-15' d='M 191.369,49.7088 L 403.657,119.836' style='fill:none;fill-rule:evenodd;stroke:#000000;stroke-width:2.0px;stroke-linecap:butt;stroke-linejoin:miter;stroke-opacity:1' />\n",
       "<path  class='atom-6' d='M 136.977 25.1113\n",
       "Q 136.977 19.0113, 139.991 15.6024\n",
       "Q 143.005 12.1936, 148.639 12.1936\n",
       "Q 154.273 12.1936, 157.287 15.6024\n",
       "Q 160.301 19.0113, 160.301 25.1113\n",
       "Q 160.301 31.2831, 157.251 34.7996\n",
       "Q 154.201 38.2802, 148.639 38.2802\n",
       "Q 143.041 38.2802, 139.991 34.7996\n",
       "Q 136.977 31.319, 136.977 25.1113\n",
       "M 148.639 35.4096\n",
       "Q 152.514 35.4096, 154.595 32.826\n",
       "Q 156.713 30.2066, 156.713 25.1113\n",
       "Q 156.713 20.1236, 154.595 17.6119\n",
       "Q 152.514 15.0642, 148.639 15.0642\n",
       "Q 144.764 15.0642, 142.647 17.576\n",
       "Q 140.565 20.0877, 140.565 25.1113\n",
       "Q 140.565 30.2425, 142.647 32.826\n",
       "Q 144.764 35.4096, 148.639 35.4096\n",
       "' fill='#FF0000'/>\n",
       "<path  class='atom-8' d='M 409.667 112.402\n",
       "L 413.111 112.402\n",
       "L 413.111 123.202\n",
       "L 426.101 123.202\n",
       "L 426.101 112.402\n",
       "L 429.545 112.402\n",
       "L 429.545 137.806\n",
       "L 426.101 137.806\n",
       "L 426.101 126.073\n",
       "L 413.111 126.073\n",
       "L 413.111 137.806\n",
       "L 409.667 137.806\n",
       "L 409.667 112.402\n",
       "' fill='#000000'/>\n",
       "<path  class='atom-9' d='M 409.667 112.402\n",
       "L 413.111 112.402\n",
       "L 413.111 123.202\n",
       "L 426.101 123.202\n",
       "L 426.101 112.402\n",
       "L 429.545 112.402\n",
       "L 429.545 137.806\n",
       "L 426.101 137.806\n",
       "L 426.101 126.073\n",
       "L 413.111 126.073\n",
       "L 413.111 137.806\n",
       "L 409.667 137.806\n",
       "L 409.667 112.402\n",
       "' fill='#000000'/>\n",
       "<path  class='atom-10' d='M 409.667 112.402\n",
       "L 413.111 112.402\n",
       "L 413.111 123.202\n",
       "L 426.101 123.202\n",
       "L 426.101 112.402\n",
       "L 429.545 112.402\n",
       "L 429.545 137.806\n",
       "L 426.101 137.806\n",
       "L 426.101 126.073\n",
       "L 413.111 126.073\n",
       "L 413.111 137.806\n",
       "L 409.667 137.806\n",
       "L 409.667 112.402\n",
       "' fill='#000000'/>\n",
       "<path  class='atom-11' d='M 409.667 112.402\n",
       "L 413.111 112.402\n",
       "L 413.111 123.202\n",
       "L 426.101 123.202\n",
       "L 426.101 112.402\n",
       "L 429.545 112.402\n",
       "L 429.545 137.806\n",
       "L 426.101 137.806\n",
       "L 426.101 126.073\n",
       "L 413.111 126.073\n",
       "L 413.111 137.806\n",
       "L 409.667 137.806\n",
       "L 409.667 112.402\n",
       "' fill='#000000'/>\n",
       "<path  class='atom-12' d='M 409.667 112.402\n",
       "L 413.111 112.402\n",
       "L 413.111 123.202\n",
       "L 426.101 123.202\n",
       "L 426.101 112.402\n",
       "L 429.545 112.402\n",
       "L 429.545 137.806\n",
       "L 426.101 137.806\n",
       "L 426.101 126.073\n",
       "L 413.111 126.073\n",
       "L 413.111 137.806\n",
       "L 409.667 137.806\n",
       "L 409.667 112.402\n",
       "' fill='#000000'/>\n",
       "<path  class='atom-13' d='M 409.667 112.402\n",
       "L 413.111 112.402\n",
       "L 413.111 123.202\n",
       "L 426.101 123.202\n",
       "L 426.101 112.402\n",
       "L 429.545 112.402\n",
       "L 429.545 137.806\n",
       "L 426.101 137.806\n",
       "L 426.101 126.073\n",
       "L 413.111 126.073\n",
       "L 413.111 137.806\n",
       "L 409.667 137.806\n",
       "L 409.667 112.402\n",
       "' fill='#000000'/>\n",
       "<path  class='atom-14' d='M 409.667 112.402\n",
       "L 413.111 112.402\n",
       "L 413.111 123.202\n",
       "L 426.101 123.202\n",
       "L 426.101 112.402\n",
       "L 429.545 112.402\n",
       "L 429.545 137.806\n",
       "L 426.101 137.806\n",
       "L 426.101 126.073\n",
       "L 413.111 126.073\n",
       "L 413.111 137.806\n",
       "L 409.667 137.806\n",
       "L 409.667 112.402\n",
       "' fill='#000000'/>\n",
       "<path  class='atom-15' d='M 409.667 112.402\n",
       "L 413.111 112.402\n",
       "L 413.111 123.202\n",
       "L 426.101 123.202\n",
       "L 426.101 112.402\n",
       "L 429.545 112.402\n",
       "L 429.545 137.806\n",
       "L 426.101 137.806\n",
       "L 426.101 126.073\n",
       "L 413.111 126.073\n",
       "L 413.111 137.806\n",
       "L 409.667 137.806\n",
       "L 409.667 112.402\n",
       "' fill='#000000'/>\n",
       "<path d='M 413.626,131.084 L 413.626,119.124 L 425.586,119.124 L 425.586,131.084 L 413.626,131.084' style='fill:none;stroke:#FF0000;stroke-width:2.0px;stroke-linecap:butt;stroke-linejoin:miter;stroke-opacity:1;' />\n",
       "<path d='M 413.626,131.084 L 413.626,119.124 L 425.586,119.124 L 425.586,131.084 L 413.626,131.084' style='fill:none;stroke:#FF0000;stroke-width:2.0px;stroke-linecap:butt;stroke-linejoin:miter;stroke-opacity:1;' />\n",
       "<path d='M 413.626,131.084 L 413.626,119.124 L 425.586,119.124 L 425.586,131.084 L 413.626,131.084' style='fill:none;stroke:#FF0000;stroke-width:2.0px;stroke-linecap:butt;stroke-linejoin:miter;stroke-opacity:1;' />\n",
       "<path d='M 413.626,131.084 L 413.626,119.124 L 425.586,119.124 L 425.586,131.084 L 413.626,131.084' style='fill:none;stroke:#FF0000;stroke-width:2.0px;stroke-linecap:butt;stroke-linejoin:miter;stroke-opacity:1;' />\n",
       "</svg>\n"
      ],
      "text/plain": [
       "<rdkit.Chem.rdchem.Mol at 0x7f861b6cf4e0>"
      ]
     },
     "execution_count": 18,
     "metadata": {},
     "output_type": "execute_result"
    }
   ],
   "source": [
    "m = Chem.AddHs(m)\n",
    "m"
   ]
  },
  {
   "cell_type": "markdown",
   "metadata": {},
   "source": [
    "You may generate 2D coordinates for atoms to a obtain more reasonable depiction"
   ]
  },
  {
   "cell_type": "code",
   "execution_count": 19,
   "metadata": {
    "tags": []
   },
   "outputs": [],
   "source": [
    "from rdkit.Chem import AllChem"
   ]
  },
  {
   "cell_type": "code",
   "execution_count": 20,
   "metadata": {
    "collapsed": false,
    "jupyter": {
     "outputs_hidden": false
    }
   },
   "outputs": [
    {
     "data": {
      "text/plain": [
       "0"
      ]
     },
     "execution_count": 20,
     "metadata": {},
     "output_type": "execute_result"
    }
   ],
   "source": [
    "AllChem.Compute2DCoords(m)"
   ]
  },
  {
   "cell_type": "code",
   "execution_count": 21,
   "metadata": {
    "collapsed": false,
    "jupyter": {
     "outputs_hidden": false
    }
   },
   "outputs": [
    {
     "data": {
      "image/png": "[encoded data removed]",
      "image/svg+xml": [
       "<?xml version='1.0' encoding='iso-8859-1'?>\n",
       "<svg version='1.1' baseProfile='full'\n",
       "              xmlns='http://www.w3.org/2000/svg'\n",
       "                      xmlns:rdkit='http://www.rdkit.org/xml'\n",
       "                      xmlns:xlink='http://www.w3.org/1999/xlink'\n",
       "                  xml:space='preserve'\n",
       "width='450px' height='150px' viewBox='0 0 450 150'>\n",
       "<!-- END OF HEADER -->\n",
       "<rect style='opacity:1.0;fill:#FFFFFF;stroke:none' width='450' height='150' x='0' y='0'> </rect>\n",
       "<path class='bond-0 atom-0 atom-1' d='M 225,95.2873 L 194.921,106.81' style='fill:none;fill-rule:evenodd;stroke:#000000;stroke-width:2.0px;stroke-linecap:butt;stroke-linejoin:miter;stroke-opacity:1' />\n",
       "<path class='bond-0 atom-0 atom-1' d='M 218.184,91.0001 L 197.129,99.0662' style='fill:none;fill-rule:evenodd;stroke:#000000;stroke-width:2.0px;stroke-linecap:butt;stroke-linejoin:miter;stroke-opacity:1' />\n",
       "<path class='bond-5 atom-0 atom-5' d='M 225,95.2873 L 230.06,63.4769' style='fill:none;fill-rule:evenodd;stroke:#000000;stroke-width:2.0px;stroke-linecap:butt;stroke-linejoin:miter;stroke-opacity:1' />\n",
       "<path class='bond-8 atom-0 atom-8' d='M 225,95.2873 L 245.644,112.028' style='fill:none;fill-rule:evenodd;stroke:#000000;stroke-width:2.0px;stroke-linecap:butt;stroke-linejoin:miter;stroke-opacity:1' />\n",
       "<path class='bond-1 atom-1 atom-2' d='M 194.921,106.81 L 169.903,86.5231' style='fill:none;fill-rule:evenodd;stroke:#000000;stroke-width:2.0px;stroke-linecap:butt;stroke-linejoin:miter;stroke-opacity:1' />\n",
       "<path class='bond-9 atom-1 atom-9' d='M 194.921,106.81 L 190.715,133.255' style='fill:none;fill-rule:evenodd;stroke:#000000;stroke-width:2.0px;stroke-linecap:butt;stroke-linejoin:miter;stroke-opacity:1' />\n",
       "<path class='bond-2 atom-2 atom-3' d='M 169.903,86.5231 L 174.963,54.7127' style='fill:none;fill-rule:evenodd;stroke:#000000;stroke-width:2.0px;stroke-linecap:butt;stroke-linejoin:miter;stroke-opacity:1' />\n",
       "<path class='bond-2 atom-2 atom-3' d='M 177.024,82.7635 L 180.566,60.4962' style='fill:none;fill-rule:evenodd;stroke:#000000;stroke-width:2.0px;stroke-linecap:butt;stroke-linejoin:miter;stroke-opacity:1' />\n",
       "<path class='bond-10 atom-2 atom-10' d='M 169.903,86.5231 L 144.198,96.3704' style='fill:none;fill-rule:evenodd;stroke:#000000;stroke-width:2.0px;stroke-linecap:butt;stroke-linejoin:miter;stroke-opacity:1' />\n",
       "<path class='bond-3 atom-3 atom-4' d='M 174.963,54.7127 L 205.041,43.1896' style='fill:none;fill-rule:evenodd;stroke:#000000;stroke-width:2.0px;stroke-linecap:butt;stroke-linejoin:miter;stroke-opacity:1' />\n",
       "<path class='bond-11 atom-3 atom-11' d='M 174.963,54.7127 L 154.318,37.9723' style='fill:none;fill-rule:evenodd;stroke:#000000;stroke-width:2.0px;stroke-linecap:butt;stroke-linejoin:miter;stroke-opacity:1' />\n",
       "<path class='bond-4 atom-4 atom-5' d='M 205.041,43.1896 L 230.06,63.4769' style='fill:none;fill-rule:evenodd;stroke:#000000;stroke-width:2.0px;stroke-linecap:butt;stroke-linejoin:miter;stroke-opacity:1' />\n",
       "<path class='bond-4 atom-4 atom-5' d='M 204.737,51.2364 L 222.25,65.4376' style='fill:none;fill-rule:evenodd;stroke:#000000;stroke-width:2.0px;stroke-linecap:butt;stroke-linejoin:miter;stroke-opacity:1' />\n",
       "<path class='bond-12 atom-4 atom-12' d='M 205.041,43.1896 L 209.248,16.7454' style='fill:none;fill-rule:evenodd;stroke:#000000;stroke-width:2.0px;stroke-linecap:butt;stroke-linejoin:miter;stroke-opacity:1' />\n",
       "<path class='bond-6 atom-5 atom-6' d='M 230.06,63.4769 L 242.603,58.6717' style='fill:none;fill-rule:evenodd;stroke:#000000;stroke-width:2.0px;stroke-linecap:butt;stroke-linejoin:miter;stroke-opacity:1' />\n",
       "<path class='bond-6 atom-5 atom-6' d='M 242.603,58.6717 L 255.146,53.8665' style='fill:none;fill-rule:evenodd;stroke:#FF0000;stroke-width:2.0px;stroke-linecap:butt;stroke-linejoin:miter;stroke-opacity:1' />\n",
       "<path class='bond-7 atom-6 atom-7' d='M 265.131,56.0023 L 275.144,64.1218' style='fill:none;fill-rule:evenodd;stroke:#FF0000;stroke-width:2.0px;stroke-linecap:butt;stroke-linejoin:miter;stroke-opacity:1' />\n",
       "<path class='bond-7 atom-6 atom-7' d='M 275.144,64.1218 L 285.157,72.2412' style='fill:none;fill-rule:evenodd;stroke:#000000;stroke-width:2.0px;stroke-linecap:butt;stroke-linejoin:miter;stroke-opacity:1' />\n",
       "<path class='bond-13 atom-7 atom-13' d='M 285.157,72.2412 L 305.802,88.9816' style='fill:none;fill-rule:evenodd;stroke:#000000;stroke-width:2.0px;stroke-linecap:butt;stroke-linejoin:miter;stroke-opacity:1' />\n",
       "<path class='bond-14 atom-7 atom-14' d='M 285.157,72.2412 L 301.093,52.5889' style='fill:none;fill-rule:evenodd;stroke:#000000;stroke-width:2.0px;stroke-linecap:butt;stroke-linejoin:miter;stroke-opacity:1' />\n",
       "<path class='bond-15 atom-7 atom-15' d='M 285.157,72.2412 L 269.221,91.8936' style='fill:none;fill-rule:evenodd;stroke:#000000;stroke-width:2.0px;stroke-linecap:butt;stroke-linejoin:miter;stroke-opacity:1' />\n",
       "<path  class='atom-6' d='M 255.951 51.9796\n",
       "Q 255.951 49.7893, 257.034 48.5653\n",
       "Q 258.116 47.3413, 260.139 47.3413\n",
       "Q 262.162 47.3413, 263.244 48.5653\n",
       "Q 264.326 49.7893, 264.326 51.9796\n",
       "Q 264.326 54.1957, 263.231 55.4584\n",
       "Q 262.136 56.7081, 260.139 56.7081\n",
       "Q 258.129 56.7081, 257.034 55.4584\n",
       "Q 255.951 54.2086, 255.951 51.9796\n",
       "M 260.139 55.6774\n",
       "Q 261.53 55.6774, 262.277 54.7497\n",
       "Q 263.038 53.8092, 263.038 51.9796\n",
       "Q 263.038 50.1887, 262.277 49.2868\n",
       "Q 261.53 48.3721, 260.139 48.3721\n",
       "Q 258.747 48.3721, 257.987 49.274\n",
       "Q 257.24 50.1759, 257.24 51.9796\n",
       "Q 257.24 53.8221, 257.987 54.7497\n",
       "Q 258.747 55.6774, 260.139 55.6774\n",
       "' fill='#FF0000'/>\n",
       "<path  class='atom-8' d='M 246.45 111.014\n",
       "L 247.687 111.014\n",
       "L 247.687 114.892\n",
       "L 252.351 114.892\n",
       "L 252.351 111.014\n",
       "L 253.588 111.014\n",
       "L 253.588 120.136\n",
       "L 252.351 120.136\n",
       "L 252.351 115.923\n",
       "L 247.687 115.923\n",
       "L 247.687 120.136\n",
       "L 246.45 120.136\n",
       "L 246.45 111.014\n",
       "' fill='#000000'/>\n",
       "<path  class='atom-9' d='M 186.292 134.06\n",
       "L 187.529 134.06\n",
       "L 187.529 137.938\n",
       "L 192.193 137.938\n",
       "L 192.193 134.06\n",
       "L 193.43 134.06\n",
       "L 193.43 143.182\n",
       "L 192.193 143.182\n",
       "L 192.193 138.969\n",
       "L 187.529 138.969\n",
       "L 187.529 143.182\n",
       "L 186.292 143.182\n",
       "L 186.292 134.06\n",
       "' fill='#000000'/>\n",
       "<path  class='atom-10' d='M 136.255 93.4851\n",
       "L 137.492 93.4851\n",
       "L 137.492 97.3633\n",
       "L 142.156 97.3633\n",
       "L 142.156 93.4851\n",
       "L 143.393 93.4851\n",
       "L 143.393 102.607\n",
       "L 142.156 102.607\n",
       "L 142.156 98.394\n",
       "L 137.492 98.394\n",
       "L 137.492 102.607\n",
       "L 136.255 102.607\n",
       "L 136.255 93.4851\n",
       "' fill='#000000'/>\n",
       "<path  class='atom-11' d='M 146.375 29.8643\n",
       "L 147.612 29.8643\n",
       "L 147.612 33.7424\n",
       "L 152.276 33.7424\n",
       "L 152.276 29.8643\n",
       "L 153.513 29.8643\n",
       "L 153.513 38.9863\n",
       "L 152.276 38.9863\n",
       "L 152.276 34.7732\n",
       "L 147.612 34.7732\n",
       "L 147.612 38.9863\n",
       "L 146.375 38.9863\n",
       "L 146.375 29.8643\n",
       "' fill='#000000'/>\n",
       "<path  class='atom-12' d='M 206.533 6.81818\n",
       "L 207.769 6.81818\n",
       "L 207.769 10.6963\n",
       "L 212.434 10.6963\n",
       "L 212.434 6.81818\n",
       "L 213.67 6.81818\n",
       "L 213.67 15.9402\n",
       "L 212.434 15.9402\n",
       "L 212.434 11.727\n",
       "L 207.769 11.727\n",
       "L 207.769 15.9402\n",
       "L 206.533 15.9402\n",
       "L 206.533 6.81818\n",
       "' fill='#000000'/>\n",
       "<path  class='atom-13' d='M 306.607 87.9676\n",
       "L 307.844 87.9676\n",
       "L 307.844 91.8457\n",
       "L 312.508 91.8457\n",
       "L 312.508 87.9676\n",
       "L 313.745 87.9676\n",
       "L 313.745 97.0896\n",
       "L 312.508 97.0896\n",
       "L 312.508 92.8764\n",
       "L 307.844 92.8764\n",
       "L 307.844 97.0896\n",
       "L 306.607 97.0896\n",
       "L 306.607 87.9676\n",
       "' fill='#000000'/>\n",
       "<path  class='atom-14' d='M 301.876 42.6616\n",
       "L 303.113 42.6616\n",
       "L 303.113 46.5398\n",
       "L 307.777 46.5398\n",
       "L 307.777 42.6616\n",
       "L 309.014 42.6616\n",
       "L 309.014 51.7836\n",
       "L 307.777 51.7836\n",
       "L 307.777 47.5705\n",
       "L 303.113 47.5705\n",
       "L 303.113 51.7836\n",
       "L 301.876 51.7836\n",
       "L 301.876 42.6616\n",
       "' fill='#000000'/>\n",
       "<path  class='atom-15' d='M 261.301 92.6988\n",
       "L 262.538 92.6988\n",
       "L 262.538 96.577\n",
       "L 267.202 96.577\n",
       "L 267.202 92.6988\n",
       "L 268.439 92.6988\n",
       "L 268.439 101.821\n",
       "L 267.202 101.821\n",
       "L 267.202 97.6077\n",
       "L 262.538 97.6077\n",
       "L 262.538 101.821\n",
       "L 261.301 101.821\n",
       "L 261.301 92.6988\n",
       "' fill='#000000'/>\n",
       "</svg>\n"
      ],
      "text/plain": [
       "<rdkit.Chem.rdchem.Mol at 0x7f861b6cf4e0>"
      ]
     },
     "execution_count": 21,
     "metadata": {},
     "output_type": "execute_result"
    }
   ],
   "source": [
    "m"
   ]
  },
  {
   "cell_type": "markdown",
   "metadata": {},
   "source": [
    "To avoid lose of hydrogens add `removeHs = False`, it will keep them during reading."
   ]
  },
  {
   "cell_type": "code",
   "execution_count": 22,
   "metadata": {
    "collapsed": false,
    "jupyter": {
     "outputs_hidden": false
    }
   },
   "outputs": [
    {
     "data": {
      "image/png": "[encoded data removed]",
      "image/svg+xml": [
       "<?xml version='1.0' encoding='iso-8859-1'?>\n",
       "<svg version='1.1' baseProfile='full'\n",
       "              xmlns='http://www.w3.org/2000/svg'\n",
       "                      xmlns:rdkit='http://www.rdkit.org/xml'\n",
       "                      xmlns:xlink='http://www.w3.org/1999/xlink'\n",
       "                  xml:space='preserve'\n",
       "width='450px' height='150px' viewBox='0 0 450 150'>\n",
       "<!-- END OF HEADER -->\n",
       "<rect style='opacity:1.0;fill:#FFFFFF;stroke:none' width='450' height='150' x='0' y='0'> </rect>\n",
       "<path class='bond-0 atom-0 atom-1' d='M 198.844,44.797 L 172.687,59.8985' style='fill:none;fill-rule:evenodd;stroke:#000000;stroke-width:2.0px;stroke-linecap:butt;stroke-linejoin:miter;stroke-opacity:1' />\n",
       "<path class='bond-0 atom-0 atom-1' d='M 198.215,52.7692 L 179.905,63.3402' style='fill:none;fill-rule:evenodd;stroke:#000000;stroke-width:2.0px;stroke-linecap:butt;stroke-linejoin:miter;stroke-opacity:1' />\n",
       "<path class='bond-5 atom-0 atom-5' d='M 198.844,44.797 L 224.998,59.8985' style='fill:none;fill-rule:evenodd;stroke:#000000;stroke-width:2.0px;stroke-linecap:butt;stroke-linejoin:miter;stroke-opacity:1' />\n",
       "<path class='bond-8 atom-0 atom-8' d='M 198.844,44.797 L 198.844,21.1811' style='fill:none;fill-rule:evenodd;stroke:#000000;stroke-width:2.0px;stroke-linecap:butt;stroke-linejoin:miter;stroke-opacity:1' />\n",
       "<path class='bond-1 atom-1 atom-2' d='M 172.687,59.8985 L 172.687,90.1015' style='fill:none;fill-rule:evenodd;stroke:#000000;stroke-width:2.0px;stroke-linecap:butt;stroke-linejoin:miter;stroke-opacity:1' />\n",
       "<path class='bond-9 atom-1 atom-9' d='M 172.687,59.8985 L 151.848,47.8675' style='fill:none;fill-rule:evenodd;stroke:#000000;stroke-width:2.0px;stroke-linecap:butt;stroke-linejoin:miter;stroke-opacity:1' />\n",
       "<path class='bond-2 atom-2 atom-3' d='M 172.687,90.1015 L 198.844,105.203' style='fill:none;fill-rule:evenodd;stroke:#000000;stroke-width:2.0px;stroke-linecap:butt;stroke-linejoin:miter;stroke-opacity:1' />\n",
       "<path class='bond-2 atom-2 atom-3' d='M 179.905,86.6598 L 198.215,97.2308' style='fill:none;fill-rule:evenodd;stroke:#000000;stroke-width:2.0px;stroke-linecap:butt;stroke-linejoin:miter;stroke-opacity:1' />\n",
       "<path class='bond-10 atom-2 atom-10' d='M 172.687,90.1015 L 151.848,102.132' style='fill:none;fill-rule:evenodd;stroke:#000000;stroke-width:2.0px;stroke-linecap:butt;stroke-linejoin:miter;stroke-opacity:1' />\n",
       "<path class='bond-3 atom-3 atom-4' d='M 198.844,105.203 L 224.998,90.1015' style='fill:none;fill-rule:evenodd;stroke:#000000;stroke-width:2.0px;stroke-linecap:butt;stroke-linejoin:miter;stroke-opacity:1' />\n",
       "<path class='bond-11 atom-3 atom-11' d='M 198.844,105.203 L 198.844,128.819' style='fill:none;fill-rule:evenodd;stroke:#000000;stroke-width:2.0px;stroke-linecap:butt;stroke-linejoin:miter;stroke-opacity:1' />\n",
       "<path class='bond-4 atom-4 atom-5' d='M 224.998,90.1015 L 224.998,59.8985' style='fill:none;fill-rule:evenodd;stroke:#000000;stroke-width:2.0px;stroke-linecap:butt;stroke-linejoin:miter;stroke-opacity:1' />\n",
       "<path class='bond-4 atom-4 atom-5' d='M 218.408,85.571 L 218.408,64.429' style='fill:none;fill-rule:evenodd;stroke:#000000;stroke-width:2.0px;stroke-linecap:butt;stroke-linejoin:miter;stroke-opacity:1' />\n",
       "<path class='bond-12 atom-4 atom-12' d='M 224.998,90.1015 L 245.837,102.132' style='fill:none;fill-rule:evenodd;stroke:#000000;stroke-width:2.0px;stroke-linecap:butt;stroke-linejoin:miter;stroke-opacity:1' />\n",
       "<path class='bond-6 atom-5 atom-6' d='M 224.998,59.8985 L 235.022,54.1113' style='fill:none;fill-rule:evenodd;stroke:#000000;stroke-width:2.0px;stroke-linecap:butt;stroke-linejoin:miter;stroke-opacity:1' />\n",
       "<path class='bond-6 atom-5 atom-6' d='M 235.022,54.1113 L 245.047,48.3241' style='fill:none;fill-rule:evenodd;stroke:#FF0000;stroke-width:2.0px;stroke-linecap:butt;stroke-linejoin:miter;stroke-opacity:1' />\n",
       "<path class='bond-7 atom-6 atom-7' d='M 257.265,48.3241 L 267.289,54.1113' style='fill:none;fill-rule:evenodd;stroke:#FF0000;stroke-width:2.0px;stroke-linecap:butt;stroke-linejoin:miter;stroke-opacity:1' />\n",
       "<path class='bond-7 atom-6 atom-7' d='M 267.289,54.1113 L 277.313,59.8985' style='fill:none;fill-rule:evenodd;stroke:#000000;stroke-width:2.0px;stroke-linecap:butt;stroke-linejoin:miter;stroke-opacity:1' />\n",
       "<path class='bond-13 atom-7 atom-13' d='M 277.313,59.8985 L 266.015,79.4691' style='fill:none;fill-rule:evenodd;stroke:#000000;stroke-width:2.0px;stroke-linecap:butt;stroke-linejoin:miter;stroke-opacity:1' />\n",
       "<path class='bond-14 atom-7 atom-14' d='M 277.313,59.8985 L 298.152,71.9295' style='fill:none;fill-rule:evenodd;stroke:#000000;stroke-width:2.0px;stroke-linecap:butt;stroke-linejoin:miter;stroke-opacity:1' />\n",
       "<path class='bond-15 atom-7 atom-15' d='M 277.313,59.8985 L 288.612,40.3279' style='fill:none;fill-rule:evenodd;stroke:#000000;stroke-width:2.0px;stroke-linecap:butt;stroke-linejoin:miter;stroke-opacity:1' />\n",
       "<path  class='atom-6' d='M 245.802 44.83\n",
       "Q 245.802 42.0293, 247.185 40.4643\n",
       "Q 248.569 38.8992, 251.156 38.8992\n",
       "Q 253.742 38.8992, 255.126 40.4643\n",
       "Q 256.51 42.0293, 256.51 44.83\n",
       "Q 256.51 47.6636, 255.11 49.2781\n",
       "Q 253.709 50.8761, 251.156 50.8761\n",
       "Q 248.586 50.8761, 247.185 49.2781\n",
       "Q 245.802 47.68, 245.802 44.83\n",
       "M 251.156 49.5581\n",
       "Q 252.935 49.5581, 253.891 48.372\n",
       "Q 254.862 47.1693, 254.862 44.83\n",
       "Q 254.862 42.5401, 253.891 41.3868\n",
       "Q 252.935 40.2172, 251.156 40.2172\n",
       "Q 249.377 40.2172, 248.405 41.3704\n",
       "Q 247.449 42.5236, 247.449 44.83\n",
       "Q 247.449 47.1858, 248.405 48.372\n",
       "Q 249.377 49.5581, 251.156 49.5581\n",
       "' fill='#FF0000'/>\n",
       "<path  class='atom-8' d='M 194.281 8.76215\n",
       "L 195.862 8.76215\n",
       "L 195.862 13.7209\n",
       "L 201.826 13.7209\n",
       "L 201.826 8.76215\n",
       "L 203.408 8.76215\n",
       "L 203.408 20.426\n",
       "L 201.826 20.426\n",
       "L 201.826 15.0389\n",
       "L 195.862 15.0389\n",
       "L 195.862 20.426\n",
       "L 194.281 20.426\n",
       "L 194.281 8.76215\n",
       "' fill='#000000'/>\n",
       "<path  class='atom-9' d='M 141.966 38.9651\n",
       "L 143.547 38.9651\n",
       "L 143.547 43.9239\n",
       "L 149.511 43.9239\n",
       "L 149.511 38.9651\n",
       "L 151.092 38.9651\n",
       "L 151.092 50.629\n",
       "L 149.511 50.629\n",
       "L 149.511 45.2418\n",
       "L 143.547 45.2418\n",
       "L 143.547 50.629\n",
       "L 141.966 50.629\n",
       "L 141.966 38.9651\n",
       "' fill='#000000'/>\n",
       "<path  class='atom-10' d='M 141.966 99.371\n",
       "L 143.547 99.371\n",
       "L 143.547 104.33\n",
       "L 149.511 104.33\n",
       "L 149.511 99.371\n",
       "L 151.092 99.371\n",
       "L 151.092 111.035\n",
       "L 149.511 111.035\n",
       "L 149.511 105.648\n",
       "L 143.547 105.648\n",
       "L 143.547 111.035\n",
       "L 141.966 111.035\n",
       "L 141.966 99.371\n",
       "' fill='#000000'/>\n",
       "<path  class='atom-11' d='M 194.281 129.574\n",
       "L 195.862 129.574\n",
       "L 195.862 134.533\n",
       "L 201.826 134.533\n",
       "L 201.826 129.574\n",
       "L 203.408 129.574\n",
       "L 203.408 141.238\n",
       "L 201.826 141.238\n",
       "L 201.826 135.851\n",
       "L 195.862 135.851\n",
       "L 195.862 141.238\n",
       "L 194.281 141.238\n",
       "L 194.281 129.574\n",
       "' fill='#000000'/>\n",
       "<path  class='atom-12' d='M 246.592 99.371\n",
       "L 248.174 99.371\n",
       "L 248.174 104.33\n",
       "L 254.138 104.33\n",
       "L 254.138 99.371\n",
       "L 255.719 99.371\n",
       "L 255.719 111.035\n",
       "L 254.138 111.035\n",
       "L 254.138 105.648\n",
       "L 248.174 105.648\n",
       "L 248.174 111.035\n",
       "L 246.592 111.035\n",
       "L 246.592 99.371\n",
       "' fill='#000000'/>\n",
       "<path  class='atom-13' d='M 257.648 80.2242\n",
       "L 259.23 80.2242\n",
       "L 259.23 85.183\n",
       "L 265.194 85.183\n",
       "L 265.194 80.2242\n",
       "L 266.775 80.2242\n",
       "L 266.775 91.888\n",
       "L 265.194 91.888\n",
       "L 265.194 86.5009\n",
       "L 259.23 86.5009\n",
       "L 259.23 91.888\n",
       "L 257.648 91.888\n",
       "L 257.648 80.2242\n",
       "' fill='#000000'/>\n",
       "<path  class='atom-14' d='M 298.908 69.1681\n",
       "L 300.489 69.1681\n",
       "L 300.489 74.1269\n",
       "L 306.453 74.1269\n",
       "L 306.453 69.1681\n",
       "L 308.034 69.1681\n",
       "L 308.034 80.8319\n",
       "L 306.453 80.8319\n",
       "L 306.453 75.4448\n",
       "L 300.489 75.4448\n",
       "L 300.489 80.8319\n",
       "L 298.908 80.8319\n",
       "L 298.908 69.1681\n",
       "' fill='#000000'/>\n",
       "<path  class='atom-15' d='M 287.851 27.909\n",
       "L 289.433 27.909\n",
       "L 289.433 32.8678\n",
       "L 295.397 32.8678\n",
       "L 295.397 27.909\n",
       "L 296.978 27.909\n",
       "L 296.978 39.5728\n",
       "L 295.397 39.5728\n",
       "L 295.397 34.1857\n",
       "L 289.433 34.1857\n",
       "L 289.433 39.5728\n",
       "L 287.851 39.5728\n",
       "L 287.851 27.909\n",
       "' fill='#000000'/>\n",
       "</svg>\n"
      ],
      "text/plain": [
       "<rdkit.Chem.rdchem.Mol at 0x7f861b7314e0>"
      ]
     },
     "execution_count": 22,
     "metadata": {},
     "output_type": "execute_result"
    }
   ],
   "source": [
    "m = Chem.MolFromMolFile(\"data/anisole.mol\", removeHs = False)\n",
    "m"
   ]
  },
  {
   "cell_type": "markdown",
   "metadata": {},
   "source": [
    " This can be particularly important for molecules with chiral centers with attached hydrogens."
   ]
  },
  {
   "cell_type": "code",
   "execution_count": 23,
   "metadata": {
    "collapsed": false,
    "jupyter": {
     "outputs_hidden": false
    }
   },
   "outputs": [
    {
     "data": {
      "image/png": "[encoded data removed]",
      "image/svg+xml": [
       "<?xml version='1.0' encoding='iso-8859-1'?>\n",
       "<svg version='1.1' baseProfile='full'\n",
       "              xmlns='http://www.w3.org/2000/svg'\n",
       "                      xmlns:rdkit='http://www.rdkit.org/xml'\n",
       "                      xmlns:xlink='http://www.w3.org/1999/xlink'\n",
       "                  xml:space='preserve'\n",
       "width='450px' height='150px' viewBox='0 0 450 150'>\n",
       "<!-- END OF HEADER -->\n",
       "<rect style='opacity:1.0;fill:#FFFFFF;stroke:none' width='450' height='150' x='0' y='0'> </rect>\n",
       "<path class='bond-0 atom-1 atom-0' d='M 216.746,102.327 L 141.533,135.462 L 150.447,150.901 Z' style='fill:#000000;fill-rule:evenodd;fill-opacity:1;stroke:#000000;stroke-width:2.0px;stroke-linecap:butt;stroke-linejoin:miter;stroke-opacity:1;' />\n",
       "<path class='bond-1 atom-1 atom-3' d='M 216.746,102.327 L 216.746,71.1508' style='fill:none;fill-rule:evenodd;stroke:#000000;stroke-width:2.0px;stroke-linecap:butt;stroke-linejoin:miter;stroke-opacity:1' />\n",
       "<path class='bond-1 atom-1 atom-3' d='M 216.746,71.1508 L 216.746,39.9747' style='fill:none;fill-rule:evenodd;stroke:#00CC00;stroke-width:2.0px;stroke-linecap:butt;stroke-linejoin:miter;stroke-opacity:1' />\n",
       "<path class='bond-2 atom-1 atom-2' d='M 216.746,102.327 L 250.86,105.62' style='fill:none;fill-rule:evenodd;stroke:#000000;stroke-width:2.0px;stroke-linecap:butt;stroke-linejoin:miter;stroke-opacity:1' />\n",
       "<path class='bond-2 atom-1 atom-2' d='M 250.86,105.62 L 284.975,108.914' style='fill:none;fill-rule:evenodd;stroke:#33CCCC;stroke-width:2.0px;stroke-linecap:butt;stroke-linejoin:miter;stroke-opacity:1' />\n",
       "<path  class='atom-2' d='M 286.974 94.2351\n",
       "L 305.738 94.2351\n",
       "L 305.738 97.8452\n",
       "L 291.208 97.8452\n",
       "L 291.208 107.428\n",
       "L 304.133 107.428\n",
       "L 304.133 111.082\n",
       "L 291.208 111.082\n",
       "L 291.208 125.79\n",
       "L 286.974 125.79\n",
       "L 286.974 94.2351\n",
       "' fill='#33CCCC'/>\n",
       "<path  class='atom-3' d='M 204.579 21.7088\n",
       "Q 204.579 13.8647, 208.233 9.76431\n",
       "Q 211.932 5.61939, 218.93 5.61939\n",
       "Q 225.437 5.61939, 228.913 10.21\n",
       "L 225.972 12.6167\n",
       "Q 223.431 9.27405, 218.93 9.27405\n",
       "Q 214.161 9.27405, 211.62 12.483\n",
       "Q 209.125 15.6474, 209.125 21.7088\n",
       "Q 209.125 27.9485, 211.71 31.1575\n",
       "Q 214.339 34.3664, 219.42 34.3664\n",
       "Q 222.896 34.3664, 226.952 32.2717\n",
       "L 228.2 35.6144\n",
       "Q 226.551 36.684, 224.055 37.308\n",
       "Q 221.559 37.932, 218.796 37.932\n",
       "Q 211.932 37.932, 208.233 33.7425\n",
       "Q 204.579 29.553, 204.579 21.7088\n",
       "' fill='#00CC00'/>\n",
       "<path  class='atom-3' d='M 232.746 3.70292\n",
       "L 236.847 3.70292\n",
       "L 236.847 37.5308\n",
       "L 232.746 37.5308\n",
       "L 232.746 3.70292\n",
       "' fill='#00CC00'/>\n",
       "</svg>\n"
      ],
      "text/plain": [
       "<rdkit.Chem.rdchem.Mol at 0x7f861b731d00>"
      ]
     },
     "execution_count": 23,
     "metadata": {},
     "output_type": "execute_result"
    }
   ],
   "source": [
    "m = Chem.MolFromMolFile(\"data/chlorofluoroethane.mol\")\n",
    "m"
   ]
  },
  {
   "cell_type": "code",
   "execution_count": 24,
   "metadata": {
    "collapsed": false,
    "jupyter": {
     "outputs_hidden": false
    }
   },
   "outputs": [
    {
     "data": {
      "image/png": "[encoded data removed]",
      "image/svg+xml": [
       "<?xml version='1.0' encoding='iso-8859-1'?>\n",
       "<svg version='1.1' baseProfile='full'\n",
       "              xmlns='http://www.w3.org/2000/svg'\n",
       "                      xmlns:rdkit='http://www.rdkit.org/xml'\n",
       "                      xmlns:xlink='http://www.w3.org/1999/xlink'\n",
       "                  xml:space='preserve'\n",
       "width='450px' height='150px' viewBox='0 0 450 150'>\n",
       "<!-- END OF HEADER -->\n",
       "<rect style='opacity:1.0;fill:#FFFFFF;stroke:none' width='450' height='150' x='0' y='0'> </rect>\n",
       "<path class='bond-0 atom-0 atom-1' d='M 167.786,107.641 L 218.033,78.6282' style='fill:none;fill-rule:evenodd;stroke:#000000;stroke-width:2.0px;stroke-linecap:butt;stroke-linejoin:miter;stroke-opacity:1' />\n",
       "<path class='bond-1 atom-1 atom-3' d='M 218.033,78.6282 L 218.033,56.4885' style='fill:none;fill-rule:evenodd;stroke:#000000;stroke-width:2.0px;stroke-linecap:butt;stroke-linejoin:miter;stroke-opacity:1' />\n",
       "<path class='bond-1 atom-1 atom-3' d='M 218.033,56.4885 L 218.033,34.3489' style='fill:none;fill-rule:evenodd;stroke:#00CC00;stroke-width:2.0px;stroke-linecap:butt;stroke-linejoin:miter;stroke-opacity:1' />\n",
       "<path class='bond-2 atom-1 atom-4' d='M 221.598,89.1071 L 224.418,87.6698' style='fill:none;fill-rule:evenodd;stroke:#000000;stroke-width:1.0px;stroke-linecap:butt;stroke-linejoin:miter;stroke-opacity:1' />\n",
       "<path class='bond-2 atom-1 atom-4' d='M 225.162,99.586 L 230.802,96.7115' style='fill:none;fill-rule:evenodd;stroke:#000000;stroke-width:1.0px;stroke-linecap:butt;stroke-linejoin:miter;stroke-opacity:1' />\n",
       "<path class='bond-2 atom-1 atom-4' d='M 228.727,110.065 L 237.186,105.753' style='fill:none;fill-rule:evenodd;stroke:#000000;stroke-width:1.0px;stroke-linecap:butt;stroke-linejoin:miter;stroke-opacity:1' />\n",
       "<path class='bond-2 atom-1 atom-4' d='M 232.291,120.544 L 243.571,114.795' style='fill:none;fill-rule:evenodd;stroke:#000000;stroke-width:1.0px;stroke-linecap:butt;stroke-linejoin:miter;stroke-opacity:1' />\n",
       "<path class='bond-3 atom-1 atom-2' d='M 218.033,78.6282 L 242.26,80.967' style='fill:none;fill-rule:evenodd;stroke:#000000;stroke-width:2.0px;stroke-linecap:butt;stroke-linejoin:miter;stroke-opacity:1' />\n",
       "<path class='bond-3 atom-1 atom-2' d='M 242.26,80.967 L 266.486,83.3059' style='fill:none;fill-rule:evenodd;stroke:#33CCCC;stroke-width:2.0px;stroke-linecap:butt;stroke-linejoin:miter;stroke-opacity:1' />\n",
       "<path  class='atom-2' d='M 267.906 72.8818\n",
       "L 281.231 72.8818\n",
       "L 281.231 75.4455\n",
       "L 270.913 75.4455\n",
       "L 270.913 82.2504\n",
       "L 280.091 82.2504\n",
       "L 280.091 84.8458\n",
       "L 270.913 84.8458\n",
       "L 270.913 95.2905\n",
       "L 267.906 95.2905\n",
       "L 267.906 72.8818\n",
       "' fill='#33CCCC'/>\n",
       "<path  class='atom-3' d='M 209.393 21.3774\n",
       "Q 209.393 15.8069, 211.988 12.895\n",
       "Q 214.615 9.95148, 219.584 9.95148\n",
       "Q 224.205 9.95148, 226.674 13.2115\n",
       "L 224.585 14.9206\n",
       "Q 222.781 12.5468, 219.584 12.5468\n",
       "Q 216.198 12.5468, 214.393 14.8257\n",
       "Q 212.621 17.0729, 212.621 21.3774\n",
       "Q 212.621 25.8085, 214.457 28.0873\n",
       "Q 216.324 30.3662, 219.932 30.3662\n",
       "Q 222.401 30.3662, 225.281 28.8786\n",
       "L 226.167 31.2524\n",
       "Q 224.996 32.012, 223.224 32.4551\n",
       "Q 221.452 32.8982, 219.489 32.8982\n",
       "Q 214.615 32.8982, 211.988 29.9231\n",
       "Q 209.393 26.9479, 209.393 21.3774\n",
       "' fill='#00CC00'/>\n",
       "<path  class='atom-3' d='M 229.396 8.5905\n",
       "L 232.308 8.5905\n",
       "L 232.308 32.6134\n",
       "L 229.396 32.6134\n",
       "L 229.396 8.5905\n",
       "' fill='#00CC00'/>\n",
       "<path  class='atom-4' d='M 235.613 119.12\n",
       "L 238.652 119.12\n",
       "L 238.652 128.647\n",
       "L 250.109 128.647\n",
       "L 250.109 119.12\n",
       "L 253.148 119.12\n",
       "L 253.148 141.529\n",
       "L 250.109 141.529\n",
       "L 250.109 131.179\n",
       "L 238.652 131.179\n",
       "L 238.652 141.529\n",
       "L 235.613 141.529\n",
       "L 235.613 119.12\n",
       "' fill='#000000'/>\n",
       "</svg>\n"
      ],
      "text/plain": [
       "<rdkit.Chem.rdchem.Mol at 0x7f861b72d260>"
      ]
     },
     "execution_count": 24,
     "metadata": {},
     "output_type": "execute_result"
    }
   ],
   "source": [
    "m = Chem.MolFromMolFile(\"data/chlorofluoroethane.mol\", removeHs = False)\n",
    "m"
   ]
  },
  {
   "cell_type": "markdown",
   "metadata": {},
   "source": [
    "SMILES reading automatically takes into account chiral hydrogen and preserves them."
   ]
  },
  {
   "cell_type": "code",
   "execution_count": 25,
   "metadata": {
    "collapsed": false,
    "jupyter": {
     "outputs_hidden": false
    }
   },
   "outputs": [
    {
     "data": {
      "image/png": "[encoded data removed]",
      "image/svg+xml": [
       "<?xml version='1.0' encoding='iso-8859-1'?>\n",
       "<svg version='1.1' baseProfile='full'\n",
       "              xmlns='http://www.w3.org/2000/svg'\n",
       "                      xmlns:rdkit='http://www.rdkit.org/xml'\n",
       "                      xmlns:xlink='http://www.w3.org/1999/xlink'\n",
       "                  xml:space='preserve'\n",
       "width='450px' height='150px' viewBox='0 0 450 150'>\n",
       "<!-- END OF HEADER -->\n",
       "<rect style='opacity:1.0;fill:#FFFFFF;stroke:none' width='450' height='150' x='0' y='0'> </rect>\n",
       "<path class='bond-0 atom-0 atom-1' d='M 221.799,94.3969 L 250.572,111.009' style='fill:none;fill-rule:evenodd;stroke:#000000;stroke-width:2.0px;stroke-linecap:butt;stroke-linejoin:miter;stroke-opacity:1' />\n",
       "<path class='bond-0 atom-0 atom-1' d='M 250.572,111.009 L 279.345,127.621' style='fill:none;fill-rule:evenodd;stroke:#33CCCC;stroke-width:2.0px;stroke-linecap:butt;stroke-linejoin:miter;stroke-opacity:1' />\n",
       "<path class='bond-1 atom-0 atom-2' d='M 221.799,94.3969 L 221.799,63.2372' style='fill:none;fill-rule:evenodd;stroke:#000000;stroke-width:2.0px;stroke-linecap:butt;stroke-linejoin:miter;stroke-opacity:1' />\n",
       "<path class='bond-1 atom-0 atom-2' d='M 221.799,63.2372 L 221.799,32.0775' style='fill:none;fill-rule:evenodd;stroke:#00CC00;stroke-width:2.0px;stroke-linecap:butt;stroke-linejoin:miter;stroke-opacity:1' />\n",
       "<path class='bond-2 atom-0 atom-3' d='M 221.799,94.3969 L 153.668,128.464 L 158.231,136.366 Z' style='fill:#000000;fill-rule:evenodd;fill-opacity:1;stroke:#000000;stroke-width:2.0px;stroke-linecap:butt;stroke-linejoin:miter;stroke-opacity:1;' />\n",
       "<path  class='atom-1' d='M 281.246 121.648\n",
       "L 294.051 121.648\n",
       "L 294.051 124.112\n",
       "L 284.135 124.112\n",
       "L 284.135 130.651\n",
       "L 292.956 130.651\n",
       "L 292.956 133.145\n",
       "L 284.135 133.145\n",
       "L 284.135 143.182\n",
       "L 281.246 143.182\n",
       "L 281.246 121.648\n",
       "' fill='#33CCCC'/>\n",
       "<path  class='atom-2' d='M 213.496 19.1057\n",
       "Q 213.496 13.7527, 215.99 10.9546\n",
       "Q 218.514 8.12601, 223.289 8.12601\n",
       "Q 227.73 8.12601, 230.102 11.2587\n",
       "L 228.095 12.9011\n",
       "Q 226.361 10.62, 223.289 10.62\n",
       "Q 220.035 10.62, 218.301 12.8098\n",
       "Q 216.598 14.9693, 216.598 19.1057\n",
       "Q 216.598 23.3637, 218.362 25.5535\n",
       "Q 220.156 27.7434, 223.624 27.7434\n",
       "Q 225.996 27.7434, 228.764 26.3139\n",
       "L 229.615 28.595\n",
       "Q 228.49 29.3249, 226.787 29.7508\n",
       "Q 225.084 30.1766, 223.198 30.1766\n",
       "Q 218.514 30.1766, 215.99 27.3176\n",
       "Q 213.496 24.4586, 213.496 19.1057\n",
       "' fill='#00CC00'/>\n",
       "<path  class='atom-2' d='M 232.718 6.81818\n",
       "L 235.516 6.81818\n",
       "L 235.516 29.9028\n",
       "L 232.718 29.9028\n",
       "L 232.718 6.81818\n",
       "' fill='#00CC00'/>\n",
       "</svg>\n"
      ],
      "text/plain": [
       "<rdkit.Chem.rdchem.Mol at 0x7f861b72d7b0>"
      ]
     },
     "execution_count": 25,
     "metadata": {},
     "output_type": "execute_result"
    }
   ],
   "source": [
    "m = Chem.MolFromSmiles(\"[C@@H](F)(Cl)C\")\n",
    "m"
   ]
  },
  {
   "cell_type": "markdown",
   "metadata": {},
   "source": [
    "However, explicitly specified Hs will be removed."
   ]
  },
  {
   "cell_type": "code",
   "execution_count": 26,
   "metadata": {
    "collapsed": false,
    "jupyter": {
     "outputs_hidden": false
    }
   },
   "outputs": [
    {
     "data": {
      "image/png": "[encoded data removed]",
      "image/svg+xml": [
       "<?xml version='1.0' encoding='iso-8859-1'?>\n",
       "<svg version='1.1' baseProfile='full'\n",
       "              xmlns='http://www.w3.org/2000/svg'\n",
       "                      xmlns:rdkit='http://www.rdkit.org/xml'\n",
       "                      xmlns:xlink='http://www.w3.org/1999/xlink'\n",
       "                  xml:space='preserve'\n",
       "width='450px' height='150px' viewBox='0 0 450 150'>\n",
       "<!-- END OF HEADER -->\n",
       "<rect style='opacity:1.0;fill:#FFFFFF;stroke:none' width='450' height='150' x='0' y='0'> </rect>\n",
       "<path class='bond-0 atom-0 atom-1' d='M 221.799,94.3969 L 250.572,111.009' style='fill:none;fill-rule:evenodd;stroke:#000000;stroke-width:2.0px;stroke-linecap:butt;stroke-linejoin:miter;stroke-opacity:1' />\n",
       "<path class='bond-0 atom-0 atom-1' d='M 250.572,111.009 L 279.345,127.621' style='fill:none;fill-rule:evenodd;stroke:#33CCCC;stroke-width:2.0px;stroke-linecap:butt;stroke-linejoin:miter;stroke-opacity:1' />\n",
       "<path class='bond-1 atom-0 atom-2' d='M 221.799,94.3969 L 221.799,63.2372' style='fill:none;fill-rule:evenodd;stroke:#000000;stroke-width:2.0px;stroke-linecap:butt;stroke-linejoin:miter;stroke-opacity:1' />\n",
       "<path class='bond-1 atom-0 atom-2' d='M 221.799,63.2372 L 221.799,32.0775' style='fill:none;fill-rule:evenodd;stroke:#00CC00;stroke-width:2.0px;stroke-linecap:butt;stroke-linejoin:miter;stroke-opacity:1' />\n",
       "<path class='bond-2 atom-0 atom-3' d='M 221.799,94.3969 L 155.949,132.415' style='fill:none;fill-rule:evenodd;stroke:#000000;stroke-width:2.0px;stroke-linecap:butt;stroke-linejoin:miter;stroke-opacity:1' />\n",
       "<path  class='atom-1' d='M 281.246 121.648\n",
       "L 294.051 121.648\n",
       "L 294.051 124.112\n",
       "L 284.135 124.112\n",
       "L 284.135 130.651\n",
       "L 292.956 130.651\n",
       "L 292.956 133.145\n",
       "L 284.135 133.145\n",
       "L 284.135 143.182\n",
       "L 281.246 143.182\n",
       "L 281.246 121.648\n",
       "' fill='#33CCCC'/>\n",
       "<path  class='atom-2' d='M 213.496 19.1057\n",
       "Q 213.496 13.7527, 215.99 10.9546\n",
       "Q 218.514 8.12601, 223.289 8.12601\n",
       "Q 227.73 8.12601, 230.102 11.2587\n",
       "L 228.095 12.9011\n",
       "Q 226.361 10.62, 223.289 10.62\n",
       "Q 220.035 10.62, 218.301 12.8098\n",
       "Q 216.598 14.9693, 216.598 19.1057\n",
       "Q 216.598 23.3637, 218.362 25.5535\n",
       "Q 220.156 27.7434, 223.624 27.7434\n",
       "Q 225.996 27.7434, 228.764 26.3139\n",
       "L 229.615 28.595\n",
       "Q 228.49 29.3249, 226.787 29.7508\n",
       "Q 225.084 30.1766, 223.198 30.1766\n",
       "Q 218.514 30.1766, 215.99 27.3176\n",
       "Q 213.496 24.4586, 213.496 19.1057\n",
       "' fill='#00CC00'/>\n",
       "<path  class='atom-2' d='M 232.718 6.81818\n",
       "L 235.516 6.81818\n",
       "L 235.516 29.9028\n",
       "L 232.718 29.9028\n",
       "L 232.718 6.81818\n",
       "' fill='#00CC00'/>\n",
       "</svg>\n"
      ],
      "text/plain": [
       "<rdkit.Chem.rdchem.Mol at 0x7f861b72dcb0>"
      ]
     },
     "execution_count": 26,
     "metadata": {},
     "output_type": "execute_result"
    }
   ],
   "source": [
    "m = Chem.MolFromSmiles(\"C([H])(F)(Cl)C\")\n",
    "m"
   ]
  },
  {
   "cell_type": "markdown",
   "metadata": {},
   "source": [
    "### Writing"
   ]
  },
  {
   "cell_type": "markdown",
   "metadata": {},
   "source": [
    "#### SMILES\n",
    "By default saving to SMILES provides canonical SMILES but without chirality"
   ]
  },
  {
   "cell_type": "code",
   "execution_count": 27,
   "metadata": {
    "collapsed": false,
    "jupyter": {
     "outputs_hidden": false
    }
   },
   "outputs": [
    {
     "data": {
      "text/plain": [
       "'C[C@H](F)Cl'"
      ]
     },
     "execution_count": 27,
     "metadata": {},
     "output_type": "execute_result"
    }
   ],
   "source": [
    "m = Chem.MolFromSmiles(\"[C@@H](F)(Cl)C\")\n",
    "Chem.MolToSmiles(m)"
   ]
  },
  {
   "cell_type": "code",
   "execution_count": 28,
   "metadata": {
    "collapsed": false,
    "jupyter": {
     "outputs_hidden": false
    }
   },
   "outputs": [
    {
     "data": {
      "text/plain": [
       "'C[C@H](F)Cl'"
      ]
     },
     "execution_count": 28,
     "metadata": {},
     "output_type": "execute_result"
    }
   ],
   "source": [
    "Chem.MolToSmiles(m, isomericSmiles = True)"
   ]
  },
  {
   "cell_type": "markdown",
   "metadata": {},
   "source": [
    "#### MolBlock"
   ]
  },
  {
   "cell_type": "code",
   "execution_count": 29,
   "metadata": {
    "collapsed": false,
    "jupyter": {
     "outputs_hidden": false
    }
   },
   "outputs": [
    {
     "name": "stdout",
     "output_type": "stream",
     "text": [
      "\n",
      "     RDKit          2D\n",
      "\n",
      "  4  3  0  0  0  0  0  0  0  0999 V2000\n",
      "    1.2990    0.7500    0.0000 C   0  0  0  0  0  0  0  0  0  0  0  0\n",
      "    2.5981   -0.0000    0.0000 F   0  0  0  0  0  0  0  0  0  0  0  0\n",
      "    1.2990    2.2500    0.0000 Cl  0  0  0  0  0  0  0  0  0  0  0  0\n",
      "    0.0000    0.0000    0.0000 C   0  0  0  0  0  0  0  0  0  0  0  0\n",
      "  1  2  1  0\n",
      "  1  3  1  0\n",
      "  1  4  1  1\n",
      "M  END\n",
      "\n"
     ]
    }
   ],
   "source": [
    "molblock = Chem.MolToMolBlock(m)\n",
    "print(molblock)"
   ]
  },
  {
   "cell_type": "markdown",
   "metadata": {},
   "source": [
    "However, chirality was lost. Specifying `includeStereo = True` doesn't help."
   ]
  },
  {
   "cell_type": "code",
   "execution_count": 30,
   "metadata": {
    "collapsed": false,
    "jupyter": {
     "outputs_hidden": false
    }
   },
   "outputs": [
    {
     "name": "stdout",
     "output_type": "stream",
     "text": [
      "\n",
      "     RDKit          2D\n",
      "\n",
      "  4  3  0  0  0  0  0  0  0  0999 V2000\n",
      "    1.2990    0.7500    0.0000 C   0  0  0  0  0  0  0  0  0  0  0  0\n",
      "    2.5981   -0.0000    0.0000 F   0  0  0  0  0  0  0  0  0  0  0  0\n",
      "    1.2990    2.2500    0.0000 Cl  0  0  0  0  0  0  0  0  0  0  0  0\n",
      "    0.0000    0.0000    0.0000 C   0  0  0  0  0  0  0  0  0  0  0  0\n",
      "  1  2  1  0\n",
      "  1  3  1  0\n",
      "  1  4  1  1\n",
      "M  END\n",
      "\n"
     ]
    }
   ],
   "source": [
    "molblock = Chem.MolToMolBlock(m, includeStereo = True)\n",
    "print(molblock)"
   ]
  },
  {
   "cell_type": "markdown",
   "metadata": {},
   "source": [
    "You may note that `MolToMolBlock` produces output with all coordinates identical. Therefore it may be useful to generate them to obtain reasonable 2D depiction. At the same time stereoinformation will appear."
   ]
  },
  {
   "cell_type": "code",
   "execution_count": 31,
   "metadata": {
    "collapsed": false,
    "jupyter": {
     "outputs_hidden": false
    }
   },
   "outputs": [
    {
     "name": "stdout",
     "output_type": "stream",
     "text": [
      "\n",
      "     RDKit          2D\n",
      "\n",
      "  4  3  0  0  0  0  0  0  0  0999 V2000\n",
      "    0.0000    0.0000    0.0000 C   0  0  0  0  0  0  0  0  0  0  0  0\n",
      "    1.2990   -0.7500    0.0000 F   0  0  0  0  0  0  0  0  0  0  0  0\n",
      "    0.0000    1.5000    0.0000 Cl  0  0  0  0  0  0  0  0  0  0  0  0\n",
      "   -1.2990   -0.7500    0.0000 C   0  0  0  0  0  0  0  0  0  0  0  0\n",
      "  1  2  1  0\n",
      "  1  3  1  0\n",
      "  1  4  1  1\n",
      "M  END\n",
      "\n"
     ]
    }
   ],
   "source": [
    "AllChem.Compute2DCoords(m)\n",
    "molblock = Chem.MolToMolBlock(m)\n",
    "print(molblock)"
   ]
  },
  {
   "cell_type": "markdown",
   "metadata": {},
   "source": [
    "#### Mol files"
   ]
  },
  {
   "cell_type": "markdown",
   "metadata": {},
   "source": [
    "You may use Python file objects to write mol files."
   ]
  },
  {
   "cell_type": "code",
   "execution_count": 32,
   "metadata": {
    "tags": []
   },
   "outputs": [],
   "source": [
    "print(Chem.MolToMolBlock(m), file=open('data/foo.mol','w+'))"
   ]
  },
  {
   "cell_type": "markdown",
   "metadata": {},
   "source": [
    "#### SDF"
   ]
  },
  {
   "cell_type": "code",
   "execution_count": 33,
   "metadata": {
    "collapsed": false,
    "jupyter": {
     "outputs_hidden": false
    }
   },
   "outputs": [],
   "source": [
    "w = Chem.SDWriter('data/foo.sdf')\n",
    "for m in mols:\n",
    "    w.write(m)\n",
    "w.close()"
   ]
  },
  {
   "cell_type": "markdown",
   "metadata": {},
   "source": [
    "You may use file object and write molecules to gzipped sdf"
   ]
  },
  {
   "cell_type": "code",
   "execution_count": 34,
   "metadata": {},
   "outputs": [
    {
     "ename": "ValueError",
     "evalue": "Need a text mode file object like StringIO or a file opened with mode 't'",
     "output_type": "error",
     "traceback": [
      "\u001b[0;31m---------------------------------------------------------------------------\u001b[0m",
      "\u001b[0;31mValueError\u001b[0m                                Traceback (most recent call last)",
      "\u001b[0;32m<ipython-input-34-7ad84d2cd925>\u001b[0m in \u001b[0;36m<module>\u001b[0;34m\u001b[0m\n\u001b[1;32m      1\u001b[0m \u001b[0mf\u001b[0m \u001b[0;34m=\u001b[0m \u001b[0mgzip\u001b[0m\u001b[0;34m.\u001b[0m\u001b[0mopen\u001b[0m\u001b[0;34m(\u001b[0m\u001b[0;34m'data/foo.sdf.gz'\u001b[0m\u001b[0;34m,\u001b[0m \u001b[0;34m'a'\u001b[0m\u001b[0;34m)\u001b[0m\u001b[0;34m\u001b[0m\u001b[0;34m\u001b[0m\u001b[0m\n\u001b[0;32m----> 2\u001b[0;31m \u001b[0mw\u001b[0m \u001b[0;34m=\u001b[0m \u001b[0mChem\u001b[0m\u001b[0;34m.\u001b[0m\u001b[0mSDWriter\u001b[0m\u001b[0;34m(\u001b[0m\u001b[0mf\u001b[0m\u001b[0;34m)\u001b[0m\u001b[0;34m\u001b[0m\u001b[0;34m\u001b[0m\u001b[0m\n\u001b[0m\u001b[1;32m      3\u001b[0m \u001b[0;32mfor\u001b[0m \u001b[0mm\u001b[0m \u001b[0;32min\u001b[0m \u001b[0mmols\u001b[0m\u001b[0;34m:\u001b[0m\u001b[0;34m\u001b[0m\u001b[0;34m\u001b[0m\u001b[0m\n\u001b[1;32m      4\u001b[0m     \u001b[0mw\u001b[0m\u001b[0;34m.\u001b[0m\u001b[0mwrite\u001b[0m\u001b[0;34m(\u001b[0m\u001b[0mm\u001b[0m\u001b[0;34m)\u001b[0m\u001b[0;34m\u001b[0m\u001b[0;34m\u001b[0m\u001b[0m\n\u001b[1;32m      5\u001b[0m \u001b[0mw\u001b[0m\u001b[0;34m.\u001b[0m\u001b[0mclose\u001b[0m\u001b[0;34m(\u001b[0m\u001b[0;34m)\u001b[0m\u001b[0;34m\u001b[0m\u001b[0;34m\u001b[0m\u001b[0m\n",
      "\u001b[0;31mValueError\u001b[0m: Need a text mode file object like StringIO or a file opened with mode 't'"
     ]
    }
   ],
   "source": [
    "f = gzip.open('data/foo.sdf.gz', 'a')\n",
    "w = Chem.SDWriter(f)\n",
    "for m in mols:\n",
    "    w.write(m)\n",
    "w.close()\n",
    "f.close()"
   ]
  },
  {
   "cell_type": "markdown",
   "metadata": {},
   "source": [
    "Analogously there is SmilesWriter to create text files containing SMILES representation of molecules"
   ]
  },
  {
   "cell_type": "markdown",
   "metadata": {},
   "source": [
    "## Structure Sanitization"
   ]
  },
  {
   "cell_type": "markdown",
   "metadata": {},
   "source": [
    "http://www.rdkit.org/docs/RDKit_Book.html#molecular-sanitization  \n",
    "The molecule parsing functions all, by default, perform a “sanitization” operation on the molecules read. The idea is to generate useful computed properties (like hybridization, ring membership, etc.) for the rest of the code and to ensure that the molecules are “reasonable”: that they can be represented with octet-complete Lewis dot structures.\n",
    "\n",
    "Here are the steps involved, in order.\n",
    "\n",
    "1. `clearComputedProps`: removes any computed properties that already exist on the molecule and its atoms and bonds. This step is always performed.\n",
    "\n",
    "2. `cleanUp`: standardizes a small number of non-standard valence states. The clean up operations are:\n",
    "\n",
    "   - Neutral 5 valent Ns with double bonds to Os are converted to the zwitterionic form. Example: N(=O)=O -> \\[N+\\](=O)O-]  \n",
    "   - Neutral 5 valent Ns with triple bonds to another N are converted to the zwitterionic form. Example: C-N=N#N -> C-N=[N+]=[N-]  \n",
    "   - Neutral 5 valent phosphorus with one double bond to an O and another to either a C or a P are converted to the zwitterionic form. Example: C=P(=O)O -> C=\\[P+\\]([O-])O  \n",
    "   - Neutral Cl, Br, or I with exclusively O neighbors, and a valence of 3, 5, or 7, are converted to the zwitterionic form. This covers things like chlorous acid, chloric acid, and perchloric acid. Example: O=Cl(=O)O -> \\[O-\\]\\[Cl+2\\][O-]O  \n",
    "This step should not generate exceptions.  \n",
    "    \n",
    "    \n",
    "3. `updatePropertyCache`: calculates the explicit and implicit valences on all atoms. This generates exceptions for atoms in higher-than-allowed valence states. This step is always performed, but if it is “skipped” the test for non-standard valences will not be carried out.  \n",
    "\n",
    "4. `symmetrizeSSSR`: calls the symmetrized smallest set of smallest rings algorithm (discussed in the Getting Started document).  \n",
    "\n",
    "5. `Kekulize`: converts aromatic rings to their Kekule form. Will raise an exception if a ring cannot be kekulized or if aromatic bonds are found outside of rings.  \n",
    "\n",
    "6. `assignRadicals`: determines the number of radical electrons (if any) on each atom.  \n",
    "\n",
    "7. `setAromaticity`: identifies the aromatic rings and ring systems (see above), sets the aromatic flag on atoms and bonds, sets bond orders to aromatic.  \n",
    "\n",
    "8. `setConjugation`: identifies which bonds are conjugated  \n",
    "\n",
    "9. `setHybridization`: calculates the hybridization state of each atom  \n",
    "\n",
    "10. `cleanupChirality`: removes chiral tags from atoms that are not sp3 hybridized.  \n",
    "\n",
    "11. `adjustHs`: adds explicit Hs where necessary to preserve the chemistry. This is typically needed for heteroatoms in aromatic rings. The classic example is the nitrogen atom in pyrrole.  \n",
    "\n",
    "The individual steps can be toggled on or off when calling `MolOps::sanitizeMol` or `Chem.SanitizeMol`."
   ]
  },
  {
   "cell_type": "code",
   "execution_count": 35,
   "metadata": {
    "collapsed": false,
    "jupyter": {
     "outputs_hidden": false
    }
   },
   "outputs": [
    {
     "name": "stderr",
     "output_type": "stream",
     "text": [
      "RDKit ERROR: [12:58:47] non-ring atom 1 marked aromatic\n"
     ]
    }
   ],
   "source": [
    "m = Chem.MolFromSmiles('Cn(:o):o')"
   ]
  },
  {
   "cell_type": "markdown",
   "metadata": {},
   "source": [
    "## Working with molecules"
   ]
  },
  {
   "cell_type": "markdown",
   "metadata": {},
   "source": [
    "### Looping over atoms and bonds"
   ]
  },
  {
   "cell_type": "code",
   "execution_count": 36,
   "metadata": {
    "tags": []
   },
   "outputs": [],
   "source": [
    "m = Chem.MolFromSmiles('C1OC=C1')"
   ]
  },
  {
   "cell_type": "code",
   "execution_count": 37,
   "metadata": {
    "collapsed": false,
    "jupyter": {
     "outputs_hidden": false
    }
   },
   "outputs": [
    {
     "name": "stdout",
     "output_type": "stream",
     "text": [
      "6\n",
      "8\n",
      "6\n",
      "6\n"
     ]
    }
   ],
   "source": [
    "for atom in m.GetAtoms():\n",
    "    print(atom.GetAtomicNum())"
   ]
  },
  {
   "cell_type": "code",
   "execution_count": 38,
   "metadata": {
    "collapsed": false,
    "jupyter": {
     "outputs_hidden": false
    }
   },
   "outputs": [
    {
     "name": "stdout",
     "output_type": "stream",
     "text": [
      "SINGLE\n",
      "SINGLE\n",
      "DOUBLE\n",
      "SINGLE\n"
     ]
    }
   ],
   "source": [
    "for bond in m.GetBonds():\n",
    "    print(bond.GetBondType())"
   ]
  },
  {
   "cell_type": "markdown",
   "metadata": {},
   "source": [
    "Individual atoms and bonds can be accesses as well as their properties"
   ]
  },
  {
   "cell_type": "code",
   "execution_count": 39,
   "metadata": {
    "collapsed": false,
    "jupyter": {
     "outputs_hidden": false
    }
   },
   "outputs": [
    {
     "data": {
      "text/plain": [
       "'O'"
      ]
     },
     "execution_count": 39,
     "metadata": {},
     "output_type": "execute_result"
    }
   ],
   "source": [
    "m.GetAtomWithIdx(1).GetSymbol()"
   ]
  },
  {
   "cell_type": "code",
   "execution_count": 40,
   "metadata": {
    "collapsed": false,
    "jupyter": {
     "outputs_hidden": false
    }
   },
   "outputs": [
    {
     "data": {
      "text/plain": [
       "3"
      ]
     },
     "execution_count": 40,
     "metadata": {},
     "output_type": "execute_result"
    }
   ],
   "source": [
    "m.GetAtomWithIdx(2).GetExplicitValence()"
   ]
  },
  {
   "cell_type": "code",
   "execution_count": 41,
   "metadata": {
    "collapsed": false,
    "jupyter": {
     "outputs_hidden": false
    },
    "scrolled": true
   },
   "outputs": [
    {
     "data": {
      "text/plain": [
       "0"
      ]
     },
     "execution_count": 41,
     "metadata": {},
     "output_type": "execute_result"
    }
   ],
   "source": [
    "m.GetBondWithIdx(0).GetBeginAtomIdx()"
   ]
  },
  {
   "cell_type": "code",
   "execution_count": 42,
   "metadata": {
    "collapsed": false,
    "jupyter": {
     "outputs_hidden": false
    },
    "scrolled": true
   },
   "outputs": [
    {
     "data": {
      "text/plain": [
       "rdkit.Chem.rdchem.BondType.SINGLE"
      ]
     },
     "execution_count": 42,
     "metadata": {},
     "output_type": "execute_result"
    }
   ],
   "source": [
    "m.GetBondBetweenAtoms(0,1).GetBondType()"
   ]
  },
  {
   "cell_type": "markdown",
   "metadata": {},
   "source": [
    "You may loop through neigbours of particular atoms"
   ]
  },
  {
   "cell_type": "code",
   "execution_count": 43,
   "metadata": {
    "collapsed": false,
    "jupyter": {
     "outputs_hidden": false
    }
   },
   "outputs": [
    {
     "name": "stdout",
     "output_type": "stream",
     "text": [
      "root atom C is connected to O by SINGLE bond\n",
      "root atom C is connected to C by DOUBLE bond\n"
     ]
    }
   ],
   "source": [
    "atom = m.GetAtomWithIdx(2)\n",
    "\n",
    "for nei in atom.GetNeighbors():\n",
    "    print(\"root atom %s is connected to %s by %s bond\" % (atom.GetSymbol(), nei.GetSymbol(), m.GetBondBetweenAtoms(atom.GetIdx(), nei.GetIdx()).GetBondType()))"
   ]
  },
  {
   "cell_type": "markdown",
   "metadata": {},
   "source": [
    "### Molecules properties"
   ]
  },
  {
   "cell_type": "markdown",
   "metadata": {},
   "source": [
    "You may set and read properties of molecules, which can be stored in property fields of sdf files."
   ]
  },
  {
   "cell_type": "code",
   "execution_count": 44,
   "metadata": {
    "collapsed": false,
    "jupyter": {
     "outputs_hidden": false
    }
   },
   "outputs": [],
   "source": [
    "m.SetProp(\"Activity\", \"inactive\")"
   ]
  },
  {
   "cell_type": "code",
   "execution_count": 45,
   "metadata": {
    "tags": []
   },
   "outputs": [],
   "source": [
    "m.SetIntProp(\"Boiling point\", 40)"
   ]
  },
  {
   "cell_type": "code",
   "execution_count": 46,
   "metadata": {
    "collapsed": false,
    "jupyter": {
     "outputs_hidden": false
    }
   },
   "outputs": [
    {
     "data": {
      "text/plain": [
       "'40'"
      ]
     },
     "execution_count": 46,
     "metadata": {},
     "output_type": "execute_result"
    }
   ],
   "source": [
    "m.GetProp(\"Boiling point\")"
   ]
  },
  {
   "cell_type": "markdown",
   "metadata": {},
   "source": [
    "#### Magic properties"
   ]
  },
  {
   "cell_type": "markdown",
   "metadata": {},
   "source": [
    "There are a lot of 'magic' properties of atoms/bonds and molecules. More details can be found at http://www.rdkit.org/docs/RDKit_Book.html#magic-property-values  \n",
    "One of them is a title or a name of a molecule (\"\\_Name\")"
   ]
  },
  {
   "cell_type": "code",
   "execution_count": 47,
   "metadata": {
    "tags": []
   },
   "outputs": [],
   "source": [
    "m.SetProp(\"_Name\", \"molecule name\")"
   ]
  },
  {
   "cell_type": "code",
   "execution_count": 48,
   "metadata": {
    "collapsed": false,
    "jupyter": {
     "outputs_hidden": false
    }
   },
   "outputs": [
    {
     "data": {
      "text/plain": [
       "'molecule name'"
      ]
     },
     "execution_count": 48,
     "metadata": {},
     "output_type": "execute_result"
    }
   ],
   "source": [
    "m.GetProp(\"_Name\")"
   ]
  },
  {
   "cell_type": "markdown",
   "metadata": {},
   "source": [
    "When you save this molecule to sdf file, \\_Name property will be stored as a title, all others as ordinary property fields."
   ]
  },
  {
   "cell_type": "code",
   "execution_count": 49,
   "metadata": {
    "collapsed": false,
    "jupyter": {
     "outputs_hidden": false
    }
   },
   "outputs": [],
   "source": [
    "w = Chem.SDWriter('data/bar.sdf')\n",
    "w.write(m)\n",
    "w.close()"
   ]
  },
  {
   "cell_type": "markdown",
   "metadata": {},
   "source": [
    "## 3D structures and conformers"
   ]
  },
  {
   "cell_type": "markdown",
   "metadata": {},
   "source": [
    "Generation of 3D structure"
   ]
  },
  {
   "cell_type": "code",
   "execution_count": 50,
   "metadata": {
    "collapsed": false,
    "jupyter": {
     "outputs_hidden": false
    }
   },
   "outputs": [
    {
     "data": {
      "image/png": "[encoded data removed]",
      "image/svg+xml": [
       "<?xml version='1.0' encoding='iso-8859-1'?>\n",
       "<svg version='1.1' baseProfile='full'\n",
       "              xmlns='http://www.w3.org/2000/svg'\n",
       "                      xmlns:rdkit='http://www.rdkit.org/xml'\n",
       "                      xmlns:xlink='http://www.w3.org/1999/xlink'\n",
       "                  xml:space='preserve'\n",
       "width='450px' height='150px' viewBox='0 0 450 150'>\n",
       "<!-- END OF HEADER -->\n",
       "<rect style='opacity:1.0;fill:#FFFFFF;stroke:none' width='450' height='150' x='0' y='0'> </rect>\n",
       "<path class='bond-0 atom-0 atom-1' d='M 104.673,78.6974 L 113.417,50.612' style='fill:none;fill-rule:evenodd;stroke:#FF0000;stroke-width:2.0px;stroke-linecap:butt;stroke-linejoin:miter;stroke-opacity:1' />\n",
       "<path class='bond-0 atom-0 atom-1' d='M 113.417,50.612 L 122.16,22.5266' style='fill:none;fill-rule:evenodd;stroke:#000000;stroke-width:2.0px;stroke-linecap:butt;stroke-linejoin:miter;stroke-opacity:1' />\n",
       "<path class='bond-7 atom-7 atom-0' d='M 149.368,143.182 L 130.685,122.941' style='fill:none;fill-rule:evenodd;stroke:#000000;stroke-width:2.0px;stroke-linecap:butt;stroke-linejoin:miter;stroke-opacity:1' />\n",
       "<path class='bond-7 atom-7 atom-0' d='M 130.685,122.941 L 112.003,102.7' style='fill:none;fill-rule:evenodd;stroke:#FF0000;stroke-width:2.0px;stroke-linecap:butt;stroke-linejoin:miter;stroke-opacity:1' />\n",
       "<path class='bond-1 atom-1 atom-2' d='M 122.16,22.5266 L 191.821,6.81818' style='fill:none;fill-rule:evenodd;stroke:#000000;stroke-width:2.0px;stroke-linecap:butt;stroke-linejoin:miter;stroke-opacity:1' />\n",
       "<path class='bond-2 atom-2 atom-3' d='M 191.821,6.81818 L 211.31,27.9333' style='fill:none;fill-rule:evenodd;stroke:#000000;stroke-width:2.0px;stroke-linecap:butt;stroke-linejoin:miter;stroke-opacity:1' />\n",
       "<path class='bond-2 atom-2 atom-3' d='M 211.31,27.9333 L 230.8,49.0484' style='fill:none;fill-rule:evenodd;stroke:#0000FF;stroke-width:2.0px;stroke-linecap:butt;stroke-linejoin:miter;stroke-opacity:1' />\n",
       "<path class='bond-3 atom-3 atom-4' d='M 249.709,57.1595 L 279.812,50.3713' style='fill:none;fill-rule:evenodd;stroke:#0000FF;stroke-width:2.0px;stroke-linecap:butt;stroke-linejoin:miter;stroke-opacity:1' />\n",
       "<path class='bond-3 atom-3 atom-4' d='M 279.812,50.3713 L 309.915,43.5831' style='fill:none;fill-rule:evenodd;stroke:#000000;stroke-width:2.0px;stroke-linecap:butt;stroke-linejoin:miter;stroke-opacity:1' />\n",
       "<path class='bond-5 atom-3 atom-6' d='M 236.551,71.1884 L 227.79,99.3309' style='fill:none;fill-rule:evenodd;stroke:#0000FF;stroke-width:2.0px;stroke-linecap:butt;stroke-linejoin:miter;stroke-opacity:1' />\n",
       "<path class='bond-5 atom-3 atom-6' d='M 227.79,99.3309 L 219.029,127.473' style='fill:none;fill-rule:evenodd;stroke:#000000;stroke-width:2.0px;stroke-linecap:butt;stroke-linejoin:miter;stroke-opacity:1' />\n",
       "<path class='bond-4 atom-4 atom-5' d='M 309.915,43.5831 L 358.349,96.0564' style='fill:none;fill-rule:evenodd;stroke:#000000;stroke-width:2.0px;stroke-linecap:butt;stroke-linejoin:miter;stroke-opacity:1' />\n",
       "<path class='bond-6 atom-6 atom-7' d='M 219.029,127.473 L 149.368,143.182' style='fill:none;fill-rule:evenodd;stroke:#000000;stroke-width:2.0px;stroke-linecap:butt;stroke-linejoin:miter;stroke-opacity:1' />\n",
       "<path  class='atom-0' d='M 91.6509 90.7656\n",
       "Q 91.6509 85.9097, 94.0503 83.1962\n",
       "Q 96.4496 80.4826, 100.934 80.4826\n",
       "Q 105.419 80.4826, 107.818 83.1962\n",
       "Q 110.217 85.9097, 110.217 90.7656\n",
       "Q 110.217 95.6786, 107.789 98.4778\n",
       "Q 105.362 101.249, 100.934 101.249\n",
       "Q 96.4782 101.249, 94.0503 98.4778\n",
       "Q 91.6509 95.7071, 91.6509 90.7656\n",
       "M 100.934 98.9634\n",
       "Q 104.019 98.9634, 105.676 96.9068\n",
       "Q 107.361 94.8217, 107.361 90.7656\n",
       "Q 107.361 86.7952, 105.676 84.7958\n",
       "Q 104.019 82.7677, 100.934 82.7677\n",
       "Q 97.8492 82.7677, 96.164 84.7672\n",
       "Q 94.5073 86.7667, 94.5073 90.7656\n",
       "Q 94.5073 94.8502, 96.164 96.9068\n",
       "Q 97.8492 98.9634, 100.934 98.9634\n",
       "' fill='#FF0000'/>\n",
       "<path  class='atom-3' d='M 235.784 49.18\n",
       "L 242.411 59.8914\n",
       "Q 243.068 60.9482, 244.125 62.862\n",
       "Q 245.182 64.7758, 245.239 64.89\n",
       "L 245.239 49.18\n",
       "L 247.924 49.18\n",
       "L 247.924 69.4031\n",
       "L 245.153 69.4031\n",
       "L 238.041 57.692\n",
       "Q 237.213 56.3209, 236.327 54.7499\n",
       "Q 235.47 53.1789, 235.213 52.6933\n",
       "L 235.213 69.4031\n",
       "L 232.585 69.4031\n",
       "L 232.585 49.18\n",
       "L 235.784 49.18\n",
       "' fill='#0000FF'/>\n",
       "</svg>\n"
      ],
      "text/plain": [
       "<rdkit.Chem.rdchem.Mol at 0x7f861b81a080>"
      ]
     },
     "execution_count": 50,
     "metadata": {},
     "output_type": "execute_result"
    }
   ],
   "source": [
    "m = Chem.MolFromSmiles('O1CCN(CC)CC1')\n",
    "m"
   ]
  },
  {
   "cell_type": "markdown",
   "metadata": {},
   "source": [
    "Since by default RDKit doesn't keep hydrogens they should be added before 3D structure generation to obtain rasonable geometry"
   ]
  },
  {
   "cell_type": "code",
   "execution_count": 51,
   "metadata": {
    "collapsed": false,
    "jupyter": {
     "outputs_hidden": false
    }
   },
   "outputs": [
    {
     "data": {
      "image/png": "[encoded data removed]",
      "image/svg+xml": [
       "<?xml version='1.0' encoding='iso-8859-1'?>\n",
       "<svg version='1.1' baseProfile='full'\n",
       "              xmlns='http://www.w3.org/2000/svg'\n",
       "                      xmlns:rdkit='http://www.rdkit.org/xml'\n",
       "                      xmlns:xlink='http://www.w3.org/1999/xlink'\n",
       "                  xml:space='preserve'\n",
       "width='450px' height='150px' viewBox='0 0 450 150'>\n",
       "<!-- END OF HEADER -->\n",
       "<rect style='opacity:1.0;fill:#FFFFFF;stroke:none' width='450' height='150' x='0' y='0'> </rect>\n",
       "<path class='bond-0 atom-0 atom-1' d='M 299.618,80.9064 L 292.768,92.7711' style='fill:none;fill-rule:evenodd;stroke:#FF0000;stroke-width:2.0px;stroke-linecap:butt;stroke-linejoin:miter;stroke-opacity:1' />\n",
       "<path class='bond-0 atom-0 atom-1' d='M 292.768,92.7711 L 285.918,104.636' style='fill:none;fill-rule:evenodd;stroke:#000000;stroke-width:2.0px;stroke-linecap:butt;stroke-linejoin:miter;stroke-opacity:1' />\n",
       "<path class='bond-7 atom-7 atom-0' d='M 285.918,45.3643 L 292.811,57.3042' style='fill:none;fill-rule:evenodd;stroke:#000000;stroke-width:2.0px;stroke-linecap:butt;stroke-linejoin:miter;stroke-opacity:1' />\n",
       "<path class='bond-7 atom-7 atom-0' d='M 292.811,57.3042 L 299.705,69.2441' style='fill:none;fill-rule:evenodd;stroke:#FF0000;stroke-width:2.0px;stroke-linecap:butt;stroke-linejoin:miter;stroke-opacity:1' />\n",
       "<path class='bond-1 atom-1 atom-2' d='M 285.918,104.636 L 251.697,104.636' style='fill:none;fill-rule:evenodd;stroke:#000000;stroke-width:2.0px;stroke-linecap:butt;stroke-linejoin:miter;stroke-opacity:1' />\n",
       "<path class='bond-8 atom-1 atom-8' d='M 285.918,104.636 L 313.427,114.648' style='fill:none;fill-rule:evenodd;stroke:#000000;stroke-width:2.0px;stroke-linecap:butt;stroke-linejoin:miter;stroke-opacity:1' />\n",
       "<path class='bond-9 atom-1 atom-9' d='M 285.918,104.636 L 280.98,132.635' style='fill:none;fill-rule:evenodd;stroke:#000000;stroke-width:2.0px;stroke-linecap:butt;stroke-linejoin:miter;stroke-opacity:1' />\n",
       "<path class='bond-2 atom-2 atom-3' d='M 251.697,104.636 L 244.788,92.6684' style='fill:none;fill-rule:evenodd;stroke:#000000;stroke-width:2.0px;stroke-linecap:butt;stroke-linejoin:miter;stroke-opacity:1' />\n",
       "<path class='bond-2 atom-2 atom-3' d='M 244.788,92.6684 L 237.879,80.7011' style='fill:none;fill-rule:evenodd;stroke:#0000FF;stroke-width:2.0px;stroke-linecap:butt;stroke-linejoin:miter;stroke-opacity:1' />\n",
       "<path class='bond-10 atom-2 atom-10' d='M 251.697,104.636 L 256.634,132.635' style='fill:none;fill-rule:evenodd;stroke:#000000;stroke-width:2.0px;stroke-linecap:butt;stroke-linejoin:miter;stroke-opacity:1' />\n",
       "<path class='bond-11 atom-2 atom-11' d='M 251.697,104.636 L 225.854,117.804' style='fill:none;fill-rule:evenodd;stroke:#000000;stroke-width:2.0px;stroke-linecap:butt;stroke-linejoin:miter;stroke-opacity:1' />\n",
       "<path class='bond-3 atom-3 atom-4' d='M 230.056,75 L 215.211,75' style='fill:none;fill-rule:evenodd;stroke:#0000FF;stroke-width:2.0px;stroke-linecap:butt;stroke-linejoin:miter;stroke-opacity:1' />\n",
       "<path class='bond-3 atom-3 atom-4' d='M 215.211,75 L 200.367,75' style='fill:none;fill-rule:evenodd;stroke:#000000;stroke-width:2.0px;stroke-linecap:butt;stroke-linejoin:miter;stroke-opacity:1' />\n",
       "<path class='bond-5 atom-3 atom-6' d='M 237.879,69.2989 L 244.788,57.3316' style='fill:none;fill-rule:evenodd;stroke:#0000FF;stroke-width:2.0px;stroke-linecap:butt;stroke-linejoin:miter;stroke-opacity:1' />\n",
       "<path class='bond-5 atom-3 atom-6' d='M 244.788,57.3316 L 251.697,45.3643' style='fill:none;fill-rule:evenodd;stroke:#000000;stroke-width:2.0px;stroke-linecap:butt;stroke-linejoin:miter;stroke-opacity:1' />\n",
       "<path class='bond-4 atom-4 atom-5' d='M 200.367,75 L 166.146,75' style='fill:none;fill-rule:evenodd;stroke:#000000;stroke-width:2.0px;stroke-linecap:butt;stroke-linejoin:miter;stroke-opacity:1' />\n",
       "<path class='bond-12 atom-4 atom-12' d='M 200.367,75 L 196.895,103.264' style='fill:none;fill-rule:evenodd;stroke:#000000;stroke-width:2.0px;stroke-linecap:butt;stroke-linejoin:miter;stroke-opacity:1' />\n",
       "<path class='bond-13 atom-4 atom-13' d='M 200.367,75 L 196.895,46.7359' style='fill:none;fill-rule:evenodd;stroke:#000000;stroke-width:2.0px;stroke-linecap:butt;stroke-linejoin:miter;stroke-opacity:1' />\n",
       "<path class='bond-14 atom-5 atom-14' d='M 166.146,75 L 136.573,75' style='fill:none;fill-rule:evenodd;stroke:#000000;stroke-width:2.0px;stroke-linecap:butt;stroke-linejoin:miter;stroke-opacity:1' />\n",
       "<path class='bond-15 atom-5 atom-15' d='M 166.146,75 L 166.146,103.519' style='fill:none;fill-rule:evenodd;stroke:#000000;stroke-width:2.0px;stroke-linecap:butt;stroke-linejoin:miter;stroke-opacity:1' />\n",
       "<path class='bond-16 atom-5 atom-16' d='M 166.146,75 L 166.146,46.4807' style='fill:none;fill-rule:evenodd;stroke:#000000;stroke-width:2.0px;stroke-linecap:butt;stroke-linejoin:miter;stroke-opacity:1' />\n",
       "<path class='bond-6 atom-6 atom-7' d='M 251.697,45.3643 L 285.918,45.3643' style='fill:none;fill-rule:evenodd;stroke:#000000;stroke-width:2.0px;stroke-linecap:butt;stroke-linejoin:miter;stroke-opacity:1' />\n",
       "<path class='bond-17 atom-6 atom-17' d='M 251.697,45.3643 L 225.854,32.1957' style='fill:none;fill-rule:evenodd;stroke:#000000;stroke-width:2.0px;stroke-linecap:butt;stroke-linejoin:miter;stroke-opacity:1' />\n",
       "<path class='bond-18 atom-6 atom-18' d='M 251.697,45.3643 L 256.634,17.3649' style='fill:none;fill-rule:evenodd;stroke:#000000;stroke-width:2.0px;stroke-linecap:butt;stroke-linejoin:miter;stroke-opacity:1' />\n",
       "<path class='bond-19 atom-7 atom-19' d='M 285.918,45.3643 L 280.98,17.3649' style='fill:none;fill-rule:evenodd;stroke:#000000;stroke-width:2.0px;stroke-linecap:butt;stroke-linejoin:miter;stroke-opacity:1' />\n",
       "<path class='bond-20 atom-7 atom-20' d='M 285.918,45.3643 L 313.427,35.3516' style='fill:none;fill-rule:evenodd;stroke:#000000;stroke-width:2.0px;stroke-linecap:butt;stroke-linejoin:miter;stroke-opacity:1' />\n",
       "<path  class='atom-0' d='M 298.579 75.0274\n",
       "Q 298.579 72.7004, 299.729 71.4\n",
       "Q 300.879 70.0996, 303.028 70.0996\n",
       "Q 305.177 70.0996, 306.327 71.4\n",
       "Q 307.476 72.7004, 307.476 75.0274\n",
       "Q 307.476 77.3817, 306.313 78.7232\n",
       "Q 305.149 80.0509, 303.028 80.0509\n",
       "Q 300.892 80.0509, 299.729 78.7232\n",
       "Q 298.579 77.3954, 298.579 75.0274\n",
       "M 303.028 78.9559\n",
       "Q 304.506 78.9559, 305.3 77.9703\n",
       "Q 306.108 76.9711, 306.108 75.0274\n",
       "Q 306.108 73.1247, 305.3 72.1666\n",
       "Q 304.506 71.1947, 303.028 71.1947\n",
       "Q 301.549 71.1947, 300.742 72.1529\n",
       "Q 299.948 73.111, 299.948 75.0274\n",
       "Q 299.948 76.9848, 300.742 77.9703\n",
       "Q 301.549 78.9559, 303.028 78.9559\n",
       "' fill='#FF0000'/>\n",
       "<path  class='atom-3' d='M 232.445 70.1544\n",
       "L 235.62 75.2875\n",
       "Q 235.935 75.7939, 236.442 76.711\n",
       "Q 236.948 77.6281, 236.976 77.6829\n",
       "L 236.976 70.1544\n",
       "L 238.262 70.1544\n",
       "L 238.262 79.8456\n",
       "L 236.934 79.8456\n",
       "L 233.526 74.2335\n",
       "Q 233.129 73.5764, 232.705 72.8236\n",
       "Q 232.294 72.0707, 232.171 71.838\n",
       "L 232.171 79.8456\n",
       "L 230.912 79.8456\n",
       "L 230.912 70.1544\n",
       "L 232.445 70.1544\n",
       "' fill='#0000FF'/>\n",
       "<path  class='atom-8' d='M 314.283 111.494\n",
       "L 315.597 111.494\n",
       "L 315.597 115.614\n",
       "L 320.552 115.614\n",
       "L 320.552 111.494\n",
       "L 321.866 111.494\n",
       "L 321.866 121.185\n",
       "L 320.552 121.185\n",
       "L 320.552 116.709\n",
       "L 315.597 116.709\n",
       "L 315.597 121.185\n",
       "L 314.283 121.185\n",
       "L 314.283 111.494\n",
       "' fill='#000000'/>\n",
       "<path  class='atom-9' d='M 276.184 133.491\n",
       "L 277.498 133.491\n",
       "L 277.498 137.611\n",
       "L 282.453 137.611\n",
       "L 282.453 133.491\n",
       "L 283.767 133.491\n",
       "L 283.767 143.182\n",
       "L 282.453 143.182\n",
       "L 282.453 138.706\n",
       "L 277.498 138.706\n",
       "L 277.498 143.182\n",
       "L 276.184 143.182\n",
       "L 276.184 133.491\n",
       "' fill='#000000'/>\n",
       "<path  class='atom-10' d='M 253.848 133.491\n",
       "L 255.162 133.491\n",
       "L 255.162 137.611\n",
       "L 260.117 137.611\n",
       "L 260.117 133.491\n",
       "L 261.431 133.491\n",
       "L 261.431 143.182\n",
       "L 260.117 143.182\n",
       "L 260.117 138.706\n",
       "L 255.162 138.706\n",
       "L 255.162 143.182\n",
       "L 253.848 143.182\n",
       "L 253.848 133.491\n",
       "' fill='#000000'/>\n",
       "<path  class='atom-11' d='M 217.415 115.327\n",
       "L 218.729 115.327\n",
       "L 218.729 119.447\n",
       "L 223.685 119.447\n",
       "L 223.685 115.327\n",
       "L 224.999 115.327\n",
       "L 224.999 125.018\n",
       "L 223.685 125.018\n",
       "L 223.685 120.542\n",
       "L 218.729 120.542\n",
       "L 218.729 125.018\n",
       "L 217.415 125.018\n",
       "L 217.415 115.327\n",
       "' fill='#000000'/>\n",
       "<path  class='atom-12' d='M 192.404 104.12\n",
       "L 193.718 104.12\n",
       "L 193.718 108.24\n",
       "L 198.673 108.24\n",
       "L 198.673 104.12\n",
       "L 199.987 104.12\n",
       "L 199.987 113.811\n",
       "L 198.673 113.811\n",
       "L 198.673 109.335\n",
       "L 193.718 109.335\n",
       "L 193.718 113.811\n",
       "L 192.404 113.811\n",
       "L 192.404 104.12\n",
       "' fill='#000000'/>\n",
       "<path  class='atom-13' d='M 192.404 36.1892\n",
       "L 193.718 36.1892\n",
       "L 193.718 40.3093\n",
       "L 198.673 40.3093\n",
       "L 198.673 36.1892\n",
       "L 199.987 36.1892\n",
       "L 199.987 45.8804\n",
       "L 198.673 45.8804\n",
       "L 198.673 41.4044\n",
       "L 193.718 41.4044\n",
       "L 193.718 45.8804\n",
       "L 192.404 45.8804\n",
       "L 192.404 36.1892\n",
       "' fill='#000000'/>\n",
       "<path  class='atom-14' d='M 128.134 70.1544\n",
       "L 129.448 70.1544\n",
       "L 129.448 74.2745\n",
       "L 134.403 74.2745\n",
       "L 134.403 70.1544\n",
       "L 135.717 70.1544\n",
       "L 135.717 79.8456\n",
       "L 134.403 79.8456\n",
       "L 134.403 75.3696\n",
       "L 129.448 75.3696\n",
       "L 129.448 79.8456\n",
       "L 128.134 79.8456\n",
       "L 128.134 70.1544\n",
       "' fill='#000000'/>\n",
       "<path  class='atom-15' d='M 162.355 104.375\n",
       "L 163.669 104.375\n",
       "L 163.669 108.495\n",
       "L 168.624 108.495\n",
       "L 168.624 104.375\n",
       "L 169.938 104.375\n",
       "L 169.938 114.066\n",
       "L 168.624 114.066\n",
       "L 168.624 109.59\n",
       "L 163.669 109.59\n",
       "L 163.669 114.066\n",
       "L 162.355 114.066\n",
       "L 162.355 104.375\n",
       "' fill='#000000'/>\n",
       "<path  class='atom-16' d='M 162.355 35.934\n",
       "L 163.669 35.934\n",
       "L 163.669 40.0541\n",
       "L 168.624 40.0541\n",
       "L 168.624 35.934\n",
       "L 169.938 35.934\n",
       "L 169.938 45.6252\n",
       "L 168.624 45.6252\n",
       "L 168.624 41.1492\n",
       "L 163.669 41.1492\n",
       "L 163.669 45.6252\n",
       "L 162.355 45.6252\n",
       "L 162.355 35.934\n",
       "' fill='#000000'/>\n",
       "<path  class='atom-17' d='M 217.415 24.9821\n",
       "L 218.729 24.9821\n",
       "L 218.729 29.1023\n",
       "L 223.685 29.1023\n",
       "L 223.685 24.9821\n",
       "L 224.999 24.9821\n",
       "L 224.999 34.6733\n",
       "L 223.685 34.6733\n",
       "L 223.685 30.1973\n",
       "L 218.729 30.1973\n",
       "L 218.729 34.6733\n",
       "L 217.415 34.6733\n",
       "L 217.415 24.9821\n",
       "' fill='#000000'/>\n",
       "<path  class='atom-18' d='M 253.848 6.81818\n",
       "L 255.162 6.81818\n",
       "L 255.162 10.9383\n",
       "L 260.117 10.9383\n",
       "L 260.117 6.81818\n",
       "L 261.431 6.81818\n",
       "L 261.431 16.5094\n",
       "L 260.117 16.5094\n",
       "L 260.117 12.0334\n",
       "L 255.162 12.0334\n",
       "L 255.162 16.5094\n",
       "L 253.848 16.5094\n",
       "L 253.848 6.81818\n",
       "' fill='#000000'/>\n",
       "<path  class='atom-19' d='M 276.184 6.81818\n",
       "L 277.498 6.81818\n",
       "L 277.498 10.9383\n",
       "L 282.453 10.9383\n",
       "L 282.453 6.81818\n",
       "L 283.767 6.81818\n",
       "L 283.767 16.5094\n",
       "L 282.453 16.5094\n",
       "L 282.453 12.0334\n",
       "L 277.498 12.0334\n",
       "L 277.498 16.5094\n",
       "L 276.184 16.5094\n",
       "L 276.184 6.81818\n",
       "' fill='#000000'/>\n",
       "<path  class='atom-20' d='M 314.283 28.8146\n",
       "L 315.597 28.8146\n",
       "L 315.597 32.9348\n",
       "L 320.552 32.9348\n",
       "L 320.552 28.8146\n",
       "L 321.866 28.8146\n",
       "L 321.866 38.5058\n",
       "L 320.552 38.5058\n",
       "L 320.552 34.0298\n",
       "L 315.597 34.0298\n",
       "L 315.597 38.5058\n",
       "L 314.283 38.5058\n",
       "L 314.283 28.8146\n",
       "' fill='#000000'/>\n",
       "</svg>\n"
      ],
      "text/plain": [
       "<rdkit.Chem.rdchem.Mol at 0x7f861b81a710>"
      ]
     },
     "execution_count": 51,
     "metadata": {},
     "output_type": "execute_result"
    }
   ],
   "source": [
    "m = Chem.AddHs(m)\n",
    "m"
   ]
  },
  {
   "cell_type": "markdown",
   "metadata": {},
   "source": [
    "This command generates 3D structure for a molecule usinf distance matrix approach"
   ]
  },
  {
   "cell_type": "code",
   "execution_count": 52,
   "metadata": {
    "collapsed": false,
    "jupyter": {
     "outputs_hidden": false
    }
   },
   "outputs": [
    {
     "data": {
      "text/plain": [
       "0"
      ]
     },
     "execution_count": 52,
     "metadata": {},
     "output_type": "execute_result"
    }
   ],
   "source": [
    "AllChem.EmbedMolecule(m)"
   ]
  },
  {
   "cell_type": "markdown",
   "metadata": {},
   "source": [
    "The obtained geometry usually is quite ugly and refinement is neccessary. This can be done by using universal force field (UFF) or Merck molecular force field (MMFF)."
   ]
  },
  {
   "cell_type": "code",
   "execution_count": 53,
   "metadata": {
    "collapsed": false,
    "jupyter": {
     "outputs_hidden": false
    }
   },
   "outputs": [
    {
     "data": {
      "text/plain": [
       "0"
      ]
     },
     "execution_count": 53,
     "metadata": {},
     "output_type": "execute_result"
    }
   ],
   "source": [
    "AllChem.UFFOptimizeMolecule(m)"
   ]
  },
  {
   "cell_type": "code",
   "execution_count": 54,
   "metadata": {
    "collapsed": false,
    "jupyter": {
     "outputs_hidden": false
    }
   },
   "outputs": [
    {
     "data": {
      "image/png": "[encoded data removed]",
      "image/svg+xml": [
       "<?xml version='1.0' encoding='iso-8859-1'?>\n",
       "<svg version='1.1' baseProfile='full'\n",
       "              xmlns='http://www.w3.org/2000/svg'\n",
       "                      xmlns:rdkit='http://www.rdkit.org/xml'\n",
       "                      xmlns:xlink='http://www.w3.org/1999/xlink'\n",
       "                  xml:space='preserve'\n",
       "width='450px' height='150px' viewBox='0 0 450 150'>\n",
       "<!-- END OF HEADER -->\n",
       "<rect style='opacity:1.0;fill:#FFFFFF;stroke:none' width='450' height='150' x='0' y='0'> </rect>\n",
       "<path class='bond-0 atom-0 atom-1' d='M 317.685,68.9462 L 308.255,53.1395' style='fill:none;fill-rule:evenodd;stroke:#FF0000;stroke-width:2.0px;stroke-linecap:butt;stroke-linejoin:miter;stroke-opacity:1' />\n",
       "<path class='bond-0 atom-0 atom-1' d='M 308.255,53.1395 L 298.825,37.3329' style='fill:none;fill-rule:evenodd;stroke:#000000;stroke-width:2.0px;stroke-linecap:butt;stroke-linejoin:miter;stroke-opacity:1' />\n",
       "<path class='bond-7 atom-7 atom-0' d='M 308.329,104.255 L 313.345,94.7131' style='fill:none;fill-rule:evenodd;stroke:#000000;stroke-width:2.0px;stroke-linecap:butt;stroke-linejoin:miter;stroke-opacity:1' />\n",
       "<path class='bond-7 atom-7 atom-0' d='M 313.345,94.7131 L 318.36,85.1713' style='fill:none;fill-rule:evenodd;stroke:#FF0000;stroke-width:2.0px;stroke-linecap:butt;stroke-linejoin:miter;stroke-opacity:1' />\n",
       "<path class='bond-1 atom-1 atom-2' d='M 298.825,37.3329 L 249.713,45.8329' style='fill:none;fill-rule:evenodd;stroke:#000000;stroke-width:2.0px;stroke-linecap:butt;stroke-linejoin:miter;stroke-opacity:1' />\n",
       "<path class='bond-8 atom-1 atom-8' d='M 298.825,37.3329 L 306.508,23.9236' style='fill:none;fill-rule:evenodd;stroke:#000000;stroke-width:2.0px;stroke-linecap:butt;stroke-linejoin:miter;stroke-opacity:1' />\n",
       "<path class='bond-9 atom-1 atom-9' d='M 298.825,37.3329 L 302.233,26.5322' style='fill:none;fill-rule:evenodd;stroke:#000000;stroke-width:2.0px;stroke-linecap:butt;stroke-linejoin:miter;stroke-opacity:1' />\n",
       "<path class='bond-2 atom-2 atom-3' d='M 249.713,45.8329 L 243.677,56.5463' style='fill:none;fill-rule:evenodd;stroke:#000000;stroke-width:2.0px;stroke-linecap:butt;stroke-linejoin:miter;stroke-opacity:1' />\n",
       "<path class='bond-2 atom-2 atom-3' d='M 243.677,56.5463 L 237.641,67.2597' style='fill:none;fill-rule:evenodd;stroke:#0000FF;stroke-width:2.0px;stroke-linecap:butt;stroke-linejoin:miter;stroke-opacity:1' />\n",
       "<path class='bond-10 atom-2 atom-10' d='M 249.713,45.8329 L 247.088,53.2664' style='fill:none;fill-rule:evenodd;stroke:#000000;stroke-width:2.0px;stroke-linecap:butt;stroke-linejoin:miter;stroke-opacity:1' />\n",
       "<path class='bond-11 atom-2 atom-11' d='M 249.713,45.8329 L 236.736,21.6543' style='fill:none;fill-rule:evenodd;stroke:#000000;stroke-width:2.0px;stroke-linecap:butt;stroke-linejoin:miter;stroke-opacity:1' />\n",
       "<path class='bond-3 atom-3 atom-4' d='M 226.763,76.5383 L 206.594,81.1325' style='fill:none;fill-rule:evenodd;stroke:#0000FF;stroke-width:2.0px;stroke-linecap:butt;stroke-linejoin:miter;stroke-opacity:1' />\n",
       "<path class='bond-3 atom-3 atom-4' d='M 206.594,81.1325 L 186.425,85.7267' style='fill:none;fill-rule:evenodd;stroke:#000000;stroke-width:2.0px;stroke-linecap:butt;stroke-linejoin:miter;stroke-opacity:1' />\n",
       "<path class='bond-5 atom-3 atom-6' d='M 238.56,83.2342 L 249.085,99.4183' style='fill:none;fill-rule:evenodd;stroke:#0000FF;stroke-width:2.0px;stroke-linecap:butt;stroke-linejoin:miter;stroke-opacity:1' />\n",
       "<path class='bond-5 atom-3 atom-6' d='M 249.085,99.4183 L 259.611,115.602' style='fill:none;fill-rule:evenodd;stroke:#000000;stroke-width:2.0px;stroke-linecap:butt;stroke-linejoin:miter;stroke-opacity:1' />\n",
       "<path class='bond-4 atom-4 atom-5' d='M 186.425,85.7267 L 157.122,48.2409' style='fill:none;fill-rule:evenodd;stroke:#000000;stroke-width:2.0px;stroke-linecap:butt;stroke-linejoin:miter;stroke-opacity:1' />\n",
       "<path class='bond-12 atom-4 atom-12' d='M 186.425,85.7267 L 179.65,107.364' style='fill:none;fill-rule:evenodd;stroke:#000000;stroke-width:2.0px;stroke-linecap:butt;stroke-linejoin:miter;stroke-opacity:1' />\n",
       "<path class='bond-13 atom-4 atom-13' d='M 186.425,85.7267 L 184.966,87.2849' style='fill:none;fill-rule:evenodd;stroke:#000000;stroke-width:2.0px;stroke-linecap:butt;stroke-linejoin:miter;stroke-opacity:1' />\n",
       "<path class='bond-14 atom-5 atom-14' d='M 157.122,48.2409 L 128.701,57.0319' style='fill:none;fill-rule:evenodd;stroke:#000000;stroke-width:2.0px;stroke-linecap:butt;stroke-linejoin:miter;stroke-opacity:1' />\n",
       "<path class='bond-15 atom-5 atom-15' d='M 157.122,48.2409 L 160.222,44.9095' style='fill:none;fill-rule:evenodd;stroke:#000000;stroke-width:2.0px;stroke-linecap:butt;stroke-linejoin:miter;stroke-opacity:1' />\n",
       "<path class='bond-16 atom-5 atom-16' d='M 157.122,48.2409 L 159.408,27.0429' style='fill:none;fill-rule:evenodd;stroke:#000000;stroke-width:2.0px;stroke-linecap:butt;stroke-linejoin:miter;stroke-opacity:1' />\n",
       "<path class='bond-6 atom-6 atom-7' d='M 259.611,115.602 L 308.329,104.255' style='fill:none;fill-rule:evenodd;stroke:#000000;stroke-width:2.0px;stroke-linecap:butt;stroke-linejoin:miter;stroke-opacity:1' />\n",
       "<path class='bond-17 atom-6 atom-17' d='M 259.611,115.602 L 256.655,127.44' style='fill:none;fill-rule:evenodd;stroke:#000000;stroke-width:2.0px;stroke-linecap:butt;stroke-linejoin:miter;stroke-opacity:1' />\n",
       "<path class='bond-18 atom-6 atom-18' d='M 259.611,115.602 L 253.319,128.683' style='fill:none;fill-rule:evenodd;stroke:#000000;stroke-width:2.0px;stroke-linecap:butt;stroke-linejoin:miter;stroke-opacity:1' />\n",
       "<path class='bond-19 atom-7 atom-19' d='M 308.329,104.255 L 311.618,95.7254' style='fill:none;fill-rule:evenodd;stroke:#000000;stroke-width:2.0px;stroke-linecap:butt;stroke-linejoin:miter;stroke-opacity:1' />\n",
       "<path class='bond-20 atom-7 atom-20' d='M 308.329,104.255 L 322.723,127.221' style='fill:none;fill-rule:evenodd;stroke:#000000;stroke-width:2.0px;stroke-linecap:butt;stroke-linejoin:miter;stroke-opacity:1' />\n",
       "<path  class='atom-0' d='M 316.185 77.1866\n",
       "Q 316.185 73.8426, 317.837 71.9739\n",
       "Q 319.49 70.1052, 322.578 70.1052\n",
       "Q 325.666 70.1052, 327.319 71.9739\n",
       "Q 328.971 73.8426, 328.971 77.1866\n",
       "Q 328.971 80.5699, 327.299 82.4976\n",
       "Q 325.627 84.4057, 322.578 84.4057\n",
       "Q 319.509 84.4057, 317.837 82.4976\n",
       "Q 316.185 80.5896, 316.185 77.1866\n",
       "M 322.578 82.832\n",
       "Q 324.702 82.832, 325.843 81.4158\n",
       "Q 327.004 79.9798, 327.004 77.1866\n",
       "Q 327.004 74.4524, 325.843 73.0755\n",
       "Q 324.702 71.6789, 322.578 71.6789\n",
       "Q 320.454 71.6789, 319.293 73.0558\n",
       "Q 318.152 74.4327, 318.152 77.1866\n",
       "Q 318.152 79.9995, 319.293 81.4158\n",
       "Q 320.454 82.832, 322.578 82.832\n",
       "' fill='#FF0000'/>\n",
       "<path  class='atom-3' d='M 230.167 68.0984\n",
       "L 234.73 75.4749\n",
       "Q 235.183 76.2027, 235.91 77.5206\n",
       "Q 236.638 78.8385, 236.677 78.9172\n",
       "L 236.677 68.0984\n",
       "L 238.526 68.0984\n",
       "L 238.526 82.0252\n",
       "L 236.618 82.0252\n",
       "L 231.72 73.9603\n",
       "Q 231.15 73.0161, 230.54 71.9342\n",
       "Q 229.95 70.8523, 229.773 70.5179\n",
       "L 229.773 82.0252\n",
       "L 227.963 82.0252\n",
       "L 227.963 68.0984\n",
       "L 230.167 68.0984\n",
       "' fill='#0000FF'/>\n",
       "<path  class='atom-8' d='M 305.395 9.39251\n",
       "L 307.283 9.39251\n",
       "L 307.283 15.3133\n",
       "L 314.404 15.3133\n",
       "L 314.404 9.39251\n",
       "L 316.292 9.39251\n",
       "L 316.292 23.3192\n",
       "L 314.404 23.3192\n",
       "L 314.404 16.887\n",
       "L 307.283 16.887\n",
       "L 307.283 23.3192\n",
       "L 305.395 23.3192\n",
       "L 305.395 9.39251\n",
       "' fill='#000000'/>\n",
       "<path  class='atom-9' d='M 299.133 12.1272\n",
       "L 301.021 12.1272\n",
       "L 301.021 18.0481\n",
       "L 308.142 18.0481\n",
       "L 308.142 12.1272\n",
       "L 310.03 12.1272\n",
       "L 310.03 26.054\n",
       "L 308.142 26.054\n",
       "L 308.142 19.6217\n",
       "L 301.021 19.6217\n",
       "L 301.021 26.054\n",
       "L 299.133 26.054\n",
       "L 299.133 12.1272\n",
       "' fill='#000000'/>\n",
       "<path  class='atom-10' d='M 239.041 53.6585\n",
       "L 240.929 53.6585\n",
       "L 240.929 59.5794\n",
       "L 248.05 59.5794\n",
       "L 248.05 53.6585\n",
       "L 249.939 53.6585\n",
       "L 249.939 67.5853\n",
       "L 248.05 67.5853\n",
       "L 248.05 61.153\n",
       "L 240.929 61.153\n",
       "L 240.929 67.5853\n",
       "L 239.041 67.5853\n",
       "L 239.041 53.6585\n",
       "' fill='#000000'/>\n",
       "<path  class='atom-11' d='M 227.062 6.81818\n",
       "L 228.95 6.81818\n",
       "L 228.95 12.739\n",
       "L 236.071 12.739\n",
       "L 236.071 6.81818\n",
       "L 237.959 6.81818\n",
       "L 237.959 20.7449\n",
       "L 236.071 20.7449\n",
       "L 236.071 14.3126\n",
       "L 228.95 14.3126\n",
       "L 228.95 20.7449\n",
       "L 227.062 20.7449\n",
       "L 227.062 6.81818\n",
       "' fill='#000000'/>\n",
       "<path  class='atom-12' d='M 171.78 108.134\n",
       "L 173.669 108.134\n",
       "L 173.669 114.055\n",
       "L 180.789 114.055\n",
       "L 180.789 108.134\n",
       "L 182.678 108.134\n",
       "L 182.678 122.06\n",
       "L 180.789 122.06\n",
       "L 180.789 115.628\n",
       "L 173.669 115.628\n",
       "L 173.669 122.06\n",
       "L 171.78 122.06\n",
       "L 171.78 108.134\n",
       "' fill='#000000'/>\n",
       "<path  class='atom-13' d='M 173.806 86.423\n",
       "L 175.695 86.423\n",
       "L 175.695 92.3438\n",
       "L 182.815 92.3438\n",
       "L 182.815 86.423\n",
       "L 184.704 86.423\n",
       "L 184.704 100.35\n",
       "L 182.815 100.35\n",
       "L 182.815 93.9175\n",
       "L 175.695 93.9175\n",
       "L 175.695 100.35\n",
       "L 173.806 100.35\n",
       "L 173.806 86.423\n",
       "' fill='#000000'/>\n",
       "<path  class='atom-14' d='M 116.894 52.0354\n",
       "L 118.782 52.0354\n",
       "L 118.782 57.9562\n",
       "L 125.903 57.9562\n",
       "L 125.903 52.0354\n",
       "L 127.791 52.0354\n",
       "L 127.791 65.9621\n",
       "L 125.903 65.9621\n",
       "L 125.903 59.5299\n",
       "L 118.782 59.5299\n",
       "L 118.782 65.9621\n",
       "L 116.894 65.9621\n",
       "L 116.894 52.0354\n",
       "' fill='#000000'/>\n",
       "<path  class='atom-15' d='M 160.548 31.7403\n",
       "L 162.436 31.7403\n",
       "L 162.436 37.6611\n",
       "L 169.557 37.6611\n",
       "L 169.557 31.7403\n",
       "L 171.445 31.7403\n",
       "L 171.445 45.667\n",
       "L 169.557 45.667\n",
       "L 169.557 39.2348\n",
       "L 162.436 39.2348\n",
       "L 162.436 45.667\n",
       "L 160.548 45.667\n",
       "L 160.548 31.7403\n",
       "' fill='#000000'/>\n",
       "<path  class='atom-16' d='M 154.789 12.3898\n",
       "L 156.677 12.3898\n",
       "L 156.677 18.3107\n",
       "L 163.798 18.3107\n",
       "L 163.798 12.3898\n",
       "L 165.686 12.3898\n",
       "L 165.686 26.3166\n",
       "L 163.798 26.3166\n",
       "L 163.798 19.8843\n",
       "L 156.677 19.8843\n",
       "L 156.677 26.3166\n",
       "L 154.789 26.3166\n",
       "L 154.789 12.3898\n",
       "' fill='#000000'/>\n",
       "<path  class='atom-17' d='M 249.343 127.938\n",
       "L 251.231 127.938\n",
       "L 251.231 133.859\n",
       "L 258.352 133.859\n",
       "L 258.352 127.938\n",
       "L 260.241 127.938\n",
       "L 260.241 141.864\n",
       "L 258.352 141.864\n",
       "L 258.352 135.432\n",
       "L 251.231 135.432\n",
       "L 251.231 141.864\n",
       "L 249.343 141.864\n",
       "L 249.343 127.938\n",
       "' fill='#000000'/>\n",
       "<path  class='atom-18' d='M 244.246 129.255\n",
       "L 246.135 129.255\n",
       "L 246.135 135.176\n",
       "L 253.255 135.176\n",
       "L 253.255 129.255\n",
       "L 255.144 129.255\n",
       "L 255.144 143.182\n",
       "L 253.255 143.182\n",
       "L 253.255 136.75\n",
       "L 246.135 136.75\n",
       "L 246.135 143.182\n",
       "L 244.246 143.182\n",
       "L 244.246 129.255\n",
       "' fill='#000000'/>\n",
       "<path  class='atom-19' d='M 309.019 81.3721\n",
       "L 310.907 81.3721\n",
       "L 310.907 87.2929\n",
       "L 318.028 87.2929\n",
       "L 318.028 81.3721\n",
       "L 319.916 81.3721\n",
       "L 319.916 95.2988\n",
       "L 318.028 95.2988\n",
       "L 318.028 88.8666\n",
       "L 310.907 88.8666\n",
       "L 310.907 95.2988\n",
       "L 309.019 95.2988\n",
       "L 309.019 81.3721\n",
       "' fill='#000000'/>\n",
       "<path  class='atom-20' d='M 322.209 128.131\n",
       "L 324.097 128.131\n",
       "L 324.097 134.052\n",
       "L 331.218 134.052\n",
       "L 331.218 128.131\n",
       "L 333.106 128.131\n",
       "L 333.106 142.058\n",
       "L 331.218 142.058\n",
       "L 331.218 135.626\n",
       "L 324.097 135.626\n",
       "L 324.097 142.058\n",
       "L 322.209 142.058\n",
       "L 322.209 128.131\n",
       "' fill='#000000'/>\n",
       "</svg>\n"
      ],
      "text/plain": [
       "<rdkit.Chem.rdchem.Mol at 0x7f861b81a710>"
      ]
     },
     "execution_count": 54,
     "metadata": {},
     "output_type": "execute_result"
    }
   ],
   "source": [
    "m"
   ]
  },
  {
   "cell_type": "code",
   "execution_count": 219,
   "metadata": {
    "collapsed": false,
    "jupyter": {
     "outputs_hidden": false
    }
   },
   "outputs": [
    {
     "data": {
      "text/plain": [
       "0"
      ]
     },
     "execution_count": 219,
     "metadata": {},
     "output_type": "execute_result"
    }
   ],
   "source": [
    "AllChem.MMFFOptimizeMolecule(m)"
   ]
  },
  {
   "cell_type": "code",
   "execution_count": 55,
   "metadata": {
    "collapsed": false,
    "jupyter": {
     "outputs_hidden": false
    }
   },
   "outputs": [
    {
     "data": {
      "image/png": "[encoded data removed]",
      "image/svg+xml": [
       "<?xml version='1.0' encoding='iso-8859-1'?>\n",
       "<svg version='1.1' baseProfile='full'\n",
       "              xmlns='http://www.w3.org/2000/svg'\n",
       "                      xmlns:rdkit='http://www.rdkit.org/xml'\n",
       "                      xmlns:xlink='http://www.w3.org/1999/xlink'\n",
       "                  xml:space='preserve'\n",
       "width='450px' height='150px' viewBox='0 0 450 150'>\n",
       "<!-- END OF HEADER -->\n",
       "<rect style='opacity:1.0;fill:#FFFFFF;stroke:none' width='450' height='150' x='0' y='0'> </rect>\n",
       "<path class='bond-0 atom-0 atom-1' d='M 317.685,68.9462 L 308.255,53.1395' style='fill:none;fill-rule:evenodd;stroke:#FF0000;stroke-width:2.0px;stroke-linecap:butt;stroke-linejoin:miter;stroke-opacity:1' />\n",
       "<path class='bond-0 atom-0 atom-1' d='M 308.255,53.1395 L 298.825,37.3329' style='fill:none;fill-rule:evenodd;stroke:#000000;stroke-width:2.0px;stroke-linecap:butt;stroke-linejoin:miter;stroke-opacity:1' />\n",
       "<path class='bond-7 atom-7 atom-0' d='M 308.329,104.255 L 313.345,94.7131' style='fill:none;fill-rule:evenodd;stroke:#000000;stroke-width:2.0px;stroke-linecap:butt;stroke-linejoin:miter;stroke-opacity:1' />\n",
       "<path class='bond-7 atom-7 atom-0' d='M 313.345,94.7131 L 318.36,85.1713' style='fill:none;fill-rule:evenodd;stroke:#FF0000;stroke-width:2.0px;stroke-linecap:butt;stroke-linejoin:miter;stroke-opacity:1' />\n",
       "<path class='bond-1 atom-1 atom-2' d='M 298.825,37.3329 L 249.713,45.8329' style='fill:none;fill-rule:evenodd;stroke:#000000;stroke-width:2.0px;stroke-linecap:butt;stroke-linejoin:miter;stroke-opacity:1' />\n",
       "<path class='bond-8 atom-1 atom-8' d='M 298.825,37.3329 L 306.508,23.9236' style='fill:none;fill-rule:evenodd;stroke:#000000;stroke-width:2.0px;stroke-linecap:butt;stroke-linejoin:miter;stroke-opacity:1' />\n",
       "<path class='bond-9 atom-1 atom-9' d='M 298.825,37.3329 L 302.233,26.5322' style='fill:none;fill-rule:evenodd;stroke:#000000;stroke-width:2.0px;stroke-linecap:butt;stroke-linejoin:miter;stroke-opacity:1' />\n",
       "<path class='bond-2 atom-2 atom-3' d='M 249.713,45.8329 L 243.677,56.5463' style='fill:none;fill-rule:evenodd;stroke:#000000;stroke-width:2.0px;stroke-linecap:butt;stroke-linejoin:miter;stroke-opacity:1' />\n",
       "<path class='bond-2 atom-2 atom-3' d='M 243.677,56.5463 L 237.641,67.2597' style='fill:none;fill-rule:evenodd;stroke:#0000FF;stroke-width:2.0px;stroke-linecap:butt;stroke-linejoin:miter;stroke-opacity:1' />\n",
       "<path class='bond-10 atom-2 atom-10' d='M 249.713,45.8329 L 247.088,53.2664' style='fill:none;fill-rule:evenodd;stroke:#000000;stroke-width:2.0px;stroke-linecap:butt;stroke-linejoin:miter;stroke-opacity:1' />\n",
       "<path class='bond-11 atom-2 atom-11' d='M 249.713,45.8329 L 236.736,21.6543' style='fill:none;fill-rule:evenodd;stroke:#000000;stroke-width:2.0px;stroke-linecap:butt;stroke-linejoin:miter;stroke-opacity:1' />\n",
       "<path class='bond-3 atom-3 atom-4' d='M 226.763,76.5383 L 206.594,81.1325' style='fill:none;fill-rule:evenodd;stroke:#0000FF;stroke-width:2.0px;stroke-linecap:butt;stroke-linejoin:miter;stroke-opacity:1' />\n",
       "<path class='bond-3 atom-3 atom-4' d='M 206.594,81.1325 L 186.425,85.7267' style='fill:none;fill-rule:evenodd;stroke:#000000;stroke-width:2.0px;stroke-linecap:butt;stroke-linejoin:miter;stroke-opacity:1' />\n",
       "<path class='bond-5 atom-3 atom-6' d='M 238.56,83.2342 L 249.085,99.4183' style='fill:none;fill-rule:evenodd;stroke:#0000FF;stroke-width:2.0px;stroke-linecap:butt;stroke-linejoin:miter;stroke-opacity:1' />\n",
       "<path class='bond-5 atom-3 atom-6' d='M 249.085,99.4183 L 259.611,115.602' style='fill:none;fill-rule:evenodd;stroke:#000000;stroke-width:2.0px;stroke-linecap:butt;stroke-linejoin:miter;stroke-opacity:1' />\n",
       "<path class='bond-4 atom-4 atom-5' d='M 186.425,85.7267 L 157.122,48.2409' style='fill:none;fill-rule:evenodd;stroke:#000000;stroke-width:2.0px;stroke-linecap:butt;stroke-linejoin:miter;stroke-opacity:1' />\n",
       "<path class='bond-12 atom-4 atom-12' d='M 186.425,85.7267 L 179.65,107.364' style='fill:none;fill-rule:evenodd;stroke:#000000;stroke-width:2.0px;stroke-linecap:butt;stroke-linejoin:miter;stroke-opacity:1' />\n",
       "<path class='bond-13 atom-4 atom-13' d='M 186.425,85.7267 L 184.966,87.2849' style='fill:none;fill-rule:evenodd;stroke:#000000;stroke-width:2.0px;stroke-linecap:butt;stroke-linejoin:miter;stroke-opacity:1' />\n",
       "<path class='bond-14 atom-5 atom-14' d='M 157.122,48.2409 L 128.701,57.0319' style='fill:none;fill-rule:evenodd;stroke:#000000;stroke-width:2.0px;stroke-linecap:butt;stroke-linejoin:miter;stroke-opacity:1' />\n",
       "<path class='bond-15 atom-5 atom-15' d='M 157.122,48.2409 L 160.222,44.9095' style='fill:none;fill-rule:evenodd;stroke:#000000;stroke-width:2.0px;stroke-linecap:butt;stroke-linejoin:miter;stroke-opacity:1' />\n",
       "<path class='bond-16 atom-5 atom-16' d='M 157.122,48.2409 L 159.408,27.0429' style='fill:none;fill-rule:evenodd;stroke:#000000;stroke-width:2.0px;stroke-linecap:butt;stroke-linejoin:miter;stroke-opacity:1' />\n",
       "<path class='bond-6 atom-6 atom-7' d='M 259.611,115.602 L 308.329,104.255' style='fill:none;fill-rule:evenodd;stroke:#000000;stroke-width:2.0px;stroke-linecap:butt;stroke-linejoin:miter;stroke-opacity:1' />\n",
       "<path class='bond-17 atom-6 atom-17' d='M 259.611,115.602 L 256.655,127.44' style='fill:none;fill-rule:evenodd;stroke:#000000;stroke-width:2.0px;stroke-linecap:butt;stroke-linejoin:miter;stroke-opacity:1' />\n",
       "<path class='bond-18 atom-6 atom-18' d='M 259.611,115.602 L 253.319,128.683' style='fill:none;fill-rule:evenodd;stroke:#000000;stroke-width:2.0px;stroke-linecap:butt;stroke-linejoin:miter;stroke-opacity:1' />\n",
       "<path class='bond-19 atom-7 atom-19' d='M 308.329,104.255 L 311.618,95.7254' style='fill:none;fill-rule:evenodd;stroke:#000000;stroke-width:2.0px;stroke-linecap:butt;stroke-linejoin:miter;stroke-opacity:1' />\n",
       "<path class='bond-20 atom-7 atom-20' d='M 308.329,104.255 L 322.723,127.221' style='fill:none;fill-rule:evenodd;stroke:#000000;stroke-width:2.0px;stroke-linecap:butt;stroke-linejoin:miter;stroke-opacity:1' />\n",
       "<path  class='atom-0' d='M 316.185 77.1866\n",
       "Q 316.185 73.8426, 317.837 71.9739\n",
       "Q 319.49 70.1052, 322.578 70.1052\n",
       "Q 325.666 70.1052, 327.319 71.9739\n",
       "Q 328.971 73.8426, 328.971 77.1866\n",
       "Q 328.971 80.5699, 327.299 82.4976\n",
       "Q 325.627 84.4057, 322.578 84.4057\n",
       "Q 319.509 84.4057, 317.837 82.4976\n",
       "Q 316.185 80.5896, 316.185 77.1866\n",
       "M 322.578 82.832\n",
       "Q 324.702 82.832, 325.843 81.4158\n",
       "Q 327.004 79.9798, 327.004 77.1866\n",
       "Q 327.004 74.4524, 325.843 73.0755\n",
       "Q 324.702 71.6789, 322.578 71.6789\n",
       "Q 320.454 71.6789, 319.293 73.0558\n",
       "Q 318.152 74.4327, 318.152 77.1866\n",
       "Q 318.152 79.9995, 319.293 81.4158\n",
       "Q 320.454 82.832, 322.578 82.832\n",
       "' fill='#FF0000'/>\n",
       "<path  class='atom-3' d='M 230.167 68.0984\n",
       "L 234.73 75.4749\n",
       "Q 235.183 76.2027, 235.91 77.5206\n",
       "Q 236.638 78.8385, 236.677 78.9172\n",
       "L 236.677 68.0984\n",
       "L 238.526 68.0984\n",
       "L 238.526 82.0252\n",
       "L 236.618 82.0252\n",
       "L 231.72 73.9603\n",
       "Q 231.15 73.0161, 230.54 71.9342\n",
       "Q 229.95 70.8523, 229.773 70.5179\n",
       "L 229.773 82.0252\n",
       "L 227.963 82.0252\n",
       "L 227.963 68.0984\n",
       "L 230.167 68.0984\n",
       "' fill='#0000FF'/>\n",
       "<path  class='atom-8' d='M 305.395 9.39251\n",
       "L 307.283 9.39251\n",
       "L 307.283 15.3133\n",
       "L 314.404 15.3133\n",
       "L 314.404 9.39251\n",
       "L 316.292 9.39251\n",
       "L 316.292 23.3192\n",
       "L 314.404 23.3192\n",
       "L 314.404 16.887\n",
       "L 307.283 16.887\n",
       "L 307.283 23.3192\n",
       "L 305.395 23.3192\n",
       "L 305.395 9.39251\n",
       "' fill='#000000'/>\n",
       "<path  class='atom-9' d='M 299.133 12.1272\n",
       "L 301.021 12.1272\n",
       "L 301.021 18.0481\n",
       "L 308.142 18.0481\n",
       "L 308.142 12.1272\n",
       "L 310.03 12.1272\n",
       "L 310.03 26.054\n",
       "L 308.142 26.054\n",
       "L 308.142 19.6217\n",
       "L 301.021 19.6217\n",
       "L 301.021 26.054\n",
       "L 299.133 26.054\n",
       "L 299.133 12.1272\n",
       "' fill='#000000'/>\n",
       "<path  class='atom-10' d='M 239.041 53.6585\n",
       "L 240.929 53.6585\n",
       "L 240.929 59.5794\n",
       "L 248.05 59.5794\n",
       "L 248.05 53.6585\n",
       "L 249.939 53.6585\n",
       "L 249.939 67.5853\n",
       "L 248.05 67.5853\n",
       "L 248.05 61.153\n",
       "L 240.929 61.153\n",
       "L 240.929 67.5853\n",
       "L 239.041 67.5853\n",
       "L 239.041 53.6585\n",
       "' fill='#000000'/>\n",
       "<path  class='atom-11' d='M 227.062 6.81818\n",
       "L 228.95 6.81818\n",
       "L 228.95 12.739\n",
       "L 236.071 12.739\n",
       "L 236.071 6.81818\n",
       "L 237.959 6.81818\n",
       "L 237.959 20.7449\n",
       "L 236.071 20.7449\n",
       "L 236.071 14.3126\n",
       "L 228.95 14.3126\n",
       "L 228.95 20.7449\n",
       "L 227.062 20.7449\n",
       "L 227.062 6.81818\n",
       "' fill='#000000'/>\n",
       "<path  class='atom-12' d='M 171.78 108.134\n",
       "L 173.669 108.134\n",
       "L 173.669 114.055\n",
       "L 180.789 114.055\n",
       "L 180.789 108.134\n",
       "L 182.678 108.134\n",
       "L 182.678 122.06\n",
       "L 180.789 122.06\n",
       "L 180.789 115.628\n",
       "L 173.669 115.628\n",
       "L 173.669 122.06\n",
       "L 171.78 122.06\n",
       "L 171.78 108.134\n",
       "' fill='#000000'/>\n",
       "<path  class='atom-13' d='M 173.806 86.423\n",
       "L 175.695 86.423\n",
       "L 175.695 92.3438\n",
       "L 182.815 92.3438\n",
       "L 182.815 86.423\n",
       "L 184.704 86.423\n",
       "L 184.704 100.35\n",
       "L 182.815 100.35\n",
       "L 182.815 93.9175\n",
       "L 175.695 93.9175\n",
       "L 175.695 100.35\n",
       "L 173.806 100.35\n",
       "L 173.806 86.423\n",
       "' fill='#000000'/>\n",
       "<path  class='atom-14' d='M 116.894 52.0354\n",
       "L 118.782 52.0354\n",
       "L 118.782 57.9562\n",
       "L 125.903 57.9562\n",
       "L 125.903 52.0354\n",
       "L 127.791 52.0354\n",
       "L 127.791 65.9621\n",
       "L 125.903 65.9621\n",
       "L 125.903 59.5299\n",
       "L 118.782 59.5299\n",
       "L 118.782 65.9621\n",
       "L 116.894 65.9621\n",
       "L 116.894 52.0354\n",
       "' fill='#000000'/>\n",
       "<path  class='atom-15' d='M 160.548 31.7403\n",
       "L 162.436 31.7403\n",
       "L 162.436 37.6611\n",
       "L 169.557 37.6611\n",
       "L 169.557 31.7403\n",
       "L 171.445 31.7403\n",
       "L 171.445 45.667\n",
       "L 169.557 45.667\n",
       "L 169.557 39.2348\n",
       "L 162.436 39.2348\n",
       "L 162.436 45.667\n",
       "L 160.548 45.667\n",
       "L 160.548 31.7403\n",
       "' fill='#000000'/>\n",
       "<path  class='atom-16' d='M 154.789 12.3898\n",
       "L 156.677 12.3898\n",
       "L 156.677 18.3107\n",
       "L 163.798 18.3107\n",
       "L 163.798 12.3898\n",
       "L 165.686 12.3898\n",
       "L 165.686 26.3166\n",
       "L 163.798 26.3166\n",
       "L 163.798 19.8843\n",
       "L 156.677 19.8843\n",
       "L 156.677 26.3166\n",
       "L 154.789 26.3166\n",
       "L 154.789 12.3898\n",
       "' fill='#000000'/>\n",
       "<path  class='atom-17' d='M 249.343 127.938\n",
       "L 251.231 127.938\n",
       "L 251.231 133.859\n",
       "L 258.352 133.859\n",
       "L 258.352 127.938\n",
       "L 260.241 127.938\n",
       "L 260.241 141.864\n",
       "L 258.352 141.864\n",
       "L 258.352 135.432\n",
       "L 251.231 135.432\n",
       "L 251.231 141.864\n",
       "L 249.343 141.864\n",
       "L 249.343 127.938\n",
       "' fill='#000000'/>\n",
       "<path  class='atom-18' d='M 244.246 129.255\n",
       "L 246.135 129.255\n",
       "L 246.135 135.176\n",
       "L 253.255 135.176\n",
       "L 253.255 129.255\n",
       "L 255.144 129.255\n",
       "L 255.144 143.182\n",
       "L 253.255 143.182\n",
       "L 253.255 136.75\n",
       "L 246.135 136.75\n",
       "L 246.135 143.182\n",
       "L 244.246 143.182\n",
       "L 244.246 129.255\n",
       "' fill='#000000'/>\n",
       "<path  class='atom-19' d='M 309.019 81.3721\n",
       "L 310.907 81.3721\n",
       "L 310.907 87.2929\n",
       "L 318.028 87.2929\n",
       "L 318.028 81.3721\n",
       "L 319.916 81.3721\n",
       "L 319.916 95.2988\n",
       "L 318.028 95.2988\n",
       "L 318.028 88.8666\n",
       "L 310.907 88.8666\n",
       "L 310.907 95.2988\n",
       "L 309.019 95.2988\n",
       "L 309.019 81.3721\n",
       "' fill='#000000'/>\n",
       "<path  class='atom-20' d='M 322.209 128.131\n",
       "L 324.097 128.131\n",
       "L 324.097 134.052\n",
       "L 331.218 134.052\n",
       "L 331.218 128.131\n",
       "L 333.106 128.131\n",
       "L 333.106 142.058\n",
       "L 331.218 142.058\n",
       "L 331.218 135.626\n",
       "L 324.097 135.626\n",
       "L 324.097 142.058\n",
       "L 322.209 142.058\n",
       "L 322.209 128.131\n",
       "' fill='#000000'/>\n",
       "</svg>\n"
      ],
      "text/plain": [
       "<rdkit.Chem.rdchem.Mol at 0x7f861b81a710>"
      ]
     },
     "execution_count": 55,
     "metadata": {},
     "output_type": "execute_result"
    }
   ],
   "source": [
    "m"
   ]
  },
  {
   "cell_type": "markdown",
   "metadata": {},
   "source": [
    "#### Generation of multiple conformers"
   ]
  },
  {
   "cell_type": "markdown",
   "metadata": {},
   "source": [
    "There are a lot of input options. The major ones are the number of conformers and RMS threshold, which will help to discard too similar 3D structures and keep diverse conformers."
   ]
  },
  {
   "cell_type": "code",
   "execution_count": 56,
   "metadata": {
    "tags": []
   },
   "outputs": [],
   "source": [
    "cids = AllChem.EmbedMultipleConfs(m, numConfs=10, pruneRmsThresh=1)"
   ]
  },
  {
   "cell_type": "code",
   "execution_count": 57,
   "metadata": {
    "collapsed": false,
    "jupyter": {
     "outputs_hidden": false
    }
   },
   "outputs": [
    {
     "data": {
      "text/plain": [
       "1"
      ]
     },
     "execution_count": 57,
     "metadata": {},
     "output_type": "execute_result"
    }
   ],
   "source": [
    "len(cids)"
   ]
  },
  {
   "cell_type": "markdown",
   "metadata": {},
   "source": [
    "You may see that from 10 required conformers only 7 were generated. If you will descrese the RMS threshold value more conformers will be kept up to specified maximum value (10)."
   ]
  },
  {
   "cell_type": "markdown",
   "metadata": {},
   "source": [
    "Generated conformers require geometry optimization to produce more reasonable 3D structures."
   ]
  },
  {
   "cell_type": "code",
   "execution_count": 58,
   "metadata": {
    "collapsed": false,
    "jupyter": {
     "outputs_hidden": false
    }
   },
   "outputs": [],
   "source": [
    "for cid in cids:\n",
    "    AllChem.MMFFOptimizeMolecule(m, confId=cid)"
   ]
  },
  {
   "cell_type": "markdown",
   "metadata": {},
   "source": [
    "For conformers you may corresponding return energy values. Since we optimized geometry with MMFF we will use the same force field for energy calculation."
   ]
  },
  {
   "cell_type": "code",
   "execution_count": 59,
   "metadata": {
    "collapsed": false,
    "jupyter": {
     "outputs_hidden": false
    }
   },
   "outputs": [
    {
     "name": "stdout",
     "output_type": "stream",
     "text": [
      "56.52251332961608\n"
     ]
    }
   ],
   "source": [
    "for cid in cids:\n",
    "    ff = AllChem.MMFFGetMoleculeForceField(m, AllChem.MMFFGetMoleculeProperties(m), confId=cid)\n",
    "    print(ff.CalcEnergy())"
   ]
  },
  {
   "cell_type": "markdown",
   "metadata": {},
   "source": [
    "## Substructure search"
   ]
  },
  {
   "cell_type": "code",
   "execution_count": 60,
   "metadata": {
    "collapsed": false,
    "jupyter": {
     "outputs_hidden": false
    }
   },
   "outputs": [
    {
     "data": {
      "image/png": "[encoded data removed]",
      "image/svg+xml": [
       "<?xml version='1.0' encoding='iso-8859-1'?>\n",
       "<svg version='1.1' baseProfile='full'\n",
       "              xmlns='http://www.w3.org/2000/svg'\n",
       "                      xmlns:rdkit='http://www.rdkit.org/xml'\n",
       "                      xmlns:xlink='http://www.w3.org/1999/xlink'\n",
       "                  xml:space='preserve'\n",
       "width='450px' height='150px' viewBox='0 0 450 150'>\n",
       "<!-- END OF HEADER -->\n",
       "<rect style='opacity:1.0;fill:#FFFFFF;stroke:none' width='450' height='150' x='0' y='0'> </rect>\n",
       "<path class='bond-0 atom-0 atom-1' d='M 104.673,78.6974 L 113.417,50.612' style='fill:none;fill-rule:evenodd;stroke:#FF0000;stroke-width:2.0px;stroke-linecap:butt;stroke-linejoin:miter;stroke-opacity:1' />\n",
       "<path class='bond-0 atom-0 atom-1' d='M 113.417,50.612 L 122.16,22.5266' style='fill:none;fill-rule:evenodd;stroke:#000000;stroke-width:2.0px;stroke-linecap:butt;stroke-linejoin:miter;stroke-opacity:1' />\n",
       "<path class='bond-7 atom-7 atom-0' d='M 149.368,143.182 L 130.685,122.941' style='fill:none;fill-rule:evenodd;stroke:#000000;stroke-width:2.0px;stroke-linecap:butt;stroke-linejoin:miter;stroke-opacity:1' />\n",
       "<path class='bond-7 atom-7 atom-0' d='M 130.685,122.941 L 112.003,102.7' style='fill:none;fill-rule:evenodd;stroke:#FF0000;stroke-width:2.0px;stroke-linecap:butt;stroke-linejoin:miter;stroke-opacity:1' />\n",
       "<path class='bond-1 atom-1 atom-2' d='M 122.16,22.5266 L 191.821,6.81818' style='fill:none;fill-rule:evenodd;stroke:#000000;stroke-width:2.0px;stroke-linecap:butt;stroke-linejoin:miter;stroke-opacity:1' />\n",
       "<path class='bond-2 atom-2 atom-3' d='M 191.821,6.81818 L 211.31,27.9333' style='fill:none;fill-rule:evenodd;stroke:#000000;stroke-width:2.0px;stroke-linecap:butt;stroke-linejoin:miter;stroke-opacity:1' />\n",
       "<path class='bond-2 atom-2 atom-3' d='M 211.31,27.9333 L 230.8,49.0484' style='fill:none;fill-rule:evenodd;stroke:#0000FF;stroke-width:2.0px;stroke-linecap:butt;stroke-linejoin:miter;stroke-opacity:1' />\n",
       "<path class='bond-3 atom-3 atom-4' d='M 249.709,57.1595 L 279.812,50.3713' style='fill:none;fill-rule:evenodd;stroke:#0000FF;stroke-width:2.0px;stroke-linecap:butt;stroke-linejoin:miter;stroke-opacity:1' />\n",
       "<path class='bond-3 atom-3 atom-4' d='M 279.812,50.3713 L 309.915,43.5831' style='fill:none;fill-rule:evenodd;stroke:#000000;stroke-width:2.0px;stroke-linecap:butt;stroke-linejoin:miter;stroke-opacity:1' />\n",
       "<path class='bond-5 atom-3 atom-6' d='M 236.551,71.1884 L 227.79,99.3309' style='fill:none;fill-rule:evenodd;stroke:#0000FF;stroke-width:2.0px;stroke-linecap:butt;stroke-linejoin:miter;stroke-opacity:1' />\n",
       "<path class='bond-5 atom-3 atom-6' d='M 227.79,99.3309 L 219.029,127.473' style='fill:none;fill-rule:evenodd;stroke:#000000;stroke-width:2.0px;stroke-linecap:butt;stroke-linejoin:miter;stroke-opacity:1' />\n",
       "<path class='bond-4 atom-4 atom-5' d='M 309.915,43.5831 L 358.349,96.0564' style='fill:none;fill-rule:evenodd;stroke:#000000;stroke-width:2.0px;stroke-linecap:butt;stroke-linejoin:miter;stroke-opacity:1' />\n",
       "<path class='bond-6 atom-6 atom-7' d='M 219.029,127.473 L 149.368,143.182' style='fill:none;fill-rule:evenodd;stroke:#000000;stroke-width:2.0px;stroke-linecap:butt;stroke-linejoin:miter;stroke-opacity:1' />\n",
       "<path  class='atom-0' d='M 91.6509 90.7656\n",
       "Q 91.6509 85.9097, 94.0503 83.1962\n",
       "Q 96.4496 80.4826, 100.934 80.4826\n",
       "Q 105.419 80.4826, 107.818 83.1962\n",
       "Q 110.217 85.9097, 110.217 90.7656\n",
       "Q 110.217 95.6786, 107.789 98.4778\n",
       "Q 105.362 101.249, 100.934 101.249\n",
       "Q 96.4782 101.249, 94.0503 98.4778\n",
       "Q 91.6509 95.7071, 91.6509 90.7656\n",
       "M 100.934 98.9634\n",
       "Q 104.019 98.9634, 105.676 96.9068\n",
       "Q 107.361 94.8217, 107.361 90.7656\n",
       "Q 107.361 86.7952, 105.676 84.7958\n",
       "Q 104.019 82.7677, 100.934 82.7677\n",
       "Q 97.8492 82.7677, 96.164 84.7672\n",
       "Q 94.5073 86.7667, 94.5073 90.7656\n",
       "Q 94.5073 94.8502, 96.164 96.9068\n",
       "Q 97.8492 98.9634, 100.934 98.9634\n",
       "' fill='#FF0000'/>\n",
       "<path  class='atom-3' d='M 235.784 49.18\n",
       "L 242.411 59.8914\n",
       "Q 243.068 60.9482, 244.125 62.862\n",
       "Q 245.182 64.7758, 245.239 64.89\n",
       "L 245.239 49.18\n",
       "L 247.924 49.18\n",
       "L 247.924 69.4031\n",
       "L 245.153 69.4031\n",
       "L 238.041 57.692\n",
       "Q 237.213 56.3209, 236.327 54.7499\n",
       "Q 235.47 53.1789, 235.213 52.6933\n",
       "L 235.213 69.4031\n",
       "L 232.585 69.4031\n",
       "L 232.585 49.18\n",
       "L 235.784 49.18\n",
       "' fill='#0000FF'/>\n",
       "</svg>\n"
      ],
      "text/plain": [
       "<rdkit.Chem.rdchem.Mol at 0x7f861b825ad0>"
      ]
     },
     "execution_count": 60,
     "metadata": {},
     "output_type": "execute_result"
    }
   ],
   "source": [
    "m = Chem.MolFromSmiles('O1CCN(CC)CC1')\n",
    "m"
   ]
  },
  {
   "cell_type": "code",
   "execution_count": 61,
   "metadata": {
    "collapsed": false,
    "jupyter": {
     "outputs_hidden": false
    }
   },
   "outputs": [],
   "source": [
    "q = Chem.MolFromSmarts('CCN')"
   ]
  },
  {
   "cell_type": "code",
   "execution_count": 62,
   "metadata": {
    "collapsed": false,
    "jupyter": {
     "outputs_hidden": false
    }
   },
   "outputs": [
    {
     "data": {
      "text/plain": [
       "True"
      ]
     },
     "execution_count": 62,
     "metadata": {},
     "output_type": "execute_result"
    }
   ],
   "source": [
    "m.HasSubstructMatch(q)"
   ]
  },
  {
   "cell_type": "code",
   "execution_count": 63,
   "metadata": {
    "collapsed": false,
    "jupyter": {
     "outputs_hidden": false
    }
   },
   "outputs": [
    {
     "data": {
      "text/plain": [
       "(1, 2, 3)"
      ]
     },
     "execution_count": 63,
     "metadata": {},
     "output_type": "execute_result"
    }
   ],
   "source": [
    "m.GetSubstructMatch(q)"
   ]
  },
  {
   "cell_type": "code",
   "execution_count": 64,
   "metadata": {
    "collapsed": false,
    "jupyter": {
     "outputs_hidden": false
    }
   },
   "outputs": [
    {
     "data": {
      "text/plain": [
       "((1, 2, 3), (5, 4, 3), (7, 6, 3))"
      ]
     },
     "execution_count": 64,
     "metadata": {},
     "output_type": "execute_result"
    }
   ],
   "source": [
    "m.GetSubstructMatches(q)"
   ]
  },
  {
   "cell_type": "markdown",
   "metadata": {},
   "source": [
    "<font color=\"red\">TASK 1</font>. Write a script to retrive compound names having carboxylic acid group from the sdf file - `logBB_big.sdf`.  \n",
    "<font color=\"red\">TASK 2</font>. Write a script to retrive compound names having more than one carboxylic acid group."
   ]
  },
  {
   "cell_type": "code",
   "execution_count": 65,
   "metadata": {
    "collapsed": false,
    "jupyter": {
     "outputs_hidden": false
    }
   },
   "outputs": [
    {
     "name": "stdout",
     "output_type": "stream",
     "text": [
      "MolID_208\n",
      "MolID_215\n",
      "MolID_280\n",
      "MolID_281\n",
      "MolID_317\n",
      "MolID_172\n",
      "MolID_71\n",
      "MolID_41\n",
      "MolID_180\n",
      "MolID_118\n"
     ]
    },
    {
     "name": "stderr",
     "output_type": "stream",
     "text": [
      "RDKit ERROR: [13:03:21] non-ring atom 4 marked aromatic\n",
      "RDKit ERROR: [13:03:21] ERROR: Could not sanitize molecule ending on line 6561\n",
      "RDKit ERROR: [13:03:21] ERROR: non-ring atom 4 marked aromatic\n",
      "RDKit ERROR: [13:03:21] non-ring atom 0 marked aromatic\n",
      "RDKit ERROR: [13:03:21] ERROR: Could not sanitize molecule ending on line 15523\n",
      "RDKit ERROR: [13:03:21] ERROR: non-ring atom 0 marked aromatic\n",
      "RDKit ERROR: [13:03:21] non-ring atom 16 marked aromatic\n",
      "RDKit ERROR: [13:03:21] ERROR: Could not sanitize molecule ending on line 17846\n",
      "RDKit ERROR: [13:03:21] ERROR: non-ring atom 16 marked aromatic\n",
      "RDKit ERROR: [13:03:21] non-ring atom 16 marked aromatic\n",
      "RDKit ERROR: [13:03:21] ERROR: Could not sanitize molecule ending on line 19055\n",
      "RDKit ERROR: [13:03:21] ERROR: non-ring atom 16 marked aromatic\n",
      "RDKit ERROR: [13:03:21] non-ring atom 16 marked aromatic\n",
      "RDKit ERROR: [13:03:21] ERROR: Could not sanitize molecule ending on line 19968\n"
     ]
    },
    {
     "name": "stdout",
     "output_type": "stream",
     "text": [
      "MolID_160\n",
      "MolID_184\n",
      "MolID_101\n",
      "MolID_152\n",
      "MolID_100\n"
     ]
    },
    {
     "name": "stderr",
     "output_type": "stream",
     "text": [
      "RDKit ERROR: [13:03:21] ERROR: non-ring atom 16 marked aromatic\n",
      "RDKit ERROR: [13:03:21] non-ring atom 18 marked aromatic\n",
      "RDKit ERROR: [13:03:21] ERROR: Could not sanitize molecule ending on line 20965\n",
      "RDKit ERROR: [13:03:21] ERROR: non-ring atom 18 marked aromatic\n",
      "RDKit ERROR: [13:03:21] non-ring atom 20 marked aromatic\n",
      "RDKit ERROR: [13:03:21] ERROR: Could not sanitize molecule ending on line 22625\n",
      "RDKit ERROR: [13:03:21] ERROR: non-ring atom 20 marked aromatic\n",
      "RDKit ERROR: [13:03:21] non-ring atom 18 marked aromatic\n",
      "RDKit ERROR: [13:03:21] ERROR: Could not sanitize molecule ending on line 22844\n",
      "RDKit ERROR: [13:03:21] ERROR: non-ring atom 18 marked aromatic\n",
      "RDKit ERROR: [13:03:21] non-ring atom 19 marked aromatic\n",
      "RDKit ERROR: [13:03:21] ERROR: Could not sanitize molecule ending on line 23484\n",
      "RDKit ERROR: [13:03:21] ERROR: non-ring atom 19 marked aromatic\n",
      "RDKit ERROR: [13:03:21] non-ring atom 12 marked aromatic\n",
      "RDKit ERROR: [13:03:21] ERROR: Could not sanitize molecule ending on line 24286\n",
      "RDKit ERROR: [13:03:21] ERROR: non-ring atom 12 marked aromatic\n",
      "RDKit ERROR: [13:03:21] non-ring atom 23 marked aromatic\n",
      "RDKit ERROR: [13:03:21] ERROR: Could not sanitize molecule ending on line 25470\n",
      "RDKit ERROR: [13:03:21] ERROR: non-ring atom 23 marked aromatic\n",
      "RDKit ERROR: [13:03:22] non-ring atom 26 marked aromatic\n",
      "RDKit ERROR: [13:03:22] ERROR: Could not sanitize molecule ending on line 26268\n"
     ]
    }
   ],
   "source": [
    "for m in Chem.SDMolSupplier('data/logBB_big.sdf'):\n",
    "    if m is not None:\n",
    "        if m.HasSubstructMatch(Chem.MolFromSmarts('C(=O)[OH]')):\n",
    "            print(m.GetProp(\"_Name\"))"
   ]
  },
  {
   "cell_type": "markdown",
   "metadata": {},
   "source": [
    "## Descriptors calculation"
   ]
  },
  {
   "cell_type": "markdown",
   "metadata": {},
   "source": [
    "There are a lot of descriptors available in RDKit - http://www.rdkit.org/docs/GettingStartedInPython.html#list-of-available-descriptors"
   ]
  },
  {
   "cell_type": "code",
   "execution_count": 66,
   "metadata": {
    "tags": []
   },
   "outputs": [],
   "source": [
    "from rdkit.Chem import Descriptors\n",
    "m = Chem.MolFromSmiles('c1ccncc1C(=O)O')"
   ]
  },
  {
   "cell_type": "code",
   "execution_count": 67,
   "metadata": {
    "collapsed": false,
    "jupyter": {
     "outputs_hidden": false
    }
   },
   "outputs": [
    {
     "data": {
      "text/plain": [
       "50.19"
      ]
     },
     "execution_count": 67,
     "metadata": {},
     "output_type": "execute_result"
    }
   ],
   "source": [
    "Descriptors.TPSA(m)"
   ]
  },
  {
   "cell_type": "code",
   "execution_count": 68,
   "metadata": {
    "collapsed": false,
    "jupyter": {
     "outputs_hidden": false
    }
   },
   "outputs": [
    {
     "data": {
      "text/plain": [
       "0.7797999999999998"
      ]
     },
     "execution_count": 68,
     "metadata": {},
     "output_type": "execute_result"
    }
   ],
   "source": [
    "Descriptors.MolLogP(m)"
   ]
  },
  {
   "cell_type": "markdown",
   "metadata": {},
   "source": [
    "Charges are computed differently"
   ]
  },
  {
   "cell_type": "code",
   "execution_count": 69,
   "metadata": {
    "collapsed": false,
    "jupyter": {
     "outputs_hidden": false
    }
   },
   "outputs": [
    {
     "name": "stdout",
     "output_type": "stream",
     "text": [
      "atom C id=0 has -0.044587 charge\n",
      "atom C id=1 has -0.042959 charge\n",
      "atom C id=2 has 0.026786 charge\n",
      "atom N id=3 has -0.263835 charge\n",
      "atom C id=4 has 0.041281 charge\n",
      "atom C id=5 has 0.077736 charge\n",
      "atom C id=6 has 0.336759 charge\n",
      "atom O id=7 has -0.246333 charge\n",
      "atom O id=8 has -0.477599 charge\n"
     ]
    }
   ],
   "source": [
    "AllChem.ComputeGasteigerCharges(m)\n",
    "for a in m.GetAtoms():\n",
    "    print(\"atom %s id=%i has %f charge\" % (a.GetSymbol(), a.GetIdx(), float(a.GetProp('_GasteigerCharge'))))"
   ]
  },
  {
   "cell_type": "markdown",
   "metadata": {},
   "source": [
    "## Fingerprints"
   ]
  },
  {
   "cell_type": "markdown",
   "metadata": {},
   "source": [
    "### Topological fingerprints"
   ]
  },
  {
   "cell_type": "markdown",
   "metadata": {},
   "source": [
    "They are topological paths between pairs of atoms on a specified distance (defaults: min 1, max 7)"
   ]
  },
  {
   "cell_type": "code",
   "execution_count": 70,
   "metadata": {
    "tags": []
   },
   "outputs": [],
   "source": [
    "from rdkit import DataStructs\n",
    "from rdkit.Chem.Fingerprints import FingerprintMols"
   ]
  },
  {
   "cell_type": "code",
   "execution_count": 71,
   "metadata": {
    "tags": []
   },
   "outputs": [],
   "source": [
    "m1 = Chem.MolFromSmiles(\"CCCCO\")\n",
    "m2 = Chem.MolFromSmiles(\"c1ccccc1CO\")"
   ]
  },
  {
   "cell_type": "code",
   "execution_count": 72,
   "metadata": {
    "tags": []
   },
   "outputs": [],
   "source": [
    "fp1 = FingerprintMols.FingerprintMol(m1)\n",
    "fp2 = FingerprintMols.FingerprintMol(m2)"
   ]
  },
  {
   "cell_type": "code",
   "execution_count": 73,
   "metadata": {
    "collapsed": false,
    "jupyter": {
     "outputs_hidden": false
    }
   },
   "outputs": [
    {
     "data": {
      "text/plain": [
       "0.14"
      ]
     },
     "execution_count": 73,
     "metadata": {},
     "output_type": "execute_result"
    }
   ],
   "source": [
    "DataStructs.FingerprintSimilarity(fp1, fp2)"
   ]
  },
  {
   "cell_type": "markdown",
   "metadata": {},
   "source": [
    "By default for calculation of similarity Tanimoto is used, but there are some other implemented metrics: Tanimoto, Dice, Cosine, Sokal, Russel, Kulczynski, McConnaughey, and Tversky"
   ]
  },
  {
   "cell_type": "code",
   "execution_count": 74,
   "metadata": {
    "collapsed": false,
    "jupyter": {
     "outputs_hidden": false
    }
   },
   "outputs": [
    {
     "data": {
      "text/plain": [
       "0.24561403508771928"
      ]
     },
     "execution_count": 74,
     "metadata": {},
     "output_type": "execute_result"
    }
   ],
   "source": [
    "DataStructs.FingerprintSimilarity(fp1,fp2, metric=DataStructs.DiceSimilarity)"
   ]
  },
  {
   "cell_type": "markdown",
   "metadata": {},
   "source": [
    "### MACCS keys"
   ]
  },
  {
   "cell_type": "markdown",
   "metadata": {},
   "source": [
    "They are SMARTS patterns of different functiong groups and common fragments: http://rdkit.org/Python_Docs/rdkit.Chem.MACCSkeys-pysrc.html"
   ]
  },
  {
   "cell_type": "code",
   "execution_count": 75,
   "metadata": {
    "tags": []
   },
   "outputs": [],
   "source": [
    "from rdkit.Chem import MACCSkeys"
   ]
  },
  {
   "cell_type": "code",
   "execution_count": 76,
   "metadata": {
    "tags": []
   },
   "outputs": [],
   "source": [
    "fp1 = MACCSkeys.GenMACCSKeys(m1)\n",
    "fp2 = MACCSkeys.GenMACCSKeys(m2)"
   ]
  },
  {
   "cell_type": "code",
   "execution_count": 77,
   "metadata": {
    "collapsed": false,
    "jupyter": {
     "outputs_hidden": false
    }
   },
   "outputs": [
    {
     "data": {
      "text/plain": [
       "0.3684210526315789"
      ]
     },
     "execution_count": 77,
     "metadata": {},
     "output_type": "execute_result"
    }
   ],
   "source": [
    "DataStructs.FingerprintSimilarity(fp1, fp2)"
   ]
  },
  {
   "cell_type": "markdown",
   "metadata": {},
   "source": [
    "### Morgan fingerprints (Circular Fingerprints)"
   ]
  },
  {
   "cell_type": "code",
   "execution_count": 78,
   "metadata": {
    "collapsed": false,
    "jupyter": {
     "outputs_hidden": false
    }
   },
   "outputs": [],
   "source": [
    "fp1 = AllChem.GetMorganFingerprint(m1, 2)\n",
    "fp2 = AllChem.GetMorganFingerprint(m2, 2)"
   ]
  },
  {
   "cell_type": "markdown",
   "metadata": {},
   "source": [
    "Morgan fingerprints by default are counts, therefore dice similarity should be used as a metric."
   ]
  },
  {
   "cell_type": "code",
   "execution_count": 79,
   "metadata": {
    "collapsed": false,
    "jupyter": {
     "outputs_hidden": false
    }
   },
   "outputs": [
    {
     "data": {
      "text/plain": [
       "0.16666666666666666"
      ]
     },
     "execution_count": 79,
     "metadata": {},
     "output_type": "execute_result"
    }
   ],
   "source": [
    "DataStructs.DiceSimilarity(fp1, fp2)"
   ]
  },
  {
   "cell_type": "markdown",
   "metadata": {},
   "source": [
    "But it is possible calculate Morgan fingerprints as bit vectors."
   ]
  },
  {
   "cell_type": "code",
   "execution_count": 80,
   "metadata": {
    "tags": []
   },
   "outputs": [],
   "source": [
    "fp1 = AllChem.GetMorganFingerprintAsBitVect(m1, 2)\n",
    "fp2 = AllChem.GetMorganFingerprintAsBitVect(m2, 2)"
   ]
  },
  {
   "cell_type": "code",
   "execution_count": 81,
   "metadata": {
    "collapsed": false,
    "jupyter": {
     "outputs_hidden": false
    }
   },
   "outputs": [
    {
     "data": {
      "text/plain": [
       "0.24"
      ]
     },
     "execution_count": 81,
     "metadata": {},
     "output_type": "execute_result"
    }
   ],
   "source": [
    "DataStructs.DiceSimilarity(fp1,fp2)"
   ]
  },
  {
   "cell_type": "code",
   "execution_count": 82,
   "metadata": {
    "collapsed": false,
    "jupyter": {
     "outputs_hidden": false
    }
   },
   "outputs": [
    {
     "data": {
      "text/plain": [
       "0.13636363636363635"
      ]
     },
     "execution_count": 82,
     "metadata": {},
     "output_type": "execute_result"
    }
   ],
   "source": [
    "DataStructs.FingerprintSimilarity(fp1, fp2)"
   ]
  },
  {
   "cell_type": "markdown",
   "metadata": {},
   "source": [
    "Atoms can be labeled by feature types (like pharmacophore features): http://www.rdkit.org/docs/GettingStartedInPython.html#feature-definitions-used-in-the-morgan-fingerprints"
   ]
  },
  {
   "cell_type": "code",
   "execution_count": 83,
   "metadata": {
    "tags": []
   },
   "outputs": [],
   "source": [
    "fp1 = AllChem.GetMorganFingerprintAsBitVect(m1, 2, useFeatures=True)\n",
    "fp2 = AllChem.GetMorganFingerprintAsBitVect(m2, 2, useFeatures=True)"
   ]
  },
  {
   "cell_type": "code",
   "execution_count": 84,
   "metadata": {
    "collapsed": false,
    "jupyter": {
     "outputs_hidden": false
    }
   },
   "outputs": [
    {
     "data": {
      "text/plain": [
       "0.3"
      ]
     },
     "execution_count": 84,
     "metadata": {},
     "output_type": "execute_result"
    }
   ],
   "source": [
    "DataStructs.DiceSimilarity(fp1,fp2)"
   ]
  },
  {
   "cell_type": "code",
   "execution_count": 85,
   "metadata": {
    "collapsed": false,
    "jupyter": {
     "outputs_hidden": false
    }
   },
   "outputs": [
    {
     "data": {
      "text/plain": [
       "0.17647058823529413"
      ]
     },
     "execution_count": 85,
     "metadata": {},
     "output_type": "execute_result"
    }
   ],
   "source": [
    "DataStructs.FingerprintSimilarity(fp1, fp2)"
   ]
  },
  {
   "cell_type": "markdown",
   "metadata": {},
   "source": [
    "<font color=\"red\">TASK 3</font>. Write a script to retrive SMILES of the similar compounds from logBB_big.sdf file to the N1CCNCC1c1ccccc1 molecule based on Tanimoto score and topological and Morgan fingerprints."
   ]
  },
  {
   "cell_type": "code",
   "execution_count": 86,
   "metadata": {
    "collapsed": false,
    "jupyter": {
     "outputs_hidden": false
    }
   },
   "outputs": [
    {
     "name": "stderr",
     "output_type": "stream",
     "text": [
      "RDKit ERROR: [13:03:22] ERROR: non-ring atom 26 marked aromatic\n",
      "RDKit ERROR: [13:07:14] non-ring atom 4 marked aromatic\n",
      "RDKit ERROR: [13:07:14] ERROR: Could not sanitize molecule ending on line 6561\n",
      "RDKit ERROR: [13:07:14] ERROR: non-ring atom 4 marked aromatic\n",
      "RDKit ERROR: [13:07:14] non-ring atom 0 marked aromatic\n",
      "RDKit ERROR: [13:07:14] ERROR: Could not sanitize molecule ending on line 15523\n",
      "RDKit ERROR: [13:07:14] ERROR: non-ring atom 0 marked aromatic\n",
      "RDKit ERROR: [13:07:14] non-ring atom 16 marked aromatic\n",
      "RDKit ERROR: [13:07:14] ERROR: Could not sanitize molecule ending on line 17846\n",
      "RDKit ERROR: [13:07:14] ERROR: non-ring atom 16 marked aromatic\n",
      "RDKit ERROR: [13:07:14] non-ring atom 16 marked aromatic\n",
      "RDKit ERROR: [13:07:14] ERROR: Could not sanitize molecule ending on line 19055\n",
      "RDKit ERROR: [13:07:14] ERROR: non-ring atom 16 marked aromatic\n",
      "RDKit ERROR: [13:07:14] non-ring atom 16 marked aromatic\n",
      "RDKit ERROR: [13:07:14] ERROR: Could not sanitize molecule ending on line 19968\n",
      "RDKit ERROR: [13:07:14] ERROR: non-ring atom 16 marked aromatic\n",
      "RDKit ERROR: [13:07:14] non-ring atom 18 marked aromatic\n",
      "RDKit ERROR: [13:07:14] ERROR: Could not sanitize molecule ending on line 20965\n",
      "RDKit ERROR: [13:07:14] ERROR: non-ring atom 18 marked aromatic\n",
      "RDKit ERROR: [13:07:14] non-ring atom 20 marked aromatic\n",
      "RDKit ERROR: [13:07:14] ERROR: Could not sanitize molecule ending on line 22625\n",
      "RDKit ERROR: [13:07:14] ERROR: non-ring atom 20 marked aromatic\n",
      "RDKit ERROR: [13:07:14] non-ring atom 18 marked aromatic\n",
      "RDKit ERROR: [13:07:14] ERROR: Could not sanitize molecule ending on line 22844\n",
      "RDKit ERROR: [13:07:14] ERROR: non-ring atom 18 marked aromatic\n",
      "RDKit ERROR: [13:07:14] non-ring atom 19 marked aromatic\n",
      "RDKit ERROR: [13:07:14] ERROR: Could not sanitize molecule ending on line 23484\n",
      "RDKit ERROR: [13:07:14] ERROR: non-ring atom 19 marked aromatic\n",
      "RDKit ERROR: [13:07:14] non-ring atom 12 marked aromatic\n",
      "RDKit ERROR: [13:07:14] ERROR: Could not sanitize molecule ending on line 24286\n",
      "RDKit ERROR: [13:07:14] ERROR: non-ring atom 12 marked aromatic\n",
      "RDKit ERROR: [13:07:14] non-ring atom 23 marked aromatic\n",
      "RDKit ERROR: [13:07:14] ERROR: Could not sanitize molecule ending on line 25470\n",
      "RDKit ERROR: [13:07:14] ERROR: non-ring atom 23 marked aromatic\n",
      "RDKit ERROR: [13:07:14] non-ring atom 26 marked aromatic\n",
      "RDKit ERROR: [13:07:14] ERROR: Could not sanitize molecule ending on line 26268\n"
     ]
    }
   ],
   "source": [
    "mol = Chem.MolFromSmiles(\"N1CCNCC1c1ccccc1\")\n",
    "tp = FingerprintMols.FingerprintMol(mol)\n",
    "mg = AllChem.GetMorganFingerprintAsBitVect(mol, 2, useFeatures=True)\n",
    "\n",
    "d = {}\n",
    "for m in Chem.SDMolSupplier('data/logBB_big.sdf'):\n",
    "    if m is not None:\n",
    "        tp_ = FingerprintMols.FingerprintMol(m)\n",
    "        mg_ = AllChem.GetMorganFingerprintAsBitVect(m, 2, useFeatures=True)\n",
    "        d[Chem.MolToSmiles(m)] = (DataStructs.FingerprintSimilarity(tp, tp_), DataStructs.FingerprintSimilarity(mg, mg_))"
   ]
  },
  {
   "cell_type": "markdown",
   "metadata": {},
   "source": [
    "Sort output dictionary by descending order of the topological similarity and return top 5 molecules"
   ]
  },
  {
   "cell_type": "code",
   "execution_count": 87,
   "metadata": {
    "collapsed": false,
    "jupyter": {
     "outputs_hidden": false
    },
    "scrolled": true
   },
   "outputs": [
    {
     "data": {
      "text/plain": [
       "[('CNC(C)Cc1ccccc1', (0.5567567567567567, 0.3333333333333333)),\n",
       " ('CCCOC(C)=O', (0.5238095238095238, 0.037037037037037035)),\n",
       " ('CC(=O)OC(C)C', (0.5238095238095238, 0.04)),\n",
       " ('CC(N)Cc1ccccc1', (0.5054945054945055, 0.30434782608695654)),\n",
       " ('FC(F)OC(F)C(F)(F)F', (0.5041322314049587, 0.037037037037037035))]"
      ]
     },
     "execution_count": 87,
     "metadata": {},
     "output_type": "execute_result"
    }
   ],
   "source": [
    "sorted(d.items(), key=lambda x: -x[1][0])[:5]"
   ]
  },
  {
   "cell_type": "markdown",
   "metadata": {},
   "source": [
    "Do the same with Morgan similarity"
   ]
  },
  {
   "cell_type": "code",
   "execution_count": 88,
   "metadata": {
    "collapsed": false,
    "jupyter": {
     "outputs_hidden": false
    },
    "scrolled": true
   },
   "outputs": [
    {
     "data": {
      "text/plain": [
       "[('CC(C)(C)c1ccccc1', (0.35978835978835977, 0.3684210526315789)),\n",
       " ('c1cncc(C2CCCN2)c1', (0.4752186588921283, 0.3448275862068966)),\n",
       " ('Cc1ccccc1C', (0.4051724137931034, 0.3333333333333333)),\n",
       " ('CNC(C)Cc1ccccc1', (0.5567567567567567, 0.3333333333333333)),\n",
       " ('Cc1ccccc1', (0.4603174603174603, 0.3333333333333333))]"
      ]
     },
     "execution_count": 88,
     "metadata": {},
     "output_type": "execute_result"
    }
   ],
   "source": [
    "sorted(d.items(), key=lambda x: -x[1][1])[:5]"
   ]
  },
  {
   "cell_type": "markdown",
   "metadata": {},
   "source": [
    "### 2D pharmacophore fingerprints"
   ]
  },
  {
   "cell_type": "code",
   "execution_count": 89,
   "metadata": {
    "tags": []
   },
   "outputs": [],
   "source": [
    "from rdkit.Chem.Pharm2D import Gobbi_Pharm2D, Generate"
   ]
  },
  {
   "cell_type": "code",
   "execution_count": 90,
   "metadata": {
    "tags": []
   },
   "outputs": [],
   "source": [
    "m1 = Chem.MolFromSmiles(\"NCCCCO\")\n",
    "m2 = Chem.MolFromSmiles(\"NCCCCCCO\")"
   ]
  },
  {
   "cell_type": "code",
   "execution_count": 91,
   "metadata": {
    "collapsed": false,
    "jupyter": {
     "outputs_hidden": false
    }
   },
   "outputs": [],
   "source": [
    "fp1 = Generate.Gen2DFingerprint(m1, Gobbi_Pharm2D.factory)\n",
    "fp2 = Generate.Gen2DFingerprint(m2, Gobbi_Pharm2D.factory)"
   ]
  },
  {
   "cell_type": "code",
   "execution_count": 92,
   "metadata": {
    "collapsed": false,
    "jupyter": {
     "outputs_hidden": false
    }
   },
   "outputs": [
    {
     "data": {
      "text/plain": [
       "0.06153846153846154"
      ]
     },
     "execution_count": 92,
     "metadata": {},
     "output_type": "execute_result"
    }
   ],
   "source": [
    "DataStructs.FingerprintSimilarity(fp1, fp2)"
   ]
  },
  {
   "cell_type": "markdown",
   "metadata": {},
   "source": [
    "## Reactions"
   ]
  },
  {
   "cell_type": "markdown",
   "metadata": {},
   "source": [
    "Reactions can be constructed based on SMARTS definitions of reactants and products"
   ]
  },
  {
   "cell_type": "code",
   "execution_count": 93,
   "metadata": {
    "tags": []
   },
   "outputs": [],
   "source": [
    "rxn = AllChem.ReactionFromSmarts('[C:1](=[O:2])-[OD1].[N!H0:3]>>[C:1](=[O:2])[N:3]')"
   ]
  },
  {
   "cell_type": "code",
   "execution_count": 94,
   "metadata": {
    "tags": []
   },
   "outputs": [],
   "source": [
    "p = rxn.RunReactants((Chem.MolFromSmiles('CC(=O)O'),Chem.MolFromSmiles('NC')))"
   ]
  },
  {
   "cell_type": "code",
   "execution_count": 95,
   "metadata": {
    "collapsed": false,
    "jupyter": {
     "outputs_hidden": false
    }
   },
   "outputs": [
    {
     "data": {
      "text/plain": [
       "1"
      ]
     },
     "execution_count": 95,
     "metadata": {},
     "output_type": "execute_result"
    }
   ],
   "source": [
    "len(p)"
   ]
  },
  {
   "cell_type": "code",
   "execution_count": 96,
   "metadata": {
    "collapsed": false,
    "jupyter": {
     "outputs_hidden": false
    }
   },
   "outputs": [
    {
     "data": {
      "image/png": "[encoded data removed]",
      "image/svg+xml": [
       "<?xml version='1.0' encoding='iso-8859-1'?>\n",
       "<svg version='1.1' baseProfile='full'\n",
       "              xmlns='http://www.w3.org/2000/svg'\n",
       "                      xmlns:rdkit='http://www.rdkit.org/xml'\n",
       "                      xmlns:xlink='http://www.w3.org/1999/xlink'\n",
       "                  xml:space='preserve'\n",
       "width='450px' height='150px' viewBox='0 0 450 150'>\n",
       "<!-- END OF HEADER -->\n",
       "<rect style='opacity:1.0;fill:#FFFFFF;stroke:none' width='450' height='150' x='0' y='0'> </rect>\n",
       "<path class='bond-0 atom-0 atom-1' d='M 203.338,81.1823 L 203.338,54.2715' style='fill:none;fill-rule:evenodd;stroke:#000000;stroke-width:2.0px;stroke-linecap:butt;stroke-linejoin:miter;stroke-opacity:1' />\n",
       "<path class='bond-0 atom-0 atom-1' d='M 203.338,54.2715 L 203.338,27.3607' style='fill:none;fill-rule:evenodd;stroke:#FF0000;stroke-width:2.0px;stroke-linecap:butt;stroke-linejoin:miter;stroke-opacity:1' />\n",
       "<path class='bond-0 atom-0 atom-1' d='M 190.328,81.1823 L 190.328,54.2715' style='fill:none;fill-rule:evenodd;stroke:#000000;stroke-width:2.0px;stroke-linecap:butt;stroke-linejoin:miter;stroke-opacity:1' />\n",
       "<path class='bond-0 atom-0 atom-1' d='M 190.328,54.2715 L 190.328,27.3607' style='fill:none;fill-rule:evenodd;stroke:#FF0000;stroke-width:2.0px;stroke-linecap:butt;stroke-linejoin:miter;stroke-opacity:1' />\n",
       "<path class='bond-1 atom-0 atom-2' d='M 196.833,81.1823 L 220.694,94.9583' style='fill:none;fill-rule:evenodd;stroke:#000000;stroke-width:2.0px;stroke-linecap:butt;stroke-linejoin:miter;stroke-opacity:1' />\n",
       "<path class='bond-1 atom-0 atom-2' d='M 220.694,94.9583 L 244.555,108.734' style='fill:none;fill-rule:evenodd;stroke:#0000FF;stroke-width:2.0px;stroke-linecap:butt;stroke-linejoin:miter;stroke-opacity:1' />\n",
       "<path class='bond-2 atom-3 atom-0' d='M 140.499,113.707 L 196.833,81.1823' style='fill:none;fill-rule:evenodd;stroke:#000000;stroke-width:2.0px;stroke-linecap:butt;stroke-linejoin:miter;stroke-opacity:1' />\n",
       "<path class='bond-3 atom-2 atom-4' d='M 261.78,108.734 L 285.64,94.9583' style='fill:none;fill-rule:evenodd;stroke:#0000FF;stroke-width:2.0px;stroke-linecap:butt;stroke-linejoin:miter;stroke-opacity:1' />\n",
       "<path class='bond-3 atom-2 atom-4' d='M 285.64,94.9583 L 309.501,81.1823' style='fill:none;fill-rule:evenodd;stroke:#000000;stroke-width:2.0px;stroke-linecap:butt;stroke-linejoin:miter;stroke-opacity:1' />\n",
       "<path  class='atom-1' d='M 188.377 16.1852\n",
       "Q 188.377 11.7619, 190.562 9.29005\n",
       "Q 192.748 6.81818, 196.833 6.81818\n",
       "Q 200.918 6.81818, 203.104 9.29005\n",
       "Q 205.289 11.7619, 205.289 16.1852\n",
       "Q 205.289 20.6606, 203.078 23.2105\n",
       "Q 200.866 25.7344, 196.833 25.7344\n",
       "Q 192.774 25.7344, 190.562 23.2105\n",
       "Q 188.377 20.6866, 188.377 16.1852\n",
       "M 196.833 23.6529\n",
       "Q 199.643 23.6529, 201.152 21.7795\n",
       "Q 202.687 19.88, 202.687 16.1852\n",
       "Q 202.687 12.5685, 201.152 10.7471\n",
       "Q 199.643 8.89975, 196.833 8.89975\n",
       "Q 194.023 8.89975, 192.488 10.7211\n",
       "Q 190.979 12.5425, 190.979 16.1852\n",
       "Q 190.979 19.9061, 192.488 21.7795\n",
       "Q 194.023 23.6529, 196.833 23.6529\n",
       "' fill='#FF0000'/>\n",
       "<path  class='atom-2' d='M 249.095 104.496\n",
       "L 255.132 114.253\n",
       "Q 255.73 115.216, 256.693 116.959\n",
       "Q 257.655 118.703, 257.707 118.807\n",
       "L 257.707 104.496\n",
       "L 260.153 104.496\n",
       "L 260.153 122.918\n",
       "L 257.629 122.918\n",
       "L 251.151 112.25\n",
       "Q 250.396 111.001, 249.589 109.57\n",
       "Q 248.809 108.139, 248.575 107.696\n",
       "L 248.575 122.918\n",
       "L 246.181 122.918\n",
       "L 246.181 104.496\n",
       "L 249.095 104.496\n",
       "' fill='#0000FF'/>\n",
       "<path  class='atom-2' d='M 245.96 124.76\n",
       "L 248.458 124.76\n",
       "L 248.458 132.592\n",
       "L 257.877 132.592\n",
       "L 257.877 124.76\n",
       "L 260.375 124.76\n",
       "L 260.375 143.182\n",
       "L 257.877 143.182\n",
       "L 257.877 134.673\n",
       "L 248.458 134.673\n",
       "L 248.458 143.182\n",
       "L 245.96 143.182\n",
       "L 245.96 124.76\n",
       "' fill='#0000FF'/>\n",
       "</svg>\n"
      ],
      "text/plain": [
       "<rdkit.Chem.rdchem.Mol at 0x7f861bc45c30>"
      ]
     },
     "execution_count": 96,
     "metadata": {},
     "output_type": "execute_result"
    }
   ],
   "source": [
    "p[0][0]"
   ]
  },
  {
   "cell_type": "markdown",
   "metadata": {},
   "source": [
    "Generation of combinatorial library"
   ]
  },
  {
   "cell_type": "code",
   "execution_count": 262,
   "metadata": {
    "collapsed": true,
    "jupyter": {
     "outputs_hidden": true
    }
   },
   "outputs": [],
   "source": [
    "acids = ['c1ccccc1C(=O)O', 'CC(=O)O', 'OC(=O)CC(=O)O']\n",
    "bases = ['CCN', 'CCNC', 'CNCCN']\n",
    "\n",
    "a = [Chem.MolFromSmiles(s) for s in acids]\n",
    "b = [Chem.MolFromSmiles(s) for s in bases]"
   ]
  },
  {
   "cell_type": "code",
   "execution_count": 263,
   "metadata": {
    "collapsed": false,
    "jupyter": {
     "outputs_hidden": false
    }
   },
   "outputs": [],
   "source": [
    "from itertools import product\n",
    "\n",
    "p = []\n",
    "for s in product(a, b):\n",
    "    p.extend(rxn.RunReactants(s))    "
   ]
  },
  {
   "cell_type": "code",
   "execution_count": 264,
   "metadata": {
    "collapsed": false,
    "jupyter": {
     "outputs_hidden": false
    },
    "scrolled": true
   },
   "outputs": [
    {
     "name": "stdout",
     "output_type": "stream",
     "text": [
      "CCNC(=O)c1ccccc1\n",
      "CCN(C)C(=O)c1ccccc1\n",
      "CN(CCN)C(=O)c1ccccc1\n",
      "CNCCNC(=O)c1ccccc1\n",
      "CCNC(C)=O\n",
      "CCN(C)C(C)=O\n",
      "CC(=O)N(C)CCN\n",
      "CNCCNC(C)=O\n",
      "CCNC(=O)CC(=O)O\n",
      "CCNC(=O)CC(=O)O\n",
      "CCN(C)C(=O)CC(=O)O\n",
      "CCN(C)C(=O)CC(=O)O\n",
      "CN(CCN)C(=O)CC(=O)O\n",
      "CNCCNC(=O)CC(=O)O\n",
      "CN(CCN)C(=O)CC(=O)O\n",
      "CNCCNC(=O)CC(=O)O\n"
     ]
    }
   ],
   "source": [
    "for item in p:\n",
    "    print(Chem.MolToSmiles(item[0]))"
   ]
  },
  {
   "cell_type": "markdown",
   "metadata": {},
   "source": [
    "However, products may contain duplicates, they can be removed based on canonical SMILES of products"
   ]
  },
  {
   "cell_type": "code",
   "execution_count": 265,
   "metadata": {
    "collapsed": false,
    "jupyter": {
     "outputs_hidden": false
    }
   },
   "outputs": [
    {
     "data": {
      "text/plain": [
       "{'CC(=O)N(C)CCN',\n",
       " 'CCN(C)C(=O)CC(=O)O',\n",
       " 'CCN(C)C(=O)c1ccccc1',\n",
       " 'CCN(C)C(C)=O',\n",
       " 'CCNC(=O)CC(=O)O',\n",
       " 'CCNC(=O)c1ccccc1',\n",
       " 'CCNC(C)=O',\n",
       " 'CN(CCN)C(=O)CC(=O)O',\n",
       " 'CN(CCN)C(=O)c1ccccc1',\n",
       " 'CNCCNC(=O)CC(=O)O',\n",
       " 'CNCCNC(=O)c1ccccc1',\n",
       " 'CNCCNC(C)=O'}"
      ]
     },
     "execution_count": 265,
     "metadata": {},
     "output_type": "execute_result"
    }
   ],
   "source": [
    "set(Chem.MolToSmiles(item[0]) for item in p)"
   ]
  },
  {
   "cell_type": "markdown",
   "metadata": {},
   "source": [
    "## Drawing molecules"
   ]
  },
  {
   "cell_type": "code",
   "execution_count": 266,
   "metadata": {
    "collapsed": true,
    "jupyter": {
     "outputs_hidden": true
    }
   },
   "outputs": [],
   "source": [
    "from rdkit.Chem import Draw"
   ]
  },
  {
   "cell_type": "markdown",
   "metadata": {},
   "source": [
    "Create a molecule and compute coordinates"
   ]
  },
  {
   "cell_type": "code",
   "execution_count": 267,
   "metadata": {
    "collapsed": false,
    "jupyter": {
     "outputs_hidden": false
    }
   },
   "outputs": [
    {
     "data": {
      "text/plain": [
       "0"
      ]
     },
     "execution_count": 267,
     "metadata": {},
     "output_type": "execute_result"
    }
   ],
   "source": [
    "m = Chem.MolFromSmiles('CC(=O)O')\n",
    "AllChem.Compute2DCoords(m)"
   ]
  },
  {
   "cell_type": "markdown",
   "metadata": {},
   "source": [
    "Image can be directly saved to a file or obtaind as PIL image"
   ]
  },
  {
   "cell_type": "code",
   "execution_count": 268,
   "metadata": {
    "collapsed": true,
    "jupyter": {
     "outputs_hidden": true
    }
   },
   "outputs": [],
   "source": [
    "Draw.MolToFile(m, 'data/mol.png')"
   ]
  },
  {
   "cell_type": "code",
   "execution_count": 269,
   "metadata": {
    "collapsed": false,
    "jupyter": {
     "outputs_hidden": false
    }
   },
   "outputs": [
    {
     "data": {
      "image/png": "[encoded data removed]",
      "text/plain": [
       "<PIL.Image.Image image mode=RGB size=100x100 at 0x7FBBB86D6EB8>"
      ]
     },
     "execution_count": 269,
     "metadata": {},
     "output_type": "execute_result"
    }
   ],
   "source": [
    "Draw.MolToImage(m, (100, 100))"
   ]
  },
  {
   "cell_type": "markdown",
   "metadata": {},
   "source": [
    "Multiple molecules can be visualized as a grid. Let's visualize unique products from conbinatorial library generation."
   ]
  },
  {
   "cell_type": "code",
   "execution_count": 270,
   "metadata": {
    "collapsed": false,
    "jupyter": {
     "outputs_hidden": false
    }
   },
   "outputs": [
    {
     "data": {
      "text/plain": [
       "['CCN(C)C(=O)c1ccccc1',\n",
       " 'CCN(C)C(C)=O',\n",
       " 'CCNC(=O)CC(=O)O',\n",
       " 'CC(=O)N(C)CCN',\n",
       " 'CCNC(C)=O',\n",
       " 'CN(CCN)C(=O)CC(=O)O',\n",
       " 'CN(CCN)C(=O)c1ccccc1',\n",
       " 'CNCCNC(C)=O',\n",
       " 'CNCCNC(=O)c1ccccc1',\n",
       " 'CNCCNC(=O)CC(=O)O',\n",
       " 'CCNC(=O)c1ccccc1',\n",
       " 'CCN(C)C(=O)CC(=O)O']"
      ]
     },
     "execution_count": 270,
     "metadata": {},
     "output_type": "execute_result"
    }
   ],
   "source": [
    "pu = list(set(Chem.MolToSmiles(item[0]) for item in p))\n",
    "pu"
   ]
  },
  {
   "cell_type": "code",
   "execution_count": 271,
   "metadata": {
    "collapsed": false,
    "jupyter": {
     "outputs_hidden": false
    },
    "scrolled": true
   },
   "outputs": [
    {
     "data": {
      "image/svg+xml": [
       "<svg baseProfile=\"full\" height=\"600px\" version=\"1.1\" width=\"800px\" xml:space=\"preserve\" xmlns:rdkit=\"http://www.rdkit.org/xml\" xmlns:svg=\"http://www.w3.org/2000/svg\" xmlns:xlink=\"http://www.w3.org/1999/xlink\">\n",
       "<g transform=\"translate(0,0)\"><rect height=\"200\" style=\"opacity:1.0;fill:#FFFFFF;stroke:none\" width=\"200\" x=\"0\" y=\"0\"> </rect>\n",
       "<path d=\"M 15.4886,35.9082 49.2932,59.119\" style=\"fill:none;fill-rule:evenodd;stroke:#000000;stroke-width:2px;stroke-linecap:butt;stroke-linejoin:miter;stroke-opacity:1\"/>\n",
       "<path d=\"M 49.2932,59.119 47.9611,76.1423\" style=\"fill:none;fill-rule:evenodd;stroke:#000000;stroke-width:2px;stroke-linecap:butt;stroke-linejoin:miter;stroke-opacity:1\"/>\n",
       "<path d=\"M 47.9611,76.1423 46.6291,93.1657\" style=\"fill:none;fill-rule:evenodd;stroke:#0000FF;stroke-width:2px;stroke-linecap:butt;stroke-linejoin:miter;stroke-opacity:1\"/>\n",
       "<path d=\"M 40.1707,102.829 24.6308,110.249\" style=\"fill:none;fill-rule:evenodd;stroke:#0000FF;stroke-width:2px;stroke-linecap:butt;stroke-linejoin:miter;stroke-opacity:1\"/>\n",
       "<path d=\"M 24.6308,110.249 9.09091,117.67\" style=\"fill:none;fill-rule:evenodd;stroke:#000000;stroke-width:2px;stroke-linecap:butt;stroke-linejoin:miter;stroke-opacity:1\"/>\n",
       "<path d=\"M 52.0179,104.067 65.9584,113.639\" style=\"fill:none;fill-rule:evenodd;stroke:#0000FF;stroke-width:2px;stroke-linecap:butt;stroke-linejoin:miter;stroke-opacity:1\"/>\n",
       "<path d=\"M 65.9584,113.639 79.8989,123.211\" style=\"fill:none;fill-rule:evenodd;stroke:#000000;stroke-width:2px;stroke-linecap:butt;stroke-linejoin:miter;stroke-opacity:1\"/>\n",
       "<path d=\"M 75.8108,122.891 74.4787,139.914\" style=\"fill:none;fill-rule:evenodd;stroke:#000000;stroke-width:2px;stroke-linecap:butt;stroke-linejoin:miter;stroke-opacity:1\"/>\n",
       "<path d=\"M 74.4787,139.914 73.1467,156.938\" style=\"fill:none;fill-rule:evenodd;stroke:#FF0000;stroke-width:2px;stroke-linecap:butt;stroke-linejoin:miter;stroke-opacity:1\"/>\n",
       "<path d=\"M 83.987,123.531 82.6549,140.554\" style=\"fill:none;fill-rule:evenodd;stroke:#000000;stroke-width:2px;stroke-linecap:butt;stroke-linejoin:miter;stroke-opacity:1\"/>\n",
       "<path d=\"M 82.6549,140.554 81.3229,157.577\" style=\"fill:none;fill-rule:evenodd;stroke:#FF0000;stroke-width:2px;stroke-linecap:butt;stroke-linejoin:miter;stroke-opacity:1\"/>\n",
       "<path d=\"M 79.8989,123.211 116.902,105.541\" style=\"fill:none;fill-rule:evenodd;stroke:#000000;stroke-width:2px;stroke-linecap:butt;stroke-linejoin:miter;stroke-opacity:1\"/>\n",
       "<path d=\"M 116.902,105.541 120.101,64.6595\" style=\"fill:none;fill-rule:evenodd;stroke:#000000;stroke-width:2px;stroke-linecap:butt;stroke-linejoin:miter;stroke-opacity:1\"/>\n",
       "<path d=\"M 125.558,100.048 127.797,71.4315\" style=\"fill:none;fill-rule:evenodd;stroke:#000000;stroke-width:2px;stroke-linecap:butt;stroke-linejoin:miter;stroke-opacity:1\"/>\n",
       "<path d=\"M 116.902,105.541 150.707,128.751\" style=\"fill:none;fill-rule:evenodd;stroke:#000000;stroke-width:2px;stroke-linecap:butt;stroke-linejoin:miter;stroke-opacity:1\"/>\n",
       "<path d=\"M 120.101,64.6595 157.105,46.9893\" style=\"fill:none;fill-rule:evenodd;stroke:#000000;stroke-width:2px;stroke-linecap:butt;stroke-linejoin:miter;stroke-opacity:1\"/>\n",
       "<path d=\"M 157.105,46.9893 190.909,70.2001\" style=\"fill:none;fill-rule:evenodd;stroke:#000000;stroke-width:2px;stroke-linecap:butt;stroke-linejoin:miter;stroke-opacity:1\"/>\n",
       "<path d=\"M 157.533,57.2319 181.196,73.4794\" style=\"fill:none;fill-rule:evenodd;stroke:#000000;stroke-width:2px;stroke-linecap:butt;stroke-linejoin:miter;stroke-opacity:1\"/>\n",
       "<path d=\"M 190.909,70.2001 187.71,111.081\" style=\"fill:none;fill-rule:evenodd;stroke:#000000;stroke-width:2px;stroke-linecap:butt;stroke-linejoin:miter;stroke-opacity:1\"/>\n",
       "<path d=\"M 187.71,111.081 150.707,128.751\" style=\"fill:none;fill-rule:evenodd;stroke:#000000;stroke-width:2px;stroke-linecap:butt;stroke-linejoin:miter;stroke-opacity:1\"/>\n",
       "<path d=\"M 178.626,106.331 152.723,118.7\" style=\"fill:none;fill-rule:evenodd;stroke:#000000;stroke-width:2px;stroke-linecap:butt;stroke-linejoin:miter;stroke-opacity:1\"/>\n",
       "<text style=\"font-size:13px;font-style:normal;font-weight:normal;fill-opacity:1;stroke:none;font-family:sans-serif;text-anchor:start;fill:#0000FF\" x=\"40.1707\" y=\"106.834\"><tspan>N</tspan></text>\n",
       "<text style=\"font-size:13px;font-style:normal;font-weight:normal;fill-opacity:1;stroke:none;font-family:sans-serif;text-anchor:start;fill:#FF0000\" x=\"70.317\" y=\"170.926\"><tspan>O</tspan></text>\n",
       "<text style=\"font-size:12px;font-style:normal;font-weight:normal;fill-opacity:1;stroke:none;font-family:sans-serif;text-anchor:start;fill:#000000\" x=\"24.9748\" y=\"194\"><tspan>CCN(C)C(=O)c1ccccc1</tspan></text>\n",
       "</g>\n",
       "<g transform=\"translate(200,0)\"><rect height=\"200\" style=\"opacity:1.0;fill:#FFFFFF;stroke:none\" width=\"200\" x=\"0\" y=\"0\"> </rect>\n",
       "<path d=\"M 190.909,73.7568 160.606,126.243\" style=\"fill:none;fill-rule:evenodd;stroke:#000000;stroke-width:2px;stroke-linecap:butt;stroke-linejoin:miter;stroke-opacity:1\"/>\n",
       "<path d=\"M 160.606,126.243 134.681,126.243\" style=\"fill:none;fill-rule:evenodd;stroke:#000000;stroke-width:2px;stroke-linecap:butt;stroke-linejoin:miter;stroke-opacity:1\"/>\n",
       "<path d=\"M 134.681,126.243 108.755,126.243\" style=\"fill:none;fill-rule:evenodd;stroke:#0000FF;stroke-width:2px;stroke-linecap:butt;stroke-linejoin:miter;stroke-opacity:1\"/>\n",
       "<path d=\"M 94.1682,136.344 81.9326,157.537\" style=\"fill:none;fill-rule:evenodd;stroke:#0000FF;stroke-width:2px;stroke-linecap:butt;stroke-linejoin:miter;stroke-opacity:1\"/>\n",
       "<path d=\"M 81.9326,157.537 69.697,178.73\" style=\"fill:none;fill-rule:evenodd;stroke:#000000;stroke-width:2px;stroke-linecap:butt;stroke-linejoin:miter;stroke-opacity:1\"/>\n",
       "<path d=\"M 94.1682,116.142 81.9326,94.9495\" style=\"fill:none;fill-rule:evenodd;stroke:#0000FF;stroke-width:2px;stroke-linecap:butt;stroke-linejoin:miter;stroke-opacity:1\"/>\n",
       "<path d=\"M 81.9326,94.9495 69.697,73.7568\" style=\"fill:none;fill-rule:evenodd;stroke:#000000;stroke-width:2px;stroke-linecap:butt;stroke-linejoin:miter;stroke-opacity:1\"/>\n",
       "<path d=\"M 69.697,73.7568 9.09091,73.7568\" style=\"fill:none;fill-rule:evenodd;stroke:#000000;stroke-width:2px;stroke-linecap:butt;stroke-linejoin:miter;stroke-opacity:1\"/>\n",
       "<path d=\"M 74.9456,76.7871 87.1812,55.5944\" style=\"fill:none;fill-rule:evenodd;stroke:#000000;stroke-width:2px;stroke-linecap:butt;stroke-linejoin:miter;stroke-opacity:1\"/>\n",
       "<path d=\"M 87.1812,55.5944 99.4168,34.4017\" style=\"fill:none;fill-rule:evenodd;stroke:#FF0000;stroke-width:2px;stroke-linecap:butt;stroke-linejoin:miter;stroke-opacity:1\"/>\n",
       "<path d=\"M 64.4483,70.7265 76.6839,49.5338\" style=\"fill:none;fill-rule:evenodd;stroke:#000000;stroke-width:2px;stroke-linecap:butt;stroke-linejoin:miter;stroke-opacity:1\"/>\n",
       "<path d=\"M 76.6839,49.5338 88.9195,28.3411\" style=\"fill:none;fill-rule:evenodd;stroke:#FF0000;stroke-width:2px;stroke-linecap:butt;stroke-linejoin:miter;stroke-opacity:1\"/>\n",
       "<text style=\"font-size:20px;font-style:normal;font-weight:normal;fill-opacity:1;stroke:none;font-family:sans-serif;text-anchor:start;fill:#0000FF\" x=\"91.245\" y=\"136.344\"><tspan>N</tspan></text>\n",
       "<text style=\"font-size:20px;font-style:normal;font-weight:normal;fill-opacity:1;stroke:none;font-family:sans-serif;text-anchor:start;fill:#FF0000\" x=\"90.5659\" y=\"31.3714\"><tspan>O</tspan></text>\n",
       "<text style=\"font-size:12px;font-style:normal;font-weight:normal;fill-opacity:1;stroke:none;font-family:sans-serif;text-anchor:start;fill:#000000\" x=\"49.3926\" y=\"194\"><tspan>CCN(C)C(C)=O</tspan></text>\n",
       "</g>\n",
       "<g transform=\"translate(400,0)\"><rect height=\"200\" style=\"opacity:1.0;fill:#FFFFFF;stroke:none\" width=\"200\" x=\"0\" y=\"0\"> </rect>\n",
       "<path d=\"M 9.09091,113.347 37.5511,99.9287\" style=\"fill:none;fill-rule:evenodd;stroke:#000000;stroke-width:2px;stroke-linecap:butt;stroke-linejoin:miter;stroke-opacity:1\"/>\n",
       "<path d=\"M 37.5511,99.9287 46.6977,106.276\" style=\"fill:none;fill-rule:evenodd;stroke:#000000;stroke-width:2px;stroke-linecap:butt;stroke-linejoin:miter;stroke-opacity:1\"/>\n",
       "<path d=\"M 46.6977,106.276 55.8443,112.623\" style=\"fill:none;fill-rule:evenodd;stroke:#0000FF;stroke-width:2px;stroke-linecap:butt;stroke-linejoin:miter;stroke-opacity:1\"/>\n",
       "<path d=\"M 72.4921,113.581 82.1769,109.015\" style=\"fill:none;fill-rule:evenodd;stroke:#0000FF;stroke-width:2px;stroke-linecap:butt;stroke-linejoin:miter;stroke-opacity:1\"/>\n",
       "<path d=\"M 82.1769,109.015 91.8617,104.449\" style=\"fill:none;fill-rule:evenodd;stroke:#000000;stroke-width:2px;stroke-linecap:butt;stroke-linejoin:miter;stroke-opacity:1\"/>\n",
       "<path d=\"M 94.9973,104.71 96.0839,91.6538\" style=\"fill:none;fill-rule:evenodd;stroke:#000000;stroke-width:2px;stroke-linecap:butt;stroke-linejoin:miter;stroke-opacity:1\"/>\n",
       "<path d=\"M 96.0839,91.6538 97.1706,78.5978\" style=\"fill:none;fill-rule:evenodd;stroke:#FF0000;stroke-width:2px;stroke-linecap:butt;stroke-linejoin:miter;stroke-opacity:1\"/>\n",
       "<path d=\"M 88.7261,104.188 89.8127,91.1319\" style=\"fill:none;fill-rule:evenodd;stroke:#000000;stroke-width:2px;stroke-linecap:butt;stroke-linejoin:miter;stroke-opacity:1\"/>\n",
       "<path d=\"M 89.8127,91.1319 90.8993,78.0758\" style=\"fill:none;fill-rule:evenodd;stroke:#FF0000;stroke-width:2px;stroke-linecap:butt;stroke-linejoin:miter;stroke-opacity:1\"/>\n",
       "<path d=\"M 91.8617,104.449 117.712,122.387\" style=\"fill:none;fill-rule:evenodd;stroke:#000000;stroke-width:2px;stroke-linecap:butt;stroke-linejoin:miter;stroke-opacity:1\"/>\n",
       "<path d=\"M 117.712,122.387 146.172,108.969\" style=\"fill:none;fill-rule:evenodd;stroke:#000000;stroke-width:2px;stroke-linecap:butt;stroke-linejoin:miter;stroke-opacity:1\"/>\n",
       "<path d=\"M 149.308,109.23 150.395,96.174\" style=\"fill:none;fill-rule:evenodd;stroke:#000000;stroke-width:2px;stroke-linecap:butt;stroke-linejoin:miter;stroke-opacity:1\"/>\n",
       "<path d=\"M 150.395,96.174 151.481,83.1179\" style=\"fill:none;fill-rule:evenodd;stroke:#FF0000;stroke-width:2px;stroke-linecap:butt;stroke-linejoin:miter;stroke-opacity:1\"/>\n",
       "<path d=\"M 143.037,108.708 144.123,95.6521\" style=\"fill:none;fill-rule:evenodd;stroke:#000000;stroke-width:2px;stroke-linecap:butt;stroke-linejoin:miter;stroke-opacity:1\"/>\n",
       "<path d=\"M 144.123,95.6521 145.21,82.596\" style=\"fill:none;fill-rule:evenodd;stroke:#FF0000;stroke-width:2px;stroke-linecap:butt;stroke-linejoin:miter;stroke-opacity:1\"/>\n",
       "<path d=\"M 146.172,108.969 155.319,115.316\" style=\"fill:none;fill-rule:evenodd;stroke:#000000;stroke-width:2px;stroke-linecap:butt;stroke-linejoin:miter;stroke-opacity:1\"/>\n",
       "<path d=\"M 155.319,115.316 164.466,121.663\" style=\"fill:none;fill-rule:evenodd;stroke:#FF0000;stroke-width:2px;stroke-linecap:butt;stroke-linejoin:miter;stroke-opacity:1\"/>\n",
       "<text style=\"font-size:10px;font-style:normal;font-weight:normal;fill-opacity:1;stroke:none;font-family:sans-serif;text-anchor:start;fill:#0000FF\" x=\"54.3109\" y=\"123.111\"><tspan>NH</tspan></text>\n",
       "<text style=\"font-size:10px;font-style:normal;font-weight:normal;fill-opacity:1;stroke:none;font-family:sans-serif;text-anchor:start;fill:#FF0000\" x=\"89.5736\" y=\"78.3368\"><tspan>O</tspan></text>\n",
       "<text style=\"font-size:10px;font-style:normal;font-weight:normal;fill-opacity:1;stroke:none;font-family:sans-serif;text-anchor:start;fill:#FF0000\" x=\"143.884\" y=\"82.857\"><tspan>O</tspan></text>\n",
       "<text style=\"font-size:10px;font-style:normal;font-weight:normal;fill-opacity:1;stroke:none;font-family:sans-serif;text-anchor:start;fill:#FF0000\" x=\"162.58\" y=\"132.151\"><tspan>OH</tspan></text>\n",
       "<text style=\"font-size:11px;font-style:normal;font-weight:normal;fill-opacity:1;stroke:none;font-family:sans-serif;text-anchor:start;fill:#000000\" x=\"33.9784\" y=\"194\"><tspan>CCNC(=O)CC(=O)O</tspan></text>\n",
       "</g>\n",
       "<g transform=\"translate(600,0)\"><rect height=\"200\" style=\"opacity:1.0;fill:#FFFFFF;stroke:none\" width=\"200\" x=\"0\" y=\"0\"> </rect>\n",
       "<path d=\"M 152.597,57.79 151.267,92.0188\" style=\"fill:none;fill-rule:evenodd;stroke:#000000;stroke-width:2px;stroke-linecap:butt;stroke-linejoin:miter;stroke-opacity:1\"/>\n",
       "<path d=\"M 149.44,94.9166 161.263,102.369\" style=\"fill:none;fill-rule:evenodd;stroke:#000000;stroke-width:2px;stroke-linecap:butt;stroke-linejoin:miter;stroke-opacity:1\"/>\n",
       "<path d=\"M 161.263,102.369 173.086,109.822\" style=\"fill:none;fill-rule:evenodd;stroke:#FF0000;stroke-width:2px;stroke-linecap:butt;stroke-linejoin:miter;stroke-opacity:1\"/>\n",
       "<path d=\"M 153.094,89.121 164.916,96.5737\" style=\"fill:none;fill-rule:evenodd;stroke:#000000;stroke-width:2px;stroke-linecap:butt;stroke-linejoin:miter;stroke-opacity:1\"/>\n",
       "<path d=\"M 164.916,96.5737 176.739,104.026\" style=\"fill:none;fill-rule:evenodd;stroke:#FF0000;stroke-width:2px;stroke-linecap:butt;stroke-linejoin:miter;stroke-opacity:1\"/>\n",
       "<path d=\"M 151.267,92.0188 138.587,98.6969\" style=\"fill:none;fill-rule:evenodd;stroke:#000000;stroke-width:2px;stroke-linecap:butt;stroke-linejoin:miter;stroke-opacity:1\"/>\n",
       "<path d=\"M 138.587,98.6969 125.907,105.375\" style=\"fill:none;fill-rule:evenodd;stroke:#0000FF;stroke-width:2px;stroke-linecap:butt;stroke-linejoin:miter;stroke-opacity:1\"/>\n",
       "<path d=\"M 120.737,113.69 120.183,127.95\" style=\"fill:none;fill-rule:evenodd;stroke:#0000FF;stroke-width:2px;stroke-linecap:butt;stroke-linejoin:miter;stroke-opacity:1\"/>\n",
       "<path d=\"M 120.183,127.95 119.629,142.21\" style=\"fill:none;fill-rule:evenodd;stroke:#000000;stroke-width:2px;stroke-linecap:butt;stroke-linejoin:miter;stroke-opacity:1\"/>\n",
       "<path d=\"M 116.01,104.862 103.996,97.2883\" style=\"fill:none;fill-rule:evenodd;stroke:#0000FF;stroke-width:2px;stroke-linecap:butt;stroke-linejoin:miter;stroke-opacity:1\"/>\n",
       "<path d=\"M 103.996,97.2883 91.9809,89.7147\" style=\"fill:none;fill-rule:evenodd;stroke:#000000;stroke-width:2px;stroke-linecap:butt;stroke-linejoin:miter;stroke-opacity:1\"/>\n",
       "<path d=\"M 91.9809,89.7147 61.6728,105.677\" style=\"fill:none;fill-rule:evenodd;stroke:#000000;stroke-width:2px;stroke-linecap:butt;stroke-linejoin:miter;stroke-opacity:1\"/>\n",
       "<path d=\"M 61.6728,105.677 52.1652,99.6839\" style=\"fill:none;fill-rule:evenodd;stroke:#000000;stroke-width:2px;stroke-linecap:butt;stroke-linejoin:miter;stroke-opacity:1\"/>\n",
       "<path d=\"M 52.1652,99.6839 42.6576,93.6907\" style=\"fill:none;fill-rule:evenodd;stroke:#0000FF;stroke-width:2px;stroke-linecap:butt;stroke-linejoin:miter;stroke-opacity:1\"/>\n",
       "<text style=\"font-size:11px;font-style:normal;font-weight:normal;fill-opacity:1;stroke:none;font-family:sans-serif;text-anchor:start;fill:#FF0000\" x=\"174.913\" y=\"115.994\"><tspan>O</tspan></text>\n",
       "<text style=\"font-size:11px;font-style:normal;font-weight:normal;fill-opacity:1;stroke:none;font-family:sans-serif;text-anchor:start;fill:#0000FF\" x=\"116.01\" y=\"113.69\"><tspan>N</tspan></text>\n",
       "<text style=\"font-size:11px;font-style:normal;font-weight:normal;fill-opacity:1;stroke:none;font-family:sans-serif;text-anchor:start;fill:#0000FF\" x=\"20.8929\" y=\"93.6907\"><tspan>H</tspan><tspan style=\"baseline-shift:sub;font-size:8.25px;\">2</tspan><tspan>N</tspan></text>\n",
       "<text style=\"font-size:12px;font-style:normal;font-weight:normal;fill-opacity:1;stroke:none;font-family:sans-serif;text-anchor:start;fill:#000000\" x=\"44.1921\" y=\"194\"><tspan>CC(=O)N(C)CCN</tspan></text>\n",
       "</g>\n",
       "<g transform=\"translate(0,200)\"><rect height=\"200\" style=\"opacity:1.0;fill:#FFFFFF;stroke:none\" width=\"200\" x=\"0\" y=\"0\"> </rect>\n",
       "<path d=\"M 9.09091,116.581 58.3038,96.8474\" style=\"fill:none;fill-rule:evenodd;stroke:#000000;stroke-width:2px;stroke-linecap:butt;stroke-linejoin:miter;stroke-opacity:1\"/>\n",
       "<path d=\"M 58.3038,96.8474 73.5269,108.805\" style=\"fill:none;fill-rule:evenodd;stroke:#000000;stroke-width:2px;stroke-linecap:butt;stroke-linejoin:miter;stroke-opacity:1\"/>\n",
       "<path d=\"M 73.5269,108.805 88.75,120.763\" style=\"fill:none;fill-rule:evenodd;stroke:#0000FF;stroke-width:2px;stroke-linecap:butt;stroke-linejoin:miter;stroke-opacity:1\"/>\n",
       "<path d=\"M 115.319,123.458 132.266,116.662\" style=\"fill:none;fill-rule:evenodd;stroke:#0000FF;stroke-width:2px;stroke-linecap:butt;stroke-linejoin:miter;stroke-opacity:1\"/>\n",
       "<path d=\"M 132.266,116.662 149.213,109.867\" style=\"fill:none;fill-rule:evenodd;stroke:#000000;stroke-width:2px;stroke-linecap:butt;stroke-linejoin:miter;stroke-opacity:1\"/>\n",
       "<path d=\"M 149.213,109.867 190.909,142.62\" style=\"fill:none;fill-rule:evenodd;stroke:#000000;stroke-width:2px;stroke-linecap:butt;stroke-linejoin:miter;stroke-opacity:1\"/>\n",
       "<path d=\"M 154.462,110.618 157.587,88.7937\" style=\"fill:none;fill-rule:evenodd;stroke:#000000;stroke-width:2px;stroke-linecap:butt;stroke-linejoin:miter;stroke-opacity:1\"/>\n",
       "<path d=\"M 157.587,88.7937 160.713,66.969\" style=\"fill:none;fill-rule:evenodd;stroke:#FF0000;stroke-width:2px;stroke-linecap:butt;stroke-linejoin:miter;stroke-opacity:1\"/>\n",
       "<path d=\"M 143.964,109.115 147.09,87.2904\" style=\"fill:none;fill-rule:evenodd;stroke:#000000;stroke-width:2px;stroke-linecap:butt;stroke-linejoin:miter;stroke-opacity:1\"/>\n",
       "<path d=\"M 147.09,87.2904 150.215,65.4657\" style=\"fill:none;fill-rule:evenodd;stroke:#FF0000;stroke-width:2px;stroke-linecap:butt;stroke-linejoin:miter;stroke-opacity:1\"/>\n",
       "<text style=\"font-size:17px;font-style:normal;font-weight:normal;fill-opacity:1;stroke:none;font-family:sans-serif;text-anchor:start;fill:#0000FF\" x=\"84.6811\" y=\"138.437\"><tspan>NH</tspan></text>\n",
       "<text style=\"font-size:17px;font-style:normal;font-weight:normal;fill-opacity:1;stroke:none;font-family:sans-serif;text-anchor:start;fill:#FF0000\" x=\"148.476\" y=\"66.2173\"><tspan>O</tspan></text>\n",
       "<text style=\"font-size:12px;font-style:normal;font-weight:normal;fill-opacity:1;stroke:none;font-family:sans-serif;text-anchor:start;fill:#000000\" x=\"59.3902\" y=\"194\"><tspan>CCNC(C)=O</tspan></text>\n",
       "</g>\n",
       "<g transform=\"translate(200,200)\"><rect height=\"200\" style=\"opacity:1.0;fill:#FFFFFF;stroke:none\" width=\"200\" x=\"0\" y=\"0\"> </rect>\n",
       "<path d=\"M 40.7147,26.8482 47.6195,42.8181\" style=\"fill:none;fill-rule:evenodd;stroke:#000000;stroke-width:2px;stroke-linecap:butt;stroke-linejoin:miter;stroke-opacity:1\"/>\n",
       "<path d=\"M 47.6195,42.8181 54.5243,58.788\" style=\"fill:none;fill-rule:evenodd;stroke:#0000FF;stroke-width:2px;stroke-linecap:butt;stroke-linejoin:miter;stroke-opacity:1\"/>\n",
       "<path d=\"M 52.3219,72.9605 42.2746,86.4802\" style=\"fill:none;fill-rule:evenodd;stroke:#0000FF;stroke-width:2px;stroke-linecap:butt;stroke-linejoin:miter;stroke-opacity:1\"/>\n",
       "<path d=\"M 42.2746,86.4802 32.2273,100\" style=\"fill:none;fill-rule:evenodd;stroke:#000000;stroke-width:2px;stroke-linecap:butt;stroke-linejoin:miter;stroke-opacity:1\"/>\n",
       "<path d=\"M 63.7301,66.5868 81.7762,68.6806\" style=\"fill:none;fill-rule:evenodd;stroke:#0000FF;stroke-width:2px;stroke-linecap:butt;stroke-linejoin:miter;stroke-opacity:1\"/>\n",
       "<path d=\"M 81.7762,68.6806 99.8223,70.7744\" style=\"fill:none;fill-rule:evenodd;stroke:#000000;stroke-width:2px;stroke-linecap:butt;stroke-linejoin:miter;stroke-opacity:1\"/>\n",
       "<path d=\"M 32.2273,100 49.1006,139.026\" style=\"fill:none;fill-rule:evenodd;stroke:#000000;stroke-width:2px;stroke-linecap:butt;stroke-linejoin:miter;stroke-opacity:1\"/>\n",
       "<path d=\"M 49.1006,139.026 39.3166,152.191\" style=\"fill:none;fill-rule:evenodd;stroke:#000000;stroke-width:2px;stroke-linecap:butt;stroke-linejoin:miter;stroke-opacity:1\"/>\n",
       "<path d=\"M 39.3166,152.191 29.5326,165.357\" style=\"fill:none;fill-rule:evenodd;stroke:#0000FF;stroke-width:2px;stroke-linecap:butt;stroke-linejoin:miter;stroke-opacity:1\"/>\n",
       "<path d=\"M 103.235,73.3105 113.282,59.7908\" style=\"fill:none;fill-rule:evenodd;stroke:#000000;stroke-width:2px;stroke-linecap:butt;stroke-linejoin:miter;stroke-opacity:1\"/>\n",
       "<path d=\"M 113.282,59.7908 123.329,46.271\" style=\"fill:none;fill-rule:evenodd;stroke:#FF0000;stroke-width:2px;stroke-linecap:butt;stroke-linejoin:miter;stroke-opacity:1\"/>\n",
       "<path d=\"M 96.4097,68.2384 106.457,54.7186\" style=\"fill:none;fill-rule:evenodd;stroke:#000000;stroke-width:2px;stroke-linecap:butt;stroke-linejoin:miter;stroke-opacity:1\"/>\n",
       "<path d=\"M 106.457,54.7186 116.504,41.1988\" style=\"fill:none;fill-rule:evenodd;stroke:#FF0000;stroke-width:2px;stroke-linecap:butt;stroke-linejoin:miter;stroke-opacity:1\"/>\n",
       "<path d=\"M 99.8223,70.7744 116.696,109.8\" style=\"fill:none;fill-rule:evenodd;stroke:#000000;stroke-width:2px;stroke-linecap:butt;stroke-linejoin:miter;stroke-opacity:1\"/>\n",
       "<path d=\"M 116.696,109.8 158.93,114.701\" style=\"fill:none;fill-rule:evenodd;stroke:#000000;stroke-width:2px;stroke-linecap:butt;stroke-linejoin:miter;stroke-opacity:1\"/>\n",
       "<path d=\"M 162.342,117.237 172.39,103.717\" style=\"fill:none;fill-rule:evenodd;stroke:#000000;stroke-width:2px;stroke-linecap:butt;stroke-linejoin:miter;stroke-opacity:1\"/>\n",
       "<path d=\"M 172.39,103.717 182.437,90.1972\" style=\"fill:none;fill-rule:evenodd;stroke:#FF0000;stroke-width:2px;stroke-linecap:butt;stroke-linejoin:miter;stroke-opacity:1\"/>\n",
       "<path d=\"M 155.517,112.165 165.565,98.6448\" style=\"fill:none;fill-rule:evenodd;stroke:#000000;stroke-width:2px;stroke-linecap:butt;stroke-linejoin:miter;stroke-opacity:1\"/>\n",
       "<path d=\"M 165.565,98.6448 175.612,85.1251\" style=\"fill:none;fill-rule:evenodd;stroke:#FF0000;stroke-width:2px;stroke-linecap:butt;stroke-linejoin:miter;stroke-opacity:1\"/>\n",
       "<path d=\"M 158.93,114.701 165.835,130.671\" style=\"fill:none;fill-rule:evenodd;stroke:#000000;stroke-width:2px;stroke-linecap:butt;stroke-linejoin:miter;stroke-opacity:1\"/>\n",
       "<path d=\"M 165.835,130.671 172.739,146.64\" style=\"fill:none;fill-rule:evenodd;stroke:#FF0000;stroke-width:2px;stroke-linecap:butt;stroke-linejoin:miter;stroke-opacity:1\"/>\n",
       "<text style=\"font-size:14px;font-style:normal;font-weight:normal;fill-opacity:1;stroke:none;font-family:sans-serif;text-anchor:start;fill:#0000FF\" x=\"51.4461\" y=\"72.9605\"><tspan>N</tspan></text>\n",
       "<text style=\"font-size:14px;font-style:normal;font-weight:normal;fill-opacity:1;stroke:none;font-family:sans-serif;text-anchor:start;fill:#0000FF\" x=\"9.09091\" y=\"180.947\"><tspan>NH</tspan><tspan style=\"baseline-shift:sub;font-size:10.5px;\">2</tspan><tspan/></text>\n",
       "<text style=\"font-size:14px;font-style:normal;font-weight:normal;fill-opacity:1;stroke:none;font-family:sans-serif;text-anchor:start;fill:#FF0000\" x=\"118.565\" y=\"43.7349\"><tspan>O</tspan></text>\n",
       "<text style=\"font-size:14px;font-style:normal;font-weight:normal;fill-opacity:1;stroke:none;font-family:sans-serif;text-anchor:start;fill:#FF0000\" x=\"177.672\" y=\"87.6612\"><tspan>O</tspan></text>\n",
       "<text style=\"font-size:14px;font-style:normal;font-weight:normal;fill-opacity:1;stroke:none;font-family:sans-serif;text-anchor:start;fill:#FF0000\" x=\"163.043\" y=\"160.813\"><tspan>OH</tspan></text>\n",
       "<text style=\"font-size:12px;font-style:normal;font-weight:normal;fill-opacity:1;stroke:none;font-family:sans-serif;text-anchor:start;fill:#000000\" x=\"18.7803\" y=\"194\"><tspan>CN(CCN)C(=O)CC(=O)O</tspan></text>\n",
       "</g>\n",
       "<g transform=\"translate(400,200)\"><rect height=\"200\" style=\"opacity:1.0;fill:#FFFFFF;stroke:none\" width=\"200\" x=\"0\" y=\"0\"> </rect>\n",
       "<path d=\"M 41.6277,141.075 52.6189,131.588\" style=\"fill:none;fill-rule:evenodd;stroke:#000000;stroke-width:2px;stroke-linecap:butt;stroke-linejoin:miter;stroke-opacity:1\"/>\n",
       "<path d=\"M 52.6189,131.588 63.6101,122.1\" style=\"fill:none;fill-rule:evenodd;stroke:#0000FF;stroke-width:2px;stroke-linecap:butt;stroke-linejoin:miter;stroke-opacity:1\"/>\n",
       "<path d=\"M 67.6534,111.645 64.8618,97.0094\" style=\"fill:none;fill-rule:evenodd;stroke:#0000FF;stroke-width:2px;stroke-linecap:butt;stroke-linejoin:miter;stroke-opacity:1\"/>\n",
       "<path d=\"M 64.8618,97.0094 62.0702,82.3742\" style=\"fill:none;fill-rule:evenodd;stroke:#000000;stroke-width:2px;stroke-linecap:butt;stroke-linejoin:miter;stroke-opacity:1\"/>\n",
       "<path d=\"M 73.9785,119.431 88.3318,124.43\" style=\"fill:none;fill-rule:evenodd;stroke:#0000FF;stroke-width:2px;stroke-linecap:butt;stroke-linejoin:miter;stroke-opacity:1\"/>\n",
       "<path d=\"M 88.3318,124.43 102.685,129.428\" style=\"fill:none;fill-rule:evenodd;stroke:#000000;stroke-width:2px;stroke-linecap:butt;stroke-linejoin:miter;stroke-opacity:1\"/>\n",
       "<path d=\"M 62.0702,82.3742 28.1795,70.5717\" style=\"fill:none;fill-rule:evenodd;stroke:#000000;stroke-width:2px;stroke-linecap:butt;stroke-linejoin:miter;stroke-opacity:1\"/>\n",
       "<path d=\"M 28.1795,70.5717 25.4449,56.2356\" style=\"fill:none;fill-rule:evenodd;stroke:#000000;stroke-width:2px;stroke-linecap:butt;stroke-linejoin:miter;stroke-opacity:1\"/>\n",
       "<path d=\"M 25.4449,56.2356 22.7103,41.8995\" style=\"fill:none;fill-rule:evenodd;stroke:#0000FF;stroke-width:2px;stroke-linecap:butt;stroke-linejoin:miter;stroke-opacity:1\"/>\n",
       "<path d=\"M 99.1599,130.101 101.952,144.736\" style=\"fill:none;fill-rule:evenodd;stroke:#000000;stroke-width:2px;stroke-linecap:butt;stroke-linejoin:miter;stroke-opacity:1\"/>\n",
       "<path d=\"M 101.952,144.736 104.743,159.371\" style=\"fill:none;fill-rule:evenodd;stroke:#FF0000;stroke-width:2px;stroke-linecap:butt;stroke-linejoin:miter;stroke-opacity:1\"/>\n",
       "<path d=\"M 106.21,128.756 109.002,143.391\" style=\"fill:none;fill-rule:evenodd;stroke:#000000;stroke-width:2px;stroke-linecap:butt;stroke-linejoin:miter;stroke-opacity:1\"/>\n",
       "<path d=\"M 109.002,143.391 111.793,158.026\" style=\"fill:none;fill-rule:evenodd;stroke:#FF0000;stroke-width:2px;stroke-linecap:butt;stroke-linejoin:miter;stroke-opacity:1\"/>\n",
       "<path d=\"M 102.685,129.428 129.852,105.979\" style=\"fill:none;fill-rule:evenodd;stroke:#000000;stroke-width:2px;stroke-linecap:butt;stroke-linejoin:miter;stroke-opacity:1\"/>\n",
       "<path d=\"M 129.852,105.979 123.128,70.7278\" style=\"fill:none;fill-rule:evenodd;stroke:#000000;stroke-width:2px;stroke-linecap:butt;stroke-linejoin:miter;stroke-opacity:1\"/>\n",
       "<path d=\"M 135.893,99.3467 131.187,74.6707\" style=\"fill:none;fill-rule:evenodd;stroke:#000000;stroke-width:2px;stroke-linecap:butt;stroke-linejoin:miter;stroke-opacity:1\"/>\n",
       "<path d=\"M 129.852,105.979 163.742,117.782\" style=\"fill:none;fill-rule:evenodd;stroke:#000000;stroke-width:2px;stroke-linecap:butt;stroke-linejoin:miter;stroke-opacity:1\"/>\n",
       "<path d=\"M 123.128,70.7278 150.294,47.2788\" style=\"fill:none;fill-rule:evenodd;stroke:#000000;stroke-width:2px;stroke-linecap:butt;stroke-linejoin:miter;stroke-opacity:1\"/>\n",
       "<path d=\"M 150.294,47.2788 184.185,59.0813\" style=\"fill:none;fill-rule:evenodd;stroke:#000000;stroke-width:2px;stroke-linecap:butt;stroke-linejoin:miter;stroke-opacity:1\"/>\n",
       "<path d=\"M 153.017,55.8273 176.741,64.0891\" style=\"fill:none;fill-rule:evenodd;stroke:#000000;stroke-width:2px;stroke-linecap:butt;stroke-linejoin:miter;stroke-opacity:1\"/>\n",
       "<path d=\"M 184.185,59.0813 190.909,94.3328\" style=\"fill:none;fill-rule:evenodd;stroke:#000000;stroke-width:2px;stroke-linecap:butt;stroke-linejoin:miter;stroke-opacity:1\"/>\n",
       "<path d=\"M 190.909,94.3328 163.742,117.782\" style=\"fill:none;fill-rule:evenodd;stroke:#000000;stroke-width:2px;stroke-linecap:butt;stroke-linejoin:miter;stroke-opacity:1\"/>\n",
       "<path d=\"M 182.144,92.4168 163.128,108.831\" style=\"fill:none;fill-rule:evenodd;stroke:#000000;stroke-width:2px;stroke-linecap:butt;stroke-linejoin:miter;stroke-opacity:1\"/>\n",
       "<text style=\"font-size:11px;font-style:normal;font-weight:normal;fill-opacity:1;stroke:none;font-family:sans-serif;text-anchor:start;fill:#0000FF\" x=\"63.6101\" y=\"123.607\"><tspan>N</tspan></text>\n",
       "<text style=\"font-size:11px;font-style:normal;font-weight:normal;fill-opacity:1;stroke:none;font-family:sans-serif;text-anchor:start;fill:#0000FF\" x=\"9.09091\" y=\"41.8995\"><tspan>NH</tspan><tspan style=\"baseline-shift:sub;font-size:8.25px;\">2</tspan><tspan/></text>\n",
       "<text style=\"font-size:11px;font-style:normal;font-weight:normal;fill-opacity:1;stroke:none;font-family:sans-serif;text-anchor:start;fill:#FF0000\" x=\"103.823\" y=\"170.661\"><tspan>O</tspan></text>\n",
       "<text style=\"font-size:11px;font-style:normal;font-weight:normal;fill-opacity:1;stroke:none;font-family:sans-serif;text-anchor:start;fill:#000000\" x=\"19.7743\" y=\"194\"><tspan>CN(CCN)C(=O)c1ccccc1</tspan></text>\n",
       "</g>\n",
       "<g transform=\"translate(600,200)\"><rect height=\"200\" style=\"opacity:1.0;fill:#FFFFFF;stroke:none\" width=\"200\" x=\"0\" y=\"0\"> </rect>\n",
       "<path d=\"M 9.09091,111.43 19.9453,106.386\" style=\"fill:none;fill-rule:evenodd;stroke:#000000;stroke-width:2px;stroke-linecap:butt;stroke-linejoin:miter;stroke-opacity:1\"/>\n",
       "<path d=\"M 19.9453,106.386 30.7997,101.343\" style=\"fill:none;fill-rule:evenodd;stroke:#0000FF;stroke-width:2px;stroke-linecap:butt;stroke-linejoin:miter;stroke-opacity:1\"/>\n",
       "<path d=\"M 49.286,102.482 59.4915,109.649\" style=\"fill:none;fill-rule:evenodd;stroke:#0000FF;stroke-width:2px;stroke-linecap:butt;stroke-linejoin:miter;stroke-opacity:1\"/>\n",
       "<path d=\"M 59.4915,109.649 69.697,116.816\" style=\"fill:none;fill-rule:evenodd;stroke:#000000;stroke-width:2px;stroke-linecap:butt;stroke-linejoin:miter;stroke-opacity:1\"/>\n",
       "<path d=\"M 69.697,116.816 101.555,102.014\" style=\"fill:none;fill-rule:evenodd;stroke:#000000;stroke-width:2px;stroke-linecap:butt;stroke-linejoin:miter;stroke-opacity:1\"/>\n",
       "<path d=\"M 101.555,102.014 111.761,109.181\" style=\"fill:none;fill-rule:evenodd;stroke:#000000;stroke-width:2px;stroke-linecap:butt;stroke-linejoin:miter;stroke-opacity:1\"/>\n",
       "<path d=\"M 111.761,109.181 121.966,116.348\" style=\"fill:none;fill-rule:evenodd;stroke:#0000FF;stroke-width:2px;stroke-linecap:butt;stroke-linejoin:miter;stroke-opacity:1\"/>\n",
       "<path d=\"M 140.452,117.488 151.307,112.444\" style=\"fill:none;fill-rule:evenodd;stroke:#0000FF;stroke-width:2px;stroke-linecap:butt;stroke-linejoin:miter;stroke-opacity:1\"/>\n",
       "<path d=\"M 151.307,112.444 162.161,107.401\" style=\"fill:none;fill-rule:evenodd;stroke:#000000;stroke-width:2px;stroke-linecap:butt;stroke-linejoin:miter;stroke-opacity:1\"/>\n",
       "<path d=\"M 162.161,107.401 190.909,127.59\" style=\"fill:none;fill-rule:evenodd;stroke:#000000;stroke-width:2px;stroke-linecap:butt;stroke-linejoin:miter;stroke-opacity:1\"/>\n",
       "<path d=\"M 165.66,107.712 166.955,93.144\" style=\"fill:none;fill-rule:evenodd;stroke:#000000;stroke-width:2px;stroke-linecap:butt;stroke-linejoin:miter;stroke-opacity:1\"/>\n",
       "<path d=\"M 166.955,93.144 168.25,78.5759\" style=\"fill:none;fill-rule:evenodd;stroke:#FF0000;stroke-width:2px;stroke-linecap:butt;stroke-linejoin:miter;stroke-opacity:1\"/>\n",
       "<path d=\"M 158.662,107.09 159.957,92.522\" style=\"fill:none;fill-rule:evenodd;stroke:#000000;stroke-width:2px;stroke-linecap:butt;stroke-linejoin:miter;stroke-opacity:1\"/>\n",
       "<path d=\"M 159.957,92.522 161.252,77.9539\" style=\"fill:none;fill-rule:evenodd;stroke:#FF0000;stroke-width:2px;stroke-linecap:butt;stroke-linejoin:miter;stroke-opacity:1\"/>\n",
       "<text style=\"font-size:11px;font-style:normal;font-weight:normal;fill-opacity:1;stroke:none;font-family:sans-serif;text-anchor:start;fill:#0000FF\" x=\"30.7997\" y=\"102.482\"><tspan>NH</tspan></text>\n",
       "<text style=\"font-size:11px;font-style:normal;font-weight:normal;fill-opacity:1;stroke:none;font-family:sans-serif;text-anchor:start;fill:#0000FF\" x=\"120.154\" y=\"128.058\"><tspan>NH</tspan></text>\n",
       "<text style=\"font-size:11px;font-style:normal;font-weight:normal;fill-opacity:1;stroke:none;font-family:sans-serif;text-anchor:start;fill:#FF0000\" x=\"159.803\" y=\"78.2649\"><tspan>O</tspan></text>\n",
       "<text style=\"font-size:12px;font-style:normal;font-weight:normal;fill-opacity:1;stroke:none;font-family:sans-serif;text-anchor:start;fill:#000000\" x=\"48.9892\" y=\"194\"><tspan>CNCCNC(C)=O</tspan></text>\n",
       "</g>\n",
       "<g transform=\"translate(0,400)\"><rect height=\"200\" style=\"opacity:1.0;fill:#FFFFFF;stroke:none\" width=\"200\" x=\"0\" y=\"0\"> </rect>\n",
       "<path d=\"M 9.09091,81.1731 16.5537,87.0075\" style=\"fill:none;fill-rule:evenodd;stroke:#000000;stroke-width:2px;stroke-linecap:butt;stroke-linejoin:miter;stroke-opacity:1\"/>\n",
       "<path d=\"M 16.5537,87.0075 24.0165,92.842\" style=\"fill:none;fill-rule:evenodd;stroke:#0000FF;stroke-width:2px;stroke-linecap:butt;stroke-linejoin:miter;stroke-opacity:1\"/>\n",
       "<path d=\"M 37.058,94.1419 45.3488,90.7953\" style=\"fill:none;fill-rule:evenodd;stroke:#0000FF;stroke-width:2px;stroke-linecap:butt;stroke-linejoin:miter;stroke-opacity:1\"/>\n",
       "<path d=\"M 45.3488,90.7953 53.6396,87.4487\" style=\"fill:none;fill-rule:evenodd;stroke:#000000;stroke-width:2px;stroke-linecap:butt;stroke-linejoin:miter;stroke-opacity:1\"/>\n",
       "<path d=\"M 53.6396,87.4487 74.1024,103.447\" style=\"fill:none;fill-rule:evenodd;stroke:#000000;stroke-width:2px;stroke-linecap:butt;stroke-linejoin:miter;stroke-opacity:1\"/>\n",
       "<path d=\"M 74.1024,103.447 82.3932,100.1\" style=\"fill:none;fill-rule:evenodd;stroke:#000000;stroke-width:2px;stroke-linecap:butt;stroke-linejoin:miter;stroke-opacity:1\"/>\n",
       "<path d=\"M 82.3932,100.1 90.684,96.7535\" style=\"fill:none;fill-rule:evenodd;stroke:#0000FF;stroke-width:2px;stroke-linecap:butt;stroke-linejoin:miter;stroke-opacity:1\"/>\n",
       "<path d=\"M 103.726,98.0534 111.188,103.888\" style=\"fill:none;fill-rule:evenodd;stroke:#0000FF;stroke-width:2px;stroke-linecap:butt;stroke-linejoin:miter;stroke-opacity:1\"/>\n",
       "<path d=\"M 111.188,103.888 118.651,109.722\" style=\"fill:none;fill-rule:evenodd;stroke:#000000;stroke-width:2px;stroke-linecap:butt;stroke-linejoin:miter;stroke-opacity:1\"/>\n",
       "<path d=\"M 116.079,109.36 114.572,120.056\" style=\"fill:none;fill-rule:evenodd;stroke:#000000;stroke-width:2px;stroke-linecap:butt;stroke-linejoin:miter;stroke-opacity:1\"/>\n",
       "<path d=\"M 114.572,120.056 113.066,130.751\" style=\"fill:none;fill-rule:evenodd;stroke:#FF0000;stroke-width:2px;stroke-linecap:butt;stroke-linejoin:miter;stroke-opacity:1\"/>\n",
       "<path d=\"M 121.223,110.085 119.716,120.78\" style=\"fill:none;fill-rule:evenodd;stroke:#000000;stroke-width:2px;stroke-linecap:butt;stroke-linejoin:miter;stroke-opacity:1\"/>\n",
       "<path d=\"M 119.716,120.78 118.21,131.476\" style=\"fill:none;fill-rule:evenodd;stroke:#FF0000;stroke-width:2px;stroke-linecap:butt;stroke-linejoin:miter;stroke-opacity:1\"/>\n",
       "<path d=\"M 118.651,109.722 142.737,100\" style=\"fill:none;fill-rule:evenodd;stroke:#000000;stroke-width:2px;stroke-linecap:butt;stroke-linejoin:miter;stroke-opacity:1\"/>\n",
       "<path d=\"M 142.737,100 146.36,74.2798\" style=\"fill:none;fill-rule:evenodd;stroke:#000000;stroke-width:2px;stroke-linecap:butt;stroke-linejoin:miter;stroke-opacity:1\"/>\n",
       "<path d=\"M 148.425,96.8666 150.961,78.8625\" style=\"fill:none;fill-rule:evenodd;stroke:#000000;stroke-width:2px;stroke-linecap:butt;stroke-linejoin:miter;stroke-opacity:1\"/>\n",
       "<path d=\"M 142.737,100 163.2,115.998\" style=\"fill:none;fill-rule:evenodd;stroke:#000000;stroke-width:2px;stroke-linecap:butt;stroke-linejoin:miter;stroke-opacity:1\"/>\n",
       "<path d=\"M 146.36,74.2798 170.446,64.5575\" style=\"fill:none;fill-rule:evenodd;stroke:#000000;stroke-width:2px;stroke-linecap:butt;stroke-linejoin:miter;stroke-opacity:1\"/>\n",
       "<path d=\"M 170.446,64.5575 190.909,80.5554\" style=\"fill:none;fill-rule:evenodd;stroke:#000000;stroke-width:2px;stroke-linecap:butt;stroke-linejoin:miter;stroke-opacity:1\"/>\n",
       "<path d=\"M 170.316,71.0497 184.64,82.2483\" style=\"fill:none;fill-rule:evenodd;stroke:#000000;stroke-width:2px;stroke-linecap:butt;stroke-linejoin:miter;stroke-opacity:1\"/>\n",
       "<path d=\"M 190.909,80.5554 187.286,106.276\" style=\"fill:none;fill-rule:evenodd;stroke:#000000;stroke-width:2px;stroke-linecap:butt;stroke-linejoin:miter;stroke-opacity:1\"/>\n",
       "<path d=\"M 187.286,106.276 163.2,115.998\" style=\"fill:none;fill-rule:evenodd;stroke:#000000;stroke-width:2px;stroke-linecap:butt;stroke-linejoin:miter;stroke-opacity:1\"/>\n",
       "<path d=\"M 181.728,102.917 164.868,109.722\" style=\"fill:none;fill-rule:evenodd;stroke:#000000;stroke-width:2px;stroke-linecap:butt;stroke-linejoin:miter;stroke-opacity:1\"/>\n",
       "<text style=\"font-size:8px;font-style:normal;font-weight:normal;fill-opacity:1;stroke:none;font-family:sans-serif;text-anchor:start;fill:#0000FF\" x=\"22.0493\" y=\"101.5\"><tspan>NH</tspan></text>\n",
       "<text style=\"font-size:8px;font-style:normal;font-weight:normal;fill-opacity:1;stroke:none;font-family:sans-serif;text-anchor:start;fill:#0000FF\" x=\"90.684\" y=\"98.0534\"><tspan>NH</tspan></text>\n",
       "<text style=\"font-size:8px;font-style:normal;font-weight:normal;fill-opacity:1;stroke:none;font-family:sans-serif;text-anchor:start;fill:#FF0000\" x=\"110.985\" y=\"139.772\"><tspan>O</tspan></text>\n",
       "<text style=\"font-size:12px;font-style:normal;font-weight:normal;fill-opacity:1;stroke:none;font-family:sans-serif;text-anchor:start;fill:#000000\" x=\"24.5714\" y=\"194\"><tspan>CNCCNC(=O)c1ccccc1</tspan></text>\n",
       "</g>\n",
       "<g transform=\"translate(200,400)\"><rect height=\"200\" style=\"opacity:1.0;fill:#FFFFFF;stroke:none\" width=\"200\" x=\"0\" y=\"0\"> </rect>\n",
       "<path d=\"M 9.09091,107.95 16.4997,104.38\" style=\"fill:none;fill-rule:evenodd;stroke:#000000;stroke-width:2px;stroke-linecap:butt;stroke-linejoin:miter;stroke-opacity:1\"/>\n",
       "<path d=\"M 16.4997,104.38 23.9084,100.811\" style=\"fill:none;fill-rule:evenodd;stroke:#0000FF;stroke-width:2px;stroke-linecap:butt;stroke-linejoin:miter;stroke-opacity:1\"/>\n",
       "<path d=\"M 36.8253,101.476 43.8687,106.276\" style=\"fill:none;fill-rule:evenodd;stroke:#0000FF;stroke-width:2px;stroke-linecap:butt;stroke-linejoin:miter;stroke-opacity:1\"/>\n",
       "<path d=\"M 43.8687,106.276 50.9121,111.076\" style=\"fill:none;fill-rule:evenodd;stroke:#000000;stroke-width:2px;stroke-linecap:butt;stroke-linejoin:miter;stroke-opacity:1\"/>\n",
       "<path d=\"M 50.9121,111.076 72.725,100.566\" style=\"fill:none;fill-rule:evenodd;stroke:#000000;stroke-width:2px;stroke-linecap:butt;stroke-linejoin:miter;stroke-opacity:1\"/>\n",
       "<path d=\"M 72.725,100.566 79.7684,105.366\" style=\"fill:none;fill-rule:evenodd;stroke:#000000;stroke-width:2px;stroke-linecap:butt;stroke-linejoin:miter;stroke-opacity:1\"/>\n",
       "<path d=\"M 79.7684,105.366 86.8118,110.166\" style=\"fill:none;fill-rule:evenodd;stroke:#0000FF;stroke-width:2px;stroke-linecap:butt;stroke-linejoin:miter;stroke-opacity:1\"/>\n",
       "<path d=\"M 99.7287,110.831 107.137,107.262\" style=\"fill:none;fill-rule:evenodd;stroke:#0000FF;stroke-width:2px;stroke-linecap:butt;stroke-linejoin:miter;stroke-opacity:1\"/>\n",
       "<path d=\"M 107.137,107.262 114.546,103.692\" style=\"fill:none;fill-rule:evenodd;stroke:#000000;stroke-width:2px;stroke-linecap:butt;stroke-linejoin:miter;stroke-opacity:1\"/>\n",
       "<path d=\"M 116.961,103.872 117.712,93.8174\" style=\"fill:none;fill-rule:evenodd;stroke:#000000;stroke-width:2px;stroke-linecap:butt;stroke-linejoin:miter;stroke-opacity:1\"/>\n",
       "<path d=\"M 117.712,93.8174 118.464,83.7624\" style=\"fill:none;fill-rule:evenodd;stroke:#FF0000;stroke-width:2px;stroke-linecap:butt;stroke-linejoin:miter;stroke-opacity:1\"/>\n",
       "<path d=\"M 112.132,103.511 112.883,93.4565\" style=\"fill:none;fill-rule:evenodd;stroke:#000000;stroke-width:2px;stroke-linecap:butt;stroke-linejoin:miter;stroke-opacity:1\"/>\n",
       "<path d=\"M 112.883,93.4565 113.635,83.4015\" style=\"fill:none;fill-rule:evenodd;stroke:#FF0000;stroke-width:2px;stroke-linecap:butt;stroke-linejoin:miter;stroke-opacity:1\"/>\n",
       "<path d=\"M 114.546,103.692 134.554,117.328\" style=\"fill:none;fill-rule:evenodd;stroke:#000000;stroke-width:2px;stroke-linecap:butt;stroke-linejoin:miter;stroke-opacity:1\"/>\n",
       "<path d=\"M 134.554,117.328 156.367,106.818\" style=\"fill:none;fill-rule:evenodd;stroke:#000000;stroke-width:2px;stroke-linecap:butt;stroke-linejoin:miter;stroke-opacity:1\"/>\n",
       "<path d=\"M 158.782,106.998 159.533,96.9433\" style=\"fill:none;fill-rule:evenodd;stroke:#000000;stroke-width:2px;stroke-linecap:butt;stroke-linejoin:miter;stroke-opacity:1\"/>\n",
       "<path d=\"M 159.533,96.9433 160.285,86.8883\" style=\"fill:none;fill-rule:evenodd;stroke:#FF0000;stroke-width:2px;stroke-linecap:butt;stroke-linejoin:miter;stroke-opacity:1\"/>\n",
       "<path d=\"M 153.953,106.637 154.704,96.5824\" style=\"fill:none;fill-rule:evenodd;stroke:#000000;stroke-width:2px;stroke-linecap:butt;stroke-linejoin:miter;stroke-opacity:1\"/>\n",
       "<path d=\"M 154.704,96.5824 155.456,86.5274\" style=\"fill:none;fill-rule:evenodd;stroke:#FF0000;stroke-width:2px;stroke-linecap:butt;stroke-linejoin:miter;stroke-opacity:1\"/>\n",
       "<path d=\"M 156.367,106.818 163.411,111.618\" style=\"fill:none;fill-rule:evenodd;stroke:#000000;stroke-width:2px;stroke-linecap:butt;stroke-linejoin:miter;stroke-opacity:1\"/>\n",
       "<path d=\"M 163.411,111.618 170.454,116.418\" style=\"fill:none;fill-rule:evenodd;stroke:#FF0000;stroke-width:2px;stroke-linecap:butt;stroke-linejoin:miter;stroke-opacity:1\"/>\n",
       "<text style=\"font-size:8px;font-style:normal;font-weight:normal;fill-opacity:1;stroke:none;font-family:sans-serif;text-anchor:start;fill:#0000FF\" x=\"23.9084\" y=\"101.476\"><tspan>NH</tspan></text>\n",
       "<text style=\"font-size:8px;font-style:normal;font-weight:normal;fill-opacity:1;stroke:none;font-family:sans-serif;text-anchor:start;fill:#0000FF\" x=\"85.7378\" y=\"118.237\"><tspan>NH</tspan></text>\n",
       "<text style=\"font-size:8px;font-style:normal;font-weight:normal;fill-opacity:1;stroke:none;font-family:sans-serif;text-anchor:start;fill:#FF0000\" x=\"112.582\" y=\"83.5819\"><tspan>O</tspan></text>\n",
       "<text style=\"font-size:8px;font-style:normal;font-weight:normal;fill-opacity:1;stroke:none;font-family:sans-serif;text-anchor:start;fill:#FF0000\" x=\"154.403\" y=\"86.7078\"><tspan>O</tspan></text>\n",
       "<text style=\"font-size:8px;font-style:normal;font-weight:normal;fill-opacity:1;stroke:none;font-family:sans-serif;text-anchor:start;fill:#FF0000\" x=\"169.109\" y=\"124.489\"><tspan>OH</tspan></text>\n",
       "<text style=\"font-size:12px;font-style:normal;font-weight:normal;fill-opacity:1;stroke:none;font-family:sans-serif;text-anchor:start;fill:#000000\" x=\"23.5774\" y=\"194\"><tspan>CNCCNC(=O)CC(=O)O</tspan></text>\n",
       "</g>\n",
       "<g transform=\"translate(400,400)\"><rect height=\"200\" style=\"opacity:1.0;fill:#FFFFFF;stroke:none\" width=\"200\" x=\"0\" y=\"0\"> </rect>\n",
       "<path d=\"M 9.09091,71.0553 33.8235,94.983\" style=\"fill:none;fill-rule:evenodd;stroke:#000000;stroke-width:2px;stroke-linecap:butt;stroke-linejoin:miter;stroke-opacity:1\"/>\n",
       "<path d=\"M 33.8235,94.983 45.3965,91.6759\" style=\"fill:none;fill-rule:evenodd;stroke:#000000;stroke-width:2px;stroke-linecap:butt;stroke-linejoin:miter;stroke-opacity:1\"/>\n",
       "<path d=\"M 45.3965,91.6759 56.9694,88.3688\" style=\"fill:none;fill-rule:evenodd;stroke:#0000FF;stroke-width:2px;stroke-linecap:butt;stroke-linejoin:miter;stroke-opacity:1\"/>\n",
       "<path d=\"M 72.8402,91.2631 82.2423,100.359\" style=\"fill:none;fill-rule:evenodd;stroke:#0000FF;stroke-width:2px;stroke-linecap:butt;stroke-linejoin:miter;stroke-opacity:1\"/>\n",
       "<path d=\"M 82.2423,100.359 91.6444,109.455\" style=\"fill:none;fill-rule:evenodd;stroke:#000000;stroke-width:2px;stroke-linecap:butt;stroke-linejoin:miter;stroke-opacity:1\"/>\n",
       "<path d=\"M 88.3061,108.62 84.8461,122.443\" style=\"fill:none;fill-rule:evenodd;stroke:#000000;stroke-width:2px;stroke-linecap:butt;stroke-linejoin:miter;stroke-opacity:1\"/>\n",
       "<path d=\"M 84.8461,122.443 81.3861,136.267\" style=\"fill:none;fill-rule:evenodd;stroke:#FF0000;stroke-width:2px;stroke-linecap:butt;stroke-linejoin:miter;stroke-opacity:1\"/>\n",
       "<path d=\"M 94.9827,110.291 91.5227,124.115\" style=\"fill:none;fill-rule:evenodd;stroke:#000000;stroke-width:2px;stroke-linecap:butt;stroke-linejoin:miter;stroke-opacity:1\"/>\n",
       "<path d=\"M 91.5227,124.115 88.0626,137.938\" style=\"fill:none;fill-rule:evenodd;stroke:#FF0000;stroke-width:2px;stroke-linecap:butt;stroke-linejoin:miter;stroke-opacity:1\"/>\n",
       "<path d=\"M 91.6444,109.455 124.733,100\" style=\"fill:none;fill-rule:evenodd;stroke:#000000;stroke-width:2px;stroke-linecap:butt;stroke-linejoin:miter;stroke-opacity:1\"/>\n",
       "<path d=\"M 124.733,100 133.088,66.6171\" style=\"fill:none;fill-rule:evenodd;stroke:#000000;stroke-width:2px;stroke-linecap:butt;stroke-linejoin:miter;stroke-opacity:1\"/>\n",
       "<path d=\"M 132.663,96.6637 138.511,73.2957\" style=\"fill:none;fill-rule:evenodd;stroke:#000000;stroke-width:2px;stroke-linecap:butt;stroke-linejoin:miter;stroke-opacity:1\"/>\n",
       "<path d=\"M 124.733,100 149.465,123.928\" style=\"fill:none;fill-rule:evenodd;stroke:#000000;stroke-width:2px;stroke-linecap:butt;stroke-linejoin:miter;stroke-opacity:1\"/>\n",
       "<path d=\"M 133.088,66.6171 166.176,57.1618\" style=\"fill:none;fill-rule:evenodd;stroke:#000000;stroke-width:2px;stroke-linecap:butt;stroke-linejoin:miter;stroke-opacity:1\"/>\n",
       "<path d=\"M 166.176,57.1618 190.909,81.0894\" style=\"fill:none;fill-rule:evenodd;stroke:#000000;stroke-width:2px;stroke-linecap:butt;stroke-linejoin:miter;stroke-opacity:1\"/>\n",
       "<path d=\"M 165.101,65.6975 182.414,82.4468\" style=\"fill:none;fill-rule:evenodd;stroke:#000000;stroke-width:2px;stroke-linecap:butt;stroke-linejoin:miter;stroke-opacity:1\"/>\n",
       "<path d=\"M 190.909,81.0894 182.553,114.472\" style=\"fill:none;fill-rule:evenodd;stroke:#000000;stroke-width:2px;stroke-linecap:butt;stroke-linejoin:miter;stroke-opacity:1\"/>\n",
       "<path d=\"M 182.553,114.472 149.465,123.928\" style=\"fill:none;fill-rule:evenodd;stroke:#000000;stroke-width:2px;stroke-linecap:butt;stroke-linejoin:miter;stroke-opacity:1\"/>\n",
       "<path d=\"M 175.699,109.273 152.537,115.892\" style=\"fill:none;fill-rule:evenodd;stroke:#000000;stroke-width:2px;stroke-linecap:butt;stroke-linejoin:miter;stroke-opacity:1\"/>\n",
       "<text style=\"font-size:11px;font-style:normal;font-weight:normal;fill-opacity:1;stroke:none;font-family:sans-serif;text-anchor:start;fill:#0000FF\" x=\"56.9694\" y=\"91.2631\"><tspan>NH</tspan></text>\n",
       "<text style=\"font-size:11px;font-style:normal;font-weight:normal;fill-opacity:1;stroke:none;font-family:sans-serif;text-anchor:start;fill:#FF0000\" x=\"77.932\" y=\"148.574\"><tspan>O</tspan></text>\n",
       "<text style=\"font-size:12px;font-style:normal;font-weight:normal;fill-opacity:1;stroke:none;font-family:sans-serif;text-anchor:start;fill:#000000\" x=\"34.9724\" y=\"194\"><tspan>CCNC(=O)c1ccccc1</tspan></text>\n",
       "</g>\n",
       "<g transform=\"translate(600,400)\"><rect height=\"200\" style=\"opacity:1.0;fill:#FFFFFF;stroke:none\" width=\"200\" x=\"0\" y=\"0\"> </rect>\n",
       "<path d=\"M 190.909,53.9035 190.909,90.7807\" style=\"fill:none;fill-rule:evenodd;stroke:#000000;stroke-width:2px;stroke-linecap:butt;stroke-linejoin:miter;stroke-opacity:1\"/>\n",
       "<path d=\"M 190.909,90.7807 177.604,98.4622\" style=\"fill:none;fill-rule:evenodd;stroke:#000000;stroke-width:2px;stroke-linecap:butt;stroke-linejoin:miter;stroke-opacity:1\"/>\n",
       "<path d=\"M 177.604,98.4622 164.3,106.144\" style=\"fill:none;fill-rule:evenodd;stroke:#0000FF;stroke-width:2px;stroke-linecap:butt;stroke-linejoin:miter;stroke-opacity:1\"/>\n",
       "<path d=\"M 158.972,115.366 158.972,130.731\" style=\"fill:none;fill-rule:evenodd;stroke:#0000FF;stroke-width:2px;stroke-linecap:butt;stroke-linejoin:miter;stroke-opacity:1\"/>\n",
       "<path d=\"M 158.972,130.731 158.972,146.097\" style=\"fill:none;fill-rule:evenodd;stroke:#000000;stroke-width:2px;stroke-linecap:butt;stroke-linejoin:miter;stroke-opacity:1\"/>\n",
       "<path d=\"M 153.645,106.144 140.341,98.4622\" style=\"fill:none;fill-rule:evenodd;stroke:#0000FF;stroke-width:2px;stroke-linecap:butt;stroke-linejoin:miter;stroke-opacity:1\"/>\n",
       "<path d=\"M 140.341,98.4622 127.036,90.7807\" style=\"fill:none;fill-rule:evenodd;stroke:#000000;stroke-width:2px;stroke-linecap:butt;stroke-linejoin:miter;stroke-opacity:1\"/>\n",
       "<path d=\"M 130.724,90.7807 130.724,75.4152\" style=\"fill:none;fill-rule:evenodd;stroke:#000000;stroke-width:2px;stroke-linecap:butt;stroke-linejoin:miter;stroke-opacity:1\"/>\n",
       "<path d=\"M 130.724,75.4152 130.724,60.0497\" style=\"fill:none;fill-rule:evenodd;stroke:#FF0000;stroke-width:2px;stroke-linecap:butt;stroke-linejoin:miter;stroke-opacity:1\"/>\n",
       "<path d=\"M 123.348,90.7807 123.348,75.4152\" style=\"fill:none;fill-rule:evenodd;stroke:#000000;stroke-width:2px;stroke-linecap:butt;stroke-linejoin:miter;stroke-opacity:1\"/>\n",
       "<path d=\"M 123.348,75.4152 123.348,60.0497\" style=\"fill:none;fill-rule:evenodd;stroke:#FF0000;stroke-width:2px;stroke-linecap:butt;stroke-linejoin:miter;stroke-opacity:1\"/>\n",
       "<path d=\"M 127.036,90.7807 95.0993,109.219\" style=\"fill:none;fill-rule:evenodd;stroke:#000000;stroke-width:2px;stroke-linecap:butt;stroke-linejoin:miter;stroke-opacity:1\"/>\n",
       "<path d=\"M 95.0993,109.219 63.1627,90.7807\" style=\"fill:none;fill-rule:evenodd;stroke:#000000;stroke-width:2px;stroke-linecap:butt;stroke-linejoin:miter;stroke-opacity:1\"/>\n",
       "<path d=\"M 66.8504,90.7807 66.8504,75.4152\" style=\"fill:none;fill-rule:evenodd;stroke:#000000;stroke-width:2px;stroke-linecap:butt;stroke-linejoin:miter;stroke-opacity:1\"/>\n",
       "<path d=\"M 66.8504,75.4152 66.8504,60.0497\" style=\"fill:none;fill-rule:evenodd;stroke:#FF0000;stroke-width:2px;stroke-linecap:butt;stroke-linejoin:miter;stroke-opacity:1\"/>\n",
       "<path d=\"M 59.475,90.7807 59.475,75.4152\" style=\"fill:none;fill-rule:evenodd;stroke:#000000;stroke-width:2px;stroke-linecap:butt;stroke-linejoin:miter;stroke-opacity:1\"/>\n",
       "<path d=\"M 59.475,75.4152 59.475,60.0497\" style=\"fill:none;fill-rule:evenodd;stroke:#FF0000;stroke-width:2px;stroke-linecap:butt;stroke-linejoin:miter;stroke-opacity:1\"/>\n",
       "<path d=\"M 63.1627,90.7807 52.5172,96.9269\" style=\"fill:none;fill-rule:evenodd;stroke:#000000;stroke-width:2px;stroke-linecap:butt;stroke-linejoin:miter;stroke-opacity:1\"/>\n",
       "<path d=\"M 52.5172,96.9269 41.8716,103.073\" style=\"fill:none;fill-rule:evenodd;stroke:#FF0000;stroke-width:2px;stroke-linecap:butt;stroke-linejoin:miter;stroke-opacity:1\"/>\n",
       "<text style=\"font-size:12px;font-style:normal;font-weight:normal;fill-opacity:1;stroke:none;font-family:sans-serif;text-anchor:start;fill:#0000FF\" x=\"153.645\" y=\"115.366\"><tspan>N</tspan></text>\n",
       "<text style=\"font-size:12px;font-style:normal;font-weight:normal;fill-opacity:1;stroke:none;font-family:sans-serif;text-anchor:start;fill:#FF0000\" x=\"121.296\" y=\"60.0497\"><tspan>O</tspan></text>\n",
       "<text style=\"font-size:12px;font-style:normal;font-weight:normal;fill-opacity:1;stroke:none;font-family:sans-serif;text-anchor:start;fill:#FF0000\" x=\"57.4223\" y=\"60.0497\"><tspan>O</tspan></text>\n",
       "<text style=\"font-size:12px;font-style:normal;font-weight:normal;fill-opacity:1;stroke:none;font-family:sans-serif;text-anchor:start;fill:#FF0000\" x=\"20.1585\" y=\"115.366\"><tspan>HO</tspan></text>\n",
       "<text style=\"font-size:12px;font-style:normal;font-weight:normal;fill-opacity:1;stroke:none;font-family:sans-serif;text-anchor:start;fill:#000000\" x=\"23.9808\" y=\"194\"><tspan>CCN(C)C(=O)CC(=O)O</tspan></text>\n",
       "</g></svg>"
      ],
      "text/plain": [
       "<IPython.core.display.SVG object>"
      ]
     },
     "execution_count": 271,
     "metadata": {},
     "output_type": "execute_result"
    }
   ],
   "source": [
    "Draw.MolsToGridImage([Chem.MolFromSmiles(s) for s in pu], molsPerRow=4, subImgSize=(200,200), legends=pu)"
   ]
  },
  {
   "cell_type": "markdown",
   "metadata": {},
   "source": [
    "---"
   ]
  },
  {
   "cell_type": "markdown",
   "metadata": {},
   "source": [
    "Recommended sources:\n",
    "\n",
    "1. RDKit official web-site: http://www.rdkit.org/docs/index.html\n",
    "2. RDKit maillists: https://sourceforge.net/p/rdkit/mailman/rdkit-discuss/"
   ]
  }
 ],
 "metadata": {
  "kernelspec": {
   "display_name": "Python 3",
   "language": "python",
   "name": "python3"
  },
  "language_info": {
   "codemirror_mode": {
    "name": "ipython",
    "version": 3
   },
   "file_extension": ".py",
   "mimetype": "text/x-python",
   "name": "python",
   "nbconvert_exporter": "python",
   "pygments_lexer": "ipython3",
   "version": "3.7.10"
  }
 },
 "nbformat": 4,
 "nbformat_minor": 4
}
