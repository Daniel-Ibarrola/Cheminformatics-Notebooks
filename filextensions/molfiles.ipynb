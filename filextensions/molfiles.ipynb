{
 "cells": [
  {
   "cell_type": "markdown",
   "id": "fb03de2f-2ba3-490d-8eb7-bb897b0c9bbe",
   "metadata": {},
   "source": [
    "## Mol2 Files"
   ]
  },
  {
   "cell_type": "code",
   "execution_count": 1,
   "id": "96ef6149-2246-4a9d-9745-35408ed30fe3",
   "metadata": {},
   "outputs": [],
   "source": [
    "from rdkit import Chem\n",
    "\n",
    "filename = \"./data/pharmagist.mol2\"\n",
    "molecules = Chem.rdmolfiles.MolFromMol2File(filename)\n",
    "molecules"
   ]
  },
  {
   "cell_type": "code",
   "execution_count": 3,
   "id": "428ccb5b-b343-4ac7-a971-29f4460e525e",
   "metadata": {},
   "outputs": [
    {
     "data": {
      "text/plain": [
       "NoneType"
      ]
     },
     "execution_count": 3,
     "metadata": {},
     "output_type": "execute_result"
    }
   ],
   "source": [
    "type(molecules)"
   ]
  },
  {
   "cell_type": "code",
   "execution_count": 42,
   "id": "990bab91-670a-4810-869e-e55b106b3be3",
   "metadata": {},
   "outputs": [],
   "source": [
    "# Load pharmacophore from mol2\n",
    "\n",
    "mol2_feats = [\"DON\", \"ACC\", \"ANI\"]\n",
    "pharmacophores = []\n",
    "lines = []\n",
    "\n",
    "with open(filename, \"r\") as f:\n",
    "    line = f.readline()\n",
    "    while line != '':\n",
    "        if line.startswith(\"@<TRIPOS>ATOM\"):\n",
    "            line = f.readline()\n",
    "            elements = []\n",
    "            while not line.startswith(\"@<TRIPOS>BOND\"):\n",
    "                pieces = [item for item in line.split(' ') if item != '']\n",
    "                if pieces[1] not in mol2_feats:\n",
    "                    break\n",
    "                feat_type = [pieces[1]]\n",
    "                coords = (pieces[2], pieces[3], pieces[4])\n",
    "                elements.append((feat_type, coords))\n",
    "                line = f.readline()\n",
    "            \n",
    "            if len(elements) > 0: pharmacophores.append(elements)\n",
    "        \n",
    "        line = f.readline()"
   ]
  },
  {
   "cell_type": "code",
   "execution_count": 43,
   "id": "0126ceea-c0f5-413f-a80a-1cd6157b76e6",
   "metadata": {},
   "outputs": [
    {
     "data": {
      "text/plain": [
       "[[(['DON'], ('0.1472', '-2.0050', '1.5912')),\n",
       "  (['DON'], ('-1.9250', '-0.6907', '-0.0259')),\n",
       "  (['DON'], ('-0.7601', '0.4254', '-3.9371')),\n",
       "  (['ACC'], ('0.8631', '-1.1264', '-2.3762')),\n",
       "  (['ACC'], ('0.1472', '-2.0050', '1.5912')),\n",
       "  (['ACC'], ('-1.9250', '-0.6907', '-0.0259')),\n",
       "  (['ACC'], ('-0.7601', '0.4254', '-3.9371')),\n",
       "  (['ACC'], ('0.6479', '-3.4823', '-2.5304')),\n",
       "  (['ANI'], ('1.1533', '-4.0408', '-3.9969'))],\n",
       " [(['DON'], ('0.1472', '-2.0050', '1.5912')),\n",
       "  (['DON'], ('-1.9250', '-0.6907', '-0.0259')),\n",
       "  (['DON'], ('-0.7601', '0.4254', '-3.9371')),\n",
       "  (['ACC'], ('0.8631', '-1.1264', '-2.3762')),\n",
       "  (['ACC'], ('0.1472', '-2.0050', '1.5912')),\n",
       "  (['ACC'], ('-1.9250', '-0.6907', '-0.0259')),\n",
       "  (['ACC'], ('-0.7601', '0.4254', '-3.9371')),\n",
       "  (['ACC'], ('0.6479', '-3.4823', '-2.5304')),\n",
       "  (['ANI'], ('1.1533', '-4.0408', '-3.9969'))],\n",
       " [(['DON'], ('-1.4448', '0.0253', '-0.6717')),\n",
       "  (['DON'], ('-1.2970', '-0.2186', '-3.5301')),\n",
       "  (['DON'], ('-0.4375', '-2.3286', '0.6772')),\n",
       "  (['DON'], ('0.3035', '-3.9513', '-1.4891')),\n",
       "  (['ACC'], ('1.6038', '-2.1781', '-2.3751')),\n",
       "  (['ACC'], ('-1.4448', '0.0253', '-0.6717')),\n",
       "  (['ACC'], ('-1.2970', '-0.2186', '-3.5301')),\n",
       "  (['ACC'], ('-0.4375', '-2.3286', '0.6772')),\n",
       "  (['ACC'], ('0.3035', '-3.9513', '-1.4891')),\n",
       "  (['ACC'], ('2.1642', '-2.2222', '-5.0465')),\n",
       "  (['ANI'], ('2.1117', '-3.7011', '-4.3087'))],\n",
       " [(['DON'], ('-0.0231', '-1.9170', '1.5163')),\n",
       "  (['DON'], ('-2.0009', '-0.6984', '-0.1733')),\n",
       "  (['DON'], ('1.7088', '-3.7118', '0.0485')),\n",
       "  (['DON'], ('-0.7601', '0.4253', '-3.9371')),\n",
       "  (['ACC'], ('0.8741', '-1.1378', '-2.4382')),\n",
       "  (['ACC'], ('-0.0231', '-1.9170', '1.5163')),\n",
       "  (['ACC'], ('-2.0009', '-0.6984', '-0.1733')),\n",
       "  (['ACC'], ('1.7088', '-3.7118', '0.0485')),\n",
       "  (['ACC'], ('-0.7601', '0.4253', '-3.9371')),\n",
       "  (['ACC'], ('0.6479', '-3.4823', '-2.5304')),\n",
       "  (['ANI'], ('1.1533', '-4.0408', '-3.9969'))]]"
      ]
     },
     "execution_count": 43,
     "metadata": {},
     "output_type": "execute_result"
    }
   ],
   "source": [
    "pharmacophores"
   ]
  },
  {
   "cell_type": "markdown",
   "id": "d4b4905b-5ef0-498f-a9f6-55915a5e51df",
   "metadata": {},
   "source": [
    "## SDF files"
   ]
  },
  {
   "cell_type": "code",
   "execution_count": 9,
   "id": "7047d5c9-c5e8-4f26-b535-85fca58d25e3",
   "metadata": {},
   "outputs": [],
   "source": [
    "sdf_file = \"./data/aid713.sdf\"\n",
    "suppl = Chem.rdmolfiles.ForwardSDMolSupplier(sdf_file)\n",
    "for mol in suppl:\n",
    "    if mol is not None: \n",
    "        mol.GetNumAtoms()\n",
    "    else: \n",
    "        print(\"Could not read molecule\")"
   ]
  },
  {
   "cell_type": "code",
   "execution_count": null,
   "id": "866c474e-2cbd-43c8-b764-d45e90fcf028",
   "metadata": {},
   "outputs": [],
   "source": [
    "from rdkit.Chem import PandasTools\n",
    "\n",
    "ligands_df = PandasTools.LoadSDF(sdf_file)\n",
    "ligands_df.head()"
   ]
  }
 ],
 "metadata": {
  "kernelspec": {
   "display_name": "Python 3",
   "language": "python",
   "name": "python3"
  },
  "language_info": {
   "codemirror_mode": {
    "name": "ipython",
    "version": 3
   },
   "file_extension": ".py",
   "mimetype": "text/x-python",
   "name": "python",
   "nbconvert_exporter": "python",
   "pygments_lexer": "ipython3",
   "version": "3.7.10"
  }
 },
 "nbformat": 4,
 "nbformat_minor": 5
}
