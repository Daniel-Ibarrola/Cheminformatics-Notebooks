{
 "cells": [
  {
   "cell_type": "markdown",
   "id": "5b2e48c6-1f24-4733-baa8-a90bd2ec7e09",
   "metadata": {},
   "source": [
    "## Searching for rings in pleconaril"
   ]
  },
  {
   "cell_type": "code",
   "execution_count": 6,
   "id": "f6873358-cb1b-491b-8617-845758ebebe1",
   "metadata": {},
   "outputs": [],
   "source": [
    "%matplotlib inline\n",
    "import molsysmt as msm\n",
    "import networkx as nx\n",
    "import numpy as np\n",
    "import numpy.linalg as LA\n",
    "import matplotlib.pyplot as plt \n",
    "import pandas as pd\n",
    "import collections\n",
    "from pylab import *\n",
    "from molecular_graph import molecular_graph\n",
    "\n",
    "#ignore warinings\n",
    "import warnings\n",
    "warnings.filterwarnings('ignore')"
   ]
  },
  {
   "cell_type": "markdown",
   "id": "79e8c6c1-a0fa-496e-9a4b-64a0c745cea2",
   "metadata": {},
   "source": [
    "### Loading file for pleconaril "
   ]
  },
  {
   "cell_type": "code",
   "execution_count": 2,
   "id": "7986c1be-6d65-4eee-8331-04c38ee6422d",
   "metadata": {},
   "outputs": [
    {
     "data": {
      "text/html": [
       "<style  type=\"text/css\" >\n",
       "</style><table id=\"T_17b94_\" ><thead>    <tr>        <th class=\"col_heading level0 col0\" >index</th>        <th class=\"col_heading level0 col1\" >n atoms</th>        <th class=\"col_heading level0 col2\" >n groups</th>        <th class=\"col_heading level0 col3\" >chain index</th>        <th class=\"col_heading level0 col4\" >molecule index</th>        <th class=\"col_heading level0 col5\" >molecule type</th>        <th class=\"col_heading level0 col6\" >entity index</th>        <th class=\"col_heading level0 col7\" >entity name</th>    </tr></thead><tbody>\n",
       "                <tr>\n",
       "                                <td id=\"T_17b94_row0_col0\" class=\"data row0 col0\" >0</td>\n",
       "                        <td id=\"T_17b94_row0_col1\" class=\"data row0 col1\" >4489</td>\n",
       "                        <td id=\"T_17b94_row0_col2\" class=\"data row0 col2\" >285</td>\n",
       "                        <td id=\"T_17b94_row0_col3\" class=\"data row0 col3\" >0</td>\n",
       "                        <td id=\"T_17b94_row0_col4\" class=\"data row0 col4\" >0</td>\n",
       "                        <td id=\"T_17b94_row0_col5\" class=\"data row0 col5\" >protein</td>\n",
       "                        <td id=\"T_17b94_row0_col6\" class=\"data row0 col6\" >0</td>\n",
       "                        <td id=\"T_17b94_row0_col7\" class=\"data row0 col7\" >Protein_0</td>\n",
       "            </tr>\n",
       "            <tr>\n",
       "                                <td id=\"T_17b94_row1_col0\" class=\"data row1 col0\" >1</td>\n",
       "                        <td id=\"T_17b94_row1_col1\" class=\"data row1 col1\" >7571</td>\n",
       "                        <td id=\"T_17b94_row1_col2\" class=\"data row1 col2\" >490</td>\n",
       "                        <td id=\"T_17b94_row1_col3\" class=\"data row1 col3\" >1</td>\n",
       "                        <td id=\"T_17b94_row1_col4\" class=\"data row1 col4\" >1</td>\n",
       "                        <td id=\"T_17b94_row1_col5\" class=\"data row1 col5\" >protein</td>\n",
       "                        <td id=\"T_17b94_row1_col6\" class=\"data row1 col6\" >1</td>\n",
       "                        <td id=\"T_17b94_row1_col7\" class=\"data row1 col7\" >Protein_1</td>\n",
       "            </tr>\n",
       "            <tr>\n",
       "                                <td id=\"T_17b94_row2_col0\" class=\"data row2 col0\" >2</td>\n",
       "                        <td id=\"T_17b94_row2_col1\" class=\"data row2 col1\" >104</td>\n",
       "                        <td id=\"T_17b94_row2_col2\" class=\"data row2 col2\" >7</td>\n",
       "                        <td id=\"T_17b94_row2_col3\" class=\"data row2 col3\" >3</td>\n",
       "                        <td id=\"T_17b94_row2_col4\" class=\"data row2 col4\" >2</td>\n",
       "                        <td id=\"T_17b94_row2_col5\" class=\"data row2 col5\" >peptide</td>\n",
       "                        <td id=\"T_17b94_row2_col6\" class=\"data row2 col6\" >2</td>\n",
       "                        <td id=\"T_17b94_row2_col7\" class=\"data row2 col7\" >Peptide_0</td>\n",
       "            </tr>\n",
       "            <tr>\n",
       "                                <td id=\"T_17b94_row3_col0\" class=\"data row3 col0\" >3</td>\n",
       "                        <td id=\"T_17b94_row3_col1\" class=\"data row3 col1\" >332</td>\n",
       "                        <td id=\"T_17b94_row3_col2\" class=\"data row3 col2\" >22</td>\n",
       "                        <td id=\"T_17b94_row3_col3\" class=\"data row3 col3\" >3</td>\n",
       "                        <td id=\"T_17b94_row3_col4\" class=\"data row3 col4\" >3</td>\n",
       "                        <td id=\"T_17b94_row3_col5\" class=\"data row3 col5\" >peptide</td>\n",
       "                        <td id=\"T_17b94_row3_col6\" class=\"data row3 col6\" >3</td>\n",
       "                        <td id=\"T_17b94_row3_col7\" class=\"data row3 col7\" >Peptide_1</td>\n",
       "            </tr>\n",
       "            <tr>\n",
       "                                <td id=\"T_17b94_row4_col0\" class=\"data row4 col0\" >4</td>\n",
       "                        <td id=\"T_17b94_row4_col1\" class=\"data row4 col1\" >27</td>\n",
       "                        <td id=\"T_17b94_row4_col2\" class=\"data row4 col2\" >1</td>\n",
       "                        <td id=\"T_17b94_row4_col3\" class=\"data row4 col3\" >4</td>\n",
       "                        <td id=\"T_17b94_row4_col4\" class=\"data row4 col4\" >4</td>\n",
       "                        <td id=\"T_17b94_row4_col5\" class=\"data row4 col5\" >small molecule</td>\n",
       "                        <td id=\"T_17b94_row4_col6\" class=\"data row4 col6\" >4</td>\n",
       "                        <td id=\"T_17b94_row4_col7\" class=\"data row4 col7\" >W11</td>\n",
       "            </tr>\n",
       "            <tr>\n",
       "                                <td id=\"T_17b94_row5_col0\" class=\"data row5 col0\" >5</td>\n",
       "                        <td id=\"T_17b94_row5_col1\" class=\"data row5 col1\" >15</td>\n",
       "                        <td id=\"T_17b94_row5_col2\" class=\"data row5 col2\" >1</td>\n",
       "                        <td id=\"T_17b94_row5_col3\" class=\"data row5 col3\" >5</td>\n",
       "                        <td id=\"T_17b94_row5_col4\" class=\"data row5 col4\" >5</td>\n",
       "                        <td id=\"T_17b94_row5_col5\" class=\"data row5 col5\" >small molecule</td>\n",
       "                        <td id=\"T_17b94_row5_col6\" class=\"data row5 col6\" >5</td>\n",
       "                        <td id=\"T_17b94_row5_col7\" class=\"data row5 col7\" >MYR</td>\n",
       "            </tr>\n",
       "    </tbody></table>"
      ],
      "text/plain": [
       "<pandas.io.formats.style.Styler at 0x7faeafc65410>"
      ]
     },
     "execution_count": 2,
     "metadata": {},
     "output_type": "execute_result"
    }
   ],
   "source": [
    "molecular_system = msm.convert('1NCR', 'molsysmt.MolSys')\n",
    "molecular_system = msm.remove_solvent(molecular_system, water=True, ions=True)\n",
    "molecular_system = msm.add_missing_hydrogens(molecular_system, pH=7.4)\n",
    "msm.info(molecular_system, target='component')"
   ]
  },
  {
   "cell_type": "code",
   "execution_count": 3,
   "id": "98992935-2b3c-4444-ba1a-5597e3e782d3",
   "metadata": {},
   "outputs": [
    {
     "name": "stdout",
     "output_type": "stream",
     "text": [
      "Number of nodes: 27\n",
      "Number of edges: 29\n"
     ]
    },
    {
     "data": {
      "image/png": "[encoded data removed]",
      "text/plain": [
       "<Figure size 1080x720 with 1 Axes>"
      ]
     },
     "metadata": {},
     "output_type": "display_data"
    }
   ],
   "source": [
    "# Create the molecular graph for pleconaril\n",
    "mol_graph = molecular_graph(molecular_system, selection='entity_name==\"W11\"', reset_index=True)\n",
    "\n",
    "# Add the missing bonds\n",
    "mol_graph.add_edge(22, 25)\n",
    "mol_graph.add_edge(22, 26)\n",
    "print(\"Number of nodes: {}\".format(len(mol_graph.nodes())))\n",
    "print(\"Number of edges: {}\".format(len(mol_graph.edges())))\n",
    "\n",
    "fig, ax = plt.subplots(figsize=(15,10))\n",
    "nx.draw(mol_graph, with_labels=True, ax=ax)\n",
    "show()"
   ]
  },
  {
   "cell_type": "markdown",
   "id": "da79bc5c-39e2-40dd-a308-822178e77720",
   "metadata": {},
   "source": [
    "### Searching for rings in the molecule"
   ]
  },
  {
   "cell_type": "code",
   "execution_count": 7,
   "id": "91d457cf-f3b9-49fb-b87d-0cdc5f786f85",
   "metadata": {},
   "outputs": [],
   "source": [
    "def find_rings(molecular_graph):\n",
    "    \"\"\"Find all rings in a molecular graph\"\"\"\n",
    "    rings = []\n",
    "    for node in list(molecular_graph.nodes()):\n",
    "        ringset = get_ring(molecular_graph, node)\n",
    "        if ringset and ringset not in rings:\n",
    "            rings.append(ringset)\n",
    "    \n",
    "    return rings\n",
    "\n",
    "def get_ring(molecular_graph, root):\n",
    "    \"\"\"Find a ringset in a molecular graph starting from a root node. The output depends on the root node\"\"\"\n",
    "    ringset = []\n",
    "    queue = collections.deque([root, root])\n",
    "    path = [None] * (len(molecular_graph.nodes())) #Initialize paths to null\n",
    "    path[root] = [root]\n",
    "\n",
    "    while queue:\n",
    "\n",
    "        # Dequeue a node from front of queue\n",
    "        front_node = queue.popleft()\n",
    "        source = queue.popleft()\n",
    "\n",
    "        for neighbor in molecular_graph.adj[front_node]:\n",
    "\n",
    "            if neighbor == source:\n",
    "                continue\n",
    "\n",
    "            if path[neighbor] is None:\n",
    "                path[neighbor] = path[front_node] + [neighbor]\n",
    "                path[neighbor].sort()\n",
    "                queue.append(neighbor)\n",
    "                queue.append(front_node)\n",
    "\n",
    "            elif path[neighbor] is not None:\n",
    "                # Compute intersection\n",
    "                intersect = intersection(path[front_node], path[neighbor])\n",
    "                if len(intersect) == 1: # If the intersection is a singleton there is a valid ring closure\n",
    "                    ringset = Union(path[front_node], path[neighbor])\n",
    "                    break\n",
    "\n",
    "        if ringset:\n",
    "            break\n",
    "    \n",
    "    return ringset\n",
    "    \n",
    "def intersection(lst1, lst2):\n",
    "    \"\"\"Compute the intersection of two lists\"\"\"\n",
    "    return list(set(lst1) & set(lst2))\n",
    "\n",
    "def Union(lst1, lst2):\n",
    "    \"\"\"Union of two lists\"\"\"\n",
    "    final_list = list(set(lst1) | set(lst2))\n",
    "    return final_list"
   ]
  },
  {
   "cell_type": "code",
   "execution_count": 10,
   "id": "a51d3281-32ed-43ce-a01d-c0dbdb788546",
   "metadata": {},
   "outputs": [
    {
     "name": "stdout",
     "output_type": "stream",
     "text": [
      "Ring 0: [0, 1, 2, 4, 5]\n",
      "Ring 1: [16, 10, 11, 13, 14, 15]\n",
      "Ring 2: [18, 19, 20, 21, 23]\n"
     ]
    }
   ],
   "source": [
    "rings = find_rings(mol_graph)\n",
    "for i, ring in enumerate(rings):\n",
    "    print(f\"Ring {i}: {ring}\")"
   ]
  }
 ],
 "metadata": {
  "kernelspec": {
   "display_name": "Python 3",
   "language": "python",
   "name": "python3"
  },
  "language_info": {
   "codemirror_mode": {
    "name": "ipython",
    "version": 3
   },
   "file_extension": ".py",
   "mimetype": "text/x-python",
   "name": "python",
   "nbconvert_exporter": "python",
   "pygments_lexer": "ipython3",
   "version": "3.7.10"
  }
 },
 "nbformat": 4,
 "nbformat_minor": 5
}
